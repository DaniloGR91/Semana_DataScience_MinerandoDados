{
 "cells": [
  {
   "cell_type": "markdown",
   "metadata": {},
   "source": [
    "# Visualização e estudo dos dados\n",
    "## Bibliotecas necessárias"
   ]
  },
  {
   "cell_type": "code",
   "execution_count": 1,
   "metadata": {},
   "outputs": [],
   "source": [
    "import pandas as pd\n",
    "import numpy as np\n",
    "import seaborn as sns\n",
    "import plotly.express as px\n",
    "import plotly.figure_factory as pff\n",
    "import plotly.graph_objects as pgo\n",
    "import matplotlib.pyplot as plt\n",
    "from sklearn.datasets import load_boston\n",
    "from statsmodels.stats import outliers_influence as outinf"
   ]
  },
  {
   "cell_type": "markdown",
   "metadata": {},
   "source": [
    "O dado foi obtido da biblioteca sklearn.datasets e conta com o dataset, um array com nome das colunas, o target e uma descrição dos parâmetros."
   ]
  },
  {
   "cell_type": "code",
   "execution_count": 3,
   "metadata": {},
   "outputs": [
    {
     "output_type": "stream",
     "name": "stdout",
     "text": ".. _boston_dataset:\n\nBoston house prices dataset\n---------------------------\n\n**Data Set Characteristics:**  \n\n    :Number of Instances: 506 \n\n    :Number of Attributes: 13 numeric/categorical predictive. Median Value (attribute 14) is usually the target.\n\n    :Attribute Information (in order):\n        - CRIM     per capita crime rate by town\n        - ZN       proportion of residential land zoned for lots over 25,000 sq.ft.\n        - INDUS    proportion of non-retail business acres per town\n        - CHAS     Charles River dummy variable (= 1 if tract bounds river; 0 otherwise)\n        - NOX      nitric oxides concentration (parts per 10 million)\n        - RM       average number of rooms per dwelling\n        - AGE      proportion of owner-occupied units built prior to 1940\n        - DIS      weighted distances to five Boston employment centres\n        - RAD      index of accessibility to radial highways\n        - TAX      full-value property-tax rate per $10,000\n        - PTRATIO  pupil-teacher ratio by town\n        - B        1000(Bk - 0.63)^2 where Bk is the proportion of blacks by town\n        - LSTAT    % lower status of the population\n        - MEDV     Median value of owner-occupied homes in $1000's\n\n    :Missing Attribute Values: None\n\n    :Creator: Harrison, D. and Rubinfeld, D.L.\n\nThis is a copy of UCI ML housing dataset.\nhttps://archive.ics.uci.edu/ml/machine-learning-databases/housing/\n\n\nThis dataset was taken from the StatLib library which is maintained at Carnegie Mellon University.\n\nThe Boston house-price data of Harrison, D. and Rubinfeld, D.L. 'Hedonic\nprices and the demand for clean air', J. Environ. Economics & Management,\nvol.5, 81-102, 1978.   Used in Belsley, Kuh & Welsch, 'Regression diagnostics\n...', Wiley, 1980.   N.B. Various transformations are used in the table on\npages 244-261 of the latter.\n\nThe Boston house-price data has been used in many machine learning papers that address regression\nproblems.   \n     \n.. topic:: References\n\n   - Belsley, Kuh & Welsch, 'Regression diagnostics: Identifying Influential Data and Sources of Collinearity', Wiley, 1980. 244-261.\n   - Quinlan,R. (1993). Combining Instance-Based and Model-Based Learning. In Proceedings on the Tenth International Conference of Machine Learning, 236-243, University of Massachusetts, Amherst. Morgan Kaufmann.\n\n"
    }
   ],
   "source": [
    "boston = load_boston()\n",
    "print(boston.DESCR)"
   ]
  },
  {
   "cell_type": "code",
   "execution_count": 4,
   "metadata": {},
   "outputs": [
    {
     "output_type": "execute_result",
     "data": {
      "text/plain": "      CRIM    ZN  INDUS  CHAS    NOX     RM   AGE     DIS  RAD    TAX  \\\n0  0.00632  18.0   2.31   0.0  0.538  6.575  65.2  4.0900  1.0  296.0   \n1  0.02731   0.0   7.07   0.0  0.469  6.421  78.9  4.9671  2.0  242.0   \n2  0.02729   0.0   7.07   0.0  0.469  7.185  61.1  4.9671  2.0  242.0   \n3  0.03237   0.0   2.18   0.0  0.458  6.998  45.8  6.0622  3.0  222.0   \n4  0.06905   0.0   2.18   0.0  0.458  7.147  54.2  6.0622  3.0  222.0   \n\n   PTRATIO       B  LSTAT  \n0     15.3  396.90   4.98  \n1     17.8  396.90   9.14  \n2     17.8  392.83   4.03  \n3     18.7  394.63   2.94  \n4     18.7  396.90   5.33  ",
      "text/html": "<div>\n<style scoped>\n    .dataframe tbody tr th:only-of-type {\n        vertical-align: middle;\n    }\n\n    .dataframe tbody tr th {\n        vertical-align: top;\n    }\n\n    .dataframe thead th {\n        text-align: right;\n    }\n</style>\n<table border=\"1\" class=\"dataframe\">\n  <thead>\n    <tr style=\"text-align: right;\">\n      <th></th>\n      <th>CRIM</th>\n      <th>ZN</th>\n      <th>INDUS</th>\n      <th>CHAS</th>\n      <th>NOX</th>\n      <th>RM</th>\n      <th>AGE</th>\n      <th>DIS</th>\n      <th>RAD</th>\n      <th>TAX</th>\n      <th>PTRATIO</th>\n      <th>B</th>\n      <th>LSTAT</th>\n    </tr>\n  </thead>\n  <tbody>\n    <tr>\n      <th>0</th>\n      <td>0.00632</td>\n      <td>18.0</td>\n      <td>2.31</td>\n      <td>0.0</td>\n      <td>0.538</td>\n      <td>6.575</td>\n      <td>65.2</td>\n      <td>4.0900</td>\n      <td>1.0</td>\n      <td>296.0</td>\n      <td>15.3</td>\n      <td>396.90</td>\n      <td>4.98</td>\n    </tr>\n    <tr>\n      <th>1</th>\n      <td>0.02731</td>\n      <td>0.0</td>\n      <td>7.07</td>\n      <td>0.0</td>\n      <td>0.469</td>\n      <td>6.421</td>\n      <td>78.9</td>\n      <td>4.9671</td>\n      <td>2.0</td>\n      <td>242.0</td>\n      <td>17.8</td>\n      <td>396.90</td>\n      <td>9.14</td>\n    </tr>\n    <tr>\n      <th>2</th>\n      <td>0.02729</td>\n      <td>0.0</td>\n      <td>7.07</td>\n      <td>0.0</td>\n      <td>0.469</td>\n      <td>7.185</td>\n      <td>61.1</td>\n      <td>4.9671</td>\n      <td>2.0</td>\n      <td>242.0</td>\n      <td>17.8</td>\n      <td>392.83</td>\n      <td>4.03</td>\n    </tr>\n    <tr>\n      <th>3</th>\n      <td>0.03237</td>\n      <td>0.0</td>\n      <td>2.18</td>\n      <td>0.0</td>\n      <td>0.458</td>\n      <td>6.998</td>\n      <td>45.8</td>\n      <td>6.0622</td>\n      <td>3.0</td>\n      <td>222.0</td>\n      <td>18.7</td>\n      <td>394.63</td>\n      <td>2.94</td>\n    </tr>\n    <tr>\n      <th>4</th>\n      <td>0.06905</td>\n      <td>0.0</td>\n      <td>2.18</td>\n      <td>0.0</td>\n      <td>0.458</td>\n      <td>7.147</td>\n      <td>54.2</td>\n      <td>6.0622</td>\n      <td>3.0</td>\n      <td>222.0</td>\n      <td>18.7</td>\n      <td>396.90</td>\n      <td>5.33</td>\n    </tr>\n  </tbody>\n</table>\n</div>"
     },
     "metadata": {},
     "execution_count": 4
    }
   ],
   "source": [
    "# Incorporação dos dados em um dataframe pandas\n",
    "data = pd.DataFrame(boston.data, columns = boston.feature_names)\n",
    "data.head()"
   ]
  },
  {
   "cell_type": "code",
   "execution_count": 5,
   "metadata": {},
   "outputs": [],
   "source": [
    "# Adição dos dados MEDV (target) no dataframe\n",
    "data['MEDV'] = boston.target"
   ]
  },
  {
   "cell_type": "code",
   "execution_count": 6,
   "metadata": {},
   "outputs": [
    {
     "output_type": "execute_result",
     "data": {
      "text/plain": "      CRIM    ZN  INDUS  CHAS    NOX     RM   AGE     DIS  RAD    TAX  \\\n0  0.00632  18.0   2.31   0.0  0.538  6.575  65.2  4.0900  1.0  296.0   \n1  0.02731   0.0   7.07   0.0  0.469  6.421  78.9  4.9671  2.0  242.0   \n2  0.02729   0.0   7.07   0.0  0.469  7.185  61.1  4.9671  2.0  242.0   \n3  0.03237   0.0   2.18   0.0  0.458  6.998  45.8  6.0622  3.0  222.0   \n4  0.06905   0.0   2.18   0.0  0.458  7.147  54.2  6.0622  3.0  222.0   \n\n   PTRATIO       B  LSTAT  MEDV  \n0     15.3  396.90   4.98  24.0  \n1     17.8  396.90   9.14  21.6  \n2     17.8  392.83   4.03  34.7  \n3     18.7  394.63   2.94  33.4  \n4     18.7  396.90   5.33  36.2  ",
      "text/html": "<div>\n<style scoped>\n    .dataframe tbody tr th:only-of-type {\n        vertical-align: middle;\n    }\n\n    .dataframe tbody tr th {\n        vertical-align: top;\n    }\n\n    .dataframe thead th {\n        text-align: right;\n    }\n</style>\n<table border=\"1\" class=\"dataframe\">\n  <thead>\n    <tr style=\"text-align: right;\">\n      <th></th>\n      <th>CRIM</th>\n      <th>ZN</th>\n      <th>INDUS</th>\n      <th>CHAS</th>\n      <th>NOX</th>\n      <th>RM</th>\n      <th>AGE</th>\n      <th>DIS</th>\n      <th>RAD</th>\n      <th>TAX</th>\n      <th>PTRATIO</th>\n      <th>B</th>\n      <th>LSTAT</th>\n      <th>MEDV</th>\n    </tr>\n  </thead>\n  <tbody>\n    <tr>\n      <th>0</th>\n      <td>0.00632</td>\n      <td>18.0</td>\n      <td>2.31</td>\n      <td>0.0</td>\n      <td>0.538</td>\n      <td>6.575</td>\n      <td>65.2</td>\n      <td>4.0900</td>\n      <td>1.0</td>\n      <td>296.0</td>\n      <td>15.3</td>\n      <td>396.90</td>\n      <td>4.98</td>\n      <td>24.0</td>\n    </tr>\n    <tr>\n      <th>1</th>\n      <td>0.02731</td>\n      <td>0.0</td>\n      <td>7.07</td>\n      <td>0.0</td>\n      <td>0.469</td>\n      <td>6.421</td>\n      <td>78.9</td>\n      <td>4.9671</td>\n      <td>2.0</td>\n      <td>242.0</td>\n      <td>17.8</td>\n      <td>396.90</td>\n      <td>9.14</td>\n      <td>21.6</td>\n    </tr>\n    <tr>\n      <th>2</th>\n      <td>0.02729</td>\n      <td>0.0</td>\n      <td>7.07</td>\n      <td>0.0</td>\n      <td>0.469</td>\n      <td>7.185</td>\n      <td>61.1</td>\n      <td>4.9671</td>\n      <td>2.0</td>\n      <td>242.0</td>\n      <td>17.8</td>\n      <td>392.83</td>\n      <td>4.03</td>\n      <td>34.7</td>\n    </tr>\n    <tr>\n      <th>3</th>\n      <td>0.03237</td>\n      <td>0.0</td>\n      <td>2.18</td>\n      <td>0.0</td>\n      <td>0.458</td>\n      <td>6.998</td>\n      <td>45.8</td>\n      <td>6.0622</td>\n      <td>3.0</td>\n      <td>222.0</td>\n      <td>18.7</td>\n      <td>394.63</td>\n      <td>2.94</td>\n      <td>33.4</td>\n    </tr>\n    <tr>\n      <th>4</th>\n      <td>0.06905</td>\n      <td>0.0</td>\n      <td>2.18</td>\n      <td>0.0</td>\n      <td>0.458</td>\n      <td>7.147</td>\n      <td>54.2</td>\n      <td>6.0622</td>\n      <td>3.0</td>\n      <td>222.0</td>\n      <td>18.7</td>\n      <td>396.90</td>\n      <td>5.33</td>\n      <td>36.2</td>\n    </tr>\n  </tbody>\n</table>\n</div>"
     },
     "metadata": {},
     "execution_count": 6
    }
   ],
   "source": [
    "data.head()"
   ]
  },
  {
   "cell_type": "markdown",
   "metadata": {},
   "source": [
    "## Análise dos dados\n",
    "Os dados já foram inseridos em um DataFrame Pandas, e agora devem ser analisados.\n",
    "Inicialmente será feita análise descritiva, bem como análise do dataframe em busca de valores 0 e valores NaN."
   ]
  },
  {
   "cell_type": "code",
   "execution_count": 7,
   "metadata": {},
   "outputs": [
    {
     "output_type": "execute_result",
     "data": {
      "text/plain": "             CRIM          ZN       INDUS        CHAS         NOX          RM  \\\ncount  506.000000  506.000000  506.000000  506.000000  506.000000  506.000000   \nmean     3.613524   11.363636   11.136779    0.069170    0.554695    6.284634   \nstd      8.601545   23.322453    6.860353    0.253994    0.115878    0.702617   \nmin      0.006320    0.000000    0.460000    0.000000    0.385000    3.561000   \n25%      0.082045    0.000000    5.190000    0.000000    0.449000    5.885500   \n50%      0.256510    0.000000    9.690000    0.000000    0.538000    6.208500   \n75%      3.677083   12.500000   18.100000    0.000000    0.624000    6.623500   \nmax     88.976200  100.000000   27.740000    1.000000    0.871000    8.780000   \n\n              AGE         DIS         RAD         TAX     PTRATIO           B  \\\ncount  506.000000  506.000000  506.000000  506.000000  506.000000  506.000000   \nmean    68.574901    3.795043    9.549407  408.237154   18.455534  356.674032   \nstd     28.148861    2.105710    8.707259  168.537116    2.164946   91.294864   \nmin      2.900000    1.129600    1.000000  187.000000   12.600000    0.320000   \n25%     45.025000    2.100175    4.000000  279.000000   17.400000  375.377500   \n50%     77.500000    3.207450    5.000000  330.000000   19.050000  391.440000   \n75%     94.075000    5.188425   24.000000  666.000000   20.200000  396.225000   \nmax    100.000000   12.126500   24.000000  711.000000   22.000000  396.900000   \n\n            LSTAT        MEDV  \ncount  506.000000  506.000000  \nmean    12.653063   22.532806  \nstd      7.141062    9.197104  \nmin      1.730000    5.000000  \n25%      6.950000   17.025000  \n50%     11.360000   21.200000  \n75%     16.955000   25.000000  \nmax     37.970000   50.000000  ",
      "text/html": "<div>\n<style scoped>\n    .dataframe tbody tr th:only-of-type {\n        vertical-align: middle;\n    }\n\n    .dataframe tbody tr th {\n        vertical-align: top;\n    }\n\n    .dataframe thead th {\n        text-align: right;\n    }\n</style>\n<table border=\"1\" class=\"dataframe\">\n  <thead>\n    <tr style=\"text-align: right;\">\n      <th></th>\n      <th>CRIM</th>\n      <th>ZN</th>\n      <th>INDUS</th>\n      <th>CHAS</th>\n      <th>NOX</th>\n      <th>RM</th>\n      <th>AGE</th>\n      <th>DIS</th>\n      <th>RAD</th>\n      <th>TAX</th>\n      <th>PTRATIO</th>\n      <th>B</th>\n      <th>LSTAT</th>\n      <th>MEDV</th>\n    </tr>\n  </thead>\n  <tbody>\n    <tr>\n      <th>count</th>\n      <td>506.000000</td>\n      <td>506.000000</td>\n      <td>506.000000</td>\n      <td>506.000000</td>\n      <td>506.000000</td>\n      <td>506.000000</td>\n      <td>506.000000</td>\n      <td>506.000000</td>\n      <td>506.000000</td>\n      <td>506.000000</td>\n      <td>506.000000</td>\n      <td>506.000000</td>\n      <td>506.000000</td>\n      <td>506.000000</td>\n    </tr>\n    <tr>\n      <th>mean</th>\n      <td>3.613524</td>\n      <td>11.363636</td>\n      <td>11.136779</td>\n      <td>0.069170</td>\n      <td>0.554695</td>\n      <td>6.284634</td>\n      <td>68.574901</td>\n      <td>3.795043</td>\n      <td>9.549407</td>\n      <td>408.237154</td>\n      <td>18.455534</td>\n      <td>356.674032</td>\n      <td>12.653063</td>\n      <td>22.532806</td>\n    </tr>\n    <tr>\n      <th>std</th>\n      <td>8.601545</td>\n      <td>23.322453</td>\n      <td>6.860353</td>\n      <td>0.253994</td>\n      <td>0.115878</td>\n      <td>0.702617</td>\n      <td>28.148861</td>\n      <td>2.105710</td>\n      <td>8.707259</td>\n      <td>168.537116</td>\n      <td>2.164946</td>\n      <td>91.294864</td>\n      <td>7.141062</td>\n      <td>9.197104</td>\n    </tr>\n    <tr>\n      <th>min</th>\n      <td>0.006320</td>\n      <td>0.000000</td>\n      <td>0.460000</td>\n      <td>0.000000</td>\n      <td>0.385000</td>\n      <td>3.561000</td>\n      <td>2.900000</td>\n      <td>1.129600</td>\n      <td>1.000000</td>\n      <td>187.000000</td>\n      <td>12.600000</td>\n      <td>0.320000</td>\n      <td>1.730000</td>\n      <td>5.000000</td>\n    </tr>\n    <tr>\n      <th>25%</th>\n      <td>0.082045</td>\n      <td>0.000000</td>\n      <td>5.190000</td>\n      <td>0.000000</td>\n      <td>0.449000</td>\n      <td>5.885500</td>\n      <td>45.025000</td>\n      <td>2.100175</td>\n      <td>4.000000</td>\n      <td>279.000000</td>\n      <td>17.400000</td>\n      <td>375.377500</td>\n      <td>6.950000</td>\n      <td>17.025000</td>\n    </tr>\n    <tr>\n      <th>50%</th>\n      <td>0.256510</td>\n      <td>0.000000</td>\n      <td>9.690000</td>\n      <td>0.000000</td>\n      <td>0.538000</td>\n      <td>6.208500</td>\n      <td>77.500000</td>\n      <td>3.207450</td>\n      <td>5.000000</td>\n      <td>330.000000</td>\n      <td>19.050000</td>\n      <td>391.440000</td>\n      <td>11.360000</td>\n      <td>21.200000</td>\n    </tr>\n    <tr>\n      <th>75%</th>\n      <td>3.677083</td>\n      <td>12.500000</td>\n      <td>18.100000</td>\n      <td>0.000000</td>\n      <td>0.624000</td>\n      <td>6.623500</td>\n      <td>94.075000</td>\n      <td>5.188425</td>\n      <td>24.000000</td>\n      <td>666.000000</td>\n      <td>20.200000</td>\n      <td>396.225000</td>\n      <td>16.955000</td>\n      <td>25.000000</td>\n    </tr>\n    <tr>\n      <th>max</th>\n      <td>88.976200</td>\n      <td>100.000000</td>\n      <td>27.740000</td>\n      <td>1.000000</td>\n      <td>0.871000</td>\n      <td>8.780000</td>\n      <td>100.000000</td>\n      <td>12.126500</td>\n      <td>24.000000</td>\n      <td>711.000000</td>\n      <td>22.000000</td>\n      <td>396.900000</td>\n      <td>37.970000</td>\n      <td>50.000000</td>\n    </tr>\n  </tbody>\n</table>\n</div>"
     },
     "metadata": {},
     "execution_count": 7
    }
   ],
   "source": [
    "data.describe()"
   ]
  },
  {
   "cell_type": "code",
   "execution_count": 8,
   "metadata": {},
   "outputs": [
    {
     "output_type": "execute_result",
     "data": {
      "text/plain": "Index(['CRIM', 'ZN', 'INDUS', 'CHAS', 'NOX', 'RM', 'AGE', 'DIS', 'RAD', 'TAX',\n       'PTRATIO', 'B', 'LSTAT', 'MEDV'],\n      dtype='object')"
     },
     "metadata": {},
     "execution_count": 8
    }
   ],
   "source": [
    "data.columns"
   ]
  },
  {
   "cell_type": "code",
   "execution_count": 9,
   "metadata": {},
   "outputs": [
    {
     "output_type": "stream",
     "name": "stdout",
     "text": "isin0 ZN = 372\nisin0 CHAS = 471\n"
    }
   ],
   "source": [
    "for x in data.columns:\n",
    "    if data[x].isin([0]).sum() > 0:\n",
    "        print(f'isin0 {x} = {data[x].isin([0]).sum()}')\n",
    "    if data[x].isna().sum() > 0:\n",
    "        print(f'isna {x} = {data[x].isna().sum()}')"
   ]
  },
  {
   "cell_type": "markdown",
   "metadata": {},
   "source": [
    "- Nenhuma variável tem missing value;\n",
    "- A variável CHAS é uma variável categórica binomial (0 ou 1), portanto é normal ter muitoz valores 0;\n",
    "- A variável ZN é quantitativa contínua, e a quantidade de 0 pode atrapalhar o modelo de machine learning, por isso será excluida."
   ]
  },
  {
   "cell_type": "code",
   "execution_count": 10,
   "metadata": {},
   "outputs": [
    {
     "output_type": "execute_result",
     "data": {
      "text/plain": "      CRIM  INDUS  CHAS    NOX     RM   AGE     DIS  RAD    TAX  PTRATIO  \\\n0  0.00632   2.31   0.0  0.538  6.575  65.2  4.0900  1.0  296.0     15.3   \n1  0.02731   7.07   0.0  0.469  6.421  78.9  4.9671  2.0  242.0     17.8   \n2  0.02729   7.07   0.0  0.469  7.185  61.1  4.9671  2.0  242.0     17.8   \n3  0.03237   2.18   0.0  0.458  6.998  45.8  6.0622  3.0  222.0     18.7   \n4  0.06905   2.18   0.0  0.458  7.147  54.2  6.0622  3.0  222.0     18.7   \n\n        B  LSTAT  MEDV  \n0  396.90   4.98  24.0  \n1  396.90   9.14  21.6  \n2  392.83   4.03  34.7  \n3  394.63   2.94  33.4  \n4  396.90   5.33  36.2  ",
      "text/html": "<div>\n<style scoped>\n    .dataframe tbody tr th:only-of-type {\n        vertical-align: middle;\n    }\n\n    .dataframe tbody tr th {\n        vertical-align: top;\n    }\n\n    .dataframe thead th {\n        text-align: right;\n    }\n</style>\n<table border=\"1\" class=\"dataframe\">\n  <thead>\n    <tr style=\"text-align: right;\">\n      <th></th>\n      <th>CRIM</th>\n      <th>INDUS</th>\n      <th>CHAS</th>\n      <th>NOX</th>\n      <th>RM</th>\n      <th>AGE</th>\n      <th>DIS</th>\n      <th>RAD</th>\n      <th>TAX</th>\n      <th>PTRATIO</th>\n      <th>B</th>\n      <th>LSTAT</th>\n      <th>MEDV</th>\n    </tr>\n  </thead>\n  <tbody>\n    <tr>\n      <th>0</th>\n      <td>0.00632</td>\n      <td>2.31</td>\n      <td>0.0</td>\n      <td>0.538</td>\n      <td>6.575</td>\n      <td>65.2</td>\n      <td>4.0900</td>\n      <td>1.0</td>\n      <td>296.0</td>\n      <td>15.3</td>\n      <td>396.90</td>\n      <td>4.98</td>\n      <td>24.0</td>\n    </tr>\n    <tr>\n      <th>1</th>\n      <td>0.02731</td>\n      <td>7.07</td>\n      <td>0.0</td>\n      <td>0.469</td>\n      <td>6.421</td>\n      <td>78.9</td>\n      <td>4.9671</td>\n      <td>2.0</td>\n      <td>242.0</td>\n      <td>17.8</td>\n      <td>396.90</td>\n      <td>9.14</td>\n      <td>21.6</td>\n    </tr>\n    <tr>\n      <th>2</th>\n      <td>0.02729</td>\n      <td>7.07</td>\n      <td>0.0</td>\n      <td>0.469</td>\n      <td>7.185</td>\n      <td>61.1</td>\n      <td>4.9671</td>\n      <td>2.0</td>\n      <td>242.0</td>\n      <td>17.8</td>\n      <td>392.83</td>\n      <td>4.03</td>\n      <td>34.7</td>\n    </tr>\n    <tr>\n      <th>3</th>\n      <td>0.03237</td>\n      <td>2.18</td>\n      <td>0.0</td>\n      <td>0.458</td>\n      <td>6.998</td>\n      <td>45.8</td>\n      <td>6.0622</td>\n      <td>3.0</td>\n      <td>222.0</td>\n      <td>18.7</td>\n      <td>394.63</td>\n      <td>2.94</td>\n      <td>33.4</td>\n    </tr>\n    <tr>\n      <th>4</th>\n      <td>0.06905</td>\n      <td>2.18</td>\n      <td>0.0</td>\n      <td>0.458</td>\n      <td>7.147</td>\n      <td>54.2</td>\n      <td>6.0622</td>\n      <td>3.0</td>\n      <td>222.0</td>\n      <td>18.7</td>\n      <td>396.90</td>\n      <td>5.33</td>\n      <td>36.2</td>\n    </tr>\n  </tbody>\n</table>\n</div>"
     },
     "metadata": {},
     "execution_count": 10
    }
   ],
   "source": [
    "# Eliminando ZN\n",
    "newcolumns = []\n",
    "for x in data.columns:\n",
    "    if x != 'ZN':\n",
    "        newcolumns.append(x)\n",
    "data = data[newcolumns]\n",
    "data.head()"
   ]
  },
  {
   "cell_type": "markdown",
   "metadata": {},
   "source": [
    "### Análise da variável alvo\n",
    "Tendo em vista que já excluimos as interferencias causadas por missing values ou por uma quantidade excessiva de zeros, vamos agora estudar nossa variável alvo MEDV."
   ]
  },
  {
   "cell_type": "code",
   "execution_count": 11,
   "metadata": {},
   "outputs": [
    {
     "output_type": "execute_result",
     "data": {
      "text/plain": "count    506.000000\nmean      22.532806\nstd        9.197104\nmin        5.000000\n25%       17.025000\n50%       21.200000\n75%       25.000000\nmax       50.000000\nName: MEDV, dtype: float64"
     },
     "metadata": {},
     "execution_count": 11
    }
   ],
   "source": [
    "data['MEDV'].describe()"
   ]
  },
  {
   "cell_type": "code",
   "execution_count": 12,
   "metadata": {},
   "outputs": [
    {
     "output_type": "display_data",
     "data": {
      "application/vnd.plotly.v1+json": {
       "config": {
        "plotlyServerURL": "https://plot.ly"
       },
       "data": [
        {
         "alignmentgroup": "True",
         "bingroup": "x",
         "hovertemplate": "MEDV=%{x}<br>count=%{y}<extra></extra>",
         "legendgroup": "",
         "marker": {
          "color": "#636efa"
         },
         "name": "",
         "offsetgroup": "",
         "orientation": "v",
         "showlegend": false,
         "type": "histogram",
         "x": [
          24,
          21.6,
          34.7,
          33.4,
          36.2,
          28.7,
          22.9,
          27.1,
          16.5,
          18.9,
          15,
          18.9,
          21.7,
          20.4,
          18.2,
          19.9,
          23.1,
          17.5,
          20.2,
          18.2,
          13.6,
          19.6,
          15.2,
          14.5,
          15.6,
          13.9,
          16.6,
          14.8,
          18.4,
          21,
          12.7,
          14.5,
          13.2,
          13.1,
          13.5,
          18.9,
          20,
          21,
          24.7,
          30.8,
          34.9,
          26.6,
          25.3,
          24.7,
          21.2,
          19.3,
          20,
          16.6,
          14.4,
          19.4,
          19.7,
          20.5,
          25,
          23.4,
          18.9,
          35.4,
          24.7,
          31.6,
          23.3,
          19.6,
          18.7,
          16,
          22.2,
          25,
          33,
          23.5,
          19.4,
          22,
          17.4,
          20.9,
          24.2,
          21.7,
          22.8,
          23.4,
          24.1,
          21.4,
          20,
          20.8,
          21.2,
          20.3,
          28,
          23.9,
          24.8,
          22.9,
          23.9,
          26.6,
          22.5,
          22.2,
          23.6,
          28.7,
          22.6,
          22,
          22.9,
          25,
          20.6,
          28.4,
          21.4,
          38.7,
          43.8,
          33.2,
          27.5,
          26.5,
          18.6,
          19.3,
          20.1,
          19.5,
          19.5,
          20.4,
          19.8,
          19.4,
          21.7,
          22.8,
          18.8,
          18.7,
          18.5,
          18.3,
          21.2,
          19.2,
          20.4,
          19.3,
          22,
          20.3,
          20.5,
          17.3,
          18.8,
          21.4,
          15.7,
          16.2,
          18,
          14.3,
          19.2,
          19.6,
          23,
          18.4,
          15.6,
          18.1,
          17.4,
          17.1,
          13.3,
          17.8,
          14,
          14.4,
          13.4,
          15.6,
          11.8,
          13.8,
          15.6,
          14.6,
          17.8,
          15.4,
          21.5,
          19.6,
          15.3,
          19.4,
          17,
          15.6,
          13.1,
          41.3,
          24.3,
          23.3,
          27,
          50,
          50,
          50,
          22.7,
          25,
          50,
          23.8,
          23.8,
          22.3,
          17.4,
          19.1,
          23.1,
          23.6,
          22.6,
          29.4,
          23.2,
          24.6,
          29.9,
          37.2,
          39.8,
          36.2,
          37.9,
          32.5,
          26.4,
          29.6,
          50,
          32,
          29.8,
          34.9,
          37,
          30.5,
          36.4,
          31.1,
          29.1,
          50,
          33.3,
          30.3,
          34.6,
          34.9,
          32.9,
          24.1,
          42.3,
          48.5,
          50,
          22.6,
          24.4,
          22.5,
          24.4,
          20,
          21.7,
          19.3,
          22.4,
          28.1,
          23.7,
          25,
          23.3,
          28.7,
          21.5,
          23,
          26.7,
          21.7,
          27.5,
          30.1,
          44.8,
          50,
          37.6,
          31.6,
          46.7,
          31.5,
          24.3,
          31.7,
          41.7,
          48.3,
          29,
          24,
          25.1,
          31.5,
          23.7,
          23.3,
          22,
          20.1,
          22.2,
          23.7,
          17.6,
          18.5,
          24.3,
          20.5,
          24.5,
          26.2,
          24.4,
          24.8,
          29.6,
          42.8,
          21.9,
          20.9,
          44,
          50,
          36,
          30.1,
          33.8,
          43.1,
          48.8,
          31,
          36.5,
          22.8,
          30.7,
          50,
          43.5,
          20.7,
          21.1,
          25.2,
          24.4,
          35.2,
          32.4,
          32,
          33.2,
          33.1,
          29.1,
          35.1,
          45.4,
          35.4,
          46,
          50,
          32.2,
          22,
          20.1,
          23.2,
          22.3,
          24.8,
          28.5,
          37.3,
          27.9,
          23.9,
          21.7,
          28.6,
          27.1,
          20.3,
          22.5,
          29,
          24.8,
          22,
          26.4,
          33.1,
          36.1,
          28.4,
          33.4,
          28.2,
          22.8,
          20.3,
          16.1,
          22.1,
          19.4,
          21.6,
          23.8,
          16.2,
          17.8,
          19.8,
          23.1,
          21,
          23.8,
          23.1,
          20.4,
          18.5,
          25,
          24.6,
          23,
          22.2,
          19.3,
          22.6,
          19.8,
          17.1,
          19.4,
          22.2,
          20.7,
          21.1,
          19.5,
          18.5,
          20.6,
          19,
          18.7,
          32.7,
          16.5,
          23.9,
          31.2,
          17.5,
          17.2,
          23.1,
          24.5,
          26.6,
          22.9,
          24.1,
          18.6,
          30.1,
          18.2,
          20.6,
          17.8,
          21.7,
          22.7,
          22.6,
          25,
          19.9,
          20.8,
          16.8,
          21.9,
          27.5,
          21.9,
          23.1,
          50,
          50,
          50,
          50,
          50,
          13.8,
          13.8,
          15,
          13.9,
          13.3,
          13.1,
          10.2,
          10.4,
          10.9,
          11.3,
          12.3,
          8.8,
          7.2,
          10.5,
          7.4,
          10.2,
          11.5,
          15.1,
          23.2,
          9.7,
          13.8,
          12.7,
          13.1,
          12.5,
          8.5,
          5,
          6.3,
          5.6,
          7.2,
          12.1,
          8.3,
          8.5,
          5,
          11.9,
          27.9,
          17.2,
          27.5,
          15,
          17.2,
          17.9,
          16.3,
          7,
          7.2,
          7.5,
          10.4,
          8.8,
          8.4,
          16.7,
          14.2,
          20.8,
          13.4,
          11.7,
          8.3,
          10.2,
          10.9,
          11,
          9.5,
          14.5,
          14.1,
          16.1,
          14.3,
          11.7,
          13.4,
          9.6,
          8.7,
          8.4,
          12.8,
          10.5,
          17.1,
          18.4,
          15.4,
          10.8,
          11.8,
          14.9,
          12.6,
          14.1,
          13,
          13.4,
          15.2,
          16.1,
          17.8,
          14.9,
          14.1,
          12.7,
          13.5,
          14.9,
          20,
          16.4,
          17.7,
          19.5,
          20.2,
          21.4,
          19.9,
          19,
          19.1,
          19.1,
          20.1,
          19.9,
          19.6,
          23.2,
          29.8,
          13.8,
          13.3,
          16.7,
          12,
          14.6,
          21.4,
          23,
          23.7,
          25,
          21.8,
          20.6,
          21.2,
          19.1,
          20.6,
          15.2,
          7,
          8.1,
          13.6,
          20.1,
          21.8,
          24.5,
          23.1,
          19.7,
          18.3,
          21.2,
          17.5,
          16.8,
          22.4,
          20.6,
          23.9,
          22,
          11.9
         ],
         "xaxis": "x",
         "yaxis": "y"
        }
       ],
       "layout": {
        "barmode": "relative",
        "legend": {
         "tracegroupgap": 0
        },
        "margin": {
         "t": 60
        },
        "template": {
         "data": {
          "bar": [
           {
            "error_x": {
             "color": "#2a3f5f"
            },
            "error_y": {
             "color": "#2a3f5f"
            },
            "marker": {
             "line": {
              "color": "#E5ECF6",
              "width": 0.5
             }
            },
            "type": "bar"
           }
          ],
          "barpolar": [
           {
            "marker": {
             "line": {
              "color": "#E5ECF6",
              "width": 0.5
             }
            },
            "type": "barpolar"
           }
          ],
          "carpet": [
           {
            "aaxis": {
             "endlinecolor": "#2a3f5f",
             "gridcolor": "white",
             "linecolor": "white",
             "minorgridcolor": "white",
             "startlinecolor": "#2a3f5f"
            },
            "baxis": {
             "endlinecolor": "#2a3f5f",
             "gridcolor": "white",
             "linecolor": "white",
             "minorgridcolor": "white",
             "startlinecolor": "#2a3f5f"
            },
            "type": "carpet"
           }
          ],
          "choropleth": [
           {
            "colorbar": {
             "outlinewidth": 0,
             "ticks": ""
            },
            "type": "choropleth"
           }
          ],
          "contour": [
           {
            "colorbar": {
             "outlinewidth": 0,
             "ticks": ""
            },
            "colorscale": [
             [
              0,
              "#0d0887"
             ],
             [
              0.1111111111111111,
              "#46039f"
             ],
             [
              0.2222222222222222,
              "#7201a8"
             ],
             [
              0.3333333333333333,
              "#9c179e"
             ],
             [
              0.4444444444444444,
              "#bd3786"
             ],
             [
              0.5555555555555556,
              "#d8576b"
             ],
             [
              0.6666666666666666,
              "#ed7953"
             ],
             [
              0.7777777777777778,
              "#fb9f3a"
             ],
             [
              0.8888888888888888,
              "#fdca26"
             ],
             [
              1,
              "#f0f921"
             ]
            ],
            "type": "contour"
           }
          ],
          "contourcarpet": [
           {
            "colorbar": {
             "outlinewidth": 0,
             "ticks": ""
            },
            "type": "contourcarpet"
           }
          ],
          "heatmap": [
           {
            "colorbar": {
             "outlinewidth": 0,
             "ticks": ""
            },
            "colorscale": [
             [
              0,
              "#0d0887"
             ],
             [
              0.1111111111111111,
              "#46039f"
             ],
             [
              0.2222222222222222,
              "#7201a8"
             ],
             [
              0.3333333333333333,
              "#9c179e"
             ],
             [
              0.4444444444444444,
              "#bd3786"
             ],
             [
              0.5555555555555556,
              "#d8576b"
             ],
             [
              0.6666666666666666,
              "#ed7953"
             ],
             [
              0.7777777777777778,
              "#fb9f3a"
             ],
             [
              0.8888888888888888,
              "#fdca26"
             ],
             [
              1,
              "#f0f921"
             ]
            ],
            "type": "heatmap"
           }
          ],
          "heatmapgl": [
           {
            "colorbar": {
             "outlinewidth": 0,
             "ticks": ""
            },
            "colorscale": [
             [
              0,
              "#0d0887"
             ],
             [
              0.1111111111111111,
              "#46039f"
             ],
             [
              0.2222222222222222,
              "#7201a8"
             ],
             [
              0.3333333333333333,
              "#9c179e"
             ],
             [
              0.4444444444444444,
              "#bd3786"
             ],
             [
              0.5555555555555556,
              "#d8576b"
             ],
             [
              0.6666666666666666,
              "#ed7953"
             ],
             [
              0.7777777777777778,
              "#fb9f3a"
             ],
             [
              0.8888888888888888,
              "#fdca26"
             ],
             [
              1,
              "#f0f921"
             ]
            ],
            "type": "heatmapgl"
           }
          ],
          "histogram": [
           {
            "marker": {
             "colorbar": {
              "outlinewidth": 0,
              "ticks": ""
             }
            },
            "type": "histogram"
           }
          ],
          "histogram2d": [
           {
            "colorbar": {
             "outlinewidth": 0,
             "ticks": ""
            },
            "colorscale": [
             [
              0,
              "#0d0887"
             ],
             [
              0.1111111111111111,
              "#46039f"
             ],
             [
              0.2222222222222222,
              "#7201a8"
             ],
             [
              0.3333333333333333,
              "#9c179e"
             ],
             [
              0.4444444444444444,
              "#bd3786"
             ],
             [
              0.5555555555555556,
              "#d8576b"
             ],
             [
              0.6666666666666666,
              "#ed7953"
             ],
             [
              0.7777777777777778,
              "#fb9f3a"
             ],
             [
              0.8888888888888888,
              "#fdca26"
             ],
             [
              1,
              "#f0f921"
             ]
            ],
            "type": "histogram2d"
           }
          ],
          "histogram2dcontour": [
           {
            "colorbar": {
             "outlinewidth": 0,
             "ticks": ""
            },
            "colorscale": [
             [
              0,
              "#0d0887"
             ],
             [
              0.1111111111111111,
              "#46039f"
             ],
             [
              0.2222222222222222,
              "#7201a8"
             ],
             [
              0.3333333333333333,
              "#9c179e"
             ],
             [
              0.4444444444444444,
              "#bd3786"
             ],
             [
              0.5555555555555556,
              "#d8576b"
             ],
             [
              0.6666666666666666,
              "#ed7953"
             ],
             [
              0.7777777777777778,
              "#fb9f3a"
             ],
             [
              0.8888888888888888,
              "#fdca26"
             ],
             [
              1,
              "#f0f921"
             ]
            ],
            "type": "histogram2dcontour"
           }
          ],
          "mesh3d": [
           {
            "colorbar": {
             "outlinewidth": 0,
             "ticks": ""
            },
            "type": "mesh3d"
           }
          ],
          "parcoords": [
           {
            "line": {
             "colorbar": {
              "outlinewidth": 0,
              "ticks": ""
             }
            },
            "type": "parcoords"
           }
          ],
          "pie": [
           {
            "automargin": true,
            "type": "pie"
           }
          ],
          "scatter": [
           {
            "marker": {
             "colorbar": {
              "outlinewidth": 0,
              "ticks": ""
             }
            },
            "type": "scatter"
           }
          ],
          "scatter3d": [
           {
            "line": {
             "colorbar": {
              "outlinewidth": 0,
              "ticks": ""
             }
            },
            "marker": {
             "colorbar": {
              "outlinewidth": 0,
              "ticks": ""
             }
            },
            "type": "scatter3d"
           }
          ],
          "scattercarpet": [
           {
            "marker": {
             "colorbar": {
              "outlinewidth": 0,
              "ticks": ""
             }
            },
            "type": "scattercarpet"
           }
          ],
          "scattergeo": [
           {
            "marker": {
             "colorbar": {
              "outlinewidth": 0,
              "ticks": ""
             }
            },
            "type": "scattergeo"
           }
          ],
          "scattergl": [
           {
            "marker": {
             "colorbar": {
              "outlinewidth": 0,
              "ticks": ""
             }
            },
            "type": "scattergl"
           }
          ],
          "scattermapbox": [
           {
            "marker": {
             "colorbar": {
              "outlinewidth": 0,
              "ticks": ""
             }
            },
            "type": "scattermapbox"
           }
          ],
          "scatterpolar": [
           {
            "marker": {
             "colorbar": {
              "outlinewidth": 0,
              "ticks": ""
             }
            },
            "type": "scatterpolar"
           }
          ],
          "scatterpolargl": [
           {
            "marker": {
             "colorbar": {
              "outlinewidth": 0,
              "ticks": ""
             }
            },
            "type": "scatterpolargl"
           }
          ],
          "scatterternary": [
           {
            "marker": {
             "colorbar": {
              "outlinewidth": 0,
              "ticks": ""
             }
            },
            "type": "scatterternary"
           }
          ],
          "surface": [
           {
            "colorbar": {
             "outlinewidth": 0,
             "ticks": ""
            },
            "colorscale": [
             [
              0,
              "#0d0887"
             ],
             [
              0.1111111111111111,
              "#46039f"
             ],
             [
              0.2222222222222222,
              "#7201a8"
             ],
             [
              0.3333333333333333,
              "#9c179e"
             ],
             [
              0.4444444444444444,
              "#bd3786"
             ],
             [
              0.5555555555555556,
              "#d8576b"
             ],
             [
              0.6666666666666666,
              "#ed7953"
             ],
             [
              0.7777777777777778,
              "#fb9f3a"
             ],
             [
              0.8888888888888888,
              "#fdca26"
             ],
             [
              1,
              "#f0f921"
             ]
            ],
            "type": "surface"
           }
          ],
          "table": [
           {
            "cells": {
             "fill": {
              "color": "#EBF0F8"
             },
             "line": {
              "color": "white"
             }
            },
            "header": {
             "fill": {
              "color": "#C8D4E3"
             },
             "line": {
              "color": "white"
             }
            },
            "type": "table"
           }
          ]
         },
         "layout": {
          "annotationdefaults": {
           "arrowcolor": "#2a3f5f",
           "arrowhead": 0,
           "arrowwidth": 1
          },
          "coloraxis": {
           "colorbar": {
            "outlinewidth": 0,
            "ticks": ""
           }
          },
          "colorscale": {
           "diverging": [
            [
             0,
             "#8e0152"
            ],
            [
             0.1,
             "#c51b7d"
            ],
            [
             0.2,
             "#de77ae"
            ],
            [
             0.3,
             "#f1b6da"
            ],
            [
             0.4,
             "#fde0ef"
            ],
            [
             0.5,
             "#f7f7f7"
            ],
            [
             0.6,
             "#e6f5d0"
            ],
            [
             0.7,
             "#b8e186"
            ],
            [
             0.8,
             "#7fbc41"
            ],
            [
             0.9,
             "#4d9221"
            ],
            [
             1,
             "#276419"
            ]
           ],
           "sequential": [
            [
             0,
             "#0d0887"
            ],
            [
             0.1111111111111111,
             "#46039f"
            ],
            [
             0.2222222222222222,
             "#7201a8"
            ],
            [
             0.3333333333333333,
             "#9c179e"
            ],
            [
             0.4444444444444444,
             "#bd3786"
            ],
            [
             0.5555555555555556,
             "#d8576b"
            ],
            [
             0.6666666666666666,
             "#ed7953"
            ],
            [
             0.7777777777777778,
             "#fb9f3a"
            ],
            [
             0.8888888888888888,
             "#fdca26"
            ],
            [
             1,
             "#f0f921"
            ]
           ],
           "sequentialminus": [
            [
             0,
             "#0d0887"
            ],
            [
             0.1111111111111111,
             "#46039f"
            ],
            [
             0.2222222222222222,
             "#7201a8"
            ],
            [
             0.3333333333333333,
             "#9c179e"
            ],
            [
             0.4444444444444444,
             "#bd3786"
            ],
            [
             0.5555555555555556,
             "#d8576b"
            ],
            [
             0.6666666666666666,
             "#ed7953"
            ],
            [
             0.7777777777777778,
             "#fb9f3a"
            ],
            [
             0.8888888888888888,
             "#fdca26"
            ],
            [
             1,
             "#f0f921"
            ]
           ]
          },
          "colorway": [
           "#636efa",
           "#EF553B",
           "#00cc96",
           "#ab63fa",
           "#FFA15A",
           "#19d3f3",
           "#FF6692",
           "#B6E880",
           "#FF97FF",
           "#FECB52"
          ],
          "font": {
           "color": "#2a3f5f"
          },
          "geo": {
           "bgcolor": "white",
           "lakecolor": "white",
           "landcolor": "#E5ECF6",
           "showlakes": true,
           "showland": true,
           "subunitcolor": "white"
          },
          "hoverlabel": {
           "align": "left"
          },
          "hovermode": "closest",
          "mapbox": {
           "style": "light"
          },
          "paper_bgcolor": "white",
          "plot_bgcolor": "#E5ECF6",
          "polar": {
           "angularaxis": {
            "gridcolor": "white",
            "linecolor": "white",
            "ticks": ""
           },
           "bgcolor": "#E5ECF6",
           "radialaxis": {
            "gridcolor": "white",
            "linecolor": "white",
            "ticks": ""
           }
          },
          "scene": {
           "xaxis": {
            "backgroundcolor": "#E5ECF6",
            "gridcolor": "white",
            "gridwidth": 2,
            "linecolor": "white",
            "showbackground": true,
            "ticks": "",
            "zerolinecolor": "white"
           },
           "yaxis": {
            "backgroundcolor": "#E5ECF6",
            "gridcolor": "white",
            "gridwidth": 2,
            "linecolor": "white",
            "showbackground": true,
            "ticks": "",
            "zerolinecolor": "white"
           },
           "zaxis": {
            "backgroundcolor": "#E5ECF6",
            "gridcolor": "white",
            "gridwidth": 2,
            "linecolor": "white",
            "showbackground": true,
            "ticks": "",
            "zerolinecolor": "white"
           }
          },
          "shapedefaults": {
           "line": {
            "color": "#2a3f5f"
           }
          },
          "ternary": {
           "aaxis": {
            "gridcolor": "white",
            "linecolor": "white",
            "ticks": ""
           },
           "baxis": {
            "gridcolor": "white",
            "linecolor": "white",
            "ticks": ""
           },
           "bgcolor": "#E5ECF6",
           "caxis": {
            "gridcolor": "white",
            "linecolor": "white",
            "ticks": ""
           }
          },
          "title": {
           "x": 0.05
          },
          "xaxis": {
           "automargin": true,
           "gridcolor": "white",
           "linecolor": "white",
           "ticks": "",
           "title": {
            "standoff": 15
           },
           "zerolinecolor": "white",
           "zerolinewidth": 2
          },
          "yaxis": {
           "automargin": true,
           "gridcolor": "white",
           "linecolor": "white",
           "ticks": "",
           "title": {
            "standoff": 15
           },
           "zerolinecolor": "white",
           "zerolinewidth": 2
          }
         }
        },
        "xaxis": {
         "anchor": "y",
         "domain": [
          0,
          1
         ],
         "title": {
          "text": "MEDV"
         }
        },
        "yaxis": {
         "anchor": "x",
         "domain": [
          0,
          1
         ],
         "title": {
          "text": "count"
         }
        }
       }
      }
     },
     "metadata": {}
    }
   ],
   "source": [
    "fig = px.histogram(data, x=data['MEDV'])\n",
    "fig.show()"
   ]
  },
  {
   "cell_type": "code",
   "execution_count": 13,
   "metadata": {},
   "outputs": [
    {
     "output_type": "display_data",
     "data": {
      "application/vnd.plotly.v1+json": {
       "config": {
        "plotlyServerURL": "https://plot.ly"
       },
       "data": [
        {
         "autobinx": false,
         "histnorm": "probability density",
         "legendgroup": "MEDV",
         "marker": {
          "color": "rgb(31, 119, 180)"
         },
         "name": "MEDV",
         "opacity": 0.7,
         "type": "histogram",
         "x": [
          24,
          21.6,
          34.7,
          33.4,
          36.2,
          28.7,
          22.9,
          27.1,
          16.5,
          18.9,
          15,
          18.9,
          21.7,
          20.4,
          18.2,
          19.9,
          23.1,
          17.5,
          20.2,
          18.2,
          13.6,
          19.6,
          15.2,
          14.5,
          15.6,
          13.9,
          16.6,
          14.8,
          18.4,
          21,
          12.7,
          14.5,
          13.2,
          13.1,
          13.5,
          18.9,
          20,
          21,
          24.7,
          30.8,
          34.9,
          26.6,
          25.3,
          24.7,
          21.2,
          19.3,
          20,
          16.6,
          14.4,
          19.4,
          19.7,
          20.5,
          25,
          23.4,
          18.9,
          35.4,
          24.7,
          31.6,
          23.3,
          19.6,
          18.7,
          16,
          22.2,
          25,
          33,
          23.5,
          19.4,
          22,
          17.4,
          20.9,
          24.2,
          21.7,
          22.8,
          23.4,
          24.1,
          21.4,
          20,
          20.8,
          21.2,
          20.3,
          28,
          23.9,
          24.8,
          22.9,
          23.9,
          26.6,
          22.5,
          22.2,
          23.6,
          28.7,
          22.6,
          22,
          22.9,
          25,
          20.6,
          28.4,
          21.4,
          38.7,
          43.8,
          33.2,
          27.5,
          26.5,
          18.6,
          19.3,
          20.1,
          19.5,
          19.5,
          20.4,
          19.8,
          19.4,
          21.7,
          22.8,
          18.8,
          18.7,
          18.5,
          18.3,
          21.2,
          19.2,
          20.4,
          19.3,
          22,
          20.3,
          20.5,
          17.3,
          18.8,
          21.4,
          15.7,
          16.2,
          18,
          14.3,
          19.2,
          19.6,
          23,
          18.4,
          15.6,
          18.1,
          17.4,
          17.1,
          13.3,
          17.8,
          14,
          14.4,
          13.4,
          15.6,
          11.8,
          13.8,
          15.6,
          14.6,
          17.8,
          15.4,
          21.5,
          19.6,
          15.3,
          19.4,
          17,
          15.6,
          13.1,
          41.3,
          24.3,
          23.3,
          27,
          50,
          50,
          50,
          22.7,
          25,
          50,
          23.8,
          23.8,
          22.3,
          17.4,
          19.1,
          23.1,
          23.6,
          22.6,
          29.4,
          23.2,
          24.6,
          29.9,
          37.2,
          39.8,
          36.2,
          37.9,
          32.5,
          26.4,
          29.6,
          50,
          32,
          29.8,
          34.9,
          37,
          30.5,
          36.4,
          31.1,
          29.1,
          50,
          33.3,
          30.3,
          34.6,
          34.9,
          32.9,
          24.1,
          42.3,
          48.5,
          50,
          22.6,
          24.4,
          22.5,
          24.4,
          20,
          21.7,
          19.3,
          22.4,
          28.1,
          23.7,
          25,
          23.3,
          28.7,
          21.5,
          23,
          26.7,
          21.7,
          27.5,
          30.1,
          44.8,
          50,
          37.6,
          31.6,
          46.7,
          31.5,
          24.3,
          31.7,
          41.7,
          48.3,
          29,
          24,
          25.1,
          31.5,
          23.7,
          23.3,
          22,
          20.1,
          22.2,
          23.7,
          17.6,
          18.5,
          24.3,
          20.5,
          24.5,
          26.2,
          24.4,
          24.8,
          29.6,
          42.8,
          21.9,
          20.9,
          44,
          50,
          36,
          30.1,
          33.8,
          43.1,
          48.8,
          31,
          36.5,
          22.8,
          30.7,
          50,
          43.5,
          20.7,
          21.1,
          25.2,
          24.4,
          35.2,
          32.4,
          32,
          33.2,
          33.1,
          29.1,
          35.1,
          45.4,
          35.4,
          46,
          50,
          32.2,
          22,
          20.1,
          23.2,
          22.3,
          24.8,
          28.5,
          37.3,
          27.9,
          23.9,
          21.7,
          28.6,
          27.1,
          20.3,
          22.5,
          29,
          24.8,
          22,
          26.4,
          33.1,
          36.1,
          28.4,
          33.4,
          28.2,
          22.8,
          20.3,
          16.1,
          22.1,
          19.4,
          21.6,
          23.8,
          16.2,
          17.8,
          19.8,
          23.1,
          21,
          23.8,
          23.1,
          20.4,
          18.5,
          25,
          24.6,
          23,
          22.2,
          19.3,
          22.6,
          19.8,
          17.1,
          19.4,
          22.2,
          20.7,
          21.1,
          19.5,
          18.5,
          20.6,
          19,
          18.7,
          32.7,
          16.5,
          23.9,
          31.2,
          17.5,
          17.2,
          23.1,
          24.5,
          26.6,
          22.9,
          24.1,
          18.6,
          30.1,
          18.2,
          20.6,
          17.8,
          21.7,
          22.7,
          22.6,
          25,
          19.9,
          20.8,
          16.8,
          21.9,
          27.5,
          21.9,
          23.1,
          50,
          50,
          50,
          50,
          50,
          13.8,
          13.8,
          15,
          13.9,
          13.3,
          13.1,
          10.2,
          10.4,
          10.9,
          11.3,
          12.3,
          8.8,
          7.2,
          10.5,
          7.4,
          10.2,
          11.5,
          15.1,
          23.2,
          9.7,
          13.8,
          12.7,
          13.1,
          12.5,
          8.5,
          5,
          6.3,
          5.6,
          7.2,
          12.1,
          8.3,
          8.5,
          5,
          11.9,
          27.9,
          17.2,
          27.5,
          15,
          17.2,
          17.9,
          16.3,
          7,
          7.2,
          7.5,
          10.4,
          8.8,
          8.4,
          16.7,
          14.2,
          20.8,
          13.4,
          11.7,
          8.3,
          10.2,
          10.9,
          11,
          9.5,
          14.5,
          14.1,
          16.1,
          14.3,
          11.7,
          13.4,
          9.6,
          8.7,
          8.4,
          12.8,
          10.5,
          17.1,
          18.4,
          15.4,
          10.8,
          11.8,
          14.9,
          12.6,
          14.1,
          13,
          13.4,
          15.2,
          16.1,
          17.8,
          14.9,
          14.1,
          12.7,
          13.5,
          14.9,
          20,
          16.4,
          17.7,
          19.5,
          20.2,
          21.4,
          19.9,
          19,
          19.1,
          19.1,
          20.1,
          19.9,
          19.6,
          23.2,
          29.8,
          13.8,
          13.3,
          16.7,
          12,
          14.6,
          21.4,
          23,
          23.7,
          25,
          21.8,
          20.6,
          21.2,
          19.1,
          20.6,
          15.2,
          7,
          8.1,
          13.6,
          20.1,
          21.8,
          24.5,
          23.1,
          19.7,
          18.3,
          21.2,
          17.5,
          16.8,
          22.4,
          20.6,
          23.9,
          22,
          11.9
         ],
         "xaxis": "x",
         "xbins": {
          "end": 50,
          "size": 1,
          "start": 5
         },
         "yaxis": "y"
        },
        {
         "legendgroup": "MEDV",
         "marker": {
          "color": "rgb(31, 119, 180)"
         },
         "mode": "lines",
         "name": "MEDV",
         "showlegend": false,
         "type": "scatter",
         "x": [
          5,
          5.09,
          5.18,
          5.27,
          5.36,
          5.45,
          5.54,
          5.63,
          5.72,
          5.8100000000000005,
          5.9,
          5.99,
          6.08,
          6.17,
          6.26,
          6.35,
          6.4399999999999995,
          6.53,
          6.62,
          6.71,
          6.8,
          6.89,
          6.98,
          7.07,
          7.16,
          7.25,
          7.34,
          7.43,
          7.52,
          7.609999999999999,
          7.7,
          7.79,
          7.88,
          7.970000000000001,
          8.06,
          8.15,
          8.24,
          8.33,
          8.42,
          8.51,
          8.6,
          8.69,
          8.78,
          8.870000000000001,
          8.96,
          9.05,
          9.14,
          9.23,
          9.32,
          9.41,
          9.5,
          9.59,
          9.68,
          9.77,
          9.86,
          9.95,
          10.04,
          10.129999999999999,
          10.219999999999999,
          10.309999999999999,
          10.4,
          10.49,
          10.58,
          10.67,
          10.76,
          10.85,
          10.940000000000001,
          11.030000000000001,
          11.120000000000001,
          11.21,
          11.3,
          11.39,
          11.48,
          11.57,
          11.66,
          11.75,
          11.84,
          11.93,
          12.02,
          12.11,
          12.2,
          12.29,
          12.379999999999999,
          12.469999999999999,
          12.559999999999999,
          12.65,
          12.74,
          12.83,
          12.92,
          13.01,
          13.1,
          13.19,
          13.28,
          13.37,
          13.46,
          13.55,
          13.64,
          13.73,
          13.82,
          13.91,
          14,
          14.09,
          14.18,
          14.27,
          14.36,
          14.45,
          14.54,
          14.63,
          14.72,
          14.81,
          14.9,
          14.99,
          15.08,
          15.17,
          15.26,
          15.35,
          15.44,
          15.53,
          15.62,
          15.71,
          15.8,
          15.89,
          15.98,
          16.07,
          16.16,
          16.25,
          16.34,
          16.43,
          16.52,
          16.61,
          16.7,
          16.79,
          16.880000000000003,
          16.97,
          17.060000000000002,
          17.15,
          17.240000000000002,
          17.33,
          17.42,
          17.509999999999998,
          17.6,
          17.689999999999998,
          17.78,
          17.869999999999997,
          17.96,
          18.05,
          18.14,
          18.23,
          18.32,
          18.41,
          18.5,
          18.59,
          18.68,
          18.77,
          18.86,
          18.95,
          19.04,
          19.130000000000003,
          19.22,
          19.310000000000002,
          19.4,
          19.490000000000002,
          19.58,
          19.67,
          19.759999999999998,
          19.85,
          19.939999999999998,
          20.03,
          20.119999999999997,
          20.21,
          20.3,
          20.39,
          20.48,
          20.57,
          20.66,
          20.75,
          20.84,
          20.93,
          21.02,
          21.11,
          21.2,
          21.29,
          21.38,
          21.47,
          21.56,
          21.65,
          21.74,
          21.83,
          21.92,
          22.01,
          22.1,
          22.19,
          22.28,
          22.37,
          22.46,
          22.55,
          22.64,
          22.73,
          22.82,
          22.91,
          23,
          23.09,
          23.18,
          23.27,
          23.36,
          23.45,
          23.54,
          23.63,
          23.72,
          23.81,
          23.9,
          23.99,
          24.08,
          24.17,
          24.26,
          24.35,
          24.44,
          24.53,
          24.62,
          24.71,
          24.8,
          24.89,
          24.98,
          25.07,
          25.16,
          25.25,
          25.34,
          25.43,
          25.52,
          25.61,
          25.7,
          25.79,
          25.88,
          25.97,
          26.06,
          26.15,
          26.24,
          26.33,
          26.42,
          26.51,
          26.6,
          26.69,
          26.78,
          26.87,
          26.96,
          27.05,
          27.14,
          27.23,
          27.32,
          27.41,
          27.5,
          27.59,
          27.68,
          27.77,
          27.86,
          27.95,
          28.04,
          28.13,
          28.22,
          28.31,
          28.4,
          28.49,
          28.58,
          28.67,
          28.76,
          28.85,
          28.94,
          29.03,
          29.12,
          29.21,
          29.3,
          29.39,
          29.48,
          29.57,
          29.66,
          29.75,
          29.84,
          29.93,
          30.02,
          30.11,
          30.2,
          30.29,
          30.38,
          30.47,
          30.56,
          30.65,
          30.74,
          30.83,
          30.92,
          31.01,
          31.1,
          31.19,
          31.28,
          31.37,
          31.46,
          31.55,
          31.64,
          31.73,
          31.82,
          31.91,
          32,
          32.09,
          32.18,
          32.269999999999996,
          32.36,
          32.45,
          32.54,
          32.629999999999995,
          32.72,
          32.81,
          32.9,
          32.989999999999995,
          33.08,
          33.17,
          33.260000000000005,
          33.35,
          33.44,
          33.53,
          33.620000000000005,
          33.71,
          33.8,
          33.89,
          33.980000000000004,
          34.07,
          34.16,
          34.25,
          34.34,
          34.43,
          34.519999999999996,
          34.61,
          34.7,
          34.79,
          34.879999999999995,
          34.97,
          35.06,
          35.15,
          35.239999999999995,
          35.33,
          35.42,
          35.510000000000005,
          35.6,
          35.69,
          35.78,
          35.870000000000005,
          35.96,
          36.05,
          36.14,
          36.230000000000004,
          36.32,
          36.41,
          36.5,
          36.59,
          36.68,
          36.769999999999996,
          36.86,
          36.95,
          37.04,
          37.13,
          37.22,
          37.31,
          37.4,
          37.49,
          37.58,
          37.67,
          37.76,
          37.85,
          37.94,
          38.03,
          38.12,
          38.21,
          38.3,
          38.39,
          38.48,
          38.57,
          38.66,
          38.75,
          38.84,
          38.93,
          39.02,
          39.11,
          39.2,
          39.29,
          39.38,
          39.47,
          39.56,
          39.65,
          39.74,
          39.83,
          39.92,
          40.01,
          40.1,
          40.19,
          40.28,
          40.37,
          40.46,
          40.55,
          40.64,
          40.73,
          40.82,
          40.91,
          41,
          41.09,
          41.18,
          41.27,
          41.36,
          41.45,
          41.54,
          41.63,
          41.72,
          41.81,
          41.9,
          41.99,
          42.08,
          42.17,
          42.26,
          42.35,
          42.44,
          42.53,
          42.62,
          42.71,
          42.8,
          42.89,
          42.98,
          43.07,
          43.16,
          43.25,
          43.34,
          43.43,
          43.52,
          43.61,
          43.7,
          43.79,
          43.88,
          43.97,
          44.06,
          44.15,
          44.24,
          44.33,
          44.42,
          44.51,
          44.6,
          44.69,
          44.78,
          44.87,
          44.96,
          45.05,
          45.14,
          45.23,
          45.32,
          45.41,
          45.5,
          45.59,
          45.68,
          45.77,
          45.86,
          45.95,
          46.04,
          46.13,
          46.22,
          46.31,
          46.4,
          46.49,
          46.58,
          46.67,
          46.76,
          46.85,
          46.94,
          47.03,
          47.12,
          47.21,
          47.3,
          47.39,
          47.48,
          47.57,
          47.66,
          47.75,
          47.84,
          47.93,
          48.02,
          48.11,
          48.2,
          48.29,
          48.38,
          48.47,
          48.56,
          48.65,
          48.74,
          48.83,
          48.92,
          49.01,
          49.1,
          49.19,
          49.28,
          49.37,
          49.46,
          49.55,
          49.64,
          49.73,
          49.82,
          49.91
         ],
         "xaxis": "x",
         "y": [
          0.004654501269325038,
          0.004817597615044198,
          0.0049834657544565635,
          0.0051520479046582475,
          0.0053232851656982915,
          0.005497117926215968,
          0.005673486282360313,
          0.005852330467446344,
          0.006033591289607829,
          0.006217210574525057,
          0.006403131610140187,
          0.006591299590125024,
          0.006781662052738092,
          0.006974169311602868,
          0.007168774874858018,
          0.0073654358490762625,
          0.007564113324322467,
          0.007764772736725352,
          0.007967384204972606,
          0.008171922837206757,
          0.008378369004900504,
          0.008586708580425371,
          0.008796933135197296,
          0.009009040095486812,
          0.009223032853219753,
          0.009438920829365958,
          0.009656719487817511,
          0.009876450297993137,
          0.010098140644769582,
          0.010321823684732315,
          0.010547538148154017,
          0.010775328086547246,
          0.011005242566094562,
          0.011237335307731253,
          0.011471664275139525,
          0.011708291212404107,
          0.011947281133573658,
          0.012188701766865824,
          0.01243262295674128,
          0.01267911602754949,
          0.012928253112910803,
          0.013180106455441461,
          0.0134347476818451,
          0.013692247058781732,
          0.013952672735278046,
          0.014216089977757095,
          0.014482560404036261,
          0.01475214122286604,
          0.015024884485754817,
          0.015300836357942998,
          0.015580036415450499,
          0.015862516975122403,
          0.016148302464536007,
          0.016437408838507403,
          0.016729843048745762,
          0.01702560257294834,
          0.017324675009309048,
          0.01762703774202902,
          0.017932657682970116,
          0.018241491094084412,
          0.01855348349468619,
          0.018868569657012366,
          0.019186673692845317,
          0.019507709233254348,
          0.019831579702753274,
          0.02015817868837777,
          0.02048739040336302,
          0.020819090244257533,
          0.02115314543944876,
          0.021489415786208898,
          0.02182775447250222,
          0.02216800897893671,
          0.022510022055401042,
          0.02285363276611116,
          0.02319867759600714,
          0.023544991610699346,
          0.023892409661470444,
          0.024240767626205046,
          0.024589903676548643,
          0.024939659561099593,
          0.0252898818940177,
          0.02564042343809789,
          0.02599114437111107,
          0.026341913524062427,
          0.026692609579962844,
          0.027043122221755325,
          0.02739335321818644,
          0.027743217436664604,
          0.028092643772501546,
          0.028441575984390215,
          0.028789973426529187,
          0.029137811668456914,
          0.02948508299440547,
          0.029831796774816868,
          0.030177979703579928,
          0.03052367589553446,
          0.030868946839845313,
          0.03121387120596135,
          0.031558544500035604,
          0.03190307857088226,
          0.032247600965772324,
          0.03259225413761326,
          0.0329371945063058,
          0.0332825913783125,
          0.03362862572969657,
          0.03397548885908214,
          0.03432338091814012,
          0.03467250932830274,
          0.03502308709344627,
          0.03537533101924407,
          0.03572945985077081,
          0.03608569234072596,
          0.03644424526133055,
          0.03680533137353091,
          0.03716915736760752,
          0.03753592178963434,
          0.037905812968458165,
          0.038279006957966356,
          0.03865566550938418,
          0.03903593408818899,
          0.039419939949948996,
          0.03980779028899273,
          0.040199570473293075,
          0.04059534237831531,
          0.040995142831834336,
          0.04139898218088273,
          0.04180684299105441,
          0.04221867888736954,
          0.04263441354481393,
          0.043053939835511854,
          0.04347711913828688,
          0.04390378081512241,
          0.04433372185776501,
          0.04476670670643175,
          0.045202467241301024,
          0.04564070294619594,
          0.04608108124262534,
          0.04652323799113852,
          0.046966778155791915,
          0.04741127662642518,
          0.04785627919241638,
          0.04830130366063461,
          0.04874584110944799,
          0.04918935726987702,
          0.049631294024319775,
          0.05007107101271485,
          0.050508087335561135,
          0.050941723342875715,
          0.05137134249794873,
          0.05179629330464328,
          0.05221591128698893,
          0.05262952100992509,
          0.053036438130262084,
          0.05343597146723625,
          0.05382742508243403,
          0.05421010035934257,
          0.054583298073338844,
          0.054946320443549454,
          0.05529847315868522,
          0.05563906736967126,
          0.05596742164263799,
          0.056282863866606955,
          0.05658473311097677,
          0.056872381428686926,
          0.057145175601690516,
          0.05740249882609756,
          0.05764375233504214,
          0.057868356957974314,
          0.058075754615668905,
          0.05826540975077385,
          0.05843681069417984,
          0.05858947096787978,
          0.05872293052529272,
          0.058836756930251935,
          0.05893054647599934,
          0.05900392524558659,
          0.05905655011506041,
          0.059088109700707526,
          0.059098325251457355,
          0.05908695148729415,
          0.059053777384220726,
          0.05899862690595083,
          0.05892135968209627,
          0.05882187163216685,
          0.058700095534225734,
          0.058556001536552924,
          0.05838959761017407,
          0.05820092993962313,
          0.057990083248838156,
          0.05775718105864779,
          0.05750238587190758,
          0.057225899281994674,
          0.05692796200008272,
          0.05660885379639917,
          0.056268893350527004,
          0.055908438005756046,
          0.055527883422522635,
          0.055127663126104245,
          0.05470824794396008,
          0.05427014532843197,
          0.05381389856094083,
          0.05334008583433104,
          0.05284931921062629,
          0.05234224345215844,
          0.05181953472481193,
          0.05128189917298199,
          0.050730071366764974,
          0.05016481262287663,
          0.04958690920181418,
          0.04899717038483335,
          0.04839642643538403,
          0.047785526450730594,
          0.04716533611055688,
          0.04653673533041089,
          0.045900615828865135,
          0.045257878618242264,
          0.04460943142967107,
          0.043956186084078266,
          0.043299055821480845,
          0.04263895260160662,
          0.04197678438943073,
          0.041313452439662716,
          0.040649848594546734,
          0.03998685260954013,
          0.039325329521509626,
          0.038666127074026044,
          0.03801007321414866,
          0.03735797367476759,
          0.036710609656121114,
          0.03606873561952747,
          0.03543307720567256,
          0.03480432928898399,
          0.034183154178704565,
          0.03357017997626593,
          0.03296599909746401,
          0.03237116696676503,
          0.03178620088983596,
          0.031211579109108913,
          0.03064774004586839,
          0.030095081731008347,
          0.029553961425253444,
          0.029024695428294053,
          0.0285075590749554,
          0.02800278691522534,
          0.027510573073712925,
          0.027031071782913065,
          0.02656439808352293,
          0.026110628684002834,
          0.025669802970607076,
          0.025241924158237096,
          0.024826960571695963,
          0.02442484704625614,
          0.024035486435894718,
          0.02365875121710536,
          0.023294485175865253,
          0.022942505165118046,
          0.02260260292003011,
          0.02227454691828367,
          0.021958084272784086,
          0.02165294264437475,
          0.02135883216246584,
          0.02107544734188699,
          0.02080246898476052,
          0.020539566056754256,
          0.02028639752770218,
          0.0200426141672686,
          0.019807860287068386,
          0.019581775421432145,
          0.019363995939812507,
          0.019154156584656468,
          0.018951891929409315,
          0.01875683775216098,
          0.01856863232128512,
          0.018386917590249154,
          0.018211340299581127,
          0.018041552984760338,
          0.01787721488954749,
          0.01771799278498073,
          0.017563561694932266,
          0.017413605529742228,
          0.01726781763001874,
          0.017125901223214213,
          0.016987569796054904,
          0.016852547386314053,
          0.0167205687977774,
          0.01659137974255436,
          0.0164647369151394,
          0.016340408002827832,
          0.016218171637240403,
          0.016097817291813508,
          0.01597914513017024,
          0.015861965810303857,
          0.015746100249483527,
          0.015631379354734957,
          0.015517643723660204,
          0.015404743320243818,
          0.015292537130150871,
          0.01518089279985917,
          0.015069686263786559,
          0.014958801363377211,
          0.014848129461901954,
          0.014737569058508608,
          0.014627025404832057,
          0.01451641012724237,
          0.014405640857574661,
          0.014294640874947823,
          0.0141833387610427,
          0.014071668070974748,
          0.013959567021662345,
          0.013846978199360668,
          0.01373384828780327,
          0.013620127818168909,
          0.013505770941871057,
          0.013390735226950773,
          0.013274981478641557,
          0.01315847358446701,
          0.013041178384028369,
          0.012923065563439766,
          0.012804107574174467,
          0.01268427957589498,
          0.012563559402654967,
          0.012441927551680545,
          0.012319367193764195,
          0.012195864204135686,
          0.01207140721251294,
          0.011945987670880802,
          0.01181959993739969,
          0.011692241374708107,
          0.011563912460756259,
          0.011434616910190884,
          0.011304361804207498,
          0.011173157726694385,
          0.011041018904416089,
          0.010907963348921669,
          0.010774012997817838,
          0.010639193853018002,
          0.010503536113568274,
          0.010367074300659381,
          0.010229847372461194,
          0.010091898826463575,
          0.009953276787075022,
          0.009814034076317429,
          0.009674228265563077,
          0.009533921706386424,
          0.009393181538749532,
          0.00925207967490378,
          0.009110692757572371,
          0.008969102091175109,
          0.008827393545069551,
          0.008685657428007343,
          0.008543988333241647,
          0.008402484953966845,
          0.008261249869025392,
          0.008120389299074673,
          0.007980012833668426,
          0.007840233129968547,
          0.007701165584063644,
          0.0075629279761259835,
          0.007425640090888427,
          0.007289423315162497,
          0.007154400214349013,
          0.007020694090107741,
          0.0068884285215542185,
          0.006757726892534536,
          0.006628711907694289,
          0.006501505100201213,
          0.006376226334104101,
          0.006252993304408973,
          0.006131921038029677,
          0.006013121398819861,
          0.00589670259991964,
          0.005782768726649606,
          0.005671419273160318,
          0.005562748695994227,
          0.00545684598764251,
          0.005353794273079136,
          0.0052536704321326875,
          0.005156544750410869,
          0.005062480601327162,
          0.00497153416159351,
          0.004883754162338823,
          0.00479918167779341,
          0.0047178499532438975,
          0.0046397842737157646,
          0.004565001874581145,
          0.00449351189502205,
          0.004425315375003455,
          0.004360405296131013,
          0.004298766666484288,
          0.0042403766492324245,
          0.004185204734555056,
          0.004133212954110686,
          0.004084356137017982,
          0.0040385822060455805,
          0.00399583251244343,
          0.003956042207596329,
          0.003919140649438234,
          0.003885051841336871,
          0.0038536949009420874,
          0.003824984556290687,
          0.003798831666274975,
          0.0037751437624139943,
          0.0037538256087152034,
          0.003734779776281729,
          0.003717907229206214,
          0.003703107918197624,
          0.003690281378312278,
          0.003679327327105297,
          0.0036701462594837006,
          0.0036626400355277253,
          0.0036567124575525916,
          0.00365226983270892,
          0.003649221517466157,
          0.003647480440389579,
          0.003646963599707564,
          0.003647592532271457,
          0.0036492937506353174,
          0.0036519991451267764,
          0.003655646347942616,
          0.0036601790564832833,
          0.003665547313338663,
          0.0036717077405527283,
          0.003678623726026392,
          0.003686265560165538,
          0.003694610521143963,
          0.003703642907428228,
          0.0037133540165021355,
          0.0037237420690320903,
          0.003734812078029714,
          0.003746575662893855,
          0.003759050808549264,
          0.003772261570242496,
          0.003786237724905498,
          0.0038010143703524316,
          0.0038166314739338006,
          0.003833133372632175,
          0.003850568226943635,
          0.0038689874312466477,
          0.003888444983712959,
          0.003908996819161093,
          0.003930700108589562,
          0.003953612529451496,
          0.0039777915110421015,
          0.004003293459662859,
          0.004030172968498134,
          0.004058482017388864,
          0.00408826916791036,
          0.004119578759355016,
          0.004152450111382194,
          0.004186916739224661,
          0.004223005587430472,
          0.004260736288169009,
          0.004300120450137372,
          0.004341160984066785,
          0.004383851470745662,
          0.004428175577345986,
          0.004474106527660266,
          0.004521606631628286,
          0.00457062687925432,
          0.004621106603688097,
          0.004672973217865855,
          0.004726142028683729,
          0.004780516132204985,
          0.004835986392888756,
          0.004892431509272383,
          0.004949718167947056,
          0.00500770128703946,
          0.005066224349756725,
          0.005125119827871296,
          0.005184209694323432,
          0.005243306023406152,
          0.005302211676278269,
          0.005360721068830642,
          0.005418621018217207,
          0.005475691663661123,
          0.005531707456466072,
          0.005586438213508803,
          0.005639650227870069,
          0.005691107429682576,
          0.005740572589743962,
          0.005787808557966347,
          0.005832579528316927,
          0.00587465232155284,
          0.005913797676771873,
          0.005949791542593686,
          0.005982416358656668,
          0.006011462318066907,
          0.006036728601469094,
          0.006058024573526216,
          0.006075170932795196,
          0.00608800080626893,
          0.006096360780219075,
          0.006100111859416672,
          0.0060991303473248,
          0.00609330864044536,
          0.00608255593065487,
          0.006066798810076303,
          0.006045981773798579,
          0.00602006761656481,
          0.005989037720397379
         ],
         "yaxis": "y"
        },
        {
         "legendgroup": "MEDV",
         "marker": {
          "color": "rgb(31, 119, 180)",
          "symbol": "line-ns-open"
         },
         "mode": "markers",
         "name": "MEDV",
         "showlegend": false,
         "type": "scatter",
         "x": [
          24,
          21.6,
          34.7,
          33.4,
          36.2,
          28.7,
          22.9,
          27.1,
          16.5,
          18.9,
          15,
          18.9,
          21.7,
          20.4,
          18.2,
          19.9,
          23.1,
          17.5,
          20.2,
          18.2,
          13.6,
          19.6,
          15.2,
          14.5,
          15.6,
          13.9,
          16.6,
          14.8,
          18.4,
          21,
          12.7,
          14.5,
          13.2,
          13.1,
          13.5,
          18.9,
          20,
          21,
          24.7,
          30.8,
          34.9,
          26.6,
          25.3,
          24.7,
          21.2,
          19.3,
          20,
          16.6,
          14.4,
          19.4,
          19.7,
          20.5,
          25,
          23.4,
          18.9,
          35.4,
          24.7,
          31.6,
          23.3,
          19.6,
          18.7,
          16,
          22.2,
          25,
          33,
          23.5,
          19.4,
          22,
          17.4,
          20.9,
          24.2,
          21.7,
          22.8,
          23.4,
          24.1,
          21.4,
          20,
          20.8,
          21.2,
          20.3,
          28,
          23.9,
          24.8,
          22.9,
          23.9,
          26.6,
          22.5,
          22.2,
          23.6,
          28.7,
          22.6,
          22,
          22.9,
          25,
          20.6,
          28.4,
          21.4,
          38.7,
          43.8,
          33.2,
          27.5,
          26.5,
          18.6,
          19.3,
          20.1,
          19.5,
          19.5,
          20.4,
          19.8,
          19.4,
          21.7,
          22.8,
          18.8,
          18.7,
          18.5,
          18.3,
          21.2,
          19.2,
          20.4,
          19.3,
          22,
          20.3,
          20.5,
          17.3,
          18.8,
          21.4,
          15.7,
          16.2,
          18,
          14.3,
          19.2,
          19.6,
          23,
          18.4,
          15.6,
          18.1,
          17.4,
          17.1,
          13.3,
          17.8,
          14,
          14.4,
          13.4,
          15.6,
          11.8,
          13.8,
          15.6,
          14.6,
          17.8,
          15.4,
          21.5,
          19.6,
          15.3,
          19.4,
          17,
          15.6,
          13.1,
          41.3,
          24.3,
          23.3,
          27,
          50,
          50,
          50,
          22.7,
          25,
          50,
          23.8,
          23.8,
          22.3,
          17.4,
          19.1,
          23.1,
          23.6,
          22.6,
          29.4,
          23.2,
          24.6,
          29.9,
          37.2,
          39.8,
          36.2,
          37.9,
          32.5,
          26.4,
          29.6,
          50,
          32,
          29.8,
          34.9,
          37,
          30.5,
          36.4,
          31.1,
          29.1,
          50,
          33.3,
          30.3,
          34.6,
          34.9,
          32.9,
          24.1,
          42.3,
          48.5,
          50,
          22.6,
          24.4,
          22.5,
          24.4,
          20,
          21.7,
          19.3,
          22.4,
          28.1,
          23.7,
          25,
          23.3,
          28.7,
          21.5,
          23,
          26.7,
          21.7,
          27.5,
          30.1,
          44.8,
          50,
          37.6,
          31.6,
          46.7,
          31.5,
          24.3,
          31.7,
          41.7,
          48.3,
          29,
          24,
          25.1,
          31.5,
          23.7,
          23.3,
          22,
          20.1,
          22.2,
          23.7,
          17.6,
          18.5,
          24.3,
          20.5,
          24.5,
          26.2,
          24.4,
          24.8,
          29.6,
          42.8,
          21.9,
          20.9,
          44,
          50,
          36,
          30.1,
          33.8,
          43.1,
          48.8,
          31,
          36.5,
          22.8,
          30.7,
          50,
          43.5,
          20.7,
          21.1,
          25.2,
          24.4,
          35.2,
          32.4,
          32,
          33.2,
          33.1,
          29.1,
          35.1,
          45.4,
          35.4,
          46,
          50,
          32.2,
          22,
          20.1,
          23.2,
          22.3,
          24.8,
          28.5,
          37.3,
          27.9,
          23.9,
          21.7,
          28.6,
          27.1,
          20.3,
          22.5,
          29,
          24.8,
          22,
          26.4,
          33.1,
          36.1,
          28.4,
          33.4,
          28.2,
          22.8,
          20.3,
          16.1,
          22.1,
          19.4,
          21.6,
          23.8,
          16.2,
          17.8,
          19.8,
          23.1,
          21,
          23.8,
          23.1,
          20.4,
          18.5,
          25,
          24.6,
          23,
          22.2,
          19.3,
          22.6,
          19.8,
          17.1,
          19.4,
          22.2,
          20.7,
          21.1,
          19.5,
          18.5,
          20.6,
          19,
          18.7,
          32.7,
          16.5,
          23.9,
          31.2,
          17.5,
          17.2,
          23.1,
          24.5,
          26.6,
          22.9,
          24.1,
          18.6,
          30.1,
          18.2,
          20.6,
          17.8,
          21.7,
          22.7,
          22.6,
          25,
          19.9,
          20.8,
          16.8,
          21.9,
          27.5,
          21.9,
          23.1,
          50,
          50,
          50,
          50,
          50,
          13.8,
          13.8,
          15,
          13.9,
          13.3,
          13.1,
          10.2,
          10.4,
          10.9,
          11.3,
          12.3,
          8.8,
          7.2,
          10.5,
          7.4,
          10.2,
          11.5,
          15.1,
          23.2,
          9.7,
          13.8,
          12.7,
          13.1,
          12.5,
          8.5,
          5,
          6.3,
          5.6,
          7.2,
          12.1,
          8.3,
          8.5,
          5,
          11.9,
          27.9,
          17.2,
          27.5,
          15,
          17.2,
          17.9,
          16.3,
          7,
          7.2,
          7.5,
          10.4,
          8.8,
          8.4,
          16.7,
          14.2,
          20.8,
          13.4,
          11.7,
          8.3,
          10.2,
          10.9,
          11,
          9.5,
          14.5,
          14.1,
          16.1,
          14.3,
          11.7,
          13.4,
          9.6,
          8.7,
          8.4,
          12.8,
          10.5,
          17.1,
          18.4,
          15.4,
          10.8,
          11.8,
          14.9,
          12.6,
          14.1,
          13,
          13.4,
          15.2,
          16.1,
          17.8,
          14.9,
          14.1,
          12.7,
          13.5,
          14.9,
          20,
          16.4,
          17.7,
          19.5,
          20.2,
          21.4,
          19.9,
          19,
          19.1,
          19.1,
          20.1,
          19.9,
          19.6,
          23.2,
          29.8,
          13.8,
          13.3,
          16.7,
          12,
          14.6,
          21.4,
          23,
          23.7,
          25,
          21.8,
          20.6,
          21.2,
          19.1,
          20.6,
          15.2,
          7,
          8.1,
          13.6,
          20.1,
          21.8,
          24.5,
          23.1,
          19.7,
          18.3,
          21.2,
          17.5,
          16.8,
          22.4,
          20.6,
          23.9,
          22,
          11.9
         ],
         "xaxis": "x",
         "y": [
          "MEDV",
          "MEDV",
          "MEDV",
          "MEDV",
          "MEDV",
          "MEDV",
          "MEDV",
          "MEDV",
          "MEDV",
          "MEDV",
          "MEDV",
          "MEDV",
          "MEDV",
          "MEDV",
          "MEDV",
          "MEDV",
          "MEDV",
          "MEDV",
          "MEDV",
          "MEDV",
          "MEDV",
          "MEDV",
          "MEDV",
          "MEDV",
          "MEDV",
          "MEDV",
          "MEDV",
          "MEDV",
          "MEDV",
          "MEDV",
          "MEDV",
          "MEDV",
          "MEDV",
          "MEDV",
          "MEDV",
          "MEDV",
          "MEDV",
          "MEDV",
          "MEDV",
          "MEDV",
          "MEDV",
          "MEDV",
          "MEDV",
          "MEDV",
          "MEDV",
          "MEDV",
          "MEDV",
          "MEDV",
          "MEDV",
          "MEDV",
          "MEDV",
          "MEDV",
          "MEDV",
          "MEDV",
          "MEDV",
          "MEDV",
          "MEDV",
          "MEDV",
          "MEDV",
          "MEDV",
          "MEDV",
          "MEDV",
          "MEDV",
          "MEDV",
          "MEDV",
          "MEDV",
          "MEDV",
          "MEDV",
          "MEDV",
          "MEDV",
          "MEDV",
          "MEDV",
          "MEDV",
          "MEDV",
          "MEDV",
          "MEDV",
          "MEDV",
          "MEDV",
          "MEDV",
          "MEDV",
          "MEDV",
          "MEDV",
          "MEDV",
          "MEDV",
          "MEDV",
          "MEDV",
          "MEDV",
          "MEDV",
          "MEDV",
          "MEDV",
          "MEDV",
          "MEDV",
          "MEDV",
          "MEDV",
          "MEDV",
          "MEDV",
          "MEDV",
          "MEDV",
          "MEDV",
          "MEDV",
          "MEDV",
          "MEDV",
          "MEDV",
          "MEDV",
          "MEDV",
          "MEDV",
          "MEDV",
          "MEDV",
          "MEDV",
          "MEDV",
          "MEDV",
          "MEDV",
          "MEDV",
          "MEDV",
          "MEDV",
          "MEDV",
          "MEDV",
          "MEDV",
          "MEDV",
          "MEDV",
          "MEDV",
          "MEDV",
          "MEDV",
          "MEDV",
          "MEDV",
          "MEDV",
          "MEDV",
          "MEDV",
          "MEDV",
          "MEDV",
          "MEDV",
          "MEDV",
          "MEDV",
          "MEDV",
          "MEDV",
          "MEDV",
          "MEDV",
          "MEDV",
          "MEDV",
          "MEDV",
          "MEDV",
          "MEDV",
          "MEDV",
          "MEDV",
          "MEDV",
          "MEDV",
          "MEDV",
          "MEDV",
          "MEDV",
          "MEDV",
          "MEDV",
          "MEDV",
          "MEDV",
          "MEDV",
          "MEDV",
          "MEDV",
          "MEDV",
          "MEDV",
          "MEDV",
          "MEDV",
          "MEDV",
          "MEDV",
          "MEDV",
          "MEDV",
          "MEDV",
          "MEDV",
          "MEDV",
          "MEDV",
          "MEDV",
          "MEDV",
          "MEDV",
          "MEDV",
          "MEDV",
          "MEDV",
          "MEDV",
          "MEDV",
          "MEDV",
          "MEDV",
          "MEDV",
          "MEDV",
          "MEDV",
          "MEDV",
          "MEDV",
          "MEDV",
          "MEDV",
          "MEDV",
          "MEDV",
          "MEDV",
          "MEDV",
          "MEDV",
          "MEDV",
          "MEDV",
          "MEDV",
          "MEDV",
          "MEDV",
          "MEDV",
          "MEDV",
          "MEDV",
          "MEDV",
          "MEDV",
          "MEDV",
          "MEDV",
          "MEDV",
          "MEDV",
          "MEDV",
          "MEDV",
          "MEDV",
          "MEDV",
          "MEDV",
          "MEDV",
          "MEDV",
          "MEDV",
          "MEDV",
          "MEDV",
          "MEDV",
          "MEDV",
          "MEDV",
          "MEDV",
          "MEDV",
          "MEDV",
          "MEDV",
          "MEDV",
          "MEDV",
          "MEDV",
          "MEDV",
          "MEDV",
          "MEDV",
          "MEDV",
          "MEDV",
          "MEDV",
          "MEDV",
          "MEDV",
          "MEDV",
          "MEDV",
          "MEDV",
          "MEDV",
          "MEDV",
          "MEDV",
          "MEDV",
          "MEDV",
          "MEDV",
          "MEDV",
          "MEDV",
          "MEDV",
          "MEDV",
          "MEDV",
          "MEDV",
          "MEDV",
          "MEDV",
          "MEDV",
          "MEDV",
          "MEDV",
          "MEDV",
          "MEDV",
          "MEDV",
          "MEDV",
          "MEDV",
          "MEDV",
          "MEDV",
          "MEDV",
          "MEDV",
          "MEDV",
          "MEDV",
          "MEDV",
          "MEDV",
          "MEDV",
          "MEDV",
          "MEDV",
          "MEDV",
          "MEDV",
          "MEDV",
          "MEDV",
          "MEDV",
          "MEDV",
          "MEDV",
          "MEDV",
          "MEDV",
          "MEDV",
          "MEDV",
          "MEDV",
          "MEDV",
          "MEDV",
          "MEDV",
          "MEDV",
          "MEDV",
          "MEDV",
          "MEDV",
          "MEDV",
          "MEDV",
          "MEDV",
          "MEDV",
          "MEDV",
          "MEDV",
          "MEDV",
          "MEDV",
          "MEDV",
          "MEDV",
          "MEDV",
          "MEDV",
          "MEDV",
          "MEDV",
          "MEDV",
          "MEDV",
          "MEDV",
          "MEDV",
          "MEDV",
          "MEDV",
          "MEDV",
          "MEDV",
          "MEDV",
          "MEDV",
          "MEDV",
          "MEDV",
          "MEDV",
          "MEDV",
          "MEDV",
          "MEDV",
          "MEDV",
          "MEDV",
          "MEDV",
          "MEDV",
          "MEDV",
          "MEDV",
          "MEDV",
          "MEDV",
          "MEDV",
          "MEDV",
          "MEDV",
          "MEDV",
          "MEDV",
          "MEDV",
          "MEDV",
          "MEDV",
          "MEDV",
          "MEDV",
          "MEDV",
          "MEDV",
          "MEDV",
          "MEDV",
          "MEDV",
          "MEDV",
          "MEDV",
          "MEDV",
          "MEDV",
          "MEDV",
          "MEDV",
          "MEDV",
          "MEDV",
          "MEDV",
          "MEDV",
          "MEDV",
          "MEDV",
          "MEDV",
          "MEDV",
          "MEDV",
          "MEDV",
          "MEDV",
          "MEDV",
          "MEDV",
          "MEDV",
          "MEDV",
          "MEDV",
          "MEDV",
          "MEDV",
          "MEDV",
          "MEDV",
          "MEDV",
          "MEDV",
          "MEDV",
          "MEDV",
          "MEDV",
          "MEDV",
          "MEDV",
          "MEDV",
          "MEDV",
          "MEDV",
          "MEDV",
          "MEDV",
          "MEDV",
          "MEDV",
          "MEDV",
          "MEDV",
          "MEDV",
          "MEDV",
          "MEDV",
          "MEDV",
          "MEDV",
          "MEDV",
          "MEDV",
          "MEDV",
          "MEDV",
          "MEDV",
          "MEDV",
          "MEDV",
          "MEDV",
          "MEDV",
          "MEDV",
          "MEDV",
          "MEDV",
          "MEDV",
          "MEDV",
          "MEDV",
          "MEDV",
          "MEDV",
          "MEDV",
          "MEDV",
          "MEDV",
          "MEDV",
          "MEDV",
          "MEDV",
          "MEDV",
          "MEDV",
          "MEDV",
          "MEDV",
          "MEDV",
          "MEDV",
          "MEDV",
          "MEDV",
          "MEDV",
          "MEDV",
          "MEDV",
          "MEDV",
          "MEDV",
          "MEDV",
          "MEDV",
          "MEDV",
          "MEDV",
          "MEDV",
          "MEDV",
          "MEDV",
          "MEDV",
          "MEDV",
          "MEDV",
          "MEDV",
          "MEDV",
          "MEDV",
          "MEDV",
          "MEDV",
          "MEDV",
          "MEDV",
          "MEDV",
          "MEDV",
          "MEDV",
          "MEDV",
          "MEDV",
          "MEDV",
          "MEDV",
          "MEDV",
          "MEDV",
          "MEDV",
          "MEDV",
          "MEDV",
          "MEDV",
          "MEDV",
          "MEDV",
          "MEDV",
          "MEDV",
          "MEDV",
          "MEDV",
          "MEDV",
          "MEDV",
          "MEDV",
          "MEDV",
          "MEDV",
          "MEDV",
          "MEDV",
          "MEDV",
          "MEDV",
          "MEDV",
          "MEDV",
          "MEDV",
          "MEDV",
          "MEDV",
          "MEDV",
          "MEDV",
          "MEDV",
          "MEDV",
          "MEDV",
          "MEDV",
          "MEDV",
          "MEDV",
          "MEDV",
          "MEDV",
          "MEDV",
          "MEDV",
          "MEDV",
          "MEDV",
          "MEDV",
          "MEDV",
          "MEDV",
          "MEDV",
          "MEDV",
          "MEDV",
          "MEDV",
          "MEDV",
          "MEDV",
          "MEDV",
          "MEDV",
          "MEDV",
          "MEDV",
          "MEDV",
          "MEDV",
          "MEDV",
          "MEDV",
          "MEDV",
          "MEDV"
         ],
         "yaxis": "y2"
        }
       ],
       "layout": {
        "barmode": "overlay",
        "height": 500,
        "hovermode": "closest",
        "legend": {
         "traceorder": "reversed"
        },
        "template": {
         "data": {
          "bar": [
           {
            "error_x": {
             "color": "#2a3f5f"
            },
            "error_y": {
             "color": "#2a3f5f"
            },
            "marker": {
             "line": {
              "color": "#E5ECF6",
              "width": 0.5
             }
            },
            "type": "bar"
           }
          ],
          "barpolar": [
           {
            "marker": {
             "line": {
              "color": "#E5ECF6",
              "width": 0.5
             }
            },
            "type": "barpolar"
           }
          ],
          "carpet": [
           {
            "aaxis": {
             "endlinecolor": "#2a3f5f",
             "gridcolor": "white",
             "linecolor": "white",
             "minorgridcolor": "white",
             "startlinecolor": "#2a3f5f"
            },
            "baxis": {
             "endlinecolor": "#2a3f5f",
             "gridcolor": "white",
             "linecolor": "white",
             "minorgridcolor": "white",
             "startlinecolor": "#2a3f5f"
            },
            "type": "carpet"
           }
          ],
          "choropleth": [
           {
            "colorbar": {
             "outlinewidth": 0,
             "ticks": ""
            },
            "type": "choropleth"
           }
          ],
          "contour": [
           {
            "colorbar": {
             "outlinewidth": 0,
             "ticks": ""
            },
            "colorscale": [
             [
              0,
              "#0d0887"
             ],
             [
              0.1111111111111111,
              "#46039f"
             ],
             [
              0.2222222222222222,
              "#7201a8"
             ],
             [
              0.3333333333333333,
              "#9c179e"
             ],
             [
              0.4444444444444444,
              "#bd3786"
             ],
             [
              0.5555555555555556,
              "#d8576b"
             ],
             [
              0.6666666666666666,
              "#ed7953"
             ],
             [
              0.7777777777777778,
              "#fb9f3a"
             ],
             [
              0.8888888888888888,
              "#fdca26"
             ],
             [
              1,
              "#f0f921"
             ]
            ],
            "type": "contour"
           }
          ],
          "contourcarpet": [
           {
            "colorbar": {
             "outlinewidth": 0,
             "ticks": ""
            },
            "type": "contourcarpet"
           }
          ],
          "heatmap": [
           {
            "colorbar": {
             "outlinewidth": 0,
             "ticks": ""
            },
            "colorscale": [
             [
              0,
              "#0d0887"
             ],
             [
              0.1111111111111111,
              "#46039f"
             ],
             [
              0.2222222222222222,
              "#7201a8"
             ],
             [
              0.3333333333333333,
              "#9c179e"
             ],
             [
              0.4444444444444444,
              "#bd3786"
             ],
             [
              0.5555555555555556,
              "#d8576b"
             ],
             [
              0.6666666666666666,
              "#ed7953"
             ],
             [
              0.7777777777777778,
              "#fb9f3a"
             ],
             [
              0.8888888888888888,
              "#fdca26"
             ],
             [
              1,
              "#f0f921"
             ]
            ],
            "type": "heatmap"
           }
          ],
          "heatmapgl": [
           {
            "colorbar": {
             "outlinewidth": 0,
             "ticks": ""
            },
            "colorscale": [
             [
              0,
              "#0d0887"
             ],
             [
              0.1111111111111111,
              "#46039f"
             ],
             [
              0.2222222222222222,
              "#7201a8"
             ],
             [
              0.3333333333333333,
              "#9c179e"
             ],
             [
              0.4444444444444444,
              "#bd3786"
             ],
             [
              0.5555555555555556,
              "#d8576b"
             ],
             [
              0.6666666666666666,
              "#ed7953"
             ],
             [
              0.7777777777777778,
              "#fb9f3a"
             ],
             [
              0.8888888888888888,
              "#fdca26"
             ],
             [
              1,
              "#f0f921"
             ]
            ],
            "type": "heatmapgl"
           }
          ],
          "histogram": [
           {
            "marker": {
             "colorbar": {
              "outlinewidth": 0,
              "ticks": ""
             }
            },
            "type": "histogram"
           }
          ],
          "histogram2d": [
           {
            "colorbar": {
             "outlinewidth": 0,
             "ticks": ""
            },
            "colorscale": [
             [
              0,
              "#0d0887"
             ],
             [
              0.1111111111111111,
              "#46039f"
             ],
             [
              0.2222222222222222,
              "#7201a8"
             ],
             [
              0.3333333333333333,
              "#9c179e"
             ],
             [
              0.4444444444444444,
              "#bd3786"
             ],
             [
              0.5555555555555556,
              "#d8576b"
             ],
             [
              0.6666666666666666,
              "#ed7953"
             ],
             [
              0.7777777777777778,
              "#fb9f3a"
             ],
             [
              0.8888888888888888,
              "#fdca26"
             ],
             [
              1,
              "#f0f921"
             ]
            ],
            "type": "histogram2d"
           }
          ],
          "histogram2dcontour": [
           {
            "colorbar": {
             "outlinewidth": 0,
             "ticks": ""
            },
            "colorscale": [
             [
              0,
              "#0d0887"
             ],
             [
              0.1111111111111111,
              "#46039f"
             ],
             [
              0.2222222222222222,
              "#7201a8"
             ],
             [
              0.3333333333333333,
              "#9c179e"
             ],
             [
              0.4444444444444444,
              "#bd3786"
             ],
             [
              0.5555555555555556,
              "#d8576b"
             ],
             [
              0.6666666666666666,
              "#ed7953"
             ],
             [
              0.7777777777777778,
              "#fb9f3a"
             ],
             [
              0.8888888888888888,
              "#fdca26"
             ],
             [
              1,
              "#f0f921"
             ]
            ],
            "type": "histogram2dcontour"
           }
          ],
          "mesh3d": [
           {
            "colorbar": {
             "outlinewidth": 0,
             "ticks": ""
            },
            "type": "mesh3d"
           }
          ],
          "parcoords": [
           {
            "line": {
             "colorbar": {
              "outlinewidth": 0,
              "ticks": ""
             }
            },
            "type": "parcoords"
           }
          ],
          "pie": [
           {
            "automargin": true,
            "type": "pie"
           }
          ],
          "scatter": [
           {
            "marker": {
             "colorbar": {
              "outlinewidth": 0,
              "ticks": ""
             }
            },
            "type": "scatter"
           }
          ],
          "scatter3d": [
           {
            "line": {
             "colorbar": {
              "outlinewidth": 0,
              "ticks": ""
             }
            },
            "marker": {
             "colorbar": {
              "outlinewidth": 0,
              "ticks": ""
             }
            },
            "type": "scatter3d"
           }
          ],
          "scattercarpet": [
           {
            "marker": {
             "colorbar": {
              "outlinewidth": 0,
              "ticks": ""
             }
            },
            "type": "scattercarpet"
           }
          ],
          "scattergeo": [
           {
            "marker": {
             "colorbar": {
              "outlinewidth": 0,
              "ticks": ""
             }
            },
            "type": "scattergeo"
           }
          ],
          "scattergl": [
           {
            "marker": {
             "colorbar": {
              "outlinewidth": 0,
              "ticks": ""
             }
            },
            "type": "scattergl"
           }
          ],
          "scattermapbox": [
           {
            "marker": {
             "colorbar": {
              "outlinewidth": 0,
              "ticks": ""
             }
            },
            "type": "scattermapbox"
           }
          ],
          "scatterpolar": [
           {
            "marker": {
             "colorbar": {
              "outlinewidth": 0,
              "ticks": ""
             }
            },
            "type": "scatterpolar"
           }
          ],
          "scatterpolargl": [
           {
            "marker": {
             "colorbar": {
              "outlinewidth": 0,
              "ticks": ""
             }
            },
            "type": "scatterpolargl"
           }
          ],
          "scatterternary": [
           {
            "marker": {
             "colorbar": {
              "outlinewidth": 0,
              "ticks": ""
             }
            },
            "type": "scatterternary"
           }
          ],
          "surface": [
           {
            "colorbar": {
             "outlinewidth": 0,
             "ticks": ""
            },
            "colorscale": [
             [
              0,
              "#0d0887"
             ],
             [
              0.1111111111111111,
              "#46039f"
             ],
             [
              0.2222222222222222,
              "#7201a8"
             ],
             [
              0.3333333333333333,
              "#9c179e"
             ],
             [
              0.4444444444444444,
              "#bd3786"
             ],
             [
              0.5555555555555556,
              "#d8576b"
             ],
             [
              0.6666666666666666,
              "#ed7953"
             ],
             [
              0.7777777777777778,
              "#fb9f3a"
             ],
             [
              0.8888888888888888,
              "#fdca26"
             ],
             [
              1,
              "#f0f921"
             ]
            ],
            "type": "surface"
           }
          ],
          "table": [
           {
            "cells": {
             "fill": {
              "color": "#EBF0F8"
             },
             "line": {
              "color": "white"
             }
            },
            "header": {
             "fill": {
              "color": "#C8D4E3"
             },
             "line": {
              "color": "white"
             }
            },
            "type": "table"
           }
          ]
         },
         "layout": {
          "annotationdefaults": {
           "arrowcolor": "#2a3f5f",
           "arrowhead": 0,
           "arrowwidth": 1
          },
          "coloraxis": {
           "colorbar": {
            "outlinewidth": 0,
            "ticks": ""
           }
          },
          "colorscale": {
           "diverging": [
            [
             0,
             "#8e0152"
            ],
            [
             0.1,
             "#c51b7d"
            ],
            [
             0.2,
             "#de77ae"
            ],
            [
             0.3,
             "#f1b6da"
            ],
            [
             0.4,
             "#fde0ef"
            ],
            [
             0.5,
             "#f7f7f7"
            ],
            [
             0.6,
             "#e6f5d0"
            ],
            [
             0.7,
             "#b8e186"
            ],
            [
             0.8,
             "#7fbc41"
            ],
            [
             0.9,
             "#4d9221"
            ],
            [
             1,
             "#276419"
            ]
           ],
           "sequential": [
            [
             0,
             "#0d0887"
            ],
            [
             0.1111111111111111,
             "#46039f"
            ],
            [
             0.2222222222222222,
             "#7201a8"
            ],
            [
             0.3333333333333333,
             "#9c179e"
            ],
            [
             0.4444444444444444,
             "#bd3786"
            ],
            [
             0.5555555555555556,
             "#d8576b"
            ],
            [
             0.6666666666666666,
             "#ed7953"
            ],
            [
             0.7777777777777778,
             "#fb9f3a"
            ],
            [
             0.8888888888888888,
             "#fdca26"
            ],
            [
             1,
             "#f0f921"
            ]
           ],
           "sequentialminus": [
            [
             0,
             "#0d0887"
            ],
            [
             0.1111111111111111,
             "#46039f"
            ],
            [
             0.2222222222222222,
             "#7201a8"
            ],
            [
             0.3333333333333333,
             "#9c179e"
            ],
            [
             0.4444444444444444,
             "#bd3786"
            ],
            [
             0.5555555555555556,
             "#d8576b"
            ],
            [
             0.6666666666666666,
             "#ed7953"
            ],
            [
             0.7777777777777778,
             "#fb9f3a"
            ],
            [
             0.8888888888888888,
             "#fdca26"
            ],
            [
             1,
             "#f0f921"
            ]
           ]
          },
          "colorway": [
           "#636efa",
           "#EF553B",
           "#00cc96",
           "#ab63fa",
           "#FFA15A",
           "#19d3f3",
           "#FF6692",
           "#B6E880",
           "#FF97FF",
           "#FECB52"
          ],
          "font": {
           "color": "#2a3f5f"
          },
          "geo": {
           "bgcolor": "white",
           "lakecolor": "white",
           "landcolor": "#E5ECF6",
           "showlakes": true,
           "showland": true,
           "subunitcolor": "white"
          },
          "hoverlabel": {
           "align": "left"
          },
          "hovermode": "closest",
          "mapbox": {
           "style": "light"
          },
          "paper_bgcolor": "white",
          "plot_bgcolor": "#E5ECF6",
          "polar": {
           "angularaxis": {
            "gridcolor": "white",
            "linecolor": "white",
            "ticks": ""
           },
           "bgcolor": "#E5ECF6",
           "radialaxis": {
            "gridcolor": "white",
            "linecolor": "white",
            "ticks": ""
           }
          },
          "scene": {
           "xaxis": {
            "backgroundcolor": "#E5ECF6",
            "gridcolor": "white",
            "gridwidth": 2,
            "linecolor": "white",
            "showbackground": true,
            "ticks": "",
            "zerolinecolor": "white"
           },
           "yaxis": {
            "backgroundcolor": "#E5ECF6",
            "gridcolor": "white",
            "gridwidth": 2,
            "linecolor": "white",
            "showbackground": true,
            "ticks": "",
            "zerolinecolor": "white"
           },
           "zaxis": {
            "backgroundcolor": "#E5ECF6",
            "gridcolor": "white",
            "gridwidth": 2,
            "linecolor": "white",
            "showbackground": true,
            "ticks": "",
            "zerolinecolor": "white"
           }
          },
          "shapedefaults": {
           "line": {
            "color": "#2a3f5f"
           }
          },
          "ternary": {
           "aaxis": {
            "gridcolor": "white",
            "linecolor": "white",
            "ticks": ""
           },
           "baxis": {
            "gridcolor": "white",
            "linecolor": "white",
            "ticks": ""
           },
           "bgcolor": "#E5ECF6",
           "caxis": {
            "gridcolor": "white",
            "linecolor": "white",
            "ticks": ""
           }
          },
          "title": {
           "x": 0.05
          },
          "xaxis": {
           "automargin": true,
           "gridcolor": "white",
           "linecolor": "white",
           "ticks": "",
           "title": {
            "standoff": 15
           },
           "zerolinecolor": "white",
           "zerolinewidth": 2
          },
          "yaxis": {
           "automargin": true,
           "gridcolor": "white",
           "linecolor": "white",
           "ticks": "",
           "title": {
            "standoff": 15
           },
           "zerolinecolor": "white",
           "zerolinewidth": 2
          }
         }
        },
        "width": 800,
        "xaxis": {
         "anchor": "y2",
         "domain": [
          0,
          1
         ],
         "zeroline": false
        },
        "yaxis": {
         "anchor": "free",
         "domain": [
          0.35,
          1
         ],
         "position": 0
        },
        "yaxis2": {
         "anchor": "x",
         "domain": [
          0,
          0.25
         ],
         "dtick": 1,
         "showticklabels": false
        }
       }
      }
     },
     "metadata": {}
    }
   ],
   "source": [
    "fig = pff.create_distplot([data['MEDV']], group_labels = ['MEDV'])\n",
    "fig.update_layout(width = 800, height = 500)\n",
    "fig.show()"
   ]
  },
  {
   "cell_type": "code",
   "execution_count": 14,
   "metadata": {},
   "outputs": [
    {
     "output_type": "display_data",
     "data": {
      "application/vnd.plotly.v1+json": {
       "config": {
        "plotlyServerURL": "https://plot.ly"
       },
       "data": [
        {
         "alignmentgroup": "True",
         "hovertemplate": "MEDV=%{y}<extra></extra>",
         "legendgroup": "",
         "marker": {
          "color": "#636efa"
         },
         "name": "",
         "notched": false,
         "offsetgroup": "",
         "orientation": "v",
         "showlegend": false,
         "type": "box",
         "x0": " ",
         "xaxis": "x",
         "y": [
          24,
          21.6,
          34.7,
          33.4,
          36.2,
          28.7,
          22.9,
          27.1,
          16.5,
          18.9,
          15,
          18.9,
          21.7,
          20.4,
          18.2,
          19.9,
          23.1,
          17.5,
          20.2,
          18.2,
          13.6,
          19.6,
          15.2,
          14.5,
          15.6,
          13.9,
          16.6,
          14.8,
          18.4,
          21,
          12.7,
          14.5,
          13.2,
          13.1,
          13.5,
          18.9,
          20,
          21,
          24.7,
          30.8,
          34.9,
          26.6,
          25.3,
          24.7,
          21.2,
          19.3,
          20,
          16.6,
          14.4,
          19.4,
          19.7,
          20.5,
          25,
          23.4,
          18.9,
          35.4,
          24.7,
          31.6,
          23.3,
          19.6,
          18.7,
          16,
          22.2,
          25,
          33,
          23.5,
          19.4,
          22,
          17.4,
          20.9,
          24.2,
          21.7,
          22.8,
          23.4,
          24.1,
          21.4,
          20,
          20.8,
          21.2,
          20.3,
          28,
          23.9,
          24.8,
          22.9,
          23.9,
          26.6,
          22.5,
          22.2,
          23.6,
          28.7,
          22.6,
          22,
          22.9,
          25,
          20.6,
          28.4,
          21.4,
          38.7,
          43.8,
          33.2,
          27.5,
          26.5,
          18.6,
          19.3,
          20.1,
          19.5,
          19.5,
          20.4,
          19.8,
          19.4,
          21.7,
          22.8,
          18.8,
          18.7,
          18.5,
          18.3,
          21.2,
          19.2,
          20.4,
          19.3,
          22,
          20.3,
          20.5,
          17.3,
          18.8,
          21.4,
          15.7,
          16.2,
          18,
          14.3,
          19.2,
          19.6,
          23,
          18.4,
          15.6,
          18.1,
          17.4,
          17.1,
          13.3,
          17.8,
          14,
          14.4,
          13.4,
          15.6,
          11.8,
          13.8,
          15.6,
          14.6,
          17.8,
          15.4,
          21.5,
          19.6,
          15.3,
          19.4,
          17,
          15.6,
          13.1,
          41.3,
          24.3,
          23.3,
          27,
          50,
          50,
          50,
          22.7,
          25,
          50,
          23.8,
          23.8,
          22.3,
          17.4,
          19.1,
          23.1,
          23.6,
          22.6,
          29.4,
          23.2,
          24.6,
          29.9,
          37.2,
          39.8,
          36.2,
          37.9,
          32.5,
          26.4,
          29.6,
          50,
          32,
          29.8,
          34.9,
          37,
          30.5,
          36.4,
          31.1,
          29.1,
          50,
          33.3,
          30.3,
          34.6,
          34.9,
          32.9,
          24.1,
          42.3,
          48.5,
          50,
          22.6,
          24.4,
          22.5,
          24.4,
          20,
          21.7,
          19.3,
          22.4,
          28.1,
          23.7,
          25,
          23.3,
          28.7,
          21.5,
          23,
          26.7,
          21.7,
          27.5,
          30.1,
          44.8,
          50,
          37.6,
          31.6,
          46.7,
          31.5,
          24.3,
          31.7,
          41.7,
          48.3,
          29,
          24,
          25.1,
          31.5,
          23.7,
          23.3,
          22,
          20.1,
          22.2,
          23.7,
          17.6,
          18.5,
          24.3,
          20.5,
          24.5,
          26.2,
          24.4,
          24.8,
          29.6,
          42.8,
          21.9,
          20.9,
          44,
          50,
          36,
          30.1,
          33.8,
          43.1,
          48.8,
          31,
          36.5,
          22.8,
          30.7,
          50,
          43.5,
          20.7,
          21.1,
          25.2,
          24.4,
          35.2,
          32.4,
          32,
          33.2,
          33.1,
          29.1,
          35.1,
          45.4,
          35.4,
          46,
          50,
          32.2,
          22,
          20.1,
          23.2,
          22.3,
          24.8,
          28.5,
          37.3,
          27.9,
          23.9,
          21.7,
          28.6,
          27.1,
          20.3,
          22.5,
          29,
          24.8,
          22,
          26.4,
          33.1,
          36.1,
          28.4,
          33.4,
          28.2,
          22.8,
          20.3,
          16.1,
          22.1,
          19.4,
          21.6,
          23.8,
          16.2,
          17.8,
          19.8,
          23.1,
          21,
          23.8,
          23.1,
          20.4,
          18.5,
          25,
          24.6,
          23,
          22.2,
          19.3,
          22.6,
          19.8,
          17.1,
          19.4,
          22.2,
          20.7,
          21.1,
          19.5,
          18.5,
          20.6,
          19,
          18.7,
          32.7,
          16.5,
          23.9,
          31.2,
          17.5,
          17.2,
          23.1,
          24.5,
          26.6,
          22.9,
          24.1,
          18.6,
          30.1,
          18.2,
          20.6,
          17.8,
          21.7,
          22.7,
          22.6,
          25,
          19.9,
          20.8,
          16.8,
          21.9,
          27.5,
          21.9,
          23.1,
          50,
          50,
          50,
          50,
          50,
          13.8,
          13.8,
          15,
          13.9,
          13.3,
          13.1,
          10.2,
          10.4,
          10.9,
          11.3,
          12.3,
          8.8,
          7.2,
          10.5,
          7.4,
          10.2,
          11.5,
          15.1,
          23.2,
          9.7,
          13.8,
          12.7,
          13.1,
          12.5,
          8.5,
          5,
          6.3,
          5.6,
          7.2,
          12.1,
          8.3,
          8.5,
          5,
          11.9,
          27.9,
          17.2,
          27.5,
          15,
          17.2,
          17.9,
          16.3,
          7,
          7.2,
          7.5,
          10.4,
          8.8,
          8.4,
          16.7,
          14.2,
          20.8,
          13.4,
          11.7,
          8.3,
          10.2,
          10.9,
          11,
          9.5,
          14.5,
          14.1,
          16.1,
          14.3,
          11.7,
          13.4,
          9.6,
          8.7,
          8.4,
          12.8,
          10.5,
          17.1,
          18.4,
          15.4,
          10.8,
          11.8,
          14.9,
          12.6,
          14.1,
          13,
          13.4,
          15.2,
          16.1,
          17.8,
          14.9,
          14.1,
          12.7,
          13.5,
          14.9,
          20,
          16.4,
          17.7,
          19.5,
          20.2,
          21.4,
          19.9,
          19,
          19.1,
          19.1,
          20.1,
          19.9,
          19.6,
          23.2,
          29.8,
          13.8,
          13.3,
          16.7,
          12,
          14.6,
          21.4,
          23,
          23.7,
          25,
          21.8,
          20.6,
          21.2,
          19.1,
          20.6,
          15.2,
          7,
          8.1,
          13.6,
          20.1,
          21.8,
          24.5,
          23.1,
          19.7,
          18.3,
          21.2,
          17.5,
          16.8,
          22.4,
          20.6,
          23.9,
          22,
          11.9
         ],
         "y0": " ",
         "yaxis": "y"
        }
       ],
       "layout": {
        "boxmode": "group",
        "legend": {
         "tracegroupgap": 0
        },
        "margin": {
         "t": 60
        },
        "template": {
         "data": {
          "bar": [
           {
            "error_x": {
             "color": "#2a3f5f"
            },
            "error_y": {
             "color": "#2a3f5f"
            },
            "marker": {
             "line": {
              "color": "#E5ECF6",
              "width": 0.5
             }
            },
            "type": "bar"
           }
          ],
          "barpolar": [
           {
            "marker": {
             "line": {
              "color": "#E5ECF6",
              "width": 0.5
             }
            },
            "type": "barpolar"
           }
          ],
          "carpet": [
           {
            "aaxis": {
             "endlinecolor": "#2a3f5f",
             "gridcolor": "white",
             "linecolor": "white",
             "minorgridcolor": "white",
             "startlinecolor": "#2a3f5f"
            },
            "baxis": {
             "endlinecolor": "#2a3f5f",
             "gridcolor": "white",
             "linecolor": "white",
             "minorgridcolor": "white",
             "startlinecolor": "#2a3f5f"
            },
            "type": "carpet"
           }
          ],
          "choropleth": [
           {
            "colorbar": {
             "outlinewidth": 0,
             "ticks": ""
            },
            "type": "choropleth"
           }
          ],
          "contour": [
           {
            "colorbar": {
             "outlinewidth": 0,
             "ticks": ""
            },
            "colorscale": [
             [
              0,
              "#0d0887"
             ],
             [
              0.1111111111111111,
              "#46039f"
             ],
             [
              0.2222222222222222,
              "#7201a8"
             ],
             [
              0.3333333333333333,
              "#9c179e"
             ],
             [
              0.4444444444444444,
              "#bd3786"
             ],
             [
              0.5555555555555556,
              "#d8576b"
             ],
             [
              0.6666666666666666,
              "#ed7953"
             ],
             [
              0.7777777777777778,
              "#fb9f3a"
             ],
             [
              0.8888888888888888,
              "#fdca26"
             ],
             [
              1,
              "#f0f921"
             ]
            ],
            "type": "contour"
           }
          ],
          "contourcarpet": [
           {
            "colorbar": {
             "outlinewidth": 0,
             "ticks": ""
            },
            "type": "contourcarpet"
           }
          ],
          "heatmap": [
           {
            "colorbar": {
             "outlinewidth": 0,
             "ticks": ""
            },
            "colorscale": [
             [
              0,
              "#0d0887"
             ],
             [
              0.1111111111111111,
              "#46039f"
             ],
             [
              0.2222222222222222,
              "#7201a8"
             ],
             [
              0.3333333333333333,
              "#9c179e"
             ],
             [
              0.4444444444444444,
              "#bd3786"
             ],
             [
              0.5555555555555556,
              "#d8576b"
             ],
             [
              0.6666666666666666,
              "#ed7953"
             ],
             [
              0.7777777777777778,
              "#fb9f3a"
             ],
             [
              0.8888888888888888,
              "#fdca26"
             ],
             [
              1,
              "#f0f921"
             ]
            ],
            "type": "heatmap"
           }
          ],
          "heatmapgl": [
           {
            "colorbar": {
             "outlinewidth": 0,
             "ticks": ""
            },
            "colorscale": [
             [
              0,
              "#0d0887"
             ],
             [
              0.1111111111111111,
              "#46039f"
             ],
             [
              0.2222222222222222,
              "#7201a8"
             ],
             [
              0.3333333333333333,
              "#9c179e"
             ],
             [
              0.4444444444444444,
              "#bd3786"
             ],
             [
              0.5555555555555556,
              "#d8576b"
             ],
             [
              0.6666666666666666,
              "#ed7953"
             ],
             [
              0.7777777777777778,
              "#fb9f3a"
             ],
             [
              0.8888888888888888,
              "#fdca26"
             ],
             [
              1,
              "#f0f921"
             ]
            ],
            "type": "heatmapgl"
           }
          ],
          "histogram": [
           {
            "marker": {
             "colorbar": {
              "outlinewidth": 0,
              "ticks": ""
             }
            },
            "type": "histogram"
           }
          ],
          "histogram2d": [
           {
            "colorbar": {
             "outlinewidth": 0,
             "ticks": ""
            },
            "colorscale": [
             [
              0,
              "#0d0887"
             ],
             [
              0.1111111111111111,
              "#46039f"
             ],
             [
              0.2222222222222222,
              "#7201a8"
             ],
             [
              0.3333333333333333,
              "#9c179e"
             ],
             [
              0.4444444444444444,
              "#bd3786"
             ],
             [
              0.5555555555555556,
              "#d8576b"
             ],
             [
              0.6666666666666666,
              "#ed7953"
             ],
             [
              0.7777777777777778,
              "#fb9f3a"
             ],
             [
              0.8888888888888888,
              "#fdca26"
             ],
             [
              1,
              "#f0f921"
             ]
            ],
            "type": "histogram2d"
           }
          ],
          "histogram2dcontour": [
           {
            "colorbar": {
             "outlinewidth": 0,
             "ticks": ""
            },
            "colorscale": [
             [
              0,
              "#0d0887"
             ],
             [
              0.1111111111111111,
              "#46039f"
             ],
             [
              0.2222222222222222,
              "#7201a8"
             ],
             [
              0.3333333333333333,
              "#9c179e"
             ],
             [
              0.4444444444444444,
              "#bd3786"
             ],
             [
              0.5555555555555556,
              "#d8576b"
             ],
             [
              0.6666666666666666,
              "#ed7953"
             ],
             [
              0.7777777777777778,
              "#fb9f3a"
             ],
             [
              0.8888888888888888,
              "#fdca26"
             ],
             [
              1,
              "#f0f921"
             ]
            ],
            "type": "histogram2dcontour"
           }
          ],
          "mesh3d": [
           {
            "colorbar": {
             "outlinewidth": 0,
             "ticks": ""
            },
            "type": "mesh3d"
           }
          ],
          "parcoords": [
           {
            "line": {
             "colorbar": {
              "outlinewidth": 0,
              "ticks": ""
             }
            },
            "type": "parcoords"
           }
          ],
          "pie": [
           {
            "automargin": true,
            "type": "pie"
           }
          ],
          "scatter": [
           {
            "marker": {
             "colorbar": {
              "outlinewidth": 0,
              "ticks": ""
             }
            },
            "type": "scatter"
           }
          ],
          "scatter3d": [
           {
            "line": {
             "colorbar": {
              "outlinewidth": 0,
              "ticks": ""
             }
            },
            "marker": {
             "colorbar": {
              "outlinewidth": 0,
              "ticks": ""
             }
            },
            "type": "scatter3d"
           }
          ],
          "scattercarpet": [
           {
            "marker": {
             "colorbar": {
              "outlinewidth": 0,
              "ticks": ""
             }
            },
            "type": "scattercarpet"
           }
          ],
          "scattergeo": [
           {
            "marker": {
             "colorbar": {
              "outlinewidth": 0,
              "ticks": ""
             }
            },
            "type": "scattergeo"
           }
          ],
          "scattergl": [
           {
            "marker": {
             "colorbar": {
              "outlinewidth": 0,
              "ticks": ""
             }
            },
            "type": "scattergl"
           }
          ],
          "scattermapbox": [
           {
            "marker": {
             "colorbar": {
              "outlinewidth": 0,
              "ticks": ""
             }
            },
            "type": "scattermapbox"
           }
          ],
          "scatterpolar": [
           {
            "marker": {
             "colorbar": {
              "outlinewidth": 0,
              "ticks": ""
             }
            },
            "type": "scatterpolar"
           }
          ],
          "scatterpolargl": [
           {
            "marker": {
             "colorbar": {
              "outlinewidth": 0,
              "ticks": ""
             }
            },
            "type": "scatterpolargl"
           }
          ],
          "scatterternary": [
           {
            "marker": {
             "colorbar": {
              "outlinewidth": 0,
              "ticks": ""
             }
            },
            "type": "scatterternary"
           }
          ],
          "surface": [
           {
            "colorbar": {
             "outlinewidth": 0,
             "ticks": ""
            },
            "colorscale": [
             [
              0,
              "#0d0887"
             ],
             [
              0.1111111111111111,
              "#46039f"
             ],
             [
              0.2222222222222222,
              "#7201a8"
             ],
             [
              0.3333333333333333,
              "#9c179e"
             ],
             [
              0.4444444444444444,
              "#bd3786"
             ],
             [
              0.5555555555555556,
              "#d8576b"
             ],
             [
              0.6666666666666666,
              "#ed7953"
             ],
             [
              0.7777777777777778,
              "#fb9f3a"
             ],
             [
              0.8888888888888888,
              "#fdca26"
             ],
             [
              1,
              "#f0f921"
             ]
            ],
            "type": "surface"
           }
          ],
          "table": [
           {
            "cells": {
             "fill": {
              "color": "#EBF0F8"
             },
             "line": {
              "color": "white"
             }
            },
            "header": {
             "fill": {
              "color": "#C8D4E3"
             },
             "line": {
              "color": "white"
             }
            },
            "type": "table"
           }
          ]
         },
         "layout": {
          "annotationdefaults": {
           "arrowcolor": "#2a3f5f",
           "arrowhead": 0,
           "arrowwidth": 1
          },
          "coloraxis": {
           "colorbar": {
            "outlinewidth": 0,
            "ticks": ""
           }
          },
          "colorscale": {
           "diverging": [
            [
             0,
             "#8e0152"
            ],
            [
             0.1,
             "#c51b7d"
            ],
            [
             0.2,
             "#de77ae"
            ],
            [
             0.3,
             "#f1b6da"
            ],
            [
             0.4,
             "#fde0ef"
            ],
            [
             0.5,
             "#f7f7f7"
            ],
            [
             0.6,
             "#e6f5d0"
            ],
            [
             0.7,
             "#b8e186"
            ],
            [
             0.8,
             "#7fbc41"
            ],
            [
             0.9,
             "#4d9221"
            ],
            [
             1,
             "#276419"
            ]
           ],
           "sequential": [
            [
             0,
             "#0d0887"
            ],
            [
             0.1111111111111111,
             "#46039f"
            ],
            [
             0.2222222222222222,
             "#7201a8"
            ],
            [
             0.3333333333333333,
             "#9c179e"
            ],
            [
             0.4444444444444444,
             "#bd3786"
            ],
            [
             0.5555555555555556,
             "#d8576b"
            ],
            [
             0.6666666666666666,
             "#ed7953"
            ],
            [
             0.7777777777777778,
             "#fb9f3a"
            ],
            [
             0.8888888888888888,
             "#fdca26"
            ],
            [
             1,
             "#f0f921"
            ]
           ],
           "sequentialminus": [
            [
             0,
             "#0d0887"
            ],
            [
             0.1111111111111111,
             "#46039f"
            ],
            [
             0.2222222222222222,
             "#7201a8"
            ],
            [
             0.3333333333333333,
             "#9c179e"
            ],
            [
             0.4444444444444444,
             "#bd3786"
            ],
            [
             0.5555555555555556,
             "#d8576b"
            ],
            [
             0.6666666666666666,
             "#ed7953"
            ],
            [
             0.7777777777777778,
             "#fb9f3a"
            ],
            [
             0.8888888888888888,
             "#fdca26"
            ],
            [
             1,
             "#f0f921"
            ]
           ]
          },
          "colorway": [
           "#636efa",
           "#EF553B",
           "#00cc96",
           "#ab63fa",
           "#FFA15A",
           "#19d3f3",
           "#FF6692",
           "#B6E880",
           "#FF97FF",
           "#FECB52"
          ],
          "font": {
           "color": "#2a3f5f"
          },
          "geo": {
           "bgcolor": "white",
           "lakecolor": "white",
           "landcolor": "#E5ECF6",
           "showlakes": true,
           "showland": true,
           "subunitcolor": "white"
          },
          "hoverlabel": {
           "align": "left"
          },
          "hovermode": "closest",
          "mapbox": {
           "style": "light"
          },
          "paper_bgcolor": "white",
          "plot_bgcolor": "#E5ECF6",
          "polar": {
           "angularaxis": {
            "gridcolor": "white",
            "linecolor": "white",
            "ticks": ""
           },
           "bgcolor": "#E5ECF6",
           "radialaxis": {
            "gridcolor": "white",
            "linecolor": "white",
            "ticks": ""
           }
          },
          "scene": {
           "xaxis": {
            "backgroundcolor": "#E5ECF6",
            "gridcolor": "white",
            "gridwidth": 2,
            "linecolor": "white",
            "showbackground": true,
            "ticks": "",
            "zerolinecolor": "white"
           },
           "yaxis": {
            "backgroundcolor": "#E5ECF6",
            "gridcolor": "white",
            "gridwidth": 2,
            "linecolor": "white",
            "showbackground": true,
            "ticks": "",
            "zerolinecolor": "white"
           },
           "zaxis": {
            "backgroundcolor": "#E5ECF6",
            "gridcolor": "white",
            "gridwidth": 2,
            "linecolor": "white",
            "showbackground": true,
            "ticks": "",
            "zerolinecolor": "white"
           }
          },
          "shapedefaults": {
           "line": {
            "color": "#2a3f5f"
           }
          },
          "ternary": {
           "aaxis": {
            "gridcolor": "white",
            "linecolor": "white",
            "ticks": ""
           },
           "baxis": {
            "gridcolor": "white",
            "linecolor": "white",
            "ticks": ""
           },
           "bgcolor": "#E5ECF6",
           "caxis": {
            "gridcolor": "white",
            "linecolor": "white",
            "ticks": ""
           }
          },
          "title": {
           "x": 0.05
          },
          "xaxis": {
           "automargin": true,
           "gridcolor": "white",
           "linecolor": "white",
           "ticks": "",
           "title": {
            "standoff": 15
           },
           "zerolinecolor": "white",
           "zerolinewidth": 2
          },
          "yaxis": {
           "automargin": true,
           "gridcolor": "white",
           "linecolor": "white",
           "ticks": "",
           "title": {
            "standoff": 15
           },
           "zerolinecolor": "white",
           "zerolinewidth": 2
          }
         }
        },
        "xaxis": {
         "anchor": "y",
         "domain": [
          0,
          1
         ]
        },
        "yaxis": {
         "anchor": "x",
         "domain": [
          0,
          1
         ],
         "title": {
          "text": "MEDV"
         }
        }
       }
      }
     },
     "metadata": {}
    }
   ],
   "source": [
    "fig = px.box(data, y=data['MEDV'])\n",
    "fig.show()"
   ]
  },
  {
   "cell_type": "markdown",
   "metadata": {},
   "source": [
    "- Pode-se ver que tem alguns valores discrepantes em MEDV, incluindo o valor máximo que se destacou no final do histograma, tendo alguns casos;\n",
    "- Além disso o boxplot considera limite superior como 37."
   ]
  },
  {
   "cell_type": "code",
   "execution_count": 15,
   "metadata": {},
   "outputs": [
    {
     "output_type": "stream",
     "name": "stdout",
     "text": "16\n37\n"
    }
   ],
   "source": [
    "max_values = []\n",
    "upper_fence_values = []\n",
    "for i, v in enumerate(data['MEDV']):\n",
    "    if v == 50:\n",
    "        max_values.append(i)\n",
    "    if v > 37:\n",
    "        upper_fence_values.append(i)\n",
    "# Número de imóveis cujo MEDV = 50, e cujo MEDV > 37\n",
    "print(len(max_values))\n",
    "print(len(upper_fence_values))"
   ]
  },
  {
   "cell_type": "markdown",
   "metadata": {},
   "source": [
    "Criando dois dataframes:\n",
    "- Em data_drop_max foram excluidos as linhas com valor MEDV = 50\n",
    "- Em data_drop_upperfence foram excluidos todas as linhas com valor MEDV > upper_fence"
   ]
  },
  {
   "cell_type": "code",
   "execution_count": 16,
   "metadata": {},
   "outputs": [],
   "source": [
    "data_drop_max = data.drop(max_values)\n",
    "data_drop_upperfence = data.drop(upper_fence_values)"
   ]
  },
  {
   "cell_type": "markdown",
   "metadata": {},
   "source": [
    "### Avaliando correlações\n",
    "Agora que já conhecemos nossa variável alvo e tratamos os valores discrepantes, iremos avaliar as correlações entre as variáveis do dataframe"
   ]
  },
  {
   "cell_type": "code",
   "execution_count": 17,
   "metadata": {},
   "outputs": [],
   "source": [
    "corrDropMax = data_drop_max.corr()"
   ]
  },
  {
   "cell_type": "code",
   "execution_count": 18,
   "metadata": {},
   "outputs": [],
   "source": [
    "corrDropUpper = data_drop_upperfence.corr()"
   ]
  },
  {
   "cell_type": "code",
   "execution_count": 19,
   "metadata": {},
   "outputs": [
    {
     "output_type": "display_data",
     "data": {
      "text/plain": "<Figure size 864x576 with 2 Axes>",
      "image/svg+xml": "<?xml version=\"1.0\" encoding=\"utf-8\" standalone=\"no\"?>\r\n<!DOCTYPE svg PUBLIC \"-//W3C//DTD SVG 1.1//EN\"\r\n  \"http://www.w3.org/Graphics/SVG/1.1/DTD/svg11.dtd\">\r\n<!-- Created with matplotlib (https://matplotlib.org/) -->\r\n<svg height=\"481.280625pt\" version=\"1.1\" viewBox=\"0 0 686.425875 481.280625\" width=\"686.425875pt\" xmlns=\"http://www.w3.org/2000/svg\" xmlns:xlink=\"http://www.w3.org/1999/xlink\">\r\n <defs>\r\n  <style type=\"text/css\">\r\n*{stroke-linecap:butt;stroke-linejoin:round;}\r\n  </style>\r\n </defs>\r\n <g id=\"figure_1\">\r\n  <g id=\"patch_1\">\r\n   <path d=\"M 0 481.280625 \r\nL 686.425875 481.280625 \r\nL 686.425875 0 \r\nL 0 0 \r\nz\r\n\" style=\"fill:none;\"/>\r\n  </g>\r\n  <g id=\"axes_1\">\r\n   <g id=\"patch_2\">\r\n    <path d=\"M 57.039063 457.4025 \r\nL 592.719063 457.4025 \r\nL 592.719063 22.5225 \r\nL 57.039063 22.5225 \r\nz\r\n\" style=\"fill:#ffffff;\"/>\r\n   </g>\r\n   <g id=\"QuadMesh_1\">\r\n    <path clip-path=\"url(#p0e8ca16889)\" d=\"M 57.039063 22.5225 \r\nL 98.245216 22.5225 \r\nL 98.245216 55.974808 \r\nL 57.039063 55.974808 \r\nL 57.039063 22.5225 \r\n\" style=\"fill:#faebdd;\"/>\r\n    <path clip-path=\"url(#p0e8ca16889)\" d=\"M 98.245216 22.5225 \r\nL 139.45137 22.5225 \r\nL 139.45137 55.974808 \r\nL 98.245216 55.974808 \r\nL 98.245216 22.5225 \r\n\" style=\"fill:#f06043;\"/>\r\n    <path clip-path=\"url(#p0e8ca16889)\" d=\"M 139.45137 22.5225 \r\nL 180.657524 22.5225 \r\nL 180.657524 55.974808 \r\nL 139.45137 55.974808 \r\nL 139.45137 22.5225 \r\n\" style=\"fill:#9f1a5b;\"/>\r\n    <path clip-path=\"url(#p0e8ca16889)\" d=\"M 180.657524 22.5225 \r\nL 221.863678 22.5225 \r\nL 221.863678 55.974808 \r\nL 180.657524 55.974808 \r\nL 180.657524 22.5225 \r\n\" style=\"fill:#f16445;\"/>\r\n    <path clip-path=\"url(#p0e8ca16889)\" d=\"M 221.863678 22.5225 \r\nL 263.069832 22.5225 \r\nL 263.069832 55.974808 \r\nL 221.863678 55.974808 \r\nL 221.863678 22.5225 \r\n\" style=\"fill:#7a1f59;\"/>\r\n    <path clip-path=\"url(#p0e8ca16889)\" d=\"M 263.069832 22.5225 \r\nL 304.275986 22.5225 \r\nL 304.275986 55.974808 \r\nL 263.069832 55.974808 \r\nL 263.069832 22.5225 \r\n\" style=\"fill:#ed503e;\"/>\r\n    <path clip-path=\"url(#p0e8ca16889)\" d=\"M 304.275986 22.5225 \r\nL 345.482139 22.5225 \r\nL 345.482139 55.974808 \r\nL 304.275986 55.974808 \r\nL 304.275986 22.5225 \r\n\" style=\"fill:#531e4d;\"/>\r\n    <path clip-path=\"url(#p0e8ca16889)\" d=\"M 345.482139 22.5225 \r\nL 386.688293 22.5225 \r\nL 386.688293 55.974808 \r\nL 345.482139 55.974808 \r\nL 345.482139 22.5225 \r\n\" style=\"fill:#f59970;\"/>\r\n    <path clip-path=\"url(#p0e8ca16889)\" d=\"M 386.688293 22.5225 \r\nL 427.894447 22.5225 \r\nL 427.894447 55.974808 \r\nL 386.688293 55.974808 \r\nL 386.688293 22.5225 \r\n\" style=\"fill:#f58d64;\"/>\r\n    <path clip-path=\"url(#p0e8ca16889)\" d=\"M 427.894447 22.5225 \r\nL 469.100601 22.5225 \r\nL 469.100601 55.974808 \r\nL 427.894447 55.974808 \r\nL 427.894447 22.5225 \r\n\" style=\"fill:#e73d3f;\"/>\r\n    <path clip-path=\"url(#p0e8ca16889)\" d=\"M 469.100601 22.5225 \r\nL 510.306755 22.5225 \r\nL 510.306755 55.974808 \r\nL 469.100601 55.974808 \r\nL 469.100601 22.5225 \r\n\" style=\"fill:#531e4d;\"/>\r\n    <path clip-path=\"url(#p0e8ca16889)\" d=\"M 510.306755 22.5225 \r\nL 551.512909 22.5225 \r\nL 551.512909 55.974808 \r\nL 510.306755 55.974808 \r\nL 510.306755 22.5225 \r\n\" style=\"fill:#f26f4c;\"/>\r\n    <path clip-path=\"url(#p0e8ca16889)\" d=\"M 551.512909 22.5225 \r\nL 592.719063 22.5225 \r\nL 592.719063 55.974808 \r\nL 551.512909 55.974808 \r\nL 551.512909 22.5225 \r\n\" style=\"fill:#451c47;\"/>\r\n    <path clip-path=\"url(#p0e8ca16889)\" d=\"M 57.039063 55.974808 \r\nL 98.245216 55.974808 \r\nL 98.245216 89.427115 \r\nL 57.039063 89.427115 \r\nL 57.039063 55.974808 \r\n\" style=\"fill:#f06043;\"/>\r\n    <path clip-path=\"url(#p0e8ca16889)\" d=\"M 98.245216 55.974808 \r\nL 139.45137 55.974808 \r\nL 139.45137 89.427115 \r\nL 98.245216 89.427115 \r\nL 98.245216 55.974808 \r\n\" style=\"fill:#faebdd;\"/>\r\n    <path clip-path=\"url(#p0e8ca16889)\" d=\"M 139.45137 55.974808 \r\nL 180.657524 55.974808 \r\nL 180.657524 89.427115 \r\nL 139.45137 89.427115 \r\nL 139.45137 55.974808 \r\n\" style=\"fill:#b91657;\"/>\r\n    <path clip-path=\"url(#p0e8ca16889)\" d=\"M 180.657524 55.974808 \r\nL 221.863678 55.974808 \r\nL 221.863678 89.427115 \r\nL 180.657524 89.427115 \r\nL 180.657524 55.974808 \r\n\" style=\"fill:#f6b893;\"/>\r\n    <path clip-path=\"url(#p0e8ca16889)\" d=\"M 221.863678 55.974808 \r\nL 263.069832 55.974808 \r\nL 263.069832 89.427115 \r\nL 221.863678 89.427115 \r\nL 221.863678 55.974808 \r\n\" style=\"fill:#4c1d4b;\"/>\r\n    <path clip-path=\"url(#p0e8ca16889)\" d=\"M 263.069832 55.974808 \r\nL 304.275986 55.974808 \r\nL 304.275986 89.427115 \r\nL 263.069832 89.427115 \r\nL 263.069832 55.974808 \r\n\" style=\"fill:#f69b71;\"/>\r\n    <path clip-path=\"url(#p0e8ca16889)\" d=\"M 304.275986 55.974808 \r\nL 345.482139 55.974808 \r\nL 345.482139 89.427115 \r\nL 304.275986 89.427115 \r\nL 304.275986 55.974808 \r\n\" style=\"fill:#0d0a21;\"/>\r\n    <path clip-path=\"url(#p0e8ca16889)\" d=\"M 345.482139 55.974808 \r\nL 386.688293 55.974808 \r\nL 386.688293 89.427115 \r\nL 345.482139 89.427115 \r\nL 345.482139 55.974808 \r\n\" style=\"fill:#f59067;\"/>\r\n    <path clip-path=\"url(#p0e8ca16889)\" d=\"M 386.688293 55.974808 \r\nL 427.894447 55.974808 \r\nL 427.894447 89.427115 \r\nL 386.688293 89.427115 \r\nL 386.688293 55.974808 \r\n\" style=\"fill:#f6ae87;\"/>\r\n    <path clip-path=\"url(#p0e8ca16889)\" d=\"M 427.894447 55.974808 \r\nL 469.100601 55.974808 \r\nL 469.100601 89.427115 \r\nL 427.894447 89.427115 \r\nL 427.894447 55.974808 \r\n\" style=\"fill:#ef5a41;\"/>\r\n    <path clip-path=\"url(#p0e8ca16889)\" d=\"M 469.100601 55.974808 \r\nL 510.306755 55.974808 \r\nL 510.306755 89.427115 \r\nL 469.100601 89.427115 \r\nL 469.100601 55.974808 \r\n\" style=\"fill:#581e4f;\"/>\r\n    <path clip-path=\"url(#p0e8ca16889)\" d=\"M 510.306755 55.974808 \r\nL 551.512909 55.974808 \r\nL 551.512909 89.427115 \r\nL 510.306755 89.427115 \r\nL 510.306755 55.974808 \r\n\" style=\"fill:#f69b71;\"/>\r\n    <path clip-path=\"url(#p0e8ca16889)\" d=\"M 551.512909 55.974808 \r\nL 592.719063 55.974808 \r\nL 592.719063 89.427115 \r\nL 551.512909 89.427115 \r\nL 551.512909 55.974808 \r\n\" style=\"fill:#241432;\"/>\r\n    <path clip-path=\"url(#p0e8ca16889)\" d=\"M 57.039063 89.427115 \r\nL 98.245216 89.427115 \r\nL 98.245216 122.879423 \r\nL 57.039063 122.879423 \r\nL 57.039063 89.427115 \r\n\" style=\"fill:#9f1a5b;\"/>\r\n    <path clip-path=\"url(#p0e8ca16889)\" d=\"M 98.245216 89.427115 \r\nL 139.45137 89.427115 \r\nL 139.45137 122.879423 \r\nL 98.245216 122.879423 \r\nL 98.245216 89.427115 \r\n\" style=\"fill:#b91657;\"/>\r\n    <path clip-path=\"url(#p0e8ca16889)\" d=\"M 139.45137 89.427115 \r\nL 180.657524 89.427115 \r\nL 180.657524 122.879423 \r\nL 139.45137 122.879423 \r\nL 139.45137 89.427115 \r\n\" style=\"fill:#faebdd;\"/>\r\n    <path clip-path=\"url(#p0e8ca16889)\" d=\"M 180.657524 89.427115 \r\nL 221.863678 89.427115 \r\nL 221.863678 122.879423 \r\nL 180.657524 122.879423 \r\nL 180.657524 89.427115 \r\n\" style=\"fill:#c41753;\"/>\r\n    <path clip-path=\"url(#p0e8ca16889)\" d=\"M 221.863678 89.427115 \r\nL 263.069832 89.427115 \r\nL 263.069832 122.879423 \r\nL 221.863678 122.879423 \r\nL 221.863678 89.427115 \r\n\" style=\"fill:#ba1656;\"/>\r\n    <path clip-path=\"url(#p0e8ca16889)\" d=\"M 263.069832 89.427115 \r\nL 304.275986 89.427115 \r\nL 304.275986 122.879423 \r\nL 263.069832 122.879423 \r\nL 263.069832 89.427115 \r\n\" style=\"fill:#c11754;\"/>\r\n    <path clip-path=\"url(#p0e8ca16889)\" d=\"M 304.275986 89.427115 \r\nL 345.482139 89.427115 \r\nL 345.482139 122.879423 \r\nL 304.275986 122.879423 \r\nL 304.275986 89.427115 \r\n\" style=\"fill:#9c1b5b;\"/>\r\n    <path clip-path=\"url(#p0e8ca16889)\" d=\"M 345.482139 89.427115 \r\nL 386.688293 89.427115 \r\nL 386.688293 122.879423 \r\nL 345.482139 122.879423 \r\nL 345.482139 89.427115 \r\n\" style=\"fill:#a8185a;\"/>\r\n    <path clip-path=\"url(#p0e8ca16889)\" d=\"M 386.688293 89.427115 \r\nL 427.894447 89.427115 \r\nL 427.894447 122.879423 \r\nL 386.688293 122.879423 \r\nL 386.688293 89.427115 \r\n\" style=\"fill:#9f1a5b;\"/>\r\n    <path clip-path=\"url(#p0e8ca16889)\" d=\"M 427.894447 89.427115 \r\nL 469.100601 89.427115 \r\nL 469.100601 122.879423 \r\nL 427.894447 122.879423 \r\nL 427.894447 89.427115 \r\n\" style=\"fill:#931c5b;\"/>\r\n    <path clip-path=\"url(#p0e8ca16889)\" d=\"M 469.100601 89.427115 \r\nL 510.306755 89.427115 \r\nL 510.306755 122.879423 \r\nL 469.100601 122.879423 \r\nL 469.100601 89.427115 \r\n\" style=\"fill:#ba1656;\"/>\r\n    <path clip-path=\"url(#p0e8ca16889)\" d=\"M 510.306755 89.427115 \r\nL 551.512909 89.427115 \r\nL 551.512909 122.879423 \r\nL 510.306755 122.879423 \r\nL 510.306755 89.427115 \r\n\" style=\"fill:#af1759;\"/>\r\n    <path clip-path=\"url(#p0e8ca16889)\" d=\"M 551.512909 89.427115 \r\nL 592.719063 89.427115 \r\nL 592.719063 122.879423 \r\nL 551.512909 122.879423 \r\nL 551.512909 89.427115 \r\n\" style=\"fill:#c21753;\"/>\r\n    <path clip-path=\"url(#p0e8ca16889)\" d=\"M 57.039063 122.879423 \r\nL 98.245216 122.879423 \r\nL 98.245216 156.331731 \r\nL 57.039063 156.331731 \r\nL 57.039063 122.879423 \r\n\" style=\"fill:#f16445;\"/>\r\n    <path clip-path=\"url(#p0e8ca16889)\" d=\"M 98.245216 122.879423 \r\nL 139.45137 122.879423 \r\nL 139.45137 156.331731 \r\nL 98.245216 156.331731 \r\nL 98.245216 122.879423 \r\n\" style=\"fill:#f6b893;\"/>\r\n    <path clip-path=\"url(#p0e8ca16889)\" d=\"M 139.45137 122.879423 \r\nL 180.657524 122.879423 \r\nL 180.657524 156.331731 \r\nL 139.45137 156.331731 \r\nL 139.45137 122.879423 \r\n\" style=\"fill:#c41753;\"/>\r\n    <path clip-path=\"url(#p0e8ca16889)\" d=\"M 180.657524 122.879423 \r\nL 221.863678 122.879423 \r\nL 221.863678 156.331731 \r\nL 180.657524 156.331731 \r\nL 180.657524 122.879423 \r\n\" style=\"fill:#faebdd;\"/>\r\n    <path clip-path=\"url(#p0e8ca16889)\" d=\"M 221.863678 122.879423 \r\nL 263.069832 122.879423 \r\nL 263.069832 156.331731 \r\nL 221.863678 156.331731 \r\nL 221.863678 122.879423 \r\n\" style=\"fill:#611f53;\"/>\r\n    <path clip-path=\"url(#p0e8ca16889)\" d=\"M 263.069832 122.879423 \r\nL 304.275986 122.879423 \r\nL 304.275986 156.331731 \r\nL 263.069832 156.331731 \r\nL 263.069832 122.879423 \r\n\" style=\"fill:#f6b089;\"/>\r\n    <path clip-path=\"url(#p0e8ca16889)\" d=\"M 304.275986 122.879423 \r\nL 345.482139 122.879423 \r\nL 345.482139 156.331731 \r\nL 304.275986 156.331731 \r\nL 304.275986 122.879423 \r\n\" style=\"fill:#03051a;\"/>\r\n    <path clip-path=\"url(#p0e8ca16889)\" d=\"M 345.482139 122.879423 \r\nL 386.688293 122.879423 \r\nL 386.688293 156.331731 \r\nL 345.482139 156.331731 \r\nL 345.482139 122.879423 \r\n\" style=\"fill:#f5946b;\"/>\r\n    <path clip-path=\"url(#p0e8ca16889)\" d=\"M 386.688293 122.879423 \r\nL 427.894447 122.879423 \r\nL 427.894447 156.331731 \r\nL 386.688293 156.331731 \r\nL 386.688293 122.879423 \r\n\" style=\"fill:#f6a178;\"/>\r\n    <path clip-path=\"url(#p0e8ca16889)\" d=\"M 427.894447 122.879423 \r\nL 469.100601 122.879423 \r\nL 469.100601 156.331731 \r\nL 427.894447 156.331731 \r\nL 427.894447 122.879423 \r\n\" style=\"fill:#d82748;\"/>\r\n    <path clip-path=\"url(#p0e8ca16889)\" d=\"M 469.100601 122.879423 \r\nL 510.306755 122.879423 \r\nL 510.306755 156.331731 \r\nL 469.100601 156.331731 \r\nL 469.100601 122.879423 \r\n\" style=\"fill:#531e4d;\"/>\r\n    <path clip-path=\"url(#p0e8ca16889)\" d=\"M 510.306755 122.879423 \r\nL 551.512909 122.879423 \r\nL 551.512909 156.331731 \r\nL 510.306755 156.331731 \r\nL 510.306755 122.879423 \r\n\" style=\"fill:#f5946b;\"/>\r\n    <path clip-path=\"url(#p0e8ca16889)\" d=\"M 551.512909 122.879423 \r\nL 592.719063 122.879423 \r\nL 592.719063 156.331731 \r\nL 551.512909 156.331731 \r\nL 551.512909 122.879423 \r\n\" style=\"fill:#34193d;\"/>\r\n    <path clip-path=\"url(#p0e8ca16889)\" d=\"M 57.039063 156.331731 \r\nL 98.245216 156.331731 \r\nL 98.245216 189.784038 \r\nL 57.039063 189.784038 \r\nL 57.039063 156.331731 \r\n\" style=\"fill:#7a1f59;\"/>\r\n    <path clip-path=\"url(#p0e8ca16889)\" d=\"M 98.245216 156.331731 \r\nL 139.45137 156.331731 \r\nL 139.45137 189.784038 \r\nL 98.245216 189.784038 \r\nL 98.245216 156.331731 \r\n\" style=\"fill:#4c1d4b;\"/>\r\n    <path clip-path=\"url(#p0e8ca16889)\" d=\"M 139.45137 156.331731 \r\nL 180.657524 156.331731 \r\nL 180.657524 189.784038 \r\nL 139.45137 189.784038 \r\nL 139.45137 156.331731 \r\n\" style=\"fill:#ba1656;\"/>\r\n    <path clip-path=\"url(#p0e8ca16889)\" d=\"M 180.657524 156.331731 \r\nL 221.863678 156.331731 \r\nL 221.863678 189.784038 \r\nL 180.657524 189.784038 \r\nL 180.657524 156.331731 \r\n\" style=\"fill:#611f53;\"/>\r\n    <path clip-path=\"url(#p0e8ca16889)\" d=\"M 221.863678 156.331731 \r\nL 263.069832 156.331731 \r\nL 263.069832 189.784038 \r\nL 221.863678 189.784038 \r\nL 221.863678 156.331731 \r\n\" style=\"fill:#faebdd;\"/>\r\n    <path clip-path=\"url(#p0e8ca16889)\" d=\"M 263.069832 156.331731 \r\nL 304.275986 156.331731 \r\nL 304.275986 189.784038 \r\nL 263.069832 189.784038 \r\nL 263.069832 156.331731 \r\n\" style=\"fill:#6e1f57;\"/>\r\n    <path clip-path=\"url(#p0e8ca16889)\" d=\"M 304.275986 156.331731 \r\nL 345.482139 156.331731 \r\nL 345.482139 189.784038 \r\nL 304.275986 189.784038 \r\nL 304.275986 156.331731 \r\n\" style=\"fill:#e13342;\"/>\r\n    <path clip-path=\"url(#p0e8ca16889)\" d=\"M 345.482139 156.331731 \r\nL 386.688293 156.331731 \r\nL 386.688293 189.784038 \r\nL 345.482139 189.784038 \r\nL 345.482139 156.331731 \r\n\" style=\"fill:#7f1e5a;\"/>\r\n    <path clip-path=\"url(#p0e8ca16889)\" d=\"M 386.688293 156.331731 \r\nL 427.894447 156.331731 \r\nL 427.894447 189.784038 \r\nL 386.688293 189.784038 \r\nL 386.688293 156.331731 \r\n\" style=\"fill:#6b1f56;\"/>\r\n    <path clip-path=\"url(#p0e8ca16889)\" d=\"M 427.894447 156.331731 \r\nL 469.100601 156.331731 \r\nL 469.100601 189.784038 \r\nL 427.894447 189.784038 \r\nL 427.894447 156.331731 \r\n\" style=\"fill:#681f55;\"/>\r\n    <path clip-path=\"url(#p0e8ca16889)\" d=\"M 469.100601 156.331731 \r\nL 510.306755 156.331731 \r\nL 510.306755 189.784038 \r\nL 469.100601 189.784038 \r\nL 469.100601 156.331731 \r\n\" style=\"fill:#cb1b4f;\"/>\r\n    <path clip-path=\"url(#p0e8ca16889)\" d=\"M 510.306755 156.331731 \r\nL 551.512909 156.331731 \r\nL 551.512909 189.784038 \r\nL 510.306755 189.784038 \r\nL 510.306755 156.331731 \r\n\" style=\"fill:#211330;\"/>\r\n    <path clip-path=\"url(#p0e8ca16889)\" d=\"M 551.512909 156.331731 \r\nL 592.719063 156.331731 \r\nL 592.719063 189.784038 \r\nL 551.512909 189.784038 \r\nL 551.512909 156.331731 \r\n\" style=\"fill:#f6a67e;\"/>\r\n    <path clip-path=\"url(#p0e8ca16889)\" d=\"M 57.039063 189.784038 \r\nL 98.245216 189.784038 \r\nL 98.245216 223.236346 \r\nL 57.039063 223.236346 \r\nL 57.039063 189.784038 \r\n\" style=\"fill:#ed503e;\"/>\r\n    <path clip-path=\"url(#p0e8ca16889)\" d=\"M 98.245216 189.784038 \r\nL 139.45137 189.784038 \r\nL 139.45137 223.236346 \r\nL 98.245216 223.236346 \r\nL 98.245216 189.784038 \r\n\" style=\"fill:#f69b71;\"/>\r\n    <path clip-path=\"url(#p0e8ca16889)\" d=\"M 139.45137 189.784038 \r\nL 180.657524 189.784038 \r\nL 180.657524 223.236346 \r\nL 139.45137 223.236346 \r\nL 139.45137 189.784038 \r\n\" style=\"fill:#c11754;\"/>\r\n    <path clip-path=\"url(#p0e8ca16889)\" d=\"M 180.657524 189.784038 \r\nL 221.863678 189.784038 \r\nL 221.863678 223.236346 \r\nL 180.657524 223.236346 \r\nL 180.657524 189.784038 \r\n\" style=\"fill:#f6b089;\"/>\r\n    <path clip-path=\"url(#p0e8ca16889)\" d=\"M 221.863678 189.784038 \r\nL 263.069832 189.784038 \r\nL 263.069832 223.236346 \r\nL 221.863678 223.236346 \r\nL 221.863678 189.784038 \r\n\" style=\"fill:#6e1f57;\"/>\r\n    <path clip-path=\"url(#p0e8ca16889)\" d=\"M 263.069832 189.784038 \r\nL 304.275986 189.784038 \r\nL 304.275986 223.236346 \r\nL 263.069832 223.236346 \r\nL 263.069832 189.784038 \r\n\" style=\"fill:#faebdd;\"/>\r\n    <path clip-path=\"url(#p0e8ca16889)\" d=\"M 304.275986 189.784038 \r\nL 345.482139 189.784038 \r\nL 345.482139 223.236346 \r\nL 304.275986 223.236346 \r\nL 304.275986 189.784038 \r\n\" style=\"fill:#06071c;\"/>\r\n    <path clip-path=\"url(#p0e8ca16889)\" d=\"M 345.482139 189.784038 \r\nL 386.688293 189.784038 \r\nL 386.688293 223.236346 \r\nL 345.482139 223.236346 \r\nL 345.482139 189.784038 \r\n\" style=\"fill:#f26b49;\"/>\r\n    <path clip-path=\"url(#p0e8ca16889)\" d=\"M 386.688293 189.784038 \r\nL 427.894447 189.784038 \r\nL 427.894447 223.236346 \r\nL 386.688293 223.236346 \r\nL 386.688293 189.784038 \r\n\" style=\"fill:#f37852;\"/>\r\n    <path clip-path=\"url(#p0e8ca16889)\" d=\"M 427.894447 189.784038 \r\nL 469.100601 189.784038 \r\nL 469.100601 223.236346 \r\nL 427.894447 223.236346 \r\nL 427.894447 189.784038 \r\n\" style=\"fill:#e53940;\"/>\r\n    <path clip-path=\"url(#p0e8ca16889)\" d=\"M 469.100601 189.784038 \r\nL 510.306755 189.784038 \r\nL 510.306755 223.236346 \r\nL 469.100601 223.236346 \r\nL 469.100601 189.784038 \r\n\" style=\"fill:#6b1f56;\"/>\r\n    <path clip-path=\"url(#p0e8ca16889)\" d=\"M 510.306755 189.784038 \r\nL 551.512909 189.784038 \r\nL 551.512909 223.236346 \r\nL 510.306755 223.236346 \r\nL 510.306755 189.784038 \r\n\" style=\"fill:#f69b71;\"/>\r\n    <path clip-path=\"url(#p0e8ca16889)\" d=\"M 551.512909 189.784038 \r\nL 592.719063 189.784038 \r\nL 592.719063 223.236346 \r\nL 551.512909 223.236346 \r\nL 551.512909 189.784038 \r\n\" style=\"fill:#3a1a41;\"/>\r\n    <path clip-path=\"url(#p0e8ca16889)\" d=\"M 57.039063 223.236346 \r\nL 98.245216 223.236346 \r\nL 98.245216 256.688654 \r\nL 57.039063 256.688654 \r\nL 57.039063 223.236346 \r\n\" style=\"fill:#531e4d;\"/>\r\n    <path clip-path=\"url(#p0e8ca16889)\" d=\"M 98.245216 223.236346 \r\nL 139.45137 223.236346 \r\nL 139.45137 256.688654 \r\nL 98.245216 256.688654 \r\nL 98.245216 223.236346 \r\n\" style=\"fill:#0d0a21;\"/>\r\n    <path clip-path=\"url(#p0e8ca16889)\" d=\"M 139.45137 223.236346 \r\nL 180.657524 223.236346 \r\nL 180.657524 256.688654 \r\nL 139.45137 256.688654 \r\nL 139.45137 223.236346 \r\n\" style=\"fill:#9c1b5b;\"/>\r\n    <path clip-path=\"url(#p0e8ca16889)\" d=\"M 180.657524 223.236346 \r\nL 221.863678 223.236346 \r\nL 221.863678 256.688654 \r\nL 180.657524 256.688654 \r\nL 180.657524 223.236346 \r\n\" style=\"fill:#03051a;\"/>\r\n    <path clip-path=\"url(#p0e8ca16889)\" d=\"M 221.863678 223.236346 \r\nL 263.069832 223.236346 \r\nL 263.069832 256.688654 \r\nL 221.863678 256.688654 \r\nL 221.863678 223.236346 \r\n\" style=\"fill:#e13342;\"/>\r\n    <path clip-path=\"url(#p0e8ca16889)\" d=\"M 263.069832 223.236346 \r\nL 304.275986 223.236346 \r\nL 304.275986 256.688654 \r\nL 263.069832 256.688654 \r\nL 263.069832 223.236346 \r\n\" style=\"fill:#06071c;\"/>\r\n    <path clip-path=\"url(#p0e8ca16889)\" d=\"M 304.275986 223.236346 \r\nL 345.482139 223.236346 \r\nL 345.482139 256.688654 \r\nL 304.275986 256.688654 \r\nL 304.275986 223.236346 \r\n\" style=\"fill:#faebdd;\"/>\r\n    <path clip-path=\"url(#p0e8ca16889)\" d=\"M 345.482139 223.236346 \r\nL 386.688293 223.236346 \r\nL 386.688293 256.688654 \r\nL 345.482139 256.688654 \r\nL 345.482139 223.236346 \r\n\" style=\"fill:#3a1a41;\"/>\r\n    <path clip-path=\"url(#p0e8ca16889)\" d=\"M 386.688293 223.236346 \r\nL 427.894447 223.236346 \r\nL 427.894447 256.688654 \r\nL 386.688293 256.688654 \r\nL 386.688293 223.236346 \r\n\" style=\"fill:#33183c;\"/>\r\n    <path clip-path=\"url(#p0e8ca16889)\" d=\"M 427.894447 223.236346 \r\nL 469.100601 223.236346 \r\nL 469.100601 256.688654 \r\nL 427.894447 256.688654 \r\nL 427.894447 223.236346 \r\n\" style=\"fill:#731f58;\"/>\r\n    <path clip-path=\"url(#p0e8ca16889)\" d=\"M 469.100601 223.236346 \r\nL 510.306755 223.236346 \r\nL 510.306755 256.688654 \r\nL 469.100601 256.688654 \r\nL 469.100601 223.236346 \r\n\" style=\"fill:#e8403e;\"/>\r\n    <path clip-path=\"url(#p0e8ca16889)\" d=\"M 510.306755 223.236346 \r\nL 551.512909 223.236346 \r\nL 551.512909 256.688654 \r\nL 510.306755 256.688654 \r\nL 510.306755 223.236346 \r\n\" style=\"fill:#31183b;\"/>\r\n    <path clip-path=\"url(#p0e8ca16889)\" d=\"M 551.512909 223.236346 \r\nL 592.719063 223.236346 \r\nL 592.719063 256.688654 \r\nL 551.512909 256.688654 \r\nL 551.512909 223.236346 \r\n\" style=\"fill:#ee543f;\"/>\r\n    <path clip-path=\"url(#p0e8ca16889)\" d=\"M 57.039063 256.688654 \r\nL 98.245216 256.688654 \r\nL 98.245216 290.140962 \r\nL 57.039063 290.140962 \r\nL 57.039063 256.688654 \r\n\" style=\"fill:#f59970;\"/>\r\n    <path clip-path=\"url(#p0e8ca16889)\" d=\"M 98.245216 256.688654 \r\nL 139.45137 256.688654 \r\nL 139.45137 290.140962 \r\nL 98.245216 290.140962 \r\nL 98.245216 256.688654 \r\n\" style=\"fill:#f59067;\"/>\r\n    <path clip-path=\"url(#p0e8ca16889)\" d=\"M 139.45137 256.688654 \r\nL 180.657524 256.688654 \r\nL 180.657524 290.140962 \r\nL 139.45137 290.140962 \r\nL 139.45137 256.688654 \r\n\" style=\"fill:#a8185a;\"/>\r\n    <path clip-path=\"url(#p0e8ca16889)\" d=\"M 180.657524 256.688654 \r\nL 221.863678 256.688654 \r\nL 221.863678 290.140962 \r\nL 180.657524 290.140962 \r\nL 180.657524 256.688654 \r\n\" style=\"fill:#f5946b;\"/>\r\n    <path clip-path=\"url(#p0e8ca16889)\" d=\"M 221.863678 256.688654 \r\nL 263.069832 256.688654 \r\nL 263.069832 290.140962 \r\nL 221.863678 290.140962 \r\nL 221.863678 256.688654 \r\n\" style=\"fill:#7f1e5a;\"/>\r\n    <path clip-path=\"url(#p0e8ca16889)\" d=\"M 263.069832 256.688654 \r\nL 304.275986 256.688654 \r\nL 304.275986 290.140962 \r\nL 263.069832 290.140962 \r\nL 263.069832 256.688654 \r\n\" style=\"fill:#f26b49;\"/>\r\n    <path clip-path=\"url(#p0e8ca16889)\" d=\"M 304.275986 256.688654 \r\nL 345.482139 256.688654 \r\nL 345.482139 290.140962 \r\nL 304.275986 290.140962 \r\nL 304.275986 256.688654 \r\n\" style=\"fill:#3a1a41;\"/>\r\n    <path clip-path=\"url(#p0e8ca16889)\" d=\"M 345.482139 256.688654 \r\nL 386.688293 256.688654 \r\nL 386.688293 290.140962 \r\nL 345.482139 290.140962 \r\nL 345.482139 256.688654 \r\n\" style=\"fill:#faebdd;\"/>\r\n    <path clip-path=\"url(#p0e8ca16889)\" d=\"M 386.688293 256.688654 \r\nL 427.894447 256.688654 \r\nL 427.894447 290.140962 \r\nL 386.688293 290.140962 \r\nL 386.688293 256.688654 \r\n\" style=\"fill:#f8d7c0;\"/>\r\n    <path clip-path=\"url(#p0e8ca16889)\" d=\"M 427.894447 256.688654 \r\nL 469.100601 256.688654 \r\nL 469.100601 290.140962 \r\nL 427.894447 290.140962 \r\nL 427.894447 256.688654 \r\n\" style=\"fill:#f26d4b;\"/>\r\n    <path clip-path=\"url(#p0e8ca16889)\" d=\"M 469.100601 256.688654 \r\nL 510.306755 256.688654 \r\nL 510.306755 290.140962 \r\nL 469.100601 290.140962 \r\nL 469.100601 256.688654 \r\n\" style=\"fill:#431c46;\"/>\r\n    <path clip-path=\"url(#p0e8ca16889)\" d=\"M 510.306755 256.688654 \r\nL 551.512909 256.688654 \r\nL 551.512909 290.140962 \r\nL 510.306755 290.140962 \r\nL 510.306755 256.688654 \r\n\" style=\"fill:#f47c55;\"/>\r\n    <path clip-path=\"url(#p0e8ca16889)\" d=\"M 551.512909 256.688654 \r\nL 592.719063 256.688654 \r\nL 592.719063 290.140962 \r\nL 551.512909 290.140962 \r\nL 551.512909 256.688654 \r\n\" style=\"fill:#3f1b43;\"/>\r\n    <path clip-path=\"url(#p0e8ca16889)\" d=\"M 57.039063 290.140962 \r\nL 98.245216 290.140962 \r\nL 98.245216 323.593269 \r\nL 57.039063 323.593269 \r\nL 57.039063 290.140962 \r\n\" style=\"fill:#f58d64;\"/>\r\n    <path clip-path=\"url(#p0e8ca16889)\" d=\"M 98.245216 290.140962 \r\nL 139.45137 290.140962 \r\nL 139.45137 323.593269 \r\nL 98.245216 323.593269 \r\nL 98.245216 290.140962 \r\n\" style=\"fill:#f6ae87;\"/>\r\n    <path clip-path=\"url(#p0e8ca16889)\" d=\"M 139.45137 290.140962 \r\nL 180.657524 290.140962 \r\nL 180.657524 323.593269 \r\nL 139.45137 323.593269 \r\nL 139.45137 290.140962 \r\n\" style=\"fill:#9f1a5b;\"/>\r\n    <path clip-path=\"url(#p0e8ca16889)\" d=\"M 180.657524 290.140962 \r\nL 221.863678 290.140962 \r\nL 221.863678 323.593269 \r\nL 180.657524 323.593269 \r\nL 180.657524 290.140962 \r\n\" style=\"fill:#f6a178;\"/>\r\n    <path clip-path=\"url(#p0e8ca16889)\" d=\"M 221.863678 290.140962 \r\nL 263.069832 290.140962 \r\nL 263.069832 323.593269 \r\nL 221.863678 323.593269 \r\nL 221.863678 290.140962 \r\n\" style=\"fill:#6b1f56;\"/>\r\n    <path clip-path=\"url(#p0e8ca16889)\" d=\"M 263.069832 290.140962 \r\nL 304.275986 290.140962 \r\nL 304.275986 323.593269 \r\nL 263.069832 323.593269 \r\nL 263.069832 290.140962 \r\n\" style=\"fill:#f37852;\"/>\r\n    <path clip-path=\"url(#p0e8ca16889)\" d=\"M 304.275986 290.140962 \r\nL 345.482139 290.140962 \r\nL 345.482139 323.593269 \r\nL 304.275986 323.593269 \r\nL 304.275986 290.140962 \r\n\" style=\"fill:#33183c;\"/>\r\n    <path clip-path=\"url(#p0e8ca16889)\" d=\"M 345.482139 290.140962 \r\nL 386.688293 290.140962 \r\nL 386.688293 323.593269 \r\nL 345.482139 323.593269 \r\nL 345.482139 290.140962 \r\n\" style=\"fill:#f8d7c0;\"/>\r\n    <path clip-path=\"url(#p0e8ca16889)\" d=\"M 386.688293 290.140962 \r\nL 427.894447 290.140962 \r\nL 427.894447 323.593269 \r\nL 386.688293 323.593269 \r\nL 386.688293 290.140962 \r\n\" style=\"fill:#faebdd;\"/>\r\n    <path clip-path=\"url(#p0e8ca16889)\" d=\"M 427.894447 290.140962 \r\nL 469.100601 290.140962 \r\nL 469.100601 323.593269 \r\nL 427.894447 323.593269 \r\nL 427.894447 290.140962 \r\n\" style=\"fill:#f26b49;\"/>\r\n    <path clip-path=\"url(#p0e8ca16889)\" d=\"M 469.100601 290.140962 \r\nL 510.306755 290.140962 \r\nL 510.306755 323.593269 \r\nL 469.100601 323.593269 \r\nL 469.100601 290.140962 \r\n\" style=\"fill:#451c47;\"/>\r\n    <path clip-path=\"url(#p0e8ca16889)\" d=\"M 510.306755 290.140962 \r\nL 551.512909 290.140962 \r\nL 551.512909 323.593269 \r\nL 510.306755 323.593269 \r\nL 510.306755 290.140962 \r\n\" style=\"fill:#f58a61;\"/>\r\n    <path clip-path=\"url(#p0e8ca16889)\" d=\"M 551.512909 290.140962 \r\nL 592.719063 290.140962 \r\nL 592.719063 323.593269 \r\nL 551.512909 323.593269 \r\nL 551.512909 290.140962 \r\n\" style=\"fill:#2a1636;\"/>\r\n    <path clip-path=\"url(#p0e8ca16889)\" d=\"M 57.039063 323.593269 \r\nL 98.245216 323.593269 \r\nL 98.245216 357.045577 \r\nL 57.039063 357.045577 \r\nL 57.039063 323.593269 \r\n\" style=\"fill:#e73d3f;\"/>\r\n    <path clip-path=\"url(#p0e8ca16889)\" d=\"M 98.245216 323.593269 \r\nL 139.45137 323.593269 \r\nL 139.45137 357.045577 \r\nL 98.245216 357.045577 \r\nL 98.245216 323.593269 \r\n\" style=\"fill:#ef5a41;\"/>\r\n    <path clip-path=\"url(#p0e8ca16889)\" d=\"M 139.45137 323.593269 \r\nL 180.657524 323.593269 \r\nL 180.657524 357.045577 \r\nL 139.45137 357.045577 \r\nL 139.45137 323.593269 \r\n\" style=\"fill:#931c5b;\"/>\r\n    <path clip-path=\"url(#p0e8ca16889)\" d=\"M 180.657524 323.593269 \r\nL 221.863678 323.593269 \r\nL 221.863678 357.045577 \r\nL 180.657524 357.045577 \r\nL 180.657524 323.593269 \r\n\" style=\"fill:#d82748;\"/>\r\n    <path clip-path=\"url(#p0e8ca16889)\" d=\"M 221.863678 323.593269 \r\nL 263.069832 323.593269 \r\nL 263.069832 357.045577 \r\nL 221.863678 357.045577 \r\nL 221.863678 323.593269 \r\n\" style=\"fill:#681f55;\"/>\r\n    <path clip-path=\"url(#p0e8ca16889)\" d=\"M 263.069832 323.593269 \r\nL 304.275986 323.593269 \r\nL 304.275986 357.045577 \r\nL 263.069832 357.045577 \r\nL 263.069832 323.593269 \r\n\" style=\"fill:#e53940;\"/>\r\n    <path clip-path=\"url(#p0e8ca16889)\" d=\"M 304.275986 323.593269 \r\nL 345.482139 323.593269 \r\nL 345.482139 357.045577 \r\nL 304.275986 357.045577 \r\nL 304.275986 323.593269 \r\n\" style=\"fill:#731f58;\"/>\r\n    <path clip-path=\"url(#p0e8ca16889)\" d=\"M 345.482139 323.593269 \r\nL 386.688293 323.593269 \r\nL 386.688293 357.045577 \r\nL 345.482139 357.045577 \r\nL 345.482139 323.593269 \r\n\" style=\"fill:#f26d4b;\"/>\r\n    <path clip-path=\"url(#p0e8ca16889)\" d=\"M 386.688293 323.593269 \r\nL 427.894447 323.593269 \r\nL 427.894447 357.045577 \r\nL 386.688293 357.045577 \r\nL 386.688293 323.593269 \r\n\" style=\"fill:#f26b49;\"/>\r\n    <path clip-path=\"url(#p0e8ca16889)\" d=\"M 427.894447 323.593269 \r\nL 469.100601 323.593269 \r\nL 469.100601 357.045577 \r\nL 427.894447 357.045577 \r\nL 427.894447 323.593269 \r\n\" style=\"fill:#faebdd;\"/>\r\n    <path clip-path=\"url(#p0e8ca16889)\" d=\"M 469.100601 323.593269 \r\nL 510.306755 323.593269 \r\nL 510.306755 357.045577 \r\nL 469.100601 357.045577 \r\nL 469.100601 323.593269 \r\n\" style=\"fill:#861e5b;\"/>\r\n    <path clip-path=\"url(#p0e8ca16889)\" d=\"M 510.306755 323.593269 \r\nL 551.512909 323.593269 \r\nL 551.512909 357.045577 \r\nL 510.306755 357.045577 \r\nL 510.306755 323.593269 \r\n\" style=\"fill:#ee523f;\"/>\r\n    <path clip-path=\"url(#p0e8ca16889)\" d=\"M 551.512909 323.593269 \r\nL 592.719063 323.593269 \r\nL 592.719063 357.045577 \r\nL 551.512909 357.045577 \r\nL 551.512909 323.593269 \r\n\" style=\"fill:#35193e;\"/>\r\n    <path clip-path=\"url(#p0e8ca16889)\" d=\"M 57.039063 357.045577 \r\nL 98.245216 357.045577 \r\nL 98.245216 390.497885 \r\nL 57.039063 390.497885 \r\nL 57.039063 357.045577 \r\n\" style=\"fill:#531e4d;\"/>\r\n    <path clip-path=\"url(#p0e8ca16889)\" d=\"M 98.245216 357.045577 \r\nL 139.45137 357.045577 \r\nL 139.45137 390.497885 \r\nL 98.245216 390.497885 \r\nL 98.245216 357.045577 \r\n\" style=\"fill:#581e4f;\"/>\r\n    <path clip-path=\"url(#p0e8ca16889)\" d=\"M 139.45137 357.045577 \r\nL 180.657524 357.045577 \r\nL 180.657524 390.497885 \r\nL 139.45137 390.497885 \r\nL 139.45137 357.045577 \r\n\" style=\"fill:#ba1656;\"/>\r\n    <path clip-path=\"url(#p0e8ca16889)\" d=\"M 180.657524 357.045577 \r\nL 221.863678 357.045577 \r\nL 221.863678 390.497885 \r\nL 180.657524 390.497885 \r\nL 180.657524 357.045577 \r\n\" style=\"fill:#531e4d;\"/>\r\n    <path clip-path=\"url(#p0e8ca16889)\" d=\"M 221.863678 357.045577 \r\nL 263.069832 357.045577 \r\nL 263.069832 390.497885 \r\nL 221.863678 390.497885 \r\nL 221.863678 357.045577 \r\n\" style=\"fill:#cb1b4f;\"/>\r\n    <path clip-path=\"url(#p0e8ca16889)\" d=\"M 263.069832 357.045577 \r\nL 304.275986 357.045577 \r\nL 304.275986 390.497885 \r\nL 263.069832 390.497885 \r\nL 263.069832 357.045577 \r\n\" style=\"fill:#6b1f56;\"/>\r\n    <path clip-path=\"url(#p0e8ca16889)\" d=\"M 304.275986 357.045577 \r\nL 345.482139 357.045577 \r\nL 345.482139 390.497885 \r\nL 304.275986 390.497885 \r\nL 304.275986 357.045577 \r\n\" style=\"fill:#e8403e;\"/>\r\n    <path clip-path=\"url(#p0e8ca16889)\" d=\"M 345.482139 357.045577 \r\nL 386.688293 357.045577 \r\nL 386.688293 390.497885 \r\nL 345.482139 390.497885 \r\nL 345.482139 357.045577 \r\n\" style=\"fill:#431c46;\"/>\r\n    <path clip-path=\"url(#p0e8ca16889)\" d=\"M 386.688293 357.045577 \r\nL 427.894447 357.045577 \r\nL 427.894447 390.497885 \r\nL 386.688293 390.497885 \r\nL 386.688293 357.045577 \r\n\" style=\"fill:#451c47;\"/>\r\n    <path clip-path=\"url(#p0e8ca16889)\" d=\"M 427.894447 357.045577 \r\nL 469.100601 357.045577 \r\nL 469.100601 390.497885 \r\nL 427.894447 390.497885 \r\nL 427.894447 357.045577 \r\n\" style=\"fill:#861e5b;\"/>\r\n    <path clip-path=\"url(#p0e8ca16889)\" d=\"M 469.100601 357.045577 \r\nL 510.306755 357.045577 \r\nL 510.306755 390.497885 \r\nL 469.100601 390.497885 \r\nL 469.100601 357.045577 \r\n\" style=\"fill:#faebdd;\"/>\r\n    <path clip-path=\"url(#p0e8ca16889)\" d=\"M 510.306755 357.045577 \r\nL 551.512909 357.045577 \r\nL 551.512909 390.497885 \r\nL 510.306755 390.497885 \r\nL 510.306755 357.045577 \r\n\" style=\"fill:#581e4f;\"/>\r\n    <path clip-path=\"url(#p0e8ca16889)\" d=\"M 551.512909 357.045577 \r\nL 592.719063 357.045577 \r\nL 592.719063 390.497885 \r\nL 551.512909 390.497885 \r\nL 551.512909 357.045577 \r\n\" style=\"fill:#ee543f;\"/>\r\n    <path clip-path=\"url(#p0e8ca16889)\" d=\"M 57.039063 390.497885 \r\nL 98.245216 390.497885 \r\nL 98.245216 423.950192 \r\nL 57.039063 423.950192 \r\nL 57.039063 390.497885 \r\n\" style=\"fill:#f26f4c;\"/>\r\n    <path clip-path=\"url(#p0e8ca16889)\" d=\"M 98.245216 390.497885 \r\nL 139.45137 390.497885 \r\nL 139.45137 423.950192 \r\nL 98.245216 423.950192 \r\nL 98.245216 390.497885 \r\n\" style=\"fill:#f69b71;\"/>\r\n    <path clip-path=\"url(#p0e8ca16889)\" d=\"M 139.45137 390.497885 \r\nL 180.657524 390.497885 \r\nL 180.657524 423.950192 \r\nL 139.45137 423.950192 \r\nL 139.45137 390.497885 \r\n\" style=\"fill:#af1759;\"/>\r\n    <path clip-path=\"url(#p0e8ca16889)\" d=\"M 180.657524 390.497885 \r\nL 221.863678 390.497885 \r\nL 221.863678 423.950192 \r\nL 180.657524 423.950192 \r\nL 180.657524 390.497885 \r\n\" style=\"fill:#f5946b;\"/>\r\n    <path clip-path=\"url(#p0e8ca16889)\" d=\"M 221.863678 390.497885 \r\nL 263.069832 390.497885 \r\nL 263.069832 423.950192 \r\nL 221.863678 423.950192 \r\nL 221.863678 390.497885 \r\n\" style=\"fill:#211330;\"/>\r\n    <path clip-path=\"url(#p0e8ca16889)\" d=\"M 263.069832 390.497885 \r\nL 304.275986 390.497885 \r\nL 304.275986 423.950192 \r\nL 263.069832 423.950192 \r\nL 263.069832 390.497885 \r\n\" style=\"fill:#f69b71;\"/>\r\n    <path clip-path=\"url(#p0e8ca16889)\" d=\"M 304.275986 390.497885 \r\nL 345.482139 390.497885 \r\nL 345.482139 423.950192 \r\nL 304.275986 423.950192 \r\nL 304.275986 390.497885 \r\n\" style=\"fill:#31183b;\"/>\r\n    <path clip-path=\"url(#p0e8ca16889)\" d=\"M 345.482139 390.497885 \r\nL 386.688293 390.497885 \r\nL 386.688293 423.950192 \r\nL 345.482139 423.950192 \r\nL 345.482139 390.497885 \r\n\" style=\"fill:#f47c55;\"/>\r\n    <path clip-path=\"url(#p0e8ca16889)\" d=\"M 386.688293 390.497885 \r\nL 427.894447 390.497885 \r\nL 427.894447 423.950192 \r\nL 386.688293 423.950192 \r\nL 386.688293 390.497885 \r\n\" style=\"fill:#f58a61;\"/>\r\n    <path clip-path=\"url(#p0e8ca16889)\" d=\"M 427.894447 390.497885 \r\nL 469.100601 390.497885 \r\nL 469.100601 423.950192 \r\nL 427.894447 423.950192 \r\nL 427.894447 390.497885 \r\n\" style=\"fill:#ee523f;\"/>\r\n    <path clip-path=\"url(#p0e8ca16889)\" d=\"M 469.100601 390.497885 \r\nL 510.306755 390.497885 \r\nL 510.306755 423.950192 \r\nL 469.100601 423.950192 \r\nL 469.100601 390.497885 \r\n\" style=\"fill:#581e4f;\"/>\r\n    <path clip-path=\"url(#p0e8ca16889)\" d=\"M 510.306755 390.497885 \r\nL 551.512909 390.497885 \r\nL 551.512909 423.950192 \r\nL 510.306755 423.950192 \r\nL 510.306755 390.497885 \r\n\" style=\"fill:#faebdd;\"/>\r\n    <path clip-path=\"url(#p0e8ca16889)\" d=\"M 551.512909 390.497885 \r\nL 592.719063 390.497885 \r\nL 592.719063 423.950192 \r\nL 551.512909 423.950192 \r\nL 551.512909 390.497885 \r\n\" style=\"fill:#04051a;\"/>\r\n    <path clip-path=\"url(#p0e8ca16889)\" d=\"M 57.039063 423.950192 \r\nL 98.245216 423.950192 \r\nL 98.245216 457.4025 \r\nL 57.039063 457.4025 \r\nL 57.039063 423.950192 \r\n\" style=\"fill:#451c47;\"/>\r\n    <path clip-path=\"url(#p0e8ca16889)\" d=\"M 98.245216 423.950192 \r\nL 139.45137 423.950192 \r\nL 139.45137 457.4025 \r\nL 98.245216 457.4025 \r\nL 98.245216 423.950192 \r\n\" style=\"fill:#241432;\"/>\r\n    <path clip-path=\"url(#p0e8ca16889)\" d=\"M 139.45137 423.950192 \r\nL 180.657524 423.950192 \r\nL 180.657524 457.4025 \r\nL 139.45137 457.4025 \r\nL 139.45137 423.950192 \r\n\" style=\"fill:#c21753;\"/>\r\n    <path clip-path=\"url(#p0e8ca16889)\" d=\"M 180.657524 423.950192 \r\nL 221.863678 423.950192 \r\nL 221.863678 457.4025 \r\nL 180.657524 457.4025 \r\nL 180.657524 423.950192 \r\n\" style=\"fill:#34193d;\"/>\r\n    <path clip-path=\"url(#p0e8ca16889)\" d=\"M 221.863678 423.950192 \r\nL 263.069832 423.950192 \r\nL 263.069832 457.4025 \r\nL 221.863678 457.4025 \r\nL 221.863678 423.950192 \r\n\" style=\"fill:#f6a67e;\"/>\r\n    <path clip-path=\"url(#p0e8ca16889)\" d=\"M 263.069832 423.950192 \r\nL 304.275986 423.950192 \r\nL 304.275986 457.4025 \r\nL 263.069832 457.4025 \r\nL 263.069832 423.950192 \r\n\" style=\"fill:#3a1a41;\"/>\r\n    <path clip-path=\"url(#p0e8ca16889)\" d=\"M 304.275986 423.950192 \r\nL 345.482139 423.950192 \r\nL 345.482139 457.4025 \r\nL 304.275986 457.4025 \r\nL 304.275986 423.950192 \r\n\" style=\"fill:#ee543f;\"/>\r\n    <path clip-path=\"url(#p0e8ca16889)\" d=\"M 345.482139 423.950192 \r\nL 386.688293 423.950192 \r\nL 386.688293 457.4025 \r\nL 345.482139 457.4025 \r\nL 345.482139 423.950192 \r\n\" style=\"fill:#3f1b43;\"/>\r\n    <path clip-path=\"url(#p0e8ca16889)\" d=\"M 386.688293 423.950192 \r\nL 427.894447 423.950192 \r\nL 427.894447 457.4025 \r\nL 386.688293 457.4025 \r\nL 386.688293 423.950192 \r\n\" style=\"fill:#2a1636;\"/>\r\n    <path clip-path=\"url(#p0e8ca16889)\" d=\"M 427.894447 423.950192 \r\nL 469.100601 423.950192 \r\nL 469.100601 457.4025 \r\nL 427.894447 457.4025 \r\nL 427.894447 423.950192 \r\n\" style=\"fill:#35193e;\"/>\r\n    <path clip-path=\"url(#p0e8ca16889)\" d=\"M 469.100601 423.950192 \r\nL 510.306755 423.950192 \r\nL 510.306755 457.4025 \r\nL 469.100601 457.4025 \r\nL 469.100601 423.950192 \r\n\" style=\"fill:#ee543f;\"/>\r\n    <path clip-path=\"url(#p0e8ca16889)\" d=\"M 510.306755 423.950192 \r\nL 551.512909 423.950192 \r\nL 551.512909 457.4025 \r\nL 510.306755 457.4025 \r\nL 510.306755 423.950192 \r\n\" style=\"fill:#04051a;\"/>\r\n    <path clip-path=\"url(#p0e8ca16889)\" d=\"M 551.512909 423.950192 \r\nL 592.719063 423.950192 \r\nL 592.719063 457.4025 \r\nL 551.512909 457.4025 \r\nL 551.512909 423.950192 \r\n\" style=\"fill:#faebdd;\"/>\r\n   </g>\r\n   <g id=\"matplotlib.axis_1\">\r\n    <g id=\"xtick_1\">\r\n     <g id=\"line2d_1\">\r\n      <defs>\r\n       <path d=\"M 0 0 \r\nL 0 3.5 \r\n\" id=\"m52ae8974fb\" style=\"stroke:#000000;stroke-width:0.8;\"/>\r\n      </defs>\r\n      <g>\r\n       <use style=\"stroke:#000000;stroke-width:0.8;\" x=\"77.642139\" xlink:href=\"#m52ae8974fb\" y=\"457.4025\"/>\r\n      </g>\r\n     </g>\r\n     <g id=\"text_1\">\r\n      <!-- CRIM -->\r\n      <defs>\r\n       <path d=\"M 64.40625 67.28125 \r\nL 64.40625 56.890625 \r\nQ 59.421875 61.53125 53.78125 63.8125 \r\nQ 48.140625 66.109375 41.796875 66.109375 \r\nQ 29.296875 66.109375 22.65625 58.46875 \r\nQ 16.015625 50.828125 16.015625 36.375 \r\nQ 16.015625 21.96875 22.65625 14.328125 \r\nQ 29.296875 6.6875 41.796875 6.6875 \r\nQ 48.140625 6.6875 53.78125 8.984375 \r\nQ 59.421875 11.28125 64.40625 15.921875 \r\nL 64.40625 5.609375 \r\nQ 59.234375 2.09375 53.4375 0.328125 \r\nQ 47.65625 -1.421875 41.21875 -1.421875 \r\nQ 24.65625 -1.421875 15.125 8.703125 \r\nQ 5.609375 18.84375 5.609375 36.375 \r\nQ 5.609375 53.953125 15.125 64.078125 \r\nQ 24.65625 74.21875 41.21875 74.21875 \r\nQ 47.75 74.21875 53.53125 72.484375 \r\nQ 59.328125 70.75 64.40625 67.28125 \r\nz\r\n\" id=\"DejaVuSans-67\"/>\r\n       <path d=\"M 44.390625 34.1875 \r\nQ 47.5625 33.109375 50.5625 29.59375 \r\nQ 53.5625 26.078125 56.59375 19.921875 \r\nL 66.609375 0 \r\nL 56 0 \r\nL 46.6875 18.703125 \r\nQ 43.0625 26.03125 39.671875 28.421875 \r\nQ 36.28125 30.8125 30.421875 30.8125 \r\nL 19.671875 30.8125 \r\nL 19.671875 0 \r\nL 9.8125 0 \r\nL 9.8125 72.90625 \r\nL 32.078125 72.90625 \r\nQ 44.578125 72.90625 50.734375 67.671875 \r\nQ 56.890625 62.453125 56.890625 51.90625 \r\nQ 56.890625 45.015625 53.6875 40.46875 \r\nQ 50.484375 35.9375 44.390625 34.1875 \r\nz\r\nM 19.671875 64.796875 \r\nL 19.671875 38.921875 \r\nL 32.078125 38.921875 \r\nQ 39.203125 38.921875 42.84375 42.21875 \r\nQ 46.484375 45.515625 46.484375 51.90625 \r\nQ 46.484375 58.296875 42.84375 61.546875 \r\nQ 39.203125 64.796875 32.078125 64.796875 \r\nz\r\n\" id=\"DejaVuSans-82\"/>\r\n       <path d=\"M 9.8125 72.90625 \r\nL 19.671875 72.90625 \r\nL 19.671875 0 \r\nL 9.8125 0 \r\nz\r\n\" id=\"DejaVuSans-73\"/>\r\n       <path d=\"M 9.8125 72.90625 \r\nL 24.515625 72.90625 \r\nL 43.109375 23.296875 \r\nL 61.8125 72.90625 \r\nL 76.515625 72.90625 \r\nL 76.515625 0 \r\nL 66.890625 0 \r\nL 66.890625 64.015625 \r\nL 48.09375 14.015625 \r\nL 38.1875 14.015625 \r\nL 19.390625 64.015625 \r\nL 19.390625 0 \r\nL 9.8125 0 \r\nz\r\n\" id=\"DejaVuSans-77\"/>\r\n      </defs>\r\n      <g transform=\"translate(64.887452 472.000937)scale(0.1 -0.1)\">\r\n       <use xlink:href=\"#DejaVuSans-67\"/>\r\n       <use x=\"69.824219\" xlink:href=\"#DejaVuSans-82\"/>\r\n       <use x=\"139.306641\" xlink:href=\"#DejaVuSans-73\"/>\r\n       <use x=\"168.798828\" xlink:href=\"#DejaVuSans-77\"/>\r\n      </g>\r\n     </g>\r\n    </g>\r\n    <g id=\"xtick_2\">\r\n     <g id=\"line2d_2\">\r\n      <g>\r\n       <use style=\"stroke:#000000;stroke-width:0.8;\" x=\"118.848293\" xlink:href=\"#m52ae8974fb\" y=\"457.4025\"/>\r\n      </g>\r\n     </g>\r\n     <g id=\"text_2\">\r\n      <!-- INDUS -->\r\n      <defs>\r\n       <path d=\"M 9.8125 72.90625 \r\nL 23.09375 72.90625 \r\nL 55.421875 11.921875 \r\nL 55.421875 72.90625 \r\nL 64.984375 72.90625 \r\nL 64.984375 0 \r\nL 51.703125 0 \r\nL 19.390625 60.984375 \r\nL 19.390625 0 \r\nL 9.8125 0 \r\nz\r\n\" id=\"DejaVuSans-78\"/>\r\n       <path d=\"M 19.671875 64.796875 \r\nL 19.671875 8.109375 \r\nL 31.59375 8.109375 \r\nQ 46.6875 8.109375 53.6875 14.9375 \r\nQ 60.6875 21.78125 60.6875 36.53125 \r\nQ 60.6875 51.171875 53.6875 57.984375 \r\nQ 46.6875 64.796875 31.59375 64.796875 \r\nz\r\nM 9.8125 72.90625 \r\nL 30.078125 72.90625 \r\nQ 51.265625 72.90625 61.171875 64.09375 \r\nQ 71.09375 55.28125 71.09375 36.53125 \r\nQ 71.09375 17.671875 61.125 8.828125 \r\nQ 51.171875 0 30.078125 0 \r\nL 9.8125 0 \r\nz\r\n\" id=\"DejaVuSans-68\"/>\r\n       <path d=\"M 8.6875 72.90625 \r\nL 18.609375 72.90625 \r\nL 18.609375 28.609375 \r\nQ 18.609375 16.890625 22.84375 11.734375 \r\nQ 27.09375 6.59375 36.625 6.59375 \r\nQ 46.09375 6.59375 50.34375 11.734375 \r\nQ 54.59375 16.890625 54.59375 28.609375 \r\nL 54.59375 72.90625 \r\nL 64.5 72.90625 \r\nL 64.5 27.390625 \r\nQ 64.5 13.140625 57.4375 5.859375 \r\nQ 50.390625 -1.421875 36.625 -1.421875 \r\nQ 22.796875 -1.421875 15.734375 5.859375 \r\nQ 8.6875 13.140625 8.6875 27.390625 \r\nz\r\n\" id=\"DejaVuSans-85\"/>\r\n       <path d=\"M 53.515625 70.515625 \r\nL 53.515625 60.890625 \r\nQ 47.90625 63.578125 42.921875 64.890625 \r\nQ 37.9375 66.21875 33.296875 66.21875 \r\nQ 25.25 66.21875 20.875 63.09375 \r\nQ 16.5 59.96875 16.5 54.203125 \r\nQ 16.5 49.359375 19.40625 46.890625 \r\nQ 22.3125 44.4375 30.421875 42.921875 \r\nL 36.375 41.703125 \r\nQ 47.40625 39.59375 52.65625 34.296875 \r\nQ 57.90625 29 57.90625 20.125 \r\nQ 57.90625 9.515625 50.796875 4.046875 \r\nQ 43.703125 -1.421875 29.984375 -1.421875 \r\nQ 24.8125 -1.421875 18.96875 -0.25 \r\nQ 13.140625 0.921875 6.890625 3.21875 \r\nL 6.890625 13.375 \r\nQ 12.890625 10.015625 18.65625 8.296875 \r\nQ 24.421875 6.59375 29.984375 6.59375 \r\nQ 38.421875 6.59375 43.015625 9.90625 \r\nQ 47.609375 13.234375 47.609375 19.390625 \r\nQ 47.609375 24.75 44.3125 27.78125 \r\nQ 41.015625 30.8125 33.5 32.328125 \r\nL 27.484375 33.5 \r\nQ 16.453125 35.6875 11.515625 40.375 \r\nQ 6.59375 45.0625 6.59375 53.421875 \r\nQ 6.59375 63.09375 13.40625 68.65625 \r\nQ 20.21875 74.21875 32.171875 74.21875 \r\nQ 37.3125 74.21875 42.625 73.28125 \r\nQ 47.953125 72.359375 53.515625 70.515625 \r\nz\r\n\" id=\"DejaVuSans-83\"/>\r\n      </defs>\r\n      <g transform=\"translate(102.949075 472.000937)scale(0.1 -0.1)\">\r\n       <use xlink:href=\"#DejaVuSans-73\"/>\r\n       <use x=\"29.492188\" xlink:href=\"#DejaVuSans-78\"/>\r\n       <use x=\"104.296875\" xlink:href=\"#DejaVuSans-68\"/>\r\n       <use x=\"181.298828\" xlink:href=\"#DejaVuSans-85\"/>\r\n       <use x=\"254.492188\" xlink:href=\"#DejaVuSans-83\"/>\r\n      </g>\r\n     </g>\r\n    </g>\r\n    <g id=\"xtick_3\">\r\n     <g id=\"line2d_3\">\r\n      <g>\r\n       <use style=\"stroke:#000000;stroke-width:0.8;\" x=\"160.054447\" xlink:href=\"#m52ae8974fb\" y=\"457.4025\"/>\r\n      </g>\r\n     </g>\r\n     <g id=\"text_3\">\r\n      <!-- CHAS -->\r\n      <defs>\r\n       <path d=\"M 9.8125 72.90625 \r\nL 19.671875 72.90625 \r\nL 19.671875 43.015625 \r\nL 55.515625 43.015625 \r\nL 55.515625 72.90625 \r\nL 65.375 72.90625 \r\nL 65.375 0 \r\nL 55.515625 0 \r\nL 55.515625 34.71875 \r\nL 19.671875 34.71875 \r\nL 19.671875 0 \r\nL 9.8125 0 \r\nz\r\n\" id=\"DejaVuSans-72\"/>\r\n       <path d=\"M 34.1875 63.1875 \r\nL 20.796875 26.90625 \r\nL 47.609375 26.90625 \r\nz\r\nM 28.609375 72.90625 \r\nL 39.796875 72.90625 \r\nL 67.578125 0 \r\nL 57.328125 0 \r\nL 50.6875 18.703125 \r\nL 17.828125 18.703125 \r\nL 11.1875 0 \r\nL 0.78125 0 \r\nz\r\n\" id=\"DejaVuSans-65\"/>\r\n      </defs>\r\n      <g transform=\"translate(146.208353 472.000937)scale(0.1 -0.1)\">\r\n       <use xlink:href=\"#DejaVuSans-67\"/>\r\n       <use x=\"69.824219\" xlink:href=\"#DejaVuSans-72\"/>\r\n       <use x=\"145.019531\" xlink:href=\"#DejaVuSans-65\"/>\r\n       <use x=\"213.427734\" xlink:href=\"#DejaVuSans-83\"/>\r\n      </g>\r\n     </g>\r\n    </g>\r\n    <g id=\"xtick_4\">\r\n     <g id=\"line2d_4\">\r\n      <g>\r\n       <use style=\"stroke:#000000;stroke-width:0.8;\" x=\"201.260601\" xlink:href=\"#m52ae8974fb\" y=\"457.4025\"/>\r\n      </g>\r\n     </g>\r\n     <g id=\"text_4\">\r\n      <!-- NOX -->\r\n      <defs>\r\n       <path d=\"M 39.40625 66.21875 \r\nQ 28.65625 66.21875 22.328125 58.203125 \r\nQ 16.015625 50.203125 16.015625 36.375 \r\nQ 16.015625 22.609375 22.328125 14.59375 \r\nQ 28.65625 6.59375 39.40625 6.59375 \r\nQ 50.140625 6.59375 56.421875 14.59375 \r\nQ 62.703125 22.609375 62.703125 36.375 \r\nQ 62.703125 50.203125 56.421875 58.203125 \r\nQ 50.140625 66.21875 39.40625 66.21875 \r\nz\r\nM 39.40625 74.21875 \r\nQ 54.734375 74.21875 63.90625 63.9375 \r\nQ 73.09375 53.65625 73.09375 36.375 \r\nQ 73.09375 19.140625 63.90625 8.859375 \r\nQ 54.734375 -1.421875 39.40625 -1.421875 \r\nQ 24.03125 -1.421875 14.8125 8.828125 \r\nQ 5.609375 19.09375 5.609375 36.375 \r\nQ 5.609375 53.65625 14.8125 63.9375 \r\nQ 24.03125 74.21875 39.40625 74.21875 \r\nz\r\n\" id=\"DejaVuSans-79\"/>\r\n       <path d=\"M 6.296875 72.90625 \r\nL 16.890625 72.90625 \r\nL 35.015625 45.796875 \r\nL 53.21875 72.90625 \r\nL 63.8125 72.90625 \r\nL 40.375 37.890625 \r\nL 65.375 0 \r\nL 54.78125 0 \r\nL 34.28125 31 \r\nL 13.625 0 \r\nL 2.984375 0 \r\nL 29 38.921875 \r\nz\r\n\" id=\"DejaVuSans-88\"/>\r\n      </defs>\r\n      <g transform=\"translate(190.163726 472.000937)scale(0.1 -0.1)\">\r\n       <use xlink:href=\"#DejaVuSans-78\"/>\r\n       <use x=\"74.804688\" xlink:href=\"#DejaVuSans-79\"/>\r\n       <use x=\"153.421875\" xlink:href=\"#DejaVuSans-88\"/>\r\n      </g>\r\n     </g>\r\n    </g>\r\n    <g id=\"xtick_5\">\r\n     <g id=\"line2d_5\">\r\n      <g>\r\n       <use style=\"stroke:#000000;stroke-width:0.8;\" x=\"242.466755\" xlink:href=\"#m52ae8974fb\" y=\"457.4025\"/>\r\n      </g>\r\n     </g>\r\n     <g id=\"text_5\">\r\n      <!-- RM -->\r\n      <g transform=\"translate(234.678474 472.000937)scale(0.1 -0.1)\">\r\n       <use xlink:href=\"#DejaVuSans-82\"/>\r\n       <use x=\"69.482422\" xlink:href=\"#DejaVuSans-77\"/>\r\n      </g>\r\n     </g>\r\n    </g>\r\n    <g id=\"xtick_6\">\r\n     <g id=\"line2d_6\">\r\n      <g>\r\n       <use style=\"stroke:#000000;stroke-width:0.8;\" x=\"283.672909\" xlink:href=\"#m52ae8974fb\" y=\"457.4025\"/>\r\n      </g>\r\n     </g>\r\n     <g id=\"text_6\">\r\n      <!-- AGE -->\r\n      <defs>\r\n       <path d=\"M 59.515625 10.40625 \r\nL 59.515625 29.984375 \r\nL 43.40625 29.984375 \r\nL 43.40625 38.09375 \r\nL 69.28125 38.09375 \r\nL 69.28125 6.78125 \r\nQ 63.578125 2.734375 56.6875 0.65625 \r\nQ 49.8125 -1.421875 42 -1.421875 \r\nQ 24.90625 -1.421875 15.25 8.5625 \r\nQ 5.609375 18.5625 5.609375 36.375 \r\nQ 5.609375 54.25 15.25 64.234375 \r\nQ 24.90625 74.21875 42 74.21875 \r\nQ 49.125 74.21875 55.546875 72.453125 \r\nQ 61.96875 70.703125 67.390625 67.28125 \r\nL 67.390625 56.78125 \r\nQ 61.921875 61.421875 55.765625 63.765625 \r\nQ 49.609375 66.109375 42.828125 66.109375 \r\nQ 29.4375 66.109375 22.71875 58.640625 \r\nQ 16.015625 51.171875 16.015625 36.375 \r\nQ 16.015625 21.625 22.71875 14.15625 \r\nQ 29.4375 6.6875 42.828125 6.6875 \r\nQ 48.046875 6.6875 52.140625 7.59375 \r\nQ 56.25 8.5 59.515625 10.40625 \r\nz\r\n\" id=\"DejaVuSans-71\"/>\r\n       <path d=\"M 9.8125 72.90625 \r\nL 55.90625 72.90625 \r\nL 55.90625 64.59375 \r\nL 19.671875 64.59375 \r\nL 19.671875 43.015625 \r\nL 54.390625 43.015625 \r\nL 54.390625 34.71875 \r\nL 19.671875 34.71875 \r\nL 19.671875 8.296875 \r\nL 56.78125 8.296875 \r\nL 56.78125 0 \r\nL 9.8125 0 \r\nz\r\n\" id=\"DejaVuSans-69\"/>\r\n      </defs>\r\n      <g transform=\"translate(273.219784 472.000937)scale(0.1 -0.1)\">\r\n       <use xlink:href=\"#DejaVuSans-65\"/>\r\n       <use x=\"68.392578\" xlink:href=\"#DejaVuSans-71\"/>\r\n       <use x=\"145.882812\" xlink:href=\"#DejaVuSans-69\"/>\r\n      </g>\r\n     </g>\r\n    </g>\r\n    <g id=\"xtick_7\">\r\n     <g id=\"line2d_7\">\r\n      <g>\r\n       <use style=\"stroke:#000000;stroke-width:0.8;\" x=\"324.879063\" xlink:href=\"#m52ae8974fb\" y=\"457.4025\"/>\r\n      </g>\r\n     </g>\r\n     <g id=\"text_7\">\r\n      <!-- DIS -->\r\n      <g transform=\"translate(316.379844 472.000937)scale(0.1 -0.1)\">\r\n       <use xlink:href=\"#DejaVuSans-68\"/>\r\n       <use x=\"77.001953\" xlink:href=\"#DejaVuSans-73\"/>\r\n       <use x=\"106.494141\" xlink:href=\"#DejaVuSans-83\"/>\r\n      </g>\r\n     </g>\r\n    </g>\r\n    <g id=\"xtick_8\">\r\n     <g id=\"line2d_8\">\r\n      <g>\r\n       <use style=\"stroke:#000000;stroke-width:0.8;\" x=\"366.085216\" xlink:href=\"#m52ae8974fb\" y=\"457.4025\"/>\r\n      </g>\r\n     </g>\r\n     <g id=\"text_8\">\r\n      <!-- RAD -->\r\n      <g transform=\"translate(355.34381 472.000937)scale(0.1 -0.1)\">\r\n       <use xlink:href=\"#DejaVuSans-82\"/>\r\n       <use x=\"69.419922\" xlink:href=\"#DejaVuSans-65\"/>\r\n       <use x=\"137.828125\" xlink:href=\"#DejaVuSans-68\"/>\r\n      </g>\r\n     </g>\r\n    </g>\r\n    <g id=\"xtick_9\">\r\n     <g id=\"line2d_9\">\r\n      <g>\r\n       <use style=\"stroke:#000000;stroke-width:0.8;\" x=\"407.29137\" xlink:href=\"#m52ae8974fb\" y=\"457.4025\"/>\r\n      </g>\r\n     </g>\r\n     <g id=\"text_9\">\r\n      <!-- TAX -->\r\n      <defs>\r\n       <path d=\"M -0.296875 72.90625 \r\nL 61.375 72.90625 \r\nL 61.375 64.59375 \r\nL 35.5 64.59375 \r\nL 35.5 0 \r\nL 25.59375 0 \r\nL 25.59375 64.59375 \r\nL -0.296875 64.59375 \r\nz\r\n\" id=\"DejaVuSans-84\"/>\r\n      </defs>\r\n      <g transform=\"translate(397.39762 472.000937)scale(0.1 -0.1)\">\r\n       <use xlink:href=\"#DejaVuSans-84\"/>\r\n       <use x=\"60.974609\" xlink:href=\"#DejaVuSans-65\"/>\r\n       <use x=\"129.382812\" xlink:href=\"#DejaVuSans-88\"/>\r\n      </g>\r\n     </g>\r\n    </g>\r\n    <g id=\"xtick_10\">\r\n     <g id=\"line2d_10\">\r\n      <g>\r\n       <use style=\"stroke:#000000;stroke-width:0.8;\" x=\"448.497524\" xlink:href=\"#m52ae8974fb\" y=\"457.4025\"/>\r\n      </g>\r\n     </g>\r\n     <g id=\"text_10\">\r\n      <!-- PTRATIO -->\r\n      <defs>\r\n       <path d=\"M 19.671875 64.796875 \r\nL 19.671875 37.40625 \r\nL 32.078125 37.40625 \r\nQ 38.96875 37.40625 42.71875 40.96875 \r\nQ 46.484375 44.53125 46.484375 51.125 \r\nQ 46.484375 57.671875 42.71875 61.234375 \r\nQ 38.96875 64.796875 32.078125 64.796875 \r\nz\r\nM 9.8125 72.90625 \r\nL 32.078125 72.90625 \r\nQ 44.34375 72.90625 50.609375 67.359375 \r\nQ 56.890625 61.8125 56.890625 51.125 \r\nQ 56.890625 40.328125 50.609375 34.8125 \r\nQ 44.34375 29.296875 32.078125 29.296875 \r\nL 19.671875 29.296875 \r\nL 19.671875 0 \r\nL 9.8125 0 \r\nz\r\n\" id=\"DejaVuSans-80\"/>\r\n      </defs>\r\n      <g transform=\"translate(427.077993 472.000937)scale(0.1 -0.1)\">\r\n       <use xlink:href=\"#DejaVuSans-80\"/>\r\n       <use x=\"60.302734\" xlink:href=\"#DejaVuSans-84\"/>\r\n       <use x=\"121.386719\" xlink:href=\"#DejaVuSans-82\"/>\r\n       <use x=\"190.806641\" xlink:href=\"#DejaVuSans-65\"/>\r\n       <use x=\"259.105469\" xlink:href=\"#DejaVuSans-84\"/>\r\n       <use x=\"320.189453\" xlink:href=\"#DejaVuSans-73\"/>\r\n       <use x=\"349.681641\" xlink:href=\"#DejaVuSans-79\"/>\r\n      </g>\r\n     </g>\r\n    </g>\r\n    <g id=\"xtick_11\">\r\n     <g id=\"line2d_11\">\r\n      <g>\r\n       <use style=\"stroke:#000000;stroke-width:0.8;\" x=\"489.703678\" xlink:href=\"#m52ae8974fb\" y=\"457.4025\"/>\r\n      </g>\r\n     </g>\r\n     <g id=\"text_11\">\r\n      <!-- B -->\r\n      <defs>\r\n       <path d=\"M 19.671875 34.8125 \r\nL 19.671875 8.109375 \r\nL 35.5 8.109375 \r\nQ 43.453125 8.109375 47.28125 11.40625 \r\nQ 51.125 14.703125 51.125 21.484375 \r\nQ 51.125 28.328125 47.28125 31.5625 \r\nQ 43.453125 34.8125 35.5 34.8125 \r\nz\r\nM 19.671875 64.796875 \r\nL 19.671875 42.828125 \r\nL 34.28125 42.828125 \r\nQ 41.5 42.828125 45.03125 45.53125 \r\nQ 48.578125 48.25 48.578125 53.8125 \r\nQ 48.578125 59.328125 45.03125 62.0625 \r\nQ 41.5 64.796875 34.28125 64.796875 \r\nz\r\nM 9.8125 72.90625 \r\nL 35.015625 72.90625 \r\nQ 46.296875 72.90625 52.390625 68.21875 \r\nQ 58.5 63.53125 58.5 54.890625 \r\nQ 58.5 48.1875 55.375 44.234375 \r\nQ 52.25 40.28125 46.1875 39.3125 \r\nQ 53.46875 37.75 57.5 32.78125 \r\nQ 61.53125 27.828125 61.53125 20.40625 \r\nQ 61.53125 10.640625 54.890625 5.3125 \r\nQ 48.25 0 35.984375 0 \r\nL 9.8125 0 \r\nz\r\n\" id=\"DejaVuSans-66\"/>\r\n      </defs>\r\n      <g transform=\"translate(486.273209 472.000937)scale(0.1 -0.1)\">\r\n       <use xlink:href=\"#DejaVuSans-66\"/>\r\n      </g>\r\n     </g>\r\n    </g>\r\n    <g id=\"xtick_12\">\r\n     <g id=\"line2d_12\">\r\n      <g>\r\n       <use style=\"stroke:#000000;stroke-width:0.8;\" x=\"530.909832\" xlink:href=\"#m52ae8974fb\" y=\"457.4025\"/>\r\n      </g>\r\n     </g>\r\n     <g id=\"text_12\">\r\n      <!-- LSTAT -->\r\n      <defs>\r\n       <path d=\"M 9.8125 72.90625 \r\nL 19.671875 72.90625 \r\nL 19.671875 8.296875 \r\nL 55.171875 8.296875 \r\nL 55.171875 0 \r\nL 9.8125 0 \r\nz\r\n\" id=\"DejaVuSans-76\"/>\r\n      </defs>\r\n      <g transform=\"translate(515.432488 472.000937)scale(0.1 -0.1)\">\r\n       <use xlink:href=\"#DejaVuSans-76\"/>\r\n       <use x=\"55.712891\" xlink:href=\"#DejaVuSans-83\"/>\r\n       <use x=\"119.189453\" xlink:href=\"#DejaVuSans-84\"/>\r\n       <use x=\"180.164062\" xlink:href=\"#DejaVuSans-65\"/>\r\n       <use x=\"248.462891\" xlink:href=\"#DejaVuSans-84\"/>\r\n      </g>\r\n     </g>\r\n    </g>\r\n    <g id=\"xtick_13\">\r\n     <g id=\"line2d_13\">\r\n      <g>\r\n       <use style=\"stroke:#000000;stroke-width:0.8;\" x=\"572.115986\" xlink:href=\"#m52ae8974fb\" y=\"457.4025\"/>\r\n      </g>\r\n     </g>\r\n     <g id=\"text_13\">\r\n      <!-- MEDV -->\r\n      <defs>\r\n       <path d=\"M 28.609375 0 \r\nL 0.78125 72.90625 \r\nL 11.078125 72.90625 \r\nL 34.1875 11.53125 \r\nL 57.328125 72.90625 \r\nL 67.578125 72.90625 \r\nL 39.796875 0 \r\nz\r\n\" id=\"DejaVuSans-86\"/>\r\n      </defs>\r\n      <g transform=\"translate(557.373017 472.000937)scale(0.1 -0.1)\">\r\n       <use xlink:href=\"#DejaVuSans-77\"/>\r\n       <use x=\"86.279297\" xlink:href=\"#DejaVuSans-69\"/>\r\n       <use x=\"149.462891\" xlink:href=\"#DejaVuSans-68\"/>\r\n       <use x=\"226.449219\" xlink:href=\"#DejaVuSans-86\"/>\r\n      </g>\r\n     </g>\r\n    </g>\r\n   </g>\r\n   <g id=\"matplotlib.axis_2\">\r\n    <g id=\"ytick_1\">\r\n     <g id=\"line2d_14\">\r\n      <defs>\r\n       <path d=\"M 0 0 \r\nL -3.5 0 \r\n\" id=\"m53a795af3f\" style=\"stroke:#000000;stroke-width:0.8;\"/>\r\n      </defs>\r\n      <g>\r\n       <use style=\"stroke:#000000;stroke-width:0.8;\" x=\"57.039063\" xlink:href=\"#m53a795af3f\" y=\"39.248654\"/>\r\n      </g>\r\n     </g>\r\n     <g id=\"text_14\">\r\n      <!-- CRIM -->\r\n      <g transform=\"translate(24.529688 43.047873)scale(0.1 -0.1)\">\r\n       <use xlink:href=\"#DejaVuSans-67\"/>\r\n       <use x=\"69.824219\" xlink:href=\"#DejaVuSans-82\"/>\r\n       <use x=\"139.306641\" xlink:href=\"#DejaVuSans-73\"/>\r\n       <use x=\"168.798828\" xlink:href=\"#DejaVuSans-77\"/>\r\n      </g>\r\n     </g>\r\n    </g>\r\n    <g id=\"ytick_2\">\r\n     <g id=\"line2d_15\">\r\n      <g>\r\n       <use style=\"stroke:#000000;stroke-width:0.8;\" x=\"57.039063\" xlink:href=\"#m53a795af3f\" y=\"72.700962\"/>\r\n      </g>\r\n     </g>\r\n     <g id=\"text_15\">\r\n      <!-- INDUS -->\r\n      <g transform=\"translate(18.240625 76.50018)scale(0.1 -0.1)\">\r\n       <use xlink:href=\"#DejaVuSans-73\"/>\r\n       <use x=\"29.492188\" xlink:href=\"#DejaVuSans-78\"/>\r\n       <use x=\"104.296875\" xlink:href=\"#DejaVuSans-68\"/>\r\n       <use x=\"181.298828\" xlink:href=\"#DejaVuSans-85\"/>\r\n       <use x=\"254.492188\" xlink:href=\"#DejaVuSans-83\"/>\r\n      </g>\r\n     </g>\r\n    </g>\r\n    <g id=\"ytick_3\">\r\n     <g id=\"line2d_16\">\r\n      <g>\r\n       <use style=\"stroke:#000000;stroke-width:0.8;\" x=\"57.039063\" xlink:href=\"#m53a795af3f\" y=\"106.153269\"/>\r\n      </g>\r\n     </g>\r\n     <g id=\"text_16\">\r\n      <!-- CHAS -->\r\n      <g transform=\"translate(22.346875 109.952488)scale(0.1 -0.1)\">\r\n       <use xlink:href=\"#DejaVuSans-67\"/>\r\n       <use x=\"69.824219\" xlink:href=\"#DejaVuSans-72\"/>\r\n       <use x=\"145.019531\" xlink:href=\"#DejaVuSans-65\"/>\r\n       <use x=\"213.427734\" xlink:href=\"#DejaVuSans-83\"/>\r\n      </g>\r\n     </g>\r\n    </g>\r\n    <g id=\"ytick_4\">\r\n     <g id=\"line2d_17\">\r\n      <g>\r\n       <use style=\"stroke:#000000;stroke-width:0.8;\" x=\"57.039063\" xlink:href=\"#m53a795af3f\" y=\"139.605577\"/>\r\n      </g>\r\n     </g>\r\n     <g id=\"text_17\">\r\n      <!-- NOX -->\r\n      <g transform=\"translate(27.845313 143.404796)scale(0.1 -0.1)\">\r\n       <use xlink:href=\"#DejaVuSans-78\"/>\r\n       <use x=\"74.804688\" xlink:href=\"#DejaVuSans-79\"/>\r\n       <use x=\"153.421875\" xlink:href=\"#DejaVuSans-88\"/>\r\n      </g>\r\n     </g>\r\n    </g>\r\n    <g id=\"ytick_5\">\r\n     <g id=\"line2d_18\">\r\n      <g>\r\n       <use style=\"stroke:#000000;stroke-width:0.8;\" x=\"57.039063\" xlink:href=\"#m53a795af3f\" y=\"173.057885\"/>\r\n      </g>\r\n     </g>\r\n     <g id=\"text_18\">\r\n      <!-- RM -->\r\n      <g transform=\"translate(34.4625 176.857103)scale(0.1 -0.1)\">\r\n       <use xlink:href=\"#DejaVuSans-82\"/>\r\n       <use x=\"69.482422\" xlink:href=\"#DejaVuSans-77\"/>\r\n      </g>\r\n     </g>\r\n    </g>\r\n    <g id=\"ytick_6\">\r\n     <g id=\"line2d_19\">\r\n      <g>\r\n       <use style=\"stroke:#000000;stroke-width:0.8;\" x=\"57.039063\" xlink:href=\"#m53a795af3f\" y=\"206.510192\"/>\r\n      </g>\r\n     </g>\r\n     <g id=\"text_19\">\r\n      <!-- AGE -->\r\n      <g transform=\"translate(29.132813 210.309411)scale(0.1 -0.1)\">\r\n       <use xlink:href=\"#DejaVuSans-65\"/>\r\n       <use x=\"68.392578\" xlink:href=\"#DejaVuSans-71\"/>\r\n       <use x=\"145.882812\" xlink:href=\"#DejaVuSans-69\"/>\r\n      </g>\r\n     </g>\r\n    </g>\r\n    <g id=\"ytick_7\">\r\n     <g id=\"line2d_20\">\r\n      <g>\r\n       <use style=\"stroke:#000000;stroke-width:0.8;\" x=\"57.039063\" xlink:href=\"#m53a795af3f\" y=\"239.9625\"/>\r\n      </g>\r\n     </g>\r\n     <g id=\"text_20\">\r\n      <!-- DIS -->\r\n      <g transform=\"translate(33.040625 243.761719)scale(0.1 -0.1)\">\r\n       <use xlink:href=\"#DejaVuSans-68\"/>\r\n       <use x=\"77.001953\" xlink:href=\"#DejaVuSans-73\"/>\r\n       <use x=\"106.494141\" xlink:href=\"#DejaVuSans-83\"/>\r\n      </g>\r\n     </g>\r\n    </g>\r\n    <g id=\"ytick_8\">\r\n     <g id=\"line2d_21\">\r\n      <g>\r\n       <use style=\"stroke:#000000;stroke-width:0.8;\" x=\"57.039063\" xlink:href=\"#m53a795af3f\" y=\"273.414808\"/>\r\n      </g>\r\n     </g>\r\n     <g id=\"text_21\">\r\n      <!-- RAD -->\r\n      <g transform=\"translate(28.55625 277.214026)scale(0.1 -0.1)\">\r\n       <use xlink:href=\"#DejaVuSans-82\"/>\r\n       <use x=\"69.419922\" xlink:href=\"#DejaVuSans-65\"/>\r\n       <use x=\"137.828125\" xlink:href=\"#DejaVuSans-68\"/>\r\n      </g>\r\n     </g>\r\n    </g>\r\n    <g id=\"ytick_9\">\r\n     <g id=\"line2d_22\">\r\n      <g>\r\n       <use style=\"stroke:#000000;stroke-width:0.8;\" x=\"57.039063\" xlink:href=\"#m53a795af3f\" y=\"306.867115\"/>\r\n      </g>\r\n     </g>\r\n     <g id=\"text_22\">\r\n      <!-- TAX -->\r\n      <g transform=\"translate(30.251563 310.666334)scale(0.1 -0.1)\">\r\n       <use xlink:href=\"#DejaVuSans-84\"/>\r\n       <use x=\"60.974609\" xlink:href=\"#DejaVuSans-65\"/>\r\n       <use x=\"129.382812\" xlink:href=\"#DejaVuSans-88\"/>\r\n      </g>\r\n     </g>\r\n    </g>\r\n    <g id=\"ytick_10\">\r\n     <g id=\"line2d_23\">\r\n      <g>\r\n       <use style=\"stroke:#000000;stroke-width:0.8;\" x=\"57.039063\" xlink:href=\"#m53a795af3f\" y=\"340.319423\"/>\r\n      </g>\r\n     </g>\r\n     <g id=\"text_23\">\r\n      <!-- PTRATIO -->\r\n      <g transform=\"translate(7.2 344.118642)scale(0.1 -0.1)\">\r\n       <use xlink:href=\"#DejaVuSans-80\"/>\r\n       <use x=\"60.302734\" xlink:href=\"#DejaVuSans-84\"/>\r\n       <use x=\"121.386719\" xlink:href=\"#DejaVuSans-82\"/>\r\n       <use x=\"190.806641\" xlink:href=\"#DejaVuSans-65\"/>\r\n       <use x=\"259.105469\" xlink:href=\"#DejaVuSans-84\"/>\r\n       <use x=\"320.189453\" xlink:href=\"#DejaVuSans-73\"/>\r\n       <use x=\"349.681641\" xlink:href=\"#DejaVuSans-79\"/>\r\n      </g>\r\n     </g>\r\n    </g>\r\n    <g id=\"ytick_11\">\r\n     <g id=\"line2d_24\">\r\n      <g>\r\n       <use style=\"stroke:#000000;stroke-width:0.8;\" x=\"57.039063\" xlink:href=\"#m53a795af3f\" y=\"373.771731\"/>\r\n      </g>\r\n     </g>\r\n     <g id=\"text_24\">\r\n      <!-- B -->\r\n      <g transform=\"translate(43.178125 377.57095)scale(0.1 -0.1)\">\r\n       <use xlink:href=\"#DejaVuSans-66\"/>\r\n      </g>\r\n     </g>\r\n    </g>\r\n    <g id=\"ytick_12\">\r\n     <g id=\"line2d_25\">\r\n      <g>\r\n       <use style=\"stroke:#000000;stroke-width:0.8;\" x=\"57.039063\" xlink:href=\"#m53a795af3f\" y=\"407.224038\"/>\r\n      </g>\r\n     </g>\r\n     <g id=\"text_25\">\r\n      <!-- LSTAT -->\r\n      <g transform=\"translate(19.084375 411.023257)scale(0.1 -0.1)\">\r\n       <use xlink:href=\"#DejaVuSans-76\"/>\r\n       <use x=\"55.712891\" xlink:href=\"#DejaVuSans-83\"/>\r\n       <use x=\"119.189453\" xlink:href=\"#DejaVuSans-84\"/>\r\n       <use x=\"180.164062\" xlink:href=\"#DejaVuSans-65\"/>\r\n       <use x=\"248.462891\" xlink:href=\"#DejaVuSans-84\"/>\r\n      </g>\r\n     </g>\r\n    </g>\r\n    <g id=\"ytick_13\">\r\n     <g id=\"line2d_26\">\r\n      <g>\r\n       <use style=\"stroke:#000000;stroke-width:0.8;\" x=\"57.039063\" xlink:href=\"#m53a795af3f\" y=\"440.676346\"/>\r\n      </g>\r\n     </g>\r\n     <g id=\"text_26\">\r\n      <!-- MEDV -->\r\n      <g transform=\"translate(20.553125 444.475565)scale(0.1 -0.1)\">\r\n       <use xlink:href=\"#DejaVuSans-77\"/>\r\n       <use x=\"86.279297\" xlink:href=\"#DejaVuSans-69\"/>\r\n       <use x=\"149.462891\" xlink:href=\"#DejaVuSans-68\"/>\r\n       <use x=\"226.449219\" xlink:href=\"#DejaVuSans-86\"/>\r\n      </g>\r\n     </g>\r\n    </g>\r\n   </g>\r\n   <g id=\"text_27\">\r\n    <!-- 1 -->\r\n    <defs>\r\n     <path d=\"M 12.40625 8.296875 \r\nL 28.515625 8.296875 \r\nL 28.515625 63.921875 \r\nL 10.984375 60.40625 \r\nL 10.984375 69.390625 \r\nL 28.421875 72.90625 \r\nL 38.28125 72.90625 \r\nL 38.28125 8.296875 \r\nL 54.390625 8.296875 \r\nL 54.390625 0 \r\nL 12.40625 0 \r\nz\r\n\" id=\"DejaVuSans-49\"/>\r\n    </defs>\r\n    <g style=\"fill:#262626;\" transform=\"translate(74.460889 42.008029)scale(0.1 -0.1)\">\r\n     <use xlink:href=\"#DejaVuSans-49\"/>\r\n    </g>\r\n   </g>\r\n   <g id=\"text_28\">\r\n    <!-- 0.41 -->\r\n    <defs>\r\n     <path d=\"M 31.78125 66.40625 \r\nQ 24.171875 66.40625 20.328125 58.90625 \r\nQ 16.5 51.421875 16.5 36.375 \r\nQ 16.5 21.390625 20.328125 13.890625 \r\nQ 24.171875 6.390625 31.78125 6.390625 \r\nQ 39.453125 6.390625 43.28125 13.890625 \r\nQ 47.125 21.390625 47.125 36.375 \r\nQ 47.125 51.421875 43.28125 58.90625 \r\nQ 39.453125 66.40625 31.78125 66.40625 \r\nz\r\nM 31.78125 74.21875 \r\nQ 44.046875 74.21875 50.515625 64.515625 \r\nQ 56.984375 54.828125 56.984375 36.375 \r\nQ 56.984375 17.96875 50.515625 8.265625 \r\nQ 44.046875 -1.421875 31.78125 -1.421875 \r\nQ 19.53125 -1.421875 13.0625 8.265625 \r\nQ 6.59375 17.96875 6.59375 36.375 \r\nQ 6.59375 54.828125 13.0625 64.515625 \r\nQ 19.53125 74.21875 31.78125 74.21875 \r\nz\r\n\" id=\"DejaVuSans-48\"/>\r\n     <path d=\"M 10.6875 12.40625 \r\nL 21 12.40625 \r\nL 21 0 \r\nL 10.6875 0 \r\nz\r\n\" id=\"DejaVuSans-46\"/>\r\n     <path d=\"M 37.796875 64.3125 \r\nL 12.890625 25.390625 \r\nL 37.796875 25.390625 \r\nz\r\nM 35.203125 72.90625 \r\nL 47.609375 72.90625 \r\nL 47.609375 25.390625 \r\nL 58.015625 25.390625 \r\nL 58.015625 17.1875 \r\nL 47.609375 17.1875 \r\nL 47.609375 0 \r\nL 37.796875 0 \r\nL 37.796875 17.1875 \r\nL 4.890625 17.1875 \r\nL 4.890625 26.703125 \r\nz\r\n\" id=\"DejaVuSans-52\"/>\r\n    </defs>\r\n    <g style=\"fill:#ffffff;\" transform=\"translate(107.715481 42.008029)scale(0.1 -0.1)\">\r\n     <use xlink:href=\"#DejaVuSans-48\"/>\r\n     <use x=\"63.623047\" xlink:href=\"#DejaVuSans-46\"/>\r\n     <use x=\"95.410156\" xlink:href=\"#DejaVuSans-52\"/>\r\n     <use x=\"159.033203\" xlink:href=\"#DejaVuSans-49\"/>\r\n    </g>\r\n   </g>\r\n   <g id=\"text_29\">\r\n    <!-- -0.064 -->\r\n    <defs>\r\n     <path d=\"M 4.890625 31.390625 \r\nL 31.203125 31.390625 \r\nL 31.203125 23.390625 \r\nL 4.890625 23.390625 \r\nz\r\n\" id=\"DejaVuSans-45\"/>\r\n     <path d=\"M 33.015625 40.375 \r\nQ 26.375 40.375 22.484375 35.828125 \r\nQ 18.609375 31.296875 18.609375 23.390625 \r\nQ 18.609375 15.53125 22.484375 10.953125 \r\nQ 26.375 6.390625 33.015625 6.390625 \r\nQ 39.65625 6.390625 43.53125 10.953125 \r\nQ 47.40625 15.53125 47.40625 23.390625 \r\nQ 47.40625 31.296875 43.53125 35.828125 \r\nQ 39.65625 40.375 33.015625 40.375 \r\nz\r\nM 52.59375 71.296875 \r\nL 52.59375 62.3125 \r\nQ 48.875 64.0625 45.09375 64.984375 \r\nQ 41.3125 65.921875 37.59375 65.921875 \r\nQ 27.828125 65.921875 22.671875 59.328125 \r\nQ 17.53125 52.734375 16.796875 39.40625 \r\nQ 19.671875 43.65625 24.015625 45.921875 \r\nQ 28.375 48.1875 33.59375 48.1875 \r\nQ 44.578125 48.1875 50.953125 41.515625 \r\nQ 57.328125 34.859375 57.328125 23.390625 \r\nQ 57.328125 12.15625 50.6875 5.359375 \r\nQ 44.046875 -1.421875 33.015625 -1.421875 \r\nQ 20.359375 -1.421875 13.671875 8.265625 \r\nQ 6.984375 17.96875 6.984375 36.375 \r\nQ 6.984375 53.65625 15.1875 63.9375 \r\nQ 23.390625 74.21875 37.203125 74.21875 \r\nQ 40.921875 74.21875 44.703125 73.484375 \r\nQ 48.484375 72.75 52.59375 71.296875 \r\nz\r\n\" id=\"DejaVuSans-54\"/>\r\n    </defs>\r\n    <g style=\"fill:#ffffff;\" transform=\"translate(143.936478 42.008029)scale(0.1 -0.1)\">\r\n     <use xlink:href=\"#DejaVuSans-45\"/>\r\n     <use x=\"36.083984\" xlink:href=\"#DejaVuSans-48\"/>\r\n     <use x=\"99.707031\" xlink:href=\"#DejaVuSans-46\"/>\r\n     <use x=\"131.494141\" xlink:href=\"#DejaVuSans-48\"/>\r\n     <use x=\"195.117188\" xlink:href=\"#DejaVuSans-54\"/>\r\n     <use x=\"258.740234\" xlink:href=\"#DejaVuSans-52\"/>\r\n    </g>\r\n   </g>\r\n   <g id=\"text_30\">\r\n    <!-- 0.42 -->\r\n    <defs>\r\n     <path d=\"M 19.1875 8.296875 \r\nL 53.609375 8.296875 \r\nL 53.609375 0 \r\nL 7.328125 0 \r\nL 7.328125 8.296875 \r\nQ 12.9375 14.109375 22.625 23.890625 \r\nQ 32.328125 33.6875 34.8125 36.53125 \r\nQ 39.546875 41.84375 41.421875 45.53125 \r\nQ 43.3125 49.21875 43.3125 52.78125 \r\nQ 43.3125 58.59375 39.234375 62.25 \r\nQ 35.15625 65.921875 28.609375 65.921875 \r\nQ 23.96875 65.921875 18.8125 64.3125 \r\nQ 13.671875 62.703125 7.8125 59.421875 \r\nL 7.8125 69.390625 \r\nQ 13.765625 71.78125 18.9375 73 \r\nQ 24.125 74.21875 28.421875 74.21875 \r\nQ 39.75 74.21875 46.484375 68.546875 \r\nQ 53.21875 62.890625 53.21875 53.421875 \r\nQ 53.21875 48.921875 51.53125 44.890625 \r\nQ 49.859375 40.875 45.40625 35.40625 \r\nQ 44.1875 33.984375 37.640625 27.21875 \r\nQ 31.109375 20.453125 19.1875 8.296875 \r\nz\r\n\" id=\"DejaVuSans-50\"/>\r\n    </defs>\r\n    <g style=\"fill:#ffffff;\" transform=\"translate(190.127788 42.008029)scale(0.1 -0.1)\">\r\n     <use xlink:href=\"#DejaVuSans-48\"/>\r\n     <use x=\"63.623047\" xlink:href=\"#DejaVuSans-46\"/>\r\n     <use x=\"95.410156\" xlink:href=\"#DejaVuSans-52\"/>\r\n     <use x=\"159.033203\" xlink:href=\"#DejaVuSans-50\"/>\r\n    </g>\r\n   </g>\r\n   <g id=\"text_31\">\r\n    <!-- -0.22 -->\r\n    <g style=\"fill:#ffffff;\" transform=\"translate(229.530036 42.008029)scale(0.1 -0.1)\">\r\n     <use xlink:href=\"#DejaVuSans-45\"/>\r\n     <use x=\"36.083984\" xlink:href=\"#DejaVuSans-48\"/>\r\n     <use x=\"99.707031\" xlink:href=\"#DejaVuSans-46\"/>\r\n     <use x=\"131.494141\" xlink:href=\"#DejaVuSans-50\"/>\r\n     <use x=\"195.117188\" xlink:href=\"#DejaVuSans-50\"/>\r\n    </g>\r\n   </g>\r\n   <g id=\"text_32\">\r\n    <!-- 0.35 -->\r\n    <defs>\r\n     <path d=\"M 40.578125 39.3125 \r\nQ 47.65625 37.796875 51.625 33 \r\nQ 55.609375 28.21875 55.609375 21.1875 \r\nQ 55.609375 10.40625 48.1875 4.484375 \r\nQ 40.765625 -1.421875 27.09375 -1.421875 \r\nQ 22.515625 -1.421875 17.65625 -0.515625 \r\nQ 12.796875 0.390625 7.625 2.203125 \r\nL 7.625 11.71875 \r\nQ 11.71875 9.328125 16.59375 8.109375 \r\nQ 21.484375 6.890625 26.8125 6.890625 \r\nQ 36.078125 6.890625 40.9375 10.546875 \r\nQ 45.796875 14.203125 45.796875 21.1875 \r\nQ 45.796875 27.640625 41.28125 31.265625 \r\nQ 36.765625 34.90625 28.71875 34.90625 \r\nL 20.21875 34.90625 \r\nL 20.21875 43.015625 \r\nL 29.109375 43.015625 \r\nQ 36.375 43.015625 40.234375 45.921875 \r\nQ 44.09375 48.828125 44.09375 54.296875 \r\nQ 44.09375 59.90625 40.109375 62.90625 \r\nQ 36.140625 65.921875 28.71875 65.921875 \r\nQ 24.65625 65.921875 20.015625 65.03125 \r\nQ 15.375 64.15625 9.8125 62.3125 \r\nL 9.8125 71.09375 \r\nQ 15.4375 72.65625 20.34375 73.4375 \r\nQ 25.25 74.21875 29.59375 74.21875 \r\nQ 40.828125 74.21875 47.359375 69.109375 \r\nQ 53.90625 64.015625 53.90625 55.328125 \r\nQ 53.90625 49.265625 50.4375 45.09375 \r\nQ 46.96875 40.921875 40.578125 39.3125 \r\nz\r\n\" id=\"DejaVuSans-51\"/>\r\n     <path d=\"M 10.796875 72.90625 \r\nL 49.515625 72.90625 \r\nL 49.515625 64.59375 \r\nL 19.828125 64.59375 \r\nL 19.828125 46.734375 \r\nQ 21.96875 47.46875 24.109375 47.828125 \r\nQ 26.265625 48.1875 28.421875 48.1875 \r\nQ 40.625 48.1875 47.75 41.5 \r\nQ 54.890625 34.8125 54.890625 23.390625 \r\nQ 54.890625 11.625 47.5625 5.09375 \r\nQ 40.234375 -1.421875 26.90625 -1.421875 \r\nQ 22.3125 -1.421875 17.546875 -0.640625 \r\nQ 12.796875 0.140625 7.71875 1.703125 \r\nL 7.71875 11.625 \r\nQ 12.109375 9.234375 16.796875 8.0625 \r\nQ 21.484375 6.890625 26.703125 6.890625 \r\nQ 35.15625 6.890625 40.078125 11.328125 \r\nQ 45.015625 15.765625 45.015625 23.390625 \r\nQ 45.015625 31 40.078125 35.4375 \r\nQ 35.15625 39.890625 26.703125 39.890625 \r\nQ 22.75 39.890625 18.8125 39.015625 \r\nQ 14.890625 38.140625 10.796875 36.28125 \r\nz\r\n\" id=\"DejaVuSans-53\"/>\r\n    </defs>\r\n    <g style=\"fill:#ffffff;\" transform=\"translate(272.540096 42.008029)scale(0.1 -0.1)\">\r\n     <use xlink:href=\"#DejaVuSans-48\"/>\r\n     <use x=\"63.623047\" xlink:href=\"#DejaVuSans-46\"/>\r\n     <use x=\"95.410156\" xlink:href=\"#DejaVuSans-51\"/>\r\n     <use x=\"159.033203\" xlink:href=\"#DejaVuSans-53\"/>\r\n    </g>\r\n   </g>\r\n   <g id=\"text_33\">\r\n    <!-- -0.38 -->\r\n    <defs>\r\n     <path d=\"M 31.78125 34.625 \r\nQ 24.75 34.625 20.71875 30.859375 \r\nQ 16.703125 27.09375 16.703125 20.515625 \r\nQ 16.703125 13.921875 20.71875 10.15625 \r\nQ 24.75 6.390625 31.78125 6.390625 \r\nQ 38.8125 6.390625 42.859375 10.171875 \r\nQ 46.921875 13.96875 46.921875 20.515625 \r\nQ 46.921875 27.09375 42.890625 30.859375 \r\nQ 38.875 34.625 31.78125 34.625 \r\nz\r\nM 21.921875 38.8125 \r\nQ 15.578125 40.375 12.03125 44.71875 \r\nQ 8.5 49.078125 8.5 55.328125 \r\nQ 8.5 64.0625 14.71875 69.140625 \r\nQ 20.953125 74.21875 31.78125 74.21875 \r\nQ 42.671875 74.21875 48.875 69.140625 \r\nQ 55.078125 64.0625 55.078125 55.328125 \r\nQ 55.078125 49.078125 51.53125 44.71875 \r\nQ 48 40.375 41.703125 38.8125 \r\nQ 48.828125 37.15625 52.796875 32.3125 \r\nQ 56.78125 27.484375 56.78125 20.515625 \r\nQ 56.78125 9.90625 50.3125 4.234375 \r\nQ 43.84375 -1.421875 31.78125 -1.421875 \r\nQ 19.734375 -1.421875 13.25 4.234375 \r\nQ 6.78125 9.90625 6.78125 20.515625 \r\nQ 6.78125 27.484375 10.78125 32.3125 \r\nQ 14.796875 37.15625 21.921875 38.8125 \r\nz\r\nM 18.3125 54.390625 \r\nQ 18.3125 48.734375 21.84375 45.5625 \r\nQ 25.390625 42.390625 31.78125 42.390625 \r\nQ 38.140625 42.390625 41.71875 45.5625 \r\nQ 45.3125 48.734375 45.3125 54.390625 \r\nQ 45.3125 60.0625 41.71875 63.234375 \r\nQ 38.140625 66.40625 31.78125 66.40625 \r\nQ 25.390625 66.40625 21.84375 63.234375 \r\nQ 18.3125 60.0625 18.3125 54.390625 \r\nz\r\n\" id=\"DejaVuSans-56\"/>\r\n    </defs>\r\n    <g style=\"fill:#ffffff;\" transform=\"translate(311.942344 42.008029)scale(0.1 -0.1)\">\r\n     <use xlink:href=\"#DejaVuSans-45\"/>\r\n     <use x=\"36.083984\" xlink:href=\"#DejaVuSans-48\"/>\r\n     <use x=\"99.707031\" xlink:href=\"#DejaVuSans-46\"/>\r\n     <use x=\"131.494141\" xlink:href=\"#DejaVuSans-51\"/>\r\n     <use x=\"195.117188\" xlink:href=\"#DejaVuSans-56\"/>\r\n    </g>\r\n   </g>\r\n   <g id=\"text_34\">\r\n    <!-- 0.63 -->\r\n    <g style=\"fill:#262626;\" transform=\"translate(354.952404 42.008029)scale(0.1 -0.1)\">\r\n     <use xlink:href=\"#DejaVuSans-48\"/>\r\n     <use x=\"63.623047\" xlink:href=\"#DejaVuSans-46\"/>\r\n     <use x=\"95.410156\" xlink:href=\"#DejaVuSans-54\"/>\r\n     <use x=\"159.033203\" xlink:href=\"#DejaVuSans-51\"/>\r\n    </g>\r\n   </g>\r\n   <g id=\"text_35\">\r\n    <!-- 0.58 -->\r\n    <g style=\"fill:#ffffff;\" transform=\"translate(396.158558 42.008029)scale(0.1 -0.1)\">\r\n     <use xlink:href=\"#DejaVuSans-48\"/>\r\n     <use x=\"63.623047\" xlink:href=\"#DejaVuSans-46\"/>\r\n     <use x=\"95.410156\" xlink:href=\"#DejaVuSans-53\"/>\r\n     <use x=\"159.033203\" xlink:href=\"#DejaVuSans-56\"/>\r\n    </g>\r\n   </g>\r\n   <g id=\"text_36\">\r\n    <!-- 0.29 -->\r\n    <defs>\r\n     <path d=\"M 10.984375 1.515625 \r\nL 10.984375 10.5 \r\nQ 14.703125 8.734375 18.5 7.8125 \r\nQ 22.3125 6.890625 25.984375 6.890625 \r\nQ 35.75 6.890625 40.890625 13.453125 \r\nQ 46.046875 20.015625 46.78125 33.40625 \r\nQ 43.953125 29.203125 39.59375 26.953125 \r\nQ 35.25 24.703125 29.984375 24.703125 \r\nQ 19.046875 24.703125 12.671875 31.3125 \r\nQ 6.296875 37.9375 6.296875 49.421875 \r\nQ 6.296875 60.640625 12.9375 67.421875 \r\nQ 19.578125 74.21875 30.609375 74.21875 \r\nQ 43.265625 74.21875 49.921875 64.515625 \r\nQ 56.59375 54.828125 56.59375 36.375 \r\nQ 56.59375 19.140625 48.40625 8.859375 \r\nQ 40.234375 -1.421875 26.421875 -1.421875 \r\nQ 22.703125 -1.421875 18.890625 -0.6875 \r\nQ 15.09375 0.046875 10.984375 1.515625 \r\nz\r\nM 30.609375 32.421875 \r\nQ 37.25 32.421875 41.125 36.953125 \r\nQ 45.015625 41.5 45.015625 49.421875 \r\nQ 45.015625 57.28125 41.125 61.84375 \r\nQ 37.25 66.40625 30.609375 66.40625 \r\nQ 23.96875 66.40625 20.09375 61.84375 \r\nQ 16.21875 57.28125 16.21875 49.421875 \r\nQ 16.21875 41.5 20.09375 36.953125 \r\nQ 23.96875 32.421875 30.609375 32.421875 \r\nz\r\n\" id=\"DejaVuSans-57\"/>\r\n    </defs>\r\n    <g style=\"fill:#ffffff;\" transform=\"translate(437.364712 42.008029)scale(0.1 -0.1)\">\r\n     <use xlink:href=\"#DejaVuSans-48\"/>\r\n     <use x=\"63.623047\" xlink:href=\"#DejaVuSans-46\"/>\r\n     <use x=\"95.410156\" xlink:href=\"#DejaVuSans-50\"/>\r\n     <use x=\"159.033203\" xlink:href=\"#DejaVuSans-57\"/>\r\n    </g>\r\n   </g>\r\n   <g id=\"text_37\">\r\n    <!-- -0.38 -->\r\n    <g style=\"fill:#ffffff;\" transform=\"translate(476.766959 42.008029)scale(0.1 -0.1)\">\r\n     <use xlink:href=\"#DejaVuSans-45\"/>\r\n     <use x=\"36.083984\" xlink:href=\"#DejaVuSans-48\"/>\r\n     <use x=\"99.707031\" xlink:href=\"#DejaVuSans-46\"/>\r\n     <use x=\"131.494141\" xlink:href=\"#DejaVuSans-51\"/>\r\n     <use x=\"195.117188\" xlink:href=\"#DejaVuSans-56\"/>\r\n    </g>\r\n   </g>\r\n   <g id=\"text_38\">\r\n    <!-- 0.46 -->\r\n    <g style=\"fill:#ffffff;\" transform=\"translate(519.777019 42.008029)scale(0.1 -0.1)\">\r\n     <use xlink:href=\"#DejaVuSans-48\"/>\r\n     <use x=\"63.623047\" xlink:href=\"#DejaVuSans-46\"/>\r\n     <use x=\"95.410156\" xlink:href=\"#DejaVuSans-52\"/>\r\n     <use x=\"159.033203\" xlink:href=\"#DejaVuSans-54\"/>\r\n    </g>\r\n   </g>\r\n   <g id=\"text_39\">\r\n    <!-- -0.45 -->\r\n    <g style=\"fill:#ffffff;\" transform=\"translate(559.179267 42.008029)scale(0.1 -0.1)\">\r\n     <use xlink:href=\"#DejaVuSans-45\"/>\r\n     <use x=\"36.083984\" xlink:href=\"#DejaVuSans-48\"/>\r\n     <use x=\"99.707031\" xlink:href=\"#DejaVuSans-46\"/>\r\n     <use x=\"131.494141\" xlink:href=\"#DejaVuSans-52\"/>\r\n     <use x=\"195.117188\" xlink:href=\"#DejaVuSans-53\"/>\r\n    </g>\r\n   </g>\r\n   <g id=\"text_40\">\r\n    <!-- 0.41 -->\r\n    <g style=\"fill:#ffffff;\" transform=\"translate(66.509327 75.460337)scale(0.1 -0.1)\">\r\n     <use xlink:href=\"#DejaVuSans-48\"/>\r\n     <use x=\"63.623047\" xlink:href=\"#DejaVuSans-46\"/>\r\n     <use x=\"95.410156\" xlink:href=\"#DejaVuSans-52\"/>\r\n     <use x=\"159.033203\" xlink:href=\"#DejaVuSans-49\"/>\r\n    </g>\r\n   </g>\r\n   <g id=\"text_41\">\r\n    <!-- 1 -->\r\n    <g style=\"fill:#262626;\" transform=\"translate(115.667043 75.460337)scale(0.1 -0.1)\">\r\n     <use xlink:href=\"#DejaVuSans-49\"/>\r\n    </g>\r\n   </g>\r\n   <g id=\"text_42\">\r\n    <!-- 0.036 -->\r\n    <g style=\"fill:#ffffff;\" transform=\"translate(145.740385 75.460337)scale(0.1 -0.1)\">\r\n     <use xlink:href=\"#DejaVuSans-48\"/>\r\n     <use x=\"63.623047\" xlink:href=\"#DejaVuSans-46\"/>\r\n     <use x=\"95.410156\" xlink:href=\"#DejaVuSans-48\"/>\r\n     <use x=\"159.033203\" xlink:href=\"#DejaVuSans-51\"/>\r\n     <use x=\"222.65625\" xlink:href=\"#DejaVuSans-54\"/>\r\n    </g>\r\n   </g>\r\n   <g id=\"text_43\">\r\n    <!-- 0.77 -->\r\n    <defs>\r\n     <path d=\"M 8.203125 72.90625 \r\nL 55.078125 72.90625 \r\nL 55.078125 68.703125 \r\nL 28.609375 0 \r\nL 18.3125 0 \r\nL 43.21875 64.59375 \r\nL 8.203125 64.59375 \r\nz\r\n\" id=\"DejaVuSans-55\"/>\r\n    </defs>\r\n    <g style=\"fill:#262626;\" transform=\"translate(190.127788 75.460337)scale(0.1 -0.1)\">\r\n     <use xlink:href=\"#DejaVuSans-48\"/>\r\n     <use x=\"63.623047\" xlink:href=\"#DejaVuSans-46\"/>\r\n     <use x=\"95.410156\" xlink:href=\"#DejaVuSans-55\"/>\r\n     <use x=\"159.033203\" xlink:href=\"#DejaVuSans-55\"/>\r\n    </g>\r\n   </g>\r\n   <g id=\"text_44\">\r\n    <!-- -0.41 -->\r\n    <g style=\"fill:#ffffff;\" transform=\"translate(229.530036 75.460337)scale(0.1 -0.1)\">\r\n     <use xlink:href=\"#DejaVuSans-45\"/>\r\n     <use x=\"36.083984\" xlink:href=\"#DejaVuSans-48\"/>\r\n     <use x=\"99.707031\" xlink:href=\"#DejaVuSans-46\"/>\r\n     <use x=\"131.494141\" xlink:href=\"#DejaVuSans-52\"/>\r\n     <use x=\"195.117188\" xlink:href=\"#DejaVuSans-49\"/>\r\n    </g>\r\n   </g>\r\n   <g id=\"text_45\">\r\n    <!-- 0.64 -->\r\n    <g style=\"fill:#262626;\" transform=\"translate(272.540096 75.460337)scale(0.1 -0.1)\">\r\n     <use xlink:href=\"#DejaVuSans-48\"/>\r\n     <use x=\"63.623047\" xlink:href=\"#DejaVuSans-46\"/>\r\n     <use x=\"95.410156\" xlink:href=\"#DejaVuSans-54\"/>\r\n     <use x=\"159.033203\" xlink:href=\"#DejaVuSans-52\"/>\r\n    </g>\r\n   </g>\r\n   <g id=\"text_46\">\r\n    <!-- -0.71 -->\r\n    <g style=\"fill:#ffffff;\" transform=\"translate(311.942344 75.460337)scale(0.1 -0.1)\">\r\n     <use xlink:href=\"#DejaVuSans-45\"/>\r\n     <use x=\"36.083984\" xlink:href=\"#DejaVuSans-48\"/>\r\n     <use x=\"99.707031\" xlink:href=\"#DejaVuSans-46\"/>\r\n     <use x=\"131.494141\" xlink:href=\"#DejaVuSans-55\"/>\r\n     <use x=\"195.117188\" xlink:href=\"#DejaVuSans-49\"/>\r\n    </g>\r\n   </g>\r\n   <g id=\"text_47\">\r\n    <!-- 0.6 -->\r\n    <g style=\"fill:#ffffff;\" transform=\"translate(358.133654 75.460337)scale(0.1 -0.1)\">\r\n     <use xlink:href=\"#DejaVuSans-48\"/>\r\n     <use x=\"63.623047\" xlink:href=\"#DejaVuSans-46\"/>\r\n     <use x=\"95.410156\" xlink:href=\"#DejaVuSans-54\"/>\r\n    </g>\r\n   </g>\r\n   <g id=\"text_48\">\r\n    <!-- 0.72 -->\r\n    <g style=\"fill:#262626;\" transform=\"translate(396.158558 75.460337)scale(0.1 -0.1)\">\r\n     <use xlink:href=\"#DejaVuSans-48\"/>\r\n     <use x=\"63.623047\" xlink:href=\"#DejaVuSans-46\"/>\r\n     <use x=\"95.410156\" xlink:href=\"#DejaVuSans-55\"/>\r\n     <use x=\"159.033203\" xlink:href=\"#DejaVuSans-50\"/>\r\n    </g>\r\n   </g>\r\n   <g id=\"text_49\">\r\n    <!-- 0.39 -->\r\n    <g style=\"fill:#ffffff;\" transform=\"translate(437.364712 75.460337)scale(0.1 -0.1)\">\r\n     <use xlink:href=\"#DejaVuSans-48\"/>\r\n     <use x=\"63.623047\" xlink:href=\"#DejaVuSans-46\"/>\r\n     <use x=\"95.410156\" xlink:href=\"#DejaVuSans-51\"/>\r\n     <use x=\"159.033203\" xlink:href=\"#DejaVuSans-57\"/>\r\n    </g>\r\n   </g>\r\n   <g id=\"text_50\">\r\n    <!-- -0.36 -->\r\n    <g style=\"fill:#ffffff;\" transform=\"translate(476.766959 75.460337)scale(0.1 -0.1)\">\r\n     <use xlink:href=\"#DejaVuSans-45\"/>\r\n     <use x=\"36.083984\" xlink:href=\"#DejaVuSans-48\"/>\r\n     <use x=\"99.707031\" xlink:href=\"#DejaVuSans-46\"/>\r\n     <use x=\"131.494141\" xlink:href=\"#DejaVuSans-51\"/>\r\n     <use x=\"195.117188\" xlink:href=\"#DejaVuSans-54\"/>\r\n    </g>\r\n   </g>\r\n   <g id=\"text_51\">\r\n    <!-- 0.64 -->\r\n    <g style=\"fill:#262626;\" transform=\"translate(519.777019 75.460337)scale(0.1 -0.1)\">\r\n     <use xlink:href=\"#DejaVuSans-48\"/>\r\n     <use x=\"63.623047\" xlink:href=\"#DejaVuSans-46\"/>\r\n     <use x=\"95.410156\" xlink:href=\"#DejaVuSans-54\"/>\r\n     <use x=\"159.033203\" xlink:href=\"#DejaVuSans-52\"/>\r\n    </g>\r\n   </g>\r\n   <g id=\"text_52\">\r\n    <!-- -0.6 -->\r\n    <g style=\"fill:#ffffff;\" transform=\"translate(562.360517 75.460337)scale(0.1 -0.1)\">\r\n     <use xlink:href=\"#DejaVuSans-45\"/>\r\n     <use x=\"36.083984\" xlink:href=\"#DejaVuSans-48\"/>\r\n     <use x=\"99.707031\" xlink:href=\"#DejaVuSans-46\"/>\r\n     <use x=\"131.494141\" xlink:href=\"#DejaVuSans-54\"/>\r\n    </g>\r\n   </g>\r\n   <g id=\"text_53\">\r\n    <!-- -0.064 -->\r\n    <g style=\"fill:#ffffff;\" transform=\"translate(61.524171 108.912644)scale(0.1 -0.1)\">\r\n     <use xlink:href=\"#DejaVuSans-45\"/>\r\n     <use x=\"36.083984\" xlink:href=\"#DejaVuSans-48\"/>\r\n     <use x=\"99.707031\" xlink:href=\"#DejaVuSans-46\"/>\r\n     <use x=\"131.494141\" xlink:href=\"#DejaVuSans-48\"/>\r\n     <use x=\"195.117188\" xlink:href=\"#DejaVuSans-54\"/>\r\n     <use x=\"258.740234\" xlink:href=\"#DejaVuSans-52\"/>\r\n    </g>\r\n   </g>\r\n   <g id=\"text_54\">\r\n    <!-- 0.036 -->\r\n    <g style=\"fill:#ffffff;\" transform=\"translate(104.534231 108.912644)scale(0.1 -0.1)\">\r\n     <use xlink:href=\"#DejaVuSans-48\"/>\r\n     <use x=\"63.623047\" xlink:href=\"#DejaVuSans-46\"/>\r\n     <use x=\"95.410156\" xlink:href=\"#DejaVuSans-48\"/>\r\n     <use x=\"159.033203\" xlink:href=\"#DejaVuSans-51\"/>\r\n     <use x=\"222.65625\" xlink:href=\"#DejaVuSans-54\"/>\r\n    </g>\r\n   </g>\r\n   <g id=\"text_55\">\r\n    <!-- 1 -->\r\n    <g style=\"fill:#262626;\" transform=\"translate(156.873197 108.912644)scale(0.1 -0.1)\">\r\n     <use xlink:href=\"#DejaVuSans-49\"/>\r\n    </g>\r\n   </g>\r\n   <g id=\"text_56\">\r\n    <!-- 0.086 -->\r\n    <g style=\"fill:#ffffff;\" transform=\"translate(186.946538 108.912644)scale(0.1 -0.1)\">\r\n     <use xlink:href=\"#DejaVuSans-48\"/>\r\n     <use x=\"63.623047\" xlink:href=\"#DejaVuSans-46\"/>\r\n     <use x=\"95.410156\" xlink:href=\"#DejaVuSans-48\"/>\r\n     <use x=\"159.033203\" xlink:href=\"#DejaVuSans-56\"/>\r\n     <use x=\"222.65625\" xlink:href=\"#DejaVuSans-54\"/>\r\n    </g>\r\n   </g>\r\n   <g id=\"text_57\">\r\n    <!-- 0.045 -->\r\n    <g style=\"fill:#ffffff;\" transform=\"translate(228.152692 108.912644)scale(0.1 -0.1)\">\r\n     <use xlink:href=\"#DejaVuSans-48\"/>\r\n     <use x=\"63.623047\" xlink:href=\"#DejaVuSans-46\"/>\r\n     <use x=\"95.410156\" xlink:href=\"#DejaVuSans-48\"/>\r\n     <use x=\"159.033203\" xlink:href=\"#DejaVuSans-52\"/>\r\n     <use x=\"222.65625\" xlink:href=\"#DejaVuSans-53\"/>\r\n    </g>\r\n   </g>\r\n   <g id=\"text_58\">\r\n    <!-- 0.071 -->\r\n    <g style=\"fill:#ffffff;\" transform=\"translate(269.358846 108.912644)scale(0.1 -0.1)\">\r\n     <use xlink:href=\"#DejaVuSans-48\"/>\r\n     <use x=\"63.623047\" xlink:href=\"#DejaVuSans-46\"/>\r\n     <use x=\"95.410156\" xlink:href=\"#DejaVuSans-48\"/>\r\n     <use x=\"159.033203\" xlink:href=\"#DejaVuSans-55\"/>\r\n     <use x=\"222.65625\" xlink:href=\"#DejaVuSans-49\"/>\r\n    </g>\r\n   </g>\r\n   <g id=\"text_59\">\r\n    <!-- -0.078 -->\r\n    <g style=\"fill:#ffffff;\" transform=\"translate(308.761094 108.912644)scale(0.1 -0.1)\">\r\n     <use xlink:href=\"#DejaVuSans-45\"/>\r\n     <use x=\"36.083984\" xlink:href=\"#DejaVuSans-48\"/>\r\n     <use x=\"99.707031\" xlink:href=\"#DejaVuSans-46\"/>\r\n     <use x=\"131.494141\" xlink:href=\"#DejaVuSans-48\"/>\r\n     <use x=\"195.117188\" xlink:href=\"#DejaVuSans-55\"/>\r\n     <use x=\"258.740234\" xlink:href=\"#DejaVuSans-56\"/>\r\n    </g>\r\n   </g>\r\n   <g id=\"text_60\">\r\n    <!-- -0.033 -->\r\n    <g style=\"fill:#ffffff;\" transform=\"translate(349.967248 108.912644)scale(0.1 -0.1)\">\r\n     <use xlink:href=\"#DejaVuSans-45\"/>\r\n     <use x=\"36.083984\" xlink:href=\"#DejaVuSans-48\"/>\r\n     <use x=\"99.707031\" xlink:href=\"#DejaVuSans-46\"/>\r\n     <use x=\"131.494141\" xlink:href=\"#DejaVuSans-48\"/>\r\n     <use x=\"195.117188\" xlink:href=\"#DejaVuSans-51\"/>\r\n     <use x=\"258.740234\" xlink:href=\"#DejaVuSans-51\"/>\r\n    </g>\r\n   </g>\r\n   <g id=\"text_61\">\r\n    <!-- -0.068 -->\r\n    <g style=\"fill:#ffffff;\" transform=\"translate(391.173401 108.912644)scale(0.1 -0.1)\">\r\n     <use xlink:href=\"#DejaVuSans-45\"/>\r\n     <use x=\"36.083984\" xlink:href=\"#DejaVuSans-48\"/>\r\n     <use x=\"99.707031\" xlink:href=\"#DejaVuSans-46\"/>\r\n     <use x=\"131.494141\" xlink:href=\"#DejaVuSans-48\"/>\r\n     <use x=\"195.117188\" xlink:href=\"#DejaVuSans-54\"/>\r\n     <use x=\"258.740234\" xlink:href=\"#DejaVuSans-56\"/>\r\n    </g>\r\n   </g>\r\n   <g id=\"text_62\">\r\n    <!-- -0.12 -->\r\n    <g style=\"fill:#ffffff;\" transform=\"translate(435.560805 108.912644)scale(0.1 -0.1)\">\r\n     <use xlink:href=\"#DejaVuSans-45\"/>\r\n     <use x=\"36.083984\" xlink:href=\"#DejaVuSans-48\"/>\r\n     <use x=\"99.707031\" xlink:href=\"#DejaVuSans-46\"/>\r\n     <use x=\"131.494141\" xlink:href=\"#DejaVuSans-49\"/>\r\n     <use x=\"195.117188\" xlink:href=\"#DejaVuSans-50\"/>\r\n    </g>\r\n   </g>\r\n   <g id=\"text_63\">\r\n    <!-- 0.042 -->\r\n    <g style=\"fill:#ffffff;\" transform=\"translate(475.389615 108.912644)scale(0.1 -0.1)\">\r\n     <use xlink:href=\"#DejaVuSans-48\"/>\r\n     <use x=\"63.623047\" xlink:href=\"#DejaVuSans-46\"/>\r\n     <use x=\"95.410156\" xlink:href=\"#DejaVuSans-48\"/>\r\n     <use x=\"159.033203\" xlink:href=\"#DejaVuSans-52\"/>\r\n     <use x=\"222.65625\" xlink:href=\"#DejaVuSans-50\"/>\r\n    </g>\r\n   </g>\r\n   <g id=\"text_64\">\r\n    <!-- -0.0065 -->\r\n    <g style=\"fill:#ffffff;\" transform=\"translate(511.610613 108.912644)scale(0.1 -0.1)\">\r\n     <use xlink:href=\"#DejaVuSans-45\"/>\r\n     <use x=\"36.083984\" xlink:href=\"#DejaVuSans-48\"/>\r\n     <use x=\"99.707031\" xlink:href=\"#DejaVuSans-46\"/>\r\n     <use x=\"131.494141\" xlink:href=\"#DejaVuSans-48\"/>\r\n     <use x=\"195.117188\" xlink:href=\"#DejaVuSans-48\"/>\r\n     <use x=\"258.740234\" xlink:href=\"#DejaVuSans-54\"/>\r\n     <use x=\"322.363281\" xlink:href=\"#DejaVuSans-53\"/>\r\n    </g>\r\n   </g>\r\n   <g id=\"text_65\">\r\n    <!-- 0.075 -->\r\n    <g style=\"fill:#ffffff;\" transform=\"translate(557.801923 108.912644)scale(0.1 -0.1)\">\r\n     <use xlink:href=\"#DejaVuSans-48\"/>\r\n     <use x=\"63.623047\" xlink:href=\"#DejaVuSans-46\"/>\r\n     <use x=\"95.410156\" xlink:href=\"#DejaVuSans-48\"/>\r\n     <use x=\"159.033203\" xlink:href=\"#DejaVuSans-55\"/>\r\n     <use x=\"222.65625\" xlink:href=\"#DejaVuSans-53\"/>\r\n    </g>\r\n   </g>\r\n   <g id=\"text_66\">\r\n    <!-- 0.42 -->\r\n    <g style=\"fill:#ffffff;\" transform=\"translate(66.509327 142.364952)scale(0.1 -0.1)\">\r\n     <use xlink:href=\"#DejaVuSans-48\"/>\r\n     <use x=\"63.623047\" xlink:href=\"#DejaVuSans-46\"/>\r\n     <use x=\"95.410156\" xlink:href=\"#DejaVuSans-52\"/>\r\n     <use x=\"159.033203\" xlink:href=\"#DejaVuSans-50\"/>\r\n    </g>\r\n   </g>\r\n   <g id=\"text_67\">\r\n    <!-- 0.77 -->\r\n    <g style=\"fill:#262626;\" transform=\"translate(107.715481 142.364952)scale(0.1 -0.1)\">\r\n     <use xlink:href=\"#DejaVuSans-48\"/>\r\n     <use x=\"63.623047\" xlink:href=\"#DejaVuSans-46\"/>\r\n     <use x=\"95.410156\" xlink:href=\"#DejaVuSans-55\"/>\r\n     <use x=\"159.033203\" xlink:href=\"#DejaVuSans-55\"/>\r\n    </g>\r\n   </g>\r\n   <g id=\"text_68\">\r\n    <!-- 0.086 -->\r\n    <g style=\"fill:#ffffff;\" transform=\"translate(145.740385 142.364952)scale(0.1 -0.1)\">\r\n     <use xlink:href=\"#DejaVuSans-48\"/>\r\n     <use x=\"63.623047\" xlink:href=\"#DejaVuSans-46\"/>\r\n     <use x=\"95.410156\" xlink:href=\"#DejaVuSans-48\"/>\r\n     <use x=\"159.033203\" xlink:href=\"#DejaVuSans-56\"/>\r\n     <use x=\"222.65625\" xlink:href=\"#DejaVuSans-54\"/>\r\n    </g>\r\n   </g>\r\n   <g id=\"text_69\">\r\n    <!-- 1 -->\r\n    <g style=\"fill:#262626;\" transform=\"translate(198.079351 142.364952)scale(0.1 -0.1)\">\r\n     <use xlink:href=\"#DejaVuSans-49\"/>\r\n    </g>\r\n   </g>\r\n   <g id=\"text_70\">\r\n    <!-- -0.32 -->\r\n    <g style=\"fill:#ffffff;\" transform=\"translate(229.530036 142.364952)scale(0.1 -0.1)\">\r\n     <use xlink:href=\"#DejaVuSans-45\"/>\r\n     <use x=\"36.083984\" xlink:href=\"#DejaVuSans-48\"/>\r\n     <use x=\"99.707031\" xlink:href=\"#DejaVuSans-46\"/>\r\n     <use x=\"131.494141\" xlink:href=\"#DejaVuSans-51\"/>\r\n     <use x=\"195.117188\" xlink:href=\"#DejaVuSans-50\"/>\r\n    </g>\r\n   </g>\r\n   <g id=\"text_71\">\r\n    <!-- 0.73 -->\r\n    <g style=\"fill:#262626;\" transform=\"translate(272.540096 142.364952)scale(0.1 -0.1)\">\r\n     <use xlink:href=\"#DejaVuSans-48\"/>\r\n     <use x=\"63.623047\" xlink:href=\"#DejaVuSans-46\"/>\r\n     <use x=\"95.410156\" xlink:href=\"#DejaVuSans-55\"/>\r\n     <use x=\"159.033203\" xlink:href=\"#DejaVuSans-51\"/>\r\n    </g>\r\n   </g>\r\n   <g id=\"text_72\">\r\n    <!-- -0.77 -->\r\n    <g style=\"fill:#ffffff;\" transform=\"translate(311.942344 142.364952)scale(0.1 -0.1)\">\r\n     <use xlink:href=\"#DejaVuSans-45\"/>\r\n     <use x=\"36.083984\" xlink:href=\"#DejaVuSans-48\"/>\r\n     <use x=\"99.707031\" xlink:href=\"#DejaVuSans-46\"/>\r\n     <use x=\"131.494141\" xlink:href=\"#DejaVuSans-55\"/>\r\n     <use x=\"195.117188\" xlink:href=\"#DejaVuSans-55\"/>\r\n    </g>\r\n   </g>\r\n   <g id=\"text_73\">\r\n    <!-- 0.61 -->\r\n    <g style=\"fill:#262626;\" transform=\"translate(354.952404 142.364952)scale(0.1 -0.1)\">\r\n     <use xlink:href=\"#DejaVuSans-48\"/>\r\n     <use x=\"63.623047\" xlink:href=\"#DejaVuSans-46\"/>\r\n     <use x=\"95.410156\" xlink:href=\"#DejaVuSans-54\"/>\r\n     <use x=\"159.033203\" xlink:href=\"#DejaVuSans-49\"/>\r\n    </g>\r\n   </g>\r\n   <g id=\"text_74\">\r\n    <!-- 0.67 -->\r\n    <g style=\"fill:#262626;\" transform=\"translate(396.158558 142.364952)scale(0.1 -0.1)\">\r\n     <use xlink:href=\"#DejaVuSans-48\"/>\r\n     <use x=\"63.623047\" xlink:href=\"#DejaVuSans-46\"/>\r\n     <use x=\"95.410156\" xlink:href=\"#DejaVuSans-54\"/>\r\n     <use x=\"159.033203\" xlink:href=\"#DejaVuSans-55\"/>\r\n    </g>\r\n   </g>\r\n   <g id=\"text_75\">\r\n    <!-- 0.19 -->\r\n    <g style=\"fill:#ffffff;\" transform=\"translate(437.364712 142.364952)scale(0.1 -0.1)\">\r\n     <use xlink:href=\"#DejaVuSans-48\"/>\r\n     <use x=\"63.623047\" xlink:href=\"#DejaVuSans-46\"/>\r\n     <use x=\"95.410156\" xlink:href=\"#DejaVuSans-49\"/>\r\n     <use x=\"159.033203\" xlink:href=\"#DejaVuSans-57\"/>\r\n    </g>\r\n   </g>\r\n   <g id=\"text_76\">\r\n    <!-- -0.38 -->\r\n    <g style=\"fill:#ffffff;\" transform=\"translate(476.766959 142.364952)scale(0.1 -0.1)\">\r\n     <use xlink:href=\"#DejaVuSans-45\"/>\r\n     <use x=\"36.083984\" xlink:href=\"#DejaVuSans-48\"/>\r\n     <use x=\"99.707031\" xlink:href=\"#DejaVuSans-46\"/>\r\n     <use x=\"131.494141\" xlink:href=\"#DejaVuSans-51\"/>\r\n     <use x=\"195.117188\" xlink:href=\"#DejaVuSans-56\"/>\r\n    </g>\r\n   </g>\r\n   <g id=\"text_77\">\r\n    <!-- 0.61 -->\r\n    <g style=\"fill:#262626;\" transform=\"translate(519.777019 142.364952)scale(0.1 -0.1)\">\r\n     <use xlink:href=\"#DejaVuSans-48\"/>\r\n     <use x=\"63.623047\" xlink:href=\"#DejaVuSans-46\"/>\r\n     <use x=\"95.410156\" xlink:href=\"#DejaVuSans-54\"/>\r\n     <use x=\"159.033203\" xlink:href=\"#DejaVuSans-49\"/>\r\n    </g>\r\n   </g>\r\n   <g id=\"text_78\">\r\n    <!-- -0.52 -->\r\n    <g style=\"fill:#ffffff;\" transform=\"translate(559.179267 142.364952)scale(0.1 -0.1)\">\r\n     <use xlink:href=\"#DejaVuSans-45\"/>\r\n     <use x=\"36.083984\" xlink:href=\"#DejaVuSans-48\"/>\r\n     <use x=\"99.707031\" xlink:href=\"#DejaVuSans-46\"/>\r\n     <use x=\"131.494141\" xlink:href=\"#DejaVuSans-53\"/>\r\n     <use x=\"195.117188\" xlink:href=\"#DejaVuSans-50\"/>\r\n    </g>\r\n   </g>\r\n   <g id=\"text_79\">\r\n    <!-- -0.22 -->\r\n    <g style=\"fill:#ffffff;\" transform=\"translate(64.705421 175.81726)scale(0.1 -0.1)\">\r\n     <use xlink:href=\"#DejaVuSans-45\"/>\r\n     <use x=\"36.083984\" xlink:href=\"#DejaVuSans-48\"/>\r\n     <use x=\"99.707031\" xlink:href=\"#DejaVuSans-46\"/>\r\n     <use x=\"131.494141\" xlink:href=\"#DejaVuSans-50\"/>\r\n     <use x=\"195.117188\" xlink:href=\"#DejaVuSans-50\"/>\r\n    </g>\r\n   </g>\r\n   <g id=\"text_80\">\r\n    <!-- -0.41 -->\r\n    <g style=\"fill:#ffffff;\" transform=\"translate(105.911575 175.81726)scale(0.1 -0.1)\">\r\n     <use xlink:href=\"#DejaVuSans-45\"/>\r\n     <use x=\"36.083984\" xlink:href=\"#DejaVuSans-48\"/>\r\n     <use x=\"99.707031\" xlink:href=\"#DejaVuSans-46\"/>\r\n     <use x=\"131.494141\" xlink:href=\"#DejaVuSans-52\"/>\r\n     <use x=\"195.117188\" xlink:href=\"#DejaVuSans-49\"/>\r\n    </g>\r\n   </g>\r\n   <g id=\"text_81\">\r\n    <!-- 0.045 -->\r\n    <g style=\"fill:#ffffff;\" transform=\"translate(145.740385 175.81726)scale(0.1 -0.1)\">\r\n     <use xlink:href=\"#DejaVuSans-48\"/>\r\n     <use x=\"63.623047\" xlink:href=\"#DejaVuSans-46\"/>\r\n     <use x=\"95.410156\" xlink:href=\"#DejaVuSans-48\"/>\r\n     <use x=\"159.033203\" xlink:href=\"#DejaVuSans-52\"/>\r\n     <use x=\"222.65625\" xlink:href=\"#DejaVuSans-53\"/>\r\n    </g>\r\n   </g>\r\n   <g id=\"text_82\">\r\n    <!-- -0.32 -->\r\n    <g style=\"fill:#ffffff;\" transform=\"translate(188.323882 175.81726)scale(0.1 -0.1)\">\r\n     <use xlink:href=\"#DejaVuSans-45\"/>\r\n     <use x=\"36.083984\" xlink:href=\"#DejaVuSans-48\"/>\r\n     <use x=\"99.707031\" xlink:href=\"#DejaVuSans-46\"/>\r\n     <use x=\"131.494141\" xlink:href=\"#DejaVuSans-51\"/>\r\n     <use x=\"195.117188\" xlink:href=\"#DejaVuSans-50\"/>\r\n    </g>\r\n   </g>\r\n   <g id=\"text_83\">\r\n    <!-- 1 -->\r\n    <g style=\"fill:#262626;\" transform=\"translate(239.285505 175.81726)scale(0.1 -0.1)\">\r\n     <use xlink:href=\"#DejaVuSans-49\"/>\r\n    </g>\r\n   </g>\r\n   <g id=\"text_84\">\r\n    <!-- -0.27 -->\r\n    <g style=\"fill:#ffffff;\" transform=\"translate(270.73619 175.81726)scale(0.1 -0.1)\">\r\n     <use xlink:href=\"#DejaVuSans-45\"/>\r\n     <use x=\"36.083984\" xlink:href=\"#DejaVuSans-48\"/>\r\n     <use x=\"99.707031\" xlink:href=\"#DejaVuSans-46\"/>\r\n     <use x=\"131.494141\" xlink:href=\"#DejaVuSans-50\"/>\r\n     <use x=\"195.117188\" xlink:href=\"#DejaVuSans-55\"/>\r\n    </g>\r\n   </g>\r\n   <g id=\"text_85\">\r\n    <!-- 0.25 -->\r\n    <g style=\"fill:#ffffff;\" transform=\"translate(313.74625 175.81726)scale(0.1 -0.1)\">\r\n     <use xlink:href=\"#DejaVuSans-48\"/>\r\n     <use x=\"63.623047\" xlink:href=\"#DejaVuSans-46\"/>\r\n     <use x=\"95.410156\" xlink:href=\"#DejaVuSans-50\"/>\r\n     <use x=\"159.033203\" xlink:href=\"#DejaVuSans-53\"/>\r\n    </g>\r\n   </g>\r\n   <g id=\"text_86\">\r\n    <!-- -0.2 -->\r\n    <g style=\"fill:#ffffff;\" transform=\"translate(356.329748 175.81726)scale(0.1 -0.1)\">\r\n     <use xlink:href=\"#DejaVuSans-45\"/>\r\n     <use x=\"36.083984\" xlink:href=\"#DejaVuSans-48\"/>\r\n     <use x=\"99.707031\" xlink:href=\"#DejaVuSans-46\"/>\r\n     <use x=\"131.494141\" xlink:href=\"#DejaVuSans-50\"/>\r\n    </g>\r\n   </g>\r\n   <g id=\"text_87\">\r\n    <!-- -0.28 -->\r\n    <g style=\"fill:#ffffff;\" transform=\"translate(394.354651 175.81726)scale(0.1 -0.1)\">\r\n     <use xlink:href=\"#DejaVuSans-45\"/>\r\n     <use x=\"36.083984\" xlink:href=\"#DejaVuSans-48\"/>\r\n     <use x=\"99.707031\" xlink:href=\"#DejaVuSans-46\"/>\r\n     <use x=\"131.494141\" xlink:href=\"#DejaVuSans-50\"/>\r\n     <use x=\"195.117188\" xlink:href=\"#DejaVuSans-56\"/>\r\n    </g>\r\n   </g>\r\n   <g id=\"text_88\">\r\n    <!-- -0.29 -->\r\n    <g style=\"fill:#ffffff;\" transform=\"translate(435.560805 175.81726)scale(0.1 -0.1)\">\r\n     <use xlink:href=\"#DejaVuSans-45\"/>\r\n     <use x=\"36.083984\" xlink:href=\"#DejaVuSans-48\"/>\r\n     <use x=\"99.707031\" xlink:href=\"#DejaVuSans-46\"/>\r\n     <use x=\"131.494141\" xlink:href=\"#DejaVuSans-50\"/>\r\n     <use x=\"195.117188\" xlink:href=\"#DejaVuSans-57\"/>\r\n    </g>\r\n   </g>\r\n   <g id=\"text_89\">\r\n    <!-- 0.12 -->\r\n    <g style=\"fill:#ffffff;\" transform=\"translate(478.570865 175.81726)scale(0.1 -0.1)\">\r\n     <use xlink:href=\"#DejaVuSans-48\"/>\r\n     <use x=\"63.623047\" xlink:href=\"#DejaVuSans-46\"/>\r\n     <use x=\"95.410156\" xlink:href=\"#DejaVuSans-49\"/>\r\n     <use x=\"159.033203\" xlink:href=\"#DejaVuSans-50\"/>\r\n    </g>\r\n   </g>\r\n   <g id=\"text_90\">\r\n    <!-- -0.61 -->\r\n    <g style=\"fill:#ffffff;\" transform=\"translate(517.973113 175.81726)scale(0.1 -0.1)\">\r\n     <use xlink:href=\"#DejaVuSans-45\"/>\r\n     <use x=\"36.083984\" xlink:href=\"#DejaVuSans-48\"/>\r\n     <use x=\"99.707031\" xlink:href=\"#DejaVuSans-46\"/>\r\n     <use x=\"131.494141\" xlink:href=\"#DejaVuSans-54\"/>\r\n     <use x=\"195.117188\" xlink:href=\"#DejaVuSans-49\"/>\r\n    </g>\r\n   </g>\r\n   <g id=\"text_91\">\r\n    <!-- 0.69 -->\r\n    <g style=\"fill:#262626;\" transform=\"translate(560.983173 175.81726)scale(0.1 -0.1)\">\r\n     <use xlink:href=\"#DejaVuSans-48\"/>\r\n     <use x=\"63.623047\" xlink:href=\"#DejaVuSans-46\"/>\r\n     <use x=\"95.410156\" xlink:href=\"#DejaVuSans-54\"/>\r\n     <use x=\"159.033203\" xlink:href=\"#DejaVuSans-57\"/>\r\n    </g>\r\n   </g>\r\n   <g id=\"text_92\">\r\n    <!-- 0.35 -->\r\n    <g style=\"fill:#ffffff;\" transform=\"translate(66.509327 209.269567)scale(0.1 -0.1)\">\r\n     <use xlink:href=\"#DejaVuSans-48\"/>\r\n     <use x=\"63.623047\" xlink:href=\"#DejaVuSans-46\"/>\r\n     <use x=\"95.410156\" xlink:href=\"#DejaVuSans-51\"/>\r\n     <use x=\"159.033203\" xlink:href=\"#DejaVuSans-53\"/>\r\n    </g>\r\n   </g>\r\n   <g id=\"text_93\">\r\n    <!-- 0.64 -->\r\n    <g style=\"fill:#262626;\" transform=\"translate(107.715481 209.269567)scale(0.1 -0.1)\">\r\n     <use xlink:href=\"#DejaVuSans-48\"/>\r\n     <use x=\"63.623047\" xlink:href=\"#DejaVuSans-46\"/>\r\n     <use x=\"95.410156\" xlink:href=\"#DejaVuSans-54\"/>\r\n     <use x=\"159.033203\" xlink:href=\"#DejaVuSans-52\"/>\r\n    </g>\r\n   </g>\r\n   <g id=\"text_94\">\r\n    <!-- 0.071 -->\r\n    <g style=\"fill:#ffffff;\" transform=\"translate(145.740385 209.269567)scale(0.1 -0.1)\">\r\n     <use xlink:href=\"#DejaVuSans-48\"/>\r\n     <use x=\"63.623047\" xlink:href=\"#DejaVuSans-46\"/>\r\n     <use x=\"95.410156\" xlink:href=\"#DejaVuSans-48\"/>\r\n     <use x=\"159.033203\" xlink:href=\"#DejaVuSans-55\"/>\r\n     <use x=\"222.65625\" xlink:href=\"#DejaVuSans-49\"/>\r\n    </g>\r\n   </g>\r\n   <g id=\"text_95\">\r\n    <!-- 0.73 -->\r\n    <g style=\"fill:#262626;\" transform=\"translate(190.127788 209.269567)scale(0.1 -0.1)\">\r\n     <use xlink:href=\"#DejaVuSans-48\"/>\r\n     <use x=\"63.623047\" xlink:href=\"#DejaVuSans-46\"/>\r\n     <use x=\"95.410156\" xlink:href=\"#DejaVuSans-55\"/>\r\n     <use x=\"159.033203\" xlink:href=\"#DejaVuSans-51\"/>\r\n    </g>\r\n   </g>\r\n   <g id=\"text_96\">\r\n    <!-- -0.27 -->\r\n    <g style=\"fill:#ffffff;\" transform=\"translate(229.530036 209.269567)scale(0.1 -0.1)\">\r\n     <use xlink:href=\"#DejaVuSans-45\"/>\r\n     <use x=\"36.083984\" xlink:href=\"#DejaVuSans-48\"/>\r\n     <use x=\"99.707031\" xlink:href=\"#DejaVuSans-46\"/>\r\n     <use x=\"131.494141\" xlink:href=\"#DejaVuSans-50\"/>\r\n     <use x=\"195.117188\" xlink:href=\"#DejaVuSans-55\"/>\r\n    </g>\r\n   </g>\r\n   <g id=\"text_97\">\r\n    <!-- 1 -->\r\n    <g style=\"fill:#262626;\" transform=\"translate(280.491659 209.269567)scale(0.1 -0.1)\">\r\n     <use xlink:href=\"#DejaVuSans-49\"/>\r\n    </g>\r\n   </g>\r\n   <g id=\"text_98\">\r\n    <!-- -0.74 -->\r\n    <g style=\"fill:#ffffff;\" transform=\"translate(311.942344 209.269567)scale(0.1 -0.1)\">\r\n     <use xlink:href=\"#DejaVuSans-45\"/>\r\n     <use x=\"36.083984\" xlink:href=\"#DejaVuSans-48\"/>\r\n     <use x=\"99.707031\" xlink:href=\"#DejaVuSans-46\"/>\r\n     <use x=\"131.494141\" xlink:href=\"#DejaVuSans-55\"/>\r\n     <use x=\"195.117188\" xlink:href=\"#DejaVuSans-52\"/>\r\n    </g>\r\n   </g>\r\n   <g id=\"text_99\">\r\n    <!-- 0.45 -->\r\n    <g style=\"fill:#ffffff;\" transform=\"translate(354.952404 209.269567)scale(0.1 -0.1)\">\r\n     <use xlink:href=\"#DejaVuSans-48\"/>\r\n     <use x=\"63.623047\" xlink:href=\"#DejaVuSans-46\"/>\r\n     <use x=\"95.410156\" xlink:href=\"#DejaVuSans-52\"/>\r\n     <use x=\"159.033203\" xlink:href=\"#DejaVuSans-53\"/>\r\n    </g>\r\n   </g>\r\n   <g id=\"text_100\">\r\n    <!-- 0.5 -->\r\n    <g style=\"fill:#ffffff;\" transform=\"translate(399.339808 209.269567)scale(0.1 -0.1)\">\r\n     <use xlink:href=\"#DejaVuSans-48\"/>\r\n     <use x=\"63.623047\" xlink:href=\"#DejaVuSans-46\"/>\r\n     <use x=\"95.410156\" xlink:href=\"#DejaVuSans-53\"/>\r\n    </g>\r\n   </g>\r\n   <g id=\"text_101\">\r\n    <!-- 0.27 -->\r\n    <g style=\"fill:#ffffff;\" transform=\"translate(437.364712 209.269567)scale(0.1 -0.1)\">\r\n     <use xlink:href=\"#DejaVuSans-48\"/>\r\n     <use x=\"63.623047\" xlink:href=\"#DejaVuSans-46\"/>\r\n     <use x=\"95.410156\" xlink:href=\"#DejaVuSans-50\"/>\r\n     <use x=\"159.033203\" xlink:href=\"#DejaVuSans-55\"/>\r\n    </g>\r\n   </g>\r\n   <g id=\"text_102\">\r\n    <!-- -0.28 -->\r\n    <g style=\"fill:#ffffff;\" transform=\"translate(476.766959 209.269567)scale(0.1 -0.1)\">\r\n     <use xlink:href=\"#DejaVuSans-45\"/>\r\n     <use x=\"36.083984\" xlink:href=\"#DejaVuSans-48\"/>\r\n     <use x=\"99.707031\" xlink:href=\"#DejaVuSans-46\"/>\r\n     <use x=\"131.494141\" xlink:href=\"#DejaVuSans-50\"/>\r\n     <use x=\"195.117188\" xlink:href=\"#DejaVuSans-56\"/>\r\n    </g>\r\n   </g>\r\n   <g id=\"text_103\">\r\n    <!-- 0.64 -->\r\n    <g style=\"fill:#262626;\" transform=\"translate(519.777019 209.269567)scale(0.1 -0.1)\">\r\n     <use xlink:href=\"#DejaVuSans-48\"/>\r\n     <use x=\"63.623047\" xlink:href=\"#DejaVuSans-46\"/>\r\n     <use x=\"95.410156\" xlink:href=\"#DejaVuSans-54\"/>\r\n     <use x=\"159.033203\" xlink:href=\"#DejaVuSans-52\"/>\r\n    </g>\r\n   </g>\r\n   <g id=\"text_104\">\r\n    <!-- -0.49 -->\r\n    <g style=\"fill:#ffffff;\" transform=\"translate(559.179267 209.269567)scale(0.1 -0.1)\">\r\n     <use xlink:href=\"#DejaVuSans-45\"/>\r\n     <use x=\"36.083984\" xlink:href=\"#DejaVuSans-48\"/>\r\n     <use x=\"99.707031\" xlink:href=\"#DejaVuSans-46\"/>\r\n     <use x=\"131.494141\" xlink:href=\"#DejaVuSans-52\"/>\r\n     <use x=\"195.117188\" xlink:href=\"#DejaVuSans-57\"/>\r\n    </g>\r\n   </g>\r\n   <g id=\"text_105\">\r\n    <!-- -0.38 -->\r\n    <g style=\"fill:#ffffff;\" transform=\"translate(64.705421 242.721875)scale(0.1 -0.1)\">\r\n     <use xlink:href=\"#DejaVuSans-45\"/>\r\n     <use x=\"36.083984\" xlink:href=\"#DejaVuSans-48\"/>\r\n     <use x=\"99.707031\" xlink:href=\"#DejaVuSans-46\"/>\r\n     <use x=\"131.494141\" xlink:href=\"#DejaVuSans-51\"/>\r\n     <use x=\"195.117188\" xlink:href=\"#DejaVuSans-56\"/>\r\n    </g>\r\n   </g>\r\n   <g id=\"text_106\">\r\n    <!-- -0.71 -->\r\n    <g style=\"fill:#ffffff;\" transform=\"translate(105.911575 242.721875)scale(0.1 -0.1)\">\r\n     <use xlink:href=\"#DejaVuSans-45\"/>\r\n     <use x=\"36.083984\" xlink:href=\"#DejaVuSans-48\"/>\r\n     <use x=\"99.707031\" xlink:href=\"#DejaVuSans-46\"/>\r\n     <use x=\"131.494141\" xlink:href=\"#DejaVuSans-55\"/>\r\n     <use x=\"195.117188\" xlink:href=\"#DejaVuSans-49\"/>\r\n    </g>\r\n   </g>\r\n   <g id=\"text_107\">\r\n    <!-- -0.078 -->\r\n    <g style=\"fill:#ffffff;\" transform=\"translate(143.936478 242.721875)scale(0.1 -0.1)\">\r\n     <use xlink:href=\"#DejaVuSans-45\"/>\r\n     <use x=\"36.083984\" xlink:href=\"#DejaVuSans-48\"/>\r\n     <use x=\"99.707031\" xlink:href=\"#DejaVuSans-46\"/>\r\n     <use x=\"131.494141\" xlink:href=\"#DejaVuSans-48\"/>\r\n     <use x=\"195.117188\" xlink:href=\"#DejaVuSans-55\"/>\r\n     <use x=\"258.740234\" xlink:href=\"#DejaVuSans-56\"/>\r\n    </g>\r\n   </g>\r\n   <g id=\"text_108\">\r\n    <!-- -0.77 -->\r\n    <g style=\"fill:#ffffff;\" transform=\"translate(188.323882 242.721875)scale(0.1 -0.1)\">\r\n     <use xlink:href=\"#DejaVuSans-45\"/>\r\n     <use x=\"36.083984\" xlink:href=\"#DejaVuSans-48\"/>\r\n     <use x=\"99.707031\" xlink:href=\"#DejaVuSans-46\"/>\r\n     <use x=\"131.494141\" xlink:href=\"#DejaVuSans-55\"/>\r\n     <use x=\"195.117188\" xlink:href=\"#DejaVuSans-55\"/>\r\n    </g>\r\n   </g>\r\n   <g id=\"text_109\">\r\n    <!-- 0.25 -->\r\n    <g style=\"fill:#ffffff;\" transform=\"translate(231.333942 242.721875)scale(0.1 -0.1)\">\r\n     <use xlink:href=\"#DejaVuSans-48\"/>\r\n     <use x=\"63.623047\" xlink:href=\"#DejaVuSans-46\"/>\r\n     <use x=\"95.410156\" xlink:href=\"#DejaVuSans-50\"/>\r\n     <use x=\"159.033203\" xlink:href=\"#DejaVuSans-53\"/>\r\n    </g>\r\n   </g>\r\n   <g id=\"text_110\">\r\n    <!-- -0.74 -->\r\n    <g style=\"fill:#ffffff;\" transform=\"translate(270.73619 242.721875)scale(0.1 -0.1)\">\r\n     <use xlink:href=\"#DejaVuSans-45\"/>\r\n     <use x=\"36.083984\" xlink:href=\"#DejaVuSans-48\"/>\r\n     <use x=\"99.707031\" xlink:href=\"#DejaVuSans-46\"/>\r\n     <use x=\"131.494141\" xlink:href=\"#DejaVuSans-55\"/>\r\n     <use x=\"195.117188\" xlink:href=\"#DejaVuSans-52\"/>\r\n    </g>\r\n   </g>\r\n   <g id=\"text_111\">\r\n    <!-- 1 -->\r\n    <g style=\"fill:#262626;\" transform=\"translate(321.697813 242.721875)scale(0.1 -0.1)\">\r\n     <use xlink:href=\"#DejaVuSans-49\"/>\r\n    </g>\r\n   </g>\r\n   <g id=\"text_112\">\r\n    <!-- -0.49 -->\r\n    <g style=\"fill:#ffffff;\" transform=\"translate(353.148498 242.721875)scale(0.1 -0.1)\">\r\n     <use xlink:href=\"#DejaVuSans-45\"/>\r\n     <use x=\"36.083984\" xlink:href=\"#DejaVuSans-48\"/>\r\n     <use x=\"99.707031\" xlink:href=\"#DejaVuSans-46\"/>\r\n     <use x=\"131.494141\" xlink:href=\"#DejaVuSans-52\"/>\r\n     <use x=\"195.117188\" xlink:href=\"#DejaVuSans-57\"/>\r\n    </g>\r\n   </g>\r\n   <g id=\"text_113\">\r\n    <!-- -0.53 -->\r\n    <g style=\"fill:#ffffff;\" transform=\"translate(394.354651 242.721875)scale(0.1 -0.1)\">\r\n     <use xlink:href=\"#DejaVuSans-45\"/>\r\n     <use x=\"36.083984\" xlink:href=\"#DejaVuSans-48\"/>\r\n     <use x=\"99.707031\" xlink:href=\"#DejaVuSans-46\"/>\r\n     <use x=\"131.494141\" xlink:href=\"#DejaVuSans-53\"/>\r\n     <use x=\"195.117188\" xlink:href=\"#DejaVuSans-51\"/>\r\n    </g>\r\n   </g>\r\n   <g id=\"text_114\">\r\n    <!-- -0.25 -->\r\n    <g style=\"fill:#ffffff;\" transform=\"translate(435.560805 242.721875)scale(0.1 -0.1)\">\r\n     <use xlink:href=\"#DejaVuSans-45\"/>\r\n     <use x=\"36.083984\" xlink:href=\"#DejaVuSans-48\"/>\r\n     <use x=\"99.707031\" xlink:href=\"#DejaVuSans-46\"/>\r\n     <use x=\"131.494141\" xlink:href=\"#DejaVuSans-50\"/>\r\n     <use x=\"195.117188\" xlink:href=\"#DejaVuSans-53\"/>\r\n    </g>\r\n   </g>\r\n   <g id=\"text_115\">\r\n    <!-- 0.3 -->\r\n    <g style=\"fill:#ffffff;\" transform=\"translate(481.752115 242.721875)scale(0.1 -0.1)\">\r\n     <use xlink:href=\"#DejaVuSans-48\"/>\r\n     <use x=\"63.623047\" xlink:href=\"#DejaVuSans-46\"/>\r\n     <use x=\"95.410156\" xlink:href=\"#DejaVuSans-51\"/>\r\n    </g>\r\n   </g>\r\n   <g id=\"text_116\">\r\n    <!-- -0.54 -->\r\n    <g style=\"fill:#ffffff;\" transform=\"translate(517.973113 242.721875)scale(0.1 -0.1)\">\r\n     <use xlink:href=\"#DejaVuSans-45\"/>\r\n     <use x=\"36.083984\" xlink:href=\"#DejaVuSans-48\"/>\r\n     <use x=\"99.707031\" xlink:href=\"#DejaVuSans-46\"/>\r\n     <use x=\"131.494141\" xlink:href=\"#DejaVuSans-53\"/>\r\n     <use x=\"195.117188\" xlink:href=\"#DejaVuSans-52\"/>\r\n    </g>\r\n   </g>\r\n   <g id=\"text_117\">\r\n    <!-- 0.37 -->\r\n    <g style=\"fill:#ffffff;\" transform=\"translate(560.983173 242.721875)scale(0.1 -0.1)\">\r\n     <use xlink:href=\"#DejaVuSans-48\"/>\r\n     <use x=\"63.623047\" xlink:href=\"#DejaVuSans-46\"/>\r\n     <use x=\"95.410156\" xlink:href=\"#DejaVuSans-51\"/>\r\n     <use x=\"159.033203\" xlink:href=\"#DejaVuSans-55\"/>\r\n    </g>\r\n   </g>\r\n   <g id=\"text_118\">\r\n    <!-- 0.63 -->\r\n    <g style=\"fill:#262626;\" transform=\"translate(66.509327 276.174183)scale(0.1 -0.1)\">\r\n     <use xlink:href=\"#DejaVuSans-48\"/>\r\n     <use x=\"63.623047\" xlink:href=\"#DejaVuSans-46\"/>\r\n     <use x=\"95.410156\" xlink:href=\"#DejaVuSans-54\"/>\r\n     <use x=\"159.033203\" xlink:href=\"#DejaVuSans-51\"/>\r\n    </g>\r\n   </g>\r\n   <g id=\"text_119\">\r\n    <!-- 0.6 -->\r\n    <g style=\"fill:#ffffff;\" transform=\"translate(110.896731 276.174183)scale(0.1 -0.1)\">\r\n     <use xlink:href=\"#DejaVuSans-48\"/>\r\n     <use x=\"63.623047\" xlink:href=\"#DejaVuSans-46\"/>\r\n     <use x=\"95.410156\" xlink:href=\"#DejaVuSans-54\"/>\r\n    </g>\r\n   </g>\r\n   <g id=\"text_120\">\r\n    <!-- -0.033 -->\r\n    <g style=\"fill:#ffffff;\" transform=\"translate(143.936478 276.174183)scale(0.1 -0.1)\">\r\n     <use xlink:href=\"#DejaVuSans-45\"/>\r\n     <use x=\"36.083984\" xlink:href=\"#DejaVuSans-48\"/>\r\n     <use x=\"99.707031\" xlink:href=\"#DejaVuSans-46\"/>\r\n     <use x=\"131.494141\" xlink:href=\"#DejaVuSans-48\"/>\r\n     <use x=\"195.117188\" xlink:href=\"#DejaVuSans-51\"/>\r\n     <use x=\"258.740234\" xlink:href=\"#DejaVuSans-51\"/>\r\n    </g>\r\n   </g>\r\n   <g id=\"text_121\">\r\n    <!-- 0.61 -->\r\n    <g style=\"fill:#262626;\" transform=\"translate(190.127788 276.174183)scale(0.1 -0.1)\">\r\n     <use xlink:href=\"#DejaVuSans-48\"/>\r\n     <use x=\"63.623047\" xlink:href=\"#DejaVuSans-46\"/>\r\n     <use x=\"95.410156\" xlink:href=\"#DejaVuSans-54\"/>\r\n     <use x=\"159.033203\" xlink:href=\"#DejaVuSans-49\"/>\r\n    </g>\r\n   </g>\r\n   <g id=\"text_122\">\r\n    <!-- -0.2 -->\r\n    <g style=\"fill:#ffffff;\" transform=\"translate(232.711286 276.174183)scale(0.1 -0.1)\">\r\n     <use xlink:href=\"#DejaVuSans-45\"/>\r\n     <use x=\"36.083984\" xlink:href=\"#DejaVuSans-48\"/>\r\n     <use x=\"99.707031\" xlink:href=\"#DejaVuSans-46\"/>\r\n     <use x=\"131.494141\" xlink:href=\"#DejaVuSans-50\"/>\r\n    </g>\r\n   </g>\r\n   <g id=\"text_123\">\r\n    <!-- 0.45 -->\r\n    <g style=\"fill:#ffffff;\" transform=\"translate(272.540096 276.174183)scale(0.1 -0.1)\">\r\n     <use xlink:href=\"#DejaVuSans-48\"/>\r\n     <use x=\"63.623047\" xlink:href=\"#DejaVuSans-46\"/>\r\n     <use x=\"95.410156\" xlink:href=\"#DejaVuSans-52\"/>\r\n     <use x=\"159.033203\" xlink:href=\"#DejaVuSans-53\"/>\r\n    </g>\r\n   </g>\r\n   <g id=\"text_124\">\r\n    <!-- -0.49 -->\r\n    <g style=\"fill:#ffffff;\" transform=\"translate(311.942344 276.174183)scale(0.1 -0.1)\">\r\n     <use xlink:href=\"#DejaVuSans-45\"/>\r\n     <use x=\"36.083984\" xlink:href=\"#DejaVuSans-48\"/>\r\n     <use x=\"99.707031\" xlink:href=\"#DejaVuSans-46\"/>\r\n     <use x=\"131.494141\" xlink:href=\"#DejaVuSans-52\"/>\r\n     <use x=\"195.117188\" xlink:href=\"#DejaVuSans-57\"/>\r\n    </g>\r\n   </g>\r\n   <g id=\"text_125\">\r\n    <!-- 1 -->\r\n    <g style=\"fill:#262626;\" transform=\"translate(362.903966 276.174183)scale(0.1 -0.1)\">\r\n     <use xlink:href=\"#DejaVuSans-49\"/>\r\n    </g>\r\n   </g>\r\n   <g id=\"text_126\">\r\n    <!-- 0.91 -->\r\n    <g style=\"fill:#262626;\" transform=\"translate(396.158558 276.174183)scale(0.1 -0.1)\">\r\n     <use xlink:href=\"#DejaVuSans-48\"/>\r\n     <use x=\"63.623047\" xlink:href=\"#DejaVuSans-46\"/>\r\n     <use x=\"95.410156\" xlink:href=\"#DejaVuSans-57\"/>\r\n     <use x=\"159.033203\" xlink:href=\"#DejaVuSans-49\"/>\r\n    </g>\r\n   </g>\r\n   <g id=\"text_127\">\r\n    <!-- 0.46 -->\r\n    <g style=\"fill:#ffffff;\" transform=\"translate(437.364712 276.174183)scale(0.1 -0.1)\">\r\n     <use xlink:href=\"#DejaVuSans-48\"/>\r\n     <use x=\"63.623047\" xlink:href=\"#DejaVuSans-46\"/>\r\n     <use x=\"95.410156\" xlink:href=\"#DejaVuSans-52\"/>\r\n     <use x=\"159.033203\" xlink:href=\"#DejaVuSans-54\"/>\r\n    </g>\r\n   </g>\r\n   <g id=\"text_128\">\r\n    <!-- -0.45 -->\r\n    <g style=\"fill:#ffffff;\" transform=\"translate(476.766959 276.174183)scale(0.1 -0.1)\">\r\n     <use xlink:href=\"#DejaVuSans-45\"/>\r\n     <use x=\"36.083984\" xlink:href=\"#DejaVuSans-48\"/>\r\n     <use x=\"99.707031\" xlink:href=\"#DejaVuSans-46\"/>\r\n     <use x=\"131.494141\" xlink:href=\"#DejaVuSans-52\"/>\r\n     <use x=\"195.117188\" xlink:href=\"#DejaVuSans-53\"/>\r\n    </g>\r\n   </g>\r\n   <g id=\"text_129\">\r\n    <!-- 0.51 -->\r\n    <g style=\"fill:#ffffff;\" transform=\"translate(519.777019 276.174183)scale(0.1 -0.1)\">\r\n     <use xlink:href=\"#DejaVuSans-48\"/>\r\n     <use x=\"63.623047\" xlink:href=\"#DejaVuSans-46\"/>\r\n     <use x=\"95.410156\" xlink:href=\"#DejaVuSans-53\"/>\r\n     <use x=\"159.033203\" xlink:href=\"#DejaVuSans-49\"/>\r\n    </g>\r\n   </g>\r\n   <g id=\"text_130\">\r\n    <!-- -0.48 -->\r\n    <g style=\"fill:#ffffff;\" transform=\"translate(559.179267 276.174183)scale(0.1 -0.1)\">\r\n     <use xlink:href=\"#DejaVuSans-45\"/>\r\n     <use x=\"36.083984\" xlink:href=\"#DejaVuSans-48\"/>\r\n     <use x=\"99.707031\" xlink:href=\"#DejaVuSans-46\"/>\r\n     <use x=\"131.494141\" xlink:href=\"#DejaVuSans-52\"/>\r\n     <use x=\"195.117188\" xlink:href=\"#DejaVuSans-56\"/>\r\n    </g>\r\n   </g>\r\n   <g id=\"text_131\">\r\n    <!-- 0.58 -->\r\n    <g style=\"fill:#ffffff;\" transform=\"translate(66.509327 309.62649)scale(0.1 -0.1)\">\r\n     <use xlink:href=\"#DejaVuSans-48\"/>\r\n     <use x=\"63.623047\" xlink:href=\"#DejaVuSans-46\"/>\r\n     <use x=\"95.410156\" xlink:href=\"#DejaVuSans-53\"/>\r\n     <use x=\"159.033203\" xlink:href=\"#DejaVuSans-56\"/>\r\n    </g>\r\n   </g>\r\n   <g id=\"text_132\">\r\n    <!-- 0.72 -->\r\n    <g style=\"fill:#262626;\" transform=\"translate(107.715481 309.62649)scale(0.1 -0.1)\">\r\n     <use xlink:href=\"#DejaVuSans-48\"/>\r\n     <use x=\"63.623047\" xlink:href=\"#DejaVuSans-46\"/>\r\n     <use x=\"95.410156\" xlink:href=\"#DejaVuSans-55\"/>\r\n     <use x=\"159.033203\" xlink:href=\"#DejaVuSans-50\"/>\r\n    </g>\r\n   </g>\r\n   <g id=\"text_133\">\r\n    <!-- -0.068 -->\r\n    <g style=\"fill:#ffffff;\" transform=\"translate(143.936478 309.62649)scale(0.1 -0.1)\">\r\n     <use xlink:href=\"#DejaVuSans-45\"/>\r\n     <use x=\"36.083984\" xlink:href=\"#DejaVuSans-48\"/>\r\n     <use x=\"99.707031\" xlink:href=\"#DejaVuSans-46\"/>\r\n     <use x=\"131.494141\" xlink:href=\"#DejaVuSans-48\"/>\r\n     <use x=\"195.117188\" xlink:href=\"#DejaVuSans-54\"/>\r\n     <use x=\"258.740234\" xlink:href=\"#DejaVuSans-56\"/>\r\n    </g>\r\n   </g>\r\n   <g id=\"text_134\">\r\n    <!-- 0.67 -->\r\n    <g style=\"fill:#262626;\" transform=\"translate(190.127788 309.62649)scale(0.1 -0.1)\">\r\n     <use xlink:href=\"#DejaVuSans-48\"/>\r\n     <use x=\"63.623047\" xlink:href=\"#DejaVuSans-46\"/>\r\n     <use x=\"95.410156\" xlink:href=\"#DejaVuSans-54\"/>\r\n     <use x=\"159.033203\" xlink:href=\"#DejaVuSans-55\"/>\r\n    </g>\r\n   </g>\r\n   <g id=\"text_135\">\r\n    <!-- -0.28 -->\r\n    <g style=\"fill:#ffffff;\" transform=\"translate(229.530036 309.62649)scale(0.1 -0.1)\">\r\n     <use xlink:href=\"#DejaVuSans-45\"/>\r\n     <use x=\"36.083984\" xlink:href=\"#DejaVuSans-48\"/>\r\n     <use x=\"99.707031\" xlink:href=\"#DejaVuSans-46\"/>\r\n     <use x=\"131.494141\" xlink:href=\"#DejaVuSans-50\"/>\r\n     <use x=\"195.117188\" xlink:href=\"#DejaVuSans-56\"/>\r\n    </g>\r\n   </g>\r\n   <g id=\"text_136\">\r\n    <!-- 0.5 -->\r\n    <g style=\"fill:#ffffff;\" transform=\"translate(275.721346 309.62649)scale(0.1 -0.1)\">\r\n     <use xlink:href=\"#DejaVuSans-48\"/>\r\n     <use x=\"63.623047\" xlink:href=\"#DejaVuSans-46\"/>\r\n     <use x=\"95.410156\" xlink:href=\"#DejaVuSans-53\"/>\r\n    </g>\r\n   </g>\r\n   <g id=\"text_137\">\r\n    <!-- -0.53 -->\r\n    <g style=\"fill:#ffffff;\" transform=\"translate(311.942344 309.62649)scale(0.1 -0.1)\">\r\n     <use xlink:href=\"#DejaVuSans-45\"/>\r\n     <use x=\"36.083984\" xlink:href=\"#DejaVuSans-48\"/>\r\n     <use x=\"99.707031\" xlink:href=\"#DejaVuSans-46\"/>\r\n     <use x=\"131.494141\" xlink:href=\"#DejaVuSans-53\"/>\r\n     <use x=\"195.117188\" xlink:href=\"#DejaVuSans-51\"/>\r\n    </g>\r\n   </g>\r\n   <g id=\"text_138\">\r\n    <!-- 0.91 -->\r\n    <g style=\"fill:#262626;\" transform=\"translate(354.952404 309.62649)scale(0.1 -0.1)\">\r\n     <use xlink:href=\"#DejaVuSans-48\"/>\r\n     <use x=\"63.623047\" xlink:href=\"#DejaVuSans-46\"/>\r\n     <use x=\"95.410156\" xlink:href=\"#DejaVuSans-57\"/>\r\n     <use x=\"159.033203\" xlink:href=\"#DejaVuSans-49\"/>\r\n    </g>\r\n   </g>\r\n   <g id=\"text_139\">\r\n    <!-- 1 -->\r\n    <g style=\"fill:#262626;\" transform=\"translate(404.11012 309.62649)scale(0.1 -0.1)\">\r\n     <use xlink:href=\"#DejaVuSans-49\"/>\r\n    </g>\r\n   </g>\r\n   <g id=\"text_140\">\r\n    <!-- 0.45 -->\r\n    <g style=\"fill:#ffffff;\" transform=\"translate(437.364712 309.62649)scale(0.1 -0.1)\">\r\n     <use xlink:href=\"#DejaVuSans-48\"/>\r\n     <use x=\"63.623047\" xlink:href=\"#DejaVuSans-46\"/>\r\n     <use x=\"95.410156\" xlink:href=\"#DejaVuSans-52\"/>\r\n     <use x=\"159.033203\" xlink:href=\"#DejaVuSans-53\"/>\r\n    </g>\r\n   </g>\r\n   <g id=\"text_141\">\r\n    <!-- -0.45 -->\r\n    <g style=\"fill:#ffffff;\" transform=\"translate(476.766959 309.62649)scale(0.1 -0.1)\">\r\n     <use xlink:href=\"#DejaVuSans-45\"/>\r\n     <use x=\"36.083984\" xlink:href=\"#DejaVuSans-48\"/>\r\n     <use x=\"99.707031\" xlink:href=\"#DejaVuSans-46\"/>\r\n     <use x=\"131.494141\" xlink:href=\"#DejaVuSans-52\"/>\r\n     <use x=\"195.117188\" xlink:href=\"#DejaVuSans-53\"/>\r\n    </g>\r\n   </g>\r\n   <g id=\"text_142\">\r\n    <!-- 0.57 -->\r\n    <g style=\"fill:#ffffff;\" transform=\"translate(519.777019 309.62649)scale(0.1 -0.1)\">\r\n     <use xlink:href=\"#DejaVuSans-48\"/>\r\n     <use x=\"63.623047\" xlink:href=\"#DejaVuSans-46\"/>\r\n     <use x=\"95.410156\" xlink:href=\"#DejaVuSans-53\"/>\r\n     <use x=\"159.033203\" xlink:href=\"#DejaVuSans-55\"/>\r\n    </g>\r\n   </g>\r\n   <g id=\"text_143\">\r\n    <!-- -0.57 -->\r\n    <g style=\"fill:#ffffff;\" transform=\"translate(559.179267 309.62649)scale(0.1 -0.1)\">\r\n     <use xlink:href=\"#DejaVuSans-45\"/>\r\n     <use x=\"36.083984\" xlink:href=\"#DejaVuSans-48\"/>\r\n     <use x=\"99.707031\" xlink:href=\"#DejaVuSans-46\"/>\r\n     <use x=\"131.494141\" xlink:href=\"#DejaVuSans-53\"/>\r\n     <use x=\"195.117188\" xlink:href=\"#DejaVuSans-55\"/>\r\n    </g>\r\n   </g>\r\n   <g id=\"text_144\">\r\n    <!-- 0.29 -->\r\n    <g style=\"fill:#ffffff;\" transform=\"translate(66.509327 343.078798)scale(0.1 -0.1)\">\r\n     <use xlink:href=\"#DejaVuSans-48\"/>\r\n     <use x=\"63.623047\" xlink:href=\"#DejaVuSans-46\"/>\r\n     <use x=\"95.410156\" xlink:href=\"#DejaVuSans-50\"/>\r\n     <use x=\"159.033203\" xlink:href=\"#DejaVuSans-57\"/>\r\n    </g>\r\n   </g>\r\n   <g id=\"text_145\">\r\n    <!-- 0.39 -->\r\n    <g style=\"fill:#ffffff;\" transform=\"translate(107.715481 343.078798)scale(0.1 -0.1)\">\r\n     <use xlink:href=\"#DejaVuSans-48\"/>\r\n     <use x=\"63.623047\" xlink:href=\"#DejaVuSans-46\"/>\r\n     <use x=\"95.410156\" xlink:href=\"#DejaVuSans-51\"/>\r\n     <use x=\"159.033203\" xlink:href=\"#DejaVuSans-57\"/>\r\n    </g>\r\n   </g>\r\n   <g id=\"text_146\">\r\n    <!-- -0.12 -->\r\n    <g style=\"fill:#ffffff;\" transform=\"translate(147.117728 343.078798)scale(0.1 -0.1)\">\r\n     <use xlink:href=\"#DejaVuSans-45\"/>\r\n     <use x=\"36.083984\" xlink:href=\"#DejaVuSans-48\"/>\r\n     <use x=\"99.707031\" xlink:href=\"#DejaVuSans-46\"/>\r\n     <use x=\"131.494141\" xlink:href=\"#DejaVuSans-49\"/>\r\n     <use x=\"195.117188\" xlink:href=\"#DejaVuSans-50\"/>\r\n    </g>\r\n   </g>\r\n   <g id=\"text_147\">\r\n    <!-- 0.19 -->\r\n    <g style=\"fill:#ffffff;\" transform=\"translate(190.127788 343.078798)scale(0.1 -0.1)\">\r\n     <use xlink:href=\"#DejaVuSans-48\"/>\r\n     <use x=\"63.623047\" xlink:href=\"#DejaVuSans-46\"/>\r\n     <use x=\"95.410156\" xlink:href=\"#DejaVuSans-49\"/>\r\n     <use x=\"159.033203\" xlink:href=\"#DejaVuSans-57\"/>\r\n    </g>\r\n   </g>\r\n   <g id=\"text_148\">\r\n    <!-- -0.29 -->\r\n    <g style=\"fill:#ffffff;\" transform=\"translate(229.530036 343.078798)scale(0.1 -0.1)\">\r\n     <use xlink:href=\"#DejaVuSans-45\"/>\r\n     <use x=\"36.083984\" xlink:href=\"#DejaVuSans-48\"/>\r\n     <use x=\"99.707031\" xlink:href=\"#DejaVuSans-46\"/>\r\n     <use x=\"131.494141\" xlink:href=\"#DejaVuSans-50\"/>\r\n     <use x=\"195.117188\" xlink:href=\"#DejaVuSans-57\"/>\r\n    </g>\r\n   </g>\r\n   <g id=\"text_149\">\r\n    <!-- 0.27 -->\r\n    <g style=\"fill:#ffffff;\" transform=\"translate(272.540096 343.078798)scale(0.1 -0.1)\">\r\n     <use xlink:href=\"#DejaVuSans-48\"/>\r\n     <use x=\"63.623047\" xlink:href=\"#DejaVuSans-46\"/>\r\n     <use x=\"95.410156\" xlink:href=\"#DejaVuSans-50\"/>\r\n     <use x=\"159.033203\" xlink:href=\"#DejaVuSans-55\"/>\r\n    </g>\r\n   </g>\r\n   <g id=\"text_150\">\r\n    <!-- -0.25 -->\r\n    <g style=\"fill:#ffffff;\" transform=\"translate(311.942344 343.078798)scale(0.1 -0.1)\">\r\n     <use xlink:href=\"#DejaVuSans-45\"/>\r\n     <use x=\"36.083984\" xlink:href=\"#DejaVuSans-48\"/>\r\n     <use x=\"99.707031\" xlink:href=\"#DejaVuSans-46\"/>\r\n     <use x=\"131.494141\" xlink:href=\"#DejaVuSans-50\"/>\r\n     <use x=\"195.117188\" xlink:href=\"#DejaVuSans-53\"/>\r\n    </g>\r\n   </g>\r\n   <g id=\"text_151\">\r\n    <!-- 0.46 -->\r\n    <g style=\"fill:#ffffff;\" transform=\"translate(354.952404 343.078798)scale(0.1 -0.1)\">\r\n     <use xlink:href=\"#DejaVuSans-48\"/>\r\n     <use x=\"63.623047\" xlink:href=\"#DejaVuSans-46\"/>\r\n     <use x=\"95.410156\" xlink:href=\"#DejaVuSans-52\"/>\r\n     <use x=\"159.033203\" xlink:href=\"#DejaVuSans-54\"/>\r\n    </g>\r\n   </g>\r\n   <g id=\"text_152\">\r\n    <!-- 0.45 -->\r\n    <g style=\"fill:#ffffff;\" transform=\"translate(396.158558 343.078798)scale(0.1 -0.1)\">\r\n     <use xlink:href=\"#DejaVuSans-48\"/>\r\n     <use x=\"63.623047\" xlink:href=\"#DejaVuSans-46\"/>\r\n     <use x=\"95.410156\" xlink:href=\"#DejaVuSans-52\"/>\r\n     <use x=\"159.033203\" xlink:href=\"#DejaVuSans-53\"/>\r\n    </g>\r\n   </g>\r\n   <g id=\"text_153\">\r\n    <!-- 1 -->\r\n    <g style=\"fill:#262626;\" transform=\"translate(445.316274 343.078798)scale(0.1 -0.1)\">\r\n     <use xlink:href=\"#DejaVuSans-49\"/>\r\n    </g>\r\n   </g>\r\n   <g id=\"text_154\">\r\n    <!-- -0.17 -->\r\n    <g style=\"fill:#ffffff;\" transform=\"translate(476.766959 343.078798)scale(0.1 -0.1)\">\r\n     <use xlink:href=\"#DejaVuSans-45\"/>\r\n     <use x=\"36.083984\" xlink:href=\"#DejaVuSans-48\"/>\r\n     <use x=\"99.707031\" xlink:href=\"#DejaVuSans-46\"/>\r\n     <use x=\"131.494141\" xlink:href=\"#DejaVuSans-49\"/>\r\n     <use x=\"195.117188\" xlink:href=\"#DejaVuSans-55\"/>\r\n    </g>\r\n   </g>\r\n   <g id=\"text_155\">\r\n    <!-- 0.36 -->\r\n    <g style=\"fill:#ffffff;\" transform=\"translate(519.777019 343.078798)scale(0.1 -0.1)\">\r\n     <use xlink:href=\"#DejaVuSans-48\"/>\r\n     <use x=\"63.623047\" xlink:href=\"#DejaVuSans-46\"/>\r\n     <use x=\"95.410156\" xlink:href=\"#DejaVuSans-51\"/>\r\n     <use x=\"159.033203\" xlink:href=\"#DejaVuSans-54\"/>\r\n    </g>\r\n   </g>\r\n   <g id=\"text_156\">\r\n    <!-- -0.52 -->\r\n    <g style=\"fill:#ffffff;\" transform=\"translate(559.179267 343.078798)scale(0.1 -0.1)\">\r\n     <use xlink:href=\"#DejaVuSans-45\"/>\r\n     <use x=\"36.083984\" xlink:href=\"#DejaVuSans-48\"/>\r\n     <use x=\"99.707031\" xlink:href=\"#DejaVuSans-46\"/>\r\n     <use x=\"131.494141\" xlink:href=\"#DejaVuSans-53\"/>\r\n     <use x=\"195.117188\" xlink:href=\"#DejaVuSans-50\"/>\r\n    </g>\r\n   </g>\r\n   <g id=\"text_157\">\r\n    <!-- -0.38 -->\r\n    <g style=\"fill:#ffffff;\" transform=\"translate(64.705421 376.531106)scale(0.1 -0.1)\">\r\n     <use xlink:href=\"#DejaVuSans-45\"/>\r\n     <use x=\"36.083984\" xlink:href=\"#DejaVuSans-48\"/>\r\n     <use x=\"99.707031\" xlink:href=\"#DejaVuSans-46\"/>\r\n     <use x=\"131.494141\" xlink:href=\"#DejaVuSans-51\"/>\r\n     <use x=\"195.117188\" xlink:href=\"#DejaVuSans-56\"/>\r\n    </g>\r\n   </g>\r\n   <g id=\"text_158\">\r\n    <!-- -0.36 -->\r\n    <g style=\"fill:#ffffff;\" transform=\"translate(105.911575 376.531106)scale(0.1 -0.1)\">\r\n     <use xlink:href=\"#DejaVuSans-45\"/>\r\n     <use x=\"36.083984\" xlink:href=\"#DejaVuSans-48\"/>\r\n     <use x=\"99.707031\" xlink:href=\"#DejaVuSans-46\"/>\r\n     <use x=\"131.494141\" xlink:href=\"#DejaVuSans-51\"/>\r\n     <use x=\"195.117188\" xlink:href=\"#DejaVuSans-54\"/>\r\n    </g>\r\n   </g>\r\n   <g id=\"text_159\">\r\n    <!-- 0.042 -->\r\n    <g style=\"fill:#ffffff;\" transform=\"translate(145.740385 376.531106)scale(0.1 -0.1)\">\r\n     <use xlink:href=\"#DejaVuSans-48\"/>\r\n     <use x=\"63.623047\" xlink:href=\"#DejaVuSans-46\"/>\r\n     <use x=\"95.410156\" xlink:href=\"#DejaVuSans-48\"/>\r\n     <use x=\"159.033203\" xlink:href=\"#DejaVuSans-52\"/>\r\n     <use x=\"222.65625\" xlink:href=\"#DejaVuSans-50\"/>\r\n    </g>\r\n   </g>\r\n   <g id=\"text_160\">\r\n    <!-- -0.38 -->\r\n    <g style=\"fill:#ffffff;\" transform=\"translate(188.323882 376.531106)scale(0.1 -0.1)\">\r\n     <use xlink:href=\"#DejaVuSans-45\"/>\r\n     <use x=\"36.083984\" xlink:href=\"#DejaVuSans-48\"/>\r\n     <use x=\"99.707031\" xlink:href=\"#DejaVuSans-46\"/>\r\n     <use x=\"131.494141\" xlink:href=\"#DejaVuSans-51\"/>\r\n     <use x=\"195.117188\" xlink:href=\"#DejaVuSans-56\"/>\r\n    </g>\r\n   </g>\r\n   <g id=\"text_161\">\r\n    <!-- 0.12 -->\r\n    <g style=\"fill:#ffffff;\" transform=\"translate(231.333942 376.531106)scale(0.1 -0.1)\">\r\n     <use xlink:href=\"#DejaVuSans-48\"/>\r\n     <use x=\"63.623047\" xlink:href=\"#DejaVuSans-46\"/>\r\n     <use x=\"95.410156\" xlink:href=\"#DejaVuSans-49\"/>\r\n     <use x=\"159.033203\" xlink:href=\"#DejaVuSans-50\"/>\r\n    </g>\r\n   </g>\r\n   <g id=\"text_162\">\r\n    <!-- -0.28 -->\r\n    <g style=\"fill:#ffffff;\" transform=\"translate(270.73619 376.531106)scale(0.1 -0.1)\">\r\n     <use xlink:href=\"#DejaVuSans-45\"/>\r\n     <use x=\"36.083984\" xlink:href=\"#DejaVuSans-48\"/>\r\n     <use x=\"99.707031\" xlink:href=\"#DejaVuSans-46\"/>\r\n     <use x=\"131.494141\" xlink:href=\"#DejaVuSans-50\"/>\r\n     <use x=\"195.117188\" xlink:href=\"#DejaVuSans-56\"/>\r\n    </g>\r\n   </g>\r\n   <g id=\"text_163\">\r\n    <!-- 0.3 -->\r\n    <g style=\"fill:#ffffff;\" transform=\"translate(316.9275 376.531106)scale(0.1 -0.1)\">\r\n     <use xlink:href=\"#DejaVuSans-48\"/>\r\n     <use x=\"63.623047\" xlink:href=\"#DejaVuSans-46\"/>\r\n     <use x=\"95.410156\" xlink:href=\"#DejaVuSans-51\"/>\r\n    </g>\r\n   </g>\r\n   <g id=\"text_164\">\r\n    <!-- -0.45 -->\r\n    <g style=\"fill:#ffffff;\" transform=\"translate(353.148498 376.531106)scale(0.1 -0.1)\">\r\n     <use xlink:href=\"#DejaVuSans-45\"/>\r\n     <use x=\"36.083984\" xlink:href=\"#DejaVuSans-48\"/>\r\n     <use x=\"99.707031\" xlink:href=\"#DejaVuSans-46\"/>\r\n     <use x=\"131.494141\" xlink:href=\"#DejaVuSans-52\"/>\r\n     <use x=\"195.117188\" xlink:href=\"#DejaVuSans-53\"/>\r\n    </g>\r\n   </g>\r\n   <g id=\"text_165\">\r\n    <!-- -0.45 -->\r\n    <g style=\"fill:#ffffff;\" transform=\"translate(394.354651 376.531106)scale(0.1 -0.1)\">\r\n     <use xlink:href=\"#DejaVuSans-45\"/>\r\n     <use x=\"36.083984\" xlink:href=\"#DejaVuSans-48\"/>\r\n     <use x=\"99.707031\" xlink:href=\"#DejaVuSans-46\"/>\r\n     <use x=\"131.494141\" xlink:href=\"#DejaVuSans-52\"/>\r\n     <use x=\"195.117188\" xlink:href=\"#DejaVuSans-53\"/>\r\n    </g>\r\n   </g>\r\n   <g id=\"text_166\">\r\n    <!-- -0.17 -->\r\n    <g style=\"fill:#ffffff;\" transform=\"translate(435.560805 376.531106)scale(0.1 -0.1)\">\r\n     <use xlink:href=\"#DejaVuSans-45\"/>\r\n     <use x=\"36.083984\" xlink:href=\"#DejaVuSans-48\"/>\r\n     <use x=\"99.707031\" xlink:href=\"#DejaVuSans-46\"/>\r\n     <use x=\"131.494141\" xlink:href=\"#DejaVuSans-49\"/>\r\n     <use x=\"195.117188\" xlink:href=\"#DejaVuSans-55\"/>\r\n    </g>\r\n   </g>\r\n   <g id=\"text_167\">\r\n    <!-- 1 -->\r\n    <g style=\"fill:#262626;\" transform=\"translate(486.522428 376.531106)scale(0.1 -0.1)\">\r\n     <use xlink:href=\"#DejaVuSans-49\"/>\r\n    </g>\r\n   </g>\r\n   <g id=\"text_168\">\r\n    <!-- -0.36 -->\r\n    <g style=\"fill:#ffffff;\" transform=\"translate(517.973113 376.531106)scale(0.1 -0.1)\">\r\n     <use xlink:href=\"#DejaVuSans-45\"/>\r\n     <use x=\"36.083984\" xlink:href=\"#DejaVuSans-48\"/>\r\n     <use x=\"99.707031\" xlink:href=\"#DejaVuSans-46\"/>\r\n     <use x=\"131.494141\" xlink:href=\"#DejaVuSans-51\"/>\r\n     <use x=\"195.117188\" xlink:href=\"#DejaVuSans-54\"/>\r\n    </g>\r\n   </g>\r\n   <g id=\"text_169\">\r\n    <!-- 0.36 -->\r\n    <g style=\"fill:#ffffff;\" transform=\"translate(560.983173 376.531106)scale(0.1 -0.1)\">\r\n     <use xlink:href=\"#DejaVuSans-48\"/>\r\n     <use x=\"63.623047\" xlink:href=\"#DejaVuSans-46\"/>\r\n     <use x=\"95.410156\" xlink:href=\"#DejaVuSans-51\"/>\r\n     <use x=\"159.033203\" xlink:href=\"#DejaVuSans-54\"/>\r\n    </g>\r\n   </g>\r\n   <g id=\"text_170\">\r\n    <!-- 0.46 -->\r\n    <g style=\"fill:#ffffff;\" transform=\"translate(66.509327 409.983413)scale(0.1 -0.1)\">\r\n     <use xlink:href=\"#DejaVuSans-48\"/>\r\n     <use x=\"63.623047\" xlink:href=\"#DejaVuSans-46\"/>\r\n     <use x=\"95.410156\" xlink:href=\"#DejaVuSans-52\"/>\r\n     <use x=\"159.033203\" xlink:href=\"#DejaVuSans-54\"/>\r\n    </g>\r\n   </g>\r\n   <g id=\"text_171\">\r\n    <!-- 0.64 -->\r\n    <g style=\"fill:#262626;\" transform=\"translate(107.715481 409.983413)scale(0.1 -0.1)\">\r\n     <use xlink:href=\"#DejaVuSans-48\"/>\r\n     <use x=\"63.623047\" xlink:href=\"#DejaVuSans-46\"/>\r\n     <use x=\"95.410156\" xlink:href=\"#DejaVuSans-54\"/>\r\n     <use x=\"159.033203\" xlink:href=\"#DejaVuSans-52\"/>\r\n    </g>\r\n   </g>\r\n   <g id=\"text_172\">\r\n    <!-- -0.0065 -->\r\n    <g style=\"fill:#ffffff;\" transform=\"translate(140.755228 409.983413)scale(0.1 -0.1)\">\r\n     <use xlink:href=\"#DejaVuSans-45\"/>\r\n     <use x=\"36.083984\" xlink:href=\"#DejaVuSans-48\"/>\r\n     <use x=\"99.707031\" xlink:href=\"#DejaVuSans-46\"/>\r\n     <use x=\"131.494141\" xlink:href=\"#DejaVuSans-48\"/>\r\n     <use x=\"195.117188\" xlink:href=\"#DejaVuSans-48\"/>\r\n     <use x=\"258.740234\" xlink:href=\"#DejaVuSans-54\"/>\r\n     <use x=\"322.363281\" xlink:href=\"#DejaVuSans-53\"/>\r\n    </g>\r\n   </g>\r\n   <g id=\"text_173\">\r\n    <!-- 0.61 -->\r\n    <g style=\"fill:#262626;\" transform=\"translate(190.127788 409.983413)scale(0.1 -0.1)\">\r\n     <use xlink:href=\"#DejaVuSans-48\"/>\r\n     <use x=\"63.623047\" xlink:href=\"#DejaVuSans-46\"/>\r\n     <use x=\"95.410156\" xlink:href=\"#DejaVuSans-54\"/>\r\n     <use x=\"159.033203\" xlink:href=\"#DejaVuSans-49\"/>\r\n    </g>\r\n   </g>\r\n   <g id=\"text_174\">\r\n    <!-- -0.61 -->\r\n    <g style=\"fill:#ffffff;\" transform=\"translate(229.530036 409.983413)scale(0.1 -0.1)\">\r\n     <use xlink:href=\"#DejaVuSans-45\"/>\r\n     <use x=\"36.083984\" xlink:href=\"#DejaVuSans-48\"/>\r\n     <use x=\"99.707031\" xlink:href=\"#DejaVuSans-46\"/>\r\n     <use x=\"131.494141\" xlink:href=\"#DejaVuSans-54\"/>\r\n     <use x=\"195.117188\" xlink:href=\"#DejaVuSans-49\"/>\r\n    </g>\r\n   </g>\r\n   <g id=\"text_175\">\r\n    <!-- 0.64 -->\r\n    <g style=\"fill:#262626;\" transform=\"translate(272.540096 409.983413)scale(0.1 -0.1)\">\r\n     <use xlink:href=\"#DejaVuSans-48\"/>\r\n     <use x=\"63.623047\" xlink:href=\"#DejaVuSans-46\"/>\r\n     <use x=\"95.410156\" xlink:href=\"#DejaVuSans-54\"/>\r\n     <use x=\"159.033203\" xlink:href=\"#DejaVuSans-52\"/>\r\n    </g>\r\n   </g>\r\n   <g id=\"text_176\">\r\n    <!-- -0.54 -->\r\n    <g style=\"fill:#ffffff;\" transform=\"translate(311.942344 409.983413)scale(0.1 -0.1)\">\r\n     <use xlink:href=\"#DejaVuSans-45\"/>\r\n     <use x=\"36.083984\" xlink:href=\"#DejaVuSans-48\"/>\r\n     <use x=\"99.707031\" xlink:href=\"#DejaVuSans-46\"/>\r\n     <use x=\"131.494141\" xlink:href=\"#DejaVuSans-53\"/>\r\n     <use x=\"195.117188\" xlink:href=\"#DejaVuSans-52\"/>\r\n    </g>\r\n   </g>\r\n   <g id=\"text_177\">\r\n    <!-- 0.51 -->\r\n    <g style=\"fill:#ffffff;\" transform=\"translate(354.952404 409.983413)scale(0.1 -0.1)\">\r\n     <use xlink:href=\"#DejaVuSans-48\"/>\r\n     <use x=\"63.623047\" xlink:href=\"#DejaVuSans-46\"/>\r\n     <use x=\"95.410156\" xlink:href=\"#DejaVuSans-53\"/>\r\n     <use x=\"159.033203\" xlink:href=\"#DejaVuSans-49\"/>\r\n    </g>\r\n   </g>\r\n   <g id=\"text_178\">\r\n    <!-- 0.57 -->\r\n    <g style=\"fill:#ffffff;\" transform=\"translate(396.158558 409.983413)scale(0.1 -0.1)\">\r\n     <use xlink:href=\"#DejaVuSans-48\"/>\r\n     <use x=\"63.623047\" xlink:href=\"#DejaVuSans-46\"/>\r\n     <use x=\"95.410156\" xlink:href=\"#DejaVuSans-53\"/>\r\n     <use x=\"159.033203\" xlink:href=\"#DejaVuSans-55\"/>\r\n    </g>\r\n   </g>\r\n   <g id=\"text_179\">\r\n    <!-- 0.36 -->\r\n    <g style=\"fill:#ffffff;\" transform=\"translate(437.364712 409.983413)scale(0.1 -0.1)\">\r\n     <use xlink:href=\"#DejaVuSans-48\"/>\r\n     <use x=\"63.623047\" xlink:href=\"#DejaVuSans-46\"/>\r\n     <use x=\"95.410156\" xlink:href=\"#DejaVuSans-51\"/>\r\n     <use x=\"159.033203\" xlink:href=\"#DejaVuSans-54\"/>\r\n    </g>\r\n   </g>\r\n   <g id=\"text_180\">\r\n    <!-- -0.36 -->\r\n    <g style=\"fill:#ffffff;\" transform=\"translate(476.766959 409.983413)scale(0.1 -0.1)\">\r\n     <use xlink:href=\"#DejaVuSans-45\"/>\r\n     <use x=\"36.083984\" xlink:href=\"#DejaVuSans-48\"/>\r\n     <use x=\"99.707031\" xlink:href=\"#DejaVuSans-46\"/>\r\n     <use x=\"131.494141\" xlink:href=\"#DejaVuSans-51\"/>\r\n     <use x=\"195.117188\" xlink:href=\"#DejaVuSans-54\"/>\r\n    </g>\r\n   </g>\r\n   <g id=\"text_181\">\r\n    <!-- 1 -->\r\n    <g style=\"fill:#262626;\" transform=\"translate(527.728582 409.983413)scale(0.1 -0.1)\">\r\n     <use xlink:href=\"#DejaVuSans-49\"/>\r\n    </g>\r\n   </g>\r\n   <g id=\"text_182\">\r\n    <!-- -0.76 -->\r\n    <g style=\"fill:#ffffff;\" transform=\"translate(559.179267 409.983413)scale(0.1 -0.1)\">\r\n     <use xlink:href=\"#DejaVuSans-45\"/>\r\n     <use x=\"36.083984\" xlink:href=\"#DejaVuSans-48\"/>\r\n     <use x=\"99.707031\" xlink:href=\"#DejaVuSans-46\"/>\r\n     <use x=\"131.494141\" xlink:href=\"#DejaVuSans-55\"/>\r\n     <use x=\"195.117188\" xlink:href=\"#DejaVuSans-54\"/>\r\n    </g>\r\n   </g>\r\n   <g id=\"text_183\">\r\n    <!-- -0.45 -->\r\n    <g style=\"fill:#ffffff;\" transform=\"translate(64.705421 443.435721)scale(0.1 -0.1)\">\r\n     <use xlink:href=\"#DejaVuSans-45\"/>\r\n     <use x=\"36.083984\" xlink:href=\"#DejaVuSans-48\"/>\r\n     <use x=\"99.707031\" xlink:href=\"#DejaVuSans-46\"/>\r\n     <use x=\"131.494141\" xlink:href=\"#DejaVuSans-52\"/>\r\n     <use x=\"195.117188\" xlink:href=\"#DejaVuSans-53\"/>\r\n    </g>\r\n   </g>\r\n   <g id=\"text_184\">\r\n    <!-- -0.6 -->\r\n    <g style=\"fill:#ffffff;\" transform=\"translate(109.092825 443.435721)scale(0.1 -0.1)\">\r\n     <use xlink:href=\"#DejaVuSans-45\"/>\r\n     <use x=\"36.083984\" xlink:href=\"#DejaVuSans-48\"/>\r\n     <use x=\"99.707031\" xlink:href=\"#DejaVuSans-46\"/>\r\n     <use x=\"131.494141\" xlink:href=\"#DejaVuSans-54\"/>\r\n    </g>\r\n   </g>\r\n   <g id=\"text_185\">\r\n    <!-- 0.075 -->\r\n    <g style=\"fill:#ffffff;\" transform=\"translate(145.740385 443.435721)scale(0.1 -0.1)\">\r\n     <use xlink:href=\"#DejaVuSans-48\"/>\r\n     <use x=\"63.623047\" xlink:href=\"#DejaVuSans-46\"/>\r\n     <use x=\"95.410156\" xlink:href=\"#DejaVuSans-48\"/>\r\n     <use x=\"159.033203\" xlink:href=\"#DejaVuSans-55\"/>\r\n     <use x=\"222.65625\" xlink:href=\"#DejaVuSans-53\"/>\r\n    </g>\r\n   </g>\r\n   <g id=\"text_186\">\r\n    <!-- -0.52 -->\r\n    <g style=\"fill:#ffffff;\" transform=\"translate(188.323882 443.435721)scale(0.1 -0.1)\">\r\n     <use xlink:href=\"#DejaVuSans-45\"/>\r\n     <use x=\"36.083984\" xlink:href=\"#DejaVuSans-48\"/>\r\n     <use x=\"99.707031\" xlink:href=\"#DejaVuSans-46\"/>\r\n     <use x=\"131.494141\" xlink:href=\"#DejaVuSans-53\"/>\r\n     <use x=\"195.117188\" xlink:href=\"#DejaVuSans-50\"/>\r\n    </g>\r\n   </g>\r\n   <g id=\"text_187\">\r\n    <!-- 0.69 -->\r\n    <g style=\"fill:#262626;\" transform=\"translate(231.333942 443.435721)scale(0.1 -0.1)\">\r\n     <use xlink:href=\"#DejaVuSans-48\"/>\r\n     <use x=\"63.623047\" xlink:href=\"#DejaVuSans-46\"/>\r\n     <use x=\"95.410156\" xlink:href=\"#DejaVuSans-54\"/>\r\n     <use x=\"159.033203\" xlink:href=\"#DejaVuSans-57\"/>\r\n    </g>\r\n   </g>\r\n   <g id=\"text_188\">\r\n    <!-- -0.49 -->\r\n    <g style=\"fill:#ffffff;\" transform=\"translate(270.73619 443.435721)scale(0.1 -0.1)\">\r\n     <use xlink:href=\"#DejaVuSans-45\"/>\r\n     <use x=\"36.083984\" xlink:href=\"#DejaVuSans-48\"/>\r\n     <use x=\"99.707031\" xlink:href=\"#DejaVuSans-46\"/>\r\n     <use x=\"131.494141\" xlink:href=\"#DejaVuSans-52\"/>\r\n     <use x=\"195.117188\" xlink:href=\"#DejaVuSans-57\"/>\r\n    </g>\r\n   </g>\r\n   <g id=\"text_189\">\r\n    <!-- 0.37 -->\r\n    <g style=\"fill:#ffffff;\" transform=\"translate(313.74625 443.435721)scale(0.1 -0.1)\">\r\n     <use xlink:href=\"#DejaVuSans-48\"/>\r\n     <use x=\"63.623047\" xlink:href=\"#DejaVuSans-46\"/>\r\n     <use x=\"95.410156\" xlink:href=\"#DejaVuSans-51\"/>\r\n     <use x=\"159.033203\" xlink:href=\"#DejaVuSans-55\"/>\r\n    </g>\r\n   </g>\r\n   <g id=\"text_190\">\r\n    <!-- -0.48 -->\r\n    <g style=\"fill:#ffffff;\" transform=\"translate(353.148498 443.435721)scale(0.1 -0.1)\">\r\n     <use xlink:href=\"#DejaVuSans-45\"/>\r\n     <use x=\"36.083984\" xlink:href=\"#DejaVuSans-48\"/>\r\n     <use x=\"99.707031\" xlink:href=\"#DejaVuSans-46\"/>\r\n     <use x=\"131.494141\" xlink:href=\"#DejaVuSans-52\"/>\r\n     <use x=\"195.117188\" xlink:href=\"#DejaVuSans-56\"/>\r\n    </g>\r\n   </g>\r\n   <g id=\"text_191\">\r\n    <!-- -0.57 -->\r\n    <g style=\"fill:#ffffff;\" transform=\"translate(394.354651 443.435721)scale(0.1 -0.1)\">\r\n     <use xlink:href=\"#DejaVuSans-45\"/>\r\n     <use x=\"36.083984\" xlink:href=\"#DejaVuSans-48\"/>\r\n     <use x=\"99.707031\" xlink:href=\"#DejaVuSans-46\"/>\r\n     <use x=\"131.494141\" xlink:href=\"#DejaVuSans-53\"/>\r\n     <use x=\"195.117188\" xlink:href=\"#DejaVuSans-55\"/>\r\n    </g>\r\n   </g>\r\n   <g id=\"text_192\">\r\n    <!-- -0.52 -->\r\n    <g style=\"fill:#ffffff;\" transform=\"translate(435.560805 443.435721)scale(0.1 -0.1)\">\r\n     <use xlink:href=\"#DejaVuSans-45\"/>\r\n     <use x=\"36.083984\" xlink:href=\"#DejaVuSans-48\"/>\r\n     <use x=\"99.707031\" xlink:href=\"#DejaVuSans-46\"/>\r\n     <use x=\"131.494141\" xlink:href=\"#DejaVuSans-53\"/>\r\n     <use x=\"195.117188\" xlink:href=\"#DejaVuSans-50\"/>\r\n    </g>\r\n   </g>\r\n   <g id=\"text_193\">\r\n    <!-- 0.36 -->\r\n    <g style=\"fill:#ffffff;\" transform=\"translate(478.570865 443.435721)scale(0.1 -0.1)\">\r\n     <use xlink:href=\"#DejaVuSans-48\"/>\r\n     <use x=\"63.623047\" xlink:href=\"#DejaVuSans-46\"/>\r\n     <use x=\"95.410156\" xlink:href=\"#DejaVuSans-51\"/>\r\n     <use x=\"159.033203\" xlink:href=\"#DejaVuSans-54\"/>\r\n    </g>\r\n   </g>\r\n   <g id=\"text_194\">\r\n    <!-- -0.76 -->\r\n    <g style=\"fill:#ffffff;\" transform=\"translate(517.973113 443.435721)scale(0.1 -0.1)\">\r\n     <use xlink:href=\"#DejaVuSans-45\"/>\r\n     <use x=\"36.083984\" xlink:href=\"#DejaVuSans-48\"/>\r\n     <use x=\"99.707031\" xlink:href=\"#DejaVuSans-46\"/>\r\n     <use x=\"131.494141\" xlink:href=\"#DejaVuSans-55\"/>\r\n     <use x=\"195.117188\" xlink:href=\"#DejaVuSans-54\"/>\r\n    </g>\r\n   </g>\r\n   <g id=\"text_195\">\r\n    <!-- 1 -->\r\n    <g style=\"fill:#262626;\" transform=\"translate(568.934736 443.435721)scale(0.1 -0.1)\">\r\n     <use xlink:href=\"#DejaVuSans-49\"/>\r\n    </g>\r\n   </g>\r\n   <g id=\"text_196\">\r\n    <!-- Matriz de correlação de data_drop_max -->\r\n    <defs>\r\n     <path d=\"M 34.28125 27.484375 \r\nQ 23.390625 27.484375 19.1875 25 \r\nQ 14.984375 22.515625 14.984375 16.5 \r\nQ 14.984375 11.71875 18.140625 8.90625 \r\nQ 21.296875 6.109375 26.703125 6.109375 \r\nQ 34.1875 6.109375 38.703125 11.40625 \r\nQ 43.21875 16.703125 43.21875 25.484375 \r\nL 43.21875 27.484375 \r\nz\r\nM 52.203125 31.203125 \r\nL 52.203125 0 \r\nL 43.21875 0 \r\nL 43.21875 8.296875 \r\nQ 40.140625 3.328125 35.546875 0.953125 \r\nQ 30.953125 -1.421875 24.3125 -1.421875 \r\nQ 15.921875 -1.421875 10.953125 3.296875 \r\nQ 6 8.015625 6 15.921875 \r\nQ 6 25.140625 12.171875 29.828125 \r\nQ 18.359375 34.515625 30.609375 34.515625 \r\nL 43.21875 34.515625 \r\nL 43.21875 35.40625 \r\nQ 43.21875 41.609375 39.140625 45 \r\nQ 35.0625 48.390625 27.6875 48.390625 \r\nQ 23 48.390625 18.546875 47.265625 \r\nQ 14.109375 46.140625 10.015625 43.890625 \r\nL 10.015625 52.203125 \r\nQ 14.9375 54.109375 19.578125 55.046875 \r\nQ 24.21875 56 28.609375 56 \r\nQ 40.484375 56 46.34375 49.84375 \r\nQ 52.203125 43.703125 52.203125 31.203125 \r\nz\r\n\" id=\"DejaVuSans-97\"/>\r\n     <path d=\"M 18.3125 70.21875 \r\nL 18.3125 54.6875 \r\nL 36.8125 54.6875 \r\nL 36.8125 47.703125 \r\nL 18.3125 47.703125 \r\nL 18.3125 18.015625 \r\nQ 18.3125 11.328125 20.140625 9.421875 \r\nQ 21.96875 7.515625 27.59375 7.515625 \r\nL 36.8125 7.515625 \r\nL 36.8125 0 \r\nL 27.59375 0 \r\nQ 17.1875 0 13.234375 3.875 \r\nQ 9.28125 7.765625 9.28125 18.015625 \r\nL 9.28125 47.703125 \r\nL 2.6875 47.703125 \r\nL 2.6875 54.6875 \r\nL 9.28125 54.6875 \r\nL 9.28125 70.21875 \r\nz\r\n\" id=\"DejaVuSans-116\"/>\r\n     <path d=\"M 41.109375 46.296875 \r\nQ 39.59375 47.171875 37.8125 47.578125 \r\nQ 36.03125 48 33.890625 48 \r\nQ 26.265625 48 22.1875 43.046875 \r\nQ 18.109375 38.09375 18.109375 28.8125 \r\nL 18.109375 0 \r\nL 9.078125 0 \r\nL 9.078125 54.6875 \r\nL 18.109375 54.6875 \r\nL 18.109375 46.1875 \r\nQ 20.953125 51.171875 25.484375 53.578125 \r\nQ 30.03125 56 36.53125 56 \r\nQ 37.453125 56 38.578125 55.875 \r\nQ 39.703125 55.765625 41.0625 55.515625 \r\nz\r\n\" id=\"DejaVuSans-114\"/>\r\n     <path d=\"M 9.421875 54.6875 \r\nL 18.40625 54.6875 \r\nL 18.40625 0 \r\nL 9.421875 0 \r\nz\r\nM 9.421875 75.984375 \r\nL 18.40625 75.984375 \r\nL 18.40625 64.59375 \r\nL 9.421875 64.59375 \r\nz\r\n\" id=\"DejaVuSans-105\"/>\r\n     <path d=\"M 5.515625 54.6875 \r\nL 48.1875 54.6875 \r\nL 48.1875 46.484375 \r\nL 14.40625 7.171875 \r\nL 48.1875 7.171875 \r\nL 48.1875 0 \r\nL 4.296875 0 \r\nL 4.296875 8.203125 \r\nL 38.09375 47.515625 \r\nL 5.515625 47.515625 \r\nz\r\n\" id=\"DejaVuSans-122\"/>\r\n     <path id=\"DejaVuSans-32\"/>\r\n     <path d=\"M 45.40625 46.390625 \r\nL 45.40625 75.984375 \r\nL 54.390625 75.984375 \r\nL 54.390625 0 \r\nL 45.40625 0 \r\nL 45.40625 8.203125 \r\nQ 42.578125 3.328125 38.25 0.953125 \r\nQ 33.9375 -1.421875 27.875 -1.421875 \r\nQ 17.96875 -1.421875 11.734375 6.484375 \r\nQ 5.515625 14.40625 5.515625 27.296875 \r\nQ 5.515625 40.1875 11.734375 48.09375 \r\nQ 17.96875 56 27.875 56 \r\nQ 33.9375 56 38.25 53.625 \r\nQ 42.578125 51.265625 45.40625 46.390625 \r\nz\r\nM 14.796875 27.296875 \r\nQ 14.796875 17.390625 18.875 11.75 \r\nQ 22.953125 6.109375 30.078125 6.109375 \r\nQ 37.203125 6.109375 41.296875 11.75 \r\nQ 45.40625 17.390625 45.40625 27.296875 \r\nQ 45.40625 37.203125 41.296875 42.84375 \r\nQ 37.203125 48.484375 30.078125 48.484375 \r\nQ 22.953125 48.484375 18.875 42.84375 \r\nQ 14.796875 37.203125 14.796875 27.296875 \r\nz\r\n\" id=\"DejaVuSans-100\"/>\r\n     <path d=\"M 56.203125 29.59375 \r\nL 56.203125 25.203125 \r\nL 14.890625 25.203125 \r\nQ 15.484375 15.921875 20.484375 11.0625 \r\nQ 25.484375 6.203125 34.421875 6.203125 \r\nQ 39.59375 6.203125 44.453125 7.46875 \r\nQ 49.3125 8.734375 54.109375 11.28125 \r\nL 54.109375 2.78125 \r\nQ 49.265625 0.734375 44.1875 -0.34375 \r\nQ 39.109375 -1.421875 33.890625 -1.421875 \r\nQ 20.796875 -1.421875 13.15625 6.1875 \r\nQ 5.515625 13.8125 5.515625 26.8125 \r\nQ 5.515625 40.234375 12.765625 48.109375 \r\nQ 20.015625 56 32.328125 56 \r\nQ 43.359375 56 49.78125 48.890625 \r\nQ 56.203125 41.796875 56.203125 29.59375 \r\nz\r\nM 47.21875 32.234375 \r\nQ 47.125 39.59375 43.09375 43.984375 \r\nQ 39.0625 48.390625 32.421875 48.390625 \r\nQ 24.90625 48.390625 20.390625 44.140625 \r\nQ 15.875 39.890625 15.1875 32.171875 \r\nz\r\n\" id=\"DejaVuSans-101\"/>\r\n     <path d=\"M 48.78125 52.59375 \r\nL 48.78125 44.1875 \r\nQ 44.96875 46.296875 41.140625 47.34375 \r\nQ 37.3125 48.390625 33.40625 48.390625 \r\nQ 24.65625 48.390625 19.8125 42.84375 \r\nQ 14.984375 37.3125 14.984375 27.296875 \r\nQ 14.984375 17.28125 19.8125 11.734375 \r\nQ 24.65625 6.203125 33.40625 6.203125 \r\nQ 37.3125 6.203125 41.140625 7.25 \r\nQ 44.96875 8.296875 48.78125 10.40625 \r\nL 48.78125 2.09375 \r\nQ 45.015625 0.34375 40.984375 -0.53125 \r\nQ 36.96875 -1.421875 32.421875 -1.421875 \r\nQ 20.0625 -1.421875 12.78125 6.34375 \r\nQ 5.515625 14.109375 5.515625 27.296875 \r\nQ 5.515625 40.671875 12.859375 48.328125 \r\nQ 20.21875 56 33.015625 56 \r\nQ 37.15625 56 41.109375 55.140625 \r\nQ 45.0625 54.296875 48.78125 52.59375 \r\nz\r\n\" id=\"DejaVuSans-99\"/>\r\n     <path d=\"M 30.609375 48.390625 \r\nQ 23.390625 48.390625 19.1875 42.75 \r\nQ 14.984375 37.109375 14.984375 27.296875 \r\nQ 14.984375 17.484375 19.15625 11.84375 \r\nQ 23.34375 6.203125 30.609375 6.203125 \r\nQ 37.796875 6.203125 41.984375 11.859375 \r\nQ 46.1875 17.53125 46.1875 27.296875 \r\nQ 46.1875 37.015625 41.984375 42.703125 \r\nQ 37.796875 48.390625 30.609375 48.390625 \r\nz\r\nM 30.609375 56 \r\nQ 42.328125 56 49.015625 48.375 \r\nQ 55.71875 40.765625 55.71875 27.296875 \r\nQ 55.71875 13.875 49.015625 6.21875 \r\nQ 42.328125 -1.421875 30.609375 -1.421875 \r\nQ 18.84375 -1.421875 12.171875 6.21875 \r\nQ 5.515625 13.875 5.515625 27.296875 \r\nQ 5.515625 40.765625 12.171875 48.375 \r\nQ 18.84375 56 30.609375 56 \r\nz\r\n\" id=\"DejaVuSans-111\"/>\r\n     <path d=\"M 9.421875 75.984375 \r\nL 18.40625 75.984375 \r\nL 18.40625 0 \r\nL 9.421875 0 \r\nz\r\n\" id=\"DejaVuSans-108\"/>\r\n     <path d=\"M 48.78125 52.59375 \r\nL 48.78125 44.1875 \r\nQ 44.96875 46.296875 41.140625 47.34375 \r\nQ 37.3125 48.390625 33.40625 48.390625 \r\nQ 24.65625 48.390625 19.8125 42.84375 \r\nQ 14.984375 37.3125 14.984375 27.296875 \r\nQ 14.984375 17.28125 19.8125 11.734375 \r\nQ 24.65625 6.203125 33.40625 6.203125 \r\nQ 37.3125 6.203125 41.140625 7.25 \r\nQ 44.96875 8.296875 48.78125 10.40625 \r\nL 48.78125 2.09375 \r\nQ 45.015625 0.34375 40.984375 -0.53125 \r\nQ 36.96875 -1.421875 32.421875 -1.421875 \r\nQ 20.0625 -1.421875 12.78125 6.34375 \r\nQ 5.515625 14.109375 5.515625 27.296875 \r\nQ 5.515625 40.671875 12.859375 48.328125 \r\nQ 20.21875 56 33.015625 56 \r\nQ 37.15625 56 41.109375 55.140625 \r\nQ 45.0625 54.296875 48.78125 52.59375 \r\nz\r\nM 36.078125 0 \r\nQ 38.765625 -3.03125 40.078125 -5.59375 \r\nQ 41.40625 -8.15625 41.40625 -10.5 \r\nQ 41.40625 -14.84375 38.46875 -17.0625 \r\nQ 35.546875 -19.28125 29.78125 -19.28125 \r\nQ 27.546875 -19.28125 25.421875 -18.984375 \r\nQ 23.296875 -18.703125 21.1875 -18.109375 \r\nL 21.1875 -11.71875 \r\nQ 22.859375 -12.546875 24.65625 -12.90625 \r\nQ 26.46875 -13.28125 28.765625 -13.28125 \r\nQ 31.640625 -13.28125 33.109375 -12.109375 \r\nQ 34.578125 -10.9375 34.578125 -8.6875 \r\nQ 34.578125 -7.234375 33.515625 -5.109375 \r\nQ 32.46875 -2.984375 30.28125 0 \r\nz\r\n\" id=\"DejaVuSans-231\"/>\r\n     <path d=\"M 34.28125 27.484375 \r\nQ 23.390625 27.484375 19.1875 25 \r\nQ 14.984375 22.515625 14.984375 16.5 \r\nQ 14.984375 11.71875 18.140625 8.90625 \r\nQ 21.296875 6.109375 26.703125 6.109375 \r\nQ 34.1875 6.109375 38.703125 11.40625 \r\nQ 43.21875 16.703125 43.21875 25.484375 \r\nL 43.21875 27.484375 \r\nz\r\nM 52.203125 31.203125 \r\nL 52.203125 0 \r\nL 43.21875 0 \r\nL 43.21875 8.296875 \r\nQ 40.140625 3.328125 35.546875 0.953125 \r\nQ 30.953125 -1.421875 24.3125 -1.421875 \r\nQ 15.921875 -1.421875 10.953125 3.296875 \r\nQ 6 8.015625 6 15.921875 \r\nQ 6 25.140625 12.171875 29.828125 \r\nQ 18.359375 34.515625 30.609375 34.515625 \r\nL 43.21875 34.515625 \r\nL 43.21875 35.40625 \r\nQ 43.21875 41.609375 39.140625 45 \r\nQ 35.0625 48.390625 27.6875 48.390625 \r\nQ 23 48.390625 18.546875 47.265625 \r\nQ 14.109375 46.140625 10.015625 43.890625 \r\nL 10.015625 52.203125 \r\nQ 14.9375 54.109375 19.578125 55.046875 \r\nQ 24.21875 56 28.609375 56 \r\nQ 40.484375 56 46.34375 49.84375 \r\nQ 52.203125 43.703125 52.203125 31.203125 \r\nz\r\nM 28.8125 66.890625 \r\nL 26.03125 69.578125 \r\nQ 24.953125 70.5625 24.140625 71.015625 \r\nQ 23.34375 71.484375 22.703125 71.484375 \r\nQ 20.84375 71.484375 19.96875 69.703125 \r\nQ 19.09375 67.921875 19 63.921875 \r\nL 12.890625 63.921875 \r\nQ 12.984375 70.515625 15.46875 74.09375 \r\nQ 17.96875 77.6875 22.40625 77.6875 \r\nQ 24.265625 77.6875 25.828125 77 \r\nQ 27.390625 76.3125 29.203125 74.703125 \r\nL 31.984375 72.015625 \r\nQ 33.0625 71.046875 33.859375 70.578125 \r\nQ 34.671875 70.125 35.296875 70.125 \r\nQ 37.15625 70.125 38.03125 71.90625 \r\nQ 38.921875 73.6875 39.015625 77.6875 \r\nL 45.125 77.6875 \r\nQ 45.015625 71.09375 42.53125 67.5 \r\nQ 40.046875 63.921875 35.59375 63.921875 \r\nQ 33.734375 63.921875 32.171875 64.59375 \r\nQ 30.609375 65.28125 28.8125 66.890625 \r\nz\r\n\" id=\"DejaVuSans-227\"/>\r\n     <path d=\"M 50.984375 -16.609375 \r\nL 50.984375 -23.578125 \r\nL -0.984375 -23.578125 \r\nL -0.984375 -16.609375 \r\nz\r\n\" id=\"DejaVuSans-95\"/>\r\n     <path d=\"M 18.109375 8.203125 \r\nL 18.109375 -20.796875 \r\nL 9.078125 -20.796875 \r\nL 9.078125 54.6875 \r\nL 18.109375 54.6875 \r\nL 18.109375 46.390625 \r\nQ 20.953125 51.265625 25.265625 53.625 \r\nQ 29.59375 56 35.59375 56 \r\nQ 45.5625 56 51.78125 48.09375 \r\nQ 58.015625 40.1875 58.015625 27.296875 \r\nQ 58.015625 14.40625 51.78125 6.484375 \r\nQ 45.5625 -1.421875 35.59375 -1.421875 \r\nQ 29.59375 -1.421875 25.265625 0.953125 \r\nQ 20.953125 3.328125 18.109375 8.203125 \r\nz\r\nM 48.6875 27.296875 \r\nQ 48.6875 37.203125 44.609375 42.84375 \r\nQ 40.53125 48.484375 33.40625 48.484375 \r\nQ 26.265625 48.484375 22.1875 42.84375 \r\nQ 18.109375 37.203125 18.109375 27.296875 \r\nQ 18.109375 17.390625 22.1875 11.75 \r\nQ 26.265625 6.109375 33.40625 6.109375 \r\nQ 40.53125 6.109375 44.609375 11.75 \r\nQ 48.6875 17.390625 48.6875 27.296875 \r\nz\r\n\" id=\"DejaVuSans-112\"/>\r\n     <path d=\"M 52 44.1875 \r\nQ 55.375 50.25 60.0625 53.125 \r\nQ 64.75 56 71.09375 56 \r\nQ 79.640625 56 84.28125 50.015625 \r\nQ 88.921875 44.046875 88.921875 33.015625 \r\nL 88.921875 0 \r\nL 79.890625 0 \r\nL 79.890625 32.71875 \r\nQ 79.890625 40.578125 77.09375 44.375 \r\nQ 74.3125 48.1875 68.609375 48.1875 \r\nQ 61.625 48.1875 57.5625 43.546875 \r\nQ 53.515625 38.921875 53.515625 30.90625 \r\nL 53.515625 0 \r\nL 44.484375 0 \r\nL 44.484375 32.71875 \r\nQ 44.484375 40.625 41.703125 44.40625 \r\nQ 38.921875 48.1875 33.109375 48.1875 \r\nQ 26.21875 48.1875 22.15625 43.53125 \r\nQ 18.109375 38.875 18.109375 30.90625 \r\nL 18.109375 0 \r\nL 9.078125 0 \r\nL 9.078125 54.6875 \r\nL 18.109375 54.6875 \r\nL 18.109375 46.1875 \r\nQ 21.1875 51.21875 25.484375 53.609375 \r\nQ 29.78125 56 35.6875 56 \r\nQ 41.65625 56 45.828125 52.96875 \r\nQ 50 49.953125 52 44.1875 \r\nz\r\n\" id=\"DejaVuSans-109\"/>\r\n     <path d=\"M 54.890625 54.6875 \r\nL 35.109375 28.078125 \r\nL 55.90625 0 \r\nL 45.3125 0 \r\nL 29.390625 21.484375 \r\nL 13.484375 0 \r\nL 2.875 0 \r\nL 24.125 28.609375 \r\nL 4.6875 54.6875 \r\nL 15.28125 54.6875 \r\nL 29.78125 35.203125 \r\nL 44.28125 54.6875 \r\nz\r\n\" id=\"DejaVuSans-120\"/>\r\n    </defs>\r\n    <g transform=\"translate(205.83625 16.5225)scale(0.12 -0.12)\">\r\n     <use xlink:href=\"#DejaVuSans-77\"/>\r\n     <use x=\"86.279297\" xlink:href=\"#DejaVuSans-97\"/>\r\n     <use x=\"147.558594\" xlink:href=\"#DejaVuSans-116\"/>\r\n     <use x=\"186.767578\" xlink:href=\"#DejaVuSans-114\"/>\r\n     <use x=\"227.880859\" xlink:href=\"#DejaVuSans-105\"/>\r\n     <use x=\"255.664062\" xlink:href=\"#DejaVuSans-122\"/>\r\n     <use x=\"308.154297\" xlink:href=\"#DejaVuSans-32\"/>\r\n     <use x=\"339.941406\" xlink:href=\"#DejaVuSans-100\"/>\r\n     <use x=\"403.417969\" xlink:href=\"#DejaVuSans-101\"/>\r\n     <use x=\"464.941406\" xlink:href=\"#DejaVuSans-32\"/>\r\n     <use x=\"496.728516\" xlink:href=\"#DejaVuSans-99\"/>\r\n     <use x=\"551.708984\" xlink:href=\"#DejaVuSans-111\"/>\r\n     <use x=\"612.890625\" xlink:href=\"#DejaVuSans-114\"/>\r\n     <use x=\"653.988281\" xlink:href=\"#DejaVuSans-114\"/>\r\n     <use x=\"695.070312\" xlink:href=\"#DejaVuSans-101\"/>\r\n     <use x=\"756.59375\" xlink:href=\"#DejaVuSans-108\"/>\r\n     <use x=\"784.376953\" xlink:href=\"#DejaVuSans-97\"/>\r\n     <use x=\"845.65625\" xlink:href=\"#DejaVuSans-231\"/>\r\n     <use x=\"900.636719\" xlink:href=\"#DejaVuSans-227\"/>\r\n     <use x=\"961.916016\" xlink:href=\"#DejaVuSans-111\"/>\r\n     <use x=\"1023.097656\" xlink:href=\"#DejaVuSans-32\"/>\r\n     <use x=\"1054.884766\" xlink:href=\"#DejaVuSans-100\"/>\r\n     <use x=\"1118.361328\" xlink:href=\"#DejaVuSans-101\"/>\r\n     <use x=\"1179.884766\" xlink:href=\"#DejaVuSans-32\"/>\r\n     <use x=\"1211.671875\" xlink:href=\"#DejaVuSans-100\"/>\r\n     <use x=\"1275.148438\" xlink:href=\"#DejaVuSans-97\"/>\r\n     <use x=\"1336.427734\" xlink:href=\"#DejaVuSans-116\"/>\r\n     <use x=\"1375.636719\" xlink:href=\"#DejaVuSans-97\"/>\r\n     <use x=\"1436.916016\" xlink:href=\"#DejaVuSans-95\"/>\r\n     <use x=\"1486.916016\" xlink:href=\"#DejaVuSans-100\"/>\r\n     <use x=\"1550.392578\" xlink:href=\"#DejaVuSans-114\"/>\r\n     <use x=\"1591.474609\" xlink:href=\"#DejaVuSans-111\"/>\r\n     <use x=\"1652.65625\" xlink:href=\"#DejaVuSans-112\"/>\r\n     <use x=\"1716.132812\" xlink:href=\"#DejaVuSans-95\"/>\r\n     <use x=\"1766.132812\" xlink:href=\"#DejaVuSans-109\"/>\r\n     <use x=\"1863.544922\" xlink:href=\"#DejaVuSans-97\"/>\r\n     <use x=\"1924.824219\" xlink:href=\"#DejaVuSans-120\"/>\r\n    </g>\r\n   </g>\r\n  </g>\r\n  <g id=\"axes_2\">\r\n   <g id=\"patch_3\">\r\n    <path clip-path=\"url(#p947b4b106d)\" d=\"M 626.199063 457.4025 \r\nL 626.199063 455.70375 \r\nL 626.199063 24.22125 \r\nL 626.199063 22.5225 \r\nL 647.943063 22.5225 \r\nL 647.943063 24.22125 \r\nL 647.943063 455.70375 \r\nL 647.943063 457.4025 \r\nz\r\n\" style=\"fill:#ffffff;stroke:#ffffff;stroke-linejoin:miter;stroke-width:0.01;\"/>\r\n   </g>\r\n   <image height=\"435\" id=\"image5318a5ce3a\" transform=\"scale(1 -1)translate(0 -435)\" width=\"22\" x=\"626\" xlink:href=\"data:image/png;base64,\r\niVBORw0KGgoAAAANSUhEUgAAABYAAAGzCAYAAAArEufSAAAABHNCSVQICAgIfAhkiAAAAjhJREFUeJztncFtwzAQBClbaSL99+k8Qp7VwDwGmCngQOzurSjEdq73z+9nAdwXMXWt9YLmrvu6mDNjg0Eplu7EOo1fWNx05lFS+OJ2v3TmtXkzWChFcdv4HqbV5uBbkKQYyLgxs7tiDb7a9GmcFIMvbkkx+B5NPaWHLoUD2BWZt/EtiNE8aLDvXtEzb6grBvBeoTOPmuyLm3HzdCemJhvNE9Ymg29BhHHLvBnsM68b/XcwMtaYY19XJMXge7nxtZtQCl/cwKc0gy/Hvq7IvMFnnq/dMm8AT4x8oaCueCDcPF+OM+8g7IrMO/hOjKWirhjIomcAzdPFzadxXXGoKx6DM29DmseILDTPV5vCuH2ouCFjM+9BXTHcFySFr92Um5d5//g0xkqI/AwLM1hpHgP58Upf3CDzhBcWnXnFbQZDn/zLvC+ZN2Ted/AFvY+R5jGDwRMLNaYuhbrNg344xmieMcfMYF9XZN6gNA+ZKyyhin4obsO9ihs92CcFGLfM22BSFLeBjJvto9jGuEFfmPJJsXRxy7xD5g0+jY3m6X7rJvMO93oxs4XmVUIH8u2/uMGDyad05p3B5XjjezQZpShuG1+7CaUobo/BOimEr2PY5unMqys2wrgJXyAzjx5c0Q+geeV404kHbEGMUvhOTP0fyKQ4+OKWFEMnHuqKoQV5DE6KDfm3/zcz2CeF8MTV5kbZFczm+TQubkNFP2Te0BVrqDYHYdyupNj44tbmDb64tXlDcRt8K/0HV94vJYiVzccAAAAASUVORK5CYII=\" y=\"-22\"/>\r\n   <g id=\"matplotlib.axis_3\"/>\r\n   <g id=\"matplotlib.axis_4\">\r\n    <g id=\"ytick_14\">\r\n     <g id=\"line2d_27\">\r\n      <defs>\r\n       <path d=\"M 0 0 \r\nL 3.5 0 \r\n\" id=\"mf7a86e6c84\" style=\"stroke:#000000;stroke-width:0.8;\"/>\r\n      </defs>\r\n      <g>\r\n       <use style=\"stroke:#000000;stroke-width:0.8;\" x=\"647.943063\" xlink:href=\"#mf7a86e6c84\" y=\"416.051905\"/>\r\n      </g>\r\n     </g>\r\n     <g id=\"text_197\">\r\n      <!-- −0.6 -->\r\n      <defs>\r\n       <path d=\"M 10.59375 35.5 \r\nL 73.1875 35.5 \r\nL 73.1875 27.203125 \r\nL 10.59375 27.203125 \r\nz\r\n\" id=\"DejaVuSans-8722\"/>\r\n      </defs>\r\n      <g transform=\"translate(654.943063 419.851124)scale(0.1 -0.1)\">\r\n       <use xlink:href=\"#DejaVuSans-8722\"/>\r\n       <use x=\"83.789062\" xlink:href=\"#DejaVuSans-48\"/>\r\n       <use x=\"147.412109\" xlink:href=\"#DejaVuSans-46\"/>\r\n       <use x=\"179.199219\" xlink:href=\"#DejaVuSans-54\"/>\r\n      </g>\r\n     </g>\r\n    </g>\r\n    <g id=\"ytick_15\">\r\n     <g id=\"line2d_28\">\r\n      <g>\r\n       <use style=\"stroke:#000000;stroke-width:0.8;\" x=\"647.943063\" xlink:href=\"#mf7a86e6c84\" y=\"366.860729\"/>\r\n      </g>\r\n     </g>\r\n     <g id=\"text_198\">\r\n      <!-- −0.4 -->\r\n      <g transform=\"translate(654.943063 370.659948)scale(0.1 -0.1)\">\r\n       <use xlink:href=\"#DejaVuSans-8722\"/>\r\n       <use x=\"83.789062\" xlink:href=\"#DejaVuSans-48\"/>\r\n       <use x=\"147.412109\" xlink:href=\"#DejaVuSans-46\"/>\r\n       <use x=\"179.199219\" xlink:href=\"#DejaVuSans-52\"/>\r\n      </g>\r\n     </g>\r\n    </g>\r\n    <g id=\"ytick_16\">\r\n     <g id=\"line2d_29\">\r\n      <g>\r\n       <use style=\"stroke:#000000;stroke-width:0.8;\" x=\"647.943063\" xlink:href=\"#mf7a86e6c84\" y=\"317.669554\"/>\r\n      </g>\r\n     </g>\r\n     <g id=\"text_199\">\r\n      <!-- −0.2 -->\r\n      <g transform=\"translate(654.943063 321.468772)scale(0.1 -0.1)\">\r\n       <use xlink:href=\"#DejaVuSans-8722\"/>\r\n       <use x=\"83.789062\" xlink:href=\"#DejaVuSans-48\"/>\r\n       <use x=\"147.412109\" xlink:href=\"#DejaVuSans-46\"/>\r\n       <use x=\"179.199219\" xlink:href=\"#DejaVuSans-50\"/>\r\n      </g>\r\n     </g>\r\n    </g>\r\n    <g id=\"ytick_17\">\r\n     <g id=\"line2d_30\">\r\n      <g>\r\n       <use style=\"stroke:#000000;stroke-width:0.8;\" x=\"647.943063\" xlink:href=\"#mf7a86e6c84\" y=\"268.478378\"/>\r\n      </g>\r\n     </g>\r\n     <g id=\"text_200\">\r\n      <!-- 0.0 -->\r\n      <g transform=\"translate(654.943063 272.277597)scale(0.1 -0.1)\">\r\n       <use xlink:href=\"#DejaVuSans-48\"/>\r\n       <use x=\"63.623047\" xlink:href=\"#DejaVuSans-46\"/>\r\n       <use x=\"95.410156\" xlink:href=\"#DejaVuSans-48\"/>\r\n      </g>\r\n     </g>\r\n    </g>\r\n    <g id=\"ytick_18\">\r\n     <g id=\"line2d_31\">\r\n      <g>\r\n       <use style=\"stroke:#000000;stroke-width:0.8;\" x=\"647.943063\" xlink:href=\"#mf7a86e6c84\" y=\"219.287202\"/>\r\n      </g>\r\n     </g>\r\n     <g id=\"text_201\">\r\n      <!-- 0.2 -->\r\n      <g transform=\"translate(654.943063 223.086421)scale(0.1 -0.1)\">\r\n       <use xlink:href=\"#DejaVuSans-48\"/>\r\n       <use x=\"63.623047\" xlink:href=\"#DejaVuSans-46\"/>\r\n       <use x=\"95.410156\" xlink:href=\"#DejaVuSans-50\"/>\r\n      </g>\r\n     </g>\r\n    </g>\r\n    <g id=\"ytick_19\">\r\n     <g id=\"line2d_32\">\r\n      <g>\r\n       <use style=\"stroke:#000000;stroke-width:0.8;\" x=\"647.943063\" xlink:href=\"#mf7a86e6c84\" y=\"170.096027\"/>\r\n      </g>\r\n     </g>\r\n     <g id=\"text_202\">\r\n      <!-- 0.4 -->\r\n      <g transform=\"translate(654.943063 173.895246)scale(0.1 -0.1)\">\r\n       <use xlink:href=\"#DejaVuSans-48\"/>\r\n       <use x=\"63.623047\" xlink:href=\"#DejaVuSans-46\"/>\r\n       <use x=\"95.410156\" xlink:href=\"#DejaVuSans-52\"/>\r\n      </g>\r\n     </g>\r\n    </g>\r\n    <g id=\"ytick_20\">\r\n     <g id=\"line2d_33\">\r\n      <g>\r\n       <use style=\"stroke:#000000;stroke-width:0.8;\" x=\"647.943063\" xlink:href=\"#mf7a86e6c84\" y=\"120.904851\"/>\r\n      </g>\r\n     </g>\r\n     <g id=\"text_203\">\r\n      <!-- 0.6 -->\r\n      <g transform=\"translate(654.943063 124.70407)scale(0.1 -0.1)\">\r\n       <use xlink:href=\"#DejaVuSans-48\"/>\r\n       <use x=\"63.623047\" xlink:href=\"#DejaVuSans-46\"/>\r\n       <use x=\"95.410156\" xlink:href=\"#DejaVuSans-54\"/>\r\n      </g>\r\n     </g>\r\n    </g>\r\n    <g id=\"ytick_21\">\r\n     <g id=\"line2d_34\">\r\n      <g>\r\n       <use style=\"stroke:#000000;stroke-width:0.8;\" x=\"647.943063\" xlink:href=\"#mf7a86e6c84\" y=\"71.713676\"/>\r\n      </g>\r\n     </g>\r\n     <g id=\"text_204\">\r\n      <!-- 0.8 -->\r\n      <g transform=\"translate(654.943063 75.512894)scale(0.1 -0.1)\">\r\n       <use xlink:href=\"#DejaVuSans-48\"/>\r\n       <use x=\"63.623047\" xlink:href=\"#DejaVuSans-46\"/>\r\n       <use x=\"95.410156\" xlink:href=\"#DejaVuSans-56\"/>\r\n      </g>\r\n     </g>\r\n    </g>\r\n    <g id=\"ytick_22\">\r\n     <g id=\"line2d_35\">\r\n      <g>\r\n       <use style=\"stroke:#000000;stroke-width:0.8;\" x=\"647.943063\" xlink:href=\"#mf7a86e6c84\" y=\"22.5225\"/>\r\n      </g>\r\n     </g>\r\n     <g id=\"text_205\">\r\n      <!-- 1.0 -->\r\n      <g transform=\"translate(654.943063 26.321719)scale(0.1 -0.1)\">\r\n       <use xlink:href=\"#DejaVuSans-49\"/>\r\n       <use x=\"63.623047\" xlink:href=\"#DejaVuSans-46\"/>\r\n       <use x=\"95.410156\" xlink:href=\"#DejaVuSans-48\"/>\r\n      </g>\r\n     </g>\r\n    </g>\r\n   </g>\r\n   <g id=\"patch_4\">\r\n    <path d=\"M 626.199063 457.4025 \r\nL 626.199063 455.70375 \r\nL 626.199063 24.22125 \r\nL 626.199063 22.5225 \r\nL 647.943063 22.5225 \r\nL 647.943063 24.22125 \r\nL 647.943063 455.70375 \r\nL 647.943063 457.4025 \r\nz\r\n\" style=\"fill:none;\"/>\r\n   </g>\r\n  </g>\r\n </g>\r\n <defs>\r\n  <clipPath id=\"p0e8ca16889\">\r\n   <rect height=\"434.88\" width=\"535.68\" x=\"57.039063\" y=\"22.5225\"/>\r\n  </clipPath>\r\n  <clipPath id=\"p947b4b106d\">\r\n   <rect height=\"434.88\" width=\"21.744\" x=\"626.199063\" y=\"22.5225\"/>\r\n  </clipPath>\r\n </defs>\r\n</svg>\r\n",
      "image/png": "[encoded data removed]"
     },
     "metadata": {
      "needs_background": "light"
     }
    }
   ],
   "source": [
    "plt.figure(figsize=(12,8))\n",
    "sns.heatmap(corrDropMax, annot=True)\n",
    "plt.title('Matriz de correlação de data_drop_max')\n",
    "plt.show()"
   ]
  },
  {
   "cell_type": "markdown",
   "metadata": {},
   "source": [
    "#### Devido a perda de algumas correlações importantes, o dataset utilizado daqui pra frente será data_drop_max.\n",
    "\n",
    "#### Pode-se observar algumas correlações importantes.\n",
    "- LSTAT, RM, TAX e INDUS tem uma boa correlação com MEDV, sendo importantes para o nosso modelo de MachineLearning;\n",
    "- RAD e TAX tem uma correlação extremamente forte (0.91);\n",
    "- DIS tem alta correlação com diversos parâmetros;\n",
    "Pode-se retirar RAD e DIS para ver se diminuem essas \n",
    "\n"
   ]
  },
  {
   "cell_type": "code",
   "execution_count": 23,
   "metadata": {},
   "outputs": [
    {
     "output_type": "execute_result",
     "data": {
      "text/plain": "Index(['CRIM', 'INDUS', 'CHAS', 'NOX', 'RM', 'AGE', 'DIS', 'RAD', 'TAX',\n       'PTRATIO', 'B', 'LSTAT', 'MEDV'],\n      dtype='object')"
     },
     "metadata": {},
     "execution_count": 23
    }
   ],
   "source": [
    "data_drop_max.columns"
   ]
  },
  {
   "cell_type": "code",
   "execution_count": 25,
   "metadata": {},
   "outputs": [],
   "source": [
    "dataML = data_drop_max[['CRIM', 'INDUS', 'CHAS', 'NOX', 'RM', 'AGE', 'TAX',\n",
    "       'PTRATIO', 'B', 'LSTAT', 'MEDV']]"
   ]
  },
  {
   "cell_type": "code",
   "execution_count": 26,
   "metadata": {},
   "outputs": [
    {
     "output_type": "display_data",
     "data": {
      "text/plain": "<Figure size 864x576 with 2 Axes>",
      "image/svg+xml": "<?xml version=\"1.0\" encoding=\"utf-8\" standalone=\"no\"?>\r\n<!DOCTYPE svg PUBLIC \"-//W3C//DTD SVG 1.1//EN\"\r\n  \"http://www.w3.org/Graphics/SVG/1.1/DTD/svg11.dtd\">\r\n<!-- Created with matplotlib (https://matplotlib.org/) -->\r\n<svg height=\"481.09875pt\" version=\"1.1\" viewBox=\"0 0 686.425875 481.09875\" width=\"686.425875pt\" xmlns=\"http://www.w3.org/2000/svg\" xmlns:xlink=\"http://www.w3.org/1999/xlink\">\r\n <defs>\r\n  <style type=\"text/css\">\r\n*{stroke-linecap:butt;stroke-linejoin:round;}\r\n  </style>\r\n </defs>\r\n <g id=\"figure_1\">\r\n  <g id=\"patch_1\">\r\n   <path d=\"M 0 481.09875 \r\nL 686.425875 481.09875 \r\nL 686.425875 0 \r\nL 0 0 \r\nz\r\n\" style=\"fill:none;\"/>\r\n  </g>\r\n  <g id=\"axes_1\">\r\n   <g id=\"patch_2\">\r\n    <path d=\"M 57.039063 457.220625 \r\nL 592.719063 457.220625 \r\nL 592.719063 22.340625 \r\nL 57.039063 22.340625 \r\nz\r\n\" style=\"fill:#ffffff;\"/>\r\n   </g>\r\n   <g id=\"QuadMesh_1\">\r\n    <path clip-path=\"url(#p9740bef209)\" d=\"M 57.039063 22.340625 \r\nL 105.737244 22.340625 \r\nL 105.737244 61.87517 \r\nL 57.039063 61.87517 \r\nL 57.039063 22.340625 \r\n\" style=\"fill:#faebdd;\"/>\r\n    <path clip-path=\"url(#p9740bef209)\" d=\"M 105.737244 22.340625 \r\nL 154.435426 22.340625 \r\nL 154.435426 61.87517 \r\nL 105.737244 61.87517 \r\nL 105.737244 22.340625 \r\n\" style=\"fill:#f05e42;\"/>\r\n    <path clip-path=\"url(#p9740bef209)\" d=\"M 154.435426 22.340625 \r\nL 203.133608 22.340625 \r\nL 203.133608 61.87517 \r\nL 154.435426 61.87517 \r\nL 154.435426 22.340625 \r\n\" style=\"fill:#9f1a5b;\"/>\r\n    <path clip-path=\"url(#p9740bef209)\" d=\"M 203.133608 22.340625 \r\nL 251.83179 22.340625 \r\nL 251.83179 61.87517 \r\nL 203.133608 61.87517 \r\nL 203.133608 22.340625 \r\n\" style=\"fill:#f16244;\"/>\r\n    <path clip-path=\"url(#p9740bef209)\" d=\"M 251.83179 22.340625 \r\nL 300.529972 22.340625 \r\nL 300.529972 61.87517 \r\nL 251.83179 61.87517 \r\nL 251.83179 22.340625 \r\n\" style=\"fill:#781f59;\"/>\r\n    <path clip-path=\"url(#p9740bef209)\" d=\"M 300.529972 22.340625 \r\nL 349.228153 22.340625 \r\nL 349.228153 61.87517 \r\nL 300.529972 61.87517 \r\nL 300.529972 22.340625 \r\n\" style=\"fill:#ed4e3e;\"/>\r\n    <path clip-path=\"url(#p9740bef209)\" d=\"M 349.228153 22.340625 \r\nL 397.926335 22.340625 \r\nL 397.926335 61.87517 \r\nL 349.228153 61.87517 \r\nL 349.228153 22.340625 \r\n\" style=\"fill:#f58d64;\"/>\r\n    <path clip-path=\"url(#p9740bef209)\" d=\"M 397.926335 22.340625 \r\nL 446.624517 22.340625 \r\nL 446.624517 61.87517 \r\nL 397.926335 61.87517 \r\nL 397.926335 22.340625 \r\n\" style=\"fill:#e73d3f;\"/>\r\n    <path clip-path=\"url(#p9740bef209)\" d=\"M 446.624517 22.340625 \r\nL 495.322699 22.340625 \r\nL 495.322699 61.87517 \r\nL 446.624517 61.87517 \r\nL 446.624517 22.340625 \r\n\" style=\"fill:#511e4d;\"/>\r\n    <path clip-path=\"url(#p9740bef209)\" d=\"M 495.322699 22.340625 \r\nL 544.020881 22.340625 \r\nL 544.020881 61.87517 \r\nL 495.322699 61.87517 \r\nL 495.322699 22.340625 \r\n\" style=\"fill:#f26d4b;\"/>\r\n    <path clip-path=\"url(#p9740bef209)\" d=\"M 544.020881 22.340625 \r\nL 592.719063 22.340625 \r\nL 592.719063 61.87517 \r\nL 544.020881 61.87517 \r\nL 544.020881 22.340625 \r\n\" style=\"fill:#431c46;\"/>\r\n    <path clip-path=\"url(#p9740bef209)\" d=\"M 57.039063 61.87517 \r\nL 105.737244 61.87517 \r\nL 105.737244 101.409716 \r\nL 57.039063 101.409716 \r\nL 57.039063 61.87517 \r\n\" style=\"fill:#f05e42;\"/>\r\n    <path clip-path=\"url(#p9740bef209)\" d=\"M 105.737244 61.87517 \r\nL 154.435426 61.87517 \r\nL 154.435426 101.409716 \r\nL 105.737244 101.409716 \r\nL 105.737244 61.87517 \r\n\" style=\"fill:#faebdd;\"/>\r\n    <path clip-path=\"url(#p9740bef209)\" d=\"M 154.435426 61.87517 \r\nL 203.133608 61.87517 \r\nL 203.133608 101.409716 \r\nL 154.435426 101.409716 \r\nL 154.435426 61.87517 \r\n\" style=\"fill:#b71657;\"/>\r\n    <path clip-path=\"url(#p9740bef209)\" d=\"M 203.133608 61.87517 \r\nL 251.83179 61.87517 \r\nL 251.83179 101.409716 \r\nL 203.133608 101.409716 \r\nL 203.133608 61.87517 \r\n\" style=\"fill:#f6b893;\"/>\r\n    <path clip-path=\"url(#p9740bef209)\" d=\"M 251.83179 61.87517 \r\nL 300.529972 61.87517 \r\nL 300.529972 101.409716 \r\nL 251.83179 101.409716 \r\nL 251.83179 61.87517 \r\n\" style=\"fill:#4b1d4a;\"/>\r\n    <path clip-path=\"url(#p9740bef209)\" d=\"M 300.529972 61.87517 \r\nL 349.228153 61.87517 \r\nL 349.228153 101.409716 \r\nL 300.529972 101.409716 \r\nL 300.529972 61.87517 \r\n\" style=\"fill:#f69b71;\"/>\r\n    <path clip-path=\"url(#p9740bef209)\" d=\"M 349.228153 61.87517 \r\nL 397.926335 61.87517 \r\nL 397.926335 101.409716 \r\nL 349.228153 101.409716 \r\nL 349.228153 61.87517 \r\n\" style=\"fill:#f6ad85;\"/>\r\n    <path clip-path=\"url(#p9740bef209)\" d=\"M 397.926335 61.87517 \r\nL 446.624517 61.87517 \r\nL 446.624517 101.409716 \r\nL 397.926335 101.409716 \r\nL 397.926335 61.87517 \r\n\" style=\"fill:#ef5840;\"/>\r\n    <path clip-path=\"url(#p9740bef209)\" d=\"M 446.624517 61.87517 \r\nL 495.322699 61.87517 \r\nL 495.322699 101.409716 \r\nL 446.624517 101.409716 \r\nL 446.624517 61.87517 \r\n\" style=\"fill:#561e4f;\"/>\r\n    <path clip-path=\"url(#p9740bef209)\" d=\"M 495.322699 61.87517 \r\nL 544.020881 61.87517 \r\nL 544.020881 101.409716 \r\nL 495.322699 101.409716 \r\nL 495.322699 61.87517 \r\n\" style=\"fill:#f69b71;\"/>\r\n    <path clip-path=\"url(#p9740bef209)\" d=\"M 544.020881 61.87517 \r\nL 592.719063 61.87517 \r\nL 592.719063 101.409716 \r\nL 544.020881 101.409716 \r\nL 544.020881 61.87517 \r\n\" style=\"fill:#221331;\"/>\r\n    <path clip-path=\"url(#p9740bef209)\" d=\"M 57.039063 101.409716 \r\nL 105.737244 101.409716 \r\nL 105.737244 140.944261 \r\nL 57.039063 140.944261 \r\nL 57.039063 101.409716 \r\n\" style=\"fill:#9f1a5b;\"/>\r\n    <path clip-path=\"url(#p9740bef209)\" d=\"M 105.737244 101.409716 \r\nL 154.435426 101.409716 \r\nL 154.435426 140.944261 \r\nL 105.737244 140.944261 \r\nL 105.737244 101.409716 \r\n\" style=\"fill:#b71657;\"/>\r\n    <path clip-path=\"url(#p9740bef209)\" d=\"M 154.435426 101.409716 \r\nL 203.133608 101.409716 \r\nL 203.133608 140.944261 \r\nL 154.435426 140.944261 \r\nL 154.435426 101.409716 \r\n\" style=\"fill:#faebdd;\"/>\r\n    <path clip-path=\"url(#p9740bef209)\" d=\"M 203.133608 101.409716 \r\nL 251.83179 101.409716 \r\nL 251.83179 140.944261 \r\nL 203.133608 140.944261 \r\nL 203.133608 101.409716 \r\n\" style=\"fill:#c21753;\"/>\r\n    <path clip-path=\"url(#p9740bef209)\" d=\"M 251.83179 101.409716 \r\nL 300.529972 101.409716 \r\nL 300.529972 140.944261 \r\nL 251.83179 140.944261 \r\nL 251.83179 101.409716 \r\n\" style=\"fill:#ba1656;\"/>\r\n    <path clip-path=\"url(#p9740bef209)\" d=\"M 300.529972 101.409716 \r\nL 349.228153 101.409716 \r\nL 349.228153 140.944261 \r\nL 300.529972 140.944261 \r\nL 300.529972 101.409716 \r\n\" style=\"fill:#bf1654;\"/>\r\n    <path clip-path=\"url(#p9740bef209)\" d=\"M 349.228153 101.409716 \r\nL 397.926335 101.409716 \r\nL 397.926335 140.944261 \r\nL 349.228153 140.944261 \r\nL 349.228153 101.409716 \r\n\" style=\"fill:#9e1a5b;\"/>\r\n    <path clip-path=\"url(#p9740bef209)\" d=\"M 397.926335 101.409716 \r\nL 446.624517 101.409716 \r\nL 446.624517 140.944261 \r\nL 397.926335 140.944261 \r\nL 397.926335 101.409716 \r\n\" style=\"fill:#921c5b;\"/>\r\n    <path clip-path=\"url(#p9740bef209)\" d=\"M 446.624517 101.409716 \r\nL 495.322699 101.409716 \r\nL 495.322699 140.944261 \r\nL 446.624517 140.944261 \r\nL 446.624517 101.409716 \r\n\" style=\"fill:#b91657;\"/>\r\n    <path clip-path=\"url(#p9740bef209)\" d=\"M 495.322699 101.409716 \r\nL 544.020881 101.409716 \r\nL 544.020881 140.944261 \r\nL 495.322699 140.944261 \r\nL 495.322699 101.409716 \r\n\" style=\"fill:#ad1759;\"/>\r\n    <path clip-path=\"url(#p9740bef209)\" d=\"M 544.020881 101.409716 \r\nL 592.719063 101.409716 \r\nL 592.719063 140.944261 \r\nL 544.020881 140.944261 \r\nL 544.020881 101.409716 \r\n\" style=\"fill:#c11754;\"/>\r\n    <path clip-path=\"url(#p9740bef209)\" d=\"M 57.039063 140.944261 \r\nL 105.737244 140.944261 \r\nL 105.737244 180.478807 \r\nL 57.039063 180.478807 \r\nL 57.039063 140.944261 \r\n\" style=\"fill:#f16244;\"/>\r\n    <path clip-path=\"url(#p9740bef209)\" d=\"M 105.737244 140.944261 \r\nL 154.435426 140.944261 \r\nL 154.435426 180.478807 \r\nL 105.737244 180.478807 \r\nL 105.737244 140.944261 \r\n\" style=\"fill:#f6b893;\"/>\r\n    <path clip-path=\"url(#p9740bef209)\" d=\"M 154.435426 140.944261 \r\nL 203.133608 140.944261 \r\nL 203.133608 180.478807 \r\nL 154.435426 180.478807 \r\nL 154.435426 140.944261 \r\n\" style=\"fill:#c21753;\"/>\r\n    <path clip-path=\"url(#p9740bef209)\" d=\"M 203.133608 140.944261 \r\nL 251.83179 140.944261 \r\nL 251.83179 180.478807 \r\nL 203.133608 180.478807 \r\nL 203.133608 140.944261 \r\n\" style=\"fill:#faebdd;\"/>\r\n    <path clip-path=\"url(#p9740bef209)\" d=\"M 251.83179 140.944261 \r\nL 300.529972 140.944261 \r\nL 300.529972 180.478807 \r\nL 251.83179 180.478807 \r\nL 251.83179 140.944261 \r\n\" style=\"fill:#601f52;\"/>\r\n    <path clip-path=\"url(#p9740bef209)\" d=\"M 300.529972 140.944261 \r\nL 349.228153 140.944261 \r\nL 349.228153 180.478807 \r\nL 300.529972 180.478807 \r\nL 300.529972 140.944261 \r\n\" style=\"fill:#f6b089;\"/>\r\n    <path clip-path=\"url(#p9740bef209)\" d=\"M 349.228153 140.944261 \r\nL 397.926335 140.944261 \r\nL 397.926335 180.478807 \r\nL 349.228153 180.478807 \r\nL 349.228153 140.944261 \r\n\" style=\"fill:#f6a178;\"/>\r\n    <path clip-path=\"url(#p9740bef209)\" d=\"M 397.926335 140.944261 \r\nL 446.624517 140.944261 \r\nL 446.624517 180.478807 \r\nL 397.926335 180.478807 \r\nL 397.926335 140.944261 \r\n\" style=\"fill:#d72549;\"/>\r\n    <path clip-path=\"url(#p9740bef209)\" d=\"M 446.624517 140.944261 \r\nL 495.322699 140.944261 \r\nL 495.322699 180.478807 \r\nL 446.624517 180.478807 \r\nL 446.624517 140.944261 \r\n\" style=\"fill:#511e4d;\"/>\r\n    <path clip-path=\"url(#p9740bef209)\" d=\"M 495.322699 140.944261 \r\nL 544.020881 140.944261 \r\nL 544.020881 180.478807 \r\nL 495.322699 180.478807 \r\nL 495.322699 140.944261 \r\n\" style=\"fill:#f5946b;\"/>\r\n    <path clip-path=\"url(#p9740bef209)\" d=\"M 544.020881 140.944261 \r\nL 592.719063 140.944261 \r\nL 592.719063 180.478807 \r\nL 544.020881 180.478807 \r\nL 544.020881 140.944261 \r\n\" style=\"fill:#33183c;\"/>\r\n    <path clip-path=\"url(#p9740bef209)\" d=\"M 57.039063 180.478807 \r\nL 105.737244 180.478807 \r\nL 105.737244 220.013352 \r\nL 57.039063 220.013352 \r\nL 57.039063 180.478807 \r\n\" style=\"fill:#781f59;\"/>\r\n    <path clip-path=\"url(#p9740bef209)\" d=\"M 105.737244 180.478807 \r\nL 154.435426 180.478807 \r\nL 154.435426 220.013352 \r\nL 105.737244 220.013352 \r\nL 105.737244 180.478807 \r\n\" style=\"fill:#4b1d4a;\"/>\r\n    <path clip-path=\"url(#p9740bef209)\" d=\"M 154.435426 180.478807 \r\nL 203.133608 180.478807 \r\nL 203.133608 220.013352 \r\nL 154.435426 220.013352 \r\nL 154.435426 180.478807 \r\n\" style=\"fill:#ba1656;\"/>\r\n    <path clip-path=\"url(#p9740bef209)\" d=\"M 203.133608 180.478807 \r\nL 251.83179 180.478807 \r\nL 251.83179 220.013352 \r\nL 203.133608 220.013352 \r\nL 203.133608 180.478807 \r\n\" style=\"fill:#601f52;\"/>\r\n    <path clip-path=\"url(#p9740bef209)\" d=\"M 251.83179 180.478807 \r\nL 300.529972 180.478807 \r\nL 300.529972 220.013352 \r\nL 251.83179 220.013352 \r\nL 251.83179 180.478807 \r\n\" style=\"fill:#faebdd;\"/>\r\n    <path clip-path=\"url(#p9740bef209)\" d=\"M 300.529972 180.478807 \r\nL 349.228153 180.478807 \r\nL 349.228153 220.013352 \r\nL 300.529972 220.013352 \r\nL 300.529972 180.478807 \r\n\" style=\"fill:#6d1f56;\"/>\r\n    <path clip-path=\"url(#p9740bef209)\" d=\"M 349.228153 180.478807 \r\nL 397.926335 180.478807 \r\nL 397.926335 220.013352 \r\nL 349.228153 220.013352 \r\nL 349.228153 180.478807 \r\n\" style=\"fill:#691f55;\"/>\r\n    <path clip-path=\"url(#p9740bef209)\" d=\"M 397.926335 180.478807 \r\nL 446.624517 180.478807 \r\nL 446.624517 220.013352 \r\nL 397.926335 220.013352 \r\nL 397.926335 180.478807 \r\n\" style=\"fill:#661f54;\"/>\r\n    <path clip-path=\"url(#p9740bef209)\" d=\"M 446.624517 180.478807 \r\nL 495.322699 180.478807 \r\nL 495.322699 220.013352 \r\nL 446.624517 220.013352 \r\nL 446.624517 180.478807 \r\n\" style=\"fill:#ca1a50;\"/>\r\n    <path clip-path=\"url(#p9740bef209)\" d=\"M 495.322699 180.478807 \r\nL 544.020881 180.478807 \r\nL 544.020881 220.013352 \r\nL 495.322699 220.013352 \r\nL 495.322699 180.478807 \r\n\" style=\"fill:#20122e;\"/>\r\n    <path clip-path=\"url(#p9740bef209)\" d=\"M 544.020881 180.478807 \r\nL 592.719063 180.478807 \r\nL 592.719063 220.013352 \r\nL 544.020881 220.013352 \r\nL 544.020881 180.478807 \r\n\" style=\"fill:#f6a67e;\"/>\r\n    <path clip-path=\"url(#p9740bef209)\" d=\"M 57.039063 220.013352 \r\nL 105.737244 220.013352 \r\nL 105.737244 259.547898 \r\nL 57.039063 259.547898 \r\nL 57.039063 220.013352 \r\n\" style=\"fill:#ed4e3e;\"/>\r\n    <path clip-path=\"url(#p9740bef209)\" d=\"M 105.737244 220.013352 \r\nL 154.435426 220.013352 \r\nL 154.435426 259.547898 \r\nL 105.737244 259.547898 \r\nL 105.737244 220.013352 \r\n\" style=\"fill:#f69b71;\"/>\r\n    <path clip-path=\"url(#p9740bef209)\" d=\"M 154.435426 220.013352 \r\nL 203.133608 220.013352 \r\nL 203.133608 259.547898 \r\nL 154.435426 259.547898 \r\nL 154.435426 220.013352 \r\n\" style=\"fill:#bf1654;\"/>\r\n    <path clip-path=\"url(#p9740bef209)\" d=\"M 203.133608 220.013352 \r\nL 251.83179 220.013352 \r\nL 251.83179 259.547898 \r\nL 203.133608 259.547898 \r\nL 203.133608 220.013352 \r\n\" style=\"fill:#f6b089;\"/>\r\n    <path clip-path=\"url(#p9740bef209)\" d=\"M 251.83179 220.013352 \r\nL 300.529972 220.013352 \r\nL 300.529972 259.547898 \r\nL 251.83179 259.547898 \r\nL 251.83179 220.013352 \r\n\" style=\"fill:#6d1f56;\"/>\r\n    <path clip-path=\"url(#p9740bef209)\" d=\"M 300.529972 220.013352 \r\nL 349.228153 220.013352 \r\nL 349.228153 259.547898 \r\nL 300.529972 259.547898 \r\nL 300.529972 220.013352 \r\n\" style=\"fill:#faebdd;\"/>\r\n    <path clip-path=\"url(#p9740bef209)\" d=\"M 349.228153 220.013352 \r\nL 397.926335 220.013352 \r\nL 397.926335 259.547898 \r\nL 349.228153 259.547898 \r\nL 349.228153 220.013352 \r\n\" style=\"fill:#f37852;\"/>\r\n    <path clip-path=\"url(#p9740bef209)\" d=\"M 397.926335 220.013352 \r\nL 446.624517 220.013352 \r\nL 446.624517 259.547898 \r\nL 397.926335 259.547898 \r\nL 397.926335 220.013352 \r\n\" style=\"fill:#e43841;\"/>\r\n    <path clip-path=\"url(#p9740bef209)\" d=\"M 446.624517 220.013352 \r\nL 495.322699 220.013352 \r\nL 495.322699 259.547898 \r\nL 446.624517 259.547898 \r\nL 446.624517 220.013352 \r\n\" style=\"fill:#691f55;\"/>\r\n    <path clip-path=\"url(#p9740bef209)\" d=\"M 495.322699 220.013352 \r\nL 544.020881 220.013352 \r\nL 544.020881 259.547898 \r\nL 495.322699 259.547898 \r\nL 495.322699 220.013352 \r\n\" style=\"fill:#f69b71;\"/>\r\n    <path clip-path=\"url(#p9740bef209)\" d=\"M 544.020881 220.013352 \r\nL 592.719063 220.013352 \r\nL 592.719063 259.547898 \r\nL 544.020881 259.547898 \r\nL 544.020881 220.013352 \r\n\" style=\"fill:#381a40;\"/>\r\n    <path clip-path=\"url(#p9740bef209)\" d=\"M 57.039063 259.547898 \r\nL 105.737244 259.547898 \r\nL 105.737244 299.082443 \r\nL 57.039063 299.082443 \r\nL 57.039063 259.547898 \r\n\" style=\"fill:#f58d64;\"/>\r\n    <path clip-path=\"url(#p9740bef209)\" d=\"M 105.737244 259.547898 \r\nL 154.435426 259.547898 \r\nL 154.435426 299.082443 \r\nL 105.737244 299.082443 \r\nL 105.737244 259.547898 \r\n\" style=\"fill:#f6ad85;\"/>\r\n    <path clip-path=\"url(#p9740bef209)\" d=\"M 154.435426 259.547898 \r\nL 203.133608 259.547898 \r\nL 203.133608 299.082443 \r\nL 154.435426 299.082443 \r\nL 154.435426 259.547898 \r\n\" style=\"fill:#9e1a5b;\"/>\r\n    <path clip-path=\"url(#p9740bef209)\" d=\"M 203.133608 259.547898 \r\nL 251.83179 259.547898 \r\nL 251.83179 299.082443 \r\nL 203.133608 299.082443 \r\nL 203.133608 259.547898 \r\n\" style=\"fill:#f6a178;\"/>\r\n    <path clip-path=\"url(#p9740bef209)\" d=\"M 251.83179 259.547898 \r\nL 300.529972 259.547898 \r\nL 300.529972 299.082443 \r\nL 251.83179 299.082443 \r\nL 251.83179 259.547898 \r\n\" style=\"fill:#691f55;\"/>\r\n    <path clip-path=\"url(#p9740bef209)\" d=\"M 300.529972 259.547898 \r\nL 349.228153 259.547898 \r\nL 349.228153 299.082443 \r\nL 300.529972 299.082443 \r\nL 300.529972 259.547898 \r\n\" style=\"fill:#f37852;\"/>\r\n    <path clip-path=\"url(#p9740bef209)\" d=\"M 349.228153 259.547898 \r\nL 397.926335 259.547898 \r\nL 397.926335 299.082443 \r\nL 349.228153 299.082443 \r\nL 349.228153 259.547898 \r\n\" style=\"fill:#faebdd;\"/>\r\n    <path clip-path=\"url(#p9740bef209)\" d=\"M 397.926335 259.547898 \r\nL 446.624517 259.547898 \r\nL 446.624517 299.082443 \r\nL 397.926335 299.082443 \r\nL 397.926335 259.547898 \r\n\" style=\"fill:#f26b49;\"/>\r\n    <path clip-path=\"url(#p9740bef209)\" d=\"M 446.624517 259.547898 \r\nL 495.322699 259.547898 \r\nL 495.322699 299.082443 \r\nL 446.624517 299.082443 \r\nL 446.624517 259.547898 \r\n\" style=\"fill:#431c46;\"/>\r\n    <path clip-path=\"url(#p9740bef209)\" d=\"M 495.322699 259.547898 \r\nL 544.020881 259.547898 \r\nL 544.020881 299.082443 \r\nL 495.322699 299.082443 \r\nL 495.322699 259.547898 \r\n\" style=\"fill:#f58860;\"/>\r\n    <path clip-path=\"url(#p9740bef209)\" d=\"M 544.020881 259.547898 \r\nL 592.719063 259.547898 \r\nL 592.719063 299.082443 \r\nL 544.020881 299.082443 \r\nL 544.020881 259.547898 \r\n\" style=\"fill:#281535;\"/>\r\n    <path clip-path=\"url(#p9740bef209)\" d=\"M 57.039063 299.082443 \r\nL 105.737244 299.082443 \r\nL 105.737244 338.616989 \r\nL 57.039063 338.616989 \r\nL 57.039063 299.082443 \r\n\" style=\"fill:#e73d3f;\"/>\r\n    <path clip-path=\"url(#p9740bef209)\" d=\"M 105.737244 299.082443 \r\nL 154.435426 299.082443 \r\nL 154.435426 338.616989 \r\nL 105.737244 338.616989 \r\nL 105.737244 299.082443 \r\n\" style=\"fill:#ef5840;\"/>\r\n    <path clip-path=\"url(#p9740bef209)\" d=\"M 154.435426 299.082443 \r\nL 203.133608 299.082443 \r\nL 203.133608 338.616989 \r\nL 154.435426 338.616989 \r\nL 154.435426 299.082443 \r\n\" style=\"fill:#921c5b;\"/>\r\n    <path clip-path=\"url(#p9740bef209)\" d=\"M 203.133608 299.082443 \r\nL 251.83179 299.082443 \r\nL 251.83179 338.616989 \r\nL 203.133608 338.616989 \r\nL 203.133608 299.082443 \r\n\" style=\"fill:#d72549;\"/>\r\n    <path clip-path=\"url(#p9740bef209)\" d=\"M 251.83179 299.082443 \r\nL 300.529972 299.082443 \r\nL 300.529972 338.616989 \r\nL 251.83179 338.616989 \r\nL 251.83179 299.082443 \r\n\" style=\"fill:#661f54;\"/>\r\n    <path clip-path=\"url(#p9740bef209)\" d=\"M 300.529972 299.082443 \r\nL 349.228153 299.082443 \r\nL 349.228153 338.616989 \r\nL 300.529972 338.616989 \r\nL 300.529972 299.082443 \r\n\" style=\"fill:#e43841;\"/>\r\n    <path clip-path=\"url(#p9740bef209)\" d=\"M 349.228153 299.082443 \r\nL 397.926335 299.082443 \r\nL 397.926335 338.616989 \r\nL 349.228153 338.616989 \r\nL 349.228153 299.082443 \r\n\" style=\"fill:#f26b49;\"/>\r\n    <path clip-path=\"url(#p9740bef209)\" d=\"M 397.926335 299.082443 \r\nL 446.624517 299.082443 \r\nL 446.624517 338.616989 \r\nL 397.926335 338.616989 \r\nL 397.926335 299.082443 \r\n\" style=\"fill:#faebdd;\"/>\r\n    <path clip-path=\"url(#p9740bef209)\" d=\"M 446.624517 299.082443 \r\nL 495.322699 299.082443 \r\nL 495.322699 338.616989 \r\nL 446.624517 338.616989 \r\nL 446.624517 299.082443 \r\n\" style=\"fill:#841e5a;\"/>\r\n    <path clip-path=\"url(#p9740bef209)\" d=\"M 495.322699 299.082443 \r\nL 544.020881 299.082443 \r\nL 544.020881 338.616989 \r\nL 495.322699 338.616989 \r\nL 495.322699 299.082443 \r\n\" style=\"fill:#ed503e;\"/>\r\n    <path clip-path=\"url(#p9740bef209)\" d=\"M 544.020881 299.082443 \r\nL 592.719063 299.082443 \r\nL 592.719063 338.616989 \r\nL 544.020881 338.616989 \r\nL 544.020881 299.082443 \r\n\" style=\"fill:#34193d;\"/>\r\n    <path clip-path=\"url(#p9740bef209)\" d=\"M 57.039063 338.616989 \r\nL 105.737244 338.616989 \r\nL 105.737244 378.151534 \r\nL 57.039063 378.151534 \r\nL 57.039063 338.616989 \r\n\" style=\"fill:#511e4d;\"/>\r\n    <path clip-path=\"url(#p9740bef209)\" d=\"M 105.737244 338.616989 \r\nL 154.435426 338.616989 \r\nL 154.435426 378.151534 \r\nL 105.737244 378.151534 \r\nL 105.737244 338.616989 \r\n\" style=\"fill:#561e4f;\"/>\r\n    <path clip-path=\"url(#p9740bef209)\" d=\"M 154.435426 338.616989 \r\nL 203.133608 338.616989 \r\nL 203.133608 378.151534 \r\nL 154.435426 378.151534 \r\nL 154.435426 338.616989 \r\n\" style=\"fill:#b91657;\"/>\r\n    <path clip-path=\"url(#p9740bef209)\" d=\"M 203.133608 338.616989 \r\nL 251.83179 338.616989 \r\nL 251.83179 378.151534 \r\nL 203.133608 378.151534 \r\nL 203.133608 338.616989 \r\n\" style=\"fill:#511e4d;\"/>\r\n    <path clip-path=\"url(#p9740bef209)\" d=\"M 251.83179 338.616989 \r\nL 300.529972 338.616989 \r\nL 300.529972 378.151534 \r\nL 251.83179 378.151534 \r\nL 251.83179 338.616989 \r\n\" style=\"fill:#ca1a50;\"/>\r\n    <path clip-path=\"url(#p9740bef209)\" d=\"M 300.529972 338.616989 \r\nL 349.228153 338.616989 \r\nL 349.228153 378.151534 \r\nL 300.529972 378.151534 \r\nL 300.529972 338.616989 \r\n\" style=\"fill:#691f55;\"/>\r\n    <path clip-path=\"url(#p9740bef209)\" d=\"M 349.228153 338.616989 \r\nL 397.926335 338.616989 \r\nL 397.926335 378.151534 \r\nL 349.228153 378.151534 \r\nL 349.228153 338.616989 \r\n\" style=\"fill:#431c46;\"/>\r\n    <path clip-path=\"url(#p9740bef209)\" d=\"M 397.926335 338.616989 \r\nL 446.624517 338.616989 \r\nL 446.624517 378.151534 \r\nL 397.926335 378.151534 \r\nL 397.926335 338.616989 \r\n\" style=\"fill:#841e5a;\"/>\r\n    <path clip-path=\"url(#p9740bef209)\" d=\"M 446.624517 338.616989 \r\nL 495.322699 338.616989 \r\nL 495.322699 378.151534 \r\nL 446.624517 378.151534 \r\nL 446.624517 338.616989 \r\n\" style=\"fill:#faebdd;\"/>\r\n    <path clip-path=\"url(#p9740bef209)\" d=\"M 495.322699 338.616989 \r\nL 544.020881 338.616989 \r\nL 544.020881 378.151534 \r\nL 495.322699 378.151534 \r\nL 495.322699 338.616989 \r\n\" style=\"fill:#561e4f;\"/>\r\n    <path clip-path=\"url(#p9740bef209)\" d=\"M 544.020881 338.616989 \r\nL 592.719063 338.616989 \r\nL 592.719063 378.151534 \r\nL 544.020881 378.151534 \r\nL 544.020881 338.616989 \r\n\" style=\"fill:#ee523f;\"/>\r\n    <path clip-path=\"url(#p9740bef209)\" d=\"M 57.039063 378.151534 \r\nL 105.737244 378.151534 \r\nL 105.737244 417.68608 \r\nL 57.039063 417.68608 \r\nL 57.039063 378.151534 \r\n\" style=\"fill:#f26d4b;\"/>\r\n    <path clip-path=\"url(#p9740bef209)\" d=\"M 105.737244 378.151534 \r\nL 154.435426 378.151534 \r\nL 154.435426 417.68608 \r\nL 105.737244 417.68608 \r\nL 105.737244 378.151534 \r\n\" style=\"fill:#f69b71;\"/>\r\n    <path clip-path=\"url(#p9740bef209)\" d=\"M 154.435426 378.151534 \r\nL 203.133608 378.151534 \r\nL 203.133608 417.68608 \r\nL 154.435426 417.68608 \r\nL 154.435426 378.151534 \r\n\" style=\"fill:#ad1759;\"/>\r\n    <path clip-path=\"url(#p9740bef209)\" d=\"M 203.133608 378.151534 \r\nL 251.83179 378.151534 \r\nL 251.83179 417.68608 \r\nL 203.133608 417.68608 \r\nL 203.133608 378.151534 \r\n\" style=\"fill:#f5946b;\"/>\r\n    <path clip-path=\"url(#p9740bef209)\" d=\"M 251.83179 378.151534 \r\nL 300.529972 378.151534 \r\nL 300.529972 417.68608 \r\nL 251.83179 417.68608 \r\nL 251.83179 378.151534 \r\n\" style=\"fill:#20122e;\"/>\r\n    <path clip-path=\"url(#p9740bef209)\" d=\"M 300.529972 378.151534 \r\nL 349.228153 378.151534 \r\nL 349.228153 417.68608 \r\nL 300.529972 417.68608 \r\nL 300.529972 378.151534 \r\n\" style=\"fill:#f69b71;\"/>\r\n    <path clip-path=\"url(#p9740bef209)\" d=\"M 349.228153 378.151534 \r\nL 397.926335 378.151534 \r\nL 397.926335 417.68608 \r\nL 349.228153 417.68608 \r\nL 349.228153 378.151534 \r\n\" style=\"fill:#f58860;\"/>\r\n    <path clip-path=\"url(#p9740bef209)\" d=\"M 397.926335 378.151534 \r\nL 446.624517 378.151534 \r\nL 446.624517 417.68608 \r\nL 397.926335 417.68608 \r\nL 397.926335 378.151534 \r\n\" style=\"fill:#ed503e;\"/>\r\n    <path clip-path=\"url(#p9740bef209)\" d=\"M 446.624517 378.151534 \r\nL 495.322699 378.151534 \r\nL 495.322699 417.68608 \r\nL 446.624517 417.68608 \r\nL 446.624517 378.151534 \r\n\" style=\"fill:#561e4f;\"/>\r\n    <path clip-path=\"url(#p9740bef209)\" d=\"M 495.322699 378.151534 \r\nL 544.020881 378.151534 \r\nL 544.020881 417.68608 \r\nL 495.322699 417.68608 \r\nL 495.322699 378.151534 \r\n\" style=\"fill:#faebdd;\"/>\r\n    <path clip-path=\"url(#p9740bef209)\" d=\"M 544.020881 378.151534 \r\nL 592.719063 378.151534 \r\nL 592.719063 417.68608 \r\nL 544.020881 417.68608 \r\nL 544.020881 378.151534 \r\n\" style=\"fill:#03051a;\"/>\r\n    <path clip-path=\"url(#p9740bef209)\" d=\"M 57.039063 417.68608 \r\nL 105.737244 417.68608 \r\nL 105.737244 457.220625 \r\nL 57.039063 457.220625 \r\nL 57.039063 417.68608 \r\n\" style=\"fill:#431c46;\"/>\r\n    <path clip-path=\"url(#p9740bef209)\" d=\"M 105.737244 417.68608 \r\nL 154.435426 417.68608 \r\nL 154.435426 457.220625 \r\nL 105.737244 457.220625 \r\nL 105.737244 417.68608 \r\n\" style=\"fill:#221331;\"/>\r\n    <path clip-path=\"url(#p9740bef209)\" d=\"M 154.435426 417.68608 \r\nL 203.133608 417.68608 \r\nL 203.133608 457.220625 \r\nL 154.435426 457.220625 \r\nL 154.435426 417.68608 \r\n\" style=\"fill:#c11754;\"/>\r\n    <path clip-path=\"url(#p9740bef209)\" d=\"M 203.133608 417.68608 \r\nL 251.83179 417.68608 \r\nL 251.83179 457.220625 \r\nL 203.133608 457.220625 \r\nL 203.133608 417.68608 \r\n\" style=\"fill:#33183c;\"/>\r\n    <path clip-path=\"url(#p9740bef209)\" d=\"M 251.83179 417.68608 \r\nL 300.529972 417.68608 \r\nL 300.529972 457.220625 \r\nL 251.83179 457.220625 \r\nL 251.83179 417.68608 \r\n\" style=\"fill:#f6a67e;\"/>\r\n    <path clip-path=\"url(#p9740bef209)\" d=\"M 300.529972 417.68608 \r\nL 349.228153 417.68608 \r\nL 349.228153 457.220625 \r\nL 300.529972 457.220625 \r\nL 300.529972 417.68608 \r\n\" style=\"fill:#381a40;\"/>\r\n    <path clip-path=\"url(#p9740bef209)\" d=\"M 349.228153 417.68608 \r\nL 397.926335 417.68608 \r\nL 397.926335 457.220625 \r\nL 349.228153 457.220625 \r\nL 349.228153 417.68608 \r\n\" style=\"fill:#281535;\"/>\r\n    <path clip-path=\"url(#p9740bef209)\" d=\"M 397.926335 417.68608 \r\nL 446.624517 417.68608 \r\nL 446.624517 457.220625 \r\nL 397.926335 457.220625 \r\nL 397.926335 417.68608 \r\n\" style=\"fill:#34193d;\"/>\r\n    <path clip-path=\"url(#p9740bef209)\" d=\"M 446.624517 417.68608 \r\nL 495.322699 417.68608 \r\nL 495.322699 457.220625 \r\nL 446.624517 457.220625 \r\nL 446.624517 417.68608 \r\n\" style=\"fill:#ee523f;\"/>\r\n    <path clip-path=\"url(#p9740bef209)\" d=\"M 495.322699 417.68608 \r\nL 544.020881 417.68608 \r\nL 544.020881 457.220625 \r\nL 495.322699 457.220625 \r\nL 495.322699 417.68608 \r\n\" style=\"fill:#03051a;\"/>\r\n    <path clip-path=\"url(#p9740bef209)\" d=\"M 544.020881 417.68608 \r\nL 592.719063 417.68608 \r\nL 592.719063 457.220625 \r\nL 544.020881 457.220625 \r\nL 544.020881 417.68608 \r\n\" style=\"fill:#faebdd;\"/>\r\n   </g>\r\n   <g id=\"matplotlib.axis_1\">\r\n    <g id=\"xtick_1\">\r\n     <g id=\"line2d_1\">\r\n      <defs>\r\n       <path d=\"M 0 0 \r\nL 0 3.5 \r\n\" id=\"m90699257d3\" style=\"stroke:#000000;stroke-width:0.8;\"/>\r\n      </defs>\r\n      <g>\r\n       <use style=\"stroke:#000000;stroke-width:0.8;\" x=\"81.388153\" xlink:href=\"#m90699257d3\" y=\"457.220625\"/>\r\n      </g>\r\n     </g>\r\n     <g id=\"text_1\">\r\n      <!-- CRIM -->\r\n      <defs>\r\n       <path d=\"M 64.40625 67.28125 \r\nL 64.40625 56.890625 \r\nQ 59.421875 61.53125 53.78125 63.8125 \r\nQ 48.140625 66.109375 41.796875 66.109375 \r\nQ 29.296875 66.109375 22.65625 58.46875 \r\nQ 16.015625 50.828125 16.015625 36.375 \r\nQ 16.015625 21.96875 22.65625 14.328125 \r\nQ 29.296875 6.6875 41.796875 6.6875 \r\nQ 48.140625 6.6875 53.78125 8.984375 \r\nQ 59.421875 11.28125 64.40625 15.921875 \r\nL 64.40625 5.609375 \r\nQ 59.234375 2.09375 53.4375 0.328125 \r\nQ 47.65625 -1.421875 41.21875 -1.421875 \r\nQ 24.65625 -1.421875 15.125 8.703125 \r\nQ 5.609375 18.84375 5.609375 36.375 \r\nQ 5.609375 53.953125 15.125 64.078125 \r\nQ 24.65625 74.21875 41.21875 74.21875 \r\nQ 47.75 74.21875 53.53125 72.484375 \r\nQ 59.328125 70.75 64.40625 67.28125 \r\nz\r\n\" id=\"DejaVuSans-67\"/>\r\n       <path d=\"M 44.390625 34.1875 \r\nQ 47.5625 33.109375 50.5625 29.59375 \r\nQ 53.5625 26.078125 56.59375 19.921875 \r\nL 66.609375 0 \r\nL 56 0 \r\nL 46.6875 18.703125 \r\nQ 43.0625 26.03125 39.671875 28.421875 \r\nQ 36.28125 30.8125 30.421875 30.8125 \r\nL 19.671875 30.8125 \r\nL 19.671875 0 \r\nL 9.8125 0 \r\nL 9.8125 72.90625 \r\nL 32.078125 72.90625 \r\nQ 44.578125 72.90625 50.734375 67.671875 \r\nQ 56.890625 62.453125 56.890625 51.90625 \r\nQ 56.890625 45.015625 53.6875 40.46875 \r\nQ 50.484375 35.9375 44.390625 34.1875 \r\nz\r\nM 19.671875 64.796875 \r\nL 19.671875 38.921875 \r\nL 32.078125 38.921875 \r\nQ 39.203125 38.921875 42.84375 42.21875 \r\nQ 46.484375 45.515625 46.484375 51.90625 \r\nQ 46.484375 58.296875 42.84375 61.546875 \r\nQ 39.203125 64.796875 32.078125 64.796875 \r\nz\r\n\" id=\"DejaVuSans-82\"/>\r\n       <path d=\"M 9.8125 72.90625 \r\nL 19.671875 72.90625 \r\nL 19.671875 0 \r\nL 9.8125 0 \r\nz\r\n\" id=\"DejaVuSans-73\"/>\r\n       <path d=\"M 9.8125 72.90625 \r\nL 24.515625 72.90625 \r\nL 43.109375 23.296875 \r\nL 61.8125 72.90625 \r\nL 76.515625 72.90625 \r\nL 76.515625 0 \r\nL 66.890625 0 \r\nL 66.890625 64.015625 \r\nL 48.09375 14.015625 \r\nL 38.1875 14.015625 \r\nL 19.390625 64.015625 \r\nL 19.390625 0 \r\nL 9.8125 0 \r\nz\r\n\" id=\"DejaVuSans-77\"/>\r\n      </defs>\r\n      <g transform=\"translate(68.633466 471.819062)scale(0.1 -0.1)\">\r\n       <use xlink:href=\"#DejaVuSans-67\"/>\r\n       <use x=\"69.824219\" xlink:href=\"#DejaVuSans-82\"/>\r\n       <use x=\"139.306641\" xlink:href=\"#DejaVuSans-73\"/>\r\n       <use x=\"168.798828\" xlink:href=\"#DejaVuSans-77\"/>\r\n      </g>\r\n     </g>\r\n    </g>\r\n    <g id=\"xtick_2\">\r\n     <g id=\"line2d_2\">\r\n      <g>\r\n       <use style=\"stroke:#000000;stroke-width:0.8;\" x=\"130.086335\" xlink:href=\"#m90699257d3\" y=\"457.220625\"/>\r\n      </g>\r\n     </g>\r\n     <g id=\"text_2\">\r\n      <!-- INDUS -->\r\n      <defs>\r\n       <path d=\"M 9.8125 72.90625 \r\nL 23.09375 72.90625 \r\nL 55.421875 11.921875 \r\nL 55.421875 72.90625 \r\nL 64.984375 72.90625 \r\nL 64.984375 0 \r\nL 51.703125 0 \r\nL 19.390625 60.984375 \r\nL 19.390625 0 \r\nL 9.8125 0 \r\nz\r\n\" id=\"DejaVuSans-78\"/>\r\n       <path d=\"M 19.671875 64.796875 \r\nL 19.671875 8.109375 \r\nL 31.59375 8.109375 \r\nQ 46.6875 8.109375 53.6875 14.9375 \r\nQ 60.6875 21.78125 60.6875 36.53125 \r\nQ 60.6875 51.171875 53.6875 57.984375 \r\nQ 46.6875 64.796875 31.59375 64.796875 \r\nz\r\nM 9.8125 72.90625 \r\nL 30.078125 72.90625 \r\nQ 51.265625 72.90625 61.171875 64.09375 \r\nQ 71.09375 55.28125 71.09375 36.53125 \r\nQ 71.09375 17.671875 61.125 8.828125 \r\nQ 51.171875 0 30.078125 0 \r\nL 9.8125 0 \r\nz\r\n\" id=\"DejaVuSans-68\"/>\r\n       <path d=\"M 8.6875 72.90625 \r\nL 18.609375 72.90625 \r\nL 18.609375 28.609375 \r\nQ 18.609375 16.890625 22.84375 11.734375 \r\nQ 27.09375 6.59375 36.625 6.59375 \r\nQ 46.09375 6.59375 50.34375 11.734375 \r\nQ 54.59375 16.890625 54.59375 28.609375 \r\nL 54.59375 72.90625 \r\nL 64.5 72.90625 \r\nL 64.5 27.390625 \r\nQ 64.5 13.140625 57.4375 5.859375 \r\nQ 50.390625 -1.421875 36.625 -1.421875 \r\nQ 22.796875 -1.421875 15.734375 5.859375 \r\nQ 8.6875 13.140625 8.6875 27.390625 \r\nz\r\n\" id=\"DejaVuSans-85\"/>\r\n       <path d=\"M 53.515625 70.515625 \r\nL 53.515625 60.890625 \r\nQ 47.90625 63.578125 42.921875 64.890625 \r\nQ 37.9375 66.21875 33.296875 66.21875 \r\nQ 25.25 66.21875 20.875 63.09375 \r\nQ 16.5 59.96875 16.5 54.203125 \r\nQ 16.5 49.359375 19.40625 46.890625 \r\nQ 22.3125 44.4375 30.421875 42.921875 \r\nL 36.375 41.703125 \r\nQ 47.40625 39.59375 52.65625 34.296875 \r\nQ 57.90625 29 57.90625 20.125 \r\nQ 57.90625 9.515625 50.796875 4.046875 \r\nQ 43.703125 -1.421875 29.984375 -1.421875 \r\nQ 24.8125 -1.421875 18.96875 -0.25 \r\nQ 13.140625 0.921875 6.890625 3.21875 \r\nL 6.890625 13.375 \r\nQ 12.890625 10.015625 18.65625 8.296875 \r\nQ 24.421875 6.59375 29.984375 6.59375 \r\nQ 38.421875 6.59375 43.015625 9.90625 \r\nQ 47.609375 13.234375 47.609375 19.390625 \r\nQ 47.609375 24.75 44.3125 27.78125 \r\nQ 41.015625 30.8125 33.5 32.328125 \r\nL 27.484375 33.5 \r\nQ 16.453125 35.6875 11.515625 40.375 \r\nQ 6.59375 45.0625 6.59375 53.421875 \r\nQ 6.59375 63.09375 13.40625 68.65625 \r\nQ 20.21875 74.21875 32.171875 74.21875 \r\nQ 37.3125 74.21875 42.625 73.28125 \r\nQ 47.953125 72.359375 53.515625 70.515625 \r\nz\r\n\" id=\"DejaVuSans-83\"/>\r\n      </defs>\r\n      <g transform=\"translate(114.187116 471.819062)scale(0.1 -0.1)\">\r\n       <use xlink:href=\"#DejaVuSans-73\"/>\r\n       <use x=\"29.492188\" xlink:href=\"#DejaVuSans-78\"/>\r\n       <use x=\"104.296875\" xlink:href=\"#DejaVuSans-68\"/>\r\n       <use x=\"181.298828\" xlink:href=\"#DejaVuSans-85\"/>\r\n       <use x=\"254.492188\" xlink:href=\"#DejaVuSans-83\"/>\r\n      </g>\r\n     </g>\r\n    </g>\r\n    <g id=\"xtick_3\">\r\n     <g id=\"line2d_3\">\r\n      <g>\r\n       <use style=\"stroke:#000000;stroke-width:0.8;\" x=\"178.784517\" xlink:href=\"#m90699257d3\" y=\"457.220625\"/>\r\n      </g>\r\n     </g>\r\n     <g id=\"text_3\">\r\n      <!-- CHAS -->\r\n      <defs>\r\n       <path d=\"M 9.8125 72.90625 \r\nL 19.671875 72.90625 \r\nL 19.671875 43.015625 \r\nL 55.515625 43.015625 \r\nL 55.515625 72.90625 \r\nL 65.375 72.90625 \r\nL 65.375 0 \r\nL 55.515625 0 \r\nL 55.515625 34.71875 \r\nL 19.671875 34.71875 \r\nL 19.671875 0 \r\nL 9.8125 0 \r\nz\r\n\" id=\"DejaVuSans-72\"/>\r\n       <path d=\"M 34.1875 63.1875 \r\nL 20.796875 26.90625 \r\nL 47.609375 26.90625 \r\nz\r\nM 28.609375 72.90625 \r\nL 39.796875 72.90625 \r\nL 67.578125 0 \r\nL 57.328125 0 \r\nL 50.6875 18.703125 \r\nL 17.828125 18.703125 \r\nL 11.1875 0 \r\nL 0.78125 0 \r\nz\r\n\" id=\"DejaVuSans-65\"/>\r\n      </defs>\r\n      <g transform=\"translate(164.938423 471.819062)scale(0.1 -0.1)\">\r\n       <use xlink:href=\"#DejaVuSans-67\"/>\r\n       <use x=\"69.824219\" xlink:href=\"#DejaVuSans-72\"/>\r\n       <use x=\"145.019531\" xlink:href=\"#DejaVuSans-65\"/>\r\n       <use x=\"213.427734\" xlink:href=\"#DejaVuSans-83\"/>\r\n      </g>\r\n     </g>\r\n    </g>\r\n    <g id=\"xtick_4\">\r\n     <g id=\"line2d_4\">\r\n      <g>\r\n       <use style=\"stroke:#000000;stroke-width:0.8;\" x=\"227.482699\" xlink:href=\"#m90699257d3\" y=\"457.220625\"/>\r\n      </g>\r\n     </g>\r\n     <g id=\"text_4\">\r\n      <!-- NOX -->\r\n      <defs>\r\n       <path d=\"M 39.40625 66.21875 \r\nQ 28.65625 66.21875 22.328125 58.203125 \r\nQ 16.015625 50.203125 16.015625 36.375 \r\nQ 16.015625 22.609375 22.328125 14.59375 \r\nQ 28.65625 6.59375 39.40625 6.59375 \r\nQ 50.140625 6.59375 56.421875 14.59375 \r\nQ 62.703125 22.609375 62.703125 36.375 \r\nQ 62.703125 50.203125 56.421875 58.203125 \r\nQ 50.140625 66.21875 39.40625 66.21875 \r\nz\r\nM 39.40625 74.21875 \r\nQ 54.734375 74.21875 63.90625 63.9375 \r\nQ 73.09375 53.65625 73.09375 36.375 \r\nQ 73.09375 19.140625 63.90625 8.859375 \r\nQ 54.734375 -1.421875 39.40625 -1.421875 \r\nQ 24.03125 -1.421875 14.8125 8.828125 \r\nQ 5.609375 19.09375 5.609375 36.375 \r\nQ 5.609375 53.65625 14.8125 63.9375 \r\nQ 24.03125 74.21875 39.40625 74.21875 \r\nz\r\n\" id=\"DejaVuSans-79\"/>\r\n       <path d=\"M 6.296875 72.90625 \r\nL 16.890625 72.90625 \r\nL 35.015625 45.796875 \r\nL 53.21875 72.90625 \r\nL 63.8125 72.90625 \r\nL 40.375 37.890625 \r\nL 65.375 0 \r\nL 54.78125 0 \r\nL 34.28125 31 \r\nL 13.625 0 \r\nL 2.984375 0 \r\nL 29 38.921875 \r\nz\r\n\" id=\"DejaVuSans-88\"/>\r\n      </defs>\r\n      <g transform=\"translate(216.385824 471.819062)scale(0.1 -0.1)\">\r\n       <use xlink:href=\"#DejaVuSans-78\"/>\r\n       <use x=\"74.804688\" xlink:href=\"#DejaVuSans-79\"/>\r\n       <use x=\"153.421875\" xlink:href=\"#DejaVuSans-88\"/>\r\n      </g>\r\n     </g>\r\n    </g>\r\n    <g id=\"xtick_5\">\r\n     <g id=\"line2d_5\">\r\n      <g>\r\n       <use style=\"stroke:#000000;stroke-width:0.8;\" x=\"276.180881\" xlink:href=\"#m90699257d3\" y=\"457.220625\"/>\r\n      </g>\r\n     </g>\r\n     <g id=\"text_5\">\r\n      <!-- RM -->\r\n      <g transform=\"translate(268.392599 471.819062)scale(0.1 -0.1)\">\r\n       <use xlink:href=\"#DejaVuSans-82\"/>\r\n       <use x=\"69.482422\" xlink:href=\"#DejaVuSans-77\"/>\r\n      </g>\r\n     </g>\r\n    </g>\r\n    <g id=\"xtick_6\">\r\n     <g id=\"line2d_6\">\r\n      <g>\r\n       <use style=\"stroke:#000000;stroke-width:0.8;\" x=\"324.879063\" xlink:href=\"#m90699257d3\" y=\"457.220625\"/>\r\n      </g>\r\n     </g>\r\n     <g id=\"text_6\">\r\n      <!-- AGE -->\r\n      <defs>\r\n       <path d=\"M 59.515625 10.40625 \r\nL 59.515625 29.984375 \r\nL 43.40625 29.984375 \r\nL 43.40625 38.09375 \r\nL 69.28125 38.09375 \r\nL 69.28125 6.78125 \r\nQ 63.578125 2.734375 56.6875 0.65625 \r\nQ 49.8125 -1.421875 42 -1.421875 \r\nQ 24.90625 -1.421875 15.25 8.5625 \r\nQ 5.609375 18.5625 5.609375 36.375 \r\nQ 5.609375 54.25 15.25 64.234375 \r\nQ 24.90625 74.21875 42 74.21875 \r\nQ 49.125 74.21875 55.546875 72.453125 \r\nQ 61.96875 70.703125 67.390625 67.28125 \r\nL 67.390625 56.78125 \r\nQ 61.921875 61.421875 55.765625 63.765625 \r\nQ 49.609375 66.109375 42.828125 66.109375 \r\nQ 29.4375 66.109375 22.71875 58.640625 \r\nQ 16.015625 51.171875 16.015625 36.375 \r\nQ 16.015625 21.625 22.71875 14.15625 \r\nQ 29.4375 6.6875 42.828125 6.6875 \r\nQ 48.046875 6.6875 52.140625 7.59375 \r\nQ 56.25 8.5 59.515625 10.40625 \r\nz\r\n\" id=\"DejaVuSans-71\"/>\r\n       <path d=\"M 9.8125 72.90625 \r\nL 55.90625 72.90625 \r\nL 55.90625 64.59375 \r\nL 19.671875 64.59375 \r\nL 19.671875 43.015625 \r\nL 54.390625 43.015625 \r\nL 54.390625 34.71875 \r\nL 19.671875 34.71875 \r\nL 19.671875 8.296875 \r\nL 56.78125 8.296875 \r\nL 56.78125 0 \r\nL 9.8125 0 \r\nz\r\n\" id=\"DejaVuSans-69\"/>\r\n      </defs>\r\n      <g transform=\"translate(314.425938 471.819062)scale(0.1 -0.1)\">\r\n       <use xlink:href=\"#DejaVuSans-65\"/>\r\n       <use x=\"68.392578\" xlink:href=\"#DejaVuSans-71\"/>\r\n       <use x=\"145.882812\" xlink:href=\"#DejaVuSans-69\"/>\r\n      </g>\r\n     </g>\r\n    </g>\r\n    <g id=\"xtick_7\">\r\n     <g id=\"line2d_7\">\r\n      <g>\r\n       <use style=\"stroke:#000000;stroke-width:0.8;\" x=\"373.577244\" xlink:href=\"#m90699257d3\" y=\"457.220625\"/>\r\n      </g>\r\n     </g>\r\n     <g id=\"text_7\">\r\n      <!-- TAX -->\r\n      <defs>\r\n       <path d=\"M -0.296875 72.90625 \r\nL 61.375 72.90625 \r\nL 61.375 64.59375 \r\nL 35.5 64.59375 \r\nL 35.5 0 \r\nL 25.59375 0 \r\nL 25.59375 64.59375 \r\nL -0.296875 64.59375 \r\nz\r\n\" id=\"DejaVuSans-84\"/>\r\n      </defs>\r\n      <g transform=\"translate(363.683494 471.819062)scale(0.1 -0.1)\">\r\n       <use xlink:href=\"#DejaVuSans-84\"/>\r\n       <use x=\"60.974609\" xlink:href=\"#DejaVuSans-65\"/>\r\n       <use x=\"129.382812\" xlink:href=\"#DejaVuSans-88\"/>\r\n      </g>\r\n     </g>\r\n    </g>\r\n    <g id=\"xtick_8\">\r\n     <g id=\"line2d_8\">\r\n      <g>\r\n       <use style=\"stroke:#000000;stroke-width:0.8;\" x=\"422.275426\" xlink:href=\"#m90699257d3\" y=\"457.220625\"/>\r\n      </g>\r\n     </g>\r\n     <g id=\"text_8\">\r\n      <!-- PTRATIO -->\r\n      <defs>\r\n       <path d=\"M 19.671875 64.796875 \r\nL 19.671875 37.40625 \r\nL 32.078125 37.40625 \r\nQ 38.96875 37.40625 42.71875 40.96875 \r\nQ 46.484375 44.53125 46.484375 51.125 \r\nQ 46.484375 57.671875 42.71875 61.234375 \r\nQ 38.96875 64.796875 32.078125 64.796875 \r\nz\r\nM 9.8125 72.90625 \r\nL 32.078125 72.90625 \r\nQ 44.34375 72.90625 50.609375 67.359375 \r\nQ 56.890625 61.8125 56.890625 51.125 \r\nQ 56.890625 40.328125 50.609375 34.8125 \r\nQ 44.34375 29.296875 32.078125 29.296875 \r\nL 19.671875 29.296875 \r\nL 19.671875 0 \r\nL 9.8125 0 \r\nz\r\n\" id=\"DejaVuSans-80\"/>\r\n      </defs>\r\n      <g transform=\"translate(400.855895 471.819062)scale(0.1 -0.1)\">\r\n       <use xlink:href=\"#DejaVuSans-80\"/>\r\n       <use x=\"60.302734\" xlink:href=\"#DejaVuSans-84\"/>\r\n       <use x=\"121.386719\" xlink:href=\"#DejaVuSans-82\"/>\r\n       <use x=\"190.806641\" xlink:href=\"#DejaVuSans-65\"/>\r\n       <use x=\"259.105469\" xlink:href=\"#DejaVuSans-84\"/>\r\n       <use x=\"320.189453\" xlink:href=\"#DejaVuSans-73\"/>\r\n       <use x=\"349.681641\" xlink:href=\"#DejaVuSans-79\"/>\r\n      </g>\r\n     </g>\r\n    </g>\r\n    <g id=\"xtick_9\">\r\n     <g id=\"line2d_9\">\r\n      <g>\r\n       <use style=\"stroke:#000000;stroke-width:0.8;\" x=\"470.973608\" xlink:href=\"#m90699257d3\" y=\"457.220625\"/>\r\n      </g>\r\n     </g>\r\n     <g id=\"text_9\">\r\n      <!-- B -->\r\n      <defs>\r\n       <path d=\"M 19.671875 34.8125 \r\nL 19.671875 8.109375 \r\nL 35.5 8.109375 \r\nQ 43.453125 8.109375 47.28125 11.40625 \r\nQ 51.125 14.703125 51.125 21.484375 \r\nQ 51.125 28.328125 47.28125 31.5625 \r\nQ 43.453125 34.8125 35.5 34.8125 \r\nz\r\nM 19.671875 64.796875 \r\nL 19.671875 42.828125 \r\nL 34.28125 42.828125 \r\nQ 41.5 42.828125 45.03125 45.53125 \r\nQ 48.578125 48.25 48.578125 53.8125 \r\nQ 48.578125 59.328125 45.03125 62.0625 \r\nQ 41.5 64.796875 34.28125 64.796875 \r\nz\r\nM 9.8125 72.90625 \r\nL 35.015625 72.90625 \r\nQ 46.296875 72.90625 52.390625 68.21875 \r\nQ 58.5 63.53125 58.5 54.890625 \r\nQ 58.5 48.1875 55.375 44.234375 \r\nQ 52.25 40.28125 46.1875 39.3125 \r\nQ 53.46875 37.75 57.5 32.78125 \r\nQ 61.53125 27.828125 61.53125 20.40625 \r\nQ 61.53125 10.640625 54.890625 5.3125 \r\nQ 48.25 0 35.984375 0 \r\nL 9.8125 0 \r\nz\r\n\" id=\"DejaVuSans-66\"/>\r\n      </defs>\r\n      <g transform=\"translate(467.543139 471.819062)scale(0.1 -0.1)\">\r\n       <use xlink:href=\"#DejaVuSans-66\"/>\r\n      </g>\r\n     </g>\r\n    </g>\r\n    <g id=\"xtick_10\">\r\n     <g id=\"line2d_10\">\r\n      <g>\r\n       <use style=\"stroke:#000000;stroke-width:0.8;\" x=\"519.67179\" xlink:href=\"#m90699257d3\" y=\"457.220625\"/>\r\n      </g>\r\n     </g>\r\n     <g id=\"text_10\">\r\n      <!-- LSTAT -->\r\n      <defs>\r\n       <path d=\"M 9.8125 72.90625 \r\nL 19.671875 72.90625 \r\nL 19.671875 8.296875 \r\nL 55.171875 8.296875 \r\nL 55.171875 0 \r\nL 9.8125 0 \r\nz\r\n\" id=\"DejaVuSans-76\"/>\r\n      </defs>\r\n      <g transform=\"translate(504.194446 471.819062)scale(0.1 -0.1)\">\r\n       <use xlink:href=\"#DejaVuSans-76\"/>\r\n       <use x=\"55.712891\" xlink:href=\"#DejaVuSans-83\"/>\r\n       <use x=\"119.189453\" xlink:href=\"#DejaVuSans-84\"/>\r\n       <use x=\"180.164062\" xlink:href=\"#DejaVuSans-65\"/>\r\n       <use x=\"248.462891\" xlink:href=\"#DejaVuSans-84\"/>\r\n      </g>\r\n     </g>\r\n    </g>\r\n    <g id=\"xtick_11\">\r\n     <g id=\"line2d_11\">\r\n      <g>\r\n       <use style=\"stroke:#000000;stroke-width:0.8;\" x=\"568.369972\" xlink:href=\"#m90699257d3\" y=\"457.220625\"/>\r\n      </g>\r\n     </g>\r\n     <g id=\"text_11\">\r\n      <!-- MEDV -->\r\n      <defs>\r\n       <path d=\"M 28.609375 0 \r\nL 0.78125 72.90625 \r\nL 11.078125 72.90625 \r\nL 34.1875 11.53125 \r\nL 57.328125 72.90625 \r\nL 67.578125 72.90625 \r\nL 39.796875 0 \r\nz\r\n\" id=\"DejaVuSans-86\"/>\r\n      </defs>\r\n      <g transform=\"translate(553.627003 471.819062)scale(0.1 -0.1)\">\r\n       <use xlink:href=\"#DejaVuSans-77\"/>\r\n       <use x=\"86.279297\" xlink:href=\"#DejaVuSans-69\"/>\r\n       <use x=\"149.462891\" xlink:href=\"#DejaVuSans-68\"/>\r\n       <use x=\"226.449219\" xlink:href=\"#DejaVuSans-86\"/>\r\n      </g>\r\n     </g>\r\n    </g>\r\n   </g>\r\n   <g id=\"matplotlib.axis_2\">\r\n    <g id=\"ytick_1\">\r\n     <g id=\"line2d_12\">\r\n      <defs>\r\n       <path d=\"M 0 0 \r\nL -3.5 0 \r\n\" id=\"m37cf977388\" style=\"stroke:#000000;stroke-width:0.8;\"/>\r\n      </defs>\r\n      <g>\r\n       <use style=\"stroke:#000000;stroke-width:0.8;\" x=\"57.039063\" xlink:href=\"#m37cf977388\" y=\"42.107898\"/>\r\n      </g>\r\n     </g>\r\n     <g id=\"text_12\">\r\n      <!-- CRIM -->\r\n      <g transform=\"translate(24.529688 45.907116)scale(0.1 -0.1)\">\r\n       <use xlink:href=\"#DejaVuSans-67\"/>\r\n       <use x=\"69.824219\" xlink:href=\"#DejaVuSans-82\"/>\r\n       <use x=\"139.306641\" xlink:href=\"#DejaVuSans-73\"/>\r\n       <use x=\"168.798828\" xlink:href=\"#DejaVuSans-77\"/>\r\n      </g>\r\n     </g>\r\n    </g>\r\n    <g id=\"ytick_2\">\r\n     <g id=\"line2d_13\">\r\n      <g>\r\n       <use style=\"stroke:#000000;stroke-width:0.8;\" x=\"57.039063\" xlink:href=\"#m37cf977388\" y=\"81.642443\"/>\r\n      </g>\r\n     </g>\r\n     <g id=\"text_13\">\r\n      <!-- INDUS -->\r\n      <g transform=\"translate(18.240625 85.441662)scale(0.1 -0.1)\">\r\n       <use xlink:href=\"#DejaVuSans-73\"/>\r\n       <use x=\"29.492188\" xlink:href=\"#DejaVuSans-78\"/>\r\n       <use x=\"104.296875\" xlink:href=\"#DejaVuSans-68\"/>\r\n       <use x=\"181.298828\" xlink:href=\"#DejaVuSans-85\"/>\r\n       <use x=\"254.492188\" xlink:href=\"#DejaVuSans-83\"/>\r\n      </g>\r\n     </g>\r\n    </g>\r\n    <g id=\"ytick_3\">\r\n     <g id=\"line2d_14\">\r\n      <g>\r\n       <use style=\"stroke:#000000;stroke-width:0.8;\" x=\"57.039063\" xlink:href=\"#m37cf977388\" y=\"121.176989\"/>\r\n      </g>\r\n     </g>\r\n     <g id=\"text_14\">\r\n      <!-- CHAS -->\r\n      <g transform=\"translate(22.346875 124.976207)scale(0.1 -0.1)\">\r\n       <use xlink:href=\"#DejaVuSans-67\"/>\r\n       <use x=\"69.824219\" xlink:href=\"#DejaVuSans-72\"/>\r\n       <use x=\"145.019531\" xlink:href=\"#DejaVuSans-65\"/>\r\n       <use x=\"213.427734\" xlink:href=\"#DejaVuSans-83\"/>\r\n      </g>\r\n     </g>\r\n    </g>\r\n    <g id=\"ytick_4\">\r\n     <g id=\"line2d_15\">\r\n      <g>\r\n       <use style=\"stroke:#000000;stroke-width:0.8;\" x=\"57.039063\" xlink:href=\"#m37cf977388\" y=\"160.711534\"/>\r\n      </g>\r\n     </g>\r\n     <g id=\"text_15\">\r\n      <!-- NOX -->\r\n      <g transform=\"translate(27.845313 164.510753)scale(0.1 -0.1)\">\r\n       <use xlink:href=\"#DejaVuSans-78\"/>\r\n       <use x=\"74.804688\" xlink:href=\"#DejaVuSans-79\"/>\r\n       <use x=\"153.421875\" xlink:href=\"#DejaVuSans-88\"/>\r\n      </g>\r\n     </g>\r\n    </g>\r\n    <g id=\"ytick_5\">\r\n     <g id=\"line2d_16\">\r\n      <g>\r\n       <use style=\"stroke:#000000;stroke-width:0.8;\" x=\"57.039063\" xlink:href=\"#m37cf977388\" y=\"200.24608\"/>\r\n      </g>\r\n     </g>\r\n     <g id=\"text_16\">\r\n      <!-- RM -->\r\n      <g transform=\"translate(34.4625 204.045298)scale(0.1 -0.1)\">\r\n       <use xlink:href=\"#DejaVuSans-82\"/>\r\n       <use x=\"69.482422\" xlink:href=\"#DejaVuSans-77\"/>\r\n      </g>\r\n     </g>\r\n    </g>\r\n    <g id=\"ytick_6\">\r\n     <g id=\"line2d_17\">\r\n      <g>\r\n       <use style=\"stroke:#000000;stroke-width:0.8;\" x=\"57.039063\" xlink:href=\"#m37cf977388\" y=\"239.780625\"/>\r\n      </g>\r\n     </g>\r\n     <g id=\"text_17\">\r\n      <!-- AGE -->\r\n      <g transform=\"translate(29.132813 243.579844)scale(0.1 -0.1)\">\r\n       <use xlink:href=\"#DejaVuSans-65\"/>\r\n       <use x=\"68.392578\" xlink:href=\"#DejaVuSans-71\"/>\r\n       <use x=\"145.882812\" xlink:href=\"#DejaVuSans-69\"/>\r\n      </g>\r\n     </g>\r\n    </g>\r\n    <g id=\"ytick_7\">\r\n     <g id=\"line2d_18\">\r\n      <g>\r\n       <use style=\"stroke:#000000;stroke-width:0.8;\" x=\"57.039063\" xlink:href=\"#m37cf977388\" y=\"279.31517\"/>\r\n      </g>\r\n     </g>\r\n     <g id=\"text_18\">\r\n      <!-- TAX -->\r\n      <g transform=\"translate(30.251563 283.114389)scale(0.1 -0.1)\">\r\n       <use xlink:href=\"#DejaVuSans-84\"/>\r\n       <use x=\"60.974609\" xlink:href=\"#DejaVuSans-65\"/>\r\n       <use x=\"129.382812\" xlink:href=\"#DejaVuSans-88\"/>\r\n      </g>\r\n     </g>\r\n    </g>\r\n    <g id=\"ytick_8\">\r\n     <g id=\"line2d_19\">\r\n      <g>\r\n       <use style=\"stroke:#000000;stroke-width:0.8;\" x=\"57.039063\" xlink:href=\"#m37cf977388\" y=\"318.849716\"/>\r\n      </g>\r\n     </g>\r\n     <g id=\"text_19\">\r\n      <!-- PTRATIO -->\r\n      <g transform=\"translate(7.2 322.648935)scale(0.1 -0.1)\">\r\n       <use xlink:href=\"#DejaVuSans-80\"/>\r\n       <use x=\"60.302734\" xlink:href=\"#DejaVuSans-84\"/>\r\n       <use x=\"121.386719\" xlink:href=\"#DejaVuSans-82\"/>\r\n       <use x=\"190.806641\" xlink:href=\"#DejaVuSans-65\"/>\r\n       <use x=\"259.105469\" xlink:href=\"#DejaVuSans-84\"/>\r\n       <use x=\"320.189453\" xlink:href=\"#DejaVuSans-73\"/>\r\n       <use x=\"349.681641\" xlink:href=\"#DejaVuSans-79\"/>\r\n      </g>\r\n     </g>\r\n    </g>\r\n    <g id=\"ytick_9\">\r\n     <g id=\"line2d_20\">\r\n      <g>\r\n       <use style=\"stroke:#000000;stroke-width:0.8;\" x=\"57.039063\" xlink:href=\"#m37cf977388\" y=\"358.384261\"/>\r\n      </g>\r\n     </g>\r\n     <g id=\"text_20\">\r\n      <!-- B -->\r\n      <g transform=\"translate(43.178125 362.18348)scale(0.1 -0.1)\">\r\n       <use xlink:href=\"#DejaVuSans-66\"/>\r\n      </g>\r\n     </g>\r\n    </g>\r\n    <g id=\"ytick_10\">\r\n     <g id=\"line2d_21\">\r\n      <g>\r\n       <use style=\"stroke:#000000;stroke-width:0.8;\" x=\"57.039063\" xlink:href=\"#m37cf977388\" y=\"397.918807\"/>\r\n      </g>\r\n     </g>\r\n     <g id=\"text_21\">\r\n      <!-- LSTAT -->\r\n      <g transform=\"translate(19.084375 401.718026)scale(0.1 -0.1)\">\r\n       <use xlink:href=\"#DejaVuSans-76\"/>\r\n       <use x=\"55.712891\" xlink:href=\"#DejaVuSans-83\"/>\r\n       <use x=\"119.189453\" xlink:href=\"#DejaVuSans-84\"/>\r\n       <use x=\"180.164062\" xlink:href=\"#DejaVuSans-65\"/>\r\n       <use x=\"248.462891\" xlink:href=\"#DejaVuSans-84\"/>\r\n      </g>\r\n     </g>\r\n    </g>\r\n    <g id=\"ytick_11\">\r\n     <g id=\"line2d_22\">\r\n      <g>\r\n       <use style=\"stroke:#000000;stroke-width:0.8;\" x=\"57.039063\" xlink:href=\"#m37cf977388\" y=\"437.453352\"/>\r\n      </g>\r\n     </g>\r\n     <g id=\"text_22\">\r\n      <!-- MEDV -->\r\n      <g transform=\"translate(20.553125 441.252571)scale(0.1 -0.1)\">\r\n       <use xlink:href=\"#DejaVuSans-77\"/>\r\n       <use x=\"86.279297\" xlink:href=\"#DejaVuSans-69\"/>\r\n       <use x=\"149.462891\" xlink:href=\"#DejaVuSans-68\"/>\r\n       <use x=\"226.449219\" xlink:href=\"#DejaVuSans-86\"/>\r\n      </g>\r\n     </g>\r\n    </g>\r\n   </g>\r\n   <g id=\"text_23\">\r\n    <!-- 1 -->\r\n    <defs>\r\n     <path d=\"M 12.40625 8.296875 \r\nL 28.515625 8.296875 \r\nL 28.515625 63.921875 \r\nL 10.984375 60.40625 \r\nL 10.984375 69.390625 \r\nL 28.421875 72.90625 \r\nL 38.28125 72.90625 \r\nL 38.28125 8.296875 \r\nL 54.390625 8.296875 \r\nL 54.390625 0 \r\nL 12.40625 0 \r\nz\r\n\" id=\"DejaVuSans-49\"/>\r\n    </defs>\r\n    <g style=\"fill:#262626;\" transform=\"translate(78.206903 44.867273)scale(0.1 -0.1)\">\r\n     <use xlink:href=\"#DejaVuSans-49\"/>\r\n    </g>\r\n   </g>\r\n   <g id=\"text_24\">\r\n    <!-- 0.41 -->\r\n    <defs>\r\n     <path d=\"M 31.78125 66.40625 \r\nQ 24.171875 66.40625 20.328125 58.90625 \r\nQ 16.5 51.421875 16.5 36.375 \r\nQ 16.5 21.390625 20.328125 13.890625 \r\nQ 24.171875 6.390625 31.78125 6.390625 \r\nQ 39.453125 6.390625 43.28125 13.890625 \r\nQ 47.125 21.390625 47.125 36.375 \r\nQ 47.125 51.421875 43.28125 58.90625 \r\nQ 39.453125 66.40625 31.78125 66.40625 \r\nz\r\nM 31.78125 74.21875 \r\nQ 44.046875 74.21875 50.515625 64.515625 \r\nQ 56.984375 54.828125 56.984375 36.375 \r\nQ 56.984375 17.96875 50.515625 8.265625 \r\nQ 44.046875 -1.421875 31.78125 -1.421875 \r\nQ 19.53125 -1.421875 13.0625 8.265625 \r\nQ 6.59375 17.96875 6.59375 36.375 \r\nQ 6.59375 54.828125 13.0625 64.515625 \r\nQ 19.53125 74.21875 31.78125 74.21875 \r\nz\r\n\" id=\"DejaVuSans-48\"/>\r\n     <path d=\"M 10.6875 12.40625 \r\nL 21 12.40625 \r\nL 21 0 \r\nL 10.6875 0 \r\nz\r\n\" id=\"DejaVuSans-46\"/>\r\n     <path d=\"M 37.796875 64.3125 \r\nL 12.890625 25.390625 \r\nL 37.796875 25.390625 \r\nz\r\nM 35.203125 72.90625 \r\nL 47.609375 72.90625 \r\nL 47.609375 25.390625 \r\nL 58.015625 25.390625 \r\nL 58.015625 17.1875 \r\nL 47.609375 17.1875 \r\nL 47.609375 0 \r\nL 37.796875 0 \r\nL 37.796875 17.1875 \r\nL 4.890625 17.1875 \r\nL 4.890625 26.703125 \r\nz\r\n\" id=\"DejaVuSans-52\"/>\r\n    </defs>\r\n    <g style=\"fill:#ffffff;\" transform=\"translate(118.953523 44.867273)scale(0.1 -0.1)\">\r\n     <use xlink:href=\"#DejaVuSans-48\"/>\r\n     <use x=\"63.623047\" xlink:href=\"#DejaVuSans-46\"/>\r\n     <use x=\"95.410156\" xlink:href=\"#DejaVuSans-52\"/>\r\n     <use x=\"159.033203\" xlink:href=\"#DejaVuSans-49\"/>\r\n    </g>\r\n   </g>\r\n   <g id=\"text_25\">\r\n    <!-- -0.064 -->\r\n    <defs>\r\n     <path d=\"M 4.890625 31.390625 \r\nL 31.203125 31.390625 \r\nL 31.203125 23.390625 \r\nL 4.890625 23.390625 \r\nz\r\n\" id=\"DejaVuSans-45\"/>\r\n     <path d=\"M 33.015625 40.375 \r\nQ 26.375 40.375 22.484375 35.828125 \r\nQ 18.609375 31.296875 18.609375 23.390625 \r\nQ 18.609375 15.53125 22.484375 10.953125 \r\nQ 26.375 6.390625 33.015625 6.390625 \r\nQ 39.65625 6.390625 43.53125 10.953125 \r\nQ 47.40625 15.53125 47.40625 23.390625 \r\nQ 47.40625 31.296875 43.53125 35.828125 \r\nQ 39.65625 40.375 33.015625 40.375 \r\nz\r\nM 52.59375 71.296875 \r\nL 52.59375 62.3125 \r\nQ 48.875 64.0625 45.09375 64.984375 \r\nQ 41.3125 65.921875 37.59375 65.921875 \r\nQ 27.828125 65.921875 22.671875 59.328125 \r\nQ 17.53125 52.734375 16.796875 39.40625 \r\nQ 19.671875 43.65625 24.015625 45.921875 \r\nQ 28.375 48.1875 33.59375 48.1875 \r\nQ 44.578125 48.1875 50.953125 41.515625 \r\nQ 57.328125 34.859375 57.328125 23.390625 \r\nQ 57.328125 12.15625 50.6875 5.359375 \r\nQ 44.046875 -1.421875 33.015625 -1.421875 \r\nQ 20.359375 -1.421875 13.671875 8.265625 \r\nQ 6.984375 17.96875 6.984375 36.375 \r\nQ 6.984375 53.65625 15.1875 63.9375 \r\nQ 23.390625 74.21875 37.203125 74.21875 \r\nQ 40.921875 74.21875 44.703125 73.484375 \r\nQ 48.484375 72.75 52.59375 71.296875 \r\nz\r\n\" id=\"DejaVuSans-54\"/>\r\n    </defs>\r\n    <g style=\"fill:#ffffff;\" transform=\"translate(162.666548 44.867273)scale(0.1 -0.1)\">\r\n     <use xlink:href=\"#DejaVuSans-45\"/>\r\n     <use x=\"36.083984\" xlink:href=\"#DejaVuSans-48\"/>\r\n     <use x=\"99.707031\" xlink:href=\"#DejaVuSans-46\"/>\r\n     <use x=\"131.494141\" xlink:href=\"#DejaVuSans-48\"/>\r\n     <use x=\"195.117188\" xlink:href=\"#DejaVuSans-54\"/>\r\n     <use x=\"258.740234\" xlink:href=\"#DejaVuSans-52\"/>\r\n    </g>\r\n   </g>\r\n   <g id=\"text_26\">\r\n    <!-- 0.42 -->\r\n    <defs>\r\n     <path d=\"M 19.1875 8.296875 \r\nL 53.609375 8.296875 \r\nL 53.609375 0 \r\nL 7.328125 0 \r\nL 7.328125 8.296875 \r\nQ 12.9375 14.109375 22.625 23.890625 \r\nQ 32.328125 33.6875 34.8125 36.53125 \r\nQ 39.546875 41.84375 41.421875 45.53125 \r\nQ 43.3125 49.21875 43.3125 52.78125 \r\nQ 43.3125 58.59375 39.234375 62.25 \r\nQ 35.15625 65.921875 28.609375 65.921875 \r\nQ 23.96875 65.921875 18.8125 64.3125 \r\nQ 13.671875 62.703125 7.8125 59.421875 \r\nL 7.8125 69.390625 \r\nQ 13.765625 71.78125 18.9375 73 \r\nQ 24.125 74.21875 28.421875 74.21875 \r\nQ 39.75 74.21875 46.484375 68.546875 \r\nQ 53.21875 62.890625 53.21875 53.421875 \r\nQ 53.21875 48.921875 51.53125 44.890625 \r\nQ 49.859375 40.875 45.40625 35.40625 \r\nQ 44.1875 33.984375 37.640625 27.21875 \r\nQ 31.109375 20.453125 19.1875 8.296875 \r\nz\r\n\" id=\"DejaVuSans-50\"/>\r\n    </defs>\r\n    <g style=\"fill:#ffffff;\" transform=\"translate(216.349886 44.867273)scale(0.1 -0.1)\">\r\n     <use xlink:href=\"#DejaVuSans-48\"/>\r\n     <use x=\"63.623047\" xlink:href=\"#DejaVuSans-46\"/>\r\n     <use x=\"95.410156\" xlink:href=\"#DejaVuSans-52\"/>\r\n     <use x=\"159.033203\" xlink:href=\"#DejaVuSans-50\"/>\r\n    </g>\r\n   </g>\r\n   <g id=\"text_27\">\r\n    <!-- -0.22 -->\r\n    <g style=\"fill:#ffffff;\" transform=\"translate(263.244162 44.867273)scale(0.1 -0.1)\">\r\n     <use xlink:href=\"#DejaVuSans-45\"/>\r\n     <use x=\"36.083984\" xlink:href=\"#DejaVuSans-48\"/>\r\n     <use x=\"99.707031\" xlink:href=\"#DejaVuSans-46\"/>\r\n     <use x=\"131.494141\" xlink:href=\"#DejaVuSans-50\"/>\r\n     <use x=\"195.117188\" xlink:href=\"#DejaVuSans-50\"/>\r\n    </g>\r\n   </g>\r\n   <g id=\"text_28\">\r\n    <!-- 0.35 -->\r\n    <defs>\r\n     <path d=\"M 40.578125 39.3125 \r\nQ 47.65625 37.796875 51.625 33 \r\nQ 55.609375 28.21875 55.609375 21.1875 \r\nQ 55.609375 10.40625 48.1875 4.484375 \r\nQ 40.765625 -1.421875 27.09375 -1.421875 \r\nQ 22.515625 -1.421875 17.65625 -0.515625 \r\nQ 12.796875 0.390625 7.625 2.203125 \r\nL 7.625 11.71875 \r\nQ 11.71875 9.328125 16.59375 8.109375 \r\nQ 21.484375 6.890625 26.8125 6.890625 \r\nQ 36.078125 6.890625 40.9375 10.546875 \r\nQ 45.796875 14.203125 45.796875 21.1875 \r\nQ 45.796875 27.640625 41.28125 31.265625 \r\nQ 36.765625 34.90625 28.71875 34.90625 \r\nL 20.21875 34.90625 \r\nL 20.21875 43.015625 \r\nL 29.109375 43.015625 \r\nQ 36.375 43.015625 40.234375 45.921875 \r\nQ 44.09375 48.828125 44.09375 54.296875 \r\nQ 44.09375 59.90625 40.109375 62.90625 \r\nQ 36.140625 65.921875 28.71875 65.921875 \r\nQ 24.65625 65.921875 20.015625 65.03125 \r\nQ 15.375 64.15625 9.8125 62.3125 \r\nL 9.8125 71.09375 \r\nQ 15.4375 72.65625 20.34375 73.4375 \r\nQ 25.25 74.21875 29.59375 74.21875 \r\nQ 40.828125 74.21875 47.359375 69.109375 \r\nQ 53.90625 64.015625 53.90625 55.328125 \r\nQ 53.90625 49.265625 50.4375 45.09375 \r\nQ 46.96875 40.921875 40.578125 39.3125 \r\nz\r\n\" id=\"DejaVuSans-51\"/>\r\n     <path d=\"M 10.796875 72.90625 \r\nL 49.515625 72.90625 \r\nL 49.515625 64.59375 \r\nL 19.828125 64.59375 \r\nL 19.828125 46.734375 \r\nQ 21.96875 47.46875 24.109375 47.828125 \r\nQ 26.265625 48.1875 28.421875 48.1875 \r\nQ 40.625 48.1875 47.75 41.5 \r\nQ 54.890625 34.8125 54.890625 23.390625 \r\nQ 54.890625 11.625 47.5625 5.09375 \r\nQ 40.234375 -1.421875 26.90625 -1.421875 \r\nQ 22.3125 -1.421875 17.546875 -0.640625 \r\nQ 12.796875 0.140625 7.71875 1.703125 \r\nL 7.71875 11.625 \r\nQ 12.109375 9.234375 16.796875 8.0625 \r\nQ 21.484375 6.890625 26.703125 6.890625 \r\nQ 35.15625 6.890625 40.078125 11.328125 \r\nQ 45.015625 15.765625 45.015625 23.390625 \r\nQ 45.015625 31 40.078125 35.4375 \r\nQ 35.15625 39.890625 26.703125 39.890625 \r\nQ 22.75 39.890625 18.8125 39.015625 \r\nQ 14.890625 38.140625 10.796875 36.28125 \r\nz\r\n\" id=\"DejaVuSans-53\"/>\r\n    </defs>\r\n    <g style=\"fill:#ffffff;\" transform=\"translate(313.74625 44.867273)scale(0.1 -0.1)\">\r\n     <use xlink:href=\"#DejaVuSans-48\"/>\r\n     <use x=\"63.623047\" xlink:href=\"#DejaVuSans-46\"/>\r\n     <use x=\"95.410156\" xlink:href=\"#DejaVuSans-51\"/>\r\n     <use x=\"159.033203\" xlink:href=\"#DejaVuSans-53\"/>\r\n    </g>\r\n   </g>\r\n   <g id=\"text_29\">\r\n    <!-- 0.58 -->\r\n    <defs>\r\n     <path d=\"M 31.78125 34.625 \r\nQ 24.75 34.625 20.71875 30.859375 \r\nQ 16.703125 27.09375 16.703125 20.515625 \r\nQ 16.703125 13.921875 20.71875 10.15625 \r\nQ 24.75 6.390625 31.78125 6.390625 \r\nQ 38.8125 6.390625 42.859375 10.171875 \r\nQ 46.921875 13.96875 46.921875 20.515625 \r\nQ 46.921875 27.09375 42.890625 30.859375 \r\nQ 38.875 34.625 31.78125 34.625 \r\nz\r\nM 21.921875 38.8125 \r\nQ 15.578125 40.375 12.03125 44.71875 \r\nQ 8.5 49.078125 8.5 55.328125 \r\nQ 8.5 64.0625 14.71875 69.140625 \r\nQ 20.953125 74.21875 31.78125 74.21875 \r\nQ 42.671875 74.21875 48.875 69.140625 \r\nQ 55.078125 64.0625 55.078125 55.328125 \r\nQ 55.078125 49.078125 51.53125 44.71875 \r\nQ 48 40.375 41.703125 38.8125 \r\nQ 48.828125 37.15625 52.796875 32.3125 \r\nQ 56.78125 27.484375 56.78125 20.515625 \r\nQ 56.78125 9.90625 50.3125 4.234375 \r\nQ 43.84375 -1.421875 31.78125 -1.421875 \r\nQ 19.734375 -1.421875 13.25 4.234375 \r\nQ 6.78125 9.90625 6.78125 20.515625 \r\nQ 6.78125 27.484375 10.78125 32.3125 \r\nQ 14.796875 37.15625 21.921875 38.8125 \r\nz\r\nM 18.3125 54.390625 \r\nQ 18.3125 48.734375 21.84375 45.5625 \r\nQ 25.390625 42.390625 31.78125 42.390625 \r\nQ 38.140625 42.390625 41.71875 45.5625 \r\nQ 45.3125 48.734375 45.3125 54.390625 \r\nQ 45.3125 60.0625 41.71875 63.234375 \r\nQ 38.140625 66.40625 31.78125 66.40625 \r\nQ 25.390625 66.40625 21.84375 63.234375 \r\nQ 18.3125 60.0625 18.3125 54.390625 \r\nz\r\n\" id=\"DejaVuSans-56\"/>\r\n    </defs>\r\n    <g style=\"fill:#ffffff;\" transform=\"translate(362.444432 44.867273)scale(0.1 -0.1)\">\r\n     <use xlink:href=\"#DejaVuSans-48\"/>\r\n     <use x=\"63.623047\" xlink:href=\"#DejaVuSans-46\"/>\r\n     <use x=\"95.410156\" xlink:href=\"#DejaVuSans-53\"/>\r\n     <use x=\"159.033203\" xlink:href=\"#DejaVuSans-56\"/>\r\n    </g>\r\n   </g>\r\n   <g id=\"text_30\">\r\n    <!-- 0.29 -->\r\n    <defs>\r\n     <path d=\"M 10.984375 1.515625 \r\nL 10.984375 10.5 \r\nQ 14.703125 8.734375 18.5 7.8125 \r\nQ 22.3125 6.890625 25.984375 6.890625 \r\nQ 35.75 6.890625 40.890625 13.453125 \r\nQ 46.046875 20.015625 46.78125 33.40625 \r\nQ 43.953125 29.203125 39.59375 26.953125 \r\nQ 35.25 24.703125 29.984375 24.703125 \r\nQ 19.046875 24.703125 12.671875 31.3125 \r\nQ 6.296875 37.9375 6.296875 49.421875 \r\nQ 6.296875 60.640625 12.9375 67.421875 \r\nQ 19.578125 74.21875 30.609375 74.21875 \r\nQ 43.265625 74.21875 49.921875 64.515625 \r\nQ 56.59375 54.828125 56.59375 36.375 \r\nQ 56.59375 19.140625 48.40625 8.859375 \r\nQ 40.234375 -1.421875 26.421875 -1.421875 \r\nQ 22.703125 -1.421875 18.890625 -0.6875 \r\nQ 15.09375 0.046875 10.984375 1.515625 \r\nz\r\nM 30.609375 32.421875 \r\nQ 37.25 32.421875 41.125 36.953125 \r\nQ 45.015625 41.5 45.015625 49.421875 \r\nQ 45.015625 57.28125 41.125 61.84375 \r\nQ 37.25 66.40625 30.609375 66.40625 \r\nQ 23.96875 66.40625 20.09375 61.84375 \r\nQ 16.21875 57.28125 16.21875 49.421875 \r\nQ 16.21875 41.5 20.09375 36.953125 \r\nQ 23.96875 32.421875 30.609375 32.421875 \r\nz\r\n\" id=\"DejaVuSans-57\"/>\r\n    </defs>\r\n    <g style=\"fill:#ffffff;\" transform=\"translate(411.142614 44.867273)scale(0.1 -0.1)\">\r\n     <use xlink:href=\"#DejaVuSans-48\"/>\r\n     <use x=\"63.623047\" xlink:href=\"#DejaVuSans-46\"/>\r\n     <use x=\"95.410156\" xlink:href=\"#DejaVuSans-50\"/>\r\n     <use x=\"159.033203\" xlink:href=\"#DejaVuSans-57\"/>\r\n    </g>\r\n   </g>\r\n   <g id=\"text_31\">\r\n    <!-- -0.38 -->\r\n    <g style=\"fill:#ffffff;\" transform=\"translate(458.036889 44.867273)scale(0.1 -0.1)\">\r\n     <use xlink:href=\"#DejaVuSans-45\"/>\r\n     <use x=\"36.083984\" xlink:href=\"#DejaVuSans-48\"/>\r\n     <use x=\"99.707031\" xlink:href=\"#DejaVuSans-46\"/>\r\n     <use x=\"131.494141\" xlink:href=\"#DejaVuSans-51\"/>\r\n     <use x=\"195.117188\" xlink:href=\"#DejaVuSans-56\"/>\r\n    </g>\r\n   </g>\r\n   <g id=\"text_32\">\r\n    <!-- 0.46 -->\r\n    <g style=\"fill:#ffffff;\" transform=\"translate(508.538977 44.867273)scale(0.1 -0.1)\">\r\n     <use xlink:href=\"#DejaVuSans-48\"/>\r\n     <use x=\"63.623047\" xlink:href=\"#DejaVuSans-46\"/>\r\n     <use x=\"95.410156\" xlink:href=\"#DejaVuSans-52\"/>\r\n     <use x=\"159.033203\" xlink:href=\"#DejaVuSans-54\"/>\r\n    </g>\r\n   </g>\r\n   <g id=\"text_33\">\r\n    <!-- -0.45 -->\r\n    <g style=\"fill:#ffffff;\" transform=\"translate(555.433253 44.867273)scale(0.1 -0.1)\">\r\n     <use xlink:href=\"#DejaVuSans-45\"/>\r\n     <use x=\"36.083984\" xlink:href=\"#DejaVuSans-48\"/>\r\n     <use x=\"99.707031\" xlink:href=\"#DejaVuSans-46\"/>\r\n     <use x=\"131.494141\" xlink:href=\"#DejaVuSans-52\"/>\r\n     <use x=\"195.117188\" xlink:href=\"#DejaVuSans-53\"/>\r\n    </g>\r\n   </g>\r\n   <g id=\"text_34\">\r\n    <!-- 0.41 -->\r\n    <g style=\"fill:#ffffff;\" transform=\"translate(70.255341 84.401818)scale(0.1 -0.1)\">\r\n     <use xlink:href=\"#DejaVuSans-48\"/>\r\n     <use x=\"63.623047\" xlink:href=\"#DejaVuSans-46\"/>\r\n     <use x=\"95.410156\" xlink:href=\"#DejaVuSans-52\"/>\r\n     <use x=\"159.033203\" xlink:href=\"#DejaVuSans-49\"/>\r\n    </g>\r\n   </g>\r\n   <g id=\"text_35\">\r\n    <!-- 1 -->\r\n    <g style=\"fill:#262626;\" transform=\"translate(126.905085 84.401818)scale(0.1 -0.1)\">\r\n     <use xlink:href=\"#DejaVuSans-49\"/>\r\n    </g>\r\n   </g>\r\n   <g id=\"text_36\">\r\n    <!-- 0.036 -->\r\n    <g style=\"fill:#ffffff;\" transform=\"translate(164.470455 84.401818)scale(0.1 -0.1)\">\r\n     <use xlink:href=\"#DejaVuSans-48\"/>\r\n     <use x=\"63.623047\" xlink:href=\"#DejaVuSans-46\"/>\r\n     <use x=\"95.410156\" xlink:href=\"#DejaVuSans-48\"/>\r\n     <use x=\"159.033203\" xlink:href=\"#DejaVuSans-51\"/>\r\n     <use x=\"222.65625\" xlink:href=\"#DejaVuSans-54\"/>\r\n    </g>\r\n   </g>\r\n   <g id=\"text_37\">\r\n    <!-- 0.77 -->\r\n    <defs>\r\n     <path d=\"M 8.203125 72.90625 \r\nL 55.078125 72.90625 \r\nL 55.078125 68.703125 \r\nL 28.609375 0 \r\nL 18.3125 0 \r\nL 43.21875 64.59375 \r\nL 8.203125 64.59375 \r\nz\r\n\" id=\"DejaVuSans-55\"/>\r\n    </defs>\r\n    <g style=\"fill:#262626;\" transform=\"translate(216.349886 84.401818)scale(0.1 -0.1)\">\r\n     <use xlink:href=\"#DejaVuSans-48\"/>\r\n     <use x=\"63.623047\" xlink:href=\"#DejaVuSans-46\"/>\r\n     <use x=\"95.410156\" xlink:href=\"#DejaVuSans-55\"/>\r\n     <use x=\"159.033203\" xlink:href=\"#DejaVuSans-55\"/>\r\n    </g>\r\n   </g>\r\n   <g id=\"text_38\">\r\n    <!-- -0.41 -->\r\n    <g style=\"fill:#ffffff;\" transform=\"translate(263.244162 84.401818)scale(0.1 -0.1)\">\r\n     <use xlink:href=\"#DejaVuSans-45\"/>\r\n     <use x=\"36.083984\" xlink:href=\"#DejaVuSans-48\"/>\r\n     <use x=\"99.707031\" xlink:href=\"#DejaVuSans-46\"/>\r\n     <use x=\"131.494141\" xlink:href=\"#DejaVuSans-52\"/>\r\n     <use x=\"195.117188\" xlink:href=\"#DejaVuSans-49\"/>\r\n    </g>\r\n   </g>\r\n   <g id=\"text_39\">\r\n    <!-- 0.64 -->\r\n    <g style=\"fill:#262626;\" transform=\"translate(313.74625 84.401818)scale(0.1 -0.1)\">\r\n     <use xlink:href=\"#DejaVuSans-48\"/>\r\n     <use x=\"63.623047\" xlink:href=\"#DejaVuSans-46\"/>\r\n     <use x=\"95.410156\" xlink:href=\"#DejaVuSans-54\"/>\r\n     <use x=\"159.033203\" xlink:href=\"#DejaVuSans-52\"/>\r\n    </g>\r\n   </g>\r\n   <g id=\"text_40\">\r\n    <!-- 0.72 -->\r\n    <g style=\"fill:#262626;\" transform=\"translate(362.444432 84.401818)scale(0.1 -0.1)\">\r\n     <use xlink:href=\"#DejaVuSans-48\"/>\r\n     <use x=\"63.623047\" xlink:href=\"#DejaVuSans-46\"/>\r\n     <use x=\"95.410156\" xlink:href=\"#DejaVuSans-55\"/>\r\n     <use x=\"159.033203\" xlink:href=\"#DejaVuSans-50\"/>\r\n    </g>\r\n   </g>\r\n   <g id=\"text_41\">\r\n    <!-- 0.39 -->\r\n    <g style=\"fill:#ffffff;\" transform=\"translate(411.142614 84.401818)scale(0.1 -0.1)\">\r\n     <use xlink:href=\"#DejaVuSans-48\"/>\r\n     <use x=\"63.623047\" xlink:href=\"#DejaVuSans-46\"/>\r\n     <use x=\"95.410156\" xlink:href=\"#DejaVuSans-51\"/>\r\n     <use x=\"159.033203\" xlink:href=\"#DejaVuSans-57\"/>\r\n    </g>\r\n   </g>\r\n   <g id=\"text_42\">\r\n    <!-- -0.36 -->\r\n    <g style=\"fill:#ffffff;\" transform=\"translate(458.036889 84.401818)scale(0.1 -0.1)\">\r\n     <use xlink:href=\"#DejaVuSans-45\"/>\r\n     <use x=\"36.083984\" xlink:href=\"#DejaVuSans-48\"/>\r\n     <use x=\"99.707031\" xlink:href=\"#DejaVuSans-46\"/>\r\n     <use x=\"131.494141\" xlink:href=\"#DejaVuSans-51\"/>\r\n     <use x=\"195.117188\" xlink:href=\"#DejaVuSans-54\"/>\r\n    </g>\r\n   </g>\r\n   <g id=\"text_43\">\r\n    <!-- 0.64 -->\r\n    <g style=\"fill:#262626;\" transform=\"translate(508.538977 84.401818)scale(0.1 -0.1)\">\r\n     <use xlink:href=\"#DejaVuSans-48\"/>\r\n     <use x=\"63.623047\" xlink:href=\"#DejaVuSans-46\"/>\r\n     <use x=\"95.410156\" xlink:href=\"#DejaVuSans-54\"/>\r\n     <use x=\"159.033203\" xlink:href=\"#DejaVuSans-52\"/>\r\n    </g>\r\n   </g>\r\n   <g id=\"text_44\">\r\n    <!-- -0.6 -->\r\n    <g style=\"fill:#ffffff;\" transform=\"translate(558.614503 84.401818)scale(0.1 -0.1)\">\r\n     <use xlink:href=\"#DejaVuSans-45\"/>\r\n     <use x=\"36.083984\" xlink:href=\"#DejaVuSans-48\"/>\r\n     <use x=\"99.707031\" xlink:href=\"#DejaVuSans-46\"/>\r\n     <use x=\"131.494141\" xlink:href=\"#DejaVuSans-54\"/>\r\n    </g>\r\n   </g>\r\n   <g id=\"text_45\">\r\n    <!-- -0.064 -->\r\n    <g style=\"fill:#ffffff;\" transform=\"translate(65.270185 123.936364)scale(0.1 -0.1)\">\r\n     <use xlink:href=\"#DejaVuSans-45\"/>\r\n     <use x=\"36.083984\" xlink:href=\"#DejaVuSans-48\"/>\r\n     <use x=\"99.707031\" xlink:href=\"#DejaVuSans-46\"/>\r\n     <use x=\"131.494141\" xlink:href=\"#DejaVuSans-48\"/>\r\n     <use x=\"195.117188\" xlink:href=\"#DejaVuSans-54\"/>\r\n     <use x=\"258.740234\" xlink:href=\"#DejaVuSans-52\"/>\r\n    </g>\r\n   </g>\r\n   <g id=\"text_46\">\r\n    <!-- 0.036 -->\r\n    <g style=\"fill:#ffffff;\" transform=\"translate(115.772273 123.936364)scale(0.1 -0.1)\">\r\n     <use xlink:href=\"#DejaVuSans-48\"/>\r\n     <use x=\"63.623047\" xlink:href=\"#DejaVuSans-46\"/>\r\n     <use x=\"95.410156\" xlink:href=\"#DejaVuSans-48\"/>\r\n     <use x=\"159.033203\" xlink:href=\"#DejaVuSans-51\"/>\r\n     <use x=\"222.65625\" xlink:href=\"#DejaVuSans-54\"/>\r\n    </g>\r\n   </g>\r\n   <g id=\"text_47\">\r\n    <!-- 1 -->\r\n    <g style=\"fill:#262626;\" transform=\"translate(175.603267 123.936364)scale(0.1 -0.1)\">\r\n     <use xlink:href=\"#DejaVuSans-49\"/>\r\n    </g>\r\n   </g>\r\n   <g id=\"text_48\">\r\n    <!-- 0.086 -->\r\n    <g style=\"fill:#ffffff;\" transform=\"translate(213.168636 123.936364)scale(0.1 -0.1)\">\r\n     <use xlink:href=\"#DejaVuSans-48\"/>\r\n     <use x=\"63.623047\" xlink:href=\"#DejaVuSans-46\"/>\r\n     <use x=\"95.410156\" xlink:href=\"#DejaVuSans-48\"/>\r\n     <use x=\"159.033203\" xlink:href=\"#DejaVuSans-56\"/>\r\n     <use x=\"222.65625\" xlink:href=\"#DejaVuSans-54\"/>\r\n    </g>\r\n   </g>\r\n   <g id=\"text_49\">\r\n    <!-- 0.045 -->\r\n    <g style=\"fill:#ffffff;\" transform=\"translate(261.866818 123.936364)scale(0.1 -0.1)\">\r\n     <use xlink:href=\"#DejaVuSans-48\"/>\r\n     <use x=\"63.623047\" xlink:href=\"#DejaVuSans-46\"/>\r\n     <use x=\"95.410156\" xlink:href=\"#DejaVuSans-48\"/>\r\n     <use x=\"159.033203\" xlink:href=\"#DejaVuSans-52\"/>\r\n     <use x=\"222.65625\" xlink:href=\"#DejaVuSans-53\"/>\r\n    </g>\r\n   </g>\r\n   <g id=\"text_50\">\r\n    <!-- 0.071 -->\r\n    <g style=\"fill:#ffffff;\" transform=\"translate(310.565 123.936364)scale(0.1 -0.1)\">\r\n     <use xlink:href=\"#DejaVuSans-48\"/>\r\n     <use x=\"63.623047\" xlink:href=\"#DejaVuSans-46\"/>\r\n     <use x=\"95.410156\" xlink:href=\"#DejaVuSans-48\"/>\r\n     <use x=\"159.033203\" xlink:href=\"#DejaVuSans-55\"/>\r\n     <use x=\"222.65625\" xlink:href=\"#DejaVuSans-49\"/>\r\n    </g>\r\n   </g>\r\n   <g id=\"text_51\">\r\n    <!-- -0.068 -->\r\n    <g style=\"fill:#ffffff;\" transform=\"translate(357.459276 123.936364)scale(0.1 -0.1)\">\r\n     <use xlink:href=\"#DejaVuSans-45\"/>\r\n     <use x=\"36.083984\" xlink:href=\"#DejaVuSans-48\"/>\r\n     <use x=\"99.707031\" xlink:href=\"#DejaVuSans-46\"/>\r\n     <use x=\"131.494141\" xlink:href=\"#DejaVuSans-48\"/>\r\n     <use x=\"195.117188\" xlink:href=\"#DejaVuSans-54\"/>\r\n     <use x=\"258.740234\" xlink:href=\"#DejaVuSans-56\"/>\r\n    </g>\r\n   </g>\r\n   <g id=\"text_52\">\r\n    <!-- -0.12 -->\r\n    <g style=\"fill:#ffffff;\" transform=\"translate(409.338707 123.936364)scale(0.1 -0.1)\">\r\n     <use xlink:href=\"#DejaVuSans-45\"/>\r\n     <use x=\"36.083984\" xlink:href=\"#DejaVuSans-48\"/>\r\n     <use x=\"99.707031\" xlink:href=\"#DejaVuSans-46\"/>\r\n     <use x=\"131.494141\" xlink:href=\"#DejaVuSans-49\"/>\r\n     <use x=\"195.117188\" xlink:href=\"#DejaVuSans-50\"/>\r\n    </g>\r\n   </g>\r\n   <g id=\"text_53\">\r\n    <!-- 0.042 -->\r\n    <g style=\"fill:#ffffff;\" transform=\"translate(456.659545 123.936364)scale(0.1 -0.1)\">\r\n     <use xlink:href=\"#DejaVuSans-48\"/>\r\n     <use x=\"63.623047\" xlink:href=\"#DejaVuSans-46\"/>\r\n     <use x=\"95.410156\" xlink:href=\"#DejaVuSans-48\"/>\r\n     <use x=\"159.033203\" xlink:href=\"#DejaVuSans-52\"/>\r\n     <use x=\"222.65625\" xlink:href=\"#DejaVuSans-50\"/>\r\n    </g>\r\n   </g>\r\n   <g id=\"text_54\">\r\n    <!-- -0.0065 -->\r\n    <g style=\"fill:#ffffff;\" transform=\"translate(500.372571 123.936364)scale(0.1 -0.1)\">\r\n     <use xlink:href=\"#DejaVuSans-45\"/>\r\n     <use x=\"36.083984\" xlink:href=\"#DejaVuSans-48\"/>\r\n     <use x=\"99.707031\" xlink:href=\"#DejaVuSans-46\"/>\r\n     <use x=\"131.494141\" xlink:href=\"#DejaVuSans-48\"/>\r\n     <use x=\"195.117188\" xlink:href=\"#DejaVuSans-48\"/>\r\n     <use x=\"258.740234\" xlink:href=\"#DejaVuSans-54\"/>\r\n     <use x=\"322.363281\" xlink:href=\"#DejaVuSans-53\"/>\r\n    </g>\r\n   </g>\r\n   <g id=\"text_55\">\r\n    <!-- 0.075 -->\r\n    <g style=\"fill:#ffffff;\" transform=\"translate(554.055909 123.936364)scale(0.1 -0.1)\">\r\n     <use xlink:href=\"#DejaVuSans-48\"/>\r\n     <use x=\"63.623047\" xlink:href=\"#DejaVuSans-46\"/>\r\n     <use x=\"95.410156\" xlink:href=\"#DejaVuSans-48\"/>\r\n     <use x=\"159.033203\" xlink:href=\"#DejaVuSans-55\"/>\r\n     <use x=\"222.65625\" xlink:href=\"#DejaVuSans-53\"/>\r\n    </g>\r\n   </g>\r\n   <g id=\"text_56\">\r\n    <!-- 0.42 -->\r\n    <g style=\"fill:#ffffff;\" transform=\"translate(70.255341 163.470909)scale(0.1 -0.1)\">\r\n     <use xlink:href=\"#DejaVuSans-48\"/>\r\n     <use x=\"63.623047\" xlink:href=\"#DejaVuSans-46\"/>\r\n     <use x=\"95.410156\" xlink:href=\"#DejaVuSans-52\"/>\r\n     <use x=\"159.033203\" xlink:href=\"#DejaVuSans-50\"/>\r\n    </g>\r\n   </g>\r\n   <g id=\"text_57\">\r\n    <!-- 0.77 -->\r\n    <g style=\"fill:#262626;\" transform=\"translate(118.953523 163.470909)scale(0.1 -0.1)\">\r\n     <use xlink:href=\"#DejaVuSans-48\"/>\r\n     <use x=\"63.623047\" xlink:href=\"#DejaVuSans-46\"/>\r\n     <use x=\"95.410156\" xlink:href=\"#DejaVuSans-55\"/>\r\n     <use x=\"159.033203\" xlink:href=\"#DejaVuSans-55\"/>\r\n    </g>\r\n   </g>\r\n   <g id=\"text_58\">\r\n    <!-- 0.086 -->\r\n    <g style=\"fill:#ffffff;\" transform=\"translate(164.470455 163.470909)scale(0.1 -0.1)\">\r\n     <use xlink:href=\"#DejaVuSans-48\"/>\r\n     <use x=\"63.623047\" xlink:href=\"#DejaVuSans-46\"/>\r\n     <use x=\"95.410156\" xlink:href=\"#DejaVuSans-48\"/>\r\n     <use x=\"159.033203\" xlink:href=\"#DejaVuSans-56\"/>\r\n     <use x=\"222.65625\" xlink:href=\"#DejaVuSans-54\"/>\r\n    </g>\r\n   </g>\r\n   <g id=\"text_59\">\r\n    <!-- 1 -->\r\n    <g style=\"fill:#262626;\" transform=\"translate(224.301449 163.470909)scale(0.1 -0.1)\">\r\n     <use xlink:href=\"#DejaVuSans-49\"/>\r\n    </g>\r\n   </g>\r\n   <g id=\"text_60\">\r\n    <!-- -0.32 -->\r\n    <g style=\"fill:#ffffff;\" transform=\"translate(263.244162 163.470909)scale(0.1 -0.1)\">\r\n     <use xlink:href=\"#DejaVuSans-45\"/>\r\n     <use x=\"36.083984\" xlink:href=\"#DejaVuSans-48\"/>\r\n     <use x=\"99.707031\" xlink:href=\"#DejaVuSans-46\"/>\r\n     <use x=\"131.494141\" xlink:href=\"#DejaVuSans-51\"/>\r\n     <use x=\"195.117188\" xlink:href=\"#DejaVuSans-50\"/>\r\n    </g>\r\n   </g>\r\n   <g id=\"text_61\">\r\n    <!-- 0.73 -->\r\n    <g style=\"fill:#262626;\" transform=\"translate(313.74625 163.470909)scale(0.1 -0.1)\">\r\n     <use xlink:href=\"#DejaVuSans-48\"/>\r\n     <use x=\"63.623047\" xlink:href=\"#DejaVuSans-46\"/>\r\n     <use x=\"95.410156\" xlink:href=\"#DejaVuSans-55\"/>\r\n     <use x=\"159.033203\" xlink:href=\"#DejaVuSans-51\"/>\r\n    </g>\r\n   </g>\r\n   <g id=\"text_62\">\r\n    <!-- 0.67 -->\r\n    <g style=\"fill:#262626;\" transform=\"translate(362.444432 163.470909)scale(0.1 -0.1)\">\r\n     <use xlink:href=\"#DejaVuSans-48\"/>\r\n     <use x=\"63.623047\" xlink:href=\"#DejaVuSans-46\"/>\r\n     <use x=\"95.410156\" xlink:href=\"#DejaVuSans-54\"/>\r\n     <use x=\"159.033203\" xlink:href=\"#DejaVuSans-55\"/>\r\n    </g>\r\n   </g>\r\n   <g id=\"text_63\">\r\n    <!-- 0.19 -->\r\n    <g style=\"fill:#ffffff;\" transform=\"translate(411.142614 163.470909)scale(0.1 -0.1)\">\r\n     <use xlink:href=\"#DejaVuSans-48\"/>\r\n     <use x=\"63.623047\" xlink:href=\"#DejaVuSans-46\"/>\r\n     <use x=\"95.410156\" xlink:href=\"#DejaVuSans-49\"/>\r\n     <use x=\"159.033203\" xlink:href=\"#DejaVuSans-57\"/>\r\n    </g>\r\n   </g>\r\n   <g id=\"text_64\">\r\n    <!-- -0.38 -->\r\n    <g style=\"fill:#ffffff;\" transform=\"translate(458.036889 163.470909)scale(0.1 -0.1)\">\r\n     <use xlink:href=\"#DejaVuSans-45\"/>\r\n     <use x=\"36.083984\" xlink:href=\"#DejaVuSans-48\"/>\r\n     <use x=\"99.707031\" xlink:href=\"#DejaVuSans-46\"/>\r\n     <use x=\"131.494141\" xlink:href=\"#DejaVuSans-51\"/>\r\n     <use x=\"195.117188\" xlink:href=\"#DejaVuSans-56\"/>\r\n    </g>\r\n   </g>\r\n   <g id=\"text_65\">\r\n    <!-- 0.61 -->\r\n    <g style=\"fill:#262626;\" transform=\"translate(508.538977 163.470909)scale(0.1 -0.1)\">\r\n     <use xlink:href=\"#DejaVuSans-48\"/>\r\n     <use x=\"63.623047\" xlink:href=\"#DejaVuSans-46\"/>\r\n     <use x=\"95.410156\" xlink:href=\"#DejaVuSans-54\"/>\r\n     <use x=\"159.033203\" xlink:href=\"#DejaVuSans-49\"/>\r\n    </g>\r\n   </g>\r\n   <g id=\"text_66\">\r\n    <!-- -0.52 -->\r\n    <g style=\"fill:#ffffff;\" transform=\"translate(555.433253 163.470909)scale(0.1 -0.1)\">\r\n     <use xlink:href=\"#DejaVuSans-45\"/>\r\n     <use x=\"36.083984\" xlink:href=\"#DejaVuSans-48\"/>\r\n     <use x=\"99.707031\" xlink:href=\"#DejaVuSans-46\"/>\r\n     <use x=\"131.494141\" xlink:href=\"#DejaVuSans-53\"/>\r\n     <use x=\"195.117188\" xlink:href=\"#DejaVuSans-50\"/>\r\n    </g>\r\n   </g>\r\n   <g id=\"text_67\">\r\n    <!-- -0.22 -->\r\n    <g style=\"fill:#ffffff;\" transform=\"translate(68.451435 203.005455)scale(0.1 -0.1)\">\r\n     <use xlink:href=\"#DejaVuSans-45\"/>\r\n     <use x=\"36.083984\" xlink:href=\"#DejaVuSans-48\"/>\r\n     <use x=\"99.707031\" xlink:href=\"#DejaVuSans-46\"/>\r\n     <use x=\"131.494141\" xlink:href=\"#DejaVuSans-50\"/>\r\n     <use x=\"195.117188\" xlink:href=\"#DejaVuSans-50\"/>\r\n    </g>\r\n   </g>\r\n   <g id=\"text_68\">\r\n    <!-- -0.41 -->\r\n    <g style=\"fill:#ffffff;\" transform=\"translate(117.149616 203.005455)scale(0.1 -0.1)\">\r\n     <use xlink:href=\"#DejaVuSans-45\"/>\r\n     <use x=\"36.083984\" xlink:href=\"#DejaVuSans-48\"/>\r\n     <use x=\"99.707031\" xlink:href=\"#DejaVuSans-46\"/>\r\n     <use x=\"131.494141\" xlink:href=\"#DejaVuSans-52\"/>\r\n     <use x=\"195.117188\" xlink:href=\"#DejaVuSans-49\"/>\r\n    </g>\r\n   </g>\r\n   <g id=\"text_69\">\r\n    <!-- 0.045 -->\r\n    <g style=\"fill:#ffffff;\" transform=\"translate(164.470455 203.005455)scale(0.1 -0.1)\">\r\n     <use xlink:href=\"#DejaVuSans-48\"/>\r\n     <use x=\"63.623047\" xlink:href=\"#DejaVuSans-46\"/>\r\n     <use x=\"95.410156\" xlink:href=\"#DejaVuSans-48\"/>\r\n     <use x=\"159.033203\" xlink:href=\"#DejaVuSans-52\"/>\r\n     <use x=\"222.65625\" xlink:href=\"#DejaVuSans-53\"/>\r\n    </g>\r\n   </g>\r\n   <g id=\"text_70\">\r\n    <!-- -0.32 -->\r\n    <g style=\"fill:#ffffff;\" transform=\"translate(214.54598 203.005455)scale(0.1 -0.1)\">\r\n     <use xlink:href=\"#DejaVuSans-45\"/>\r\n     <use x=\"36.083984\" xlink:href=\"#DejaVuSans-48\"/>\r\n     <use x=\"99.707031\" xlink:href=\"#DejaVuSans-46\"/>\r\n     <use x=\"131.494141\" xlink:href=\"#DejaVuSans-51\"/>\r\n     <use x=\"195.117188\" xlink:href=\"#DejaVuSans-50\"/>\r\n    </g>\r\n   </g>\r\n   <g id=\"text_71\">\r\n    <!-- 1 -->\r\n    <g style=\"fill:#262626;\" transform=\"translate(272.999631 203.005455)scale(0.1 -0.1)\">\r\n     <use xlink:href=\"#DejaVuSans-49\"/>\r\n    </g>\r\n   </g>\r\n   <g id=\"text_72\">\r\n    <!-- -0.27 -->\r\n    <g style=\"fill:#ffffff;\" transform=\"translate(311.942344 203.005455)scale(0.1 -0.1)\">\r\n     <use xlink:href=\"#DejaVuSans-45\"/>\r\n     <use x=\"36.083984\" xlink:href=\"#DejaVuSans-48\"/>\r\n     <use x=\"99.707031\" xlink:href=\"#DejaVuSans-46\"/>\r\n     <use x=\"131.494141\" xlink:href=\"#DejaVuSans-50\"/>\r\n     <use x=\"195.117188\" xlink:href=\"#DejaVuSans-55\"/>\r\n    </g>\r\n   </g>\r\n   <g id=\"text_73\">\r\n    <!-- -0.28 -->\r\n    <g style=\"fill:#ffffff;\" transform=\"translate(360.640526 203.005455)scale(0.1 -0.1)\">\r\n     <use xlink:href=\"#DejaVuSans-45\"/>\r\n     <use x=\"36.083984\" xlink:href=\"#DejaVuSans-48\"/>\r\n     <use x=\"99.707031\" xlink:href=\"#DejaVuSans-46\"/>\r\n     <use x=\"131.494141\" xlink:href=\"#DejaVuSans-50\"/>\r\n     <use x=\"195.117188\" xlink:href=\"#DejaVuSans-56\"/>\r\n    </g>\r\n   </g>\r\n   <g id=\"text_74\">\r\n    <!-- -0.29 -->\r\n    <g style=\"fill:#ffffff;\" transform=\"translate(409.338707 203.005455)scale(0.1 -0.1)\">\r\n     <use xlink:href=\"#DejaVuSans-45\"/>\r\n     <use x=\"36.083984\" xlink:href=\"#DejaVuSans-48\"/>\r\n     <use x=\"99.707031\" xlink:href=\"#DejaVuSans-46\"/>\r\n     <use x=\"131.494141\" xlink:href=\"#DejaVuSans-50\"/>\r\n     <use x=\"195.117188\" xlink:href=\"#DejaVuSans-57\"/>\r\n    </g>\r\n   </g>\r\n   <g id=\"text_75\">\r\n    <!-- 0.12 -->\r\n    <g style=\"fill:#ffffff;\" transform=\"translate(459.840795 203.005455)scale(0.1 -0.1)\">\r\n     <use xlink:href=\"#DejaVuSans-48\"/>\r\n     <use x=\"63.623047\" xlink:href=\"#DejaVuSans-46\"/>\r\n     <use x=\"95.410156\" xlink:href=\"#DejaVuSans-49\"/>\r\n     <use x=\"159.033203\" xlink:href=\"#DejaVuSans-50\"/>\r\n    </g>\r\n   </g>\r\n   <g id=\"text_76\">\r\n    <!-- -0.61 -->\r\n    <g style=\"fill:#ffffff;\" transform=\"translate(506.735071 203.005455)scale(0.1 -0.1)\">\r\n     <use xlink:href=\"#DejaVuSans-45\"/>\r\n     <use x=\"36.083984\" xlink:href=\"#DejaVuSans-48\"/>\r\n     <use x=\"99.707031\" xlink:href=\"#DejaVuSans-46\"/>\r\n     <use x=\"131.494141\" xlink:href=\"#DejaVuSans-54\"/>\r\n     <use x=\"195.117188\" xlink:href=\"#DejaVuSans-49\"/>\r\n    </g>\r\n   </g>\r\n   <g id=\"text_77\">\r\n    <!-- 0.69 -->\r\n    <g style=\"fill:#262626;\" transform=\"translate(557.237159 203.005455)scale(0.1 -0.1)\">\r\n     <use xlink:href=\"#DejaVuSans-48\"/>\r\n     <use x=\"63.623047\" xlink:href=\"#DejaVuSans-46\"/>\r\n     <use x=\"95.410156\" xlink:href=\"#DejaVuSans-54\"/>\r\n     <use x=\"159.033203\" xlink:href=\"#DejaVuSans-57\"/>\r\n    </g>\r\n   </g>\r\n   <g id=\"text_78\">\r\n    <!-- 0.35 -->\r\n    <g style=\"fill:#ffffff;\" transform=\"translate(70.255341 242.54)scale(0.1 -0.1)\">\r\n     <use xlink:href=\"#DejaVuSans-48\"/>\r\n     <use x=\"63.623047\" xlink:href=\"#DejaVuSans-46\"/>\r\n     <use x=\"95.410156\" xlink:href=\"#DejaVuSans-51\"/>\r\n     <use x=\"159.033203\" xlink:href=\"#DejaVuSans-53\"/>\r\n    </g>\r\n   </g>\r\n   <g id=\"text_79\">\r\n    <!-- 0.64 -->\r\n    <g style=\"fill:#262626;\" transform=\"translate(118.953523 242.54)scale(0.1 -0.1)\">\r\n     <use xlink:href=\"#DejaVuSans-48\"/>\r\n     <use x=\"63.623047\" xlink:href=\"#DejaVuSans-46\"/>\r\n     <use x=\"95.410156\" xlink:href=\"#DejaVuSans-54\"/>\r\n     <use x=\"159.033203\" xlink:href=\"#DejaVuSans-52\"/>\r\n    </g>\r\n   </g>\r\n   <g id=\"text_80\">\r\n    <!-- 0.071 -->\r\n    <g style=\"fill:#ffffff;\" transform=\"translate(164.470455 242.54)scale(0.1 -0.1)\">\r\n     <use xlink:href=\"#DejaVuSans-48\"/>\r\n     <use x=\"63.623047\" xlink:href=\"#DejaVuSans-46\"/>\r\n     <use x=\"95.410156\" xlink:href=\"#DejaVuSans-48\"/>\r\n     <use x=\"159.033203\" xlink:href=\"#DejaVuSans-55\"/>\r\n     <use x=\"222.65625\" xlink:href=\"#DejaVuSans-49\"/>\r\n    </g>\r\n   </g>\r\n   <g id=\"text_81\">\r\n    <!-- 0.73 -->\r\n    <g style=\"fill:#262626;\" transform=\"translate(216.349886 242.54)scale(0.1 -0.1)\">\r\n     <use xlink:href=\"#DejaVuSans-48\"/>\r\n     <use x=\"63.623047\" xlink:href=\"#DejaVuSans-46\"/>\r\n     <use x=\"95.410156\" xlink:href=\"#DejaVuSans-55\"/>\r\n     <use x=\"159.033203\" xlink:href=\"#DejaVuSans-51\"/>\r\n    </g>\r\n   </g>\r\n   <g id=\"text_82\">\r\n    <!-- -0.27 -->\r\n    <g style=\"fill:#ffffff;\" transform=\"translate(263.244162 242.54)scale(0.1 -0.1)\">\r\n     <use xlink:href=\"#DejaVuSans-45\"/>\r\n     <use x=\"36.083984\" xlink:href=\"#DejaVuSans-48\"/>\r\n     <use x=\"99.707031\" xlink:href=\"#DejaVuSans-46\"/>\r\n     <use x=\"131.494141\" xlink:href=\"#DejaVuSans-50\"/>\r\n     <use x=\"195.117188\" xlink:href=\"#DejaVuSans-55\"/>\r\n    </g>\r\n   </g>\r\n   <g id=\"text_83\">\r\n    <!-- 1 -->\r\n    <g style=\"fill:#262626;\" transform=\"translate(321.697813 242.54)scale(0.1 -0.1)\">\r\n     <use xlink:href=\"#DejaVuSans-49\"/>\r\n    </g>\r\n   </g>\r\n   <g id=\"text_84\">\r\n    <!-- 0.5 -->\r\n    <g style=\"fill:#ffffff;\" transform=\"translate(365.625682 242.54)scale(0.1 -0.1)\">\r\n     <use xlink:href=\"#DejaVuSans-48\"/>\r\n     <use x=\"63.623047\" xlink:href=\"#DejaVuSans-46\"/>\r\n     <use x=\"95.410156\" xlink:href=\"#DejaVuSans-53\"/>\r\n    </g>\r\n   </g>\r\n   <g id=\"text_85\">\r\n    <!-- 0.27 -->\r\n    <g style=\"fill:#ffffff;\" transform=\"translate(411.142614 242.54)scale(0.1 -0.1)\">\r\n     <use xlink:href=\"#DejaVuSans-48\"/>\r\n     <use x=\"63.623047\" xlink:href=\"#DejaVuSans-46\"/>\r\n     <use x=\"95.410156\" xlink:href=\"#DejaVuSans-50\"/>\r\n     <use x=\"159.033203\" xlink:href=\"#DejaVuSans-55\"/>\r\n    </g>\r\n   </g>\r\n   <g id=\"text_86\">\r\n    <!-- -0.28 -->\r\n    <g style=\"fill:#ffffff;\" transform=\"translate(458.036889 242.54)scale(0.1 -0.1)\">\r\n     <use xlink:href=\"#DejaVuSans-45\"/>\r\n     <use x=\"36.083984\" xlink:href=\"#DejaVuSans-48\"/>\r\n     <use x=\"99.707031\" xlink:href=\"#DejaVuSans-46\"/>\r\n     <use x=\"131.494141\" xlink:href=\"#DejaVuSans-50\"/>\r\n     <use x=\"195.117188\" xlink:href=\"#DejaVuSans-56\"/>\r\n    </g>\r\n   </g>\r\n   <g id=\"text_87\">\r\n    <!-- 0.64 -->\r\n    <g style=\"fill:#262626;\" transform=\"translate(508.538977 242.54)scale(0.1 -0.1)\">\r\n     <use xlink:href=\"#DejaVuSans-48\"/>\r\n     <use x=\"63.623047\" xlink:href=\"#DejaVuSans-46\"/>\r\n     <use x=\"95.410156\" xlink:href=\"#DejaVuSans-54\"/>\r\n     <use x=\"159.033203\" xlink:href=\"#DejaVuSans-52\"/>\r\n    </g>\r\n   </g>\r\n   <g id=\"text_88\">\r\n    <!-- -0.49 -->\r\n    <g style=\"fill:#ffffff;\" transform=\"translate(555.433253 242.54)scale(0.1 -0.1)\">\r\n     <use xlink:href=\"#DejaVuSans-45\"/>\r\n     <use x=\"36.083984\" xlink:href=\"#DejaVuSans-48\"/>\r\n     <use x=\"99.707031\" xlink:href=\"#DejaVuSans-46\"/>\r\n     <use x=\"131.494141\" xlink:href=\"#DejaVuSans-52\"/>\r\n     <use x=\"195.117188\" xlink:href=\"#DejaVuSans-57\"/>\r\n    </g>\r\n   </g>\r\n   <g id=\"text_89\">\r\n    <!-- 0.58 -->\r\n    <g style=\"fill:#ffffff;\" transform=\"translate(70.255341 282.074545)scale(0.1 -0.1)\">\r\n     <use xlink:href=\"#DejaVuSans-48\"/>\r\n     <use x=\"63.623047\" xlink:href=\"#DejaVuSans-46\"/>\r\n     <use x=\"95.410156\" xlink:href=\"#DejaVuSans-53\"/>\r\n     <use x=\"159.033203\" xlink:href=\"#DejaVuSans-56\"/>\r\n    </g>\r\n   </g>\r\n   <g id=\"text_90\">\r\n    <!-- 0.72 -->\r\n    <g style=\"fill:#262626;\" transform=\"translate(118.953523 282.074545)scale(0.1 -0.1)\">\r\n     <use xlink:href=\"#DejaVuSans-48\"/>\r\n     <use x=\"63.623047\" xlink:href=\"#DejaVuSans-46\"/>\r\n     <use x=\"95.410156\" xlink:href=\"#DejaVuSans-55\"/>\r\n     <use x=\"159.033203\" xlink:href=\"#DejaVuSans-50\"/>\r\n    </g>\r\n   </g>\r\n   <g id=\"text_91\">\r\n    <!-- -0.068 -->\r\n    <g style=\"fill:#ffffff;\" transform=\"translate(162.666548 282.074545)scale(0.1 -0.1)\">\r\n     <use xlink:href=\"#DejaVuSans-45\"/>\r\n     <use x=\"36.083984\" xlink:href=\"#DejaVuSans-48\"/>\r\n     <use x=\"99.707031\" xlink:href=\"#DejaVuSans-46\"/>\r\n     <use x=\"131.494141\" xlink:href=\"#DejaVuSans-48\"/>\r\n     <use x=\"195.117188\" xlink:href=\"#DejaVuSans-54\"/>\r\n     <use x=\"258.740234\" xlink:href=\"#DejaVuSans-56\"/>\r\n    </g>\r\n   </g>\r\n   <g id=\"text_92\">\r\n    <!-- 0.67 -->\r\n    <g style=\"fill:#262626;\" transform=\"translate(216.349886 282.074545)scale(0.1 -0.1)\">\r\n     <use xlink:href=\"#DejaVuSans-48\"/>\r\n     <use x=\"63.623047\" xlink:href=\"#DejaVuSans-46\"/>\r\n     <use x=\"95.410156\" xlink:href=\"#DejaVuSans-54\"/>\r\n     <use x=\"159.033203\" xlink:href=\"#DejaVuSans-55\"/>\r\n    </g>\r\n   </g>\r\n   <g id=\"text_93\">\r\n    <!-- -0.28 -->\r\n    <g style=\"fill:#ffffff;\" transform=\"translate(263.244162 282.074545)scale(0.1 -0.1)\">\r\n     <use xlink:href=\"#DejaVuSans-45\"/>\r\n     <use x=\"36.083984\" xlink:href=\"#DejaVuSans-48\"/>\r\n     <use x=\"99.707031\" xlink:href=\"#DejaVuSans-46\"/>\r\n     <use x=\"131.494141\" xlink:href=\"#DejaVuSans-50\"/>\r\n     <use x=\"195.117188\" xlink:href=\"#DejaVuSans-56\"/>\r\n    </g>\r\n   </g>\r\n   <g id=\"text_94\">\r\n    <!-- 0.5 -->\r\n    <g style=\"fill:#ffffff;\" transform=\"translate(316.9275 282.074545)scale(0.1 -0.1)\">\r\n     <use xlink:href=\"#DejaVuSans-48\"/>\r\n     <use x=\"63.623047\" xlink:href=\"#DejaVuSans-46\"/>\r\n     <use x=\"95.410156\" xlink:href=\"#DejaVuSans-53\"/>\r\n    </g>\r\n   </g>\r\n   <g id=\"text_95\">\r\n    <!-- 1 -->\r\n    <g style=\"fill:#262626;\" transform=\"translate(370.395994 282.074545)scale(0.1 -0.1)\">\r\n     <use xlink:href=\"#DejaVuSans-49\"/>\r\n    </g>\r\n   </g>\r\n   <g id=\"text_96\">\r\n    <!-- 0.45 -->\r\n    <g style=\"fill:#ffffff;\" transform=\"translate(411.142614 282.074545)scale(0.1 -0.1)\">\r\n     <use xlink:href=\"#DejaVuSans-48\"/>\r\n     <use x=\"63.623047\" xlink:href=\"#DejaVuSans-46\"/>\r\n     <use x=\"95.410156\" xlink:href=\"#DejaVuSans-52\"/>\r\n     <use x=\"159.033203\" xlink:href=\"#DejaVuSans-53\"/>\r\n    </g>\r\n   </g>\r\n   <g id=\"text_97\">\r\n    <!-- -0.45 -->\r\n    <g style=\"fill:#ffffff;\" transform=\"translate(458.036889 282.074545)scale(0.1 -0.1)\">\r\n     <use xlink:href=\"#DejaVuSans-45\"/>\r\n     <use x=\"36.083984\" xlink:href=\"#DejaVuSans-48\"/>\r\n     <use x=\"99.707031\" xlink:href=\"#DejaVuSans-46\"/>\r\n     <use x=\"131.494141\" xlink:href=\"#DejaVuSans-52\"/>\r\n     <use x=\"195.117188\" xlink:href=\"#DejaVuSans-53\"/>\r\n    </g>\r\n   </g>\r\n   <g id=\"text_98\">\r\n    <!-- 0.57 -->\r\n    <g style=\"fill:#ffffff;\" transform=\"translate(508.538977 282.074545)scale(0.1 -0.1)\">\r\n     <use xlink:href=\"#DejaVuSans-48\"/>\r\n     <use x=\"63.623047\" xlink:href=\"#DejaVuSans-46\"/>\r\n     <use x=\"95.410156\" xlink:href=\"#DejaVuSans-53\"/>\r\n     <use x=\"159.033203\" xlink:href=\"#DejaVuSans-55\"/>\r\n    </g>\r\n   </g>\r\n   <g id=\"text_99\">\r\n    <!-- -0.57 -->\r\n    <g style=\"fill:#ffffff;\" transform=\"translate(555.433253 282.074545)scale(0.1 -0.1)\">\r\n     <use xlink:href=\"#DejaVuSans-45\"/>\r\n     <use x=\"36.083984\" xlink:href=\"#DejaVuSans-48\"/>\r\n     <use x=\"99.707031\" xlink:href=\"#DejaVuSans-46\"/>\r\n     <use x=\"131.494141\" xlink:href=\"#DejaVuSans-53\"/>\r\n     <use x=\"195.117188\" xlink:href=\"#DejaVuSans-55\"/>\r\n    </g>\r\n   </g>\r\n   <g id=\"text_100\">\r\n    <!-- 0.29 -->\r\n    <g style=\"fill:#ffffff;\" transform=\"translate(70.255341 321.609091)scale(0.1 -0.1)\">\r\n     <use xlink:href=\"#DejaVuSans-48\"/>\r\n     <use x=\"63.623047\" xlink:href=\"#DejaVuSans-46\"/>\r\n     <use x=\"95.410156\" xlink:href=\"#DejaVuSans-50\"/>\r\n     <use x=\"159.033203\" xlink:href=\"#DejaVuSans-57\"/>\r\n    </g>\r\n   </g>\r\n   <g id=\"text_101\">\r\n    <!-- 0.39 -->\r\n    <g style=\"fill:#ffffff;\" transform=\"translate(118.953523 321.609091)scale(0.1 -0.1)\">\r\n     <use xlink:href=\"#DejaVuSans-48\"/>\r\n     <use x=\"63.623047\" xlink:href=\"#DejaVuSans-46\"/>\r\n     <use x=\"95.410156\" xlink:href=\"#DejaVuSans-51\"/>\r\n     <use x=\"159.033203\" xlink:href=\"#DejaVuSans-57\"/>\r\n    </g>\r\n   </g>\r\n   <g id=\"text_102\">\r\n    <!-- -0.12 -->\r\n    <g style=\"fill:#ffffff;\" transform=\"translate(165.847798 321.609091)scale(0.1 -0.1)\">\r\n     <use xlink:href=\"#DejaVuSans-45\"/>\r\n     <use x=\"36.083984\" xlink:href=\"#DejaVuSans-48\"/>\r\n     <use x=\"99.707031\" xlink:href=\"#DejaVuSans-46\"/>\r\n     <use x=\"131.494141\" xlink:href=\"#DejaVuSans-49\"/>\r\n     <use x=\"195.117188\" xlink:href=\"#DejaVuSans-50\"/>\r\n    </g>\r\n   </g>\r\n   <g id=\"text_103\">\r\n    <!-- 0.19 -->\r\n    <g style=\"fill:#ffffff;\" transform=\"translate(216.349886 321.609091)scale(0.1 -0.1)\">\r\n     <use xlink:href=\"#DejaVuSans-48\"/>\r\n     <use x=\"63.623047\" xlink:href=\"#DejaVuSans-46\"/>\r\n     <use x=\"95.410156\" xlink:href=\"#DejaVuSans-49\"/>\r\n     <use x=\"159.033203\" xlink:href=\"#DejaVuSans-57\"/>\r\n    </g>\r\n   </g>\r\n   <g id=\"text_104\">\r\n    <!-- -0.29 -->\r\n    <g style=\"fill:#ffffff;\" transform=\"translate(263.244162 321.609091)scale(0.1 -0.1)\">\r\n     <use xlink:href=\"#DejaVuSans-45\"/>\r\n     <use x=\"36.083984\" xlink:href=\"#DejaVuSans-48\"/>\r\n     <use x=\"99.707031\" xlink:href=\"#DejaVuSans-46\"/>\r\n     <use x=\"131.494141\" xlink:href=\"#DejaVuSans-50\"/>\r\n     <use x=\"195.117188\" xlink:href=\"#DejaVuSans-57\"/>\r\n    </g>\r\n   </g>\r\n   <g id=\"text_105\">\r\n    <!-- 0.27 -->\r\n    <g style=\"fill:#ffffff;\" transform=\"translate(313.74625 321.609091)scale(0.1 -0.1)\">\r\n     <use xlink:href=\"#DejaVuSans-48\"/>\r\n     <use x=\"63.623047\" xlink:href=\"#DejaVuSans-46\"/>\r\n     <use x=\"95.410156\" xlink:href=\"#DejaVuSans-50\"/>\r\n     <use x=\"159.033203\" xlink:href=\"#DejaVuSans-55\"/>\r\n    </g>\r\n   </g>\r\n   <g id=\"text_106\">\r\n    <!-- 0.45 -->\r\n    <g style=\"fill:#ffffff;\" transform=\"translate(362.444432 321.609091)scale(0.1 -0.1)\">\r\n     <use xlink:href=\"#DejaVuSans-48\"/>\r\n     <use x=\"63.623047\" xlink:href=\"#DejaVuSans-46\"/>\r\n     <use x=\"95.410156\" xlink:href=\"#DejaVuSans-52\"/>\r\n     <use x=\"159.033203\" xlink:href=\"#DejaVuSans-53\"/>\r\n    </g>\r\n   </g>\r\n   <g id=\"text_107\">\r\n    <!-- 1 -->\r\n    <g style=\"fill:#262626;\" transform=\"translate(419.094176 321.609091)scale(0.1 -0.1)\">\r\n     <use xlink:href=\"#DejaVuSans-49\"/>\r\n    </g>\r\n   </g>\r\n   <g id=\"text_108\">\r\n    <!-- -0.17 -->\r\n    <g style=\"fill:#ffffff;\" transform=\"translate(458.036889 321.609091)scale(0.1 -0.1)\">\r\n     <use xlink:href=\"#DejaVuSans-45\"/>\r\n     <use x=\"36.083984\" xlink:href=\"#DejaVuSans-48\"/>\r\n     <use x=\"99.707031\" xlink:href=\"#DejaVuSans-46\"/>\r\n     <use x=\"131.494141\" xlink:href=\"#DejaVuSans-49\"/>\r\n     <use x=\"195.117188\" xlink:href=\"#DejaVuSans-55\"/>\r\n    </g>\r\n   </g>\r\n   <g id=\"text_109\">\r\n    <!-- 0.36 -->\r\n    <g style=\"fill:#ffffff;\" transform=\"translate(508.538977 321.609091)scale(0.1 -0.1)\">\r\n     <use xlink:href=\"#DejaVuSans-48\"/>\r\n     <use x=\"63.623047\" xlink:href=\"#DejaVuSans-46\"/>\r\n     <use x=\"95.410156\" xlink:href=\"#DejaVuSans-51\"/>\r\n     <use x=\"159.033203\" xlink:href=\"#DejaVuSans-54\"/>\r\n    </g>\r\n   </g>\r\n   <g id=\"text_110\">\r\n    <!-- -0.52 -->\r\n    <g style=\"fill:#ffffff;\" transform=\"translate(555.433253 321.609091)scale(0.1 -0.1)\">\r\n     <use xlink:href=\"#DejaVuSans-45\"/>\r\n     <use x=\"36.083984\" xlink:href=\"#DejaVuSans-48\"/>\r\n     <use x=\"99.707031\" xlink:href=\"#DejaVuSans-46\"/>\r\n     <use x=\"131.494141\" xlink:href=\"#DejaVuSans-53\"/>\r\n     <use x=\"195.117188\" xlink:href=\"#DejaVuSans-50\"/>\r\n    </g>\r\n   </g>\r\n   <g id=\"text_111\">\r\n    <!-- -0.38 -->\r\n    <g style=\"fill:#ffffff;\" transform=\"translate(68.451435 361.143636)scale(0.1 -0.1)\">\r\n     <use xlink:href=\"#DejaVuSans-45\"/>\r\n     <use x=\"36.083984\" xlink:href=\"#DejaVuSans-48\"/>\r\n     <use x=\"99.707031\" xlink:href=\"#DejaVuSans-46\"/>\r\n     <use x=\"131.494141\" xlink:href=\"#DejaVuSans-51\"/>\r\n     <use x=\"195.117188\" xlink:href=\"#DejaVuSans-56\"/>\r\n    </g>\r\n   </g>\r\n   <g id=\"text_112\">\r\n    <!-- -0.36 -->\r\n    <g style=\"fill:#ffffff;\" transform=\"translate(117.149616 361.143636)scale(0.1 -0.1)\">\r\n     <use xlink:href=\"#DejaVuSans-45\"/>\r\n     <use x=\"36.083984\" xlink:href=\"#DejaVuSans-48\"/>\r\n     <use x=\"99.707031\" xlink:href=\"#DejaVuSans-46\"/>\r\n     <use x=\"131.494141\" xlink:href=\"#DejaVuSans-51\"/>\r\n     <use x=\"195.117188\" xlink:href=\"#DejaVuSans-54\"/>\r\n    </g>\r\n   </g>\r\n   <g id=\"text_113\">\r\n    <!-- 0.042 -->\r\n    <g style=\"fill:#ffffff;\" transform=\"translate(164.470455 361.143636)scale(0.1 -0.1)\">\r\n     <use xlink:href=\"#DejaVuSans-48\"/>\r\n     <use x=\"63.623047\" xlink:href=\"#DejaVuSans-46\"/>\r\n     <use x=\"95.410156\" xlink:href=\"#DejaVuSans-48\"/>\r\n     <use x=\"159.033203\" xlink:href=\"#DejaVuSans-52\"/>\r\n     <use x=\"222.65625\" xlink:href=\"#DejaVuSans-50\"/>\r\n    </g>\r\n   </g>\r\n   <g id=\"text_114\">\r\n    <!-- -0.38 -->\r\n    <g style=\"fill:#ffffff;\" transform=\"translate(214.54598 361.143636)scale(0.1 -0.1)\">\r\n     <use xlink:href=\"#DejaVuSans-45\"/>\r\n     <use x=\"36.083984\" xlink:href=\"#DejaVuSans-48\"/>\r\n     <use x=\"99.707031\" xlink:href=\"#DejaVuSans-46\"/>\r\n     <use x=\"131.494141\" xlink:href=\"#DejaVuSans-51\"/>\r\n     <use x=\"195.117188\" xlink:href=\"#DejaVuSans-56\"/>\r\n    </g>\r\n   </g>\r\n   <g id=\"text_115\">\r\n    <!-- 0.12 -->\r\n    <g style=\"fill:#ffffff;\" transform=\"translate(265.048068 361.143636)scale(0.1 -0.1)\">\r\n     <use xlink:href=\"#DejaVuSans-48\"/>\r\n     <use x=\"63.623047\" xlink:href=\"#DejaVuSans-46\"/>\r\n     <use x=\"95.410156\" xlink:href=\"#DejaVuSans-49\"/>\r\n     <use x=\"159.033203\" xlink:href=\"#DejaVuSans-50\"/>\r\n    </g>\r\n   </g>\r\n   <g id=\"text_116\">\r\n    <!-- -0.28 -->\r\n    <g style=\"fill:#ffffff;\" transform=\"translate(311.942344 361.143636)scale(0.1 -0.1)\">\r\n     <use xlink:href=\"#DejaVuSans-45\"/>\r\n     <use x=\"36.083984\" xlink:href=\"#DejaVuSans-48\"/>\r\n     <use x=\"99.707031\" xlink:href=\"#DejaVuSans-46\"/>\r\n     <use x=\"131.494141\" xlink:href=\"#DejaVuSans-50\"/>\r\n     <use x=\"195.117188\" xlink:href=\"#DejaVuSans-56\"/>\r\n    </g>\r\n   </g>\r\n   <g id=\"text_117\">\r\n    <!-- -0.45 -->\r\n    <g style=\"fill:#ffffff;\" transform=\"translate(360.640526 361.143636)scale(0.1 -0.1)\">\r\n     <use xlink:href=\"#DejaVuSans-45\"/>\r\n     <use x=\"36.083984\" xlink:href=\"#DejaVuSans-48\"/>\r\n     <use x=\"99.707031\" xlink:href=\"#DejaVuSans-46\"/>\r\n     <use x=\"131.494141\" xlink:href=\"#DejaVuSans-52\"/>\r\n     <use x=\"195.117188\" xlink:href=\"#DejaVuSans-53\"/>\r\n    </g>\r\n   </g>\r\n   <g id=\"text_118\">\r\n    <!-- -0.17 -->\r\n    <g style=\"fill:#ffffff;\" transform=\"translate(409.338707 361.143636)scale(0.1 -0.1)\">\r\n     <use xlink:href=\"#DejaVuSans-45\"/>\r\n     <use x=\"36.083984\" xlink:href=\"#DejaVuSans-48\"/>\r\n     <use x=\"99.707031\" xlink:href=\"#DejaVuSans-46\"/>\r\n     <use x=\"131.494141\" xlink:href=\"#DejaVuSans-49\"/>\r\n     <use x=\"195.117188\" xlink:href=\"#DejaVuSans-55\"/>\r\n    </g>\r\n   </g>\r\n   <g id=\"text_119\">\r\n    <!-- 1 -->\r\n    <g style=\"fill:#262626;\" transform=\"translate(467.792358 361.143636)scale(0.1 -0.1)\">\r\n     <use xlink:href=\"#DejaVuSans-49\"/>\r\n    </g>\r\n   </g>\r\n   <g id=\"text_120\">\r\n    <!-- -0.36 -->\r\n    <g style=\"fill:#ffffff;\" transform=\"translate(506.735071 361.143636)scale(0.1 -0.1)\">\r\n     <use xlink:href=\"#DejaVuSans-45\"/>\r\n     <use x=\"36.083984\" xlink:href=\"#DejaVuSans-48\"/>\r\n     <use x=\"99.707031\" xlink:href=\"#DejaVuSans-46\"/>\r\n     <use x=\"131.494141\" xlink:href=\"#DejaVuSans-51\"/>\r\n     <use x=\"195.117188\" xlink:href=\"#DejaVuSans-54\"/>\r\n    </g>\r\n   </g>\r\n   <g id=\"text_121\">\r\n    <!-- 0.36 -->\r\n    <g style=\"fill:#ffffff;\" transform=\"translate(557.237159 361.143636)scale(0.1 -0.1)\">\r\n     <use xlink:href=\"#DejaVuSans-48\"/>\r\n     <use x=\"63.623047\" xlink:href=\"#DejaVuSans-46\"/>\r\n     <use x=\"95.410156\" xlink:href=\"#DejaVuSans-51\"/>\r\n     <use x=\"159.033203\" xlink:href=\"#DejaVuSans-54\"/>\r\n    </g>\r\n   </g>\r\n   <g id=\"text_122\">\r\n    <!-- 0.46 -->\r\n    <g style=\"fill:#ffffff;\" transform=\"translate(70.255341 400.678182)scale(0.1 -0.1)\">\r\n     <use xlink:href=\"#DejaVuSans-48\"/>\r\n     <use x=\"63.623047\" xlink:href=\"#DejaVuSans-46\"/>\r\n     <use x=\"95.410156\" xlink:href=\"#DejaVuSans-52\"/>\r\n     <use x=\"159.033203\" xlink:href=\"#DejaVuSans-54\"/>\r\n    </g>\r\n   </g>\r\n   <g id=\"text_123\">\r\n    <!-- 0.64 -->\r\n    <g style=\"fill:#262626;\" transform=\"translate(118.953523 400.678182)scale(0.1 -0.1)\">\r\n     <use xlink:href=\"#DejaVuSans-48\"/>\r\n     <use x=\"63.623047\" xlink:href=\"#DejaVuSans-46\"/>\r\n     <use x=\"95.410156\" xlink:href=\"#DejaVuSans-54\"/>\r\n     <use x=\"159.033203\" xlink:href=\"#DejaVuSans-52\"/>\r\n    </g>\r\n   </g>\r\n   <g id=\"text_124\">\r\n    <!-- -0.0065 -->\r\n    <g style=\"fill:#ffffff;\" transform=\"translate(159.485298 400.678182)scale(0.1 -0.1)\">\r\n     <use xlink:href=\"#DejaVuSans-45\"/>\r\n     <use x=\"36.083984\" xlink:href=\"#DejaVuSans-48\"/>\r\n     <use x=\"99.707031\" xlink:href=\"#DejaVuSans-46\"/>\r\n     <use x=\"131.494141\" xlink:href=\"#DejaVuSans-48\"/>\r\n     <use x=\"195.117188\" xlink:href=\"#DejaVuSans-48\"/>\r\n     <use x=\"258.740234\" xlink:href=\"#DejaVuSans-54\"/>\r\n     <use x=\"322.363281\" xlink:href=\"#DejaVuSans-53\"/>\r\n    </g>\r\n   </g>\r\n   <g id=\"text_125\">\r\n    <!-- 0.61 -->\r\n    <g style=\"fill:#262626;\" transform=\"translate(216.349886 400.678182)scale(0.1 -0.1)\">\r\n     <use xlink:href=\"#DejaVuSans-48\"/>\r\n     <use x=\"63.623047\" xlink:href=\"#DejaVuSans-46\"/>\r\n     <use x=\"95.410156\" xlink:href=\"#DejaVuSans-54\"/>\r\n     <use x=\"159.033203\" xlink:href=\"#DejaVuSans-49\"/>\r\n    </g>\r\n   </g>\r\n   <g id=\"text_126\">\r\n    <!-- -0.61 -->\r\n    <g style=\"fill:#ffffff;\" transform=\"translate(263.244162 400.678182)scale(0.1 -0.1)\">\r\n     <use xlink:href=\"#DejaVuSans-45\"/>\r\n     <use x=\"36.083984\" xlink:href=\"#DejaVuSans-48\"/>\r\n     <use x=\"99.707031\" xlink:href=\"#DejaVuSans-46\"/>\r\n     <use x=\"131.494141\" xlink:href=\"#DejaVuSans-54\"/>\r\n     <use x=\"195.117188\" xlink:href=\"#DejaVuSans-49\"/>\r\n    </g>\r\n   </g>\r\n   <g id=\"text_127\">\r\n    <!-- 0.64 -->\r\n    <g style=\"fill:#262626;\" transform=\"translate(313.74625 400.678182)scale(0.1 -0.1)\">\r\n     <use xlink:href=\"#DejaVuSans-48\"/>\r\n     <use x=\"63.623047\" xlink:href=\"#DejaVuSans-46\"/>\r\n     <use x=\"95.410156\" xlink:href=\"#DejaVuSans-54\"/>\r\n     <use x=\"159.033203\" xlink:href=\"#DejaVuSans-52\"/>\r\n    </g>\r\n   </g>\r\n   <g id=\"text_128\">\r\n    <!-- 0.57 -->\r\n    <g style=\"fill:#ffffff;\" transform=\"translate(362.444432 400.678182)scale(0.1 -0.1)\">\r\n     <use xlink:href=\"#DejaVuSans-48\"/>\r\n     <use x=\"63.623047\" xlink:href=\"#DejaVuSans-46\"/>\r\n     <use x=\"95.410156\" xlink:href=\"#DejaVuSans-53\"/>\r\n     <use x=\"159.033203\" xlink:href=\"#DejaVuSans-55\"/>\r\n    </g>\r\n   </g>\r\n   <g id=\"text_129\">\r\n    <!-- 0.36 -->\r\n    <g style=\"fill:#ffffff;\" transform=\"translate(411.142614 400.678182)scale(0.1 -0.1)\">\r\n     <use xlink:href=\"#DejaVuSans-48\"/>\r\n     <use x=\"63.623047\" xlink:href=\"#DejaVuSans-46\"/>\r\n     <use x=\"95.410156\" xlink:href=\"#DejaVuSans-51\"/>\r\n     <use x=\"159.033203\" xlink:href=\"#DejaVuSans-54\"/>\r\n    </g>\r\n   </g>\r\n   <g id=\"text_130\">\r\n    <!-- -0.36 -->\r\n    <g style=\"fill:#ffffff;\" transform=\"translate(458.036889 400.678182)scale(0.1 -0.1)\">\r\n     <use xlink:href=\"#DejaVuSans-45\"/>\r\n     <use x=\"36.083984\" xlink:href=\"#DejaVuSans-48\"/>\r\n     <use x=\"99.707031\" xlink:href=\"#DejaVuSans-46\"/>\r\n     <use x=\"131.494141\" xlink:href=\"#DejaVuSans-51\"/>\r\n     <use x=\"195.117188\" xlink:href=\"#DejaVuSans-54\"/>\r\n    </g>\r\n   </g>\r\n   <g id=\"text_131\">\r\n    <!-- 1 -->\r\n    <g style=\"fill:#262626;\" transform=\"translate(516.49054 400.678182)scale(0.1 -0.1)\">\r\n     <use xlink:href=\"#DejaVuSans-49\"/>\r\n    </g>\r\n   </g>\r\n   <g id=\"text_132\">\r\n    <!-- -0.76 -->\r\n    <g style=\"fill:#ffffff;\" transform=\"translate(555.433253 400.678182)scale(0.1 -0.1)\">\r\n     <use xlink:href=\"#DejaVuSans-45\"/>\r\n     <use x=\"36.083984\" xlink:href=\"#DejaVuSans-48\"/>\r\n     <use x=\"99.707031\" xlink:href=\"#DejaVuSans-46\"/>\r\n     <use x=\"131.494141\" xlink:href=\"#DejaVuSans-55\"/>\r\n     <use x=\"195.117188\" xlink:href=\"#DejaVuSans-54\"/>\r\n    </g>\r\n   </g>\r\n   <g id=\"text_133\">\r\n    <!-- -0.45 -->\r\n    <g style=\"fill:#ffffff;\" transform=\"translate(68.451435 440.212727)scale(0.1 -0.1)\">\r\n     <use xlink:href=\"#DejaVuSans-45\"/>\r\n     <use x=\"36.083984\" xlink:href=\"#DejaVuSans-48\"/>\r\n     <use x=\"99.707031\" xlink:href=\"#DejaVuSans-46\"/>\r\n     <use x=\"131.494141\" xlink:href=\"#DejaVuSans-52\"/>\r\n     <use x=\"195.117188\" xlink:href=\"#DejaVuSans-53\"/>\r\n    </g>\r\n   </g>\r\n   <g id=\"text_134\">\r\n    <!-- -0.6 -->\r\n    <g style=\"fill:#ffffff;\" transform=\"translate(120.330866 440.212727)scale(0.1 -0.1)\">\r\n     <use xlink:href=\"#DejaVuSans-45\"/>\r\n     <use x=\"36.083984\" xlink:href=\"#DejaVuSans-48\"/>\r\n     <use x=\"99.707031\" xlink:href=\"#DejaVuSans-46\"/>\r\n     <use x=\"131.494141\" xlink:href=\"#DejaVuSans-54\"/>\r\n    </g>\r\n   </g>\r\n   <g id=\"text_135\">\r\n    <!-- 0.075 -->\r\n    <g style=\"fill:#ffffff;\" transform=\"translate(164.470455 440.212727)scale(0.1 -0.1)\">\r\n     <use xlink:href=\"#DejaVuSans-48\"/>\r\n     <use x=\"63.623047\" xlink:href=\"#DejaVuSans-46\"/>\r\n     <use x=\"95.410156\" xlink:href=\"#DejaVuSans-48\"/>\r\n     <use x=\"159.033203\" xlink:href=\"#DejaVuSans-55\"/>\r\n     <use x=\"222.65625\" xlink:href=\"#DejaVuSans-53\"/>\r\n    </g>\r\n   </g>\r\n   <g id=\"text_136\">\r\n    <!-- -0.52 -->\r\n    <g style=\"fill:#ffffff;\" transform=\"translate(214.54598 440.212727)scale(0.1 -0.1)\">\r\n     <use xlink:href=\"#DejaVuSans-45\"/>\r\n     <use x=\"36.083984\" xlink:href=\"#DejaVuSans-48\"/>\r\n     <use x=\"99.707031\" xlink:href=\"#DejaVuSans-46\"/>\r\n     <use x=\"131.494141\" xlink:href=\"#DejaVuSans-53\"/>\r\n     <use x=\"195.117188\" xlink:href=\"#DejaVuSans-50\"/>\r\n    </g>\r\n   </g>\r\n   <g id=\"text_137\">\r\n    <!-- 0.69 -->\r\n    <g style=\"fill:#262626;\" transform=\"translate(265.048068 440.212727)scale(0.1 -0.1)\">\r\n     <use xlink:href=\"#DejaVuSans-48\"/>\r\n     <use x=\"63.623047\" xlink:href=\"#DejaVuSans-46\"/>\r\n     <use x=\"95.410156\" xlink:href=\"#DejaVuSans-54\"/>\r\n     <use x=\"159.033203\" xlink:href=\"#DejaVuSans-57\"/>\r\n    </g>\r\n   </g>\r\n   <g id=\"text_138\">\r\n    <!-- -0.49 -->\r\n    <g style=\"fill:#ffffff;\" transform=\"translate(311.942344 440.212727)scale(0.1 -0.1)\">\r\n     <use xlink:href=\"#DejaVuSans-45\"/>\r\n     <use x=\"36.083984\" xlink:href=\"#DejaVuSans-48\"/>\r\n     <use x=\"99.707031\" xlink:href=\"#DejaVuSans-46\"/>\r\n     <use x=\"131.494141\" xlink:href=\"#DejaVuSans-52\"/>\r\n     <use x=\"195.117188\" xlink:href=\"#DejaVuSans-57\"/>\r\n    </g>\r\n   </g>\r\n   <g id=\"text_139\">\r\n    <!-- -0.57 -->\r\n    <g style=\"fill:#ffffff;\" transform=\"translate(360.640526 440.212727)scale(0.1 -0.1)\">\r\n     <use xlink:href=\"#DejaVuSans-45\"/>\r\n     <use x=\"36.083984\" xlink:href=\"#DejaVuSans-48\"/>\r\n     <use x=\"99.707031\" xlink:href=\"#DejaVuSans-46\"/>\r\n     <use x=\"131.494141\" xlink:href=\"#DejaVuSans-53\"/>\r\n     <use x=\"195.117188\" xlink:href=\"#DejaVuSans-55\"/>\r\n    </g>\r\n   </g>\r\n   <g id=\"text_140\">\r\n    <!-- -0.52 -->\r\n    <g style=\"fill:#ffffff;\" transform=\"translate(409.338707 440.212727)scale(0.1 -0.1)\">\r\n     <use xlink:href=\"#DejaVuSans-45\"/>\r\n     <use x=\"36.083984\" xlink:href=\"#DejaVuSans-48\"/>\r\n     <use x=\"99.707031\" xlink:href=\"#DejaVuSans-46\"/>\r\n     <use x=\"131.494141\" xlink:href=\"#DejaVuSans-53\"/>\r\n     <use x=\"195.117188\" xlink:href=\"#DejaVuSans-50\"/>\r\n    </g>\r\n   </g>\r\n   <g id=\"text_141\">\r\n    <!-- 0.36 -->\r\n    <g style=\"fill:#ffffff;\" transform=\"translate(459.840795 440.212727)scale(0.1 -0.1)\">\r\n     <use xlink:href=\"#DejaVuSans-48\"/>\r\n     <use x=\"63.623047\" xlink:href=\"#DejaVuSans-46\"/>\r\n     <use x=\"95.410156\" xlink:href=\"#DejaVuSans-51\"/>\r\n     <use x=\"159.033203\" xlink:href=\"#DejaVuSans-54\"/>\r\n    </g>\r\n   </g>\r\n   <g id=\"text_142\">\r\n    <!-- -0.76 -->\r\n    <g style=\"fill:#ffffff;\" transform=\"translate(506.735071 440.212727)scale(0.1 -0.1)\">\r\n     <use xlink:href=\"#DejaVuSans-45\"/>\r\n     <use x=\"36.083984\" xlink:href=\"#DejaVuSans-48\"/>\r\n     <use x=\"99.707031\" xlink:href=\"#DejaVuSans-46\"/>\r\n     <use x=\"131.494141\" xlink:href=\"#DejaVuSans-55\"/>\r\n     <use x=\"195.117188\" xlink:href=\"#DejaVuSans-54\"/>\r\n    </g>\r\n   </g>\r\n   <g id=\"text_143\">\r\n    <!-- 1 -->\r\n    <g style=\"fill:#262626;\" transform=\"translate(565.188722 440.212727)scale(0.1 -0.1)\">\r\n     <use xlink:href=\"#DejaVuSans-49\"/>\r\n    </g>\r\n   </g>\r\n   <g id=\"text_144\">\r\n    <!-- Matriz de correlação de dataML -->\r\n    <defs>\r\n     <path d=\"M 34.28125 27.484375 \r\nQ 23.390625 27.484375 19.1875 25 \r\nQ 14.984375 22.515625 14.984375 16.5 \r\nQ 14.984375 11.71875 18.140625 8.90625 \r\nQ 21.296875 6.109375 26.703125 6.109375 \r\nQ 34.1875 6.109375 38.703125 11.40625 \r\nQ 43.21875 16.703125 43.21875 25.484375 \r\nL 43.21875 27.484375 \r\nz\r\nM 52.203125 31.203125 \r\nL 52.203125 0 \r\nL 43.21875 0 \r\nL 43.21875 8.296875 \r\nQ 40.140625 3.328125 35.546875 0.953125 \r\nQ 30.953125 -1.421875 24.3125 -1.421875 \r\nQ 15.921875 -1.421875 10.953125 3.296875 \r\nQ 6 8.015625 6 15.921875 \r\nQ 6 25.140625 12.171875 29.828125 \r\nQ 18.359375 34.515625 30.609375 34.515625 \r\nL 43.21875 34.515625 \r\nL 43.21875 35.40625 \r\nQ 43.21875 41.609375 39.140625 45 \r\nQ 35.0625 48.390625 27.6875 48.390625 \r\nQ 23 48.390625 18.546875 47.265625 \r\nQ 14.109375 46.140625 10.015625 43.890625 \r\nL 10.015625 52.203125 \r\nQ 14.9375 54.109375 19.578125 55.046875 \r\nQ 24.21875 56 28.609375 56 \r\nQ 40.484375 56 46.34375 49.84375 \r\nQ 52.203125 43.703125 52.203125 31.203125 \r\nz\r\n\" id=\"DejaVuSans-97\"/>\r\n     <path d=\"M 18.3125 70.21875 \r\nL 18.3125 54.6875 \r\nL 36.8125 54.6875 \r\nL 36.8125 47.703125 \r\nL 18.3125 47.703125 \r\nL 18.3125 18.015625 \r\nQ 18.3125 11.328125 20.140625 9.421875 \r\nQ 21.96875 7.515625 27.59375 7.515625 \r\nL 36.8125 7.515625 \r\nL 36.8125 0 \r\nL 27.59375 0 \r\nQ 17.1875 0 13.234375 3.875 \r\nQ 9.28125 7.765625 9.28125 18.015625 \r\nL 9.28125 47.703125 \r\nL 2.6875 47.703125 \r\nL 2.6875 54.6875 \r\nL 9.28125 54.6875 \r\nL 9.28125 70.21875 \r\nz\r\n\" id=\"DejaVuSans-116\"/>\r\n     <path d=\"M 41.109375 46.296875 \r\nQ 39.59375 47.171875 37.8125 47.578125 \r\nQ 36.03125 48 33.890625 48 \r\nQ 26.265625 48 22.1875 43.046875 \r\nQ 18.109375 38.09375 18.109375 28.8125 \r\nL 18.109375 0 \r\nL 9.078125 0 \r\nL 9.078125 54.6875 \r\nL 18.109375 54.6875 \r\nL 18.109375 46.1875 \r\nQ 20.953125 51.171875 25.484375 53.578125 \r\nQ 30.03125 56 36.53125 56 \r\nQ 37.453125 56 38.578125 55.875 \r\nQ 39.703125 55.765625 41.0625 55.515625 \r\nz\r\n\" id=\"DejaVuSans-114\"/>\r\n     <path d=\"M 9.421875 54.6875 \r\nL 18.40625 54.6875 \r\nL 18.40625 0 \r\nL 9.421875 0 \r\nz\r\nM 9.421875 75.984375 \r\nL 18.40625 75.984375 \r\nL 18.40625 64.59375 \r\nL 9.421875 64.59375 \r\nz\r\n\" id=\"DejaVuSans-105\"/>\r\n     <path d=\"M 5.515625 54.6875 \r\nL 48.1875 54.6875 \r\nL 48.1875 46.484375 \r\nL 14.40625 7.171875 \r\nL 48.1875 7.171875 \r\nL 48.1875 0 \r\nL 4.296875 0 \r\nL 4.296875 8.203125 \r\nL 38.09375 47.515625 \r\nL 5.515625 47.515625 \r\nz\r\n\" id=\"DejaVuSans-122\"/>\r\n     <path id=\"DejaVuSans-32\"/>\r\n     <path d=\"M 45.40625 46.390625 \r\nL 45.40625 75.984375 \r\nL 54.390625 75.984375 \r\nL 54.390625 0 \r\nL 45.40625 0 \r\nL 45.40625 8.203125 \r\nQ 42.578125 3.328125 38.25 0.953125 \r\nQ 33.9375 -1.421875 27.875 -1.421875 \r\nQ 17.96875 -1.421875 11.734375 6.484375 \r\nQ 5.515625 14.40625 5.515625 27.296875 \r\nQ 5.515625 40.1875 11.734375 48.09375 \r\nQ 17.96875 56 27.875 56 \r\nQ 33.9375 56 38.25 53.625 \r\nQ 42.578125 51.265625 45.40625 46.390625 \r\nz\r\nM 14.796875 27.296875 \r\nQ 14.796875 17.390625 18.875 11.75 \r\nQ 22.953125 6.109375 30.078125 6.109375 \r\nQ 37.203125 6.109375 41.296875 11.75 \r\nQ 45.40625 17.390625 45.40625 27.296875 \r\nQ 45.40625 37.203125 41.296875 42.84375 \r\nQ 37.203125 48.484375 30.078125 48.484375 \r\nQ 22.953125 48.484375 18.875 42.84375 \r\nQ 14.796875 37.203125 14.796875 27.296875 \r\nz\r\n\" id=\"DejaVuSans-100\"/>\r\n     <path d=\"M 56.203125 29.59375 \r\nL 56.203125 25.203125 \r\nL 14.890625 25.203125 \r\nQ 15.484375 15.921875 20.484375 11.0625 \r\nQ 25.484375 6.203125 34.421875 6.203125 \r\nQ 39.59375 6.203125 44.453125 7.46875 \r\nQ 49.3125 8.734375 54.109375 11.28125 \r\nL 54.109375 2.78125 \r\nQ 49.265625 0.734375 44.1875 -0.34375 \r\nQ 39.109375 -1.421875 33.890625 -1.421875 \r\nQ 20.796875 -1.421875 13.15625 6.1875 \r\nQ 5.515625 13.8125 5.515625 26.8125 \r\nQ 5.515625 40.234375 12.765625 48.109375 \r\nQ 20.015625 56 32.328125 56 \r\nQ 43.359375 56 49.78125 48.890625 \r\nQ 56.203125 41.796875 56.203125 29.59375 \r\nz\r\nM 47.21875 32.234375 \r\nQ 47.125 39.59375 43.09375 43.984375 \r\nQ 39.0625 48.390625 32.421875 48.390625 \r\nQ 24.90625 48.390625 20.390625 44.140625 \r\nQ 15.875 39.890625 15.1875 32.171875 \r\nz\r\n\" id=\"DejaVuSans-101\"/>\r\n     <path d=\"M 48.78125 52.59375 \r\nL 48.78125 44.1875 \r\nQ 44.96875 46.296875 41.140625 47.34375 \r\nQ 37.3125 48.390625 33.40625 48.390625 \r\nQ 24.65625 48.390625 19.8125 42.84375 \r\nQ 14.984375 37.3125 14.984375 27.296875 \r\nQ 14.984375 17.28125 19.8125 11.734375 \r\nQ 24.65625 6.203125 33.40625 6.203125 \r\nQ 37.3125 6.203125 41.140625 7.25 \r\nQ 44.96875 8.296875 48.78125 10.40625 \r\nL 48.78125 2.09375 \r\nQ 45.015625 0.34375 40.984375 -0.53125 \r\nQ 36.96875 -1.421875 32.421875 -1.421875 \r\nQ 20.0625 -1.421875 12.78125 6.34375 \r\nQ 5.515625 14.109375 5.515625 27.296875 \r\nQ 5.515625 40.671875 12.859375 48.328125 \r\nQ 20.21875 56 33.015625 56 \r\nQ 37.15625 56 41.109375 55.140625 \r\nQ 45.0625 54.296875 48.78125 52.59375 \r\nz\r\n\" id=\"DejaVuSans-99\"/>\r\n     <path d=\"M 30.609375 48.390625 \r\nQ 23.390625 48.390625 19.1875 42.75 \r\nQ 14.984375 37.109375 14.984375 27.296875 \r\nQ 14.984375 17.484375 19.15625 11.84375 \r\nQ 23.34375 6.203125 30.609375 6.203125 \r\nQ 37.796875 6.203125 41.984375 11.859375 \r\nQ 46.1875 17.53125 46.1875 27.296875 \r\nQ 46.1875 37.015625 41.984375 42.703125 \r\nQ 37.796875 48.390625 30.609375 48.390625 \r\nz\r\nM 30.609375 56 \r\nQ 42.328125 56 49.015625 48.375 \r\nQ 55.71875 40.765625 55.71875 27.296875 \r\nQ 55.71875 13.875 49.015625 6.21875 \r\nQ 42.328125 -1.421875 30.609375 -1.421875 \r\nQ 18.84375 -1.421875 12.171875 6.21875 \r\nQ 5.515625 13.875 5.515625 27.296875 \r\nQ 5.515625 40.765625 12.171875 48.375 \r\nQ 18.84375 56 30.609375 56 \r\nz\r\n\" id=\"DejaVuSans-111\"/>\r\n     <path d=\"M 9.421875 75.984375 \r\nL 18.40625 75.984375 \r\nL 18.40625 0 \r\nL 9.421875 0 \r\nz\r\n\" id=\"DejaVuSans-108\"/>\r\n     <path d=\"M 48.78125 52.59375 \r\nL 48.78125 44.1875 \r\nQ 44.96875 46.296875 41.140625 47.34375 \r\nQ 37.3125 48.390625 33.40625 48.390625 \r\nQ 24.65625 48.390625 19.8125 42.84375 \r\nQ 14.984375 37.3125 14.984375 27.296875 \r\nQ 14.984375 17.28125 19.8125 11.734375 \r\nQ 24.65625 6.203125 33.40625 6.203125 \r\nQ 37.3125 6.203125 41.140625 7.25 \r\nQ 44.96875 8.296875 48.78125 10.40625 \r\nL 48.78125 2.09375 \r\nQ 45.015625 0.34375 40.984375 -0.53125 \r\nQ 36.96875 -1.421875 32.421875 -1.421875 \r\nQ 20.0625 -1.421875 12.78125 6.34375 \r\nQ 5.515625 14.109375 5.515625 27.296875 \r\nQ 5.515625 40.671875 12.859375 48.328125 \r\nQ 20.21875 56 33.015625 56 \r\nQ 37.15625 56 41.109375 55.140625 \r\nQ 45.0625 54.296875 48.78125 52.59375 \r\nz\r\nM 36.078125 0 \r\nQ 38.765625 -3.03125 40.078125 -5.59375 \r\nQ 41.40625 -8.15625 41.40625 -10.5 \r\nQ 41.40625 -14.84375 38.46875 -17.0625 \r\nQ 35.546875 -19.28125 29.78125 -19.28125 \r\nQ 27.546875 -19.28125 25.421875 -18.984375 \r\nQ 23.296875 -18.703125 21.1875 -18.109375 \r\nL 21.1875 -11.71875 \r\nQ 22.859375 -12.546875 24.65625 -12.90625 \r\nQ 26.46875 -13.28125 28.765625 -13.28125 \r\nQ 31.640625 -13.28125 33.109375 -12.109375 \r\nQ 34.578125 -10.9375 34.578125 -8.6875 \r\nQ 34.578125 -7.234375 33.515625 -5.109375 \r\nQ 32.46875 -2.984375 30.28125 0 \r\nz\r\n\" id=\"DejaVuSans-231\"/>\r\n     <path d=\"M 34.28125 27.484375 \r\nQ 23.390625 27.484375 19.1875 25 \r\nQ 14.984375 22.515625 14.984375 16.5 \r\nQ 14.984375 11.71875 18.140625 8.90625 \r\nQ 21.296875 6.109375 26.703125 6.109375 \r\nQ 34.1875 6.109375 38.703125 11.40625 \r\nQ 43.21875 16.703125 43.21875 25.484375 \r\nL 43.21875 27.484375 \r\nz\r\nM 52.203125 31.203125 \r\nL 52.203125 0 \r\nL 43.21875 0 \r\nL 43.21875 8.296875 \r\nQ 40.140625 3.328125 35.546875 0.953125 \r\nQ 30.953125 -1.421875 24.3125 -1.421875 \r\nQ 15.921875 -1.421875 10.953125 3.296875 \r\nQ 6 8.015625 6 15.921875 \r\nQ 6 25.140625 12.171875 29.828125 \r\nQ 18.359375 34.515625 30.609375 34.515625 \r\nL 43.21875 34.515625 \r\nL 43.21875 35.40625 \r\nQ 43.21875 41.609375 39.140625 45 \r\nQ 35.0625 48.390625 27.6875 48.390625 \r\nQ 23 48.390625 18.546875 47.265625 \r\nQ 14.109375 46.140625 10.015625 43.890625 \r\nL 10.015625 52.203125 \r\nQ 14.9375 54.109375 19.578125 55.046875 \r\nQ 24.21875 56 28.609375 56 \r\nQ 40.484375 56 46.34375 49.84375 \r\nQ 52.203125 43.703125 52.203125 31.203125 \r\nz\r\nM 28.8125 66.890625 \r\nL 26.03125 69.578125 \r\nQ 24.953125 70.5625 24.140625 71.015625 \r\nQ 23.34375 71.484375 22.703125 71.484375 \r\nQ 20.84375 71.484375 19.96875 69.703125 \r\nQ 19.09375 67.921875 19 63.921875 \r\nL 12.890625 63.921875 \r\nQ 12.984375 70.515625 15.46875 74.09375 \r\nQ 17.96875 77.6875 22.40625 77.6875 \r\nQ 24.265625 77.6875 25.828125 77 \r\nQ 27.390625 76.3125 29.203125 74.703125 \r\nL 31.984375 72.015625 \r\nQ 33.0625 71.046875 33.859375 70.578125 \r\nQ 34.671875 70.125 35.296875 70.125 \r\nQ 37.15625 70.125 38.03125 71.90625 \r\nQ 38.921875 73.6875 39.015625 77.6875 \r\nL 45.125 77.6875 \r\nQ 45.015625 71.09375 42.53125 67.5 \r\nQ 40.046875 63.921875 35.59375 63.921875 \r\nQ 33.734375 63.921875 32.171875 64.59375 \r\nQ 30.609375 65.28125 28.8125 66.890625 \r\nz\r\n\" id=\"DejaVuSans-227\"/>\r\n    </defs>\r\n    <g transform=\"translate(230.142813 16.340625)scale(0.12 -0.12)\">\r\n     <use xlink:href=\"#DejaVuSans-77\"/>\r\n     <use x=\"86.279297\" xlink:href=\"#DejaVuSans-97\"/>\r\n     <use x=\"147.558594\" xlink:href=\"#DejaVuSans-116\"/>\r\n     <use x=\"186.767578\" xlink:href=\"#DejaVuSans-114\"/>\r\n     <use x=\"227.880859\" xlink:href=\"#DejaVuSans-105\"/>\r\n     <use x=\"255.664062\" xlink:href=\"#DejaVuSans-122\"/>\r\n     <use x=\"308.154297\" xlink:href=\"#DejaVuSans-32\"/>\r\n     <use x=\"339.941406\" xlink:href=\"#DejaVuSans-100\"/>\r\n     <use x=\"403.417969\" xlink:href=\"#DejaVuSans-101\"/>\r\n     <use x=\"464.941406\" xlink:href=\"#DejaVuSans-32\"/>\r\n     <use x=\"496.728516\" xlink:href=\"#DejaVuSans-99\"/>\r\n     <use x=\"551.708984\" xlink:href=\"#DejaVuSans-111\"/>\r\n     <use x=\"612.890625\" xlink:href=\"#DejaVuSans-114\"/>\r\n     <use x=\"653.988281\" xlink:href=\"#DejaVuSans-114\"/>\r\n     <use x=\"695.070312\" xlink:href=\"#DejaVuSans-101\"/>\r\n     <use x=\"756.59375\" xlink:href=\"#DejaVuSans-108\"/>\r\n     <use x=\"784.376953\" xlink:href=\"#DejaVuSans-97\"/>\r\n     <use x=\"845.65625\" xlink:href=\"#DejaVuSans-231\"/>\r\n     <use x=\"900.636719\" xlink:href=\"#DejaVuSans-227\"/>\r\n     <use x=\"961.916016\" xlink:href=\"#DejaVuSans-111\"/>\r\n     <use x=\"1023.097656\" xlink:href=\"#DejaVuSans-32\"/>\r\n     <use x=\"1054.884766\" xlink:href=\"#DejaVuSans-100\"/>\r\n     <use x=\"1118.361328\" xlink:href=\"#DejaVuSans-101\"/>\r\n     <use x=\"1179.884766\" xlink:href=\"#DejaVuSans-32\"/>\r\n     <use x=\"1211.671875\" xlink:href=\"#DejaVuSans-100\"/>\r\n     <use x=\"1275.148438\" xlink:href=\"#DejaVuSans-97\"/>\r\n     <use x=\"1336.427734\" xlink:href=\"#DejaVuSans-116\"/>\r\n     <use x=\"1375.636719\" xlink:href=\"#DejaVuSans-97\"/>\r\n     <use x=\"1436.916016\" xlink:href=\"#DejaVuSans-77\"/>\r\n     <use x=\"1523.195312\" xlink:href=\"#DejaVuSans-76\"/>\r\n    </g>\r\n   </g>\r\n  </g>\r\n  <g id=\"axes_2\">\r\n   <g id=\"patch_3\">\r\n    <path clip-path=\"url(#pe120014e97)\" d=\"M 626.199063 457.220625 \r\nL 626.199063 455.521875 \r\nL 626.199063 24.039375 \r\nL 626.199063 22.340625 \r\nL 647.943063 22.340625 \r\nL 647.943063 24.039375 \r\nL 647.943063 455.521875 \r\nL 647.943063 457.220625 \r\nz\r\n\" style=\"fill:#ffffff;stroke:#ffffff;stroke-linejoin:miter;stroke-width:0.01;\"/>\r\n   </g>\r\n   <image height=\"435\" id=\"image5c9129a2b2\" transform=\"scale(1 -1)translate(0 -435)\" width=\"22\" x=\"626\" xlink:href=\"data:image/png;base64,\r\niVBORw0KGgoAAAANSUhEUgAAABYAAAGzCAYAAAArEufSAAAABHNCSVQICAgIfAhkiAAAAjhJREFUeJztncFtwzAQBClbaSL99+k8Qp7VwDwGmCngQOzurSjEdq73z+9nAdwXMXWt9YLmrvu6mDNjg0Eplu7EOo1fWNx05lFS+OJ2v3TmtXkzWChFcdv4HqbV5uBbkKQYyLgxs7tiDb7a9GmcFIMvbkkx+B5NPaWHLoUD2BWZt/EtiNE8aLDvXtEzb6grBvBeoTOPmuyLm3HzdCemJhvNE9Ymg29BhHHLvBnsM68b/XcwMtaYY19XJMXge7nxtZtQCl/cwKc0gy/Hvq7IvMFnnq/dMm8AT4x8oaCueCDcPF+OM+8g7IrMO/hOjKWirhjIomcAzdPFzadxXXGoKx6DM29DmseILDTPV5vCuH2ouCFjM+9BXTHcFySFr92Um5d5//g0xkqI/AwLM1hpHgP58Upf3CDzhBcWnXnFbQZDn/zLvC+ZN2Ted/AFvY+R5jGDwRMLNaYuhbrNg344xmieMcfMYF9XZN6gNA+ZKyyhin4obsO9ihs92CcFGLfM22BSFLeBjJvto9jGuEFfmPJJsXRxy7xD5g0+jY3m6X7rJvMO93oxs4XmVUIH8u2/uMGDyad05p3B5XjjezQZpShuG1+7CaUobo/BOimEr2PY5unMqys2wrgJXyAzjx5c0Q+geeV404kHbEGMUvhOTP0fyKQ4+OKWFEMnHuqKoQV5DE6KDfm3/zcz2CeF8MTV5kbZFczm+TQubkNFP2Te0BVrqDYHYdyupNj44tbmDb64tXlDcRt8K/0HV94vJYiVzccAAAAASUVORK5CYII=\" y=\"-22\"/>\r\n   <g id=\"matplotlib.axis_3\"/>\r\n   <g id=\"matplotlib.axis_4\">\r\n    <g id=\"ytick_12\">\r\n     <g id=\"line2d_23\">\r\n      <defs>\r\n       <path d=\"M 0 0 \r\nL 3.5 0 \r\n\" id=\"m672502d55f\" style=\"stroke:#000000;stroke-width:0.8;\"/>\r\n      </defs>\r\n      <g>\r\n       <use style=\"stroke:#000000;stroke-width:0.8;\" x=\"647.943063\" xlink:href=\"#m672502d55f\" y=\"417.722587\"/>\r\n      </g>\r\n     </g>\r\n     <g id=\"text_145\">\r\n      <!-- −0.6 -->\r\n      <defs>\r\n       <path d=\"M 10.59375 35.5 \r\nL 73.1875 35.5 \r\nL 73.1875 27.203125 \r\nL 10.59375 27.203125 \r\nz\r\n\" id=\"DejaVuSans-8722\"/>\r\n      </defs>\r\n      <g transform=\"translate(654.943063 421.521806)scale(0.1 -0.1)\">\r\n       <use xlink:href=\"#DejaVuSans-8722\"/>\r\n       <use x=\"83.789062\" xlink:href=\"#DejaVuSans-48\"/>\r\n       <use x=\"147.412109\" xlink:href=\"#DejaVuSans-46\"/>\r\n       <use x=\"179.199219\" xlink:href=\"#DejaVuSans-54\"/>\r\n      </g>\r\n     </g>\r\n    </g>\r\n    <g id=\"ytick_13\">\r\n     <g id=\"line2d_24\">\r\n      <g>\r\n       <use style=\"stroke:#000000;stroke-width:0.8;\" x=\"647.943063\" xlink:href=\"#m672502d55f\" y=\"368.299842\"/>\r\n      </g>\r\n     </g>\r\n     <g id=\"text_146\">\r\n      <!-- −0.4 -->\r\n      <g transform=\"translate(654.943063 372.099061)scale(0.1 -0.1)\">\r\n       <use xlink:href=\"#DejaVuSans-8722\"/>\r\n       <use x=\"83.789062\" xlink:href=\"#DejaVuSans-48\"/>\r\n       <use x=\"147.412109\" xlink:href=\"#DejaVuSans-46\"/>\r\n       <use x=\"179.199219\" xlink:href=\"#DejaVuSans-52\"/>\r\n      </g>\r\n     </g>\r\n    </g>\r\n    <g id=\"ytick_14\">\r\n     <g id=\"line2d_25\">\r\n      <g>\r\n       <use style=\"stroke:#000000;stroke-width:0.8;\" x=\"647.943063\" xlink:href=\"#m672502d55f\" y=\"318.877097\"/>\r\n      </g>\r\n     </g>\r\n     <g id=\"text_147\">\r\n      <!-- −0.2 -->\r\n      <g transform=\"translate(654.943063 322.676315)scale(0.1 -0.1)\">\r\n       <use xlink:href=\"#DejaVuSans-8722\"/>\r\n       <use x=\"83.789062\" xlink:href=\"#DejaVuSans-48\"/>\r\n       <use x=\"147.412109\" xlink:href=\"#DejaVuSans-46\"/>\r\n       <use x=\"179.199219\" xlink:href=\"#DejaVuSans-50\"/>\r\n      </g>\r\n     </g>\r\n    </g>\r\n    <g id=\"ytick_15\">\r\n     <g id=\"line2d_26\">\r\n      <g>\r\n       <use style=\"stroke:#000000;stroke-width:0.8;\" x=\"647.943063\" xlink:href=\"#m672502d55f\" y=\"269.454351\"/>\r\n      </g>\r\n     </g>\r\n     <g id=\"text_148\">\r\n      <!-- 0.0 -->\r\n      <g transform=\"translate(654.943063 273.25357)scale(0.1 -0.1)\">\r\n       <use xlink:href=\"#DejaVuSans-48\"/>\r\n       <use x=\"63.623047\" xlink:href=\"#DejaVuSans-46\"/>\r\n       <use x=\"95.410156\" xlink:href=\"#DejaVuSans-48\"/>\r\n      </g>\r\n     </g>\r\n    </g>\r\n    <g id=\"ytick_16\">\r\n     <g id=\"line2d_27\">\r\n      <g>\r\n       <use style=\"stroke:#000000;stroke-width:0.8;\" x=\"647.943063\" xlink:href=\"#m672502d55f\" y=\"220.031606\"/>\r\n      </g>\r\n     </g>\r\n     <g id=\"text_149\">\r\n      <!-- 0.2 -->\r\n      <g transform=\"translate(654.943063 223.830825)scale(0.1 -0.1)\">\r\n       <use xlink:href=\"#DejaVuSans-48\"/>\r\n       <use x=\"63.623047\" xlink:href=\"#DejaVuSans-46\"/>\r\n       <use x=\"95.410156\" xlink:href=\"#DejaVuSans-50\"/>\r\n      </g>\r\n     </g>\r\n    </g>\r\n    <g id=\"ytick_17\">\r\n     <g id=\"line2d_28\">\r\n      <g>\r\n       <use style=\"stroke:#000000;stroke-width:0.8;\" x=\"647.943063\" xlink:href=\"#m672502d55f\" y=\"170.608861\"/>\r\n      </g>\r\n     </g>\r\n     <g id=\"text_150\">\r\n      <!-- 0.4 -->\r\n      <g transform=\"translate(654.943063 174.40808)scale(0.1 -0.1)\">\r\n       <use xlink:href=\"#DejaVuSans-48\"/>\r\n       <use x=\"63.623047\" xlink:href=\"#DejaVuSans-46\"/>\r\n       <use x=\"95.410156\" xlink:href=\"#DejaVuSans-52\"/>\r\n      </g>\r\n     </g>\r\n    </g>\r\n    <g id=\"ytick_18\">\r\n     <g id=\"line2d_29\">\r\n      <g>\r\n       <use style=\"stroke:#000000;stroke-width:0.8;\" x=\"647.943063\" xlink:href=\"#m672502d55f\" y=\"121.186116\"/>\r\n      </g>\r\n     </g>\r\n     <g id=\"text_151\">\r\n      <!-- 0.6 -->\r\n      <g transform=\"translate(654.943063 124.985334)scale(0.1 -0.1)\">\r\n       <use xlink:href=\"#DejaVuSans-48\"/>\r\n       <use x=\"63.623047\" xlink:href=\"#DejaVuSans-46\"/>\r\n       <use x=\"95.410156\" xlink:href=\"#DejaVuSans-54\"/>\r\n      </g>\r\n     </g>\r\n    </g>\r\n    <g id=\"ytick_19\">\r\n     <g id=\"line2d_30\">\r\n      <g>\r\n       <use style=\"stroke:#000000;stroke-width:0.8;\" x=\"647.943063\" xlink:href=\"#m672502d55f\" y=\"71.76337\"/>\r\n      </g>\r\n     </g>\r\n     <g id=\"text_152\">\r\n      <!-- 0.8 -->\r\n      <g transform=\"translate(654.943063 75.562589)scale(0.1 -0.1)\">\r\n       <use xlink:href=\"#DejaVuSans-48\"/>\r\n       <use x=\"63.623047\" xlink:href=\"#DejaVuSans-46\"/>\r\n       <use x=\"95.410156\" xlink:href=\"#DejaVuSans-56\"/>\r\n      </g>\r\n     </g>\r\n    </g>\r\n    <g id=\"ytick_20\">\r\n     <g id=\"line2d_31\">\r\n      <g>\r\n       <use style=\"stroke:#000000;stroke-width:0.8;\" x=\"647.943063\" xlink:href=\"#m672502d55f\" y=\"22.340625\"/>\r\n      </g>\r\n     </g>\r\n     <g id=\"text_153\">\r\n      <!-- 1.0 -->\r\n      <g transform=\"translate(654.943063 26.139844)scale(0.1 -0.1)\">\r\n       <use xlink:href=\"#DejaVuSans-49\"/>\r\n       <use x=\"63.623047\" xlink:href=\"#DejaVuSans-46\"/>\r\n       <use x=\"95.410156\" xlink:href=\"#DejaVuSans-48\"/>\r\n      </g>\r\n     </g>\r\n    </g>\r\n   </g>\r\n   <g id=\"patch_4\">\r\n    <path d=\"M 626.199063 457.220625 \r\nL 626.199063 455.521875 \r\nL 626.199063 24.039375 \r\nL 626.199063 22.340625 \r\nL 647.943063 22.340625 \r\nL 647.943063 24.039375 \r\nL 647.943063 455.521875 \r\nL 647.943063 457.220625 \r\nz\r\n\" style=\"fill:none;\"/>\r\n   </g>\r\n  </g>\r\n </g>\r\n <defs>\r\n  <clipPath id=\"p9740bef209\">\r\n   <rect height=\"434.88\" width=\"535.68\" x=\"57.039063\" y=\"22.340625\"/>\r\n  </clipPath>\r\n  <clipPath id=\"pe120014e97\">\r\n   <rect height=\"434.88\" width=\"21.744\" x=\"626.199063\" y=\"22.340625\"/>\r\n  </clipPath>\r\n </defs>\r\n</svg>\r\n",
      "image/png": "[encoded data removed]"
     },
     "metadata": {
      "needs_background": "light"
     }
    }
   ],
   "source": [
    "plt.figure(figsize=(12,8))\n",
    "sns.heatmap(dataML.corr(), annot=True)\n",
    "plt.title('Matriz de correlação de dataML')\n",
    "plt.show()"
   ]
  },
  {
   "cell_type": "code",
   "execution_count": 27,
   "metadata": {},
   "outputs": [
    {
     "output_type": "execute_result",
     "data": {
      "text/plain": "        CRIM  INDUS  CHAS    NOX     RM   AGE    TAX  PTRATIO       B  LSTAT  \\\n0    0.00632   2.31   0.0  0.538  6.575  65.2  296.0     15.3  396.90   4.98   \n1    0.02731   7.07   0.0  0.469  6.421  78.9  242.0     17.8  396.90   9.14   \n2    0.02729   7.07   0.0  0.469  7.185  61.1  242.0     17.8  392.83   4.03   \n3    0.03237   2.18   0.0  0.458  6.998  45.8  222.0     18.7  394.63   2.94   \n4    0.06905   2.18   0.0  0.458  7.147  54.2  222.0     18.7  396.90   5.33   \n..       ...    ...   ...    ...    ...   ...    ...      ...     ...    ...   \n501  0.06263  11.93   0.0  0.573  6.593  69.1  273.0     21.0  391.99   9.67   \n502  0.04527  11.93   0.0  0.573  6.120  76.7  273.0     21.0  396.90   9.08   \n503  0.06076  11.93   0.0  0.573  6.976  91.0  273.0     21.0  396.90   5.64   \n504  0.10959  11.93   0.0  0.573  6.794  89.3  273.0     21.0  393.45   6.48   \n505  0.04741  11.93   0.0  0.573  6.030  80.8  273.0     21.0  396.90   7.88   \n\n     MEDV  \n0    24.0  \n1    21.6  \n2    34.7  \n3    33.4  \n4    36.2  \n..    ...  \n501  22.4  \n502  20.6  \n503  23.9  \n504  22.0  \n505  11.9  \n\n[490 rows x 11 columns]",
      "text/html": "<div>\n<style scoped>\n    .dataframe tbody tr th:only-of-type {\n        vertical-align: middle;\n    }\n\n    .dataframe tbody tr th {\n        vertical-align: top;\n    }\n\n    .dataframe thead th {\n        text-align: right;\n    }\n</style>\n<table border=\"1\" class=\"dataframe\">\n  <thead>\n    <tr style=\"text-align: right;\">\n      <th></th>\n      <th>CRIM</th>\n      <th>INDUS</th>\n      <th>CHAS</th>\n      <th>NOX</th>\n      <th>RM</th>\n      <th>AGE</th>\n      <th>TAX</th>\n      <th>PTRATIO</th>\n      <th>B</th>\n      <th>LSTAT</th>\n      <th>MEDV</th>\n    </tr>\n  </thead>\n  <tbody>\n    <tr>\n      <th>0</th>\n      <td>0.00632</td>\n      <td>2.31</td>\n      <td>0.0</td>\n      <td>0.538</td>\n      <td>6.575</td>\n      <td>65.2</td>\n      <td>296.0</td>\n      <td>15.3</td>\n      <td>396.90</td>\n      <td>4.98</td>\n      <td>24.0</td>\n    </tr>\n    <tr>\n      <th>1</th>\n      <td>0.02731</td>\n      <td>7.07</td>\n      <td>0.0</td>\n      <td>0.469</td>\n      <td>6.421</td>\n      <td>78.9</td>\n      <td>242.0</td>\n      <td>17.8</td>\n      <td>396.90</td>\n      <td>9.14</td>\n      <td>21.6</td>\n    </tr>\n    <tr>\n      <th>2</th>\n      <td>0.02729</td>\n      <td>7.07</td>\n      <td>0.0</td>\n      <td>0.469</td>\n      <td>7.185</td>\n      <td>61.1</td>\n      <td>242.0</td>\n      <td>17.8</td>\n      <td>392.83</td>\n      <td>4.03</td>\n      <td>34.7</td>\n    </tr>\n    <tr>\n      <th>3</th>\n      <td>0.03237</td>\n      <td>2.18</td>\n      <td>0.0</td>\n      <td>0.458</td>\n      <td>6.998</td>\n      <td>45.8</td>\n      <td>222.0</td>\n      <td>18.7</td>\n      <td>394.63</td>\n      <td>2.94</td>\n      <td>33.4</td>\n    </tr>\n    <tr>\n      <th>4</th>\n      <td>0.06905</td>\n      <td>2.18</td>\n      <td>0.0</td>\n      <td>0.458</td>\n      <td>7.147</td>\n      <td>54.2</td>\n      <td>222.0</td>\n      <td>18.7</td>\n      <td>396.90</td>\n      <td>5.33</td>\n      <td>36.2</td>\n    </tr>\n    <tr>\n      <th>...</th>\n      <td>...</td>\n      <td>...</td>\n      <td>...</td>\n      <td>...</td>\n      <td>...</td>\n      <td>...</td>\n      <td>...</td>\n      <td>...</td>\n      <td>...</td>\n      <td>...</td>\n      <td>...</td>\n    </tr>\n    <tr>\n      <th>501</th>\n      <td>0.06263</td>\n      <td>11.93</td>\n      <td>0.0</td>\n      <td>0.573</td>\n      <td>6.593</td>\n      <td>69.1</td>\n      <td>273.0</td>\n      <td>21.0</td>\n      <td>391.99</td>\n      <td>9.67</td>\n      <td>22.4</td>\n    </tr>\n    <tr>\n      <th>502</th>\n      <td>0.04527</td>\n      <td>11.93</td>\n      <td>0.0</td>\n      <td>0.573</td>\n      <td>6.120</td>\n      <td>76.7</td>\n      <td>273.0</td>\n      <td>21.0</td>\n      <td>396.90</td>\n      <td>9.08</td>\n      <td>20.6</td>\n    </tr>\n    <tr>\n      <th>503</th>\n      <td>0.06076</td>\n      <td>11.93</td>\n      <td>0.0</td>\n      <td>0.573</td>\n      <td>6.976</td>\n      <td>91.0</td>\n      <td>273.0</td>\n      <td>21.0</td>\n      <td>396.90</td>\n      <td>5.64</td>\n      <td>23.9</td>\n    </tr>\n    <tr>\n      <th>504</th>\n      <td>0.10959</td>\n      <td>11.93</td>\n      <td>0.0</td>\n      <td>0.573</td>\n      <td>6.794</td>\n      <td>89.3</td>\n      <td>273.0</td>\n      <td>21.0</td>\n      <td>393.45</td>\n      <td>6.48</td>\n      <td>22.0</td>\n    </tr>\n    <tr>\n      <th>505</th>\n      <td>0.04741</td>\n      <td>11.93</td>\n      <td>0.0</td>\n      <td>0.573</td>\n      <td>6.030</td>\n      <td>80.8</td>\n      <td>273.0</td>\n      <td>21.0</td>\n      <td>396.90</td>\n      <td>7.88</td>\n      <td>11.9</td>\n    </tr>\n  </tbody>\n</table>\n<p>490 rows × 11 columns</p>\n</div>"
     },
     "metadata": {},
     "execution_count": 27
    }
   ],
   "source": [
    "dataML"
   ]
  },
  {
   "cell_type": "code",
   "execution_count": 49,
   "metadata": {},
   "outputs": [
    {
     "output_type": "execute_result",
     "data": {
      "text/plain": "Index(['CRIM', 'INDUS', 'CHAS', 'NOX', 'RM', 'AGE', 'DIS', 'RAD', 'TAX',\n       'PTRATIO', 'B', 'LSTAT', 'MEDV'],\n      dtype='object')"
     },
     "metadata": {},
     "execution_count": 49
    }
   ],
   "source": [
    "data_drop_max.columns"
   ]
  },
  {
   "cell_type": "code",
   "execution_count": 59,
   "metadata": {},
   "outputs": [],
   "source": [
    "dataVIFcolumns = []\n",
    "for i in data_drop_max.columns:\n",
    "    if i != 'MEDV':\n",
    "        dataVIFcolumns.append(i)\n",
    "dataVIF = data_drop_max[dataVIFcolumns]"
   ]
  },
  {
   "cell_type": "code",
   "execution_count": 60,
   "metadata": {},
   "outputs": [
    {
     "output_type": "execute_result",
     "data": {
      "text/plain": "      CRIM  INDUS  CHAS    NOX     RM   AGE     DIS  RAD    TAX  PTRATIO  \\\n0  0.00632   2.31   0.0  0.538  6.575  65.2  4.0900  1.0  296.0     15.3   \n1  0.02731   7.07   0.0  0.469  6.421  78.9  4.9671  2.0  242.0     17.8   \n2  0.02729   7.07   0.0  0.469  7.185  61.1  4.9671  2.0  242.0     17.8   \n3  0.03237   2.18   0.0  0.458  6.998  45.8  6.0622  3.0  222.0     18.7   \n4  0.06905   2.18   0.0  0.458  7.147  54.2  6.0622  3.0  222.0     18.7   \n\n        B  LSTAT  \n0  396.90   4.98  \n1  396.90   9.14  \n2  392.83   4.03  \n3  394.63   2.94  \n4  396.90   5.33  ",
      "text/html": "<div>\n<style scoped>\n    .dataframe tbody tr th:only-of-type {\n        vertical-align: middle;\n    }\n\n    .dataframe tbody tr th {\n        vertical-align: top;\n    }\n\n    .dataframe thead th {\n        text-align: right;\n    }\n</style>\n<table border=\"1\" class=\"dataframe\">\n  <thead>\n    <tr style=\"text-align: right;\">\n      <th></th>\n      <th>CRIM</th>\n      <th>INDUS</th>\n      <th>CHAS</th>\n      <th>NOX</th>\n      <th>RM</th>\n      <th>AGE</th>\n      <th>DIS</th>\n      <th>RAD</th>\n      <th>TAX</th>\n      <th>PTRATIO</th>\n      <th>B</th>\n      <th>LSTAT</th>\n    </tr>\n  </thead>\n  <tbody>\n    <tr>\n      <th>0</th>\n      <td>0.00632</td>\n      <td>2.31</td>\n      <td>0.0</td>\n      <td>0.538</td>\n      <td>6.575</td>\n      <td>65.2</td>\n      <td>4.0900</td>\n      <td>1.0</td>\n      <td>296.0</td>\n      <td>15.3</td>\n      <td>396.90</td>\n      <td>4.98</td>\n    </tr>\n    <tr>\n      <th>1</th>\n      <td>0.02731</td>\n      <td>7.07</td>\n      <td>0.0</td>\n      <td>0.469</td>\n      <td>6.421</td>\n      <td>78.9</td>\n      <td>4.9671</td>\n      <td>2.0</td>\n      <td>242.0</td>\n      <td>17.8</td>\n      <td>396.90</td>\n      <td>9.14</td>\n    </tr>\n    <tr>\n      <th>2</th>\n      <td>0.02729</td>\n      <td>7.07</td>\n      <td>0.0</td>\n      <td>0.469</td>\n      <td>7.185</td>\n      <td>61.1</td>\n      <td>4.9671</td>\n      <td>2.0</td>\n      <td>242.0</td>\n      <td>17.8</td>\n      <td>392.83</td>\n      <td>4.03</td>\n    </tr>\n    <tr>\n      <th>3</th>\n      <td>0.03237</td>\n      <td>2.18</td>\n      <td>0.0</td>\n      <td>0.458</td>\n      <td>6.998</td>\n      <td>45.8</td>\n      <td>6.0622</td>\n      <td>3.0</td>\n      <td>222.0</td>\n      <td>18.7</td>\n      <td>394.63</td>\n      <td>2.94</td>\n    </tr>\n    <tr>\n      <th>4</th>\n      <td>0.06905</td>\n      <td>2.18</td>\n      <td>0.0</td>\n      <td>0.458</td>\n      <td>7.147</td>\n      <td>54.2</td>\n      <td>6.0622</td>\n      <td>3.0</td>\n      <td>222.0</td>\n      <td>18.7</td>\n      <td>396.90</td>\n      <td>5.33</td>\n    </tr>\n  </tbody>\n</table>\n</div>"
     },
     "metadata": {},
     "execution_count": 60
    }
   ],
   "source": [
    "dataVIF.head()"
   ]
  },
  {
   "cell_type": "code",
   "execution_count": 61,
   "metadata": {},
   "outputs": [],
   "source": [
    "vif = pd.DataFrame()\n",
    "vif[\"VIF Factor\"] = [outinf.variance_inflation_factor(dataVIF.values, i) for i in range(dataVIF.shape[1])]\n",
    "vif[\"features\"] = dataVIF.columns"
   ]
  },
  {
   "cell_type": "code",
   "execution_count": 58,
   "metadata": {},
   "outputs": [
    {
     "output_type": "execute_result",
     "data": {
      "text/plain": "    VIF Factor features\n0     2.083784     CRIM\n1    14.317253    INDUS\n2     1.152678     CHAS\n3    73.839155      NOX\n4    73.280986       RM\n5    21.062725      AGE\n6    11.854989      DIS\n7    14.958813      RAD\n8    58.067244      TAX\n9    73.297996  PTRATIO\n10   20.097636        B\n11   11.057902    LSTAT",
      "text/html": "<div>\n<style scoped>\n    .dataframe tbody tr th:only-of-type {\n        vertical-align: middle;\n    }\n\n    .dataframe tbody tr th {\n        vertical-align: top;\n    }\n\n    .dataframe thead th {\n        text-align: right;\n    }\n</style>\n<table border=\"1\" class=\"dataframe\">\n  <thead>\n    <tr style=\"text-align: right;\">\n      <th></th>\n      <th>VIF Factor</th>\n      <th>features</th>\n    </tr>\n  </thead>\n  <tbody>\n    <tr>\n      <th>0</th>\n      <td>2.083784</td>\n      <td>CRIM</td>\n    </tr>\n    <tr>\n      <th>1</th>\n      <td>14.317253</td>\n      <td>INDUS</td>\n    </tr>\n    <tr>\n      <th>2</th>\n      <td>1.152678</td>\n      <td>CHAS</td>\n    </tr>\n    <tr>\n      <th>3</th>\n      <td>73.839155</td>\n      <td>NOX</td>\n    </tr>\n    <tr>\n      <th>4</th>\n      <td>73.280986</td>\n      <td>RM</td>\n    </tr>\n    <tr>\n      <th>5</th>\n      <td>21.062725</td>\n      <td>AGE</td>\n    </tr>\n    <tr>\n      <th>6</th>\n      <td>11.854989</td>\n      <td>DIS</td>\n    </tr>\n    <tr>\n      <th>7</th>\n      <td>14.958813</td>\n      <td>RAD</td>\n    </tr>\n    <tr>\n      <th>8</th>\n      <td>58.067244</td>\n      <td>TAX</td>\n    </tr>\n    <tr>\n      <th>9</th>\n      <td>73.297996</td>\n      <td>PTRATIO</td>\n    </tr>\n    <tr>\n      <th>10</th>\n      <td>20.097636</td>\n      <td>B</td>\n    </tr>\n    <tr>\n      <th>11</th>\n      <td>11.057902</td>\n      <td>LSTAT</td>\n    </tr>\n  </tbody>\n</table>\n</div>"
     },
     "metadata": {},
     "execution_count": 58
    }
   ],
   "source": [
    "vif"
   ]
  },
  {
   "cell_type": "code",
   "execution_count": 62,
   "metadata": {},
   "outputs": [],
   "source": [
    "vif = pd.DataFrame()\n",
    "vif[\"VIF Factor\"] = [outinf.variance_inflation_factor(data_drop_max.values, i) for i in range(data_drop_max.shape[1])]\n",
    "vif[\"features\"] = data_drop_max.columns"
   ]
  },
  {
   "cell_type": "code",
   "execution_count": 63,
   "metadata": {},
   "outputs": [
    {
     "output_type": "execute_result",
     "data": {
      "text/plain": "    VIF Factor features\n0     2.120217     CRIM\n1    14.510911    INDUS\n2     1.129719     CHAS\n3    73.469579      NOX\n4   169.825688       RM\n5    21.428795      AGE\n6    12.344067      DIS\n7    14.695367      RAD\n8    57.794152      TAX\n9    82.850048  PTRATIO\n10   20.912523        B\n11   12.898318    LSTAT\n12   33.570298     MEDV",
      "text/html": "<div>\n<style scoped>\n    .dataframe tbody tr th:only-of-type {\n        vertical-align: middle;\n    }\n\n    .dataframe tbody tr th {\n        vertical-align: top;\n    }\n\n    .dataframe thead th {\n        text-align: right;\n    }\n</style>\n<table border=\"1\" class=\"dataframe\">\n  <thead>\n    <tr style=\"text-align: right;\">\n      <th></th>\n      <th>VIF Factor</th>\n      <th>features</th>\n    </tr>\n  </thead>\n  <tbody>\n    <tr>\n      <th>0</th>\n      <td>2.120217</td>\n      <td>CRIM</td>\n    </tr>\n    <tr>\n      <th>1</th>\n      <td>14.510911</td>\n      <td>INDUS</td>\n    </tr>\n    <tr>\n      <th>2</th>\n      <td>1.129719</td>\n      <td>CHAS</td>\n    </tr>\n    <tr>\n      <th>3</th>\n      <td>73.469579</td>\n      <td>NOX</td>\n    </tr>\n    <tr>\n      <th>4</th>\n      <td>169.825688</td>\n      <td>RM</td>\n    </tr>\n    <tr>\n      <th>5</th>\n      <td>21.428795</td>\n      <td>AGE</td>\n    </tr>\n    <tr>\n      <th>6</th>\n      <td>12.344067</td>\n      <td>DIS</td>\n    </tr>\n    <tr>\n      <th>7</th>\n      <td>14.695367</td>\n      <td>RAD</td>\n    </tr>\n    <tr>\n      <th>8</th>\n      <td>57.794152</td>\n      <td>TAX</td>\n    </tr>\n    <tr>\n      <th>9</th>\n      <td>82.850048</td>\n      <td>PTRATIO</td>\n    </tr>\n    <tr>\n      <th>10</th>\n      <td>20.912523</td>\n      <td>B</td>\n    </tr>\n    <tr>\n      <th>11</th>\n      <td>12.898318</td>\n      <td>LSTAT</td>\n    </tr>\n    <tr>\n      <th>12</th>\n      <td>33.570298</td>\n      <td>MEDV</td>\n    </tr>\n  </tbody>\n</table>\n</div>"
     },
     "metadata": {},
     "execution_count": 63
    }
   ],
   "source": [
    "vif"
   ]
  },
  {
   "cell_type": "code",
   "execution_count": null,
   "metadata": {},
   "outputs": [],
   "source": []
  }
 ],
 "metadata": {
  "language_info": {
   "codemirror_mode": {
    "name": "ipython",
    "version": 3
   },
   "file_extension": ".py",
   "mimetype": "text/x-python",
   "name": "python",
   "nbconvert_exporter": "python",
   "pygments_lexer": "ipython3",
   "version": "3.7.6-final"
  },
  "orig_nbformat": 2,
  "kernelspec": {
   "name": "python37664bitbaseconda573228e01570409b9c38cc7845b8bda3",
   "display_name": "Python 3.7.6 64-bit ('base': conda)"
  }
 },
 "nbformat": 4,
 "nbformat_minor": 2
}