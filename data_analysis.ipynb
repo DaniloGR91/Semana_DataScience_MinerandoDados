{
  "nbformat": 4,
  "nbformat_minor": 0,
  "metadata": {
    "language_info": {
      "codemirror_mode": {
        "name": "ipython",
        "version": 3
      },
      "file_extension": ".py",
      "mimetype": "text/x-python",
      "name": "python",
      "nbconvert_exporter": "python",
      "pygments_lexer": "ipython3",
      "version": "3.7.6-final"
    },
    "orig_nbformat": 2,
    "kernelspec": {
      "name": "python37664bitbaseconda573228e01570409b9c38cc7845b8bda3",
      "display_name": "Python 3.7.6 64-bit ('base': conda)"
    },
    "colab": {
      "name": "data_analysis.ipynb",
      "provenance": []
    }
  },
  "cells": [
    {
      "cell_type": "markdown",
      "metadata": {
        "id": "VRObDTVQk4MW",
        "colab_type": "text"
      },
      "source": [
        "# Visualização e estudo dos dados\n",
        "## Bibliotecas necessárias"
      ]
    },
    {
      "cell_type": "code",
      "metadata": {
        "id": "Sk0BgZBgk4MY",
        "colab_type": "code",
        "colab": {
          "base_uri": "https://localhost:8080/",
          "height": 71
        },
        "outputId": "f4fd8306-8ad4-4b25-8733-deb61f2fccea"
      },
      "source": [
        "import pandas as pd\n",
        "import numpy as np\n",
        "import seaborn as sns\n",
        "import math\n",
        "import plotly.express as px\n",
        "import plotly.figure_factory as pff\n",
        "import plotly.graph_objects as pgo\n",
        "import matplotlib.pyplot as plt\n",
        "from sklearn.datasets import load_boston\n",
        "from statsmodels.stats import outliers_influence as outinf\n",
        "from sklearn.metrics import mean_squared_error as mse"
      ],
      "execution_count": 1,
      "outputs": [
        {
          "output_type": "stream",
          "text": [
            "/usr/local/lib/python3.6/dist-packages/statsmodels/tools/_testing.py:19: FutureWarning: pandas.util.testing is deprecated. Use the functions in the public API at pandas.testing instead.\n",
            "  import pandas.util.testing as tm\n"
          ],
          "name": "stderr"
        }
      ]
    },
    {
      "cell_type": "markdown",
      "metadata": {
        "id": "xUgnVYeOk4Mj",
        "colab_type": "text"
      },
      "source": [
        "O dado foi obtido da biblioteca sklearn.datasets e conta com o dataset, um array com nome das colunas, o target e uma descrição dos parâmetros."
      ]
    },
    {
      "cell_type": "code",
      "metadata": {
        "id": "mNviV5jpk4Mk",
        "colab_type": "code",
        "colab": {
          "base_uri": "https://localhost:8080/",
          "height": 904
        },
        "outputId": "a6dfeeb6-e364-46df-dd63-1f3feac9e77d"
      },
      "source": [
        "boston = load_boston()\n",
        "print(boston.DESCR)"
      ],
      "execution_count": 2,
      "outputs": [
        {
          "output_type": "stream",
          "text": [
            ".. _boston_dataset:\n",
            "\n",
            "Boston house prices dataset\n",
            "---------------------------\n",
            "\n",
            "**Data Set Characteristics:**  \n",
            "\n",
            "    :Number of Instances: 506 \n",
            "\n",
            "    :Number of Attributes: 13 numeric/categorical predictive. Median Value (attribute 14) is usually the target.\n",
            "\n",
            "    :Attribute Information (in order):\n",
            "        - CRIM     per capita crime rate by town\n",
            "        - ZN       proportion of residential land zoned for lots over 25,000 sq.ft.\n",
            "        - INDUS    proportion of non-retail business acres per town\n",
            "        - CHAS     Charles River dummy variable (= 1 if tract bounds river; 0 otherwise)\n",
            "        - NOX      nitric oxides concentration (parts per 10 million)\n",
            "        - RM       average number of rooms per dwelling\n",
            "        - AGE      proportion of owner-occupied units built prior to 1940\n",
            "        - DIS      weighted distances to five Boston employment centres\n",
            "        - RAD      index of accessibility to radial highways\n",
            "        - TAX      full-value property-tax rate per $10,000\n",
            "        - PTRATIO  pupil-teacher ratio by town\n",
            "        - B        1000(Bk - 0.63)^2 where Bk is the proportion of blacks by town\n",
            "        - LSTAT    % lower status of the population\n",
            "        - MEDV     Median value of owner-occupied homes in $1000's\n",
            "\n",
            "    :Missing Attribute Values: None\n",
            "\n",
            "    :Creator: Harrison, D. and Rubinfeld, D.L.\n",
            "\n",
            "This is a copy of UCI ML housing dataset.\n",
            "https://archive.ics.uci.edu/ml/machine-learning-databases/housing/\n",
            "\n",
            "\n",
            "This dataset was taken from the StatLib library which is maintained at Carnegie Mellon University.\n",
            "\n",
            "The Boston house-price data of Harrison, D. and Rubinfeld, D.L. 'Hedonic\n",
            "prices and the demand for clean air', J. Environ. Economics & Management,\n",
            "vol.5, 81-102, 1978.   Used in Belsley, Kuh & Welsch, 'Regression diagnostics\n",
            "...', Wiley, 1980.   N.B. Various transformations are used in the table on\n",
            "pages 244-261 of the latter.\n",
            "\n",
            "The Boston house-price data has been used in many machine learning papers that address regression\n",
            "problems.   \n",
            "     \n",
            ".. topic:: References\n",
            "\n",
            "   - Belsley, Kuh & Welsch, 'Regression diagnostics: Identifying Influential Data and Sources of Collinearity', Wiley, 1980. 244-261.\n",
            "   - Quinlan,R. (1993). Combining Instance-Based and Model-Based Learning. In Proceedings on the Tenth International Conference of Machine Learning, 236-243, University of Massachusetts, Amherst. Morgan Kaufmann.\n",
            "\n"
          ],
          "name": "stdout"
        }
      ]
    },
    {
      "cell_type": "code",
      "metadata": {
        "id": "j1EBb8Nlk4Mt",
        "colab_type": "code",
        "colab": {
          "base_uri": "https://localhost:8080/",
          "height": 204
        },
        "outputId": "d1d6abd4-6a1f-47c9-90e0-c04d9f7b216f"
      },
      "source": [
        "# Incorporação dos dados em um dataframe pandas\n",
        "data = pd.DataFrame(boston.data, columns = boston.feature_names)\n",
        "data.head()"
      ],
      "execution_count": 3,
      "outputs": [
        {
          "output_type": "execute_result",
          "data": {
            "text/html": [
              "<div>\n",
              "<style scoped>\n",
              "    .dataframe tbody tr th:only-of-type {\n",
              "        vertical-align: middle;\n",
              "    }\n",
              "\n",
              "    .dataframe tbody tr th {\n",
              "        vertical-align: top;\n",
              "    }\n",
              "\n",
              "    .dataframe thead th {\n",
              "        text-align: right;\n",
              "    }\n",
              "</style>\n",
              "<table border=\"1\" class=\"dataframe\">\n",
              "  <thead>\n",
              "    <tr style=\"text-align: right;\">\n",
              "      <th></th>\n",
              "      <th>CRIM</th>\n",
              "      <th>ZN</th>\n",
              "      <th>INDUS</th>\n",
              "      <th>CHAS</th>\n",
              "      <th>NOX</th>\n",
              "      <th>RM</th>\n",
              "      <th>AGE</th>\n",
              "      <th>DIS</th>\n",
              "      <th>RAD</th>\n",
              "      <th>TAX</th>\n",
              "      <th>PTRATIO</th>\n",
              "      <th>B</th>\n",
              "      <th>LSTAT</th>\n",
              "    </tr>\n",
              "  </thead>\n",
              "  <tbody>\n",
              "    <tr>\n",
              "      <th>0</th>\n",
              "      <td>0.00632</td>\n",
              "      <td>18.0</td>\n",
              "      <td>2.31</td>\n",
              "      <td>0.0</td>\n",
              "      <td>0.538</td>\n",
              "      <td>6.575</td>\n",
              "      <td>65.2</td>\n",
              "      <td>4.0900</td>\n",
              "      <td>1.0</td>\n",
              "      <td>296.0</td>\n",
              "      <td>15.3</td>\n",
              "      <td>396.90</td>\n",
              "      <td>4.98</td>\n",
              "    </tr>\n",
              "    <tr>\n",
              "      <th>1</th>\n",
              "      <td>0.02731</td>\n",
              "      <td>0.0</td>\n",
              "      <td>7.07</td>\n",
              "      <td>0.0</td>\n",
              "      <td>0.469</td>\n",
              "      <td>6.421</td>\n",
              "      <td>78.9</td>\n",
              "      <td>4.9671</td>\n",
              "      <td>2.0</td>\n",
              "      <td>242.0</td>\n",
              "      <td>17.8</td>\n",
              "      <td>396.90</td>\n",
              "      <td>9.14</td>\n",
              "    </tr>\n",
              "    <tr>\n",
              "      <th>2</th>\n",
              "      <td>0.02729</td>\n",
              "      <td>0.0</td>\n",
              "      <td>7.07</td>\n",
              "      <td>0.0</td>\n",
              "      <td>0.469</td>\n",
              "      <td>7.185</td>\n",
              "      <td>61.1</td>\n",
              "      <td>4.9671</td>\n",
              "      <td>2.0</td>\n",
              "      <td>242.0</td>\n",
              "      <td>17.8</td>\n",
              "      <td>392.83</td>\n",
              "      <td>4.03</td>\n",
              "    </tr>\n",
              "    <tr>\n",
              "      <th>3</th>\n",
              "      <td>0.03237</td>\n",
              "      <td>0.0</td>\n",
              "      <td>2.18</td>\n",
              "      <td>0.0</td>\n",
              "      <td>0.458</td>\n",
              "      <td>6.998</td>\n",
              "      <td>45.8</td>\n",
              "      <td>6.0622</td>\n",
              "      <td>3.0</td>\n",
              "      <td>222.0</td>\n",
              "      <td>18.7</td>\n",
              "      <td>394.63</td>\n",
              "      <td>2.94</td>\n",
              "    </tr>\n",
              "    <tr>\n",
              "      <th>4</th>\n",
              "      <td>0.06905</td>\n",
              "      <td>0.0</td>\n",
              "      <td>2.18</td>\n",
              "      <td>0.0</td>\n",
              "      <td>0.458</td>\n",
              "      <td>7.147</td>\n",
              "      <td>54.2</td>\n",
              "      <td>6.0622</td>\n",
              "      <td>3.0</td>\n",
              "      <td>222.0</td>\n",
              "      <td>18.7</td>\n",
              "      <td>396.90</td>\n",
              "      <td>5.33</td>\n",
              "    </tr>\n",
              "  </tbody>\n",
              "</table>\n",
              "</div>"
            ],
            "text/plain": [
              "      CRIM    ZN  INDUS  CHAS    NOX  ...  RAD    TAX  PTRATIO       B  LSTAT\n",
              "0  0.00632  18.0   2.31   0.0  0.538  ...  1.0  296.0     15.3  396.90   4.98\n",
              "1  0.02731   0.0   7.07   0.0  0.469  ...  2.0  242.0     17.8  396.90   9.14\n",
              "2  0.02729   0.0   7.07   0.0  0.469  ...  2.0  242.0     17.8  392.83   4.03\n",
              "3  0.03237   0.0   2.18   0.0  0.458  ...  3.0  222.0     18.7  394.63   2.94\n",
              "4  0.06905   0.0   2.18   0.0  0.458  ...  3.0  222.0     18.7  396.90   5.33\n",
              "\n",
              "[5 rows x 13 columns]"
            ]
          },
          "metadata": {
            "tags": []
          },
          "execution_count": 3
        }
      ]
    },
    {
      "cell_type": "code",
      "metadata": {
        "id": "61REG_5ak4M0",
        "colab_type": "code",
        "colab": {}
      },
      "source": [
        "# Adição dos dados MEDV (target) no dataframe\n",
        "data['MEDV'] = boston.target"
      ],
      "execution_count": 0,
      "outputs": []
    },
    {
      "cell_type": "code",
      "metadata": {
        "id": "1M7-q6WKk4M3",
        "colab_type": "code",
        "colab": {
          "base_uri": "https://localhost:8080/",
          "height": 204
        },
        "outputId": "a12283bb-440b-49f9-d0bf-ddb6eca7e19f"
      },
      "source": [
        "data.head()"
      ],
      "execution_count": 5,
      "outputs": [
        {
          "output_type": "execute_result",
          "data": {
            "text/html": [
              "<div>\n",
              "<style scoped>\n",
              "    .dataframe tbody tr th:only-of-type {\n",
              "        vertical-align: middle;\n",
              "    }\n",
              "\n",
              "    .dataframe tbody tr th {\n",
              "        vertical-align: top;\n",
              "    }\n",
              "\n",
              "    .dataframe thead th {\n",
              "        text-align: right;\n",
              "    }\n",
              "</style>\n",
              "<table border=\"1\" class=\"dataframe\">\n",
              "  <thead>\n",
              "    <tr style=\"text-align: right;\">\n",
              "      <th></th>\n",
              "      <th>CRIM</th>\n",
              "      <th>ZN</th>\n",
              "      <th>INDUS</th>\n",
              "      <th>CHAS</th>\n",
              "      <th>NOX</th>\n",
              "      <th>RM</th>\n",
              "      <th>AGE</th>\n",
              "      <th>DIS</th>\n",
              "      <th>RAD</th>\n",
              "      <th>TAX</th>\n",
              "      <th>PTRATIO</th>\n",
              "      <th>B</th>\n",
              "      <th>LSTAT</th>\n",
              "      <th>MEDV</th>\n",
              "    </tr>\n",
              "  </thead>\n",
              "  <tbody>\n",
              "    <tr>\n",
              "      <th>0</th>\n",
              "      <td>0.00632</td>\n",
              "      <td>18.0</td>\n",
              "      <td>2.31</td>\n",
              "      <td>0.0</td>\n",
              "      <td>0.538</td>\n",
              "      <td>6.575</td>\n",
              "      <td>65.2</td>\n",
              "      <td>4.0900</td>\n",
              "      <td>1.0</td>\n",
              "      <td>296.0</td>\n",
              "      <td>15.3</td>\n",
              "      <td>396.90</td>\n",
              "      <td>4.98</td>\n",
              "      <td>24.0</td>\n",
              "    </tr>\n",
              "    <tr>\n",
              "      <th>1</th>\n",
              "      <td>0.02731</td>\n",
              "      <td>0.0</td>\n",
              "      <td>7.07</td>\n",
              "      <td>0.0</td>\n",
              "      <td>0.469</td>\n",
              "      <td>6.421</td>\n",
              "      <td>78.9</td>\n",
              "      <td>4.9671</td>\n",
              "      <td>2.0</td>\n",
              "      <td>242.0</td>\n",
              "      <td>17.8</td>\n",
              "      <td>396.90</td>\n",
              "      <td>9.14</td>\n",
              "      <td>21.6</td>\n",
              "    </tr>\n",
              "    <tr>\n",
              "      <th>2</th>\n",
              "      <td>0.02729</td>\n",
              "      <td>0.0</td>\n",
              "      <td>7.07</td>\n",
              "      <td>0.0</td>\n",
              "      <td>0.469</td>\n",
              "      <td>7.185</td>\n",
              "      <td>61.1</td>\n",
              "      <td>4.9671</td>\n",
              "      <td>2.0</td>\n",
              "      <td>242.0</td>\n",
              "      <td>17.8</td>\n",
              "      <td>392.83</td>\n",
              "      <td>4.03</td>\n",
              "      <td>34.7</td>\n",
              "    </tr>\n",
              "    <tr>\n",
              "      <th>3</th>\n",
              "      <td>0.03237</td>\n",
              "      <td>0.0</td>\n",
              "      <td>2.18</td>\n",
              "      <td>0.0</td>\n",
              "      <td>0.458</td>\n",
              "      <td>6.998</td>\n",
              "      <td>45.8</td>\n",
              "      <td>6.0622</td>\n",
              "      <td>3.0</td>\n",
              "      <td>222.0</td>\n",
              "      <td>18.7</td>\n",
              "      <td>394.63</td>\n",
              "      <td>2.94</td>\n",
              "      <td>33.4</td>\n",
              "    </tr>\n",
              "    <tr>\n",
              "      <th>4</th>\n",
              "      <td>0.06905</td>\n",
              "      <td>0.0</td>\n",
              "      <td>2.18</td>\n",
              "      <td>0.0</td>\n",
              "      <td>0.458</td>\n",
              "      <td>7.147</td>\n",
              "      <td>54.2</td>\n",
              "      <td>6.0622</td>\n",
              "      <td>3.0</td>\n",
              "      <td>222.0</td>\n",
              "      <td>18.7</td>\n",
              "      <td>396.90</td>\n",
              "      <td>5.33</td>\n",
              "      <td>36.2</td>\n",
              "    </tr>\n",
              "  </tbody>\n",
              "</table>\n",
              "</div>"
            ],
            "text/plain": [
              "      CRIM    ZN  INDUS  CHAS    NOX  ...    TAX  PTRATIO       B  LSTAT  MEDV\n",
              "0  0.00632  18.0   2.31   0.0  0.538  ...  296.0     15.3  396.90   4.98  24.0\n",
              "1  0.02731   0.0   7.07   0.0  0.469  ...  242.0     17.8  396.90   9.14  21.6\n",
              "2  0.02729   0.0   7.07   0.0  0.469  ...  242.0     17.8  392.83   4.03  34.7\n",
              "3  0.03237   0.0   2.18   0.0  0.458  ...  222.0     18.7  394.63   2.94  33.4\n",
              "4  0.06905   0.0   2.18   0.0  0.458  ...  222.0     18.7  396.90   5.33  36.2\n",
              "\n",
              "[5 rows x 14 columns]"
            ]
          },
          "metadata": {
            "tags": []
          },
          "execution_count": 5
        }
      ]
    },
    {
      "cell_type": "markdown",
      "metadata": {
        "id": "OsMb94exk4M7",
        "colab_type": "text"
      },
      "source": [
        "## Análise dos dados\n",
        "Os dados já foram inseridos em um DataFrame Pandas, e agora devem ser analisados.\n",
        "Inicialmente será feita análise descritiva, bem como análise do dataframe em busca de valores 0 e valores NaN."
      ]
    },
    {
      "cell_type": "code",
      "metadata": {
        "id": "Ci14LCEgk4M8",
        "colab_type": "code",
        "colab": {
          "base_uri": "https://localhost:8080/",
          "height": 317
        },
        "outputId": "99c731e6-6ffb-4450-c72a-3108b44e75ac"
      },
      "source": [
        "data.describe()"
      ],
      "execution_count": 6,
      "outputs": [
        {
          "output_type": "execute_result",
          "data": {
            "text/html": [
              "<div>\n",
              "<style scoped>\n",
              "    .dataframe tbody tr th:only-of-type {\n",
              "        vertical-align: middle;\n",
              "    }\n",
              "\n",
              "    .dataframe tbody tr th {\n",
              "        vertical-align: top;\n",
              "    }\n",
              "\n",
              "    .dataframe thead th {\n",
              "        text-align: right;\n",
              "    }\n",
              "</style>\n",
              "<table border=\"1\" class=\"dataframe\">\n",
              "  <thead>\n",
              "    <tr style=\"text-align: right;\">\n",
              "      <th></th>\n",
              "      <th>CRIM</th>\n",
              "      <th>ZN</th>\n",
              "      <th>INDUS</th>\n",
              "      <th>CHAS</th>\n",
              "      <th>NOX</th>\n",
              "      <th>RM</th>\n",
              "      <th>AGE</th>\n",
              "      <th>DIS</th>\n",
              "      <th>RAD</th>\n",
              "      <th>TAX</th>\n",
              "      <th>PTRATIO</th>\n",
              "      <th>B</th>\n",
              "      <th>LSTAT</th>\n",
              "      <th>MEDV</th>\n",
              "    </tr>\n",
              "  </thead>\n",
              "  <tbody>\n",
              "    <tr>\n",
              "      <th>count</th>\n",
              "      <td>506.000000</td>\n",
              "      <td>506.000000</td>\n",
              "      <td>506.000000</td>\n",
              "      <td>506.000000</td>\n",
              "      <td>506.000000</td>\n",
              "      <td>506.000000</td>\n",
              "      <td>506.000000</td>\n",
              "      <td>506.000000</td>\n",
              "      <td>506.000000</td>\n",
              "      <td>506.000000</td>\n",
              "      <td>506.000000</td>\n",
              "      <td>506.000000</td>\n",
              "      <td>506.000000</td>\n",
              "      <td>506.000000</td>\n",
              "    </tr>\n",
              "    <tr>\n",
              "      <th>mean</th>\n",
              "      <td>3.613524</td>\n",
              "      <td>11.363636</td>\n",
              "      <td>11.136779</td>\n",
              "      <td>0.069170</td>\n",
              "      <td>0.554695</td>\n",
              "      <td>6.284634</td>\n",
              "      <td>68.574901</td>\n",
              "      <td>3.795043</td>\n",
              "      <td>9.549407</td>\n",
              "      <td>408.237154</td>\n",
              "      <td>18.455534</td>\n",
              "      <td>356.674032</td>\n",
              "      <td>12.653063</td>\n",
              "      <td>22.532806</td>\n",
              "    </tr>\n",
              "    <tr>\n",
              "      <th>std</th>\n",
              "      <td>8.601545</td>\n",
              "      <td>23.322453</td>\n",
              "      <td>6.860353</td>\n",
              "      <td>0.253994</td>\n",
              "      <td>0.115878</td>\n",
              "      <td>0.702617</td>\n",
              "      <td>28.148861</td>\n",
              "      <td>2.105710</td>\n",
              "      <td>8.707259</td>\n",
              "      <td>168.537116</td>\n",
              "      <td>2.164946</td>\n",
              "      <td>91.294864</td>\n",
              "      <td>7.141062</td>\n",
              "      <td>9.197104</td>\n",
              "    </tr>\n",
              "    <tr>\n",
              "      <th>min</th>\n",
              "      <td>0.006320</td>\n",
              "      <td>0.000000</td>\n",
              "      <td>0.460000</td>\n",
              "      <td>0.000000</td>\n",
              "      <td>0.385000</td>\n",
              "      <td>3.561000</td>\n",
              "      <td>2.900000</td>\n",
              "      <td>1.129600</td>\n",
              "      <td>1.000000</td>\n",
              "      <td>187.000000</td>\n",
              "      <td>12.600000</td>\n",
              "      <td>0.320000</td>\n",
              "      <td>1.730000</td>\n",
              "      <td>5.000000</td>\n",
              "    </tr>\n",
              "    <tr>\n",
              "      <th>25%</th>\n",
              "      <td>0.082045</td>\n",
              "      <td>0.000000</td>\n",
              "      <td>5.190000</td>\n",
              "      <td>0.000000</td>\n",
              "      <td>0.449000</td>\n",
              "      <td>5.885500</td>\n",
              "      <td>45.025000</td>\n",
              "      <td>2.100175</td>\n",
              "      <td>4.000000</td>\n",
              "      <td>279.000000</td>\n",
              "      <td>17.400000</td>\n",
              "      <td>375.377500</td>\n",
              "      <td>6.950000</td>\n",
              "      <td>17.025000</td>\n",
              "    </tr>\n",
              "    <tr>\n",
              "      <th>50%</th>\n",
              "      <td>0.256510</td>\n",
              "      <td>0.000000</td>\n",
              "      <td>9.690000</td>\n",
              "      <td>0.000000</td>\n",
              "      <td>0.538000</td>\n",
              "      <td>6.208500</td>\n",
              "      <td>77.500000</td>\n",
              "      <td>3.207450</td>\n",
              "      <td>5.000000</td>\n",
              "      <td>330.000000</td>\n",
              "      <td>19.050000</td>\n",
              "      <td>391.440000</td>\n",
              "      <td>11.360000</td>\n",
              "      <td>21.200000</td>\n",
              "    </tr>\n",
              "    <tr>\n",
              "      <th>75%</th>\n",
              "      <td>3.677083</td>\n",
              "      <td>12.500000</td>\n",
              "      <td>18.100000</td>\n",
              "      <td>0.000000</td>\n",
              "      <td>0.624000</td>\n",
              "      <td>6.623500</td>\n",
              "      <td>94.075000</td>\n",
              "      <td>5.188425</td>\n",
              "      <td>24.000000</td>\n",
              "      <td>666.000000</td>\n",
              "      <td>20.200000</td>\n",
              "      <td>396.225000</td>\n",
              "      <td>16.955000</td>\n",
              "      <td>25.000000</td>\n",
              "    </tr>\n",
              "    <tr>\n",
              "      <th>max</th>\n",
              "      <td>88.976200</td>\n",
              "      <td>100.000000</td>\n",
              "      <td>27.740000</td>\n",
              "      <td>1.000000</td>\n",
              "      <td>0.871000</td>\n",
              "      <td>8.780000</td>\n",
              "      <td>100.000000</td>\n",
              "      <td>12.126500</td>\n",
              "      <td>24.000000</td>\n",
              "      <td>711.000000</td>\n",
              "      <td>22.000000</td>\n",
              "      <td>396.900000</td>\n",
              "      <td>37.970000</td>\n",
              "      <td>50.000000</td>\n",
              "    </tr>\n",
              "  </tbody>\n",
              "</table>\n",
              "</div>"
            ],
            "text/plain": [
              "             CRIM          ZN       INDUS  ...           B       LSTAT        MEDV\n",
              "count  506.000000  506.000000  506.000000  ...  506.000000  506.000000  506.000000\n",
              "mean     3.613524   11.363636   11.136779  ...  356.674032   12.653063   22.532806\n",
              "std      8.601545   23.322453    6.860353  ...   91.294864    7.141062    9.197104\n",
              "min      0.006320    0.000000    0.460000  ...    0.320000    1.730000    5.000000\n",
              "25%      0.082045    0.000000    5.190000  ...  375.377500    6.950000   17.025000\n",
              "50%      0.256510    0.000000    9.690000  ...  391.440000   11.360000   21.200000\n",
              "75%      3.677083   12.500000   18.100000  ...  396.225000   16.955000   25.000000\n",
              "max     88.976200  100.000000   27.740000  ...  396.900000   37.970000   50.000000\n",
              "\n",
              "[8 rows x 14 columns]"
            ]
          },
          "metadata": {
            "tags": []
          },
          "execution_count": 6
        }
      ]
    },
    {
      "cell_type": "code",
      "metadata": {
        "id": "RAbOnMrDk4NB",
        "colab_type": "code",
        "colab": {
          "base_uri": "https://localhost:8080/",
          "height": 68
        },
        "outputId": "63552baf-667d-4905-e5b7-715480eb2f8b"
      },
      "source": [
        "data.columns"
      ],
      "execution_count": 7,
      "outputs": [
        {
          "output_type": "execute_result",
          "data": {
            "text/plain": [
              "Index(['CRIM', 'ZN', 'INDUS', 'CHAS', 'NOX', 'RM', 'AGE', 'DIS', 'RAD', 'TAX',\n",
              "       'PTRATIO', 'B', 'LSTAT', 'MEDV'],\n",
              "      dtype='object')"
            ]
          },
          "metadata": {
            "tags": []
          },
          "execution_count": 7
        }
      ]
    },
    {
      "cell_type": "code",
      "metadata": {
        "id": "U-LUfFSnk4NI",
        "colab_type": "code",
        "colab": {
          "base_uri": "https://localhost:8080/",
          "height": 51
        },
        "outputId": "e4cd3202-cd5d-4a72-cb25-50c37682959d"
      },
      "source": [
        "for x in data.columns:\n",
        "    if data[x].isin([0]).sum() > 0:\n",
        "        print(f'isin0 {x} = {data[x].isin([0]).sum()}')\n",
        "    if data[x].isna().sum() > 0:\n",
        "        print(f'isna {x} = {data[x].isna().sum()}')"
      ],
      "execution_count": 8,
      "outputs": [
        {
          "output_type": "stream",
          "text": [
            "isin0 ZN = 372\n",
            "isin0 CHAS = 471\n"
          ],
          "name": "stdout"
        }
      ]
    },
    {
      "cell_type": "markdown",
      "metadata": {
        "id": "Wd_SKds5k4NL",
        "colab_type": "text"
      },
      "source": [
        "- Nenhuma variável tem missing value;\n",
        "- A variável CHAS é uma variável categórica binomial (0 ou 1), portanto é normal ter muitoz valores 0;\n",
        "- A variável ZN é quantitativa contínua, e a quantidade de 0 pode atrapalhar o modelo de machine learning, por isso será excluida."
      ]
    },
    {
      "cell_type": "code",
      "metadata": {
        "id": "KUAPhThek4NM",
        "colab_type": "code",
        "colab": {
          "base_uri": "https://localhost:8080/",
          "height": 204
        },
        "outputId": "9cdc331c-c285-4533-9ece-2b5c1bf7801a"
      },
      "source": [
        "# Eliminando ZN\n",
        "newcolumns = []\n",
        "for x in data.columns:\n",
        "    if x != 'ZN':\n",
        "        newcolumns.append(x)\n",
        "data = data[newcolumns]\n",
        "data.head()"
      ],
      "execution_count": 9,
      "outputs": [
        {
          "output_type": "execute_result",
          "data": {
            "text/html": [
              "<div>\n",
              "<style scoped>\n",
              "    .dataframe tbody tr th:only-of-type {\n",
              "        vertical-align: middle;\n",
              "    }\n",
              "\n",
              "    .dataframe tbody tr th {\n",
              "        vertical-align: top;\n",
              "    }\n",
              "\n",
              "    .dataframe thead th {\n",
              "        text-align: right;\n",
              "    }\n",
              "</style>\n",
              "<table border=\"1\" class=\"dataframe\">\n",
              "  <thead>\n",
              "    <tr style=\"text-align: right;\">\n",
              "      <th></th>\n",
              "      <th>CRIM</th>\n",
              "      <th>INDUS</th>\n",
              "      <th>CHAS</th>\n",
              "      <th>NOX</th>\n",
              "      <th>RM</th>\n",
              "      <th>AGE</th>\n",
              "      <th>DIS</th>\n",
              "      <th>RAD</th>\n",
              "      <th>TAX</th>\n",
              "      <th>PTRATIO</th>\n",
              "      <th>B</th>\n",
              "      <th>LSTAT</th>\n",
              "      <th>MEDV</th>\n",
              "    </tr>\n",
              "  </thead>\n",
              "  <tbody>\n",
              "    <tr>\n",
              "      <th>0</th>\n",
              "      <td>0.00632</td>\n",
              "      <td>2.31</td>\n",
              "      <td>0.0</td>\n",
              "      <td>0.538</td>\n",
              "      <td>6.575</td>\n",
              "      <td>65.2</td>\n",
              "      <td>4.0900</td>\n",
              "      <td>1.0</td>\n",
              "      <td>296.0</td>\n",
              "      <td>15.3</td>\n",
              "      <td>396.90</td>\n",
              "      <td>4.98</td>\n",
              "      <td>24.0</td>\n",
              "    </tr>\n",
              "    <tr>\n",
              "      <th>1</th>\n",
              "      <td>0.02731</td>\n",
              "      <td>7.07</td>\n",
              "      <td>0.0</td>\n",
              "      <td>0.469</td>\n",
              "      <td>6.421</td>\n",
              "      <td>78.9</td>\n",
              "      <td>4.9671</td>\n",
              "      <td>2.0</td>\n",
              "      <td>242.0</td>\n",
              "      <td>17.8</td>\n",
              "      <td>396.90</td>\n",
              "      <td>9.14</td>\n",
              "      <td>21.6</td>\n",
              "    </tr>\n",
              "    <tr>\n",
              "      <th>2</th>\n",
              "      <td>0.02729</td>\n",
              "      <td>7.07</td>\n",
              "      <td>0.0</td>\n",
              "      <td>0.469</td>\n",
              "      <td>7.185</td>\n",
              "      <td>61.1</td>\n",
              "      <td>4.9671</td>\n",
              "      <td>2.0</td>\n",
              "      <td>242.0</td>\n",
              "      <td>17.8</td>\n",
              "      <td>392.83</td>\n",
              "      <td>4.03</td>\n",
              "      <td>34.7</td>\n",
              "    </tr>\n",
              "    <tr>\n",
              "      <th>3</th>\n",
              "      <td>0.03237</td>\n",
              "      <td>2.18</td>\n",
              "      <td>0.0</td>\n",
              "      <td>0.458</td>\n",
              "      <td>6.998</td>\n",
              "      <td>45.8</td>\n",
              "      <td>6.0622</td>\n",
              "      <td>3.0</td>\n",
              "      <td>222.0</td>\n",
              "      <td>18.7</td>\n",
              "      <td>394.63</td>\n",
              "      <td>2.94</td>\n",
              "      <td>33.4</td>\n",
              "    </tr>\n",
              "    <tr>\n",
              "      <th>4</th>\n",
              "      <td>0.06905</td>\n",
              "      <td>2.18</td>\n",
              "      <td>0.0</td>\n",
              "      <td>0.458</td>\n",
              "      <td>7.147</td>\n",
              "      <td>54.2</td>\n",
              "      <td>6.0622</td>\n",
              "      <td>3.0</td>\n",
              "      <td>222.0</td>\n",
              "      <td>18.7</td>\n",
              "      <td>396.90</td>\n",
              "      <td>5.33</td>\n",
              "      <td>36.2</td>\n",
              "    </tr>\n",
              "  </tbody>\n",
              "</table>\n",
              "</div>"
            ],
            "text/plain": [
              "      CRIM  INDUS  CHAS    NOX     RM  ...    TAX  PTRATIO       B  LSTAT  MEDV\n",
              "0  0.00632   2.31   0.0  0.538  6.575  ...  296.0     15.3  396.90   4.98  24.0\n",
              "1  0.02731   7.07   0.0  0.469  6.421  ...  242.0     17.8  396.90   9.14  21.6\n",
              "2  0.02729   7.07   0.0  0.469  7.185  ...  242.0     17.8  392.83   4.03  34.7\n",
              "3  0.03237   2.18   0.0  0.458  6.998  ...  222.0     18.7  394.63   2.94  33.4\n",
              "4  0.06905   2.18   0.0  0.458  7.147  ...  222.0     18.7  396.90   5.33  36.2\n",
              "\n",
              "[5 rows x 13 columns]"
            ]
          },
          "metadata": {
            "tags": []
          },
          "execution_count": 9
        }
      ]
    },
    {
      "cell_type": "markdown",
      "metadata": {
        "id": "rUll9PWQk4NQ",
        "colab_type": "text"
      },
      "source": [
        "### Análise da variável alvo\n",
        "Tendo em vista que já excluimos as interferencias causadas por missing values ou por uma quantidade excessiva de zeros, vamos agora estudar nossa variável alvo MEDV."
      ]
    },
    {
      "cell_type": "code",
      "metadata": {
        "id": "HxPm08txk4NQ",
        "colab_type": "code",
        "colab": {
          "base_uri": "https://localhost:8080/",
          "height": 170
        },
        "outputId": "99d96416-7312-4e58-e42d-71b10ba658bc"
      },
      "source": [
        "data['MEDV'].describe()"
      ],
      "execution_count": 10,
      "outputs": [
        {
          "output_type": "execute_result",
          "data": {
            "text/plain": [
              "count    506.000000\n",
              "mean      22.532806\n",
              "std        9.197104\n",
              "min        5.000000\n",
              "25%       17.025000\n",
              "50%       21.200000\n",
              "75%       25.000000\n",
              "max       50.000000\n",
              "Name: MEDV, dtype: float64"
            ]
          },
          "metadata": {
            "tags": []
          },
          "execution_count": 10
        }
      ]
    },
    {
      "cell_type": "code",
      "metadata": {
        "id": "aTh8EczOk4NT",
        "colab_type": "code",
        "colab": {
          "base_uri": "https://localhost:8080/",
          "height": 542
        },
        "outputId": "8551bef0-9137-49cd-90ca-2e7c7b32dc08"
      },
      "source": [
        "fig = px.histogram(data, x=data['MEDV'])\n",
        "fig.show()"
      ],
      "execution_count": 11,
      "outputs": [
        {
          "output_type": "display_data",
          "data": {
            "text/html": [
              "<html>\n",
              "<head><meta charset=\"utf-8\" /></head>\n",
              "<body>\n",
              "    <div>\n",
              "            <script src=\"https://cdnjs.cloudflare.com/ajax/libs/mathjax/2.7.5/MathJax.js?config=TeX-AMS-MML_SVG\"></script><script type=\"text/javascript\">if (window.MathJax) {MathJax.Hub.Config({SVG: {font: \"STIX-Web\"}});}</script>\n",
              "                <script type=\"text/javascript\">window.PlotlyConfig = {MathJaxConfig: 'local'};</script>\n",
              "        <script src=\"https://cdn.plot.ly/plotly-latest.min.js\"></script>    \n",
              "            <div id=\"0e6e423e-6b2a-4f9d-bd9c-0121a8a09639\" class=\"plotly-graph-div\" style=\"height:525px; width:100%;\"></div>\n",
              "            <script type=\"text/javascript\">\n",
              "                \n",
              "                    window.PLOTLYENV=window.PLOTLYENV || {};\n",
              "                    \n",
              "                if (document.getElementById(\"0e6e423e-6b2a-4f9d-bd9c-0121a8a09639\")) {\n",
              "                    Plotly.newPlot(\n",
              "                        '0e6e423e-6b2a-4f9d-bd9c-0121a8a09639',\n",
              "                        [{\"alignmentgroup\": \"True\", \"bingroup\": \"x\", \"hoverlabel\": {\"namelength\": 0}, \"hovertemplate\": \"MEDV=%{x}<br>count=%{y}\", \"legendgroup\": \"\", \"marker\": {\"color\": \"#636efa\"}, \"name\": \"\", \"offsetgroup\": \"\", \"orientation\": \"v\", \"showlegend\": false, \"type\": \"histogram\", \"x\": [24.0, 21.6, 34.7, 33.4, 36.2, 28.7, 22.9, 27.1, 16.5, 18.9, 15.0, 18.9, 21.7, 20.4, 18.2, 19.9, 23.1, 17.5, 20.2, 18.2, 13.6, 19.6, 15.2, 14.5, 15.6, 13.9, 16.6, 14.8, 18.4, 21.0, 12.7, 14.5, 13.2, 13.1, 13.5, 18.9, 20.0, 21.0, 24.7, 30.8, 34.9, 26.6, 25.3, 24.7, 21.2, 19.3, 20.0, 16.6, 14.4, 19.4, 19.7, 20.5, 25.0, 23.4, 18.9, 35.4, 24.7, 31.6, 23.3, 19.6, 18.7, 16.0, 22.2, 25.0, 33.0, 23.5, 19.4, 22.0, 17.4, 20.9, 24.2, 21.7, 22.8, 23.4, 24.1, 21.4, 20.0, 20.8, 21.2, 20.3, 28.0, 23.9, 24.8, 22.9, 23.9, 26.6, 22.5, 22.2, 23.6, 28.7, 22.6, 22.0, 22.9, 25.0, 20.6, 28.4, 21.4, 38.7, 43.8, 33.2, 27.5, 26.5, 18.6, 19.3, 20.1, 19.5, 19.5, 20.4, 19.8, 19.4, 21.7, 22.8, 18.8, 18.7, 18.5, 18.3, 21.2, 19.2, 20.4, 19.3, 22.0, 20.3, 20.5, 17.3, 18.8, 21.4, 15.7, 16.2, 18.0, 14.3, 19.2, 19.6, 23.0, 18.4, 15.6, 18.1, 17.4, 17.1, 13.3, 17.8, 14.0, 14.4, 13.4, 15.6, 11.8, 13.8, 15.6, 14.6, 17.8, 15.4, 21.5, 19.6, 15.3, 19.4, 17.0, 15.6, 13.1, 41.3, 24.3, 23.3, 27.0, 50.0, 50.0, 50.0, 22.7, 25.0, 50.0, 23.8, 23.8, 22.3, 17.4, 19.1, 23.1, 23.6, 22.6, 29.4, 23.2, 24.6, 29.9, 37.2, 39.8, 36.2, 37.9, 32.5, 26.4, 29.6, 50.0, 32.0, 29.8, 34.9, 37.0, 30.5, 36.4, 31.1, 29.1, 50.0, 33.3, 30.3, 34.6, 34.9, 32.9, 24.1, 42.3, 48.5, 50.0, 22.6, 24.4, 22.5, 24.4, 20.0, 21.7, 19.3, 22.4, 28.1, 23.7, 25.0, 23.3, 28.7, 21.5, 23.0, 26.7, 21.7, 27.5, 30.1, 44.8, 50.0, 37.6, 31.6, 46.7, 31.5, 24.3, 31.7, 41.7, 48.3, 29.0, 24.0, 25.1, 31.5, 23.7, 23.3, 22.0, 20.1, 22.2, 23.7, 17.6, 18.5, 24.3, 20.5, 24.5, 26.2, 24.4, 24.8, 29.6, 42.8, 21.9, 20.9, 44.0, 50.0, 36.0, 30.1, 33.8, 43.1, 48.8, 31.0, 36.5, 22.8, 30.7, 50.0, 43.5, 20.7, 21.1, 25.2, 24.4, 35.2, 32.4, 32.0, 33.2, 33.1, 29.1, 35.1, 45.4, 35.4, 46.0, 50.0, 32.2, 22.0, 20.1, 23.2, 22.3, 24.8, 28.5, 37.3, 27.9, 23.9, 21.7, 28.6, 27.1, 20.3, 22.5, 29.0, 24.8, 22.0, 26.4, 33.1, 36.1, 28.4, 33.4, 28.2, 22.8, 20.3, 16.1, 22.1, 19.4, 21.6, 23.8, 16.2, 17.8, 19.8, 23.1, 21.0, 23.8, 23.1, 20.4, 18.5, 25.0, 24.6, 23.0, 22.2, 19.3, 22.6, 19.8, 17.1, 19.4, 22.2, 20.7, 21.1, 19.5, 18.5, 20.6, 19.0, 18.7, 32.7, 16.5, 23.9, 31.2, 17.5, 17.2, 23.1, 24.5, 26.6, 22.9, 24.1, 18.6, 30.1, 18.2, 20.6, 17.8, 21.7, 22.7, 22.6, 25.0, 19.9, 20.8, 16.8, 21.9, 27.5, 21.9, 23.1, 50.0, 50.0, 50.0, 50.0, 50.0, 13.8, 13.8, 15.0, 13.9, 13.3, 13.1, 10.2, 10.4, 10.9, 11.3, 12.3, 8.8, 7.2, 10.5, 7.4, 10.2, 11.5, 15.1, 23.2, 9.7, 13.8, 12.7, 13.1, 12.5, 8.5, 5.0, 6.3, 5.6, 7.2, 12.1, 8.3, 8.5, 5.0, 11.9, 27.9, 17.2, 27.5, 15.0, 17.2, 17.9, 16.3, 7.0, 7.2, 7.5, 10.4, 8.8, 8.4, 16.7, 14.2, 20.8, 13.4, 11.7, 8.3, 10.2, 10.9, 11.0, 9.5, 14.5, 14.1, 16.1, 14.3, 11.7, 13.4, 9.6, 8.7, 8.4, 12.8, 10.5, 17.1, 18.4, 15.4, 10.8, 11.8, 14.9, 12.6, 14.1, 13.0, 13.4, 15.2, 16.1, 17.8, 14.9, 14.1, 12.7, 13.5, 14.9, 20.0, 16.4, 17.7, 19.5, 20.2, 21.4, 19.9, 19.0, 19.1, 19.1, 20.1, 19.9, 19.6, 23.2, 29.8, 13.8, 13.3, 16.7, 12.0, 14.6, 21.4, 23.0, 23.7, 25.0, 21.8, 20.6, 21.2, 19.1, 20.6, 15.2, 7.0, 8.1, 13.6, 20.1, 21.8, 24.5, 23.1, 19.7, 18.3, 21.2, 17.5, 16.8, 22.4, 20.6, 23.9, 22.0, 11.9], \"xaxis\": \"x\", \"yaxis\": \"y\"}],\n",
              "                        {\"barmode\": \"relative\", \"legend\": {\"tracegroupgap\": 0}, \"margin\": {\"t\": 60}, \"template\": {\"data\": {\"bar\": [{\"error_x\": {\"color\": \"#2a3f5f\"}, \"error_y\": {\"color\": \"#2a3f5f\"}, \"marker\": {\"line\": {\"color\": \"#E5ECF6\", \"width\": 0.5}}, \"type\": \"bar\"}], \"barpolar\": [{\"marker\": {\"line\": {\"color\": \"#E5ECF6\", \"width\": 0.5}}, \"type\": \"barpolar\"}], \"carpet\": [{\"aaxis\": {\"endlinecolor\": \"#2a3f5f\", \"gridcolor\": \"white\", \"linecolor\": \"white\", \"minorgridcolor\": \"white\", \"startlinecolor\": \"#2a3f5f\"}, \"baxis\": {\"endlinecolor\": \"#2a3f5f\", \"gridcolor\": \"white\", \"linecolor\": \"white\", \"minorgridcolor\": \"white\", \"startlinecolor\": \"#2a3f5f\"}, \"type\": \"carpet\"}], \"choropleth\": [{\"colorbar\": {\"outlinewidth\": 0, \"ticks\": \"\"}, \"type\": \"choropleth\"}], \"contour\": [{\"colorbar\": {\"outlinewidth\": 0, \"ticks\": \"\"}, \"colorscale\": [[0.0, \"#0d0887\"], [0.1111111111111111, \"#46039f\"], [0.2222222222222222, \"#7201a8\"], [0.3333333333333333, \"#9c179e\"], [0.4444444444444444, \"#bd3786\"], [0.5555555555555556, \"#d8576b\"], [0.6666666666666666, \"#ed7953\"], [0.7777777777777778, \"#fb9f3a\"], [0.8888888888888888, \"#fdca26\"], [1.0, \"#f0f921\"]], \"type\": \"contour\"}], \"contourcarpet\": [{\"colorbar\": {\"outlinewidth\": 0, \"ticks\": \"\"}, \"type\": \"contourcarpet\"}], \"heatmap\": [{\"colorbar\": {\"outlinewidth\": 0, \"ticks\": \"\"}, \"colorscale\": [[0.0, \"#0d0887\"], [0.1111111111111111, \"#46039f\"], [0.2222222222222222, \"#7201a8\"], [0.3333333333333333, \"#9c179e\"], [0.4444444444444444, \"#bd3786\"], [0.5555555555555556, \"#d8576b\"], [0.6666666666666666, \"#ed7953\"], [0.7777777777777778, \"#fb9f3a\"], [0.8888888888888888, \"#fdca26\"], [1.0, \"#f0f921\"]], \"type\": \"heatmap\"}], \"heatmapgl\": [{\"colorbar\": {\"outlinewidth\": 0, \"ticks\": \"\"}, \"colorscale\": [[0.0, \"#0d0887\"], [0.1111111111111111, \"#46039f\"], [0.2222222222222222, \"#7201a8\"], [0.3333333333333333, \"#9c179e\"], [0.4444444444444444, \"#bd3786\"], [0.5555555555555556, \"#d8576b\"], [0.6666666666666666, \"#ed7953\"], [0.7777777777777778, \"#fb9f3a\"], [0.8888888888888888, \"#fdca26\"], [1.0, \"#f0f921\"]], \"type\": \"heatmapgl\"}], \"histogram\": [{\"marker\": {\"colorbar\": {\"outlinewidth\": 0, \"ticks\": \"\"}}, \"type\": \"histogram\"}], \"histogram2d\": [{\"colorbar\": {\"outlinewidth\": 0, \"ticks\": \"\"}, \"colorscale\": [[0.0, \"#0d0887\"], [0.1111111111111111, \"#46039f\"], [0.2222222222222222, \"#7201a8\"], [0.3333333333333333, \"#9c179e\"], [0.4444444444444444, \"#bd3786\"], [0.5555555555555556, \"#d8576b\"], [0.6666666666666666, \"#ed7953\"], [0.7777777777777778, \"#fb9f3a\"], [0.8888888888888888, \"#fdca26\"], [1.0, \"#f0f921\"]], \"type\": \"histogram2d\"}], \"histogram2dcontour\": [{\"colorbar\": {\"outlinewidth\": 0, \"ticks\": \"\"}, \"colorscale\": [[0.0, \"#0d0887\"], [0.1111111111111111, \"#46039f\"], [0.2222222222222222, \"#7201a8\"], [0.3333333333333333, \"#9c179e\"], [0.4444444444444444, \"#bd3786\"], [0.5555555555555556, \"#d8576b\"], [0.6666666666666666, \"#ed7953\"], [0.7777777777777778, \"#fb9f3a\"], [0.8888888888888888, \"#fdca26\"], [1.0, \"#f0f921\"]], \"type\": \"histogram2dcontour\"}], \"mesh3d\": [{\"colorbar\": {\"outlinewidth\": 0, \"ticks\": \"\"}, \"type\": \"mesh3d\"}], \"parcoords\": [{\"line\": {\"colorbar\": {\"outlinewidth\": 0, \"ticks\": \"\"}}, \"type\": \"parcoords\"}], \"pie\": [{\"automargin\": true, \"type\": \"pie\"}], \"scatter\": [{\"marker\": {\"colorbar\": {\"outlinewidth\": 0, \"ticks\": \"\"}}, \"type\": \"scatter\"}], \"scatter3d\": [{\"line\": {\"colorbar\": {\"outlinewidth\": 0, \"ticks\": \"\"}}, \"marker\": {\"colorbar\": {\"outlinewidth\": 0, \"ticks\": \"\"}}, \"type\": \"scatter3d\"}], \"scattercarpet\": [{\"marker\": {\"colorbar\": {\"outlinewidth\": 0, \"ticks\": \"\"}}, \"type\": \"scattercarpet\"}], \"scattergeo\": [{\"marker\": {\"colorbar\": {\"outlinewidth\": 0, \"ticks\": \"\"}}, \"type\": \"scattergeo\"}], \"scattergl\": [{\"marker\": {\"colorbar\": {\"outlinewidth\": 0, \"ticks\": \"\"}}, \"type\": \"scattergl\"}], \"scattermapbox\": [{\"marker\": {\"colorbar\": {\"outlinewidth\": 0, \"ticks\": \"\"}}, \"type\": \"scattermapbox\"}], \"scatterpolar\": [{\"marker\": {\"colorbar\": {\"outlinewidth\": 0, \"ticks\": \"\"}}, \"type\": \"scatterpolar\"}], \"scatterpolargl\": [{\"marker\": {\"colorbar\": {\"outlinewidth\": 0, \"ticks\": \"\"}}, \"type\": \"scatterpolargl\"}], \"scatterternary\": [{\"marker\": {\"colorbar\": {\"outlinewidth\": 0, \"ticks\": \"\"}}, \"type\": \"scatterternary\"}], \"surface\": [{\"colorbar\": {\"outlinewidth\": 0, \"ticks\": \"\"}, \"colorscale\": [[0.0, \"#0d0887\"], [0.1111111111111111, \"#46039f\"], [0.2222222222222222, \"#7201a8\"], [0.3333333333333333, \"#9c179e\"], [0.4444444444444444, \"#bd3786\"], [0.5555555555555556, \"#d8576b\"], [0.6666666666666666, \"#ed7953\"], [0.7777777777777778, \"#fb9f3a\"], [0.8888888888888888, \"#fdca26\"], [1.0, \"#f0f921\"]], \"type\": \"surface\"}], \"table\": [{\"cells\": {\"fill\": {\"color\": \"#EBF0F8\"}, \"line\": {\"color\": \"white\"}}, \"header\": {\"fill\": {\"color\": \"#C8D4E3\"}, \"line\": {\"color\": \"white\"}}, \"type\": \"table\"}]}, \"layout\": {\"annotationdefaults\": {\"arrowcolor\": \"#2a3f5f\", \"arrowhead\": 0, \"arrowwidth\": 1}, \"coloraxis\": {\"colorbar\": {\"outlinewidth\": 0, \"ticks\": \"\"}}, \"colorscale\": {\"diverging\": [[0, \"#8e0152\"], [0.1, \"#c51b7d\"], [0.2, \"#de77ae\"], [0.3, \"#f1b6da\"], [0.4, \"#fde0ef\"], [0.5, \"#f7f7f7\"], [0.6, \"#e6f5d0\"], [0.7, \"#b8e186\"], [0.8, \"#7fbc41\"], [0.9, \"#4d9221\"], [1, \"#276419\"]], \"sequential\": [[0.0, \"#0d0887\"], [0.1111111111111111, \"#46039f\"], [0.2222222222222222, \"#7201a8\"], [0.3333333333333333, \"#9c179e\"], [0.4444444444444444, \"#bd3786\"], [0.5555555555555556, \"#d8576b\"], [0.6666666666666666, \"#ed7953\"], [0.7777777777777778, \"#fb9f3a\"], [0.8888888888888888, \"#fdca26\"], [1.0, \"#f0f921\"]], \"sequentialminus\": [[0.0, \"#0d0887\"], [0.1111111111111111, \"#46039f\"], [0.2222222222222222, \"#7201a8\"], [0.3333333333333333, \"#9c179e\"], [0.4444444444444444, \"#bd3786\"], [0.5555555555555556, \"#d8576b\"], [0.6666666666666666, \"#ed7953\"], [0.7777777777777778, \"#fb9f3a\"], [0.8888888888888888, \"#fdca26\"], [1.0, \"#f0f921\"]]}, \"colorway\": [\"#636efa\", \"#EF553B\", \"#00cc96\", \"#ab63fa\", \"#FFA15A\", \"#19d3f3\", \"#FF6692\", \"#B6E880\", \"#FF97FF\", \"#FECB52\"], \"font\": {\"color\": \"#2a3f5f\"}, \"geo\": {\"bgcolor\": \"white\", \"lakecolor\": \"white\", \"landcolor\": \"#E5ECF6\", \"showlakes\": true, \"showland\": true, \"subunitcolor\": \"white\"}, \"hoverlabel\": {\"align\": \"left\"}, \"hovermode\": \"closest\", \"mapbox\": {\"style\": \"light\"}, \"paper_bgcolor\": \"white\", \"plot_bgcolor\": \"#E5ECF6\", \"polar\": {\"angularaxis\": {\"gridcolor\": \"white\", \"linecolor\": \"white\", \"ticks\": \"\"}, \"bgcolor\": \"#E5ECF6\", \"radialaxis\": {\"gridcolor\": \"white\", \"linecolor\": \"white\", \"ticks\": \"\"}}, \"scene\": {\"xaxis\": {\"backgroundcolor\": \"#E5ECF6\", \"gridcolor\": \"white\", \"gridwidth\": 2, \"linecolor\": \"white\", \"showbackground\": true, \"ticks\": \"\", \"zerolinecolor\": \"white\"}, \"yaxis\": {\"backgroundcolor\": \"#E5ECF6\", \"gridcolor\": \"white\", \"gridwidth\": 2, \"linecolor\": \"white\", \"showbackground\": true, \"ticks\": \"\", \"zerolinecolor\": \"white\"}, \"zaxis\": {\"backgroundcolor\": \"#E5ECF6\", \"gridcolor\": \"white\", \"gridwidth\": 2, \"linecolor\": \"white\", \"showbackground\": true, \"ticks\": \"\", \"zerolinecolor\": \"white\"}}, \"shapedefaults\": {\"line\": {\"color\": \"#2a3f5f\"}}, \"ternary\": {\"aaxis\": {\"gridcolor\": \"white\", \"linecolor\": \"white\", \"ticks\": \"\"}, \"baxis\": {\"gridcolor\": \"white\", \"linecolor\": \"white\", \"ticks\": \"\"}, \"bgcolor\": \"#E5ECF6\", \"caxis\": {\"gridcolor\": \"white\", \"linecolor\": \"white\", \"ticks\": \"\"}}, \"title\": {\"x\": 0.05}, \"xaxis\": {\"automargin\": true, \"gridcolor\": \"white\", \"linecolor\": \"white\", \"ticks\": \"\", \"title\": {\"standoff\": 15}, \"zerolinecolor\": \"white\", \"zerolinewidth\": 2}, \"yaxis\": {\"automargin\": true, \"gridcolor\": \"white\", \"linecolor\": \"white\", \"ticks\": \"\", \"title\": {\"standoff\": 15}, \"zerolinecolor\": \"white\", \"zerolinewidth\": 2}}}, \"xaxis\": {\"anchor\": \"y\", \"domain\": [0.0, 1.0], \"title\": {\"text\": \"MEDV\"}}, \"yaxis\": {\"anchor\": \"x\", \"domain\": [0.0, 1.0], \"title\": {\"text\": \"count\"}}},\n",
              "                        {\"responsive\": true}\n",
              "                    ).then(function(){\n",
              "                            \n",
              "var gd = document.getElementById('0e6e423e-6b2a-4f9d-bd9c-0121a8a09639');\n",
              "var x = new MutationObserver(function (mutations, observer) {{\n",
              "        var display = window.getComputedStyle(gd).display;\n",
              "        if (!display || display === 'none') {{\n",
              "            console.log([gd, 'removed!']);\n",
              "            Plotly.purge(gd);\n",
              "            observer.disconnect();\n",
              "        }}\n",
              "}});\n",
              "\n",
              "// Listen for the removal of the full notebook cells\n",
              "var notebookContainer = gd.closest('#notebook-container');\n",
              "if (notebookContainer) {{\n",
              "    x.observe(notebookContainer, {childList: true});\n",
              "}}\n",
              "\n",
              "// Listen for the clearing of the current output cell\n",
              "var outputEl = gd.closest('.output');\n",
              "if (outputEl) {{\n",
              "    x.observe(outputEl, {childList: true});\n",
              "}}\n",
              "\n",
              "                        })\n",
              "                };\n",
              "                \n",
              "            </script>\n",
              "        </div>\n",
              "</body>\n",
              "</html>"
            ]
          },
          "metadata": {
            "tags": []
          }
        }
      ]
    },
    {
      "cell_type": "code",
      "metadata": {
        "id": "SgDhZb9nk4NY",
        "colab_type": "code",
        "colab": {
          "base_uri": "https://localhost:8080/",
          "height": 517
        },
        "outputId": "d5780df6-3f16-42df-fabd-cf5d3e477c58"
      },
      "source": [
        "fig = pff.create_distplot([data['MEDV']], group_labels = ['MEDV'])\n",
        "fig.update_layout(width = 800, height = 500)\n",
        "fig.show()"
      ],
      "execution_count": 12,
      "outputs": [
        {
          "output_type": "display_data",
          "data": {
            "text/html": [
              "<html>\n",
              "<head><meta charset=\"utf-8\" /></head>\n",
              "<body>\n",
              "    <div>\n",
              "            <script src=\"https://cdnjs.cloudflare.com/ajax/libs/mathjax/2.7.5/MathJax.js?config=TeX-AMS-MML_SVG\"></script><script type=\"text/javascript\">if (window.MathJax) {MathJax.Hub.Config({SVG: {font: \"STIX-Web\"}});}</script>\n",
              "                <script type=\"text/javascript\">window.PlotlyConfig = {MathJaxConfig: 'local'};</script>\n",
              "        <script src=\"https://cdn.plot.ly/plotly-latest.min.js\"></script>    \n",
              "            <div id=\"65412d89-d498-45af-9495-52227073c89b\" class=\"plotly-graph-div\" style=\"height:500px; width:800px;\"></div>\n",
              "            <script type=\"text/javascript\">\n",
              "                \n",
              "                    window.PLOTLYENV=window.PLOTLYENV || {};\n",
              "                    \n",
              "                if (document.getElementById(\"65412d89-d498-45af-9495-52227073c89b\")) {\n",
              "                    Plotly.newPlot(\n",
              "                        '65412d89-d498-45af-9495-52227073c89b',\n",
              "                        [{\"autobinx\": false, \"histnorm\": \"probability density\", \"legendgroup\": \"MEDV\", \"marker\": {\"color\": \"rgb(31, 119, 180)\"}, \"name\": \"MEDV\", \"opacity\": 0.7, \"type\": \"histogram\", \"x\": [24.0, 21.6, 34.7, 33.4, 36.2, 28.7, 22.9, 27.1, 16.5, 18.9, 15.0, 18.9, 21.7, 20.4, 18.2, 19.9, 23.1, 17.5, 20.2, 18.2, 13.6, 19.6, 15.2, 14.5, 15.6, 13.9, 16.6, 14.8, 18.4, 21.0, 12.7, 14.5, 13.2, 13.1, 13.5, 18.9, 20.0, 21.0, 24.7, 30.8, 34.9, 26.6, 25.3, 24.7, 21.2, 19.3, 20.0, 16.6, 14.4, 19.4, 19.7, 20.5, 25.0, 23.4, 18.9, 35.4, 24.7, 31.6, 23.3, 19.6, 18.7, 16.0, 22.2, 25.0, 33.0, 23.5, 19.4, 22.0, 17.4, 20.9, 24.2, 21.7, 22.8, 23.4, 24.1, 21.4, 20.0, 20.8, 21.2, 20.3, 28.0, 23.9, 24.8, 22.9, 23.9, 26.6, 22.5, 22.2, 23.6, 28.7, 22.6, 22.0, 22.9, 25.0, 20.6, 28.4, 21.4, 38.7, 43.8, 33.2, 27.5, 26.5, 18.6, 19.3, 20.1, 19.5, 19.5, 20.4, 19.8, 19.4, 21.7, 22.8, 18.8, 18.7, 18.5, 18.3, 21.2, 19.2, 20.4, 19.3, 22.0, 20.3, 20.5, 17.3, 18.8, 21.4, 15.7, 16.2, 18.0, 14.3, 19.2, 19.6, 23.0, 18.4, 15.6, 18.1, 17.4, 17.1, 13.3, 17.8, 14.0, 14.4, 13.4, 15.6, 11.8, 13.8, 15.6, 14.6, 17.8, 15.4, 21.5, 19.6, 15.3, 19.4, 17.0, 15.6, 13.1, 41.3, 24.3, 23.3, 27.0, 50.0, 50.0, 50.0, 22.7, 25.0, 50.0, 23.8, 23.8, 22.3, 17.4, 19.1, 23.1, 23.6, 22.6, 29.4, 23.2, 24.6, 29.9, 37.2, 39.8, 36.2, 37.9, 32.5, 26.4, 29.6, 50.0, 32.0, 29.8, 34.9, 37.0, 30.5, 36.4, 31.1, 29.1, 50.0, 33.3, 30.3, 34.6, 34.9, 32.9, 24.1, 42.3, 48.5, 50.0, 22.6, 24.4, 22.5, 24.4, 20.0, 21.7, 19.3, 22.4, 28.1, 23.7, 25.0, 23.3, 28.7, 21.5, 23.0, 26.7, 21.7, 27.5, 30.1, 44.8, 50.0, 37.6, 31.6, 46.7, 31.5, 24.3, 31.7, 41.7, 48.3, 29.0, 24.0, 25.1, 31.5, 23.7, 23.3, 22.0, 20.1, 22.2, 23.7, 17.6, 18.5, 24.3, 20.5, 24.5, 26.2, 24.4, 24.8, 29.6, 42.8, 21.9, 20.9, 44.0, 50.0, 36.0, 30.1, 33.8, 43.1, 48.8, 31.0, 36.5, 22.8, 30.7, 50.0, 43.5, 20.7, 21.1, 25.2, 24.4, 35.2, 32.4, 32.0, 33.2, 33.1, 29.1, 35.1, 45.4, 35.4, 46.0, 50.0, 32.2, 22.0, 20.1, 23.2, 22.3, 24.8, 28.5, 37.3, 27.9, 23.9, 21.7, 28.6, 27.1, 20.3, 22.5, 29.0, 24.8, 22.0, 26.4, 33.1, 36.1, 28.4, 33.4, 28.2, 22.8, 20.3, 16.1, 22.1, 19.4, 21.6, 23.8, 16.2, 17.8, 19.8, 23.1, 21.0, 23.8, 23.1, 20.4, 18.5, 25.0, 24.6, 23.0, 22.2, 19.3, 22.6, 19.8, 17.1, 19.4, 22.2, 20.7, 21.1, 19.5, 18.5, 20.6, 19.0, 18.7, 32.7, 16.5, 23.9, 31.2, 17.5, 17.2, 23.1, 24.5, 26.6, 22.9, 24.1, 18.6, 30.1, 18.2, 20.6, 17.8, 21.7, 22.7, 22.6, 25.0, 19.9, 20.8, 16.8, 21.9, 27.5, 21.9, 23.1, 50.0, 50.0, 50.0, 50.0, 50.0, 13.8, 13.8, 15.0, 13.9, 13.3, 13.1, 10.2, 10.4, 10.9, 11.3, 12.3, 8.8, 7.2, 10.5, 7.4, 10.2, 11.5, 15.1, 23.2, 9.7, 13.8, 12.7, 13.1, 12.5, 8.5, 5.0, 6.3, 5.6, 7.2, 12.1, 8.3, 8.5, 5.0, 11.9, 27.9, 17.2, 27.5, 15.0, 17.2, 17.9, 16.3, 7.0, 7.2, 7.5, 10.4, 8.8, 8.4, 16.7, 14.2, 20.8, 13.4, 11.7, 8.3, 10.2, 10.9, 11.0, 9.5, 14.5, 14.1, 16.1, 14.3, 11.7, 13.4, 9.6, 8.7, 8.4, 12.8, 10.5, 17.1, 18.4, 15.4, 10.8, 11.8, 14.9, 12.6, 14.1, 13.0, 13.4, 15.2, 16.1, 17.8, 14.9, 14.1, 12.7, 13.5, 14.9, 20.0, 16.4, 17.7, 19.5, 20.2, 21.4, 19.9, 19.0, 19.1, 19.1, 20.1, 19.9, 19.6, 23.2, 29.8, 13.8, 13.3, 16.7, 12.0, 14.6, 21.4, 23.0, 23.7, 25.0, 21.8, 20.6, 21.2, 19.1, 20.6, 15.2, 7.0, 8.1, 13.6, 20.1, 21.8, 24.5, 23.1, 19.7, 18.3, 21.2, 17.5, 16.8, 22.4, 20.6, 23.9, 22.0, 11.9], \"xaxis\": \"x\", \"xbins\": {\"end\": 50.0, \"size\": 1.0, \"start\": 5.0}, \"yaxis\": \"y\"}, {\"legendgroup\": \"MEDV\", \"marker\": {\"color\": \"rgb(31, 119, 180)\"}, \"mode\": \"lines\", \"name\": \"MEDV\", \"showlegend\": false, \"type\": \"scatter\", \"x\": [5.0, 5.09, 5.18, 5.27, 5.36, 5.45, 5.54, 5.63, 5.72, 5.8100000000000005, 5.9, 5.99, 6.08, 6.17, 6.26, 6.35, 6.4399999999999995, 6.53, 6.62, 6.71, 6.8, 6.89, 6.98, 7.07, 7.16, 7.25, 7.34, 7.43, 7.52, 7.609999999999999, 7.7, 7.79, 7.88, 7.970000000000001, 8.06, 8.15, 8.24, 8.33, 8.42, 8.51, 8.6, 8.69, 8.78, 8.870000000000001, 8.96, 9.05, 9.14, 9.23, 9.32, 9.41, 9.5, 9.59, 9.68, 9.77, 9.86, 9.95, 10.04, 10.129999999999999, 10.219999999999999, 10.309999999999999, 10.4, 10.49, 10.58, 10.67, 10.76, 10.85, 10.940000000000001, 11.030000000000001, 11.120000000000001, 11.21, 11.3, 11.39, 11.48, 11.57, 11.66, 11.75, 11.84, 11.93, 12.02, 12.11, 12.2, 12.29, 12.379999999999999, 12.469999999999999, 12.559999999999999, 12.65, 12.74, 12.83, 12.92, 13.01, 13.1, 13.19, 13.28, 13.37, 13.46, 13.55, 13.64, 13.73, 13.82, 13.91, 14.0, 14.09, 14.18, 14.27, 14.36, 14.45, 14.54, 14.63, 14.72, 14.81, 14.9, 14.99, 15.08, 15.17, 15.26, 15.35, 15.44, 15.53, 15.62, 15.71, 15.8, 15.89, 15.98, 16.07, 16.16, 16.25, 16.34, 16.43, 16.52, 16.61, 16.7, 16.79, 16.880000000000003, 16.97, 17.060000000000002, 17.15, 17.240000000000002, 17.33, 17.42, 17.509999999999998, 17.6, 17.689999999999998, 17.78, 17.869999999999997, 17.96, 18.05, 18.14, 18.23, 18.32, 18.41, 18.5, 18.59, 18.68, 18.77, 18.86, 18.95, 19.04, 19.130000000000003, 19.22, 19.310000000000002, 19.4, 19.490000000000002, 19.58, 19.67, 19.759999999999998, 19.85, 19.939999999999998, 20.03, 20.119999999999997, 20.21, 20.3, 20.39, 20.48, 20.57, 20.66, 20.75, 20.84, 20.93, 21.02, 21.11, 21.2, 21.29, 21.38, 21.47, 21.56, 21.65, 21.74, 21.83, 21.92, 22.01, 22.1, 22.19, 22.28, 22.37, 22.46, 22.55, 22.64, 22.73, 22.82, 22.91, 23.0, 23.09, 23.18, 23.27, 23.36, 23.45, 23.54, 23.63, 23.72, 23.81, 23.9, 23.99, 24.08, 24.17, 24.26, 24.35, 24.44, 24.53, 24.62, 24.71, 24.8, 24.89, 24.98, 25.07, 25.16, 25.25, 25.34, 25.43, 25.52, 25.61, 25.7, 25.79, 25.88, 25.97, 26.06, 26.15, 26.24, 26.33, 26.42, 26.51, 26.6, 26.69, 26.78, 26.87, 26.96, 27.05, 27.14, 27.23, 27.32, 27.41, 27.5, 27.59, 27.68, 27.77, 27.86, 27.95, 28.04, 28.13, 28.22, 28.31, 28.4, 28.49, 28.58, 28.67, 28.76, 28.85, 28.94, 29.03, 29.12, 29.21, 29.3, 29.39, 29.48, 29.57, 29.66, 29.75, 29.84, 29.93, 30.02, 30.11, 30.2, 30.29, 30.38, 30.47, 30.56, 30.65, 30.74, 30.83, 30.92, 31.01, 31.1, 31.19, 31.28, 31.37, 31.46, 31.55, 31.64, 31.73, 31.82, 31.91, 32.0, 32.09, 32.18, 32.269999999999996, 32.36, 32.45, 32.54, 32.629999999999995, 32.72, 32.81, 32.9, 32.989999999999995, 33.08, 33.17, 33.260000000000005, 33.35, 33.44, 33.53, 33.620000000000005, 33.71, 33.8, 33.89, 33.980000000000004, 34.07, 34.16, 34.25, 34.34, 34.43, 34.519999999999996, 34.61, 34.7, 34.79, 34.879999999999995, 34.97, 35.06, 35.15, 35.239999999999995, 35.33, 35.42, 35.510000000000005, 35.6, 35.69, 35.78, 35.870000000000005, 35.96, 36.05, 36.14, 36.230000000000004, 36.32, 36.41, 36.5, 36.59, 36.68, 36.769999999999996, 36.86, 36.95, 37.04, 37.13, 37.22, 37.31, 37.4, 37.49, 37.58, 37.67, 37.76, 37.85, 37.94, 38.03, 38.12, 38.21, 38.3, 38.39, 38.48, 38.57, 38.66, 38.75, 38.84, 38.93, 39.02, 39.11, 39.2, 39.29, 39.38, 39.47, 39.56, 39.65, 39.74, 39.83, 39.92, 40.01, 40.1, 40.19, 40.28, 40.37, 40.46, 40.55, 40.64, 40.73, 40.82, 40.91, 41.0, 41.09, 41.18, 41.27, 41.36, 41.45, 41.54, 41.63, 41.72, 41.81, 41.9, 41.99, 42.08, 42.17, 42.26, 42.35, 42.44, 42.53, 42.62, 42.71, 42.8, 42.89, 42.98, 43.07, 43.16, 43.25, 43.34, 43.43, 43.52, 43.61, 43.7, 43.79, 43.88, 43.97, 44.06, 44.15, 44.24, 44.33, 44.42, 44.51, 44.6, 44.69, 44.78, 44.87, 44.96, 45.05, 45.14, 45.23, 45.32, 45.41, 45.5, 45.59, 45.68, 45.77, 45.86, 45.95, 46.04, 46.13, 46.22, 46.31, 46.4, 46.49, 46.58, 46.67, 46.76, 46.85, 46.94, 47.03, 47.12, 47.21, 47.3, 47.39, 47.48, 47.57, 47.66, 47.75, 47.84, 47.93, 48.02, 48.11, 48.2, 48.29, 48.38, 48.47, 48.56, 48.65, 48.74, 48.83, 48.92, 49.01, 49.1, 49.19, 49.28, 49.37, 49.46, 49.55, 49.64, 49.73, 49.82, 49.91], \"xaxis\": \"x\", \"y\": [0.004654501269325038, 0.004817597615044198, 0.0049834657544565635, 0.0051520479046582475, 0.0053232851656982915, 0.005497117926215968, 0.005673486282360313, 0.005852330467446344, 0.006033591289607829, 0.006217210574525057, 0.006403131610140187, 0.006591299590125024, 0.006781662052738092, 0.006974169311602868, 0.007168774874858018, 0.0073654358490762625, 0.007564113324322467, 0.007764772736725352, 0.007967384204972606, 0.008171922837206757, 0.008378369004900504, 0.008586708580425371, 0.008796933135197296, 0.009009040095486812, 0.009223032853219753, 0.009438920829365958, 0.009656719487817511, 0.009876450297993137, 0.010098140644769582, 0.010321823684732315, 0.010547538148154017, 0.010775328086547246, 0.011005242566094562, 0.011237335307731253, 0.011471664275139525, 0.011708291212404107, 0.011947281133573658, 0.012188701766865824, 0.01243262295674128, 0.01267911602754949, 0.012928253112910803, 0.013180106455441461, 0.0134347476818451, 0.013692247058781732, 0.013952672735278046, 0.014216089977757095, 0.014482560404036261, 0.01475214122286604, 0.015024884485754817, 0.015300836357942998, 0.015580036415450499, 0.015862516975122403, 0.016148302464536007, 0.016437408838507403, 0.016729843048745762, 0.01702560257294834, 0.017324675009309048, 0.01762703774202902, 0.017932657682970116, 0.018241491094084412, 0.01855348349468619, 0.018868569657012366, 0.019186673692845317, 0.019507709233254348, 0.019831579702753274, 0.02015817868837777, 0.02048739040336302, 0.020819090244257533, 0.02115314543944876, 0.021489415786208898, 0.02182775447250222, 0.02216800897893671, 0.022510022055401042, 0.02285363276611116, 0.02319867759600714, 0.023544991610699346, 0.023892409661470444, 0.024240767626205046, 0.024589903676548643, 0.024939659561099593, 0.0252898818940177, 0.02564042343809789, 0.02599114437111107, 0.026341913524062427, 0.026692609579962844, 0.027043122221755325, 0.02739335321818644, 0.027743217436664604, 0.028092643772501546, 0.028441575984390215, 0.028789973426529187, 0.029137811668456914, 0.02948508299440547, 0.029831796774816868, 0.030177979703579928, 0.03052367589553446, 0.030868946839845313, 0.03121387120596135, 0.031558544500035604, 0.03190307857088226, 0.032247600965772324, 0.03259225413761326, 0.0329371945063058, 0.0332825913783125, 0.03362862572969657, 0.03397548885908214, 0.03432338091814012, 0.03467250932830274, 0.03502308709344627, 0.03537533101924407, 0.03572945985077081, 0.03608569234072596, 0.03644424526133055, 0.03680533137353091, 0.03716915736760752, 0.03753592178963434, 0.037905812968458165, 0.038279006957966356, 0.03865566550938418, 0.03903593408818899, 0.039419939949948996, 0.03980779028899273, 0.040199570473293075, 0.04059534237831531, 0.040995142831834336, 0.04139898218088273, 0.04180684299105441, 0.04221867888736954, 0.04263441354481393, 0.043053939835511854, 0.04347711913828688, 0.04390378081512241, 0.04433372185776501, 0.04476670670643175, 0.045202467241301024, 0.04564070294619594, 0.04608108124262534, 0.04652323799113852, 0.046966778155791915, 0.04741127662642518, 0.04785627919241638, 0.04830130366063461, 0.04874584110944799, 0.04918935726987702, 0.049631294024319775, 0.05007107101271485, 0.050508087335561135, 0.050941723342875715, 0.05137134249794873, 0.05179629330464328, 0.05221591128698893, 0.05262952100992509, 0.053036438130262084, 0.05343597146723625, 0.05382742508243403, 0.05421010035934257, 0.054583298073338844, 0.054946320443549454, 0.05529847315868522, 0.05563906736967126, 0.05596742164263799, 0.056282863866606955, 0.05658473311097677, 0.056872381428686926, 0.057145175601690516, 0.05740249882609756, 0.05764375233504214, 0.057868356957974314, 0.058075754615668905, 0.05826540975077385, 0.05843681069417984, 0.05858947096787978, 0.05872293052529272, 0.058836756930251935, 0.05893054647599934, 0.05900392524558659, 0.05905655011506041, 0.059088109700707526, 0.059098325251457355, 0.05908695148729415, 0.059053777384220726, 0.05899862690595083, 0.05892135968209627, 0.05882187163216685, 0.058700095534225734, 0.058556001536552924, 0.05838959761017407, 0.05820092993962313, 0.057990083248838156, 0.05775718105864779, 0.05750238587190758, 0.057225899281994674, 0.05692796200008272, 0.05660885379639917, 0.056268893350527004, 0.055908438005756046, 0.055527883422522635, 0.055127663126104245, 0.05470824794396008, 0.05427014532843197, 0.05381389856094083, 0.05334008583433104, 0.05284931921062629, 0.05234224345215844, 0.05181953472481193, 0.05128189917298199, 0.050730071366764974, 0.05016481262287663, 0.04958690920181418, 0.04899717038483335, 0.04839642643538403, 0.047785526450730594, 0.04716533611055688, 0.04653673533041089, 0.045900615828865135, 0.045257878618242264, 0.04460943142967107, 0.043956186084078266, 0.043299055821480845, 0.04263895260160662, 0.04197678438943073, 0.041313452439662716, 0.040649848594546734, 0.03998685260954013, 0.039325329521509626, 0.038666127074026044, 0.03801007321414866, 0.03735797367476759, 0.036710609656121114, 0.03606873561952747, 0.03543307720567256, 0.03480432928898399, 0.034183154178704565, 0.03357017997626593, 0.03296599909746401, 0.03237116696676503, 0.03178620088983596, 0.031211579109108913, 0.03064774004586839, 0.030095081731008347, 0.029553961425253444, 0.029024695428294053, 0.0285075590749554, 0.02800278691522534, 0.027510573073712925, 0.027031071782913065, 0.02656439808352293, 0.026110628684002834, 0.025669802970607076, 0.025241924158237096, 0.024826960571695963, 0.02442484704625614, 0.024035486435894718, 0.02365875121710536, 0.023294485175865253, 0.022942505165118046, 0.02260260292003011, 0.02227454691828367, 0.021958084272784086, 0.02165294264437475, 0.02135883216246584, 0.02107544734188699, 0.02080246898476052, 0.020539566056754256, 0.02028639752770218, 0.0200426141672686, 0.019807860287068386, 0.019581775421432145, 0.019363995939812507, 0.019154156584656468, 0.018951891929409315, 0.01875683775216098, 0.01856863232128512, 0.018386917590249154, 0.018211340299581127, 0.018041552984760338, 0.01787721488954749, 0.01771799278498073, 0.017563561694932266, 0.017413605529742228, 0.01726781763001874, 0.017125901223214213, 0.016987569796054904, 0.016852547386314053, 0.0167205687977774, 0.01659137974255436, 0.0164647369151394, 0.016340408002827832, 0.016218171637240403, 0.016097817291813508, 0.01597914513017024, 0.015861965810303857, 0.015746100249483527, 0.015631379354734957, 0.015517643723660204, 0.015404743320243818, 0.015292537130150871, 0.01518089279985917, 0.015069686263786559, 0.014958801363377211, 0.014848129461901954, 0.014737569058508608, 0.014627025404832057, 0.01451641012724237, 0.014405640857574661, 0.014294640874947823, 0.0141833387610427, 0.014071668070974748, 0.013959567021662345, 0.013846978199360668, 0.01373384828780327, 0.013620127818168909, 0.013505770941871057, 0.013390735226950773, 0.013274981478641557, 0.01315847358446701, 0.013041178384028369, 0.012923065563439766, 0.012804107574174467, 0.01268427957589498, 0.012563559402654967, 0.012441927551680545, 0.012319367193764195, 0.012195864204135686, 0.01207140721251294, 0.011945987670880802, 0.01181959993739969, 0.011692241374708107, 0.011563912460756259, 0.011434616910190884, 0.011304361804207498, 0.011173157726694385, 0.011041018904416089, 0.010907963348921669, 0.010774012997817838, 0.010639193853018002, 0.010503536113568274, 0.010367074300659381, 0.010229847372461194, 0.010091898826463575, 0.009953276787075022, 0.009814034076317429, 0.009674228265563077, 0.009533921706386424, 0.009393181538749532, 0.00925207967490378, 0.00911069275757237, 0.008969102091175109, 0.008827393545069551, 0.008685657428007343, 0.008543988333241647, 0.008402484953966845, 0.008261249869025392, 0.008120389299074673, 0.007980012833668426, 0.007840233129968547, 0.007701165584063644, 0.0075629279761259835, 0.007425640090888427, 0.007289423315162497, 0.007154400214349013, 0.007020694090107741, 0.0068884285215542185, 0.006757726892534536, 0.006628711907694289, 0.006501505100201213, 0.006376226334104101, 0.006252993304408973, 0.006131921038029677, 0.006013121398819861, 0.00589670259991964, 0.005782768726649606, 0.005671419273160318, 0.005562748695994227, 0.00545684598764251, 0.005353794273079136, 0.0052536704321326875, 0.005156544750410869, 0.005062480601327162, 0.00497153416159351, 0.004883754162338823, 0.00479918167779341, 0.0047178499532438975, 0.0046397842737157646, 0.004565001874581145, 0.00449351189502205, 0.004425315375003455, 0.004360405296131013, 0.004298766666484288, 0.0042403766492324245, 0.004185204734555056, 0.004133212954110686, 0.004084356137017982, 0.0040385822060455805, 0.00399583251244343, 0.003956042207596329, 0.003919140649438234, 0.003885051841336871, 0.0038536949009420874, 0.003824984556290687, 0.003798831666274975, 0.0037751437624139943, 0.0037538256087152034, 0.003734779776281728, 0.003717907229206214, 0.003703107918197624, 0.003690281378312278, 0.003679327327105297, 0.0036701462594837006, 0.0036626400355277253, 0.0036567124575525916, 0.00365226983270892, 0.003649221517466157, 0.003647480440389579, 0.003646963599707564, 0.003647592532271457, 0.0036492937506353174, 0.0036519991451267764, 0.003655646347942616, 0.0036601790564832833, 0.003665547313338663, 0.0036717077405527283, 0.003678623726026392, 0.003686265560165538, 0.003694610521143963, 0.003703642907428228, 0.0037133540165021355, 0.0037237420690320903, 0.003734812078029714, 0.003746575662893855, 0.003759050808549264, 0.003772261570242496, 0.003786237724905498, 0.0038010143703524316, 0.0038166314739338006, 0.003833133372632175, 0.003850568226943635, 0.0038689874312466477, 0.003888444983712959, 0.003908996819161093, 0.003930700108589562, 0.003953612529451496, 0.0039777915110421015, 0.004003293459662859, 0.004030172968498134, 0.004058482017388864, 0.00408826916791036, 0.004119578759355016, 0.004152450111382194, 0.004186916739224661, 0.004223005587430472, 0.004260736288169009, 0.004300120450137372, 0.004341160984066785, 0.004383851470745662, 0.004428175577345986, 0.004474106527660266, 0.004521606631628286, 0.00457062687925432, 0.004621106603688097, 0.004672973217865855, 0.004726142028683729, 0.004780516132204985, 0.004835986392888756, 0.004892431509272383, 0.004949718167947056, 0.00500770128703946, 0.005066224349756725, 0.005125119827871296, 0.005184209694323432, 0.005243306023406152, 0.005302211676278269, 0.005360721068830642, 0.005418621018217207, 0.005475691663661123, 0.005531707456466072, 0.005586438213508803, 0.005639650227870069, 0.005691107429682576, 0.005740572589743962, 0.005787808557966347, 0.005832579528316927, 0.00587465232155284, 0.005913797676771873, 0.005949791542593686, 0.005982416358656668, 0.006011462318066907, 0.006036728601469094, 0.006058024573526216, 0.006075170932795196, 0.00608800080626893, 0.006096360780219075, 0.006100111859416672, 0.0060991303473248, 0.00609330864044536, 0.00608255593065487, 0.006066798810076303, 0.006045981773798579, 0.00602006761656481, 0.005989037720397379], \"yaxis\": \"y\"}, {\"legendgroup\": \"MEDV\", \"marker\": {\"color\": \"rgb(31, 119, 180)\", \"symbol\": \"line-ns-open\"}, \"mode\": \"markers\", \"name\": \"MEDV\", \"showlegend\": false, \"type\": \"scatter\", \"x\": [24.0, 21.6, 34.7, 33.4, 36.2, 28.7, 22.9, 27.1, 16.5, 18.9, 15.0, 18.9, 21.7, 20.4, 18.2, 19.9, 23.1, 17.5, 20.2, 18.2, 13.6, 19.6, 15.2, 14.5, 15.6, 13.9, 16.6, 14.8, 18.4, 21.0, 12.7, 14.5, 13.2, 13.1, 13.5, 18.9, 20.0, 21.0, 24.7, 30.8, 34.9, 26.6, 25.3, 24.7, 21.2, 19.3, 20.0, 16.6, 14.4, 19.4, 19.7, 20.5, 25.0, 23.4, 18.9, 35.4, 24.7, 31.6, 23.3, 19.6, 18.7, 16.0, 22.2, 25.0, 33.0, 23.5, 19.4, 22.0, 17.4, 20.9, 24.2, 21.7, 22.8, 23.4, 24.1, 21.4, 20.0, 20.8, 21.2, 20.3, 28.0, 23.9, 24.8, 22.9, 23.9, 26.6, 22.5, 22.2, 23.6, 28.7, 22.6, 22.0, 22.9, 25.0, 20.6, 28.4, 21.4, 38.7, 43.8, 33.2, 27.5, 26.5, 18.6, 19.3, 20.1, 19.5, 19.5, 20.4, 19.8, 19.4, 21.7, 22.8, 18.8, 18.7, 18.5, 18.3, 21.2, 19.2, 20.4, 19.3, 22.0, 20.3, 20.5, 17.3, 18.8, 21.4, 15.7, 16.2, 18.0, 14.3, 19.2, 19.6, 23.0, 18.4, 15.6, 18.1, 17.4, 17.1, 13.3, 17.8, 14.0, 14.4, 13.4, 15.6, 11.8, 13.8, 15.6, 14.6, 17.8, 15.4, 21.5, 19.6, 15.3, 19.4, 17.0, 15.6, 13.1, 41.3, 24.3, 23.3, 27.0, 50.0, 50.0, 50.0, 22.7, 25.0, 50.0, 23.8, 23.8, 22.3, 17.4, 19.1, 23.1, 23.6, 22.6, 29.4, 23.2, 24.6, 29.9, 37.2, 39.8, 36.2, 37.9, 32.5, 26.4, 29.6, 50.0, 32.0, 29.8, 34.9, 37.0, 30.5, 36.4, 31.1, 29.1, 50.0, 33.3, 30.3, 34.6, 34.9, 32.9, 24.1, 42.3, 48.5, 50.0, 22.6, 24.4, 22.5, 24.4, 20.0, 21.7, 19.3, 22.4, 28.1, 23.7, 25.0, 23.3, 28.7, 21.5, 23.0, 26.7, 21.7, 27.5, 30.1, 44.8, 50.0, 37.6, 31.6, 46.7, 31.5, 24.3, 31.7, 41.7, 48.3, 29.0, 24.0, 25.1, 31.5, 23.7, 23.3, 22.0, 20.1, 22.2, 23.7, 17.6, 18.5, 24.3, 20.5, 24.5, 26.2, 24.4, 24.8, 29.6, 42.8, 21.9, 20.9, 44.0, 50.0, 36.0, 30.1, 33.8, 43.1, 48.8, 31.0, 36.5, 22.8, 30.7, 50.0, 43.5, 20.7, 21.1, 25.2, 24.4, 35.2, 32.4, 32.0, 33.2, 33.1, 29.1, 35.1, 45.4, 35.4, 46.0, 50.0, 32.2, 22.0, 20.1, 23.2, 22.3, 24.8, 28.5, 37.3, 27.9, 23.9, 21.7, 28.6, 27.1, 20.3, 22.5, 29.0, 24.8, 22.0, 26.4, 33.1, 36.1, 28.4, 33.4, 28.2, 22.8, 20.3, 16.1, 22.1, 19.4, 21.6, 23.8, 16.2, 17.8, 19.8, 23.1, 21.0, 23.8, 23.1, 20.4, 18.5, 25.0, 24.6, 23.0, 22.2, 19.3, 22.6, 19.8, 17.1, 19.4, 22.2, 20.7, 21.1, 19.5, 18.5, 20.6, 19.0, 18.7, 32.7, 16.5, 23.9, 31.2, 17.5, 17.2, 23.1, 24.5, 26.6, 22.9, 24.1, 18.6, 30.1, 18.2, 20.6, 17.8, 21.7, 22.7, 22.6, 25.0, 19.9, 20.8, 16.8, 21.9, 27.5, 21.9, 23.1, 50.0, 50.0, 50.0, 50.0, 50.0, 13.8, 13.8, 15.0, 13.9, 13.3, 13.1, 10.2, 10.4, 10.9, 11.3, 12.3, 8.8, 7.2, 10.5, 7.4, 10.2, 11.5, 15.1, 23.2, 9.7, 13.8, 12.7, 13.1, 12.5, 8.5, 5.0, 6.3, 5.6, 7.2, 12.1, 8.3, 8.5, 5.0, 11.9, 27.9, 17.2, 27.5, 15.0, 17.2, 17.9, 16.3, 7.0, 7.2, 7.5, 10.4, 8.8, 8.4, 16.7, 14.2, 20.8, 13.4, 11.7, 8.3, 10.2, 10.9, 11.0, 9.5, 14.5, 14.1, 16.1, 14.3, 11.7, 13.4, 9.6, 8.7, 8.4, 12.8, 10.5, 17.1, 18.4, 15.4, 10.8, 11.8, 14.9, 12.6, 14.1, 13.0, 13.4, 15.2, 16.1, 17.8, 14.9, 14.1, 12.7, 13.5, 14.9, 20.0, 16.4, 17.7, 19.5, 20.2, 21.4, 19.9, 19.0, 19.1, 19.1, 20.1, 19.9, 19.6, 23.2, 29.8, 13.8, 13.3, 16.7, 12.0, 14.6, 21.4, 23.0, 23.7, 25.0, 21.8, 20.6, 21.2, 19.1, 20.6, 15.2, 7.0, 8.1, 13.6, 20.1, 21.8, 24.5, 23.1, 19.7, 18.3, 21.2, 17.5, 16.8, 22.4, 20.6, 23.9, 22.0, 11.9], \"xaxis\": \"x\", \"y\": [\"MEDV\", \"MEDV\", \"MEDV\", \"MEDV\", \"MEDV\", \"MEDV\", \"MEDV\", \"MEDV\", \"MEDV\", \"MEDV\", \"MEDV\", \"MEDV\", \"MEDV\", \"MEDV\", \"MEDV\", \"MEDV\", \"MEDV\", \"MEDV\", \"MEDV\", \"MEDV\", \"MEDV\", \"MEDV\", \"MEDV\", \"MEDV\", \"MEDV\", \"MEDV\", \"MEDV\", \"MEDV\", \"MEDV\", \"MEDV\", \"MEDV\", \"MEDV\", \"MEDV\", \"MEDV\", \"MEDV\", \"MEDV\", \"MEDV\", \"MEDV\", \"MEDV\", \"MEDV\", \"MEDV\", \"MEDV\", \"MEDV\", \"MEDV\", \"MEDV\", \"MEDV\", \"MEDV\", \"MEDV\", \"MEDV\", \"MEDV\", \"MEDV\", \"MEDV\", \"MEDV\", \"MEDV\", \"MEDV\", \"MEDV\", \"MEDV\", \"MEDV\", \"MEDV\", \"MEDV\", \"MEDV\", \"MEDV\", \"MEDV\", \"MEDV\", \"MEDV\", \"MEDV\", \"MEDV\", \"MEDV\", \"MEDV\", \"MEDV\", \"MEDV\", \"MEDV\", \"MEDV\", \"MEDV\", \"MEDV\", \"MEDV\", \"MEDV\", \"MEDV\", \"MEDV\", \"MEDV\", \"MEDV\", \"MEDV\", \"MEDV\", \"MEDV\", \"MEDV\", \"MEDV\", \"MEDV\", \"MEDV\", \"MEDV\", \"MEDV\", \"MEDV\", \"MEDV\", \"MEDV\", \"MEDV\", \"MEDV\", \"MEDV\", \"MEDV\", \"MEDV\", \"MEDV\", \"MEDV\", \"MEDV\", \"MEDV\", \"MEDV\", \"MEDV\", \"MEDV\", \"MEDV\", \"MEDV\", \"MEDV\", \"MEDV\", \"MEDV\", \"MEDV\", \"MEDV\", \"MEDV\", \"MEDV\", \"MEDV\", \"MEDV\", \"MEDV\", \"MEDV\", \"MEDV\", \"MEDV\", \"MEDV\", \"MEDV\", \"MEDV\", \"MEDV\", \"MEDV\", \"MEDV\", \"MEDV\", \"MEDV\", \"MEDV\", \"MEDV\", \"MEDV\", \"MEDV\", \"MEDV\", \"MEDV\", \"MEDV\", \"MEDV\", \"MEDV\", \"MEDV\", \"MEDV\", \"MEDV\", \"MEDV\", \"MEDV\", \"MEDV\", \"MEDV\", \"MEDV\", \"MEDV\", \"MEDV\", \"MEDV\", \"MEDV\", \"MEDV\", \"MEDV\", \"MEDV\", \"MEDV\", \"MEDV\", \"MEDV\", \"MEDV\", \"MEDV\", \"MEDV\", \"MEDV\", \"MEDV\", \"MEDV\", \"MEDV\", \"MEDV\", \"MEDV\", \"MEDV\", \"MEDV\", \"MEDV\", \"MEDV\", \"MEDV\", \"MEDV\", \"MEDV\", \"MEDV\", \"MEDV\", \"MEDV\", \"MEDV\", \"MEDV\", \"MEDV\", \"MEDV\", \"MEDV\", \"MEDV\", \"MEDV\", \"MEDV\", \"MEDV\", \"MEDV\", \"MEDV\", \"MEDV\", \"MEDV\", \"MEDV\", \"MEDV\", \"MEDV\", \"MEDV\", \"MEDV\", \"MEDV\", \"MEDV\", \"MEDV\", \"MEDV\", \"MEDV\", \"MEDV\", \"MEDV\", \"MEDV\", \"MEDV\", \"MEDV\", \"MEDV\", \"MEDV\", \"MEDV\", \"MEDV\", \"MEDV\", \"MEDV\", \"MEDV\", \"MEDV\", \"MEDV\", \"MEDV\", \"MEDV\", \"MEDV\", \"MEDV\", \"MEDV\", \"MEDV\", \"MEDV\", \"MEDV\", \"MEDV\", \"MEDV\", \"MEDV\", \"MEDV\", \"MEDV\", \"MEDV\", \"MEDV\", \"MEDV\", \"MEDV\", \"MEDV\", \"MEDV\", \"MEDV\", \"MEDV\", \"MEDV\", \"MEDV\", \"MEDV\", \"MEDV\", \"MEDV\", \"MEDV\", \"MEDV\", \"MEDV\", \"MEDV\", \"MEDV\", \"MEDV\", \"MEDV\", \"MEDV\", \"MEDV\", \"MEDV\", \"MEDV\", \"MEDV\", \"MEDV\", \"MEDV\", \"MEDV\", \"MEDV\", \"MEDV\", \"MEDV\", \"MEDV\", \"MEDV\", \"MEDV\", \"MEDV\", \"MEDV\", \"MEDV\", \"MEDV\", \"MEDV\", \"MEDV\", \"MEDV\", \"MEDV\", \"MEDV\", \"MEDV\", \"MEDV\", \"MEDV\", \"MEDV\", \"MEDV\", \"MEDV\", \"MEDV\", \"MEDV\", \"MEDV\", \"MEDV\", \"MEDV\", \"MEDV\", \"MEDV\", \"MEDV\", \"MEDV\", \"MEDV\", \"MEDV\", \"MEDV\", \"MEDV\", \"MEDV\", \"MEDV\", \"MEDV\", \"MEDV\", \"MEDV\", \"MEDV\", \"MEDV\", \"MEDV\", \"MEDV\", \"MEDV\", \"MEDV\", \"MEDV\", \"MEDV\", \"MEDV\", \"MEDV\", \"MEDV\", \"MEDV\", \"MEDV\", \"MEDV\", \"MEDV\", \"MEDV\", \"MEDV\", \"MEDV\", \"MEDV\", \"MEDV\", \"MEDV\", \"MEDV\", \"MEDV\", \"MEDV\", \"MEDV\", \"MEDV\", \"MEDV\", \"MEDV\", \"MEDV\", \"MEDV\", \"MEDV\", \"MEDV\", \"MEDV\", \"MEDV\", \"MEDV\", \"MEDV\", \"MEDV\", \"MEDV\", \"MEDV\", \"MEDV\", \"MEDV\", \"MEDV\", \"MEDV\", \"MEDV\", \"MEDV\", \"MEDV\", \"MEDV\", \"MEDV\", \"MEDV\", \"MEDV\", \"MEDV\", \"MEDV\", \"MEDV\", \"MEDV\", \"MEDV\", \"MEDV\", \"MEDV\", \"MEDV\", \"MEDV\", \"MEDV\", \"MEDV\", \"MEDV\", \"MEDV\", \"MEDV\", \"MEDV\", \"MEDV\", \"MEDV\", \"MEDV\", \"MEDV\", \"MEDV\", \"MEDV\", \"MEDV\", \"MEDV\", \"MEDV\", \"MEDV\", \"MEDV\", \"MEDV\", \"MEDV\", \"MEDV\", \"MEDV\", \"MEDV\", \"MEDV\", \"MEDV\", \"MEDV\", \"MEDV\", \"MEDV\", \"MEDV\", \"MEDV\", \"MEDV\", \"MEDV\", \"MEDV\", \"MEDV\", \"MEDV\", \"MEDV\", \"MEDV\", \"MEDV\", \"MEDV\", \"MEDV\", \"MEDV\", \"MEDV\", \"MEDV\", \"MEDV\", \"MEDV\", \"MEDV\", \"MEDV\", \"MEDV\", \"MEDV\", \"MEDV\", \"MEDV\", \"MEDV\", \"MEDV\", \"MEDV\", \"MEDV\", \"MEDV\", \"MEDV\", \"MEDV\", \"MEDV\", \"MEDV\", \"MEDV\", \"MEDV\", \"MEDV\", \"MEDV\", \"MEDV\", \"MEDV\", \"MEDV\", \"MEDV\", \"MEDV\", \"MEDV\", \"MEDV\", \"MEDV\", \"MEDV\", \"MEDV\", \"MEDV\", \"MEDV\", \"MEDV\", \"MEDV\", \"MEDV\", \"MEDV\", \"MEDV\", \"MEDV\", \"MEDV\", \"MEDV\", \"MEDV\", \"MEDV\", \"MEDV\", \"MEDV\", \"MEDV\", \"MEDV\", \"MEDV\", \"MEDV\", \"MEDV\", \"MEDV\", \"MEDV\", \"MEDV\", \"MEDV\", \"MEDV\", \"MEDV\", \"MEDV\", \"MEDV\", \"MEDV\", \"MEDV\", \"MEDV\", \"MEDV\", \"MEDV\", \"MEDV\", \"MEDV\", \"MEDV\", \"MEDV\", \"MEDV\", \"MEDV\", \"MEDV\", \"MEDV\", \"MEDV\", \"MEDV\", \"MEDV\", \"MEDV\", \"MEDV\", \"MEDV\", \"MEDV\", \"MEDV\", \"MEDV\", \"MEDV\", \"MEDV\", \"MEDV\", \"MEDV\", \"MEDV\", \"MEDV\", \"MEDV\", \"MEDV\", \"MEDV\", \"MEDV\", \"MEDV\", \"MEDV\", \"MEDV\", \"MEDV\", \"MEDV\", \"MEDV\", \"MEDV\", \"MEDV\", \"MEDV\", \"MEDV\", \"MEDV\", \"MEDV\", \"MEDV\", \"MEDV\", \"MEDV\", \"MEDV\", \"MEDV\", \"MEDV\", \"MEDV\", \"MEDV\", \"MEDV\", \"MEDV\", \"MEDV\", \"MEDV\"], \"yaxis\": \"y2\"}],\n",
              "                        {\"barmode\": \"overlay\", \"height\": 500, \"hovermode\": \"closest\", \"legend\": {\"traceorder\": \"reversed\"}, \"template\": {\"data\": {\"bar\": [{\"error_x\": {\"color\": \"#2a3f5f\"}, \"error_y\": {\"color\": \"#2a3f5f\"}, \"marker\": {\"line\": {\"color\": \"#E5ECF6\", \"width\": 0.5}}, \"type\": \"bar\"}], \"barpolar\": [{\"marker\": {\"line\": {\"color\": \"#E5ECF6\", \"width\": 0.5}}, \"type\": \"barpolar\"}], \"carpet\": [{\"aaxis\": {\"endlinecolor\": \"#2a3f5f\", \"gridcolor\": \"white\", \"linecolor\": \"white\", \"minorgridcolor\": \"white\", \"startlinecolor\": \"#2a3f5f\"}, \"baxis\": {\"endlinecolor\": \"#2a3f5f\", \"gridcolor\": \"white\", \"linecolor\": \"white\", \"minorgridcolor\": \"white\", \"startlinecolor\": \"#2a3f5f\"}, \"type\": \"carpet\"}], \"choropleth\": [{\"colorbar\": {\"outlinewidth\": 0, \"ticks\": \"\"}, \"type\": \"choropleth\"}], \"contour\": [{\"colorbar\": {\"outlinewidth\": 0, \"ticks\": \"\"}, \"colorscale\": [[0.0, \"#0d0887\"], [0.1111111111111111, \"#46039f\"], [0.2222222222222222, \"#7201a8\"], [0.3333333333333333, \"#9c179e\"], [0.4444444444444444, \"#bd3786\"], [0.5555555555555556, \"#d8576b\"], [0.6666666666666666, \"#ed7953\"], [0.7777777777777778, \"#fb9f3a\"], [0.8888888888888888, \"#fdca26\"], [1.0, \"#f0f921\"]], \"type\": \"contour\"}], \"contourcarpet\": [{\"colorbar\": {\"outlinewidth\": 0, \"ticks\": \"\"}, \"type\": \"contourcarpet\"}], \"heatmap\": [{\"colorbar\": {\"outlinewidth\": 0, \"ticks\": \"\"}, \"colorscale\": [[0.0, \"#0d0887\"], [0.1111111111111111, \"#46039f\"], [0.2222222222222222, \"#7201a8\"], [0.3333333333333333, \"#9c179e\"], [0.4444444444444444, \"#bd3786\"], [0.5555555555555556, \"#d8576b\"], [0.6666666666666666, \"#ed7953\"], [0.7777777777777778, \"#fb9f3a\"], [0.8888888888888888, \"#fdca26\"], [1.0, \"#f0f921\"]], \"type\": \"heatmap\"}], \"heatmapgl\": [{\"colorbar\": {\"outlinewidth\": 0, \"ticks\": \"\"}, \"colorscale\": [[0.0, \"#0d0887\"], [0.1111111111111111, \"#46039f\"], [0.2222222222222222, \"#7201a8\"], [0.3333333333333333, \"#9c179e\"], [0.4444444444444444, \"#bd3786\"], [0.5555555555555556, \"#d8576b\"], [0.6666666666666666, \"#ed7953\"], [0.7777777777777778, \"#fb9f3a\"], [0.8888888888888888, \"#fdca26\"], [1.0, \"#f0f921\"]], \"type\": \"heatmapgl\"}], \"histogram\": [{\"marker\": {\"colorbar\": {\"outlinewidth\": 0, \"ticks\": \"\"}}, \"type\": \"histogram\"}], \"histogram2d\": [{\"colorbar\": {\"outlinewidth\": 0, \"ticks\": \"\"}, \"colorscale\": [[0.0, \"#0d0887\"], [0.1111111111111111, \"#46039f\"], [0.2222222222222222, \"#7201a8\"], [0.3333333333333333, \"#9c179e\"], [0.4444444444444444, \"#bd3786\"], [0.5555555555555556, \"#d8576b\"], [0.6666666666666666, \"#ed7953\"], [0.7777777777777778, \"#fb9f3a\"], [0.8888888888888888, \"#fdca26\"], [1.0, \"#f0f921\"]], \"type\": \"histogram2d\"}], \"histogram2dcontour\": [{\"colorbar\": {\"outlinewidth\": 0, \"ticks\": \"\"}, \"colorscale\": [[0.0, \"#0d0887\"], [0.1111111111111111, \"#46039f\"], [0.2222222222222222, \"#7201a8\"], [0.3333333333333333, \"#9c179e\"], [0.4444444444444444, \"#bd3786\"], [0.5555555555555556, \"#d8576b\"], [0.6666666666666666, \"#ed7953\"], [0.7777777777777778, \"#fb9f3a\"], [0.8888888888888888, \"#fdca26\"], [1.0, \"#f0f921\"]], \"type\": \"histogram2dcontour\"}], \"mesh3d\": [{\"colorbar\": {\"outlinewidth\": 0, \"ticks\": \"\"}, \"type\": \"mesh3d\"}], \"parcoords\": [{\"line\": {\"colorbar\": {\"outlinewidth\": 0, \"ticks\": \"\"}}, \"type\": \"parcoords\"}], \"pie\": [{\"automargin\": true, \"type\": \"pie\"}], \"scatter\": [{\"marker\": {\"colorbar\": {\"outlinewidth\": 0, \"ticks\": \"\"}}, \"type\": \"scatter\"}], \"scatter3d\": [{\"line\": {\"colorbar\": {\"outlinewidth\": 0, \"ticks\": \"\"}}, \"marker\": {\"colorbar\": {\"outlinewidth\": 0, \"ticks\": \"\"}}, \"type\": \"scatter3d\"}], \"scattercarpet\": [{\"marker\": {\"colorbar\": {\"outlinewidth\": 0, \"ticks\": \"\"}}, \"type\": \"scattercarpet\"}], \"scattergeo\": [{\"marker\": {\"colorbar\": {\"outlinewidth\": 0, \"ticks\": \"\"}}, \"type\": \"scattergeo\"}], \"scattergl\": [{\"marker\": {\"colorbar\": {\"outlinewidth\": 0, \"ticks\": \"\"}}, \"type\": \"scattergl\"}], \"scattermapbox\": [{\"marker\": {\"colorbar\": {\"outlinewidth\": 0, \"ticks\": \"\"}}, \"type\": \"scattermapbox\"}], \"scatterpolar\": [{\"marker\": {\"colorbar\": {\"outlinewidth\": 0, \"ticks\": \"\"}}, \"type\": \"scatterpolar\"}], \"scatterpolargl\": [{\"marker\": {\"colorbar\": {\"outlinewidth\": 0, \"ticks\": \"\"}}, \"type\": \"scatterpolargl\"}], \"scatterternary\": [{\"marker\": {\"colorbar\": {\"outlinewidth\": 0, \"ticks\": \"\"}}, \"type\": \"scatterternary\"}], \"surface\": [{\"colorbar\": {\"outlinewidth\": 0, \"ticks\": \"\"}, \"colorscale\": [[0.0, \"#0d0887\"], [0.1111111111111111, \"#46039f\"], [0.2222222222222222, \"#7201a8\"], [0.3333333333333333, \"#9c179e\"], [0.4444444444444444, \"#bd3786\"], [0.5555555555555556, \"#d8576b\"], [0.6666666666666666, \"#ed7953\"], [0.7777777777777778, \"#fb9f3a\"], [0.8888888888888888, \"#fdca26\"], [1.0, \"#f0f921\"]], \"type\": \"surface\"}], \"table\": [{\"cells\": {\"fill\": {\"color\": \"#EBF0F8\"}, \"line\": {\"color\": \"white\"}}, \"header\": {\"fill\": {\"color\": \"#C8D4E3\"}, \"line\": {\"color\": \"white\"}}, \"type\": \"table\"}]}, \"layout\": {\"annotationdefaults\": {\"arrowcolor\": \"#2a3f5f\", \"arrowhead\": 0, \"arrowwidth\": 1}, \"coloraxis\": {\"colorbar\": {\"outlinewidth\": 0, \"ticks\": \"\"}}, \"colorscale\": {\"diverging\": [[0, \"#8e0152\"], [0.1, \"#c51b7d\"], [0.2, \"#de77ae\"], [0.3, \"#f1b6da\"], [0.4, \"#fde0ef\"], [0.5, \"#f7f7f7\"], [0.6, \"#e6f5d0\"], [0.7, \"#b8e186\"], [0.8, \"#7fbc41\"], [0.9, \"#4d9221\"], [1, \"#276419\"]], \"sequential\": [[0.0, \"#0d0887\"], [0.1111111111111111, \"#46039f\"], [0.2222222222222222, \"#7201a8\"], [0.3333333333333333, \"#9c179e\"], [0.4444444444444444, \"#bd3786\"], [0.5555555555555556, \"#d8576b\"], [0.6666666666666666, \"#ed7953\"], [0.7777777777777778, \"#fb9f3a\"], [0.8888888888888888, \"#fdca26\"], [1.0, \"#f0f921\"]], \"sequentialminus\": [[0.0, \"#0d0887\"], [0.1111111111111111, \"#46039f\"], [0.2222222222222222, \"#7201a8\"], [0.3333333333333333, \"#9c179e\"], [0.4444444444444444, \"#bd3786\"], [0.5555555555555556, \"#d8576b\"], [0.6666666666666666, \"#ed7953\"], [0.7777777777777778, \"#fb9f3a\"], [0.8888888888888888, \"#fdca26\"], [1.0, \"#f0f921\"]]}, \"colorway\": [\"#636efa\", \"#EF553B\", \"#00cc96\", \"#ab63fa\", \"#FFA15A\", \"#19d3f3\", \"#FF6692\", \"#B6E880\", \"#FF97FF\", \"#FECB52\"], \"font\": {\"color\": \"#2a3f5f\"}, \"geo\": {\"bgcolor\": \"white\", \"lakecolor\": \"white\", \"landcolor\": \"#E5ECF6\", \"showlakes\": true, \"showland\": true, \"subunitcolor\": \"white\"}, \"hoverlabel\": {\"align\": \"left\"}, \"hovermode\": \"closest\", \"mapbox\": {\"style\": \"light\"}, \"paper_bgcolor\": \"white\", \"plot_bgcolor\": \"#E5ECF6\", \"polar\": {\"angularaxis\": {\"gridcolor\": \"white\", \"linecolor\": \"white\", \"ticks\": \"\"}, \"bgcolor\": \"#E5ECF6\", \"radialaxis\": {\"gridcolor\": \"white\", \"linecolor\": \"white\", \"ticks\": \"\"}}, \"scene\": {\"xaxis\": {\"backgroundcolor\": \"#E5ECF6\", \"gridcolor\": \"white\", \"gridwidth\": 2, \"linecolor\": \"white\", \"showbackground\": true, \"ticks\": \"\", \"zerolinecolor\": \"white\"}, \"yaxis\": {\"backgroundcolor\": \"#E5ECF6\", \"gridcolor\": \"white\", \"gridwidth\": 2, \"linecolor\": \"white\", \"showbackground\": true, \"ticks\": \"\", \"zerolinecolor\": \"white\"}, \"zaxis\": {\"backgroundcolor\": \"#E5ECF6\", \"gridcolor\": \"white\", \"gridwidth\": 2, \"linecolor\": \"white\", \"showbackground\": true, \"ticks\": \"\", \"zerolinecolor\": \"white\"}}, \"shapedefaults\": {\"line\": {\"color\": \"#2a3f5f\"}}, \"ternary\": {\"aaxis\": {\"gridcolor\": \"white\", \"linecolor\": \"white\", \"ticks\": \"\"}, \"baxis\": {\"gridcolor\": \"white\", \"linecolor\": \"white\", \"ticks\": \"\"}, \"bgcolor\": \"#E5ECF6\", \"caxis\": {\"gridcolor\": \"white\", \"linecolor\": \"white\", \"ticks\": \"\"}}, \"title\": {\"x\": 0.05}, \"xaxis\": {\"automargin\": true, \"gridcolor\": \"white\", \"linecolor\": \"white\", \"ticks\": \"\", \"title\": {\"standoff\": 15}, \"zerolinecolor\": \"white\", \"zerolinewidth\": 2}, \"yaxis\": {\"automargin\": true, \"gridcolor\": \"white\", \"linecolor\": \"white\", \"ticks\": \"\", \"title\": {\"standoff\": 15}, \"zerolinecolor\": \"white\", \"zerolinewidth\": 2}}}, \"width\": 800, \"xaxis\": {\"anchor\": \"y2\", \"domain\": [0.0, 1.0], \"zeroline\": false}, \"yaxis\": {\"anchor\": \"free\", \"domain\": [0.35, 1], \"position\": 0.0}, \"yaxis2\": {\"anchor\": \"x\", \"domain\": [0, 0.25], \"dtick\": 1, \"showticklabels\": false}},\n",
              "                        {\"responsive\": true}\n",
              "                    ).then(function(){\n",
              "                            \n",
              "var gd = document.getElementById('65412d89-d498-45af-9495-52227073c89b');\n",
              "var x = new MutationObserver(function (mutations, observer) {{\n",
              "        var display = window.getComputedStyle(gd).display;\n",
              "        if (!display || display === 'none') {{\n",
              "            console.log([gd, 'removed!']);\n",
              "            Plotly.purge(gd);\n",
              "            observer.disconnect();\n",
              "        }}\n",
              "}});\n",
              "\n",
              "// Listen for the removal of the full notebook cells\n",
              "var notebookContainer = gd.closest('#notebook-container');\n",
              "if (notebookContainer) {{\n",
              "    x.observe(notebookContainer, {childList: true});\n",
              "}}\n",
              "\n",
              "// Listen for the clearing of the current output cell\n",
              "var outputEl = gd.closest('.output');\n",
              "if (outputEl) {{\n",
              "    x.observe(outputEl, {childList: true});\n",
              "}}\n",
              "\n",
              "                        })\n",
              "                };\n",
              "                \n",
              "            </script>\n",
              "        </div>\n",
              "</body>\n",
              "</html>"
            ]
          },
          "metadata": {
            "tags": []
          }
        }
      ]
    },
    {
      "cell_type": "code",
      "metadata": {
        "id": "V9Jbhygrk4Nc",
        "colab_type": "code",
        "colab": {
          "base_uri": "https://localhost:8080/",
          "height": 542
        },
        "outputId": "3abf8cf4-c7b1-41de-8e85-c3a63b37e7d9"
      },
      "source": [
        "fig = px.box(data, y=data['MEDV'])\n",
        "fig.show()"
      ],
      "execution_count": 13,
      "outputs": [
        {
          "output_type": "display_data",
          "data": {
            "text/html": [
              "<html>\n",
              "<head><meta charset=\"utf-8\" /></head>\n",
              "<body>\n",
              "    <div>\n",
              "            <script src=\"https://cdnjs.cloudflare.com/ajax/libs/mathjax/2.7.5/MathJax.js?config=TeX-AMS-MML_SVG\"></script><script type=\"text/javascript\">if (window.MathJax) {MathJax.Hub.Config({SVG: {font: \"STIX-Web\"}});}</script>\n",
              "                <script type=\"text/javascript\">window.PlotlyConfig = {MathJaxConfig: 'local'};</script>\n",
              "        <script src=\"https://cdn.plot.ly/plotly-latest.min.js\"></script>    \n",
              "            <div id=\"4a56b30c-6af3-4c4e-90ab-6df296aec5bb\" class=\"plotly-graph-div\" style=\"height:525px; width:100%;\"></div>\n",
              "            <script type=\"text/javascript\">\n",
              "                \n",
              "                    window.PLOTLYENV=window.PLOTLYENV || {};\n",
              "                    \n",
              "                if (document.getElementById(\"4a56b30c-6af3-4c4e-90ab-6df296aec5bb\")) {\n",
              "                    Plotly.newPlot(\n",
              "                        '4a56b30c-6af3-4c4e-90ab-6df296aec5bb',\n",
              "                        [{\"alignmentgroup\": \"True\", \"hoverlabel\": {\"namelength\": 0}, \"hovertemplate\": \"MEDV=%{y}\", \"legendgroup\": \"\", \"marker\": {\"color\": \"#636efa\"}, \"name\": \"\", \"notched\": false, \"offsetgroup\": \"\", \"orientation\": \"v\", \"showlegend\": false, \"type\": \"box\", \"x0\": \" \", \"xaxis\": \"x\", \"y\": [24.0, 21.6, 34.7, 33.4, 36.2, 28.7, 22.9, 27.1, 16.5, 18.9, 15.0, 18.9, 21.7, 20.4, 18.2, 19.9, 23.1, 17.5, 20.2, 18.2, 13.6, 19.6, 15.2, 14.5, 15.6, 13.9, 16.6, 14.8, 18.4, 21.0, 12.7, 14.5, 13.2, 13.1, 13.5, 18.9, 20.0, 21.0, 24.7, 30.8, 34.9, 26.6, 25.3, 24.7, 21.2, 19.3, 20.0, 16.6, 14.4, 19.4, 19.7, 20.5, 25.0, 23.4, 18.9, 35.4, 24.7, 31.6, 23.3, 19.6, 18.7, 16.0, 22.2, 25.0, 33.0, 23.5, 19.4, 22.0, 17.4, 20.9, 24.2, 21.7, 22.8, 23.4, 24.1, 21.4, 20.0, 20.8, 21.2, 20.3, 28.0, 23.9, 24.8, 22.9, 23.9, 26.6, 22.5, 22.2, 23.6, 28.7, 22.6, 22.0, 22.9, 25.0, 20.6, 28.4, 21.4, 38.7, 43.8, 33.2, 27.5, 26.5, 18.6, 19.3, 20.1, 19.5, 19.5, 20.4, 19.8, 19.4, 21.7, 22.8, 18.8, 18.7, 18.5, 18.3, 21.2, 19.2, 20.4, 19.3, 22.0, 20.3, 20.5, 17.3, 18.8, 21.4, 15.7, 16.2, 18.0, 14.3, 19.2, 19.6, 23.0, 18.4, 15.6, 18.1, 17.4, 17.1, 13.3, 17.8, 14.0, 14.4, 13.4, 15.6, 11.8, 13.8, 15.6, 14.6, 17.8, 15.4, 21.5, 19.6, 15.3, 19.4, 17.0, 15.6, 13.1, 41.3, 24.3, 23.3, 27.0, 50.0, 50.0, 50.0, 22.7, 25.0, 50.0, 23.8, 23.8, 22.3, 17.4, 19.1, 23.1, 23.6, 22.6, 29.4, 23.2, 24.6, 29.9, 37.2, 39.8, 36.2, 37.9, 32.5, 26.4, 29.6, 50.0, 32.0, 29.8, 34.9, 37.0, 30.5, 36.4, 31.1, 29.1, 50.0, 33.3, 30.3, 34.6, 34.9, 32.9, 24.1, 42.3, 48.5, 50.0, 22.6, 24.4, 22.5, 24.4, 20.0, 21.7, 19.3, 22.4, 28.1, 23.7, 25.0, 23.3, 28.7, 21.5, 23.0, 26.7, 21.7, 27.5, 30.1, 44.8, 50.0, 37.6, 31.6, 46.7, 31.5, 24.3, 31.7, 41.7, 48.3, 29.0, 24.0, 25.1, 31.5, 23.7, 23.3, 22.0, 20.1, 22.2, 23.7, 17.6, 18.5, 24.3, 20.5, 24.5, 26.2, 24.4, 24.8, 29.6, 42.8, 21.9, 20.9, 44.0, 50.0, 36.0, 30.1, 33.8, 43.1, 48.8, 31.0, 36.5, 22.8, 30.7, 50.0, 43.5, 20.7, 21.1, 25.2, 24.4, 35.2, 32.4, 32.0, 33.2, 33.1, 29.1, 35.1, 45.4, 35.4, 46.0, 50.0, 32.2, 22.0, 20.1, 23.2, 22.3, 24.8, 28.5, 37.3, 27.9, 23.9, 21.7, 28.6, 27.1, 20.3, 22.5, 29.0, 24.8, 22.0, 26.4, 33.1, 36.1, 28.4, 33.4, 28.2, 22.8, 20.3, 16.1, 22.1, 19.4, 21.6, 23.8, 16.2, 17.8, 19.8, 23.1, 21.0, 23.8, 23.1, 20.4, 18.5, 25.0, 24.6, 23.0, 22.2, 19.3, 22.6, 19.8, 17.1, 19.4, 22.2, 20.7, 21.1, 19.5, 18.5, 20.6, 19.0, 18.7, 32.7, 16.5, 23.9, 31.2, 17.5, 17.2, 23.1, 24.5, 26.6, 22.9, 24.1, 18.6, 30.1, 18.2, 20.6, 17.8, 21.7, 22.7, 22.6, 25.0, 19.9, 20.8, 16.8, 21.9, 27.5, 21.9, 23.1, 50.0, 50.0, 50.0, 50.0, 50.0, 13.8, 13.8, 15.0, 13.9, 13.3, 13.1, 10.2, 10.4, 10.9, 11.3, 12.3, 8.8, 7.2, 10.5, 7.4, 10.2, 11.5, 15.1, 23.2, 9.7, 13.8, 12.7, 13.1, 12.5, 8.5, 5.0, 6.3, 5.6, 7.2, 12.1, 8.3, 8.5, 5.0, 11.9, 27.9, 17.2, 27.5, 15.0, 17.2, 17.9, 16.3, 7.0, 7.2, 7.5, 10.4, 8.8, 8.4, 16.7, 14.2, 20.8, 13.4, 11.7, 8.3, 10.2, 10.9, 11.0, 9.5, 14.5, 14.1, 16.1, 14.3, 11.7, 13.4, 9.6, 8.7, 8.4, 12.8, 10.5, 17.1, 18.4, 15.4, 10.8, 11.8, 14.9, 12.6, 14.1, 13.0, 13.4, 15.2, 16.1, 17.8, 14.9, 14.1, 12.7, 13.5, 14.9, 20.0, 16.4, 17.7, 19.5, 20.2, 21.4, 19.9, 19.0, 19.1, 19.1, 20.1, 19.9, 19.6, 23.2, 29.8, 13.8, 13.3, 16.7, 12.0, 14.6, 21.4, 23.0, 23.7, 25.0, 21.8, 20.6, 21.2, 19.1, 20.6, 15.2, 7.0, 8.1, 13.6, 20.1, 21.8, 24.5, 23.1, 19.7, 18.3, 21.2, 17.5, 16.8, 22.4, 20.6, 23.9, 22.0, 11.9], \"y0\": \" \", \"yaxis\": \"y\"}],\n",
              "                        {\"boxmode\": \"group\", \"legend\": {\"tracegroupgap\": 0}, \"margin\": {\"t\": 60}, \"template\": {\"data\": {\"bar\": [{\"error_x\": {\"color\": \"#2a3f5f\"}, \"error_y\": {\"color\": \"#2a3f5f\"}, \"marker\": {\"line\": {\"color\": \"#E5ECF6\", \"width\": 0.5}}, \"type\": \"bar\"}], \"barpolar\": [{\"marker\": {\"line\": {\"color\": \"#E5ECF6\", \"width\": 0.5}}, \"type\": \"barpolar\"}], \"carpet\": [{\"aaxis\": {\"endlinecolor\": \"#2a3f5f\", \"gridcolor\": \"white\", \"linecolor\": \"white\", \"minorgridcolor\": \"white\", \"startlinecolor\": \"#2a3f5f\"}, \"baxis\": {\"endlinecolor\": \"#2a3f5f\", \"gridcolor\": \"white\", \"linecolor\": \"white\", \"minorgridcolor\": \"white\", \"startlinecolor\": \"#2a3f5f\"}, \"type\": \"carpet\"}], \"choropleth\": [{\"colorbar\": {\"outlinewidth\": 0, \"ticks\": \"\"}, \"type\": \"choropleth\"}], \"contour\": [{\"colorbar\": {\"outlinewidth\": 0, \"ticks\": \"\"}, \"colorscale\": [[0.0, \"#0d0887\"], [0.1111111111111111, \"#46039f\"], [0.2222222222222222, \"#7201a8\"], [0.3333333333333333, \"#9c179e\"], [0.4444444444444444, \"#bd3786\"], [0.5555555555555556, \"#d8576b\"], [0.6666666666666666, \"#ed7953\"], [0.7777777777777778, \"#fb9f3a\"], [0.8888888888888888, \"#fdca26\"], [1.0, \"#f0f921\"]], \"type\": \"contour\"}], \"contourcarpet\": [{\"colorbar\": {\"outlinewidth\": 0, \"ticks\": \"\"}, \"type\": \"contourcarpet\"}], \"heatmap\": [{\"colorbar\": {\"outlinewidth\": 0, \"ticks\": \"\"}, \"colorscale\": [[0.0, \"#0d0887\"], [0.1111111111111111, \"#46039f\"], [0.2222222222222222, \"#7201a8\"], [0.3333333333333333, \"#9c179e\"], [0.4444444444444444, \"#bd3786\"], [0.5555555555555556, \"#d8576b\"], [0.6666666666666666, \"#ed7953\"], [0.7777777777777778, \"#fb9f3a\"], [0.8888888888888888, \"#fdca26\"], [1.0, \"#f0f921\"]], \"type\": \"heatmap\"}], \"heatmapgl\": [{\"colorbar\": {\"outlinewidth\": 0, \"ticks\": \"\"}, \"colorscale\": [[0.0, \"#0d0887\"], [0.1111111111111111, \"#46039f\"], [0.2222222222222222, \"#7201a8\"], [0.3333333333333333, \"#9c179e\"], [0.4444444444444444, \"#bd3786\"], [0.5555555555555556, \"#d8576b\"], [0.6666666666666666, \"#ed7953\"], [0.7777777777777778, \"#fb9f3a\"], [0.8888888888888888, \"#fdca26\"], [1.0, \"#f0f921\"]], \"type\": \"heatmapgl\"}], \"histogram\": [{\"marker\": {\"colorbar\": {\"outlinewidth\": 0, \"ticks\": \"\"}}, \"type\": \"histogram\"}], \"histogram2d\": [{\"colorbar\": {\"outlinewidth\": 0, \"ticks\": \"\"}, \"colorscale\": [[0.0, \"#0d0887\"], [0.1111111111111111, \"#46039f\"], [0.2222222222222222, \"#7201a8\"], [0.3333333333333333, \"#9c179e\"], [0.4444444444444444, \"#bd3786\"], [0.5555555555555556, \"#d8576b\"], [0.6666666666666666, \"#ed7953\"], [0.7777777777777778, \"#fb9f3a\"], [0.8888888888888888, \"#fdca26\"], [1.0, \"#f0f921\"]], \"type\": \"histogram2d\"}], \"histogram2dcontour\": [{\"colorbar\": {\"outlinewidth\": 0, \"ticks\": \"\"}, \"colorscale\": [[0.0, \"#0d0887\"], [0.1111111111111111, \"#46039f\"], [0.2222222222222222, \"#7201a8\"], [0.3333333333333333, \"#9c179e\"], [0.4444444444444444, \"#bd3786\"], [0.5555555555555556, \"#d8576b\"], [0.6666666666666666, \"#ed7953\"], [0.7777777777777778, \"#fb9f3a\"], [0.8888888888888888, \"#fdca26\"], [1.0, \"#f0f921\"]], \"type\": \"histogram2dcontour\"}], \"mesh3d\": [{\"colorbar\": {\"outlinewidth\": 0, \"ticks\": \"\"}, \"type\": \"mesh3d\"}], \"parcoords\": [{\"line\": {\"colorbar\": {\"outlinewidth\": 0, \"ticks\": \"\"}}, \"type\": \"parcoords\"}], \"pie\": [{\"automargin\": true, \"type\": \"pie\"}], \"scatter\": [{\"marker\": {\"colorbar\": {\"outlinewidth\": 0, \"ticks\": \"\"}}, \"type\": \"scatter\"}], \"scatter3d\": [{\"line\": {\"colorbar\": {\"outlinewidth\": 0, \"ticks\": \"\"}}, \"marker\": {\"colorbar\": {\"outlinewidth\": 0, \"ticks\": \"\"}}, \"type\": \"scatter3d\"}], \"scattercarpet\": [{\"marker\": {\"colorbar\": {\"outlinewidth\": 0, \"ticks\": \"\"}}, \"type\": \"scattercarpet\"}], \"scattergeo\": [{\"marker\": {\"colorbar\": {\"outlinewidth\": 0, \"ticks\": \"\"}}, \"type\": \"scattergeo\"}], \"scattergl\": [{\"marker\": {\"colorbar\": {\"outlinewidth\": 0, \"ticks\": \"\"}}, \"type\": \"scattergl\"}], \"scattermapbox\": [{\"marker\": {\"colorbar\": {\"outlinewidth\": 0, \"ticks\": \"\"}}, \"type\": \"scattermapbox\"}], \"scatterpolar\": [{\"marker\": {\"colorbar\": {\"outlinewidth\": 0, \"ticks\": \"\"}}, \"type\": \"scatterpolar\"}], \"scatterpolargl\": [{\"marker\": {\"colorbar\": {\"outlinewidth\": 0, \"ticks\": \"\"}}, \"type\": \"scatterpolargl\"}], \"scatterternary\": [{\"marker\": {\"colorbar\": {\"outlinewidth\": 0, \"ticks\": \"\"}}, \"type\": \"scatterternary\"}], \"surface\": [{\"colorbar\": {\"outlinewidth\": 0, \"ticks\": \"\"}, \"colorscale\": [[0.0, \"#0d0887\"], [0.1111111111111111, \"#46039f\"], [0.2222222222222222, \"#7201a8\"], [0.3333333333333333, \"#9c179e\"], [0.4444444444444444, \"#bd3786\"], [0.5555555555555556, \"#d8576b\"], [0.6666666666666666, \"#ed7953\"], [0.7777777777777778, \"#fb9f3a\"], [0.8888888888888888, \"#fdca26\"], [1.0, \"#f0f921\"]], \"type\": \"surface\"}], \"table\": [{\"cells\": {\"fill\": {\"color\": \"#EBF0F8\"}, \"line\": {\"color\": \"white\"}}, \"header\": {\"fill\": {\"color\": \"#C8D4E3\"}, \"line\": {\"color\": \"white\"}}, \"type\": \"table\"}]}, \"layout\": {\"annotationdefaults\": {\"arrowcolor\": \"#2a3f5f\", \"arrowhead\": 0, \"arrowwidth\": 1}, \"coloraxis\": {\"colorbar\": {\"outlinewidth\": 0, \"ticks\": \"\"}}, \"colorscale\": {\"diverging\": [[0, \"#8e0152\"], [0.1, \"#c51b7d\"], [0.2, \"#de77ae\"], [0.3, \"#f1b6da\"], [0.4, \"#fde0ef\"], [0.5, \"#f7f7f7\"], [0.6, \"#e6f5d0\"], [0.7, \"#b8e186\"], [0.8, \"#7fbc41\"], [0.9, \"#4d9221\"], [1, \"#276419\"]], \"sequential\": [[0.0, \"#0d0887\"], [0.1111111111111111, \"#46039f\"], [0.2222222222222222, \"#7201a8\"], [0.3333333333333333, \"#9c179e\"], [0.4444444444444444, \"#bd3786\"], [0.5555555555555556, \"#d8576b\"], [0.6666666666666666, \"#ed7953\"], [0.7777777777777778, \"#fb9f3a\"], [0.8888888888888888, \"#fdca26\"], [1.0, \"#f0f921\"]], \"sequentialminus\": [[0.0, \"#0d0887\"], [0.1111111111111111, \"#46039f\"], [0.2222222222222222, \"#7201a8\"], [0.3333333333333333, \"#9c179e\"], [0.4444444444444444, \"#bd3786\"], [0.5555555555555556, \"#d8576b\"], [0.6666666666666666, \"#ed7953\"], [0.7777777777777778, \"#fb9f3a\"], [0.8888888888888888, \"#fdca26\"], [1.0, \"#f0f921\"]]}, \"colorway\": [\"#636efa\", \"#EF553B\", \"#00cc96\", \"#ab63fa\", \"#FFA15A\", \"#19d3f3\", \"#FF6692\", \"#B6E880\", \"#FF97FF\", \"#FECB52\"], \"font\": {\"color\": \"#2a3f5f\"}, \"geo\": {\"bgcolor\": \"white\", \"lakecolor\": \"white\", \"landcolor\": \"#E5ECF6\", \"showlakes\": true, \"showland\": true, \"subunitcolor\": \"white\"}, \"hoverlabel\": {\"align\": \"left\"}, \"hovermode\": \"closest\", \"mapbox\": {\"style\": \"light\"}, \"paper_bgcolor\": \"white\", \"plot_bgcolor\": \"#E5ECF6\", \"polar\": {\"angularaxis\": {\"gridcolor\": \"white\", \"linecolor\": \"white\", \"ticks\": \"\"}, \"bgcolor\": \"#E5ECF6\", \"radialaxis\": {\"gridcolor\": \"white\", \"linecolor\": \"white\", \"ticks\": \"\"}}, \"scene\": {\"xaxis\": {\"backgroundcolor\": \"#E5ECF6\", \"gridcolor\": \"white\", \"gridwidth\": 2, \"linecolor\": \"white\", \"showbackground\": true, \"ticks\": \"\", \"zerolinecolor\": \"white\"}, \"yaxis\": {\"backgroundcolor\": \"#E5ECF6\", \"gridcolor\": \"white\", \"gridwidth\": 2, \"linecolor\": \"white\", \"showbackground\": true, \"ticks\": \"\", \"zerolinecolor\": \"white\"}, \"zaxis\": {\"backgroundcolor\": \"#E5ECF6\", \"gridcolor\": \"white\", \"gridwidth\": 2, \"linecolor\": \"white\", \"showbackground\": true, \"ticks\": \"\", \"zerolinecolor\": \"white\"}}, \"shapedefaults\": {\"line\": {\"color\": \"#2a3f5f\"}}, \"ternary\": {\"aaxis\": {\"gridcolor\": \"white\", \"linecolor\": \"white\", \"ticks\": \"\"}, \"baxis\": {\"gridcolor\": \"white\", \"linecolor\": \"white\", \"ticks\": \"\"}, \"bgcolor\": \"#E5ECF6\", \"caxis\": {\"gridcolor\": \"white\", \"linecolor\": \"white\", \"ticks\": \"\"}}, \"title\": {\"x\": 0.05}, \"xaxis\": {\"automargin\": true, \"gridcolor\": \"white\", \"linecolor\": \"white\", \"ticks\": \"\", \"title\": {\"standoff\": 15}, \"zerolinecolor\": \"white\", \"zerolinewidth\": 2}, \"yaxis\": {\"automargin\": true, \"gridcolor\": \"white\", \"linecolor\": \"white\", \"ticks\": \"\", \"title\": {\"standoff\": 15}, \"zerolinecolor\": \"white\", \"zerolinewidth\": 2}}}, \"xaxis\": {\"anchor\": \"y\", \"domain\": [0.0, 1.0]}, \"yaxis\": {\"anchor\": \"x\", \"domain\": [0.0, 1.0], \"title\": {\"text\": \"MEDV\"}}},\n",
              "                        {\"responsive\": true}\n",
              "                    ).then(function(){\n",
              "                            \n",
              "var gd = document.getElementById('4a56b30c-6af3-4c4e-90ab-6df296aec5bb');\n",
              "var x = new MutationObserver(function (mutations, observer) {{\n",
              "        var display = window.getComputedStyle(gd).display;\n",
              "        if (!display || display === 'none') {{\n",
              "            console.log([gd, 'removed!']);\n",
              "            Plotly.purge(gd);\n",
              "            observer.disconnect();\n",
              "        }}\n",
              "}});\n",
              "\n",
              "// Listen for the removal of the full notebook cells\n",
              "var notebookContainer = gd.closest('#notebook-container');\n",
              "if (notebookContainer) {{\n",
              "    x.observe(notebookContainer, {childList: true});\n",
              "}}\n",
              "\n",
              "// Listen for the clearing of the current output cell\n",
              "var outputEl = gd.closest('.output');\n",
              "if (outputEl) {{\n",
              "    x.observe(outputEl, {childList: true});\n",
              "}}\n",
              "\n",
              "                        })\n",
              "                };\n",
              "                \n",
              "            </script>\n",
              "        </div>\n",
              "</body>\n",
              "</html>"
            ]
          },
          "metadata": {
            "tags": []
          }
        }
      ]
    },
    {
      "cell_type": "markdown",
      "metadata": {
        "id": "RhQcC1CCk4Ni",
        "colab_type": "text"
      },
      "source": [
        "- Pode-se ver que tem alguns valores discrepantes em MEDV, incluindo o valor máximo que se destacou no final do histograma, tendo alguns casos;\n",
        "- Além disso o boxplot considera limite superior como 37."
      ]
    },
    {
      "cell_type": "code",
      "metadata": {
        "id": "JNljz_aVk4Nj",
        "colab_type": "code",
        "colab": {
          "base_uri": "https://localhost:8080/",
          "height": 51
        },
        "outputId": "12a28b3e-5e09-493f-a9ee-cd3dd656326d"
      },
      "source": [
        "max_values = []\n",
        "upper_fence_values = []\n",
        "for i, v in enumerate(data['MEDV']):\n",
        "    if v == 50:\n",
        "        max_values.append(i)\n",
        "    if v > 37:\n",
        "        upper_fence_values.append(i)\n",
        "# Número de imóveis cujo MEDV = 50, e cujo MEDV > 37\n",
        "print(len(max_values))\n",
        "print(len(upper_fence_values))"
      ],
      "execution_count": 14,
      "outputs": [
        {
          "output_type": "stream",
          "text": [
            "16\n",
            "37\n"
          ],
          "name": "stdout"
        }
      ]
    },
    {
      "cell_type": "markdown",
      "metadata": {
        "id": "QL2x1lYbk4Np",
        "colab_type": "text"
      },
      "source": [
        "Criando dois dataframes:\n",
        "- Em data_drop_max foram excluidos as linhas com valor MEDV = 50\n",
        "- Em data_drop_upperfence foram excluidos todas as linhas com valor MEDV > upper_fence"
      ]
    },
    {
      "cell_type": "code",
      "metadata": {
        "id": "H84BvyrAk4Nq",
        "colab_type": "code",
        "colab": {}
      },
      "source": [
        "data_drop_max = data.drop(max_values)\n",
        "data_drop_upperfence = data.drop(upper_fence_values)"
      ],
      "execution_count": 0,
      "outputs": []
    },
    {
      "cell_type": "markdown",
      "metadata": {
        "id": "4eUN9EYNk4Nv",
        "colab_type": "text"
      },
      "source": [
        "### Avaliando correlações\n",
        "Agora que já conhecemos nossa variável alvo e tratamos os valores discrepantes, iremos avaliar as correlações entre as variáveis do dataframe"
      ]
    },
    {
      "cell_type": "code",
      "metadata": {
        "id": "JH_QO1R7k4Nw",
        "colab_type": "code",
        "colab": {}
      },
      "source": [
        "corrDropMax = data_drop_max.corr()"
      ],
      "execution_count": 0,
      "outputs": []
    },
    {
      "cell_type": "code",
      "metadata": {
        "id": "0kXEOt_Vk4N1",
        "colab_type": "code",
        "colab": {}
      },
      "source": [
        "corrDropUpper = data_drop_upperfence.corr()"
      ],
      "execution_count": 0,
      "outputs": []
    },
    {
      "cell_type": "code",
      "metadata": {
        "id": "Wl_6RFIWk4N5",
        "colab_type": "code",
        "colab": {
          "base_uri": "https://localhost:8080/",
          "height": 499
        },
        "outputId": "517496f1-71af-4184-fec9-655fb5171aaf"
      },
      "source": [
        "plt.figure(figsize=(12,8))\n",
        "sns.heatmap(corrDropMax, annot=True)\n",
        "plt.title('Matriz de correlação de data_drop_max')\n",
        "plt.show()"
      ],
      "execution_count": 18,
      "outputs": [
        {
          "output_type": "display_data",
          "data": {
            "image/png": "[encoded data removed]",
            "text/plain": [
              "<Figure size 864x576 with 2 Axes>"
            ]
          },
          "metadata": {
            "tags": [],
            "needs_background": "light"
          }
        }
      ]
    },
    {
      "cell_type": "code",
      "metadata": {
        "id": "R5-1uPUok4N_",
        "colab_type": "code",
        "colab": {
          "base_uri": "https://localhost:8080/",
          "height": 542
        },
        "outputId": "598b2460-e9bf-4734-84be-f159ec8dc413"
      },
      "source": [
        "px.scatter(data_drop_max, x='MEDV', y='LSTAT')"
      ],
      "execution_count": 19,
      "outputs": [
        {
          "output_type": "display_data",
          "data": {
            "text/html": [
              "<html>\n",
              "<head><meta charset=\"utf-8\" /></head>\n",
              "<body>\n",
              "    <div>\n",
              "            <script src=\"https://cdnjs.cloudflare.com/ajax/libs/mathjax/2.7.5/MathJax.js?config=TeX-AMS-MML_SVG\"></script><script type=\"text/javascript\">if (window.MathJax) {MathJax.Hub.Config({SVG: {font: \"STIX-Web\"}});}</script>\n",
              "                <script type=\"text/javascript\">window.PlotlyConfig = {MathJaxConfig: 'local'};</script>\n",
              "        <script src=\"https://cdn.plot.ly/plotly-latest.min.js\"></script>    \n",
              "            <div id=\"bc889e6b-ac70-47b2-919d-4118d6b29531\" class=\"plotly-graph-div\" style=\"height:525px; width:100%;\"></div>\n",
              "            <script type=\"text/javascript\">\n",
              "                \n",
              "                    window.PLOTLYENV=window.PLOTLYENV || {};\n",
              "                    \n",
              "                if (document.getElementById(\"bc889e6b-ac70-47b2-919d-4118d6b29531\")) {\n",
              "                    Plotly.newPlot(\n",
              "                        'bc889e6b-ac70-47b2-919d-4118d6b29531',\n",
              "                        [{\"hoverlabel\": {\"namelength\": 0}, \"hovertemplate\": \"MEDV=%{x}<br>LSTAT=%{y}\", \"legendgroup\": \"\", \"marker\": {\"color\": \"#636efa\", \"symbol\": \"circle\"}, \"mode\": \"markers\", \"name\": \"\", \"showlegend\": false, \"type\": \"scatter\", \"x\": [24.0, 21.6, 34.7, 33.4, 36.2, 28.7, 22.9, 27.1, 16.5, 18.9, 15.0, 18.9, 21.7, 20.4, 18.2, 19.9, 23.1, 17.5, 20.2, 18.2, 13.6, 19.6, 15.2, 14.5, 15.6, 13.9, 16.6, 14.8, 18.4, 21.0, 12.7, 14.5, 13.2, 13.1, 13.5, 18.9, 20.0, 21.0, 24.7, 30.8, 34.9, 26.6, 25.3, 24.7, 21.2, 19.3, 20.0, 16.6, 14.4, 19.4, 19.7, 20.5, 25.0, 23.4, 18.9, 35.4, 24.7, 31.6, 23.3, 19.6, 18.7, 16.0, 22.2, 25.0, 33.0, 23.5, 19.4, 22.0, 17.4, 20.9, 24.2, 21.7, 22.8, 23.4, 24.1, 21.4, 20.0, 20.8, 21.2, 20.3, 28.0, 23.9, 24.8, 22.9, 23.9, 26.6, 22.5, 22.2, 23.6, 28.7, 22.6, 22.0, 22.9, 25.0, 20.6, 28.4, 21.4, 38.7, 43.8, 33.2, 27.5, 26.5, 18.6, 19.3, 20.1, 19.5, 19.5, 20.4, 19.8, 19.4, 21.7, 22.8, 18.8, 18.7, 18.5, 18.3, 21.2, 19.2, 20.4, 19.3, 22.0, 20.3, 20.5, 17.3, 18.8, 21.4, 15.7, 16.2, 18.0, 14.3, 19.2, 19.6, 23.0, 18.4, 15.6, 18.1, 17.4, 17.1, 13.3, 17.8, 14.0, 14.4, 13.4, 15.6, 11.8, 13.8, 15.6, 14.6, 17.8, 15.4, 21.5, 19.6, 15.3, 19.4, 17.0, 15.6, 13.1, 41.3, 24.3, 23.3, 27.0, 22.7, 25.0, 23.8, 23.8, 22.3, 17.4, 19.1, 23.1, 23.6, 22.6, 29.4, 23.2, 24.6, 29.9, 37.2, 39.8, 36.2, 37.9, 32.5, 26.4, 29.6, 32.0, 29.8, 34.9, 37.0, 30.5, 36.4, 31.1, 29.1, 33.3, 30.3, 34.6, 34.9, 32.9, 24.1, 42.3, 48.5, 22.6, 24.4, 22.5, 24.4, 20.0, 21.7, 19.3, 22.4, 28.1, 23.7, 25.0, 23.3, 28.7, 21.5, 23.0, 26.7, 21.7, 27.5, 30.1, 44.8, 37.6, 31.6, 46.7, 31.5, 24.3, 31.7, 41.7, 48.3, 29.0, 24.0, 25.1, 31.5, 23.7, 23.3, 22.0, 20.1, 22.2, 23.7, 17.6, 18.5, 24.3, 20.5, 24.5, 26.2, 24.4, 24.8, 29.6, 42.8, 21.9, 20.9, 44.0, 36.0, 30.1, 33.8, 43.1, 48.8, 31.0, 36.5, 22.8, 30.7, 43.5, 20.7, 21.1, 25.2, 24.4, 35.2, 32.4, 32.0, 33.2, 33.1, 29.1, 35.1, 45.4, 35.4, 46.0, 32.2, 22.0, 20.1, 23.2, 22.3, 24.8, 28.5, 37.3, 27.9, 23.9, 21.7, 28.6, 27.1, 20.3, 22.5, 29.0, 24.8, 22.0, 26.4, 33.1, 36.1, 28.4, 33.4, 28.2, 22.8, 20.3, 16.1, 22.1, 19.4, 21.6, 23.8, 16.2, 17.8, 19.8, 23.1, 21.0, 23.8, 23.1, 20.4, 18.5, 25.0, 24.6, 23.0, 22.2, 19.3, 22.6, 19.8, 17.1, 19.4, 22.2, 20.7, 21.1, 19.5, 18.5, 20.6, 19.0, 18.7, 32.7, 16.5, 23.9, 31.2, 17.5, 17.2, 23.1, 24.5, 26.6, 22.9, 24.1, 18.6, 30.1, 18.2, 20.6, 17.8, 21.7, 22.7, 22.6, 25.0, 19.9, 20.8, 16.8, 21.9, 27.5, 21.9, 23.1, 13.8, 13.8, 15.0, 13.9, 13.3, 13.1, 10.2, 10.4, 10.9, 11.3, 12.3, 8.8, 7.2, 10.5, 7.4, 10.2, 11.5, 15.1, 23.2, 9.7, 13.8, 12.7, 13.1, 12.5, 8.5, 5.0, 6.3, 5.6, 7.2, 12.1, 8.3, 8.5, 5.0, 11.9, 27.9, 17.2, 27.5, 15.0, 17.2, 17.9, 16.3, 7.0, 7.2, 7.5, 10.4, 8.8, 8.4, 16.7, 14.2, 20.8, 13.4, 11.7, 8.3, 10.2, 10.9, 11.0, 9.5, 14.5, 14.1, 16.1, 14.3, 11.7, 13.4, 9.6, 8.7, 8.4, 12.8, 10.5, 17.1, 18.4, 15.4, 10.8, 11.8, 14.9, 12.6, 14.1, 13.0, 13.4, 15.2, 16.1, 17.8, 14.9, 14.1, 12.7, 13.5, 14.9, 20.0, 16.4, 17.7, 19.5, 20.2, 21.4, 19.9, 19.0, 19.1, 19.1, 20.1, 19.9, 19.6, 23.2, 29.8, 13.8, 13.3, 16.7, 12.0, 14.6, 21.4, 23.0, 23.7, 25.0, 21.8, 20.6, 21.2, 19.1, 20.6, 15.2, 7.0, 8.1, 13.6, 20.1, 21.8, 24.5, 23.1, 19.7, 18.3, 21.2, 17.5, 16.8, 22.4, 20.6, 23.9, 22.0, 11.9], \"xaxis\": \"x\", \"y\": [4.98, 9.14, 4.03, 2.94, 5.33, 5.21, 12.43, 19.15, 29.93, 17.1, 20.45, 13.27, 15.71, 8.26, 10.26, 8.47, 6.58, 14.67, 11.69, 11.28, 21.02, 13.83, 18.72, 19.88, 16.3, 16.51, 14.81, 17.28, 12.8, 11.98, 22.6, 13.04, 27.71, 18.35, 20.34, 9.68, 11.41, 8.77, 10.13, 4.32, 1.98, 4.84, 5.81, 7.44, 9.55, 10.21, 14.15, 18.8, 30.81, 16.2, 13.45, 9.43, 5.28, 8.43, 14.8, 4.81, 5.77, 3.95, 6.86, 9.22, 13.15, 14.44, 6.73, 9.5, 8.05, 4.67, 10.24, 8.1, 13.09, 8.79, 6.72, 9.88, 5.52, 7.54, 6.78, 8.94, 11.97, 10.27, 12.34, 9.1, 5.29, 7.22, 6.72, 7.51, 9.62, 6.53, 12.86, 8.44, 5.5, 5.7, 8.81, 8.2, 8.16, 6.21, 10.59, 6.65, 11.34, 4.21, 3.57, 6.19, 9.42, 7.67, 10.63, 13.44, 12.33, 16.47, 18.66, 14.09, 12.27, 15.55, 13.0, 10.16, 16.21, 17.09, 10.45, 15.76, 12.04, 10.3, 15.37, 13.61, 14.37, 14.27, 17.93, 25.41, 17.58, 14.81, 27.26, 17.19, 15.39, 18.34, 12.6, 12.26, 11.12, 15.03, 17.31, 16.96, 16.9, 14.59, 21.32, 18.46, 24.16, 34.41, 26.82, 26.42, 29.29, 27.8, 16.65, 29.53, 28.32, 21.45, 14.1, 13.28, 12.12, 15.79, 15.12, 15.02, 16.14, 4.59, 6.43, 7.39, 5.5, 11.64, 9.81, 12.14, 11.1, 11.32, 14.43, 12.03, 14.69, 9.04, 9.64, 5.33, 10.11, 6.29, 6.92, 5.04, 7.56, 9.45, 4.82, 5.68, 13.98, 13.15, 6.68, 4.56, 5.39, 5.1, 4.69, 2.87, 5.03, 4.38, 4.08, 8.61, 6.62, 4.56, 4.45, 7.43, 3.11, 3.81, 10.87, 10.97, 18.06, 14.66, 23.09, 17.27, 23.98, 16.03, 9.38, 29.55, 9.47, 13.51, 9.69, 17.92, 10.5, 9.71, 21.46, 9.93, 7.6, 4.14, 3.13, 6.36, 3.92, 3.76, 11.65, 5.25, 2.47, 3.95, 8.05, 10.88, 9.54, 4.73, 6.36, 7.37, 11.38, 12.4, 11.22, 5.19, 12.5, 18.46, 9.16, 10.15, 9.52, 6.56, 5.9, 3.59, 3.53, 3.54, 6.57, 9.25, 3.11, 7.79, 6.9, 9.59, 7.26, 5.91, 11.25, 8.1, 10.45, 14.79, 3.16, 13.65, 13.0, 6.59, 7.73, 6.58, 3.53, 2.98, 6.05, 4.16, 7.19, 4.85, 3.76, 4.59, 3.01, 7.85, 8.23, 12.93, 7.14, 7.6, 9.51, 3.33, 3.56, 4.7, 8.58, 10.4, 6.27, 7.39, 15.84, 4.97, 4.74, 6.07, 9.5, 8.67, 4.86, 6.93, 8.93, 6.47, 7.53, 4.54, 9.97, 12.64, 5.98, 11.72, 7.9, 9.28, 11.5, 18.33, 15.94, 10.36, 12.73, 7.2, 6.87, 7.7, 11.74, 6.12, 5.08, 6.15, 12.79, 9.97, 7.34, 9.09, 12.43, 7.83, 5.68, 6.75, 8.01, 9.8, 10.56, 8.51, 9.74, 9.29, 5.49, 8.65, 7.18, 4.61, 10.53, 12.67, 6.36, 5.99, 5.89, 5.98, 5.49, 7.79, 4.5, 8.05, 5.57, 17.6, 13.27, 11.48, 12.67, 7.79, 14.19, 10.19, 14.64, 5.29, 7.12, 14.0, 13.33, 34.77, 37.97, 13.44, 23.24, 21.24, 23.69, 21.78, 17.21, 21.08, 23.6, 24.56, 30.63, 30.81, 28.28, 31.99, 30.62, 20.85, 17.11, 18.76, 25.68, 15.17, 16.35, 17.12, 19.37, 19.92, 30.59, 29.97, 26.77, 20.32, 20.31, 19.77, 27.38, 22.98, 23.34, 12.13, 26.4, 19.78, 10.11, 21.22, 34.37, 20.08, 36.98, 29.05, 25.79, 26.64, 20.62, 22.74, 15.02, 15.7, 14.1, 23.29, 17.16, 24.39, 15.69, 14.52, 21.52, 24.08, 17.64, 19.69, 12.03, 16.22, 15.17, 23.27, 18.05, 26.45, 34.02, 22.88, 22.11, 19.52, 16.59, 18.85, 23.79, 23.98, 17.79, 16.44, 18.13, 19.31, 17.44, 17.73, 17.27, 16.74, 18.71, 18.13, 19.01, 16.94, 16.23, 14.7, 16.42, 14.65, 13.99, 10.29, 13.22, 14.13, 17.15, 21.32, 18.13, 14.76, 16.29, 12.87, 14.36, 11.66, 18.14, 24.1, 18.68, 24.91, 18.03, 13.11, 10.74, 7.74, 7.01, 10.42, 13.34, 10.58, 14.98, 11.45, 18.06, 23.97, 29.68, 18.07, 13.35, 12.01, 13.59, 17.6, 21.14, 14.1, 12.92, 15.1, 14.33, 9.67, 9.08, 5.64, 6.48, 7.88], \"yaxis\": \"y\"}],\n",
              "                        {\"legend\": {\"tracegroupgap\": 0}, \"margin\": {\"t\": 60}, \"template\": {\"data\": {\"bar\": [{\"error_x\": {\"color\": \"#2a3f5f\"}, \"error_y\": {\"color\": \"#2a3f5f\"}, \"marker\": {\"line\": {\"color\": \"#E5ECF6\", \"width\": 0.5}}, \"type\": \"bar\"}], \"barpolar\": [{\"marker\": {\"line\": {\"color\": \"#E5ECF6\", \"width\": 0.5}}, \"type\": \"barpolar\"}], \"carpet\": [{\"aaxis\": {\"endlinecolor\": \"#2a3f5f\", \"gridcolor\": \"white\", \"linecolor\": \"white\", \"minorgridcolor\": \"white\", \"startlinecolor\": \"#2a3f5f\"}, \"baxis\": {\"endlinecolor\": \"#2a3f5f\", \"gridcolor\": \"white\", \"linecolor\": \"white\", \"minorgridcolor\": \"white\", \"startlinecolor\": \"#2a3f5f\"}, \"type\": \"carpet\"}], \"choropleth\": [{\"colorbar\": {\"outlinewidth\": 0, \"ticks\": \"\"}, \"type\": \"choropleth\"}], \"contour\": [{\"colorbar\": {\"outlinewidth\": 0, \"ticks\": \"\"}, \"colorscale\": [[0.0, \"#0d0887\"], [0.1111111111111111, \"#46039f\"], [0.2222222222222222, \"#7201a8\"], [0.3333333333333333, \"#9c179e\"], [0.4444444444444444, \"#bd3786\"], [0.5555555555555556, \"#d8576b\"], [0.6666666666666666, \"#ed7953\"], [0.7777777777777778, \"#fb9f3a\"], [0.8888888888888888, \"#fdca26\"], [1.0, \"#f0f921\"]], \"type\": \"contour\"}], \"contourcarpet\": [{\"colorbar\": {\"outlinewidth\": 0, \"ticks\": \"\"}, \"type\": \"contourcarpet\"}], \"heatmap\": [{\"colorbar\": {\"outlinewidth\": 0, \"ticks\": \"\"}, \"colorscale\": [[0.0, \"#0d0887\"], [0.1111111111111111, \"#46039f\"], [0.2222222222222222, \"#7201a8\"], [0.3333333333333333, \"#9c179e\"], [0.4444444444444444, \"#bd3786\"], [0.5555555555555556, \"#d8576b\"], [0.6666666666666666, \"#ed7953\"], [0.7777777777777778, \"#fb9f3a\"], [0.8888888888888888, \"#fdca26\"], [1.0, \"#f0f921\"]], \"type\": \"heatmap\"}], \"heatmapgl\": [{\"colorbar\": {\"outlinewidth\": 0, \"ticks\": \"\"}, \"colorscale\": [[0.0, \"#0d0887\"], [0.1111111111111111, \"#46039f\"], [0.2222222222222222, \"#7201a8\"], [0.3333333333333333, \"#9c179e\"], [0.4444444444444444, \"#bd3786\"], [0.5555555555555556, \"#d8576b\"], [0.6666666666666666, \"#ed7953\"], [0.7777777777777778, \"#fb9f3a\"], [0.8888888888888888, \"#fdca26\"], [1.0, \"#f0f921\"]], \"type\": \"heatmapgl\"}], \"histogram\": [{\"marker\": {\"colorbar\": {\"outlinewidth\": 0, \"ticks\": \"\"}}, \"type\": \"histogram\"}], \"histogram2d\": [{\"colorbar\": {\"outlinewidth\": 0, \"ticks\": \"\"}, \"colorscale\": [[0.0, \"#0d0887\"], [0.1111111111111111, \"#46039f\"], [0.2222222222222222, \"#7201a8\"], [0.3333333333333333, \"#9c179e\"], [0.4444444444444444, \"#bd3786\"], [0.5555555555555556, \"#d8576b\"], [0.6666666666666666, \"#ed7953\"], [0.7777777777777778, \"#fb9f3a\"], [0.8888888888888888, \"#fdca26\"], [1.0, \"#f0f921\"]], \"type\": \"histogram2d\"}], \"histogram2dcontour\": [{\"colorbar\": {\"outlinewidth\": 0, \"ticks\": \"\"}, \"colorscale\": [[0.0, \"#0d0887\"], [0.1111111111111111, \"#46039f\"], [0.2222222222222222, \"#7201a8\"], [0.3333333333333333, \"#9c179e\"], [0.4444444444444444, \"#bd3786\"], [0.5555555555555556, \"#d8576b\"], [0.6666666666666666, \"#ed7953\"], [0.7777777777777778, \"#fb9f3a\"], [0.8888888888888888, \"#fdca26\"], [1.0, \"#f0f921\"]], \"type\": \"histogram2dcontour\"}], \"mesh3d\": [{\"colorbar\": {\"outlinewidth\": 0, \"ticks\": \"\"}, \"type\": \"mesh3d\"}], \"parcoords\": [{\"line\": {\"colorbar\": {\"outlinewidth\": 0, \"ticks\": \"\"}}, \"type\": \"parcoords\"}], \"pie\": [{\"automargin\": true, \"type\": \"pie\"}], \"scatter\": [{\"marker\": {\"colorbar\": {\"outlinewidth\": 0, \"ticks\": \"\"}}, \"type\": \"scatter\"}], \"scatter3d\": [{\"line\": {\"colorbar\": {\"outlinewidth\": 0, \"ticks\": \"\"}}, \"marker\": {\"colorbar\": {\"outlinewidth\": 0, \"ticks\": \"\"}}, \"type\": \"scatter3d\"}], \"scattercarpet\": [{\"marker\": {\"colorbar\": {\"outlinewidth\": 0, \"ticks\": \"\"}}, \"type\": \"scattercarpet\"}], \"scattergeo\": [{\"marker\": {\"colorbar\": {\"outlinewidth\": 0, \"ticks\": \"\"}}, \"type\": \"scattergeo\"}], \"scattergl\": [{\"marker\": {\"colorbar\": {\"outlinewidth\": 0, \"ticks\": \"\"}}, \"type\": \"scattergl\"}], \"scattermapbox\": [{\"marker\": {\"colorbar\": {\"outlinewidth\": 0, \"ticks\": \"\"}}, \"type\": \"scattermapbox\"}], \"scatterpolar\": [{\"marker\": {\"colorbar\": {\"outlinewidth\": 0, \"ticks\": \"\"}}, \"type\": \"scatterpolar\"}], \"scatterpolargl\": [{\"marker\": {\"colorbar\": {\"outlinewidth\": 0, \"ticks\": \"\"}}, \"type\": \"scatterpolargl\"}], \"scatterternary\": [{\"marker\": {\"colorbar\": {\"outlinewidth\": 0, \"ticks\": \"\"}}, \"type\": \"scatterternary\"}], \"surface\": [{\"colorbar\": {\"outlinewidth\": 0, \"ticks\": \"\"}, \"colorscale\": [[0.0, \"#0d0887\"], [0.1111111111111111, \"#46039f\"], [0.2222222222222222, \"#7201a8\"], [0.3333333333333333, \"#9c179e\"], [0.4444444444444444, \"#bd3786\"], [0.5555555555555556, \"#d8576b\"], [0.6666666666666666, \"#ed7953\"], [0.7777777777777778, \"#fb9f3a\"], [0.8888888888888888, \"#fdca26\"], [1.0, \"#f0f921\"]], \"type\": \"surface\"}], \"table\": [{\"cells\": {\"fill\": {\"color\": \"#EBF0F8\"}, \"line\": {\"color\": \"white\"}}, \"header\": {\"fill\": {\"color\": \"#C8D4E3\"}, \"line\": {\"color\": \"white\"}}, \"type\": \"table\"}]}, \"layout\": {\"annotationdefaults\": {\"arrowcolor\": \"#2a3f5f\", \"arrowhead\": 0, \"arrowwidth\": 1}, \"coloraxis\": {\"colorbar\": {\"outlinewidth\": 0, \"ticks\": \"\"}}, \"colorscale\": {\"diverging\": [[0, \"#8e0152\"], [0.1, \"#c51b7d\"], [0.2, \"#de77ae\"], [0.3, \"#f1b6da\"], [0.4, \"#fde0ef\"], [0.5, \"#f7f7f7\"], [0.6, \"#e6f5d0\"], [0.7, \"#b8e186\"], [0.8, \"#7fbc41\"], [0.9, \"#4d9221\"], [1, \"#276419\"]], \"sequential\": [[0.0, \"#0d0887\"], [0.1111111111111111, \"#46039f\"], [0.2222222222222222, \"#7201a8\"], [0.3333333333333333, \"#9c179e\"], [0.4444444444444444, \"#bd3786\"], [0.5555555555555556, \"#d8576b\"], [0.6666666666666666, \"#ed7953\"], [0.7777777777777778, \"#fb9f3a\"], [0.8888888888888888, \"#fdca26\"], [1.0, \"#f0f921\"]], \"sequentialminus\": [[0.0, \"#0d0887\"], [0.1111111111111111, \"#46039f\"], [0.2222222222222222, \"#7201a8\"], [0.3333333333333333, \"#9c179e\"], [0.4444444444444444, \"#bd3786\"], [0.5555555555555556, \"#d8576b\"], [0.6666666666666666, \"#ed7953\"], [0.7777777777777778, \"#fb9f3a\"], [0.8888888888888888, \"#fdca26\"], [1.0, \"#f0f921\"]]}, \"colorway\": [\"#636efa\", \"#EF553B\", \"#00cc96\", \"#ab63fa\", \"#FFA15A\", \"#19d3f3\", \"#FF6692\", \"#B6E880\", \"#FF97FF\", \"#FECB52\"], \"font\": {\"color\": \"#2a3f5f\"}, \"geo\": {\"bgcolor\": \"white\", \"lakecolor\": \"white\", \"landcolor\": \"#E5ECF6\", \"showlakes\": true, \"showland\": true, \"subunitcolor\": \"white\"}, \"hoverlabel\": {\"align\": \"left\"}, \"hovermode\": \"closest\", \"mapbox\": {\"style\": \"light\"}, \"paper_bgcolor\": \"white\", \"plot_bgcolor\": \"#E5ECF6\", \"polar\": {\"angularaxis\": {\"gridcolor\": \"white\", \"linecolor\": \"white\", \"ticks\": \"\"}, \"bgcolor\": \"#E5ECF6\", \"radialaxis\": {\"gridcolor\": \"white\", \"linecolor\": \"white\", \"ticks\": \"\"}}, \"scene\": {\"xaxis\": {\"backgroundcolor\": \"#E5ECF6\", \"gridcolor\": \"white\", \"gridwidth\": 2, \"linecolor\": \"white\", \"showbackground\": true, \"ticks\": \"\", \"zerolinecolor\": \"white\"}, \"yaxis\": {\"backgroundcolor\": \"#E5ECF6\", \"gridcolor\": \"white\", \"gridwidth\": 2, \"linecolor\": \"white\", \"showbackground\": true, \"ticks\": \"\", \"zerolinecolor\": \"white\"}, \"zaxis\": {\"backgroundcolor\": \"#E5ECF6\", \"gridcolor\": \"white\", \"gridwidth\": 2, \"linecolor\": \"white\", \"showbackground\": true, \"ticks\": \"\", \"zerolinecolor\": \"white\"}}, \"shapedefaults\": {\"line\": {\"color\": \"#2a3f5f\"}}, \"ternary\": {\"aaxis\": {\"gridcolor\": \"white\", \"linecolor\": \"white\", \"ticks\": \"\"}, \"baxis\": {\"gridcolor\": \"white\", \"linecolor\": \"white\", \"ticks\": \"\"}, \"bgcolor\": \"#E5ECF6\", \"caxis\": {\"gridcolor\": \"white\", \"linecolor\": \"white\", \"ticks\": \"\"}}, \"title\": {\"x\": 0.05}, \"xaxis\": {\"automargin\": true, \"gridcolor\": \"white\", \"linecolor\": \"white\", \"ticks\": \"\", \"title\": {\"standoff\": 15}, \"zerolinecolor\": \"white\", \"zerolinewidth\": 2}, \"yaxis\": {\"automargin\": true, \"gridcolor\": \"white\", \"linecolor\": \"white\", \"ticks\": \"\", \"title\": {\"standoff\": 15}, \"zerolinecolor\": \"white\", \"zerolinewidth\": 2}}}, \"xaxis\": {\"anchor\": \"y\", \"domain\": [0.0, 1.0], \"title\": {\"text\": \"MEDV\"}}, \"yaxis\": {\"anchor\": \"x\", \"domain\": [0.0, 1.0], \"title\": {\"text\": \"LSTAT\"}}},\n",
              "                        {\"responsive\": true}\n",
              "                    ).then(function(){\n",
              "                            \n",
              "var gd = document.getElementById('bc889e6b-ac70-47b2-919d-4118d6b29531');\n",
              "var x = new MutationObserver(function (mutations, observer) {{\n",
              "        var display = window.getComputedStyle(gd).display;\n",
              "        if (!display || display === 'none') {{\n",
              "            console.log([gd, 'removed!']);\n",
              "            Plotly.purge(gd);\n",
              "            observer.disconnect();\n",
              "        }}\n",
              "}});\n",
              "\n",
              "// Listen for the removal of the full notebook cells\n",
              "var notebookContainer = gd.closest('#notebook-container');\n",
              "if (notebookContainer) {{\n",
              "    x.observe(notebookContainer, {childList: true});\n",
              "}}\n",
              "\n",
              "// Listen for the clearing of the current output cell\n",
              "var outputEl = gd.closest('.output');\n",
              "if (outputEl) {{\n",
              "    x.observe(outputEl, {childList: true});\n",
              "}}\n",
              "\n",
              "                        })\n",
              "                };\n",
              "                \n",
              "            </script>\n",
              "        </div>\n",
              "</body>\n",
              "</html>"
            ]
          },
          "metadata": {
            "tags": []
          }
        }
      ]
    },
    {
      "cell_type": "code",
      "metadata": {
        "id": "d5YOQZARk4OC",
        "colab_type": "code",
        "colab": {
          "base_uri": "https://localhost:8080/",
          "height": 542
        },
        "outputId": "3be5788e-caf8-4d76-c182-e0dc530e3798"
      },
      "source": [
        "px.scatter(data_drop_max, x='MEDV', y='RM')"
      ],
      "execution_count": 20,
      "outputs": [
        {
          "output_type": "display_data",
          "data": {
            "text/html": [
              "<html>\n",
              "<head><meta charset=\"utf-8\" /></head>\n",
              "<body>\n",
              "    <div>\n",
              "            <script src=\"https://cdnjs.cloudflare.com/ajax/libs/mathjax/2.7.5/MathJax.js?config=TeX-AMS-MML_SVG\"></script><script type=\"text/javascript\">if (window.MathJax) {MathJax.Hub.Config({SVG: {font: \"STIX-Web\"}});}</script>\n",
              "                <script type=\"text/javascript\">window.PlotlyConfig = {MathJaxConfig: 'local'};</script>\n",
              "        <script src=\"https://cdn.plot.ly/plotly-latest.min.js\"></script>    \n",
              "            <div id=\"7d5fd883-fd04-4e5f-8588-890a8d6e0f6a\" class=\"plotly-graph-div\" style=\"height:525px; width:100%;\"></div>\n",
              "            <script type=\"text/javascript\">\n",
              "                \n",
              "                    window.PLOTLYENV=window.PLOTLYENV || {};\n",
              "                    \n",
              "                if (document.getElementById(\"7d5fd883-fd04-4e5f-8588-890a8d6e0f6a\")) {\n",
              "                    Plotly.newPlot(\n",
              "                        '7d5fd883-fd04-4e5f-8588-890a8d6e0f6a',\n",
              "                        [{\"hoverlabel\": {\"namelength\": 0}, \"hovertemplate\": \"MEDV=%{x}<br>RM=%{y}\", \"legendgroup\": \"\", \"marker\": {\"color\": \"#636efa\", \"symbol\": \"circle\"}, \"mode\": \"markers\", \"name\": \"\", \"showlegend\": false, \"type\": \"scatter\", \"x\": [24.0, 21.6, 34.7, 33.4, 36.2, 28.7, 22.9, 27.1, 16.5, 18.9, 15.0, 18.9, 21.7, 20.4, 18.2, 19.9, 23.1, 17.5, 20.2, 18.2, 13.6, 19.6, 15.2, 14.5, 15.6, 13.9, 16.6, 14.8, 18.4, 21.0, 12.7, 14.5, 13.2, 13.1, 13.5, 18.9, 20.0, 21.0, 24.7, 30.8, 34.9, 26.6, 25.3, 24.7, 21.2, 19.3, 20.0, 16.6, 14.4, 19.4, 19.7, 20.5, 25.0, 23.4, 18.9, 35.4, 24.7, 31.6, 23.3, 19.6, 18.7, 16.0, 22.2, 25.0, 33.0, 23.5, 19.4, 22.0, 17.4, 20.9, 24.2, 21.7, 22.8, 23.4, 24.1, 21.4, 20.0, 20.8, 21.2, 20.3, 28.0, 23.9, 24.8, 22.9, 23.9, 26.6, 22.5, 22.2, 23.6, 28.7, 22.6, 22.0, 22.9, 25.0, 20.6, 28.4, 21.4, 38.7, 43.8, 33.2, 27.5, 26.5, 18.6, 19.3, 20.1, 19.5, 19.5, 20.4, 19.8, 19.4, 21.7, 22.8, 18.8, 18.7, 18.5, 18.3, 21.2, 19.2, 20.4, 19.3, 22.0, 20.3, 20.5, 17.3, 18.8, 21.4, 15.7, 16.2, 18.0, 14.3, 19.2, 19.6, 23.0, 18.4, 15.6, 18.1, 17.4, 17.1, 13.3, 17.8, 14.0, 14.4, 13.4, 15.6, 11.8, 13.8, 15.6, 14.6, 17.8, 15.4, 21.5, 19.6, 15.3, 19.4, 17.0, 15.6, 13.1, 41.3, 24.3, 23.3, 27.0, 22.7, 25.0, 23.8, 23.8, 22.3, 17.4, 19.1, 23.1, 23.6, 22.6, 29.4, 23.2, 24.6, 29.9, 37.2, 39.8, 36.2, 37.9, 32.5, 26.4, 29.6, 32.0, 29.8, 34.9, 37.0, 30.5, 36.4, 31.1, 29.1, 33.3, 30.3, 34.6, 34.9, 32.9, 24.1, 42.3, 48.5, 22.6, 24.4, 22.5, 24.4, 20.0, 21.7, 19.3, 22.4, 28.1, 23.7, 25.0, 23.3, 28.7, 21.5, 23.0, 26.7, 21.7, 27.5, 30.1, 44.8, 37.6, 31.6, 46.7, 31.5, 24.3, 31.7, 41.7, 48.3, 29.0, 24.0, 25.1, 31.5, 23.7, 23.3, 22.0, 20.1, 22.2, 23.7, 17.6, 18.5, 24.3, 20.5, 24.5, 26.2, 24.4, 24.8, 29.6, 42.8, 21.9, 20.9, 44.0, 36.0, 30.1, 33.8, 43.1, 48.8, 31.0, 36.5, 22.8, 30.7, 43.5, 20.7, 21.1, 25.2, 24.4, 35.2, 32.4, 32.0, 33.2, 33.1, 29.1, 35.1, 45.4, 35.4, 46.0, 32.2, 22.0, 20.1, 23.2, 22.3, 24.8, 28.5, 37.3, 27.9, 23.9, 21.7, 28.6, 27.1, 20.3, 22.5, 29.0, 24.8, 22.0, 26.4, 33.1, 36.1, 28.4, 33.4, 28.2, 22.8, 20.3, 16.1, 22.1, 19.4, 21.6, 23.8, 16.2, 17.8, 19.8, 23.1, 21.0, 23.8, 23.1, 20.4, 18.5, 25.0, 24.6, 23.0, 22.2, 19.3, 22.6, 19.8, 17.1, 19.4, 22.2, 20.7, 21.1, 19.5, 18.5, 20.6, 19.0, 18.7, 32.7, 16.5, 23.9, 31.2, 17.5, 17.2, 23.1, 24.5, 26.6, 22.9, 24.1, 18.6, 30.1, 18.2, 20.6, 17.8, 21.7, 22.7, 22.6, 25.0, 19.9, 20.8, 16.8, 21.9, 27.5, 21.9, 23.1, 13.8, 13.8, 15.0, 13.9, 13.3, 13.1, 10.2, 10.4, 10.9, 11.3, 12.3, 8.8, 7.2, 10.5, 7.4, 10.2, 11.5, 15.1, 23.2, 9.7, 13.8, 12.7, 13.1, 12.5, 8.5, 5.0, 6.3, 5.6, 7.2, 12.1, 8.3, 8.5, 5.0, 11.9, 27.9, 17.2, 27.5, 15.0, 17.2, 17.9, 16.3, 7.0, 7.2, 7.5, 10.4, 8.8, 8.4, 16.7, 14.2, 20.8, 13.4, 11.7, 8.3, 10.2, 10.9, 11.0, 9.5, 14.5, 14.1, 16.1, 14.3, 11.7, 13.4, 9.6, 8.7, 8.4, 12.8, 10.5, 17.1, 18.4, 15.4, 10.8, 11.8, 14.9, 12.6, 14.1, 13.0, 13.4, 15.2, 16.1, 17.8, 14.9, 14.1, 12.7, 13.5, 14.9, 20.0, 16.4, 17.7, 19.5, 20.2, 21.4, 19.9, 19.0, 19.1, 19.1, 20.1, 19.9, 19.6, 23.2, 29.8, 13.8, 13.3, 16.7, 12.0, 14.6, 21.4, 23.0, 23.7, 25.0, 21.8, 20.6, 21.2, 19.1, 20.6, 15.2, 7.0, 8.1, 13.6, 20.1, 21.8, 24.5, 23.1, 19.7, 18.3, 21.2, 17.5, 16.8, 22.4, 20.6, 23.9, 22.0, 11.9], \"xaxis\": \"x\", \"y\": [6.575, 6.421, 7.185, 6.998, 7.147, 6.43, 6.012, 6.172, 5.631, 6.004, 6.377, 6.009, 5.889, 5.949, 6.096, 5.834, 5.935, 5.99, 5.456, 5.727, 5.57, 5.965, 6.142, 5.813, 5.924, 5.599, 5.813, 6.047, 6.495, 6.674, 5.713, 6.072, 5.95, 5.701, 6.096, 5.933, 5.841, 5.85, 5.966, 6.595, 7.024, 6.77, 6.169, 6.211, 6.069, 5.682, 5.786, 6.03, 5.399, 5.602, 5.963, 6.115, 6.511, 5.998, 5.888, 7.249, 6.383, 6.816, 6.145, 5.927, 5.741, 5.966, 6.456, 6.762, 7.104, 6.29, 5.787, 5.878, 5.594, 5.885, 6.417, 5.961, 6.065, 6.245, 6.273, 6.286, 6.279, 6.14, 6.232, 5.874, 6.727, 6.619, 6.302, 6.167, 6.389, 6.63, 6.015, 6.121, 7.007, 7.079, 6.417, 6.405, 6.442, 6.211, 6.249, 6.625, 6.163, 8.069, 7.82, 7.416, 6.727, 6.781, 6.405, 6.137, 6.167, 5.851, 5.836, 6.127, 6.474, 6.229, 6.195, 6.715, 5.913, 6.092, 6.254, 5.928, 6.176, 6.021, 5.872, 5.731, 5.87, 6.004, 5.961, 5.856, 5.879, 5.986, 5.613, 5.693, 6.431, 5.637, 6.458, 6.326, 6.372, 5.822, 5.757, 6.335, 5.942, 6.454, 5.857, 6.151, 6.174, 5.019, 5.403, 5.468, 4.903, 6.13, 5.628, 4.926, 5.186, 5.597, 6.122, 5.404, 5.012, 5.709, 6.129, 6.152, 5.272, 6.943, 6.066, 6.51, 6.25, 5.854, 6.101, 5.877, 6.319, 6.402, 5.875, 5.88, 5.572, 6.416, 5.859, 6.546, 6.02, 6.315, 6.86, 6.98, 7.765, 6.144, 7.155, 6.563, 5.604, 6.153, 6.782, 6.556, 7.185, 6.951, 6.739, 7.178, 6.8, 6.604, 7.287, 7.107, 7.274, 6.975, 7.135, 6.162, 7.61, 7.853, 5.891, 6.326, 5.783, 6.064, 5.344, 5.96, 5.404, 5.807, 6.375, 5.412, 6.182, 5.888, 6.642, 5.951, 6.373, 6.951, 6.164, 6.879, 6.618, 8.266, 8.04, 7.163, 7.686, 6.552, 5.981, 7.412, 8.337, 8.247, 6.726, 6.086, 6.631, 7.358, 6.481, 6.606, 6.897, 6.095, 6.358, 6.393, 5.593, 5.605, 6.108, 6.226, 6.433, 6.718, 6.487, 6.438, 6.957, 8.259, 6.108, 5.876, 7.454, 7.333, 6.842, 7.203, 7.52, 8.398, 7.327, 7.206, 5.56, 7.014, 7.47, 5.92, 5.856, 6.24, 6.538, 7.691, 6.758, 6.854, 7.267, 6.826, 6.482, 6.812, 7.82, 6.968, 7.645, 7.088, 6.453, 6.23, 6.209, 6.315, 6.565, 6.861, 7.148, 6.63, 6.127, 6.009, 6.678, 6.549, 5.79, 6.345, 7.041, 6.871, 6.59, 6.495, 6.982, 7.236, 6.616, 7.42, 6.849, 6.635, 5.972, 4.973, 6.122, 6.023, 6.266, 6.567, 5.705, 5.914, 5.782, 6.382, 6.113, 6.426, 6.376, 6.041, 5.708, 6.415, 6.431, 6.312, 6.083, 5.868, 6.333, 6.144, 5.706, 6.031, 6.316, 6.31, 6.037, 5.869, 5.895, 6.059, 5.985, 5.968, 7.241, 6.54, 6.696, 6.874, 6.014, 5.898, 6.516, 6.635, 6.939, 6.49, 6.579, 5.884, 6.728, 5.663, 5.936, 6.212, 6.395, 6.127, 6.112, 6.398, 6.251, 5.362, 5.803, 8.78, 3.561, 4.963, 3.863, 4.906, 4.138, 7.313, 6.649, 6.794, 6.38, 6.223, 6.968, 6.545, 5.536, 5.52, 4.368, 5.277, 4.652, 5.0, 4.88, 5.39, 5.713, 6.051, 5.036, 6.193, 5.887, 6.471, 6.405, 5.747, 5.453, 5.852, 5.987, 6.343, 6.404, 5.349, 5.531, 5.683, 4.138, 5.608, 5.617, 6.852, 5.757, 6.657, 4.628, 5.155, 4.519, 6.434, 6.782, 5.304, 5.957, 6.824, 6.411, 6.006, 5.648, 6.103, 5.565, 5.896, 5.837, 6.202, 6.193, 6.38, 6.348, 6.833, 6.425, 6.436, 6.208, 6.629, 6.461, 6.152, 5.935, 5.627, 5.818, 6.406, 6.219, 6.485, 5.854, 6.459, 6.341, 6.251, 6.185, 6.417, 6.749, 6.655, 6.297, 7.393, 6.728, 6.525, 5.976, 5.936, 6.301, 6.081, 6.701, 6.376, 6.317, 6.513, 6.209, 5.759, 5.952, 6.003, 5.926, 5.713, 6.167, 6.229, 6.437, 6.98, 5.427, 6.162, 6.484, 5.304, 6.185, 6.229, 6.242, 6.75, 7.061, 5.762, 5.871, 6.312, 6.114, 5.905, 5.454, 5.414, 5.093, 5.983, 5.983, 5.707, 5.926, 5.67, 5.39, 5.794, 6.019, 5.569, 6.027, 6.593, 6.12, 6.976, 6.794, 6.03], \"yaxis\": \"y\"}],\n",
              "                        {\"legend\": {\"tracegroupgap\": 0}, \"margin\": {\"t\": 60}, \"template\": {\"data\": {\"bar\": [{\"error_x\": {\"color\": \"#2a3f5f\"}, \"error_y\": {\"color\": \"#2a3f5f\"}, \"marker\": {\"line\": {\"color\": \"#E5ECF6\", \"width\": 0.5}}, \"type\": \"bar\"}], \"barpolar\": [{\"marker\": {\"line\": {\"color\": \"#E5ECF6\", \"width\": 0.5}}, \"type\": \"barpolar\"}], \"carpet\": [{\"aaxis\": {\"endlinecolor\": \"#2a3f5f\", \"gridcolor\": \"white\", \"linecolor\": \"white\", \"minorgridcolor\": \"white\", \"startlinecolor\": \"#2a3f5f\"}, \"baxis\": {\"endlinecolor\": \"#2a3f5f\", \"gridcolor\": \"white\", \"linecolor\": \"white\", \"minorgridcolor\": \"white\", \"startlinecolor\": \"#2a3f5f\"}, \"type\": \"carpet\"}], \"choropleth\": [{\"colorbar\": {\"outlinewidth\": 0, \"ticks\": \"\"}, \"type\": \"choropleth\"}], \"contour\": [{\"colorbar\": {\"outlinewidth\": 0, \"ticks\": \"\"}, \"colorscale\": [[0.0, \"#0d0887\"], [0.1111111111111111, \"#46039f\"], [0.2222222222222222, \"#7201a8\"], [0.3333333333333333, \"#9c179e\"], [0.4444444444444444, \"#bd3786\"], [0.5555555555555556, \"#d8576b\"], [0.6666666666666666, \"#ed7953\"], [0.7777777777777778, \"#fb9f3a\"], [0.8888888888888888, \"#fdca26\"], [1.0, \"#f0f921\"]], \"type\": \"contour\"}], \"contourcarpet\": [{\"colorbar\": {\"outlinewidth\": 0, \"ticks\": \"\"}, \"type\": \"contourcarpet\"}], \"heatmap\": [{\"colorbar\": {\"outlinewidth\": 0, \"ticks\": \"\"}, \"colorscale\": [[0.0, \"#0d0887\"], [0.1111111111111111, \"#46039f\"], [0.2222222222222222, \"#7201a8\"], [0.3333333333333333, \"#9c179e\"], [0.4444444444444444, \"#bd3786\"], [0.5555555555555556, \"#d8576b\"], [0.6666666666666666, \"#ed7953\"], [0.7777777777777778, \"#fb9f3a\"], [0.8888888888888888, \"#fdca26\"], [1.0, \"#f0f921\"]], \"type\": \"heatmap\"}], \"heatmapgl\": [{\"colorbar\": {\"outlinewidth\": 0, \"ticks\": \"\"}, \"colorscale\": [[0.0, \"#0d0887\"], [0.1111111111111111, \"#46039f\"], [0.2222222222222222, \"#7201a8\"], [0.3333333333333333, \"#9c179e\"], [0.4444444444444444, \"#bd3786\"], [0.5555555555555556, \"#d8576b\"], [0.6666666666666666, \"#ed7953\"], [0.7777777777777778, \"#fb9f3a\"], [0.8888888888888888, \"#fdca26\"], [1.0, \"#f0f921\"]], \"type\": \"heatmapgl\"}], \"histogram\": [{\"marker\": {\"colorbar\": {\"outlinewidth\": 0, \"ticks\": \"\"}}, \"type\": \"histogram\"}], \"histogram2d\": [{\"colorbar\": {\"outlinewidth\": 0, \"ticks\": \"\"}, \"colorscale\": [[0.0, \"#0d0887\"], [0.1111111111111111, \"#46039f\"], [0.2222222222222222, \"#7201a8\"], [0.3333333333333333, \"#9c179e\"], [0.4444444444444444, \"#bd3786\"], [0.5555555555555556, \"#d8576b\"], [0.6666666666666666, \"#ed7953\"], [0.7777777777777778, \"#fb9f3a\"], [0.8888888888888888, \"#fdca26\"], [1.0, \"#f0f921\"]], \"type\": \"histogram2d\"}], \"histogram2dcontour\": [{\"colorbar\": {\"outlinewidth\": 0, \"ticks\": \"\"}, \"colorscale\": [[0.0, \"#0d0887\"], [0.1111111111111111, \"#46039f\"], [0.2222222222222222, \"#7201a8\"], [0.3333333333333333, \"#9c179e\"], [0.4444444444444444, \"#bd3786\"], [0.5555555555555556, \"#d8576b\"], [0.6666666666666666, \"#ed7953\"], [0.7777777777777778, \"#fb9f3a\"], [0.8888888888888888, \"#fdca26\"], [1.0, \"#f0f921\"]], \"type\": \"histogram2dcontour\"}], \"mesh3d\": [{\"colorbar\": {\"outlinewidth\": 0, \"ticks\": \"\"}, \"type\": \"mesh3d\"}], \"parcoords\": [{\"line\": {\"colorbar\": {\"outlinewidth\": 0, \"ticks\": \"\"}}, \"type\": \"parcoords\"}], \"pie\": [{\"automargin\": true, \"type\": \"pie\"}], \"scatter\": [{\"marker\": {\"colorbar\": {\"outlinewidth\": 0, \"ticks\": \"\"}}, \"type\": \"scatter\"}], \"scatter3d\": [{\"line\": {\"colorbar\": {\"outlinewidth\": 0, \"ticks\": \"\"}}, \"marker\": {\"colorbar\": {\"outlinewidth\": 0, \"ticks\": \"\"}}, \"type\": \"scatter3d\"}], \"scattercarpet\": [{\"marker\": {\"colorbar\": {\"outlinewidth\": 0, \"ticks\": \"\"}}, \"type\": \"scattercarpet\"}], \"scattergeo\": [{\"marker\": {\"colorbar\": {\"outlinewidth\": 0, \"ticks\": \"\"}}, \"type\": \"scattergeo\"}], \"scattergl\": [{\"marker\": {\"colorbar\": {\"outlinewidth\": 0, \"ticks\": \"\"}}, \"type\": \"scattergl\"}], \"scattermapbox\": [{\"marker\": {\"colorbar\": {\"outlinewidth\": 0, \"ticks\": \"\"}}, \"type\": \"scattermapbox\"}], \"scatterpolar\": [{\"marker\": {\"colorbar\": {\"outlinewidth\": 0, \"ticks\": \"\"}}, \"type\": \"scatterpolar\"}], \"scatterpolargl\": [{\"marker\": {\"colorbar\": {\"outlinewidth\": 0, \"ticks\": \"\"}}, \"type\": \"scatterpolargl\"}], \"scatterternary\": [{\"marker\": {\"colorbar\": {\"outlinewidth\": 0, \"ticks\": \"\"}}, \"type\": \"scatterternary\"}], \"surface\": [{\"colorbar\": {\"outlinewidth\": 0, \"ticks\": \"\"}, \"colorscale\": [[0.0, \"#0d0887\"], [0.1111111111111111, \"#46039f\"], [0.2222222222222222, \"#7201a8\"], [0.3333333333333333, \"#9c179e\"], [0.4444444444444444, \"#bd3786\"], [0.5555555555555556, \"#d8576b\"], [0.6666666666666666, \"#ed7953\"], [0.7777777777777778, \"#fb9f3a\"], [0.8888888888888888, \"#fdca26\"], [1.0, \"#f0f921\"]], \"type\": \"surface\"}], \"table\": [{\"cells\": {\"fill\": {\"color\": \"#EBF0F8\"}, \"line\": {\"color\": \"white\"}}, \"header\": {\"fill\": {\"color\": \"#C8D4E3\"}, \"line\": {\"color\": \"white\"}}, \"type\": \"table\"}]}, \"layout\": {\"annotationdefaults\": {\"arrowcolor\": \"#2a3f5f\", \"arrowhead\": 0, \"arrowwidth\": 1}, \"coloraxis\": {\"colorbar\": {\"outlinewidth\": 0, \"ticks\": \"\"}}, \"colorscale\": {\"diverging\": [[0, \"#8e0152\"], [0.1, \"#c51b7d\"], [0.2, \"#de77ae\"], [0.3, \"#f1b6da\"], [0.4, \"#fde0ef\"], [0.5, \"#f7f7f7\"], [0.6, \"#e6f5d0\"], [0.7, \"#b8e186\"], [0.8, \"#7fbc41\"], [0.9, \"#4d9221\"], [1, \"#276419\"]], \"sequential\": [[0.0, \"#0d0887\"], [0.1111111111111111, \"#46039f\"], [0.2222222222222222, \"#7201a8\"], [0.3333333333333333, \"#9c179e\"], [0.4444444444444444, \"#bd3786\"], [0.5555555555555556, \"#d8576b\"], [0.6666666666666666, \"#ed7953\"], [0.7777777777777778, \"#fb9f3a\"], [0.8888888888888888, \"#fdca26\"], [1.0, \"#f0f921\"]], \"sequentialminus\": [[0.0, \"#0d0887\"], [0.1111111111111111, \"#46039f\"], [0.2222222222222222, \"#7201a8\"], [0.3333333333333333, \"#9c179e\"], [0.4444444444444444, \"#bd3786\"], [0.5555555555555556, \"#d8576b\"], [0.6666666666666666, \"#ed7953\"], [0.7777777777777778, \"#fb9f3a\"], [0.8888888888888888, \"#fdca26\"], [1.0, \"#f0f921\"]]}, \"colorway\": [\"#636efa\", \"#EF553B\", \"#00cc96\", \"#ab63fa\", \"#FFA15A\", \"#19d3f3\", \"#FF6692\", \"#B6E880\", \"#FF97FF\", \"#FECB52\"], \"font\": {\"color\": \"#2a3f5f\"}, \"geo\": {\"bgcolor\": \"white\", \"lakecolor\": \"white\", \"landcolor\": \"#E5ECF6\", \"showlakes\": true, \"showland\": true, \"subunitcolor\": \"white\"}, \"hoverlabel\": {\"align\": \"left\"}, \"hovermode\": \"closest\", \"mapbox\": {\"style\": \"light\"}, \"paper_bgcolor\": \"white\", \"plot_bgcolor\": \"#E5ECF6\", \"polar\": {\"angularaxis\": {\"gridcolor\": \"white\", \"linecolor\": \"white\", \"ticks\": \"\"}, \"bgcolor\": \"#E5ECF6\", \"radialaxis\": {\"gridcolor\": \"white\", \"linecolor\": \"white\", \"ticks\": \"\"}}, \"scene\": {\"xaxis\": {\"backgroundcolor\": \"#E5ECF6\", \"gridcolor\": \"white\", \"gridwidth\": 2, \"linecolor\": \"white\", \"showbackground\": true, \"ticks\": \"\", \"zerolinecolor\": \"white\"}, \"yaxis\": {\"backgroundcolor\": \"#E5ECF6\", \"gridcolor\": \"white\", \"gridwidth\": 2, \"linecolor\": \"white\", \"showbackground\": true, \"ticks\": \"\", \"zerolinecolor\": \"white\"}, \"zaxis\": {\"backgroundcolor\": \"#E5ECF6\", \"gridcolor\": \"white\", \"gridwidth\": 2, \"linecolor\": \"white\", \"showbackground\": true, \"ticks\": \"\", \"zerolinecolor\": \"white\"}}, \"shapedefaults\": {\"line\": {\"color\": \"#2a3f5f\"}}, \"ternary\": {\"aaxis\": {\"gridcolor\": \"white\", \"linecolor\": \"white\", \"ticks\": \"\"}, \"baxis\": {\"gridcolor\": \"white\", \"linecolor\": \"white\", \"ticks\": \"\"}, \"bgcolor\": \"#E5ECF6\", \"caxis\": {\"gridcolor\": \"white\", \"linecolor\": \"white\", \"ticks\": \"\"}}, \"title\": {\"x\": 0.05}, \"xaxis\": {\"automargin\": true, \"gridcolor\": \"white\", \"linecolor\": \"white\", \"ticks\": \"\", \"title\": {\"standoff\": 15}, \"zerolinecolor\": \"white\", \"zerolinewidth\": 2}, \"yaxis\": {\"automargin\": true, \"gridcolor\": \"white\", \"linecolor\": \"white\", \"ticks\": \"\", \"title\": {\"standoff\": 15}, \"zerolinecolor\": \"white\", \"zerolinewidth\": 2}}}, \"xaxis\": {\"anchor\": \"y\", \"domain\": [0.0, 1.0], \"title\": {\"text\": \"MEDV\"}}, \"yaxis\": {\"anchor\": \"x\", \"domain\": [0.0, 1.0], \"title\": {\"text\": \"RM\"}}},\n",
              "                        {\"responsive\": true}\n",
              "                    ).then(function(){\n",
              "                            \n",
              "var gd = document.getElementById('7d5fd883-fd04-4e5f-8588-890a8d6e0f6a');\n",
              "var x = new MutationObserver(function (mutations, observer) {{\n",
              "        var display = window.getComputedStyle(gd).display;\n",
              "        if (!display || display === 'none') {{\n",
              "            console.log([gd, 'removed!']);\n",
              "            Plotly.purge(gd);\n",
              "            observer.disconnect();\n",
              "        }}\n",
              "}});\n",
              "\n",
              "// Listen for the removal of the full notebook cells\n",
              "var notebookContainer = gd.closest('#notebook-container');\n",
              "if (notebookContainer) {{\n",
              "    x.observe(notebookContainer, {childList: true});\n",
              "}}\n",
              "\n",
              "// Listen for the clearing of the current output cell\n",
              "var outputEl = gd.closest('.output');\n",
              "if (outputEl) {{\n",
              "    x.observe(outputEl, {childList: true});\n",
              "}}\n",
              "\n",
              "                        })\n",
              "                };\n",
              "                \n",
              "            </script>\n",
              "        </div>\n",
              "</body>\n",
              "</html>"
            ]
          },
          "metadata": {
            "tags": []
          }
        }
      ]
    },
    {
      "cell_type": "code",
      "metadata": {
        "id": "TNZfpJpgk4OF",
        "colab_type": "code",
        "colab": {
          "base_uri": "https://localhost:8080/",
          "height": 542
        },
        "outputId": "a602e4e0-3170-4835-d969-8427e72408a2"
      },
      "source": [
        "px.scatter(data_drop_max, x='MEDV', y='TAX')"
      ],
      "execution_count": 21,
      "outputs": [
        {
          "output_type": "display_data",
          "data": {
            "text/html": [
              "<html>\n",
              "<head><meta charset=\"utf-8\" /></head>\n",
              "<body>\n",
              "    <div>\n",
              "            <script src=\"https://cdnjs.cloudflare.com/ajax/libs/mathjax/2.7.5/MathJax.js?config=TeX-AMS-MML_SVG\"></script><script type=\"text/javascript\">if (window.MathJax) {MathJax.Hub.Config({SVG: {font: \"STIX-Web\"}});}</script>\n",
              "                <script type=\"text/javascript\">window.PlotlyConfig = {MathJaxConfig: 'local'};</script>\n",
              "        <script src=\"https://cdn.plot.ly/plotly-latest.min.js\"></script>    \n",
              "            <div id=\"138f70c0-7223-4d30-a27a-1fabe2a091ee\" class=\"plotly-graph-div\" style=\"height:525px; width:100%;\"></div>\n",
              "            <script type=\"text/javascript\">\n",
              "                \n",
              "                    window.PLOTLYENV=window.PLOTLYENV || {};\n",
              "                    \n",
              "                if (document.getElementById(\"138f70c0-7223-4d30-a27a-1fabe2a091ee\")) {\n",
              "                    Plotly.newPlot(\n",
              "                        '138f70c0-7223-4d30-a27a-1fabe2a091ee',\n",
              "                        [{\"hoverlabel\": {\"namelength\": 0}, \"hovertemplate\": \"MEDV=%{x}<br>TAX=%{y}\", \"legendgroup\": \"\", \"marker\": {\"color\": \"#636efa\", \"symbol\": \"circle\"}, \"mode\": \"markers\", \"name\": \"\", \"showlegend\": false, \"type\": \"scatter\", \"x\": [24.0, 21.6, 34.7, 33.4, 36.2, 28.7, 22.9, 27.1, 16.5, 18.9, 15.0, 18.9, 21.7, 20.4, 18.2, 19.9, 23.1, 17.5, 20.2, 18.2, 13.6, 19.6, 15.2, 14.5, 15.6, 13.9, 16.6, 14.8, 18.4, 21.0, 12.7, 14.5, 13.2, 13.1, 13.5, 18.9, 20.0, 21.0, 24.7, 30.8, 34.9, 26.6, 25.3, 24.7, 21.2, 19.3, 20.0, 16.6, 14.4, 19.4, 19.7, 20.5, 25.0, 23.4, 18.9, 35.4, 24.7, 31.6, 23.3, 19.6, 18.7, 16.0, 22.2, 25.0, 33.0, 23.5, 19.4, 22.0, 17.4, 20.9, 24.2, 21.7, 22.8, 23.4, 24.1, 21.4, 20.0, 20.8, 21.2, 20.3, 28.0, 23.9, 24.8, 22.9, 23.9, 26.6, 22.5, 22.2, 23.6, 28.7, 22.6, 22.0, 22.9, 25.0, 20.6, 28.4, 21.4, 38.7, 43.8, 33.2, 27.5, 26.5, 18.6, 19.3, 20.1, 19.5, 19.5, 20.4, 19.8, 19.4, 21.7, 22.8, 18.8, 18.7, 18.5, 18.3, 21.2, 19.2, 20.4, 19.3, 22.0, 20.3, 20.5, 17.3, 18.8, 21.4, 15.7, 16.2, 18.0, 14.3, 19.2, 19.6, 23.0, 18.4, 15.6, 18.1, 17.4, 17.1, 13.3, 17.8, 14.0, 14.4, 13.4, 15.6, 11.8, 13.8, 15.6, 14.6, 17.8, 15.4, 21.5, 19.6, 15.3, 19.4, 17.0, 15.6, 13.1, 41.3, 24.3, 23.3, 27.0, 22.7, 25.0, 23.8, 23.8, 22.3, 17.4, 19.1, 23.1, 23.6, 22.6, 29.4, 23.2, 24.6, 29.9, 37.2, 39.8, 36.2, 37.9, 32.5, 26.4, 29.6, 32.0, 29.8, 34.9, 37.0, 30.5, 36.4, 31.1, 29.1, 33.3, 30.3, 34.6, 34.9, 32.9, 24.1, 42.3, 48.5, 22.6, 24.4, 22.5, 24.4, 20.0, 21.7, 19.3, 22.4, 28.1, 23.7, 25.0, 23.3, 28.7, 21.5, 23.0, 26.7, 21.7, 27.5, 30.1, 44.8, 37.6, 31.6, 46.7, 31.5, 24.3, 31.7, 41.7, 48.3, 29.0, 24.0, 25.1, 31.5, 23.7, 23.3, 22.0, 20.1, 22.2, 23.7, 17.6, 18.5, 24.3, 20.5, 24.5, 26.2, 24.4, 24.8, 29.6, 42.8, 21.9, 20.9, 44.0, 36.0, 30.1, 33.8, 43.1, 48.8, 31.0, 36.5, 22.8, 30.7, 43.5, 20.7, 21.1, 25.2, 24.4, 35.2, 32.4, 32.0, 33.2, 33.1, 29.1, 35.1, 45.4, 35.4, 46.0, 32.2, 22.0, 20.1, 23.2, 22.3, 24.8, 28.5, 37.3, 27.9, 23.9, 21.7, 28.6, 27.1, 20.3, 22.5, 29.0, 24.8, 22.0, 26.4, 33.1, 36.1, 28.4, 33.4, 28.2, 22.8, 20.3, 16.1, 22.1, 19.4, 21.6, 23.8, 16.2, 17.8, 19.8, 23.1, 21.0, 23.8, 23.1, 20.4, 18.5, 25.0, 24.6, 23.0, 22.2, 19.3, 22.6, 19.8, 17.1, 19.4, 22.2, 20.7, 21.1, 19.5, 18.5, 20.6, 19.0, 18.7, 32.7, 16.5, 23.9, 31.2, 17.5, 17.2, 23.1, 24.5, 26.6, 22.9, 24.1, 18.6, 30.1, 18.2, 20.6, 17.8, 21.7, 22.7, 22.6, 25.0, 19.9, 20.8, 16.8, 21.9, 27.5, 21.9, 23.1, 13.8, 13.8, 15.0, 13.9, 13.3, 13.1, 10.2, 10.4, 10.9, 11.3, 12.3, 8.8, 7.2, 10.5, 7.4, 10.2, 11.5, 15.1, 23.2, 9.7, 13.8, 12.7, 13.1, 12.5, 8.5, 5.0, 6.3, 5.6, 7.2, 12.1, 8.3, 8.5, 5.0, 11.9, 27.9, 17.2, 27.5, 15.0, 17.2, 17.9, 16.3, 7.0, 7.2, 7.5, 10.4, 8.8, 8.4, 16.7, 14.2, 20.8, 13.4, 11.7, 8.3, 10.2, 10.9, 11.0, 9.5, 14.5, 14.1, 16.1, 14.3, 11.7, 13.4, 9.6, 8.7, 8.4, 12.8, 10.5, 17.1, 18.4, 15.4, 10.8, 11.8, 14.9, 12.6, 14.1, 13.0, 13.4, 15.2, 16.1, 17.8, 14.9, 14.1, 12.7, 13.5, 14.9, 20.0, 16.4, 17.7, 19.5, 20.2, 21.4, 19.9, 19.0, 19.1, 19.1, 20.1, 19.9, 19.6, 23.2, 29.8, 13.8, 13.3, 16.7, 12.0, 14.6, 21.4, 23.0, 23.7, 25.0, 21.8, 20.6, 21.2, 19.1, 20.6, 15.2, 7.0, 8.1, 13.6, 20.1, 21.8, 24.5, 23.1, 19.7, 18.3, 21.2, 17.5, 16.8, 22.4, 20.6, 23.9, 22.0, 11.9], \"xaxis\": \"x\", \"y\": [296.0, 242.0, 242.0, 222.0, 222.0, 222.0, 311.0, 311.0, 311.0, 311.0, 311.0, 311.0, 311.0, 307.0, 307.0, 307.0, 307.0, 307.0, 307.0, 307.0, 307.0, 307.0, 307.0, 307.0, 307.0, 307.0, 307.0, 307.0, 307.0, 307.0, 307.0, 307.0, 307.0, 307.0, 307.0, 279.0, 279.0, 279.0, 279.0, 252.0, 252.0, 233.0, 233.0, 233.0, 233.0, 233.0, 233.0, 233.0, 233.0, 233.0, 243.0, 243.0, 243.0, 243.0, 469.0, 226.0, 313.0, 256.0, 284.0, 284.0, 284.0, 284.0, 284.0, 284.0, 216.0, 337.0, 337.0, 345.0, 345.0, 345.0, 305.0, 305.0, 305.0, 305.0, 398.0, 398.0, 398.0, 398.0, 398.0, 398.0, 281.0, 281.0, 281.0, 281.0, 247.0, 247.0, 247.0, 247.0, 270.0, 270.0, 270.0, 270.0, 270.0, 270.0, 270.0, 276.0, 276.0, 276.0, 276.0, 276.0, 384.0, 384.0, 384.0, 384.0, 384.0, 384.0, 384.0, 384.0, 384.0, 384.0, 384.0, 432.0, 432.0, 432.0, 432.0, 432.0, 432.0, 432.0, 432.0, 432.0, 188.0, 188.0, 188.0, 188.0, 188.0, 188.0, 188.0, 437.0, 437.0, 437.0, 437.0, 437.0, 437.0, 437.0, 437.0, 437.0, 437.0, 437.0, 437.0, 437.0, 437.0, 437.0, 403.0, 403.0, 403.0, 403.0, 403.0, 403.0, 403.0, 403.0, 403.0, 403.0, 403.0, 403.0, 403.0, 403.0, 403.0, 403.0, 403.0, 403.0, 403.0, 403.0, 403.0, 403.0, 403.0, 403.0, 403.0, 403.0, 296.0, 296.0, 296.0, 296.0, 296.0, 296.0, 296.0, 193.0, 193.0, 193.0, 193.0, 193.0, 193.0, 193.0, 398.0, 398.0, 398.0, 398.0, 398.0, 398.0, 265.0, 265.0, 329.0, 329.0, 329.0, 402.0, 402.0, 348.0, 348.0, 224.0, 277.0, 277.0, 277.0, 277.0, 277.0, 277.0, 277.0, 277.0, 277.0, 277.0, 277.0, 276.0, 276.0, 276.0, 276.0, 307.0, 307.0, 307.0, 307.0, 307.0, 307.0, 307.0, 307.0, 307.0, 307.0, 307.0, 307.0, 307.0, 307.0, 307.0, 307.0, 307.0, 300.0, 300.0, 300.0, 300.0, 300.0, 300.0, 330.0, 330.0, 330.0, 330.0, 330.0, 330.0, 330.0, 330.0, 330.0, 330.0, 315.0, 315.0, 244.0, 264.0, 264.0, 264.0, 264.0, 264.0, 264.0, 264.0, 264.0, 264.0, 264.0, 223.0, 223.0, 223.0, 223.0, 223.0, 254.0, 254.0, 254.0, 254.0, 254.0, 216.0, 216.0, 216.0, 216.0, 285.0, 300.0, 241.0, 293.0, 293.0, 293.0, 245.0, 245.0, 245.0, 289.0, 289.0, 289.0, 289.0, 289.0, 358.0, 358.0, 358.0, 329.0, 329.0, 329.0, 222.0, 222.0, 222.0, 222.0, 304.0, 304.0, 304.0, 304.0, 304.0, 304.0, 304.0, 304.0, 304.0, 304.0, 304.0, 304.0, 287.0, 287.0, 287.0, 287.0, 287.0, 287.0, 287.0, 287.0, 430.0, 430.0, 430.0, 304.0, 304.0, 224.0, 224.0, 224.0, 224.0, 224.0, 224.0, 224.0, 224.0, 284.0, 422.0, 370.0, 370.0, 352.0, 352.0, 351.0, 280.0, 335.0, 335.0, 411.0, 411.0, 187.0, 334.0, 334.0, 666.0, 666.0, 666.0, 666.0, 666.0, 666.0, 666.0, 666.0, 666.0, 666.0, 666.0, 666.0, 666.0, 666.0, 666.0, 666.0, 666.0, 666.0, 666.0, 666.0, 666.0, 666.0, 666.0, 666.0, 666.0, 666.0, 666.0, 666.0, 666.0, 666.0, 666.0, 666.0, 666.0, 666.0, 666.0, 666.0, 666.0, 666.0, 666.0, 666.0, 666.0, 666.0, 666.0, 666.0, 666.0, 666.0, 666.0, 666.0, 666.0, 666.0, 666.0, 666.0, 666.0, 666.0, 666.0, 666.0, 666.0, 666.0, 666.0, 666.0, 666.0, 666.0, 666.0, 666.0, 666.0, 666.0, 666.0, 666.0, 666.0, 666.0, 666.0, 666.0, 666.0, 666.0, 666.0, 666.0, 666.0, 666.0, 666.0, 666.0, 666.0, 666.0, 666.0, 666.0, 666.0, 666.0, 666.0, 666.0, 666.0, 666.0, 666.0, 666.0, 666.0, 666.0, 666.0, 666.0, 666.0, 666.0, 666.0, 666.0, 666.0, 666.0, 666.0, 666.0, 666.0, 666.0, 666.0, 666.0, 666.0, 666.0, 666.0, 666.0, 666.0, 666.0, 666.0, 666.0, 666.0, 666.0, 666.0, 666.0, 666.0, 666.0, 666.0, 666.0, 666.0, 666.0, 666.0, 711.0, 711.0, 711.0, 711.0, 711.0, 391.0, 391.0, 391.0, 391.0, 391.0, 391.0, 391.0, 391.0, 273.0, 273.0, 273.0, 273.0, 273.0], \"yaxis\": \"y\"}],\n",
              "                        {\"legend\": {\"tracegroupgap\": 0}, \"margin\": {\"t\": 60}, \"template\": {\"data\": {\"bar\": [{\"error_x\": {\"color\": \"#2a3f5f\"}, \"error_y\": {\"color\": \"#2a3f5f\"}, \"marker\": {\"line\": {\"color\": \"#E5ECF6\", \"width\": 0.5}}, \"type\": \"bar\"}], \"barpolar\": [{\"marker\": {\"line\": {\"color\": \"#E5ECF6\", \"width\": 0.5}}, \"type\": \"barpolar\"}], \"carpet\": [{\"aaxis\": {\"endlinecolor\": \"#2a3f5f\", \"gridcolor\": \"white\", \"linecolor\": \"white\", \"minorgridcolor\": \"white\", \"startlinecolor\": \"#2a3f5f\"}, \"baxis\": {\"endlinecolor\": \"#2a3f5f\", \"gridcolor\": \"white\", \"linecolor\": \"white\", \"minorgridcolor\": \"white\", \"startlinecolor\": \"#2a3f5f\"}, \"type\": \"carpet\"}], \"choropleth\": [{\"colorbar\": {\"outlinewidth\": 0, \"ticks\": \"\"}, \"type\": \"choropleth\"}], \"contour\": [{\"colorbar\": {\"outlinewidth\": 0, \"ticks\": \"\"}, \"colorscale\": [[0.0, \"#0d0887\"], [0.1111111111111111, \"#46039f\"], [0.2222222222222222, \"#7201a8\"], [0.3333333333333333, \"#9c179e\"], [0.4444444444444444, \"#bd3786\"], [0.5555555555555556, \"#d8576b\"], [0.6666666666666666, \"#ed7953\"], [0.7777777777777778, \"#fb9f3a\"], [0.8888888888888888, \"#fdca26\"], [1.0, \"#f0f921\"]], \"type\": \"contour\"}], \"contourcarpet\": [{\"colorbar\": {\"outlinewidth\": 0, \"ticks\": \"\"}, \"type\": \"contourcarpet\"}], \"heatmap\": [{\"colorbar\": {\"outlinewidth\": 0, \"ticks\": \"\"}, \"colorscale\": [[0.0, \"#0d0887\"], [0.1111111111111111, \"#46039f\"], [0.2222222222222222, \"#7201a8\"], [0.3333333333333333, \"#9c179e\"], [0.4444444444444444, \"#bd3786\"], [0.5555555555555556, \"#d8576b\"], [0.6666666666666666, \"#ed7953\"], [0.7777777777777778, \"#fb9f3a\"], [0.8888888888888888, \"#fdca26\"], [1.0, \"#f0f921\"]], \"type\": \"heatmap\"}], \"heatmapgl\": [{\"colorbar\": {\"outlinewidth\": 0, \"ticks\": \"\"}, \"colorscale\": [[0.0, \"#0d0887\"], [0.1111111111111111, \"#46039f\"], [0.2222222222222222, \"#7201a8\"], [0.3333333333333333, \"#9c179e\"], [0.4444444444444444, \"#bd3786\"], [0.5555555555555556, \"#d8576b\"], [0.6666666666666666, \"#ed7953\"], [0.7777777777777778, \"#fb9f3a\"], [0.8888888888888888, \"#fdca26\"], [1.0, \"#f0f921\"]], \"type\": \"heatmapgl\"}], \"histogram\": [{\"marker\": {\"colorbar\": {\"outlinewidth\": 0, \"ticks\": \"\"}}, \"type\": \"histogram\"}], \"histogram2d\": [{\"colorbar\": {\"outlinewidth\": 0, \"ticks\": \"\"}, \"colorscale\": [[0.0, \"#0d0887\"], [0.1111111111111111, \"#46039f\"], [0.2222222222222222, \"#7201a8\"], [0.3333333333333333, \"#9c179e\"], [0.4444444444444444, \"#bd3786\"], [0.5555555555555556, \"#d8576b\"], [0.6666666666666666, \"#ed7953\"], [0.7777777777777778, \"#fb9f3a\"], [0.8888888888888888, \"#fdca26\"], [1.0, \"#f0f921\"]], \"type\": \"histogram2d\"}], \"histogram2dcontour\": [{\"colorbar\": {\"outlinewidth\": 0, \"ticks\": \"\"}, \"colorscale\": [[0.0, \"#0d0887\"], [0.1111111111111111, \"#46039f\"], [0.2222222222222222, \"#7201a8\"], [0.3333333333333333, \"#9c179e\"], [0.4444444444444444, \"#bd3786\"], [0.5555555555555556, \"#d8576b\"], [0.6666666666666666, \"#ed7953\"], [0.7777777777777778, \"#fb9f3a\"], [0.8888888888888888, \"#fdca26\"], [1.0, \"#f0f921\"]], \"type\": \"histogram2dcontour\"}], \"mesh3d\": [{\"colorbar\": {\"outlinewidth\": 0, \"ticks\": \"\"}, \"type\": \"mesh3d\"}], \"parcoords\": [{\"line\": {\"colorbar\": {\"outlinewidth\": 0, \"ticks\": \"\"}}, \"type\": \"parcoords\"}], \"pie\": [{\"automargin\": true, \"type\": \"pie\"}], \"scatter\": [{\"marker\": {\"colorbar\": {\"outlinewidth\": 0, \"ticks\": \"\"}}, \"type\": \"scatter\"}], \"scatter3d\": [{\"line\": {\"colorbar\": {\"outlinewidth\": 0, \"ticks\": \"\"}}, \"marker\": {\"colorbar\": {\"outlinewidth\": 0, \"ticks\": \"\"}}, \"type\": \"scatter3d\"}], \"scattercarpet\": [{\"marker\": {\"colorbar\": {\"outlinewidth\": 0, \"ticks\": \"\"}}, \"type\": \"scattercarpet\"}], \"scattergeo\": [{\"marker\": {\"colorbar\": {\"outlinewidth\": 0, \"ticks\": \"\"}}, \"type\": \"scattergeo\"}], \"scattergl\": [{\"marker\": {\"colorbar\": {\"outlinewidth\": 0, \"ticks\": \"\"}}, \"type\": \"scattergl\"}], \"scattermapbox\": [{\"marker\": {\"colorbar\": {\"outlinewidth\": 0, \"ticks\": \"\"}}, \"type\": \"scattermapbox\"}], \"scatterpolar\": [{\"marker\": {\"colorbar\": {\"outlinewidth\": 0, \"ticks\": \"\"}}, \"type\": \"scatterpolar\"}], \"scatterpolargl\": [{\"marker\": {\"colorbar\": {\"outlinewidth\": 0, \"ticks\": \"\"}}, \"type\": \"scatterpolargl\"}], \"scatterternary\": [{\"marker\": {\"colorbar\": {\"outlinewidth\": 0, \"ticks\": \"\"}}, \"type\": \"scatterternary\"}], \"surface\": [{\"colorbar\": {\"outlinewidth\": 0, \"ticks\": \"\"}, \"colorscale\": [[0.0, \"#0d0887\"], [0.1111111111111111, \"#46039f\"], [0.2222222222222222, \"#7201a8\"], [0.3333333333333333, \"#9c179e\"], [0.4444444444444444, \"#bd3786\"], [0.5555555555555556, \"#d8576b\"], [0.6666666666666666, \"#ed7953\"], [0.7777777777777778, \"#fb9f3a\"], [0.8888888888888888, \"#fdca26\"], [1.0, \"#f0f921\"]], \"type\": \"surface\"}], \"table\": [{\"cells\": {\"fill\": {\"color\": \"#EBF0F8\"}, \"line\": {\"color\": \"white\"}}, \"header\": {\"fill\": {\"color\": \"#C8D4E3\"}, \"line\": {\"color\": \"white\"}}, \"type\": \"table\"}]}, \"layout\": {\"annotationdefaults\": {\"arrowcolor\": \"#2a3f5f\", \"arrowhead\": 0, \"arrowwidth\": 1}, \"coloraxis\": {\"colorbar\": {\"outlinewidth\": 0, \"ticks\": \"\"}}, \"colorscale\": {\"diverging\": [[0, \"#8e0152\"], [0.1, \"#c51b7d\"], [0.2, \"#de77ae\"], [0.3, \"#f1b6da\"], [0.4, \"#fde0ef\"], [0.5, \"#f7f7f7\"], [0.6, \"#e6f5d0\"], [0.7, \"#b8e186\"], [0.8, \"#7fbc41\"], [0.9, \"#4d9221\"], [1, \"#276419\"]], \"sequential\": [[0.0, \"#0d0887\"], [0.1111111111111111, \"#46039f\"], [0.2222222222222222, \"#7201a8\"], [0.3333333333333333, \"#9c179e\"], [0.4444444444444444, \"#bd3786\"], [0.5555555555555556, \"#d8576b\"], [0.6666666666666666, \"#ed7953\"], [0.7777777777777778, \"#fb9f3a\"], [0.8888888888888888, \"#fdca26\"], [1.0, \"#f0f921\"]], \"sequentialminus\": [[0.0, \"#0d0887\"], [0.1111111111111111, \"#46039f\"], [0.2222222222222222, \"#7201a8\"], [0.3333333333333333, \"#9c179e\"], [0.4444444444444444, \"#bd3786\"], [0.5555555555555556, \"#d8576b\"], [0.6666666666666666, \"#ed7953\"], [0.7777777777777778, \"#fb9f3a\"], [0.8888888888888888, \"#fdca26\"], [1.0, \"#f0f921\"]]}, \"colorway\": [\"#636efa\", \"#EF553B\", \"#00cc96\", \"#ab63fa\", \"#FFA15A\", \"#19d3f3\", \"#FF6692\", \"#B6E880\", \"#FF97FF\", \"#FECB52\"], \"font\": {\"color\": \"#2a3f5f\"}, \"geo\": {\"bgcolor\": \"white\", \"lakecolor\": \"white\", \"landcolor\": \"#E5ECF6\", \"showlakes\": true, \"showland\": true, \"subunitcolor\": \"white\"}, \"hoverlabel\": {\"align\": \"left\"}, \"hovermode\": \"closest\", \"mapbox\": {\"style\": \"light\"}, \"paper_bgcolor\": \"white\", \"plot_bgcolor\": \"#E5ECF6\", \"polar\": {\"angularaxis\": {\"gridcolor\": \"white\", \"linecolor\": \"white\", \"ticks\": \"\"}, \"bgcolor\": \"#E5ECF6\", \"radialaxis\": {\"gridcolor\": \"white\", \"linecolor\": \"white\", \"ticks\": \"\"}}, \"scene\": {\"xaxis\": {\"backgroundcolor\": \"#E5ECF6\", \"gridcolor\": \"white\", \"gridwidth\": 2, \"linecolor\": \"white\", \"showbackground\": true, \"ticks\": \"\", \"zerolinecolor\": \"white\"}, \"yaxis\": {\"backgroundcolor\": \"#E5ECF6\", \"gridcolor\": \"white\", \"gridwidth\": 2, \"linecolor\": \"white\", \"showbackground\": true, \"ticks\": \"\", \"zerolinecolor\": \"white\"}, \"zaxis\": {\"backgroundcolor\": \"#E5ECF6\", \"gridcolor\": \"white\", \"gridwidth\": 2, \"linecolor\": \"white\", \"showbackground\": true, \"ticks\": \"\", \"zerolinecolor\": \"white\"}}, \"shapedefaults\": {\"line\": {\"color\": \"#2a3f5f\"}}, \"ternary\": {\"aaxis\": {\"gridcolor\": \"white\", \"linecolor\": \"white\", \"ticks\": \"\"}, \"baxis\": {\"gridcolor\": \"white\", \"linecolor\": \"white\", \"ticks\": \"\"}, \"bgcolor\": \"#E5ECF6\", \"caxis\": {\"gridcolor\": \"white\", \"linecolor\": \"white\", \"ticks\": \"\"}}, \"title\": {\"x\": 0.05}, \"xaxis\": {\"automargin\": true, \"gridcolor\": \"white\", \"linecolor\": \"white\", \"ticks\": \"\", \"title\": {\"standoff\": 15}, \"zerolinecolor\": \"white\", \"zerolinewidth\": 2}, \"yaxis\": {\"automargin\": true, \"gridcolor\": \"white\", \"linecolor\": \"white\", \"ticks\": \"\", \"title\": {\"standoff\": 15}, \"zerolinecolor\": \"white\", \"zerolinewidth\": 2}}}, \"xaxis\": {\"anchor\": \"y\", \"domain\": [0.0, 1.0], \"title\": {\"text\": \"MEDV\"}}, \"yaxis\": {\"anchor\": \"x\", \"domain\": [0.0, 1.0], \"title\": {\"text\": \"TAX\"}}},\n",
              "                        {\"responsive\": true}\n",
              "                    ).then(function(){\n",
              "                            \n",
              "var gd = document.getElementById('138f70c0-7223-4d30-a27a-1fabe2a091ee');\n",
              "var x = new MutationObserver(function (mutations, observer) {{\n",
              "        var display = window.getComputedStyle(gd).display;\n",
              "        if (!display || display === 'none') {{\n",
              "            console.log([gd, 'removed!']);\n",
              "            Plotly.purge(gd);\n",
              "            observer.disconnect();\n",
              "        }}\n",
              "}});\n",
              "\n",
              "// Listen for the removal of the full notebook cells\n",
              "var notebookContainer = gd.closest('#notebook-container');\n",
              "if (notebookContainer) {{\n",
              "    x.observe(notebookContainer, {childList: true});\n",
              "}}\n",
              "\n",
              "// Listen for the clearing of the current output cell\n",
              "var outputEl = gd.closest('.output');\n",
              "if (outputEl) {{\n",
              "    x.observe(outputEl, {childList: true});\n",
              "}}\n",
              "\n",
              "                        })\n",
              "                };\n",
              "                \n",
              "            </script>\n",
              "        </div>\n",
              "</body>\n",
              "</html>"
            ]
          },
          "metadata": {
            "tags": []
          }
        }
      ]
    },
    {
      "cell_type": "code",
      "metadata": {
        "id": "CFOaEgYsk4OI",
        "colab_type": "code",
        "colab": {
          "base_uri": "https://localhost:8080/",
          "height": 542
        },
        "outputId": "4e2899f5-efbe-4c9e-938a-54be0cbf6c6b"
      },
      "source": [
        "px.scatter(data_drop_max, x='MEDV', y='PTRATIO')"
      ],
      "execution_count": 22,
      "outputs": [
        {
          "output_type": "display_data",
          "data": {
            "text/html": [
              "<html>\n",
              "<head><meta charset=\"utf-8\" /></head>\n",
              "<body>\n",
              "    <div>\n",
              "            <script src=\"https://cdnjs.cloudflare.com/ajax/libs/mathjax/2.7.5/MathJax.js?config=TeX-AMS-MML_SVG\"></script><script type=\"text/javascript\">if (window.MathJax) {MathJax.Hub.Config({SVG: {font: \"STIX-Web\"}});}</script>\n",
              "                <script type=\"text/javascript\">window.PlotlyConfig = {MathJaxConfig: 'local'};</script>\n",
              "        <script src=\"https://cdn.plot.ly/plotly-latest.min.js\"></script>    \n",
              "            <div id=\"d25dcc7a-70c9-434e-bc8b-a297169ffa18\" class=\"plotly-graph-div\" style=\"height:525px; width:100%;\"></div>\n",
              "            <script type=\"text/javascript\">\n",
              "                \n",
              "                    window.PLOTLYENV=window.PLOTLYENV || {};\n",
              "                    \n",
              "                if (document.getElementById(\"d25dcc7a-70c9-434e-bc8b-a297169ffa18\")) {\n",
              "                    Plotly.newPlot(\n",
              "                        'd25dcc7a-70c9-434e-bc8b-a297169ffa18',\n",
              "                        [{\"hoverlabel\": {\"namelength\": 0}, \"hovertemplate\": \"MEDV=%{x}<br>PTRATIO=%{y}\", \"legendgroup\": \"\", \"marker\": {\"color\": \"#636efa\", \"symbol\": \"circle\"}, \"mode\": \"markers\", \"name\": \"\", \"showlegend\": false, \"type\": \"scatter\", \"x\": [24.0, 21.6, 34.7, 33.4, 36.2, 28.7, 22.9, 27.1, 16.5, 18.9, 15.0, 18.9, 21.7, 20.4, 18.2, 19.9, 23.1, 17.5, 20.2, 18.2, 13.6, 19.6, 15.2, 14.5, 15.6, 13.9, 16.6, 14.8, 18.4, 21.0, 12.7, 14.5, 13.2, 13.1, 13.5, 18.9, 20.0, 21.0, 24.7, 30.8, 34.9, 26.6, 25.3, 24.7, 21.2, 19.3, 20.0, 16.6, 14.4, 19.4, 19.7, 20.5, 25.0, 23.4, 18.9, 35.4, 24.7, 31.6, 23.3, 19.6, 18.7, 16.0, 22.2, 25.0, 33.0, 23.5, 19.4, 22.0, 17.4, 20.9, 24.2, 21.7, 22.8, 23.4, 24.1, 21.4, 20.0, 20.8, 21.2, 20.3, 28.0, 23.9, 24.8, 22.9, 23.9, 26.6, 22.5, 22.2, 23.6, 28.7, 22.6, 22.0, 22.9, 25.0, 20.6, 28.4, 21.4, 38.7, 43.8, 33.2, 27.5, 26.5, 18.6, 19.3, 20.1, 19.5, 19.5, 20.4, 19.8, 19.4, 21.7, 22.8, 18.8, 18.7, 18.5, 18.3, 21.2, 19.2, 20.4, 19.3, 22.0, 20.3, 20.5, 17.3, 18.8, 21.4, 15.7, 16.2, 18.0, 14.3, 19.2, 19.6, 23.0, 18.4, 15.6, 18.1, 17.4, 17.1, 13.3, 17.8, 14.0, 14.4, 13.4, 15.6, 11.8, 13.8, 15.6, 14.6, 17.8, 15.4, 21.5, 19.6, 15.3, 19.4, 17.0, 15.6, 13.1, 41.3, 24.3, 23.3, 27.0, 22.7, 25.0, 23.8, 23.8, 22.3, 17.4, 19.1, 23.1, 23.6, 22.6, 29.4, 23.2, 24.6, 29.9, 37.2, 39.8, 36.2, 37.9, 32.5, 26.4, 29.6, 32.0, 29.8, 34.9, 37.0, 30.5, 36.4, 31.1, 29.1, 33.3, 30.3, 34.6, 34.9, 32.9, 24.1, 42.3, 48.5, 22.6, 24.4, 22.5, 24.4, 20.0, 21.7, 19.3, 22.4, 28.1, 23.7, 25.0, 23.3, 28.7, 21.5, 23.0, 26.7, 21.7, 27.5, 30.1, 44.8, 37.6, 31.6, 46.7, 31.5, 24.3, 31.7, 41.7, 48.3, 29.0, 24.0, 25.1, 31.5, 23.7, 23.3, 22.0, 20.1, 22.2, 23.7, 17.6, 18.5, 24.3, 20.5, 24.5, 26.2, 24.4, 24.8, 29.6, 42.8, 21.9, 20.9, 44.0, 36.0, 30.1, 33.8, 43.1, 48.8, 31.0, 36.5, 22.8, 30.7, 43.5, 20.7, 21.1, 25.2, 24.4, 35.2, 32.4, 32.0, 33.2, 33.1, 29.1, 35.1, 45.4, 35.4, 46.0, 32.2, 22.0, 20.1, 23.2, 22.3, 24.8, 28.5, 37.3, 27.9, 23.9, 21.7, 28.6, 27.1, 20.3, 22.5, 29.0, 24.8, 22.0, 26.4, 33.1, 36.1, 28.4, 33.4, 28.2, 22.8, 20.3, 16.1, 22.1, 19.4, 21.6, 23.8, 16.2, 17.8, 19.8, 23.1, 21.0, 23.8, 23.1, 20.4, 18.5, 25.0, 24.6, 23.0, 22.2, 19.3, 22.6, 19.8, 17.1, 19.4, 22.2, 20.7, 21.1, 19.5, 18.5, 20.6, 19.0, 18.7, 32.7, 16.5, 23.9, 31.2, 17.5, 17.2, 23.1, 24.5, 26.6, 22.9, 24.1, 18.6, 30.1, 18.2, 20.6, 17.8, 21.7, 22.7, 22.6, 25.0, 19.9, 20.8, 16.8, 21.9, 27.5, 21.9, 23.1, 13.8, 13.8, 15.0, 13.9, 13.3, 13.1, 10.2, 10.4, 10.9, 11.3, 12.3, 8.8, 7.2, 10.5, 7.4, 10.2, 11.5, 15.1, 23.2, 9.7, 13.8, 12.7, 13.1, 12.5, 8.5, 5.0, 6.3, 5.6, 7.2, 12.1, 8.3, 8.5, 5.0, 11.9, 27.9, 17.2, 27.5, 15.0, 17.2, 17.9, 16.3, 7.0, 7.2, 7.5, 10.4, 8.8, 8.4, 16.7, 14.2, 20.8, 13.4, 11.7, 8.3, 10.2, 10.9, 11.0, 9.5, 14.5, 14.1, 16.1, 14.3, 11.7, 13.4, 9.6, 8.7, 8.4, 12.8, 10.5, 17.1, 18.4, 15.4, 10.8, 11.8, 14.9, 12.6, 14.1, 13.0, 13.4, 15.2, 16.1, 17.8, 14.9, 14.1, 12.7, 13.5, 14.9, 20.0, 16.4, 17.7, 19.5, 20.2, 21.4, 19.9, 19.0, 19.1, 19.1, 20.1, 19.9, 19.6, 23.2, 29.8, 13.8, 13.3, 16.7, 12.0, 14.6, 21.4, 23.0, 23.7, 25.0, 21.8, 20.6, 21.2, 19.1, 20.6, 15.2, 7.0, 8.1, 13.6, 20.1, 21.8, 24.5, 23.1, 19.7, 18.3, 21.2, 17.5, 16.8, 22.4, 20.6, 23.9, 22.0, 11.9], \"xaxis\": \"x\", \"y\": [15.3, 17.8, 17.8, 18.7, 18.7, 18.7, 15.2, 15.2, 15.2, 15.2, 15.2, 15.2, 15.2, 21.0, 21.0, 21.0, 21.0, 21.0, 21.0, 21.0, 21.0, 21.0, 21.0, 21.0, 21.0, 21.0, 21.0, 21.0, 21.0, 21.0, 21.0, 21.0, 21.0, 21.0, 21.0, 19.2, 19.2, 19.2, 19.2, 18.3, 18.3, 17.9, 17.9, 17.9, 17.9, 17.9, 17.9, 17.9, 17.9, 17.9, 16.8, 16.8, 16.8, 16.8, 21.1, 17.9, 17.3, 15.1, 19.7, 19.7, 19.7, 19.7, 19.7, 19.7, 18.6, 16.1, 16.1, 18.9, 18.9, 18.9, 19.2, 19.2, 19.2, 19.2, 18.7, 18.7, 18.7, 18.7, 18.7, 18.7, 19.0, 19.0, 19.0, 19.0, 18.5, 18.5, 18.5, 18.5, 17.8, 17.8, 17.8, 17.8, 18.2, 18.2, 18.2, 18.0, 18.0, 18.0, 18.0, 18.0, 20.9, 20.9, 20.9, 20.9, 20.9, 20.9, 20.9, 20.9, 20.9, 20.9, 20.9, 17.8, 17.8, 17.8, 17.8, 17.8, 17.8, 17.8, 17.8, 17.8, 19.1, 19.1, 19.1, 19.1, 19.1, 19.1, 19.1, 21.2, 21.2, 21.2, 21.2, 21.2, 21.2, 21.2, 21.2, 21.2, 21.2, 21.2, 21.2, 21.2, 21.2, 21.2, 14.7, 14.7, 14.7, 14.7, 14.7, 14.7, 14.7, 14.7, 14.7, 14.7, 14.7, 14.7, 14.7, 14.7, 14.7, 14.7, 14.7, 14.7, 14.7, 14.7, 14.7, 14.7, 14.7, 14.7, 14.7, 14.7, 16.6, 16.6, 16.6, 16.6, 16.6, 16.6, 16.6, 17.8, 17.8, 17.8, 17.8, 17.8, 17.8, 17.8, 15.2, 15.2, 15.2, 15.2, 15.2, 15.2, 15.6, 15.6, 12.6, 12.6, 12.6, 17.0, 17.0, 14.7, 14.7, 14.7, 18.6, 18.6, 18.6, 18.6, 18.6, 18.6, 18.6, 18.6, 18.6, 18.6, 18.6, 16.4, 16.4, 16.4, 16.4, 17.4, 17.4, 17.4, 17.4, 17.4, 17.4, 17.4, 17.4, 17.4, 17.4, 17.4, 17.4, 17.4, 17.4, 17.4, 17.4, 17.4, 16.6, 16.6, 16.6, 16.6, 16.6, 16.6, 19.1, 19.1, 19.1, 19.1, 19.1, 19.1, 19.1, 19.1, 19.1, 19.1, 16.4, 16.4, 15.9, 13.0, 13.0, 13.0, 13.0, 13.0, 13.0, 13.0, 13.0, 13.0, 13.0, 18.6, 18.6, 18.6, 18.6, 18.6, 17.6, 17.6, 17.6, 17.6, 17.6, 14.9, 14.9, 14.9, 14.9, 15.3, 15.3, 18.2, 16.6, 16.6, 16.6, 19.2, 19.2, 19.2, 16.0, 16.0, 16.0, 16.0, 16.0, 14.8, 14.8, 14.8, 16.1, 16.1, 16.1, 18.4, 18.4, 18.4, 18.4, 18.4, 18.4, 18.4, 18.4, 18.4, 18.4, 18.4, 18.4, 18.4, 18.4, 18.4, 18.4, 19.6, 19.6, 19.6, 19.6, 19.6, 19.6, 19.6, 19.6, 16.9, 16.9, 16.9, 16.9, 16.9, 20.2, 20.2, 20.2, 20.2, 20.2, 20.2, 20.2, 20.2, 15.5, 15.9, 17.6, 17.6, 18.8, 18.8, 17.9, 17.0, 19.7, 19.7, 18.3, 18.3, 17.0, 22.0, 22.0, 20.2, 20.2, 20.2, 20.2, 20.2, 20.2, 20.2, 20.2, 20.2, 20.2, 20.2, 20.2, 20.2, 20.2, 20.2, 20.2, 20.2, 20.2, 20.2, 20.2, 20.2, 20.2, 20.2, 20.2, 20.2, 20.2, 20.2, 20.2, 20.2, 20.2, 20.2, 20.2, 20.2, 20.2, 20.2, 20.2, 20.2, 20.2, 20.2, 20.2, 20.2, 20.2, 20.2, 20.2, 20.2, 20.2, 20.2, 20.2, 20.2, 20.2, 20.2, 20.2, 20.2, 20.2, 20.2, 20.2, 20.2, 20.2, 20.2, 20.2, 20.2, 20.2, 20.2, 20.2, 20.2, 20.2, 20.2, 20.2, 20.2, 20.2, 20.2, 20.2, 20.2, 20.2, 20.2, 20.2, 20.2, 20.2, 20.2, 20.2, 20.2, 20.2, 20.2, 20.2, 20.2, 20.2, 20.2, 20.2, 20.2, 20.2, 20.2, 20.2, 20.2, 20.2, 20.2, 20.2, 20.2, 20.2, 20.2, 20.2, 20.2, 20.2, 20.2, 20.2, 20.2, 20.2, 20.2, 20.2, 20.2, 20.2, 20.2, 20.2, 20.2, 20.2, 20.2, 20.2, 20.2, 20.2, 20.2, 20.2, 20.2, 20.2, 20.2, 20.2, 20.2, 20.2, 20.2, 20.1, 20.1, 20.1, 20.1, 20.1, 19.2, 19.2, 19.2, 19.2, 19.2, 19.2, 19.2, 19.2, 21.0, 21.0, 21.0, 21.0, 21.0], \"yaxis\": \"y\"}],\n",
              "                        {\"legend\": {\"tracegroupgap\": 0}, \"margin\": {\"t\": 60}, \"template\": {\"data\": {\"bar\": [{\"error_x\": {\"color\": \"#2a3f5f\"}, \"error_y\": {\"color\": \"#2a3f5f\"}, \"marker\": {\"line\": {\"color\": \"#E5ECF6\", \"width\": 0.5}}, \"type\": \"bar\"}], \"barpolar\": [{\"marker\": {\"line\": {\"color\": \"#E5ECF6\", \"width\": 0.5}}, \"type\": \"barpolar\"}], \"carpet\": [{\"aaxis\": {\"endlinecolor\": \"#2a3f5f\", \"gridcolor\": \"white\", \"linecolor\": \"white\", \"minorgridcolor\": \"white\", \"startlinecolor\": \"#2a3f5f\"}, \"baxis\": {\"endlinecolor\": \"#2a3f5f\", \"gridcolor\": \"white\", \"linecolor\": \"white\", \"minorgridcolor\": \"white\", \"startlinecolor\": \"#2a3f5f\"}, \"type\": \"carpet\"}], \"choropleth\": [{\"colorbar\": {\"outlinewidth\": 0, \"ticks\": \"\"}, \"type\": \"choropleth\"}], \"contour\": [{\"colorbar\": {\"outlinewidth\": 0, \"ticks\": \"\"}, \"colorscale\": [[0.0, \"#0d0887\"], [0.1111111111111111, \"#46039f\"], [0.2222222222222222, \"#7201a8\"], [0.3333333333333333, \"#9c179e\"], [0.4444444444444444, \"#bd3786\"], [0.5555555555555556, \"#d8576b\"], [0.6666666666666666, \"#ed7953\"], [0.7777777777777778, \"#fb9f3a\"], [0.8888888888888888, \"#fdca26\"], [1.0, \"#f0f921\"]], \"type\": \"contour\"}], \"contourcarpet\": [{\"colorbar\": {\"outlinewidth\": 0, \"ticks\": \"\"}, \"type\": \"contourcarpet\"}], \"heatmap\": [{\"colorbar\": {\"outlinewidth\": 0, \"ticks\": \"\"}, \"colorscale\": [[0.0, \"#0d0887\"], [0.1111111111111111, \"#46039f\"], [0.2222222222222222, \"#7201a8\"], [0.3333333333333333, \"#9c179e\"], [0.4444444444444444, \"#bd3786\"], [0.5555555555555556, \"#d8576b\"], [0.6666666666666666, \"#ed7953\"], [0.7777777777777778, \"#fb9f3a\"], [0.8888888888888888, \"#fdca26\"], [1.0, \"#f0f921\"]], \"type\": \"heatmap\"}], \"heatmapgl\": [{\"colorbar\": {\"outlinewidth\": 0, \"ticks\": \"\"}, \"colorscale\": [[0.0, \"#0d0887\"], [0.1111111111111111, \"#46039f\"], [0.2222222222222222, \"#7201a8\"], [0.3333333333333333, \"#9c179e\"], [0.4444444444444444, \"#bd3786\"], [0.5555555555555556, \"#d8576b\"], [0.6666666666666666, \"#ed7953\"], [0.7777777777777778, \"#fb9f3a\"], [0.8888888888888888, \"#fdca26\"], [1.0, \"#f0f921\"]], \"type\": \"heatmapgl\"}], \"histogram\": [{\"marker\": {\"colorbar\": {\"outlinewidth\": 0, \"ticks\": \"\"}}, \"type\": \"histogram\"}], \"histogram2d\": [{\"colorbar\": {\"outlinewidth\": 0, \"ticks\": \"\"}, \"colorscale\": [[0.0, \"#0d0887\"], [0.1111111111111111, \"#46039f\"], [0.2222222222222222, \"#7201a8\"], [0.3333333333333333, \"#9c179e\"], [0.4444444444444444, \"#bd3786\"], [0.5555555555555556, \"#d8576b\"], [0.6666666666666666, \"#ed7953\"], [0.7777777777777778, \"#fb9f3a\"], [0.8888888888888888, \"#fdca26\"], [1.0, \"#f0f921\"]], \"type\": \"histogram2d\"}], \"histogram2dcontour\": [{\"colorbar\": {\"outlinewidth\": 0, \"ticks\": \"\"}, \"colorscale\": [[0.0, \"#0d0887\"], [0.1111111111111111, \"#46039f\"], [0.2222222222222222, \"#7201a8\"], [0.3333333333333333, \"#9c179e\"], [0.4444444444444444, \"#bd3786\"], [0.5555555555555556, \"#d8576b\"], [0.6666666666666666, \"#ed7953\"], [0.7777777777777778, \"#fb9f3a\"], [0.8888888888888888, \"#fdca26\"], [1.0, \"#f0f921\"]], \"type\": \"histogram2dcontour\"}], \"mesh3d\": [{\"colorbar\": {\"outlinewidth\": 0, \"ticks\": \"\"}, \"type\": \"mesh3d\"}], \"parcoords\": [{\"line\": {\"colorbar\": {\"outlinewidth\": 0, \"ticks\": \"\"}}, \"type\": \"parcoords\"}], \"pie\": [{\"automargin\": true, \"type\": \"pie\"}], \"scatter\": [{\"marker\": {\"colorbar\": {\"outlinewidth\": 0, \"ticks\": \"\"}}, \"type\": \"scatter\"}], \"scatter3d\": [{\"line\": {\"colorbar\": {\"outlinewidth\": 0, \"ticks\": \"\"}}, \"marker\": {\"colorbar\": {\"outlinewidth\": 0, \"ticks\": \"\"}}, \"type\": \"scatter3d\"}], \"scattercarpet\": [{\"marker\": {\"colorbar\": {\"outlinewidth\": 0, \"ticks\": \"\"}}, \"type\": \"scattercarpet\"}], \"scattergeo\": [{\"marker\": {\"colorbar\": {\"outlinewidth\": 0, \"ticks\": \"\"}}, \"type\": \"scattergeo\"}], \"scattergl\": [{\"marker\": {\"colorbar\": {\"outlinewidth\": 0, \"ticks\": \"\"}}, \"type\": \"scattergl\"}], \"scattermapbox\": [{\"marker\": {\"colorbar\": {\"outlinewidth\": 0, \"ticks\": \"\"}}, \"type\": \"scattermapbox\"}], \"scatterpolar\": [{\"marker\": {\"colorbar\": {\"outlinewidth\": 0, \"ticks\": \"\"}}, \"type\": \"scatterpolar\"}], \"scatterpolargl\": [{\"marker\": {\"colorbar\": {\"outlinewidth\": 0, \"ticks\": \"\"}}, \"type\": \"scatterpolargl\"}], \"scatterternary\": [{\"marker\": {\"colorbar\": {\"outlinewidth\": 0, \"ticks\": \"\"}}, \"type\": \"scatterternary\"}], \"surface\": [{\"colorbar\": {\"outlinewidth\": 0, \"ticks\": \"\"}, \"colorscale\": [[0.0, \"#0d0887\"], [0.1111111111111111, \"#46039f\"], [0.2222222222222222, \"#7201a8\"], [0.3333333333333333, \"#9c179e\"], [0.4444444444444444, \"#bd3786\"], [0.5555555555555556, \"#d8576b\"], [0.6666666666666666, \"#ed7953\"], [0.7777777777777778, \"#fb9f3a\"], [0.8888888888888888, \"#fdca26\"], [1.0, \"#f0f921\"]], \"type\": \"surface\"}], \"table\": [{\"cells\": {\"fill\": {\"color\": \"#EBF0F8\"}, \"line\": {\"color\": \"white\"}}, \"header\": {\"fill\": {\"color\": \"#C8D4E3\"}, \"line\": {\"color\": \"white\"}}, \"type\": \"table\"}]}, \"layout\": {\"annotationdefaults\": {\"arrowcolor\": \"#2a3f5f\", \"arrowhead\": 0, \"arrowwidth\": 1}, \"coloraxis\": {\"colorbar\": {\"outlinewidth\": 0, \"ticks\": \"\"}}, \"colorscale\": {\"diverging\": [[0, \"#8e0152\"], [0.1, \"#c51b7d\"], [0.2, \"#de77ae\"], [0.3, \"#f1b6da\"], [0.4, \"#fde0ef\"], [0.5, \"#f7f7f7\"], [0.6, \"#e6f5d0\"], [0.7, \"#b8e186\"], [0.8, \"#7fbc41\"], [0.9, \"#4d9221\"], [1, \"#276419\"]], \"sequential\": [[0.0, \"#0d0887\"], [0.1111111111111111, \"#46039f\"], [0.2222222222222222, \"#7201a8\"], [0.3333333333333333, \"#9c179e\"], [0.4444444444444444, \"#bd3786\"], [0.5555555555555556, \"#d8576b\"], [0.6666666666666666, \"#ed7953\"], [0.7777777777777778, \"#fb9f3a\"], [0.8888888888888888, \"#fdca26\"], [1.0, \"#f0f921\"]], \"sequentialminus\": [[0.0, \"#0d0887\"], [0.1111111111111111, \"#46039f\"], [0.2222222222222222, \"#7201a8\"], [0.3333333333333333, \"#9c179e\"], [0.4444444444444444, \"#bd3786\"], [0.5555555555555556, \"#d8576b\"], [0.6666666666666666, \"#ed7953\"], [0.7777777777777778, \"#fb9f3a\"], [0.8888888888888888, \"#fdca26\"], [1.0, \"#f0f921\"]]}, \"colorway\": [\"#636efa\", \"#EF553B\", \"#00cc96\", \"#ab63fa\", \"#FFA15A\", \"#19d3f3\", \"#FF6692\", \"#B6E880\", \"#FF97FF\", \"#FECB52\"], \"font\": {\"color\": \"#2a3f5f\"}, \"geo\": {\"bgcolor\": \"white\", \"lakecolor\": \"white\", \"landcolor\": \"#E5ECF6\", \"showlakes\": true, \"showland\": true, \"subunitcolor\": \"white\"}, \"hoverlabel\": {\"align\": \"left\"}, \"hovermode\": \"closest\", \"mapbox\": {\"style\": \"light\"}, \"paper_bgcolor\": \"white\", \"plot_bgcolor\": \"#E5ECF6\", \"polar\": {\"angularaxis\": {\"gridcolor\": \"white\", \"linecolor\": \"white\", \"ticks\": \"\"}, \"bgcolor\": \"#E5ECF6\", \"radialaxis\": {\"gridcolor\": \"white\", \"linecolor\": \"white\", \"ticks\": \"\"}}, \"scene\": {\"xaxis\": {\"backgroundcolor\": \"#E5ECF6\", \"gridcolor\": \"white\", \"gridwidth\": 2, \"linecolor\": \"white\", \"showbackground\": true, \"ticks\": \"\", \"zerolinecolor\": \"white\"}, \"yaxis\": {\"backgroundcolor\": \"#E5ECF6\", \"gridcolor\": \"white\", \"gridwidth\": 2, \"linecolor\": \"white\", \"showbackground\": true, \"ticks\": \"\", \"zerolinecolor\": \"white\"}, \"zaxis\": {\"backgroundcolor\": \"#E5ECF6\", \"gridcolor\": \"white\", \"gridwidth\": 2, \"linecolor\": \"white\", \"showbackground\": true, \"ticks\": \"\", \"zerolinecolor\": \"white\"}}, \"shapedefaults\": {\"line\": {\"color\": \"#2a3f5f\"}}, \"ternary\": {\"aaxis\": {\"gridcolor\": \"white\", \"linecolor\": \"white\", \"ticks\": \"\"}, \"baxis\": {\"gridcolor\": \"white\", \"linecolor\": \"white\", \"ticks\": \"\"}, \"bgcolor\": \"#E5ECF6\", \"caxis\": {\"gridcolor\": \"white\", \"linecolor\": \"white\", \"ticks\": \"\"}}, \"title\": {\"x\": 0.05}, \"xaxis\": {\"automargin\": true, \"gridcolor\": \"white\", \"linecolor\": \"white\", \"ticks\": \"\", \"title\": {\"standoff\": 15}, \"zerolinecolor\": \"white\", \"zerolinewidth\": 2}, \"yaxis\": {\"automargin\": true, \"gridcolor\": \"white\", \"linecolor\": \"white\", \"ticks\": \"\", \"title\": {\"standoff\": 15}, \"zerolinecolor\": \"white\", \"zerolinewidth\": 2}}}, \"xaxis\": {\"anchor\": \"y\", \"domain\": [0.0, 1.0], \"title\": {\"text\": \"MEDV\"}}, \"yaxis\": {\"anchor\": \"x\", \"domain\": [0.0, 1.0], \"title\": {\"text\": \"PTRATIO\"}}},\n",
              "                        {\"responsive\": true}\n",
              "                    ).then(function(){\n",
              "                            \n",
              "var gd = document.getElementById('d25dcc7a-70c9-434e-bc8b-a297169ffa18');\n",
              "var x = new MutationObserver(function (mutations, observer) {{\n",
              "        var display = window.getComputedStyle(gd).display;\n",
              "        if (!display || display === 'none') {{\n",
              "            console.log([gd, 'removed!']);\n",
              "            Plotly.purge(gd);\n",
              "            observer.disconnect();\n",
              "        }}\n",
              "}});\n",
              "\n",
              "// Listen for the removal of the full notebook cells\n",
              "var notebookContainer = gd.closest('#notebook-container');\n",
              "if (notebookContainer) {{\n",
              "    x.observe(notebookContainer, {childList: true});\n",
              "}}\n",
              "\n",
              "// Listen for the clearing of the current output cell\n",
              "var outputEl = gd.closest('.output');\n",
              "if (outputEl) {{\n",
              "    x.observe(outputEl, {childList: true});\n",
              "}}\n",
              "\n",
              "                        })\n",
              "                };\n",
              "                \n",
              "            </script>\n",
              "        </div>\n",
              "</body>\n",
              "</html>"
            ]
          },
          "metadata": {
            "tags": []
          }
        }
      ]
    },
    {
      "cell_type": "markdown",
      "metadata": {
        "id": "qD1GBNfJk4OL",
        "colab_type": "text"
      },
      "source": [
        "#### Devido a perda de algumas correlações importantes, o dataset utilizado daqui pra frente será data_drop_max.\n",
        "\n",
        "#### Pode-se observar algumas correlações importantes.\n",
        "- LSTAT, RM, TAX e INDUS tem uma boa correlação com MEDV, sendo importantes para o nosso modelo de MachineLearning;\n",
        "- Entretanto ao plotar os dados no ScatterPlot pode-se ver que TAX e INDUS não apresentam uma linearidade boa em valores muito altos ou muito baixos, apenas no centro.\n",
        "- RAD e TAX tem uma correlação extremamente forte (0.91);\n",
        "- DIS, AGE e INDUS tem alta correlação com diversos parâmetros;\n",
        "- B, CHAS e CRIM apresentam correlação muito baixa com a variável alvo.\n",
        "\n",
        "Pode-se retirar RAD, TAX, AGE, INDUS e DIS para ver se diminuem essas multicolinearidades que podem prejudicar o modelo.\n",
        "\n",
        "Pode-se retirar também B, CHAS e CRIM, pois apresentam correlação muito baixa com a variável alvo.\n",
        "\n"
      ]
    },
    {
      "cell_type": "code",
      "metadata": {
        "id": "8z9p8XK4k4OM",
        "colab_type": "code",
        "colab": {
          "base_uri": "https://localhost:8080/",
          "height": 68
        },
        "outputId": "7255fe87-06c2-422d-8c14-0eb411a0543e"
      },
      "source": [
        "data_drop_max.columns"
      ],
      "execution_count": 23,
      "outputs": [
        {
          "output_type": "execute_result",
          "data": {
            "text/plain": [
              "Index(['CRIM', 'INDUS', 'CHAS', 'NOX', 'RM', 'AGE', 'DIS', 'RAD', 'TAX',\n",
              "       'PTRATIO', 'B', 'LSTAT', 'MEDV'],\n",
              "      dtype='object')"
            ]
          },
          "metadata": {
            "tags": []
          },
          "execution_count": 23
        }
      ]
    },
    {
      "cell_type": "code",
      "metadata": {
        "id": "qSVweL0Xk4OP",
        "colab_type": "code",
        "colab": {}
      },
      "source": [
        "dataML = data_drop_max[['NOX', 'RM', 'PTRATIO', 'LSTAT', 'MEDV']]"
      ],
      "execution_count": 0,
      "outputs": []
    },
    {
      "cell_type": "code",
      "metadata": {
        "id": "1LhUu9ZRk4OW",
        "colab_type": "code",
        "colab": {
          "base_uri": "https://localhost:8080/",
          "height": 499
        },
        "outputId": "33374d6b-5a80-4436-96e0-c2584e5deb8f"
      },
      "source": [
        "plt.figure(figsize=(12,8))\n",
        "sns.heatmap(dataML.corr(), annot=True)\n",
        "plt.title('Matriz de correlação de dataML')\n",
        "plt.show()"
      ],
      "execution_count": 25,
      "outputs": [
        {
          "output_type": "display_data",
          "data": {
            "image/png": "[encoded data removed]",
            "text/plain": [
              "<Figure size 864x576 with 2 Axes>"
            ]
          },
          "metadata": {
            "tags": [],
            "needs_background": "light"
          }
        }
      ]
    },
    {
      "cell_type": "code",
      "metadata": {
        "id": "ZuRG1hW8k4Oc",
        "colab_type": "code",
        "colab": {}
      },
      "source": [
        "# Exportanto dataML para um CSV\n",
        "dataML.to_csv('dataML.csv')"
      ],
      "execution_count": 0,
      "outputs": []
    },
    {
      "cell_type": "markdown",
      "metadata": {
        "id": "9_SgJ3dzk4Og",
        "colab_type": "text"
      },
      "source": [
        "## Treinar modelos de Machine Learning\n",
        "Usaremos os dados contidos em dataML para treinar os modelos de Machine Learning"
      ]
    },
    {
      "cell_type": "markdown",
      "metadata": {
        "id": "aW04qIwtk4Oh",
        "colab_type": "text"
      },
      "source": [
        "### Separando dados de Treino e Teste"
      ]
    },
    {
      "cell_type": "code",
      "metadata": {
        "id": "E4xpsoRVk4Oi",
        "colab_type": "code",
        "colab": {}
      },
      "source": [
        "from sklearn.model_selection import train_test_split\n",
        "# x columns\n",
        "xcolumns = []\n",
        "ycolumns = ['MEDV']\n",
        "for i in dataML.columns:\n",
        "    if i not in ycolumns:\n",
        "        xcolumns.append(i)\n",
        "\n",
        "#train_test_split\n",
        "x_train, x_test, y_train, y_test = train_test_split(dataML[xcolumns], dataML[ycolumns])"
      ],
      "execution_count": 0,
      "outputs": []
    },
    {
      "cell_type": "markdown",
      "metadata": {
        "id": "R4dDlSZrk4Ok",
        "colab_type": "text"
      },
      "source": [
        "### Definição de funções para ajudar na construção e avaliação dos modelos"
      ]
    },
    {
      "cell_type": "code",
      "metadata": {
        "id": "LXL_XXiwk4Ol",
        "colab_type": "code",
        "colab": {}
      },
      "source": [
        "def mlModel(modelName, modelFunction, x_train = x_train, x_test = x_test, y_train = y_train, y_test = y_test, **kwargs):\n",
        "    \"\"\"\n",
        "    -> Função para treinamento e avaliação (RMSE) de modelos de ML.\n",
        "    modelName = .str com nome do modelo\n",
        "    modelFunction = Nome do modelo utilizado\n",
        "    x_train = df contendo x para treino\n",
        "    x_test = df contendo x para teste\n",
        "    y_train = df contendo y para treino\n",
        "    x_test = df contendo y para teste\n",
        "    **kwargs = argumentos aplicados em modelFunction()\n",
        "    return array com predições\n",
        "    \"\"\"\n",
        "    model = modelFunction(**kwargs)\n",
        "    model.fit(x_train, y_train)\n",
        "    model_predict = model.predict(x_test)\n",
        "    RMSE = math.sqrt(mse(y_test, model_predict))\n",
        "    print(f'O RMSE do meu modelo {modelName} foi {RMSE}.')\n",
        "    return model_predict\n",
        "\n",
        "def rmseDF(y_test = y_test, **predictions):\n",
        "    \"\"\"\n",
        "    -> Função para retornar um dataframe com o nome dos modelos treinados e o seu RMSE.\n",
        "    y_test = dataframe com os valores reais\n",
        "    **predictions = valores preditos nos modelos\n",
        "    return DataFrame\n",
        "    \"\"\"\n",
        "    df = pd.DataFrame()\n",
        "    modelList = []\n",
        "    rmseList = []\n",
        "    for i in predictions:\n",
        "        RMSE = round(math.sqrt(mse(y_test, predictions[i])), 3)\n",
        "        modelList.append(i)\n",
        "        rmseList.append(RMSE)\n",
        "    df['Modelo'] = modelList\n",
        "    df['RMSE'] = rmseList\n",
        "    return df\n",
        "\n",
        "def predictDF(y_test=y_test, **predictions):\n",
        "    \"\"\"\n",
        "    -> Função que retorna um DataFrame com os valores reais e os valores predictos pelos modelos de Machine Learning.\n",
        "    y_test = dataframe com os valores reais\n",
        "    **predictions = valores preditos nos modelos\n",
        "    return DataFrame\n",
        "    \"\"\"\n",
        "    df = pd.DataFrame()\n",
        "    for c in y_test.columns:\n",
        "        df[c] = y_test[c]\n",
        "    for m in predictions:\n",
        "        df[m] = predictions[m]\n",
        "    return df"
      ],
      "execution_count": 0,
      "outputs": []
    },
    {
      "cell_type": "markdown",
      "metadata": {
        "id": "lWkpWnetk4Op",
        "colab_type": "text"
      },
      "source": [
        "### Baseline\n",
        "Agora que já temos os datasets de treino e teste, podemos trabalhar no Baseline usando o modelo DummyRegressor da biblioteca sklearn."
      ]
    },
    {
      "cell_type": "code",
      "metadata": {
        "id": "guUwksoXk4Oq",
        "colab_type": "code",
        "colab": {
          "base_uri": "https://localhost:8080/",
          "height": 34
        },
        "outputId": "891b3704-90b4-4069-de4a-cdcf09fb0ef6"
      },
      "source": [
        "from sklearn.dummy import DummyRegressor\n",
        "models = {} # Dicionário que será usado para guardar os modelos\n",
        "\n",
        "baseline = mlModel('baseline', DummyRegressor)\n",
        "models['Baseline'] = baseline"
      ],
      "execution_count": 35,
      "outputs": [
        {
          "output_type": "stream",
          "text": [
            "O RMSE do meu modelo baseline foi 8.202899121332548.\n"
          ],
          "name": "stdout"
        }
      ]
    },
    {
      "cell_type": "code",
      "metadata": {
        "id": "l4Xa2jxwk4Ot",
        "colab_type": "code",
        "colab": {
          "base_uri": "https://localhost:8080/",
          "height": 34
        },
        "outputId": "8dd860ba-702e-45d3-81b4-18c42dcb6fc7"
      },
      "source": [
        "from sklearn.linear_model import LinearRegression\n",
        "\n",
        "linreg = mlModel('LinReg', LinearRegression)\n",
        "models['Linear Regression'] = linreg"
      ],
      "execution_count": 41,
      "outputs": [
        {
          "output_type": "stream",
          "text": [
            "O RMSE do meu modelo LinReg foi 4.274802470201529.\n"
          ],
          "name": "stdout"
        }
      ]
    },
    {
      "cell_type": "code",
      "metadata": {
        "id": "2Gj9EKNElcT-",
        "colab_type": "code",
        "colab": {
          "base_uri": "https://localhost:8080/",
          "height": 102
        },
        "outputId": "46cfea31-1e83-4eaf-f0b1-7e3268e14fbd"
      },
      "source": [
        "from sklearn.svm import LinearSVR\n",
        "\n",
        "linearsvr = mlModel('LinearSVR', LinearSVR, y_train = np.ravel(y_train), y_test = np.ravel(y_test))\n",
        "models['LinearSVR'] = linearsvr"
      ],
      "execution_count": 63,
      "outputs": [
        {
          "output_type": "stream",
          "text": [
            "O RMSE do meu modelo LinearSVR foi 4.44930074311545.\n"
          ],
          "name": "stdout"
        },
        {
          "output_type": "stream",
          "text": [
            "/usr/local/lib/python3.6/dist-packages/sklearn/svm/_base.py:947: ConvergenceWarning:\n",
            "\n",
            "Liblinear failed to converge, increase the number of iterations.\n",
            "\n"
          ],
          "name": "stderr"
        }
      ]
    },
    {
      "cell_type": "code",
      "metadata": {
        "id": "Nxr0Wvrimg8f",
        "colab_type": "code",
        "colab": {
          "base_uri": "https://localhost:8080/",
          "height": 34
        },
        "outputId": "b61e092b-302a-46ef-b727-f8f665063697"
      },
      "source": [
        "from sklearn.svm import SVR\n",
        "\n",
        "svr = mlModel('SVR', SVR, y_train = np.ravel(y_train), y_test = np.ravel(y_test))\n",
        "models['SVR'] = svr"
      ],
      "execution_count": 62,
      "outputs": [
        {
          "output_type": "stream",
          "text": [
            "O RMSE do meu modelo SVR foi 4.736149566181618.\n"
          ],
          "name": "stdout"
        }
      ]
    },
    {
      "cell_type": "code",
      "metadata": {
        "id": "YLKig19Dmv9c",
        "colab_type": "code",
        "colab": {
          "base_uri": "https://localhost:8080/",
          "height": 34
        },
        "outputId": "d5c7ecd5-8d23-4e4c-9762-65b2be702ffe"
      },
      "source": [
        "from sklearn.neighbors import KNeighborsRegressor\n",
        "\n",
        "knr = mlModel('KNR', KNeighborsRegressor)\n",
        "models['KNeighborsReg'] = knr"
      ],
      "execution_count": 49,
      "outputs": [
        {
          "output_type": "stream",
          "text": [
            "O RMSE do meu modelo KNR foi 3.382348729334287.\n"
          ],
          "name": "stdout"
        }
      ]
    },
    {
      "cell_type": "code",
      "metadata": {
        "id": "Bzm3vXu6oEHQ",
        "colab_type": "code",
        "colab": {
          "base_uri": "https://localhost:8080/",
          "height": 34
        },
        "outputId": "f0b52e94-fd96-4dff-ea55-8af74e8b032b"
      },
      "source": [
        "from sklearn.cross_decomposition import PLSRegression\n",
        "\n",
        "plsr = mlModel('PLSR', PLSRegression)\n",
        "models['PLSReg'] = plsr"
      ],
      "execution_count": 52,
      "outputs": [
        {
          "output_type": "stream",
          "text": [
            "O RMSE do meu modelo PLSR foi 4.256963798374514.\n"
          ],
          "name": "stdout"
        }
      ]
    },
    {
      "cell_type": "code",
      "metadata": {
        "id": "AtKs7IpXoUMx",
        "colab_type": "code",
        "colab": {
          "base_uri": "https://localhost:8080/",
          "height": 34
        },
        "outputId": "c258e5c0-0aa2-45bc-860a-e48fb41f191e"
      },
      "source": [
        "from sklearn.tree import DecisionTreeRegressor\n",
        "\n",
        "dtr = mlModel('DecTreeReg', DecisionTreeRegressor)\n",
        "models['DecTreeReg'] = dtr"
      ],
      "execution_count": 53,
      "outputs": [
        {
          "output_type": "stream",
          "text": [
            "O RMSE do meu modelo DecTreeReg foi 4.182687897606094.\n"
          ],
          "name": "stdout"
        }
      ]
    },
    {
      "cell_type": "code",
      "metadata": {
        "id": "PGOLKZgCoULd",
        "colab_type": "code",
        "colab": {
          "base_uri": "https://localhost:8080/",
          "height": 34
        },
        "outputId": "e4d47817-bf79-49f3-cc7a-c5f1bcfb8dfe"
      },
      "source": [
        "from sklearn.ensemble import RandomForestRegressor\n",
        "\n",
        "rfr = mlModel('RandomForest', RandomForestRegressor, y_train = np.ravel(y_train), y_test = np.ravel(y_test))\n",
        "models['RandomForest'] = rfr"
      ],
      "execution_count": 61,
      "outputs": [
        {
          "output_type": "stream",
          "text": [
            "O RMSE do meu modelo RandomForest foi 2.8964507745568353.\n"
          ],
          "name": "stdout"
        }
      ]
    },
    {
      "cell_type": "code",
      "metadata": {
        "id": "34JzN2qto3bA",
        "colab_type": "code",
        "colab": {
          "base_uri": "https://localhost:8080/",
          "height": 34
        },
        "outputId": "d22a4f6c-525d-41db-acc1-ca6af0acb271"
      },
      "source": [
        "from sklearn.ensemble import VotingRegressor\n",
        "\n",
        "vreg = mlModel('VotingReg', VotingRegressor, y_train = np.ravel(y_train), y_test = np.ravel(y_test), estimators=[('ln', LinearRegression()), ('rf', RandomForestRegressor())])\n",
        "models['VotingReg'] = vreg"
      ],
      "execution_count": 64,
      "outputs": [
        {
          "output_type": "stream",
          "text": [
            "O RMSE do meu modelo VotingReg foi 3.3004575711539927.\n"
          ],
          "name": "stdout"
        }
      ]
    },
    {
      "cell_type": "code",
      "metadata": {
        "id": "qvVzxsn3rJSY",
        "colab_type": "code",
        "colab": {
          "base_uri": "https://localhost:8080/",
          "height": 34
        },
        "outputId": "7d508e8c-3b6d-4f7c-d659-20752c36280d"
      },
      "source": [
        "from sklearn.neural_network import MLPRegressor\n",
        "\n",
        "mlpr = mlModel('MLPReg', MLPRegressor, y_train = np.ravel(y_train), y_test = np.ravel(y_test), max_iter=1000)\n",
        "models['MLPReg'] = mlpr"
      ],
      "execution_count": 72,
      "outputs": [
        {
          "output_type": "stream",
          "text": [
            "O RMSE do meu modelo MLPReg foi 3.5402453349816607.\n"
          ],
          "name": "stdout"
        }
      ]
    },
    {
      "cell_type": "code",
      "metadata": {
        "id": "d3XQ4ocdk4Oz",
        "colab_type": "code",
        "colab": {
          "base_uri": "https://localhost:8080/",
          "height": 359
        },
        "outputId": "fea9c89f-e481-4e1e-9907-cb814f19e09d"
      },
      "source": [
        "rmsedf = rmseDF(**models)\n",
        "rmsedf"
      ],
      "execution_count": 73,
      "outputs": [
        {
          "output_type": "execute_result",
          "data": {
            "text/html": [
              "<div>\n",
              "<style scoped>\n",
              "    .dataframe tbody tr th:only-of-type {\n",
              "        vertical-align: middle;\n",
              "    }\n",
              "\n",
              "    .dataframe tbody tr th {\n",
              "        vertical-align: top;\n",
              "    }\n",
              "\n",
              "    .dataframe thead th {\n",
              "        text-align: right;\n",
              "    }\n",
              "</style>\n",
              "<table border=\"1\" class=\"dataframe\">\n",
              "  <thead>\n",
              "    <tr style=\"text-align: right;\">\n",
              "      <th></th>\n",
              "      <th>Modelo</th>\n",
              "      <th>RMSE</th>\n",
              "    </tr>\n",
              "  </thead>\n",
              "  <tbody>\n",
              "    <tr>\n",
              "      <th>0</th>\n",
              "      <td>Baseline</td>\n",
              "      <td>8.203</td>\n",
              "    </tr>\n",
              "    <tr>\n",
              "      <th>1</th>\n",
              "      <td>LinearSVR</td>\n",
              "      <td>4.449</td>\n",
              "    </tr>\n",
              "    <tr>\n",
              "      <th>2</th>\n",
              "      <td>Linear Regression</td>\n",
              "      <td>4.275</td>\n",
              "    </tr>\n",
              "    <tr>\n",
              "      <th>3</th>\n",
              "      <td>SVR</td>\n",
              "      <td>4.736</td>\n",
              "    </tr>\n",
              "    <tr>\n",
              "      <th>4</th>\n",
              "      <td>KNeighborsReg</td>\n",
              "      <td>3.382</td>\n",
              "    </tr>\n",
              "    <tr>\n",
              "      <th>5</th>\n",
              "      <td>PLSReg</td>\n",
              "      <td>4.257</td>\n",
              "    </tr>\n",
              "    <tr>\n",
              "      <th>6</th>\n",
              "      <td>DecTreeReg</td>\n",
              "      <td>4.183</td>\n",
              "    </tr>\n",
              "    <tr>\n",
              "      <th>7</th>\n",
              "      <td>RandomForest</td>\n",
              "      <td>2.896</td>\n",
              "    </tr>\n",
              "    <tr>\n",
              "      <th>8</th>\n",
              "      <td>VotingReg</td>\n",
              "      <td>3.300</td>\n",
              "    </tr>\n",
              "    <tr>\n",
              "      <th>9</th>\n",
              "      <td>MLPReg</td>\n",
              "      <td>3.540</td>\n",
              "    </tr>\n",
              "  </tbody>\n",
              "</table>\n",
              "</div>"
            ],
            "text/plain": [
              "              Modelo   RMSE\n",
              "0           Baseline  8.203\n",
              "1          LinearSVR  4.449\n",
              "2  Linear Regression  4.275\n",
              "3                SVR  4.736\n",
              "4      KNeighborsReg  3.382\n",
              "5             PLSReg  4.257\n",
              "6         DecTreeReg  4.183\n",
              "7       RandomForest  2.896\n",
              "8          VotingReg  3.300\n",
              "9             MLPReg  3.540"
            ]
          },
          "metadata": {
            "tags": []
          },
          "execution_count": 73
        }
      ]
    },
    {
      "cell_type": "code",
      "metadata": {
        "id": "GMD6ylgok4O2",
        "colab_type": "code",
        "colab": {
          "base_uri": "https://localhost:8080/",
          "height": 419
        },
        "outputId": "a8bcf624-ec93-4af2-e2c5-e686115d5354"
      },
      "source": [
        "predDF"
      ],
      "execution_count": 102,
      "outputs": [
        {
          "output_type": "execute_result",
          "data": {
            "text/html": [
              "<div>\n",
              "<style scoped>\n",
              "    .dataframe tbody tr th:only-of-type {\n",
              "        vertical-align: middle;\n",
              "    }\n",
              "\n",
              "    .dataframe tbody tr th {\n",
              "        vertical-align: top;\n",
              "    }\n",
              "\n",
              "    .dataframe thead th {\n",
              "        text-align: right;\n",
              "    }\n",
              "</style>\n",
              "<table border=\"1\" class=\"dataframe\">\n",
              "  <thead>\n",
              "    <tr style=\"text-align: right;\">\n",
              "      <th></th>\n",
              "      <th>MEDV</th>\n",
              "      <th>Baseline</th>\n",
              "      <th>LinearSVR</th>\n",
              "      <th>Linear Regression</th>\n",
              "      <th>SVR</th>\n",
              "      <th>KNeighborsReg</th>\n",
              "      <th>PLSReg</th>\n",
              "      <th>DecTreeReg</th>\n",
              "      <th>RandomForest</th>\n",
              "      <th>VotingReg</th>\n",
              "      <th>MLPReg</th>\n",
              "    </tr>\n",
              "  </thead>\n",
              "  <tbody>\n",
              "    <tr>\n",
              "      <th>32</th>\n",
              "      <td>13.2</td>\n",
              "      <td>21.681744</td>\n",
              "      <td>11.442577</td>\n",
              "      <td>11.689565</td>\n",
              "      <td>11.557578</td>\n",
              "      <td>8.74</td>\n",
              "      <td>12.258519</td>\n",
              "      <td>19.1</td>\n",
              "      <td>15.207</td>\n",
              "      <td>13.100783</td>\n",
              "      <td>12.619515</td>\n",
              "    </tr>\n",
              "    <tr>\n",
              "      <th>410</th>\n",
              "      <td>15.0</td>\n",
              "      <td>21.681744</td>\n",
              "      <td>18.378477</td>\n",
              "      <td>19.173122</td>\n",
              "      <td>21.440440</td>\n",
              "      <td>19.80</td>\n",
              "      <td>18.754538</td>\n",
              "      <td>18.2</td>\n",
              "      <td>20.166</td>\n",
              "      <td>19.731061</td>\n",
              "      <td>19.439785</td>\n",
              "    </tr>\n",
              "    <tr>\n",
              "      <th>247</th>\n",
              "      <td>20.5</td>\n",
              "      <td>21.681744</td>\n",
              "      <td>22.022425</td>\n",
              "      <td>23.267208</td>\n",
              "      <td>22.264990</td>\n",
              "      <td>21.84</td>\n",
              "      <td>23.300078</td>\n",
              "      <td>20.8</td>\n",
              "      <td>21.863</td>\n",
              "      <td>22.568604</td>\n",
              "      <td>21.363433</td>\n",
              "    </tr>\n",
              "    <tr>\n",
              "      <th>104</th>\n",
              "      <td>20.1</td>\n",
              "      <td>21.681744</td>\n",
              "      <td>19.462198</td>\n",
              "      <td>19.659870</td>\n",
              "      <td>19.543503</td>\n",
              "      <td>20.26</td>\n",
              "      <td>19.515456</td>\n",
              "      <td>19.6</td>\n",
              "      <td>20.841</td>\n",
              "      <td>20.192435</td>\n",
              "      <td>19.886878</td>\n",
              "    </tr>\n",
              "    <tr>\n",
              "      <th>6</th>\n",
              "      <td>22.9</td>\n",
              "      <td>21.681744</td>\n",
              "      <td>22.092249</td>\n",
              "      <td>24.524854</td>\n",
              "      <td>22.493246</td>\n",
              "      <td>20.82</td>\n",
              "      <td>24.751775</td>\n",
              "      <td>18.9</td>\n",
              "      <td>19.908</td>\n",
              "      <td>22.258927</td>\n",
              "      <td>22.043595</td>\n",
              "    </tr>\n",
              "    <tr>\n",
              "      <th>...</th>\n",
              "      <td>...</td>\n",
              "      <td>...</td>\n",
              "      <td>...</td>\n",
              "      <td>...</td>\n",
              "      <td>...</td>\n",
              "      <td>...</td>\n",
              "      <td>...</td>\n",
              "      <td>...</td>\n",
              "      <td>...</td>\n",
              "      <td>...</td>\n",
              "      <td>...</td>\n",
              "    </tr>\n",
              "    <tr>\n",
              "      <th>176</th>\n",
              "      <td>23.2</td>\n",
              "      <td>21.681744</td>\n",
              "      <td>22.291237</td>\n",
              "      <td>24.336345</td>\n",
              "      <td>23.660291</td>\n",
              "      <td>21.44</td>\n",
              "      <td>24.370142</td>\n",
              "      <td>24.0</td>\n",
              "      <td>21.942</td>\n",
              "      <td>22.872172</td>\n",
              "      <td>22.119623</td>\n",
              "    </tr>\n",
              "    <tr>\n",
              "      <th>127</th>\n",
              "      <td>16.2</td>\n",
              "      <td>21.681744</td>\n",
              "      <td>14.264813</td>\n",
              "      <td>14.579934</td>\n",
              "      <td>15.783800</td>\n",
              "      <td>16.30</td>\n",
              "      <td>14.397432</td>\n",
              "      <td>15.6</td>\n",
              "      <td>15.305</td>\n",
              "      <td>14.881967</td>\n",
              "      <td>15.319630</td>\n",
              "    </tr>\n",
              "    <tr>\n",
              "      <th>133</th>\n",
              "      <td>18.4</td>\n",
              "      <td>21.681744</td>\n",
              "      <td>15.945310</td>\n",
              "      <td>16.052039</td>\n",
              "      <td>17.301700</td>\n",
              "      <td>18.18</td>\n",
              "      <td>15.782907</td>\n",
              "      <td>15.6</td>\n",
              "      <td>16.718</td>\n",
              "      <td>16.313019</td>\n",
              "      <td>16.997590</td>\n",
              "    </tr>\n",
              "    <tr>\n",
              "      <th>423</th>\n",
              "      <td>13.4</td>\n",
              "      <td>21.681744</td>\n",
              "      <td>14.619340</td>\n",
              "      <td>14.492587</td>\n",
              "      <td>12.813267</td>\n",
              "      <td>11.12</td>\n",
              "      <td>14.790450</td>\n",
              "      <td>12.0</td>\n",
              "      <td>12.727</td>\n",
              "      <td>13.662293</td>\n",
              "      <td>13.534821</td>\n",
              "    </tr>\n",
              "    <tr>\n",
              "      <th>328</th>\n",
              "      <td>19.3</td>\n",
              "      <td>21.681744</td>\n",
              "      <td>21.371002</td>\n",
              "      <td>23.878097</td>\n",
              "      <td>23.538321</td>\n",
              "      <td>21.64</td>\n",
              "      <td>23.939355</td>\n",
              "      <td>21.1</td>\n",
              "      <td>21.227</td>\n",
              "      <td>22.574048</td>\n",
              "      <td>21.027336</td>\n",
              "    </tr>\n",
              "  </tbody>\n",
              "</table>\n",
              "<p>123 rows × 11 columns</p>\n",
              "</div>"
            ],
            "text/plain": [
              "     MEDV   Baseline  LinearSVR  ...  RandomForest  VotingReg     MLPReg\n",
              "32   13.2  21.681744  11.442577  ...        15.207  13.100783  12.619515\n",
              "410  15.0  21.681744  18.378477  ...        20.166  19.731061  19.439785\n",
              "247  20.5  21.681744  22.022425  ...        21.863  22.568604  21.363433\n",
              "104  20.1  21.681744  19.462198  ...        20.841  20.192435  19.886878\n",
              "6    22.9  21.681744  22.092249  ...        19.908  22.258927  22.043595\n",
              "..    ...        ...        ...  ...           ...        ...        ...\n",
              "176  23.2  21.681744  22.291237  ...        21.942  22.872172  22.119623\n",
              "127  16.2  21.681744  14.264813  ...        15.305  14.881967  15.319630\n",
              "133  18.4  21.681744  15.945310  ...        16.718  16.313019  16.997590\n",
              "423  13.4  21.681744  14.619340  ...        12.727  13.662293  13.534821\n",
              "328  19.3  21.681744  21.371002  ...        21.227  22.574048  21.027336\n",
              "\n",
              "[123 rows x 11 columns]"
            ]
          },
          "metadata": {
            "tags": []
          },
          "execution_count": 102
        }
      ]
    },
    {
      "cell_type": "code",
      "metadata": {
        "id": "oonFw-8st-YJ",
        "colab_type": "code",
        "colab": {
          "base_uri": "https://localhost:8080/",
          "height": 542
        },
        "outputId": "e3e051d4-d611-439c-f8c0-7abbd18a4a75"
      },
      "source": [
        "fig = pgo.Figure()\n",
        "for c in predDF.columns:\n",
        "  fig.add_trace(pgo.Scatter(x=sorted(predDF.index), y=predDF[c], mode='lines+markers', name=c))\n",
        "fig.show()"
      ],
      "execution_count": 101,
      "outputs": [
        {
          "output_type": "display_data",
          "data": {
            "text/html": [
              "<html>\n",
              "<head><meta charset=\"utf-8\" /></head>\n",
              "<body>\n",
              "    <div>\n",
              "            <script src=\"https://cdnjs.cloudflare.com/ajax/libs/mathjax/2.7.5/MathJax.js?config=TeX-AMS-MML_SVG\"></script><script type=\"text/javascript\">if (window.MathJax) {MathJax.Hub.Config({SVG: {font: \"STIX-Web\"}});}</script>\n",
              "                <script type=\"text/javascript\">window.PlotlyConfig = {MathJaxConfig: 'local'};</script>\n",
              "        <script src=\"https://cdn.plot.ly/plotly-latest.min.js\"></script>    \n",
              "            <div id=\"87049d8f-441e-4436-a899-1409fbf2d4f5\" class=\"plotly-graph-div\" style=\"height:525px; width:100%;\"></div>\n",
              "            <script type=\"text/javascript\">\n",
              "                \n",
              "                    window.PLOTLYENV=window.PLOTLYENV || {};\n",
              "                    \n",
              "                if (document.getElementById(\"87049d8f-441e-4436-a899-1409fbf2d4f5\")) {\n",
              "                    Plotly.newPlot(\n",
              "                        '87049d8f-441e-4436-a899-1409fbf2d4f5',\n",
              "                        [{\"mode\": \"lines+markers\", \"name\": \"MEDV\", \"type\": \"scatter\", \"x\": [3, 6, 8, 25, 26, 28, 30, 31, 32, 33, 35, 36, 37, 39, 44, 47, 48, 75, 80, 85, 92, 99, 104, 105, 107, 114, 119, 120, 124, 127, 133, 141, 144, 154, 155, 156, 158, 170, 176, 184, 185, 189, 196, 198, 199, 201, 202, 208, 213, 215, 216, 230, 233, 239, 240, 243, 247, 249, 250, 253, 254, 258, 265, 268, 275, 278, 279, 282, 284, 285, 286, 290, 301, 303, 307, 320, 321, 328, 330, 335, 344, 347, 348, 351, 352, 360, 374, 379, 380, 383, 388, 394, 395, 396, 401, 408, 410, 415, 418, 420, 421, 423, 429, 430, 431, 432, 435, 438, 445, 446, 453, 454, 459, 460, 462, 469, 471, 473, 482, 483, 493, 500, 502], \"y\": [13.2, 15.0, 20.5, 20.1, 22.9, 25.0, 29.6, 20.0, 10.2, 21.8, 17.0, 19.5, 16.5, 22.0, 23.1, 19.6, 23.7, 11.8, 33.1, 24.4, 26.4, 20.6, 8.4, 13.9, 14.9, 10.4, 25.0, 48.3, 9.5, 13.8, 16.7, 28.1, 15.6, 20.1, 13.1, 16.6, 11.8, 18.5, 34.9, 22.8, 14.2, 12.7, 32.0, 20.0, 14.4, 17.2, 12.5, 20.1, 26.2, 21.1, 33.2, 36.0, 12.3, 18.8, 22.0, 21.2, 23.3, 21.9, 29.8, 29.1, 33.3, 20.4, 24.5, 12.7, 16.8, 18.9, 13.4, 23.1, 16.4, 19.3, 14.9, 28.5, 42.3, 8.8, 28.2, 35.1, 24.3, 22.0, 14.5, 24.4, 18.4, 23.8, 21.0, 24.1, 28.0, 23.3, 16.6, 21.4, 22.0, 22.9, 14.4, 34.9, 7.2, 33.4, 34.6, 10.2, 42.8, 26.6, 18.6, 24.1, 17.8, 19.5, 13.1, 30.8, 43.5, 21.8, 31.2, 24.3, 25.0, 32.2, 13.1, 17.4, 7.2, 46.0, 16.1, 19.8, 14.5, 14.1, 23.2, 16.2, 18.4, 13.4, 19.3]}, {\"mode\": \"lines+markers\", \"name\": \"Baseline\", \"type\": \"scatter\", \"x\": [3, 6, 8, 25, 26, 28, 30, 31, 32, 33, 35, 36, 37, 39, 44, 47, 48, 75, 80, 85, 92, 99, 104, 105, 107, 114, 119, 120, 124, 127, 133, 141, 144, 154, 155, 156, 158, 170, 176, 184, 185, 189, 196, 198, 199, 201, 202, 208, 213, 215, 216, 230, 233, 239, 240, 243, 247, 249, 250, 253, 254, 258, 265, 268, 275, 278, 279, 282, 284, 285, 286, 290, 301, 303, 307, 320, 321, 328, 330, 335, 344, 347, 348, 351, 352, 360, 374, 379, 380, 383, 388, 394, 395, 396, 401, 408, 410, 415, 418, 420, 421, 423, 429, 430, 431, 432, 435, 438, 445, 446, 453, 454, 459, 460, 462, 469, 471, 473, 482, 483, 493, 500, 502], \"y\": [21.68174386920981, 21.68174386920981, 21.68174386920981, 21.68174386920981, 21.68174386920981, 21.68174386920981, 21.68174386920981, 21.68174386920981, 21.68174386920981, 21.68174386920981, 21.68174386920981, 21.68174386920981, 21.68174386920981, 21.68174386920981, 21.68174386920981, 21.68174386920981, 21.68174386920981, 21.68174386920981, 21.68174386920981, 21.68174386920981, 21.68174386920981, 21.68174386920981, 21.68174386920981, 21.68174386920981, 21.68174386920981, 21.68174386920981, 21.68174386920981, 21.68174386920981, 21.68174386920981, 21.68174386920981, 21.68174386920981, 21.68174386920981, 21.68174386920981, 21.68174386920981, 21.68174386920981, 21.68174386920981, 21.68174386920981, 21.68174386920981, 21.68174386920981, 21.68174386920981, 21.68174386920981, 21.68174386920981, 21.68174386920981, 21.68174386920981, 21.68174386920981, 21.68174386920981, 21.68174386920981, 21.68174386920981, 21.68174386920981, 21.68174386920981, 21.68174386920981, 21.68174386920981, 21.68174386920981, 21.68174386920981, 21.68174386920981, 21.68174386920981, 21.68174386920981, 21.68174386920981, 21.68174386920981, 21.68174386920981, 21.68174386920981, 21.68174386920981, 21.68174386920981, 21.68174386920981, 21.68174386920981, 21.68174386920981, 21.68174386920981, 21.68174386920981, 21.68174386920981, 21.68174386920981, 21.68174386920981, 21.68174386920981, 21.68174386920981, 21.68174386920981, 21.68174386920981, 21.68174386920981, 21.68174386920981, 21.68174386920981, 21.68174386920981, 21.68174386920981, 21.68174386920981, 21.68174386920981, 21.68174386920981, 21.68174386920981, 21.68174386920981, 21.68174386920981, 21.68174386920981, 21.68174386920981, 21.68174386920981, 21.68174386920981, 21.68174386920981, 21.68174386920981, 21.68174386920981, 21.68174386920981, 21.68174386920981, 21.68174386920981, 21.68174386920981, 21.68174386920981, 21.68174386920981, 21.68174386920981, 21.68174386920981, 21.68174386920981, 21.68174386920981, 21.68174386920981, 21.68174386920981, 21.68174386920981, 21.68174386920981, 21.68174386920981, 21.68174386920981, 21.68174386920981, 21.68174386920981, 21.68174386920981, 21.68174386920981, 21.68174386920981, 21.68174386920981, 21.68174386920981, 21.68174386920981, 21.68174386920981, 21.68174386920981, 21.68174386920981, 21.68174386920981, 21.68174386920981, 21.68174386920981]}, {\"mode\": \"lines+markers\", \"name\": \"LinearSVR\", \"type\": \"scatter\", \"x\": [3, 6, 8, 25, 26, 28, 30, 31, 32, 33, 35, 36, 37, 39, 44, 47, 48, 75, 80, 85, 92, 99, 104, 105, 107, 114, 119, 120, 124, 127, 133, 141, 144, 154, 155, 156, 158, 170, 176, 184, 185, 189, 196, 198, 199, 201, 202, 208, 213, 215, 216, 230, 233, 239, 240, 243, 247, 249, 250, 253, 254, 258, 265, 268, 275, 278, 279, 282, 284, 285, 286, 290, 301, 303, 307, 320, 321, 328, 330, 335, 344, 347, 348, 351, 352, 360, 374, 379, 380, 383, 388, 394, 395, 396, 401, 408, 410, 415, 418, 420, 421, 423, 429, 430, 431, 432, 435, 438, 445, 446, 453, 454, 459, 460, 462, 469, 471, 473, 482, 483, 493, 500, 502], \"y\": [11.442577083721469, 18.378476895454902, 22.022425078590246, 19.462197593471867, 22.092248697353778, 27.33755207721265, 21.020830099587187, 18.06033388995313, 4.25536511016143, 18.37921445081769, 21.342182150484053, 15.845487867969664, 12.30020498176118, 26.922634841233183, 26.09282853777415, 20.00364868029166, 26.709189742539664, 8.131872025790017, 30.54820238857899, 25.37029315775878, 17.500127757981616, 20.45329330976767, 8.786517131675659, 14.285307876033807, 20.043550908962064, 22.14528750848079, 22.792138645494344, 37.28922384250137, 15.764285732000305, -3.154980450904977, 19.812821012752902, 23.43275839198569, 21.51800278843091, 16.133945089654194, 14.073504919992276, 16.25536395638169, 16.162463226572488, 22.677897707886917, 32.044116317786994, 21.527204510014627, 17.186182829988336, 12.297152494927486, 29.66467937369345, 19.084916340076653, 9.015054586891981, 10.499146657634332, 17.930416078233364, 21.477781164791505, 26.413452743613277, 21.03658076291244, 31.25856403607221, 32.88844365355938, 10.570870494783108, 16.55277015707668, 17.89480439959651, 22.103380246674707, 26.988720286916305, 24.653737297223177, 24.717727239907077, 25.695212144490203, 34.88366643443975, 18.4677137451569, 27.492717274405596, 16.259906735560865, 18.746709204264675, 20.365709938497336, 17.449358088898045, 23.895130052232094, 20.88248740923711, 18.295133645126647, 18.171014620494525, 28.609271435057575, 35.83005965409729, 14.83169709718977, 27.117842479887766, 30.30977433148748, 25.188975153375228, 26.613221636253858, 18.51485639685868, 19.349821535927916, 21.054054710273093, 24.039661217526383, 20.283062265079163, 25.61886921851219, 27.08758766173413, 20.11480553533117, 17.862353813864477, 23.134067871234162, 26.276891709643056, 24.63986102635833, 2.907705186524273, 30.12331099922348, 17.161007196739142, 29.80355772892483, 33.70591652225295, 15.872339085889008, 36.59551018408955, 26.266430200433003, 21.612631315779264, 26.61207960973348, 24.727012960414616, 19.727155613710366, 19.28733531178901, 27.184348787253835, 35.80555198347909, 17.912027263448632, 29.011373059445432, 20.906501554716836, 22.282680450792956, 30.415547968993163, 15.96598621077353, 20.615739185821536, 13.917067386948732, 35.90387449114439, 21.411409704067975, 23.34189914911502, 18.53219405123523, 20.433932230285333, 22.29123728212392, 14.26481263519418, 15.945309632504207, 14.619340140142917, 21.37100152001044]}, {\"mode\": \"lines+markers\", \"name\": \"Linear Regression\", \"type\": \"scatter\", \"x\": [3, 6, 8, 25, 26, 28, 30, 31, 32, 33, 35, 36, 37, 39, 44, 47, 48, 75, 80, 85, 92, 99, 104, 105, 107, 114, 119, 120, 124, 127, 133, 141, 144, 154, 155, 156, 158, 170, 176, 184, 185, 189, 196, 198, 199, 201, 202, 208, 213, 215, 216, 230, 233, 239, 240, 243, 247, 249, 250, 253, 254, 258, 265, 268, 275, 278, 279, 282, 284, 285, 286, 290, 301, 303, 307, 320, 321, 328, 330, 335, 344, 347, 348, 351, 352, 360, 374, 379, 380, 383, 388, 394, 395, 396, 401, 408, 410, 415, 418, 420, 421, 423, 429, 430, 431, 432, 435, 438, 445, 446, 453, 454, 459, 460, 462, 469, 471, 473, 482, 483, 493, 500, 502], \"y\": [11.689565018977504, 19.173121776876453, 23.267207878287792, 19.65986997094946, 24.5248542516514, 26.12992011013536, 22.48626926517629, 17.53547762385015, 5.802939958712646, 19.527550589536677, 21.732700779531452, 16.5698026915261, 15.19215973961682, 27.790350265659132, 27.28065058147091, 20.253386137286938, 28.596484276355156, 10.592196346754537, 31.49490316257756, 26.191757386261795, 19.96985741106251, 20.44948551616699, 8.108011681499459, 15.339084775697634, 18.265096770837605, 20.18109528584739, 21.455590247333145, 35.03984237828722, 14.746545916814593, -0.15668151469866842, 18.644541619344444, 24.257872862020022, 21.867363131407462, 17.040788399967376, 14.912693111278811, 16.9369947519012, 14.655241582984752, 23.660949403962857, 32.896499540687024, 24.890178085206124, 16.757822872835096, 13.054463103604197, 30.276558841291916, 20.605617579916828, 11.819276397901943, 11.32415045015637, 16.853432564781087, 23.247448043822207, 26.798176723640584, 21.805918874155854, 30.65828130444006, 33.007765157004144, 11.01918676325721, 17.487762382609294, 18.891520718218494, 23.96623955925699, 28.45124299451996, 27.321681281480647, 23.13134281102563, 26.93638121935775, 36.6517189890174, 18.714696657452613, 28.743001554420786, 16.183902162634276, 19.39625185562181, 21.74045159652352, 15.63751402728247, 24.385048516275805, 19.186149949985904, 20.201648074281714, 16.969065436594924, 28.853134851440913, 36.22528472954458, 14.645313083061952, 27.25703657243736, 31.93044488761963, 27.321177437701195, 29.01695827861439, 18.74204981602476, 20.676319864543462, 20.501841336754712, 24.432419623538053, 21.824175006150124, 28.6330155206766, 27.536339910098338, 22.199614974943582, 19.667511484628097, 24.389296473452156, 27.883855480959777, 25.637780092202902, 4.228313562754888, 30.945313698138417, 16.185418616819256, 29.706781791879415, 35.46236374430082, 15.2226316624091, 34.17096079444775, 26.920299865001116, 23.913233493603176, 27.658852337849215, 21.745612143503582, 18.775541595692772, 18.119807077650034, 28.12187792819563, 36.14320802168788, 19.186314662897793, 29.354279752685066, 22.75927526450476, 23.463684621149987, 31.58737210464262, 17.928092567002967, 22.989071544007487, 12.729618507728501, 36.008883192257954, 21.016398924180905, 25.350601963490977, 18.20090856530391, 19.176354535129075, 24.336344806232102, 14.579933670514661, 16.052038594808963, 14.49258685410298, 23.878096654447162]}, {\"mode\": \"lines+markers\", \"name\": \"SVR\", \"type\": \"scatter\", \"x\": [3, 6, 8, 25, 26, 28, 30, 31, 32, 33, 35, 36, 37, 39, 44, 47, 48, 75, 80, 85, 92, 99, 104, 105, 107, 114, 119, 120, 124, 127, 133, 141, 144, 154, 155, 156, 158, 170, 176, 184, 185, 189, 196, 198, 199, 201, 202, 208, 213, 215, 216, 230, 233, 239, 240, 243, 247, 249, 250, 253, 254, 258, 265, 268, 275, 278, 279, 282, 284, 285, 286, 290, 301, 303, 307, 320, 321, 328, 330, 335, 344, 347, 348, 351, 352, 360, 374, 379, 380, 383, 388, 394, 395, 396, 401, 408, 410, 415, 418, 420, 421, 423, 429, 430, 431, 432, 435, 438, 445, 446, 453, 454, 459, 460, 462, 469, 471, 473, 482, 483, 493, 500, 502], \"y\": [11.557577645067996, 21.44043954963757, 22.264989758728955, 19.54350266140573, 22.493246231885266, 24.23228727520302, 20.56431659002738, 18.066822277861952, 11.760911482400916, 21.210214642196316, 20.57756200716639, 16.425494146596378, 13.493941353660805, 22.99524884145668, 25.912584499653715, 19.517501298780644, 27.326147596534874, 13.700592297233355, 28.02303960372149, 25.437309202654127, 19.686888163884163, 21.87639864185191, 12.686218051354334, 16.288003599368306, 15.426971387756081, 16.523155754366623, 23.40957441436319, 28.257943516603348, 12.560598800193898, 14.393718448308377, 17.939319541449017, 23.229990650838516, 20.665691029876083, 17.902544991472805, 15.10970953488458, 17.542361966638026, 12.609877166963521, 22.805861478021235, 28.227696833820865, 24.857970569168316, 17.303016673222977, 12.831400379323615, 28.05581666375057, 21.05344670768836, 12.414751057850664, 11.834128527977722, 14.918361142779098, 20.555752626636444, 25.11245840529687, 23.102621255333126, 26.345855361895204, 27.54945710971785, 12.268529354439254, 16.41017149473459, 18.7897865869356, 23.383273703058638, 26.016608546267072, 26.4458494435491, 20.74602975367416, 25.514029892361417, 29.665103637867507, 18.216413924025318, 26.733342335810256, 16.79891678312147, 18.82525671584674, 22.441064140009665, 12.920640855986303, 24.428795220400534, 17.002367944804707, 20.028439118120524, 15.928469870398995, 26.924740656858972, 29.62890784230911, 14.075191042643207, 24.945732443611426, 28.491010804855136, 27.32119136583495, 25.992038553284196, 18.927342288425255, 18.892114570410733, 19.261701333006624, 24.226021528969493, 23.093345406588696, 26.7051645225056, 25.978730626856787, 20.92672026249803, 16.16961408743139, 23.46869932768338, 24.67104559493778, 24.431384498423974, 12.704923938899869, 27.70971130013691, 14.33308889308843, 27.467610899481464, 28.382872039159942, 13.51925032400355, 27.405231988419555, 25.47807790030454, 24.387251538906323, 26.242282136254442, 16.998626704432393, 18.68589428565819, 16.431015053611173, 26.90802392399124, 29.990782869559236, 20.52477908031995, 27.297718718439484, 21.94462395879066, 23.075573105608683, 26.54406882593545, 19.499103577453702, 21.050315719618307, 11.725188747498677, 29.606665363041216, 20.240768063424678, 24.356170258759434, 16.037319530368507, 14.838939653429076, 23.660291226524663, 15.78380002209105, 17.301699624156655, 12.813266500026547, 23.53832091858206]}, {\"mode\": \"lines+markers\", \"name\": \"KNeighborsReg\", \"type\": \"scatter\", \"x\": [3, 6, 8, 25, 26, 28, 30, 31, 32, 33, 35, 36, 37, 39, 44, 47, 48, 75, 80, 85, 92, 99, 104, 105, 107, 114, 119, 120, 124, 127, 133, 141, 144, 154, 155, 156, 158, 170, 176, 184, 185, 189, 196, 198, 199, 201, 202, 208, 213, 215, 216, 230, 233, 239, 240, 243, 247, 249, 250, 253, 254, 258, 265, 268, 275, 278, 279, 282, 284, 285, 286, 290, 301, 303, 307, 320, 321, 328, 330, 335, 344, 347, 348, 351, 352, 360, 374, 379, 380, 383, 388, 394, 395, 396, 401, 408, 410, 415, 418, 420, 421, 423, 429, 430, 431, 432, 435, 438, 445, 446, 453, 454, 459, 460, 462, 469, 471, 473, 482, 483, 493, 500, 502], \"y\": [8.74, 19.8, 21.84, 20.26, 20.82, 23.02, 21.0, 15.66, 7.08, 20.6, 19.699999999999996, 17.880000000000003, 16.66, 22.200000000000003, 26.660000000000004, 21.440000000000005, 26.54, 15.040000000000001, 29.160000000000004, 24.059999999999995, 20.8, 21.779999999999998, 10.66, 16.3, 16.48, 16.18, 20.619999999999997, 42.32, 11.879999999999999, 10.66, 14.64, 24.18, 19.699999999999996, 16.1, 17.18, 17.939999999999998, 11.879999999999999, 21.939999999999998, 30.76, 27.18, 14.1, 10.580000000000002, 35.1, 19.339999999999996, 10.059999999999999, 8.58, 17.14, 20.6, 23.84, 19.4, 32.42, 34.760000000000005, 10.280000000000001, 21.259999999999998, 20.1, 25.419999999999998, 25.02, 26.0, 21.419999999999998, 25.939999999999998, 40.6, 18.68, 25.919999999999998, 16.02, 20.1, 22.96, 11.9, 23.04, 16.02, 20.8, 14.26, 28.48, 41.18, 12.42, 27.8, 34.64, 27.139999999999997, 23.44, 20.240000000000002, 19.5, 19.92, 22.7, 21.419999999999998, 26.22, 28.040000000000003, 19.78, 20.2, 23.54, 24.880000000000003, 22.559999999999995, 10.66, 33.1, 15.219999999999999, 34.08, 37.760000000000005, 13.74, 36.82000000000001, 25.499999999999996, 22.98, 26.439999999999998, 14.720000000000002, 18.32, 15.959999999999999, 31.02, 40.64, 18.9, 34.040000000000006, 21.18, 22.56, 25.060000000000002, 19.18, 20.22, 7.68, 41.18, 22.72, 22.639999999999997, 14.66, 17.020000000000003, 21.44, 16.3, 18.18, 11.12, 21.64]}, {\"mode\": \"lines+markers\", \"name\": \"PLSReg\", \"type\": \"scatter\", \"x\": [3, 6, 8, 25, 26, 28, 30, 31, 32, 33, 35, 36, 37, 39, 44, 47, 48, 75, 80, 85, 92, 99, 104, 105, 107, 114, 119, 120, 124, 127, 133, 141, 144, 154, 155, 156, 158, 170, 176, 184, 185, 189, 196, 198, 199, 201, 202, 208, 213, 215, 216, 230, 233, 239, 240, 243, 247, 249, 250, 253, 254, 258, 265, 268, 275, 278, 279, 282, 284, 285, 286, 290, 301, 303, 307, 320, 321, 328, 330, 335, 344, 347, 348, 351, 352, 360, 374, 379, 380, 383, 388, 394, 395, 396, 401, 408, 410, 415, 418, 420, 421, 423, 429, 430, 431, 432, 435, 438, 445, 446, 453, 454, 459, 460, 462, 469, 471, 473, 482, 483, 493, 500, 502], \"y\": [12.258519355969705, 18.754538399198925, 23.30007834752982, 19.51545604715463, 24.75177468947539, 25.911418426073784, 22.654761134933892, 17.21832374835246, 6.098505868376826, 19.23631647786049, 21.566460785090563, 16.578280035324106, 16.247964077196634, 28.196620694246484, 27.261852083269005, 20.17771552744595, 28.587396987252177, 10.921635488925467, 31.608286898450807, 26.055549172285307, 20.076116925058727, 20.03151635474968, 8.712603593821495, 15.263784858631587, 18.27831792728339, 20.234273150898723, 20.746172635933767, 35.13074384366568, 15.027676103366826, 0.43006681395900515, 18.398498680075345, 24.21635369940873, 21.70036921828691, 16.882277267918653, 14.951714572974515, 16.81502535801791, 14.842704329042423, 23.609404219842943, 33.13279594737908, 24.875073450933225, 16.469359570346086, 13.314776980601938, 30.13885167760121, 20.50720070785308, 12.814443776927753, 11.718194592083563, 16.87286112010073, 23.56604810523489, 26.740158353321945, 21.47197548623777, 30.768612485067738, 33.19469634334444, 11.124894097473787, 17.58231157609736, 18.818941202726627, 23.994048711066483, 28.595226627873487, 27.404477106388377, 22.997660080208615, 26.944461828569587, 37.07973201193214, 18.65332301913808, 28.781276553971527, 15.948641599013094, 19.337780310093574, 21.570485775095168, 15.820905386630127, 24.136952982521308, 19.07620620949283, 20.21290532336456, 16.81499647442835, 28.682940132746886, 36.49807092754172, 14.667251102113173, 27.253851884350695, 32.07874407454609, 27.146971765437176, 29.33407144253127, 18.578410590003823, 20.847391071823797, 20.406737799896426, 24.210891541094277, 21.59144349217999, 28.851462874284497, 27.43015863458686, 22.329540290733654, 20.16450272770012, 24.38935429096076, 28.161359182407537, 25.616933196505133, 4.804228525382385, 31.02929078387881, 16.2419414474751, 29.498169568507592, 36.0187734949615, 15.368808019145892, 34.25205577537136, 26.855708475878146, 23.84956883299405, 27.609596556860055, 21.78450890352957, 18.466939433549218, 18.03591898269293, 27.98651479419891, 36.24007379342848, 18.94709344317168, 29.241535758438214, 22.81865148155399, 23.389890043819292, 31.98766755562587, 17.650502884307897, 23.190565608628475, 13.27717471155086, 36.22168825133144, 20.84659568338091, 25.41930263328217, 18.305454818612372, 19.47929544275488, 24.370141585585326, 14.39743170512768, 15.782906891947382, 14.79044958702389, 23.939355139456957]}, {\"mode\": \"lines+markers\", \"name\": \"DecTreeReg\", \"type\": \"scatter\", \"x\": [3, 6, 8, 25, 26, 28, 30, 31, 32, 33, 35, 36, 37, 39, 44, 47, 48, 75, 80, 85, 92, 99, 104, 105, 107, 114, 119, 120, 124, 127, 133, 141, 144, 154, 155, 156, 158, 170, 176, 184, 185, 189, 196, 198, 199, 201, 202, 208, 213, 215, 216, 230, 233, 239, 240, 243, 247, 249, 250, 253, 254, 258, 265, 268, 275, 278, 279, 282, 284, 285, 286, 290, 301, 303, 307, 320, 321, 328, 330, 335, 344, 347, 348, 351, 352, 360, 374, 379, 380, 383, 388, 394, 395, 396, 401, 408, 410, 415, 418, 420, 421, 423, 429, 430, 431, 432, 435, 438, 445, 446, 453, 454, 459, 460, 462, 469, 471, 473, 482, 483, 493, 500, 502], \"y\": [19.1, 18.2, 20.8, 19.6, 18.9, 26.6, 21.4, 17.7, 10.5, 18.2, 19.4, 11.7, 23.7, 24.8, 24.2, 23.0, 23.7, 14.6, 37.2, 24.8, 19.3, 20.7, 7.4, 11.7, 14.1, 26.6, 20.7, 44.8, 8.3, 11.9, 14.3, 21.6, 19.4, 10.2, 13.8, 10.2, 8.7, 20.6, 37.9, 19.3, 13.5, 14.5, 33.1, 18.3, 19.4, 19.5, 23.2, 21.2, 27.9, 11.9, 33.4, 33.2, 11.3, 21.5, 23.8, 19.4, 27.1, 22.1, 26.6, 24.4, 41.3, 19.3, 28.6, 15.1, 21.2, 24.7, 8.4, 22.0, 15.2, 19.3, 14.9, 33.1, 44.0, 11.0, 28.7, 31.6, 20.3, 22.3, 18.2, 21.7, 19.8, 22.0, 24.7, 22.9, 27.9, 19.1, 20.3, 24.1, 24.8, 22.2, 13.8, 32.9, 12.1, 34.9, 32.7, 13.1, 43.8, 27.9, 23.4, 28.4, 15.0, 21.7, 17.1, 28.4, 43.1, 18.3, 33.1, 24.0, 36.2, 24.8, 15.6, 10.9, 6.3, 44.0, 23.2, 22.2, 15.2, 27.5, 24.0, 15.6, 15.6, 12.0, 21.1]}, {\"mode\": \"lines+markers\", \"name\": \"RandomForest\", \"type\": \"scatter\", \"x\": [3, 6, 8, 25, 26, 28, 30, 31, 32, 33, 35, 36, 37, 39, 44, 47, 48, 75, 80, 85, 92, 99, 104, 105, 107, 114, 119, 120, 124, 127, 133, 141, 144, 154, 155, 156, 158, 170, 176, 184, 185, 189, 196, 198, 199, 201, 202, 208, 213, 215, 216, 230, 233, 239, 240, 243, 247, 249, 250, 253, 254, 258, 265, 268, 275, 278, 279, 282, 284, 285, 286, 290, 301, 303, 307, 320, 321, 328, 330, 335, 344, 347, 348, 351, 352, 360, 374, 379, 380, 383, 388, 394, 395, 396, 401, 408, 410, 415, 418, 420, 421, 423, 429, 430, 431, 432, 435, 438, 445, 446, 453, 454, 459, 460, 462, 469, 471, 473, 482, 483, 493, 500, 502], \"y\": [15.206999999999994, 20.166, 21.862999999999996, 20.841000000000005, 19.908000000000005, 27.291000000000007, 22.658000000000012, 16.491, 8.291999999999998, 19.18100000000001, 18.546999999999997, 17.417, 19.051000000000013, 26.333999999999982, 24.46400000000001, 21.55300000000002, 24.772999999999993, 14.837999999999983, 33.57499999999998, 24.524000000000004, 19.874999999999996, 19.498000000000015, 8.259999999999996, 15.108999999999998, 15.257000000000016, 19.389000000000014, 20.783000000000012, 43.356, 9.985999999999997, 11.772999999999989, 15.434000000000003, 24.308999999999987, 18.402, 18.236000000000004, 14.97399999999999, 17.230999999999998, 10.735999999999997, 21.832999999999988, 34.915, 22.143999999999995, 14.921999999999999, 14.788999999999993, 33.056, 20.951, 20.87900000000001, 15.762000000000002, 14.193000000000001, 21.108000000000015, 26.398000000000014, 19.36000000000001, 34.41700000000001, 33.556, 10.20499999999999, 21.051000000000002, 20.794999999999995, 22.240000000000006, 27.790999999999986, 23.48100000000001, 23.548, 24.031999999999996, 35.02500000000001, 19.79799999999998, 28.604999999999976, 14.761999999999992, 21.28, 22.445999999999994, 10.797999999999993, 23.517000000000007, 14.624000000000006, 18.882000000000005, 15.078999999999997, 30.09899999999998, 44.00599999999999, 11.186999999999998, 28.68599999999999, 32.20499999999998, 23.016, 23.121000000000013, 19.897000000000006, 21.017000000000017, 20.305000000000003, 23.597999999999992, 21.843999999999998, 23.637000000000004, 26.925000000000015, 20.426000000000002, 20.37100000000001, 22.864999999999995, 26.403999999999993, 23.04699999999999, 12.412999999999997, 32.477, 11.872000000000005, 33.608999999999995, 33.409, 12.560999999999988, 40.087999999999994, 26.80600000000003, 20.64300000000001, 26.88600000000002, 19.321000000000016, 20.355000000000015, 14.53999999999999, 27.892000000000017, 41.21699999999999, 19.35, 32.62699999999999, 21.387000000000004, 27.066999999999993, 29.975, 17.79799999999999, 19.79, 8.106000000000002, 44.12700000000001, 21.450999999999993, 25.533999999999995, 16.465000000000003, 23.793000000000003, 21.942000000000007, 15.304999999999998, 16.717999999999996, 12.726999999999991, 21.227000000000004]}, {\"mode\": \"lines+markers\", \"name\": \"VotingReg\", \"type\": \"scatter\", \"x\": [3, 6, 8, 25, 26, 28, 30, 31, 32, 33, 35, 36, 37, 39, 44, 47, 48, 75, 80, 85, 92, 99, 104, 105, 107, 114, 119, 120, 124, 127, 133, 141, 144, 154, 155, 156, 158, 170, 176, 184, 185, 189, 196, 198, 199, 201, 202, 208, 213, 215, 216, 230, 233, 239, 240, 243, 247, 249, 250, 253, 254, 258, 265, 268, 275, 278, 279, 282, 284, 285, 286, 290, 301, 303, 307, 320, 321, 328, 330, 335, 344, 347, 348, 351, 352, 360, 374, 379, 380, 383, 388, 394, 395, 396, 401, 408, 410, 415, 418, 420, 421, 423, 429, 430, 431, 432, 435, 438, 445, 446, 453, 454, 459, 460, 462, 469, 471, 473, 482, 483, 493, 500, 502], \"y\": [13.100782509488747, 19.73106088843823, 22.568603939143898, 20.192434985474733, 22.258927125825714, 26.492960055067677, 22.454634632588153, 16.807738811925073, 7.05596997935632, 19.29777529476835, 20.084850389765723, 17.02040134576305, 17.196079869808415, 27.14167513282957, 25.82882529073546, 21.00869306864348, 26.78824213817758, 12.76009817337726, 32.38895158128878, 25.261378693130904, 19.937428705531254, 20.3812427580835, 8.031505840749729, 14.946542387848815, 16.69054838541881, 19.2715476429237, 21.318795123666572, 39.50792118914362, 12.155272958407295, 5.70365924265066, 17.118770809672224, 24.44743643101001, 20.403681565703728, 17.25239419998369, 15.0518465556394, 17.0464973759506, 12.585120791492376, 22.769974701981422, 34.01474977034351, 23.420589042603062, 15.751911436417547, 13.931731551802095, 31.602779420645952, 20.661308789958415, 16.17813819895098, 13.11757522507818, 15.667716282390543, 22.276224021911105, 26.607088361820303, 20.75195943707793, 32.36864065222002, 33.049382578502076, 10.5070933816286, 19.16888119130465, 19.770760359109243, 23.5321197796285, 27.78662149725998, 25.29284064074032, 23.383671405512814, 25.510690609678868, 35.912359494508706, 19.292848328726297, 28.495500777210392, 15.498951081317134, 20.09812592781091, 22.229725798261764, 13.317257013641235, 23.880024258137897, 16.893074974992956, 19.601324037140856, 15.962532718297465, 29.594067425720453, 39.902142364772295, 12.915156541530976, 27.772518286218677, 31.70672244380981, 25.351588718850593, 26.0384791393072, 19.42752490801238, 20.758159932271738, 20.427920668377354, 24.147209811769024, 21.876587503075065, 26.06300776033831, 27.378669955049173, 21.357307487471793, 19.87225574231405, 23.814148236726073, 27.092927740479894, 24.52989004610145, 7.97265678137744, 31.75365684906921, 13.967709308409628, 31.863890895939715, 34.37268187215041, 13.935815831204547, 37.07448039722388, 26.898149932500573, 22.37861674680159, 27.529926168924618, 20.103806071751798, 19.4857707978464, 16.393403538825016, 27.93293896409782, 38.515604010843944, 19.392157331448896, 30.79663987634253, 21.825137632252385, 25.89734231057499, 30.876186052321316, 17.63404628350148, 21.531535772003743, 10.351309253864251, 39.57194159612898, 21.209699462090455, 25.027800981745486, 17.333454282651953, 21.580177267564537, 22.87217240311606, 14.881966835257327, 16.31301929740448, 13.662293427051488, 22.57404832722358]}, {\"mode\": \"lines+markers\", \"name\": \"MLPReg\", \"type\": \"scatter\", \"x\": [3, 6, 8, 25, 26, 28, 30, 31, 32, 33, 35, 36, 37, 39, 44, 47, 48, 75, 80, 85, 92, 99, 104, 105, 107, 114, 119, 120, 124, 127, 133, 141, 144, 154, 155, 156, 158, 170, 176, 184, 185, 189, 196, 198, 199, 201, 202, 208, 213, 215, 216, 230, 233, 239, 240, 243, 247, 249, 250, 253, 254, 258, 265, 268, 275, 278, 279, 282, 284, 285, 286, 290, 301, 303, 307, 320, 321, 328, 330, 335, 344, 347, 348, 351, 352, 360, 374, 379, 380, 383, 388, 394, 395, 396, 401, 408, 410, 415, 418, 420, 421, 423, 429, 430, 431, 432, 435, 438, 445, 446, 453, 454, 459, 460, 462, 469, 471, 473, 482, 483, 493, 500, 502], \"y\": [12.619514731918201, 19.439785033791832, 21.363432722312663, 19.886877663340254, 22.043594845599483, 27.077370305450366, 20.177363416142942, 18.072619369627645, 10.119310514998462, 19.352885660411275, 21.17354517057524, 16.40940111768863, 15.058739412860014, 27.077915652149432, 26.32128287319995, 19.808283834658265, 27.622530660729993, 11.45258085936759, 32.27832849394521, 25.441388624020437, 16.83733021542786, 21.39449020872355, 12.788314749699786, 15.413001358592087, 18.315829246129162, 20.57414440415747, 22.966007375386805, 40.28284614155696, 14.086318997129382, 8.64784016329295, 19.14771911873495, 22.93038801645371, 21.3770784243855, 16.762034918569366, 14.789820991030782, 17.161550182649858, 14.367973218243826, 22.242544666485454, 34.00909033572754, 22.15401510838441, 17.23305049939286, 12.5370897451626, 32.19259960748599, 19.15508459393563, 12.223259040710225, 11.8782381238009, 16.733686484579245, 20.56156268430485, 26.346781934766177, 21.704917443395296, 32.24359921011715, 35.03712057598757, 11.456179641389285, 15.825994279686832, 17.56206367849629, 21.61534349699893, 27.45951798284008, 24.984215665353883, 23.835390624975528, 25.80130700698417, 38.33290571551953, 18.767576489161097, 28.228833333213185, 16.44607551182562, 18.178690526023875, 20.433877334610163, 15.348746265414674, 23.62924323070164, 19.486271171043168, 17.469525334361425, 17.33610335872959, 30.75488435511124, 39.381683413812794, 14.334123103326355, 27.15428765066312, 32.28672239527434, 26.148325772025043, 27.292107175265226, 19.119786616947046, 18.220696787780415, 20.861116289910928, 23.643762418850397, 20.60322797878251, 26.4182613749134, 27.70856153793435, 19.511344329676692, 16.11353588760108, 22.584192618803858, 26.643196821398433, 24.43074834635966, 10.451275461083522, 31.789084030428963, 15.95157075285988, 32.373293083499384, 36.23207625384302, 14.68355143915151, 39.48735451229529, 26.342551198444458, 21.339806844922467, 27.116170117674113, 23.468545191825083, 19.360766997772753, 18.244877384059922, 28.485554544216857, 39.75255843587762, 18.236236465370798, 30.494896913529935, 20.27631975773132, 21.657558185639182, 31.54562426776296, 15.176510457384628, 20.34330274293156, 13.889095742755735, 39.523157273371915, 20.967772660493413, 23.266559558853643, 17.58998606954642, 18.408450304633853, 22.11962302985319, 15.319630439829144, 16.997589506565348, 13.534820978583054, 21.02733617471472]}],\n",
              "                        {\"template\": {\"data\": {\"bar\": [{\"error_x\": {\"color\": \"#2a3f5f\"}, \"error_y\": {\"color\": \"#2a3f5f\"}, \"marker\": {\"line\": {\"color\": \"#E5ECF6\", \"width\": 0.5}}, \"type\": \"bar\"}], \"barpolar\": [{\"marker\": {\"line\": {\"color\": \"#E5ECF6\", \"width\": 0.5}}, \"type\": \"barpolar\"}], \"carpet\": [{\"aaxis\": {\"endlinecolor\": \"#2a3f5f\", \"gridcolor\": \"white\", \"linecolor\": \"white\", \"minorgridcolor\": \"white\", \"startlinecolor\": \"#2a3f5f\"}, \"baxis\": {\"endlinecolor\": \"#2a3f5f\", \"gridcolor\": \"white\", \"linecolor\": \"white\", \"minorgridcolor\": \"white\", \"startlinecolor\": \"#2a3f5f\"}, \"type\": \"carpet\"}], \"choropleth\": [{\"colorbar\": {\"outlinewidth\": 0, \"ticks\": \"\"}, \"type\": \"choropleth\"}], \"contour\": [{\"colorbar\": {\"outlinewidth\": 0, \"ticks\": \"\"}, \"colorscale\": [[0.0, \"#0d0887\"], [0.1111111111111111, \"#46039f\"], [0.2222222222222222, \"#7201a8\"], [0.3333333333333333, \"#9c179e\"], [0.4444444444444444, \"#bd3786\"], [0.5555555555555556, \"#d8576b\"], [0.6666666666666666, \"#ed7953\"], [0.7777777777777778, \"#fb9f3a\"], [0.8888888888888888, \"#fdca26\"], [1.0, \"#f0f921\"]], \"type\": \"contour\"}], \"contourcarpet\": [{\"colorbar\": {\"outlinewidth\": 0, \"ticks\": \"\"}, \"type\": \"contourcarpet\"}], \"heatmap\": [{\"colorbar\": {\"outlinewidth\": 0, \"ticks\": \"\"}, \"colorscale\": [[0.0, \"#0d0887\"], [0.1111111111111111, \"#46039f\"], [0.2222222222222222, \"#7201a8\"], [0.3333333333333333, \"#9c179e\"], [0.4444444444444444, \"#bd3786\"], [0.5555555555555556, \"#d8576b\"], [0.6666666666666666, \"#ed7953\"], [0.7777777777777778, \"#fb9f3a\"], [0.8888888888888888, \"#fdca26\"], [1.0, \"#f0f921\"]], \"type\": \"heatmap\"}], \"heatmapgl\": [{\"colorbar\": {\"outlinewidth\": 0, \"ticks\": \"\"}, \"colorscale\": [[0.0, \"#0d0887\"], [0.1111111111111111, \"#46039f\"], [0.2222222222222222, \"#7201a8\"], [0.3333333333333333, \"#9c179e\"], [0.4444444444444444, \"#bd3786\"], [0.5555555555555556, \"#d8576b\"], [0.6666666666666666, \"#ed7953\"], [0.7777777777777778, \"#fb9f3a\"], [0.8888888888888888, \"#fdca26\"], [1.0, \"#f0f921\"]], \"type\": \"heatmapgl\"}], \"histogram\": [{\"marker\": {\"colorbar\": {\"outlinewidth\": 0, \"ticks\": \"\"}}, \"type\": \"histogram\"}], \"histogram2d\": [{\"colorbar\": {\"outlinewidth\": 0, \"ticks\": \"\"}, \"colorscale\": [[0.0, \"#0d0887\"], [0.1111111111111111, \"#46039f\"], [0.2222222222222222, \"#7201a8\"], [0.3333333333333333, \"#9c179e\"], [0.4444444444444444, \"#bd3786\"], [0.5555555555555556, \"#d8576b\"], [0.6666666666666666, \"#ed7953\"], [0.7777777777777778, \"#fb9f3a\"], [0.8888888888888888, \"#fdca26\"], [1.0, \"#f0f921\"]], \"type\": \"histogram2d\"}], \"histogram2dcontour\": [{\"colorbar\": {\"outlinewidth\": 0, \"ticks\": \"\"}, \"colorscale\": [[0.0, \"#0d0887\"], [0.1111111111111111, \"#46039f\"], [0.2222222222222222, \"#7201a8\"], [0.3333333333333333, \"#9c179e\"], [0.4444444444444444, \"#bd3786\"], [0.5555555555555556, \"#d8576b\"], [0.6666666666666666, \"#ed7953\"], [0.7777777777777778, \"#fb9f3a\"], [0.8888888888888888, \"#fdca26\"], [1.0, \"#f0f921\"]], \"type\": \"histogram2dcontour\"}], \"mesh3d\": [{\"colorbar\": {\"outlinewidth\": 0, \"ticks\": \"\"}, \"type\": \"mesh3d\"}], \"parcoords\": [{\"line\": {\"colorbar\": {\"outlinewidth\": 0, \"ticks\": \"\"}}, \"type\": \"parcoords\"}], \"pie\": [{\"automargin\": true, \"type\": \"pie\"}], \"scatter\": [{\"marker\": {\"colorbar\": {\"outlinewidth\": 0, \"ticks\": \"\"}}, \"type\": \"scatter\"}], \"scatter3d\": [{\"line\": {\"colorbar\": {\"outlinewidth\": 0, \"ticks\": \"\"}}, \"marker\": {\"colorbar\": {\"outlinewidth\": 0, \"ticks\": \"\"}}, \"type\": \"scatter3d\"}], \"scattercarpet\": [{\"marker\": {\"colorbar\": {\"outlinewidth\": 0, \"ticks\": \"\"}}, \"type\": \"scattercarpet\"}], \"scattergeo\": [{\"marker\": {\"colorbar\": {\"outlinewidth\": 0, \"ticks\": \"\"}}, \"type\": \"scattergeo\"}], \"scattergl\": [{\"marker\": {\"colorbar\": {\"outlinewidth\": 0, \"ticks\": \"\"}}, \"type\": \"scattergl\"}], \"scattermapbox\": [{\"marker\": {\"colorbar\": {\"outlinewidth\": 0, \"ticks\": \"\"}}, \"type\": \"scattermapbox\"}], \"scatterpolar\": [{\"marker\": {\"colorbar\": {\"outlinewidth\": 0, \"ticks\": \"\"}}, \"type\": \"scatterpolar\"}], \"scatterpolargl\": [{\"marker\": {\"colorbar\": {\"outlinewidth\": 0, \"ticks\": \"\"}}, \"type\": \"scatterpolargl\"}], \"scatterternary\": [{\"marker\": {\"colorbar\": {\"outlinewidth\": 0, \"ticks\": \"\"}}, \"type\": \"scatterternary\"}], \"surface\": [{\"colorbar\": {\"outlinewidth\": 0, \"ticks\": \"\"}, \"colorscale\": [[0.0, \"#0d0887\"], [0.1111111111111111, \"#46039f\"], [0.2222222222222222, \"#7201a8\"], [0.3333333333333333, \"#9c179e\"], [0.4444444444444444, \"#bd3786\"], [0.5555555555555556, \"#d8576b\"], [0.6666666666666666, \"#ed7953\"], [0.7777777777777778, \"#fb9f3a\"], [0.8888888888888888, \"#fdca26\"], [1.0, \"#f0f921\"]], \"type\": \"surface\"}], \"table\": [{\"cells\": {\"fill\": {\"color\": \"#EBF0F8\"}, \"line\": {\"color\": \"white\"}}, \"header\": {\"fill\": {\"color\": \"#C8D4E3\"}, \"line\": {\"color\": \"white\"}}, \"type\": \"table\"}]}, \"layout\": {\"annotationdefaults\": {\"arrowcolor\": \"#2a3f5f\", \"arrowhead\": 0, \"arrowwidth\": 1}, \"coloraxis\": {\"colorbar\": {\"outlinewidth\": 0, \"ticks\": \"\"}}, \"colorscale\": {\"diverging\": [[0, \"#8e0152\"], [0.1, \"#c51b7d\"], [0.2, \"#de77ae\"], [0.3, \"#f1b6da\"], [0.4, \"#fde0ef\"], [0.5, \"#f7f7f7\"], [0.6, \"#e6f5d0\"], [0.7, \"#b8e186\"], [0.8, \"#7fbc41\"], [0.9, \"#4d9221\"], [1, \"#276419\"]], \"sequential\": [[0.0, \"#0d0887\"], [0.1111111111111111, \"#46039f\"], [0.2222222222222222, \"#7201a8\"], [0.3333333333333333, \"#9c179e\"], [0.4444444444444444, \"#bd3786\"], [0.5555555555555556, \"#d8576b\"], [0.6666666666666666, \"#ed7953\"], [0.7777777777777778, \"#fb9f3a\"], [0.8888888888888888, \"#fdca26\"], [1.0, \"#f0f921\"]], \"sequentialminus\": [[0.0, \"#0d0887\"], [0.1111111111111111, \"#46039f\"], [0.2222222222222222, \"#7201a8\"], [0.3333333333333333, \"#9c179e\"], [0.4444444444444444, \"#bd3786\"], [0.5555555555555556, \"#d8576b\"], [0.6666666666666666, \"#ed7953\"], [0.7777777777777778, \"#fb9f3a\"], [0.8888888888888888, \"#fdca26\"], [1.0, \"#f0f921\"]]}, \"colorway\": [\"#636efa\", \"#EF553B\", \"#00cc96\", \"#ab63fa\", \"#FFA15A\", \"#19d3f3\", \"#FF6692\", \"#B6E880\", \"#FF97FF\", \"#FECB52\"], \"font\": {\"color\": \"#2a3f5f\"}, \"geo\": {\"bgcolor\": \"white\", \"lakecolor\": \"white\", \"landcolor\": \"#E5ECF6\", \"showlakes\": true, \"showland\": true, \"subunitcolor\": \"white\"}, \"hoverlabel\": {\"align\": \"left\"}, \"hovermode\": \"closest\", \"mapbox\": {\"style\": \"light\"}, \"paper_bgcolor\": \"white\", \"plot_bgcolor\": \"#E5ECF6\", \"polar\": {\"angularaxis\": {\"gridcolor\": \"white\", \"linecolor\": \"white\", \"ticks\": \"\"}, \"bgcolor\": \"#E5ECF6\", \"radialaxis\": {\"gridcolor\": \"white\", \"linecolor\": \"white\", \"ticks\": \"\"}}, \"scene\": {\"xaxis\": {\"backgroundcolor\": \"#E5ECF6\", \"gridcolor\": \"white\", \"gridwidth\": 2, \"linecolor\": \"white\", \"showbackground\": true, \"ticks\": \"\", \"zerolinecolor\": \"white\"}, \"yaxis\": {\"backgroundcolor\": \"#E5ECF6\", \"gridcolor\": \"white\", \"gridwidth\": 2, \"linecolor\": \"white\", \"showbackground\": true, \"ticks\": \"\", \"zerolinecolor\": \"white\"}, \"zaxis\": {\"backgroundcolor\": \"#E5ECF6\", \"gridcolor\": \"white\", \"gridwidth\": 2, \"linecolor\": \"white\", \"showbackground\": true, \"ticks\": \"\", \"zerolinecolor\": \"white\"}}, \"shapedefaults\": {\"line\": {\"color\": \"#2a3f5f\"}}, \"ternary\": {\"aaxis\": {\"gridcolor\": \"white\", \"linecolor\": \"white\", \"ticks\": \"\"}, \"baxis\": {\"gridcolor\": \"white\", \"linecolor\": \"white\", \"ticks\": \"\"}, \"bgcolor\": \"#E5ECF6\", \"caxis\": {\"gridcolor\": \"white\", \"linecolor\": \"white\", \"ticks\": \"\"}}, \"title\": {\"x\": 0.05}, \"xaxis\": {\"automargin\": true, \"gridcolor\": \"white\", \"linecolor\": \"white\", \"ticks\": \"\", \"title\": {\"standoff\": 15}, \"zerolinecolor\": \"white\", \"zerolinewidth\": 2}, \"yaxis\": {\"automargin\": true, \"gridcolor\": \"white\", \"linecolor\": \"white\", \"ticks\": \"\", \"title\": {\"standoff\": 15}, \"zerolinecolor\": \"white\", \"zerolinewidth\": 2}}}},\n",
              "                        {\"responsive\": true}\n",
              "                    ).then(function(){\n",
              "                            \n",
              "var gd = document.getElementById('87049d8f-441e-4436-a899-1409fbf2d4f5');\n",
              "var x = new MutationObserver(function (mutations, observer) {{\n",
              "        var display = window.getComputedStyle(gd).display;\n",
              "        if (!display || display === 'none') {{\n",
              "            console.log([gd, 'removed!']);\n",
              "            Plotly.purge(gd);\n",
              "            observer.disconnect();\n",
              "        }}\n",
              "}});\n",
              "\n",
              "// Listen for the removal of the full notebook cells\n",
              "var notebookContainer = gd.closest('#notebook-container');\n",
              "if (notebookContainer) {{\n",
              "    x.observe(notebookContainer, {childList: true});\n",
              "}}\n",
              "\n",
              "// Listen for the clearing of the current output cell\n",
              "var outputEl = gd.closest('.output');\n",
              "if (outputEl) {{\n",
              "    x.observe(outputEl, {childList: true});\n",
              "}}\n",
              "\n",
              "                        })\n",
              "                };\n",
              "                \n",
              "            </script>\n",
              "        </div>\n",
              "</body>\n",
              "</html>"
            ]
          },
          "metadata": {
            "tags": []
          }
        }
      ]
    },
    {
      "cell_type": "code",
      "metadata": {
        "id": "jVp73hd7uFU_",
        "colab_type": "code",
        "colab": {}
      },
      "source": [
        ""
      ],
      "execution_count": 0,
      "outputs": []
    }
  ]
}